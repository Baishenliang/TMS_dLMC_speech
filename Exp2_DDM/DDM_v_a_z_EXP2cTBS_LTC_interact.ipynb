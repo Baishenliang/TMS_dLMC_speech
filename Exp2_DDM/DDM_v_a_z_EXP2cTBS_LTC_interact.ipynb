{
 "cells": [
  {
   "cell_type": "markdown",
   "metadata": {},
   "source": [
    "# TBS"
   ]
  },
  {
   "cell_type": "markdown",
   "metadata": {},
   "source": [
    "## preparing"
   ]
  },
  {
   "cell_type": "code",
   "execution_count": 17,
   "metadata": {},
   "outputs": [],
   "source": [
    "import pandas as pd\n",
    "import matplotlib.pyplot as plt\n",
    "import hddm\n",
    "import numpy as np\n",
    "import pickle\n",
    "from patsy import dmatrices, dmatrix, demo_data\n",
    "cm = 1/2.54"
   ]
  },
  {
   "cell_type": "markdown",
   "metadata": {},
   "source": [
    "## loading data"
   ]
  },
  {
   "cell_type": "code",
   "execution_count": 2,
   "metadata": {},
   "outputs": [
    {
     "data": {
      "text/html": [
       "<div>\n",
       "<style scoped>\n",
       "    .dataframe tbody tr th:only-of-type {\n",
       "        vertical-align: middle;\n",
       "    }\n",
       "\n",
       "    .dataframe tbody tr th {\n",
       "        vertical-align: top;\n",
       "    }\n",
       "\n",
       "    .dataframe thead th {\n",
       "        text-align: right;\n",
       "    }\n",
       "</style>\n",
       "<table border=\"1\" class=\"dataframe\">\n",
       "  <thead>\n",
       "    <tr style=\"text-align: right;\">\n",
       "      <th></th>\n",
       "      <th>subj_idx</th>\n",
       "      <th>group_idx</th>\n",
       "      <th>turn_type</th>\n",
       "      <th>task_type</th>\n",
       "      <th>snr_type</th>\n",
       "      <th>trial_num</th>\n",
       "      <th>step_att</th>\n",
       "      <th>response</th>\n",
       "      <th>rt</th>\n",
       "      <th>step_unatnd</th>\n",
       "    </tr>\n",
       "  </thead>\n",
       "  <tbody>\n",
       "    <tr>\n",
       "      <th>0</th>\n",
       "      <td>55</td>\n",
       "      <td>Larynx</td>\n",
       "      <td>Left iTBS</td>\n",
       "      <td>Tone</td>\n",
       "      <td>Clear</td>\n",
       "      <td>1</td>\n",
       "      <td>3</td>\n",
       "      <td>1</td>\n",
       "      <td>1.083317</td>\n",
       "      <td>1</td>\n",
       "    </tr>\n",
       "    <tr>\n",
       "      <th>1</th>\n",
       "      <td>55</td>\n",
       "      <td>Larynx</td>\n",
       "      <td>Left iTBS</td>\n",
       "      <td>Tone</td>\n",
       "      <td>Clear</td>\n",
       "      <td>2</td>\n",
       "      <td>2</td>\n",
       "      <td>1</td>\n",
       "      <td>0.744397</td>\n",
       "      <td>1</td>\n",
       "    </tr>\n",
       "    <tr>\n",
       "      <th>2</th>\n",
       "      <td>55</td>\n",
       "      <td>Larynx</td>\n",
       "      <td>Left iTBS</td>\n",
       "      <td>Tone</td>\n",
       "      <td>Clear</td>\n",
       "      <td>3</td>\n",
       "      <td>2</td>\n",
       "      <td>1</td>\n",
       "      <td>0.732525</td>\n",
       "      <td>1</td>\n",
       "    </tr>\n",
       "    <tr>\n",
       "      <th>3</th>\n",
       "      <td>55</td>\n",
       "      <td>Larynx</td>\n",
       "      <td>Left iTBS</td>\n",
       "      <td>Tone</td>\n",
       "      <td>Clear</td>\n",
       "      <td>4</td>\n",
       "      <td>1</td>\n",
       "      <td>1</td>\n",
       "      <td>0.800199</td>\n",
       "      <td>1</td>\n",
       "    </tr>\n",
       "    <tr>\n",
       "      <th>4</th>\n",
       "      <td>55</td>\n",
       "      <td>Larynx</td>\n",
       "      <td>Left iTBS</td>\n",
       "      <td>Tone</td>\n",
       "      <td>Clear</td>\n",
       "      <td>5</td>\n",
       "      <td>2</td>\n",
       "      <td>1</td>\n",
       "      <td>0.753649</td>\n",
       "      <td>1</td>\n",
       "    </tr>\n",
       "    <tr>\n",
       "      <th>5</th>\n",
       "      <td>55</td>\n",
       "      <td>Larynx</td>\n",
       "      <td>Left iTBS</td>\n",
       "      <td>Tone</td>\n",
       "      <td>Clear</td>\n",
       "      <td>6</td>\n",
       "      <td>2</td>\n",
       "      <td>1</td>\n",
       "      <td>0.544652</td>\n",
       "      <td>1</td>\n",
       "    </tr>\n",
       "    <tr>\n",
       "      <th>6</th>\n",
       "      <td>55</td>\n",
       "      <td>Larynx</td>\n",
       "      <td>Left iTBS</td>\n",
       "      <td>Tone</td>\n",
       "      <td>Clear</td>\n",
       "      <td>7</td>\n",
       "      <td>1</td>\n",
       "      <td>1</td>\n",
       "      <td>0.621313</td>\n",
       "      <td>1</td>\n",
       "    </tr>\n",
       "    <tr>\n",
       "      <th>7</th>\n",
       "      <td>55</td>\n",
       "      <td>Larynx</td>\n",
       "      <td>Left iTBS</td>\n",
       "      <td>Tone</td>\n",
       "      <td>Clear</td>\n",
       "      <td>8</td>\n",
       "      <td>1</td>\n",
       "      <td>1</td>\n",
       "      <td>0.580819</td>\n",
       "      <td>1</td>\n",
       "    </tr>\n",
       "    <tr>\n",
       "      <th>8</th>\n",
       "      <td>55</td>\n",
       "      <td>Larynx</td>\n",
       "      <td>Left iTBS</td>\n",
       "      <td>Tone</td>\n",
       "      <td>Clear</td>\n",
       "      <td>9</td>\n",
       "      <td>1</td>\n",
       "      <td>0</td>\n",
       "      <td>-0.496794</td>\n",
       "      <td>1</td>\n",
       "    </tr>\n",
       "    <tr>\n",
       "      <th>9</th>\n",
       "      <td>55</td>\n",
       "      <td>Larynx</td>\n",
       "      <td>Left iTBS</td>\n",
       "      <td>Tone</td>\n",
       "      <td>Clear</td>\n",
       "      <td>10</td>\n",
       "      <td>3</td>\n",
       "      <td>1</td>\n",
       "      <td>0.863869</td>\n",
       "      <td>1</td>\n",
       "    </tr>\n",
       "  </tbody>\n",
       "</table>\n",
       "</div>"
      ],
      "text/plain": [
       "   subj_idx group_idx  turn_type task_type snr_type  trial_num  step_att  \\\n",
       "0        55    Larynx  Left iTBS      Tone    Clear          1         3   \n",
       "1        55    Larynx  Left iTBS      Tone    Clear          2         2   \n",
       "2        55    Larynx  Left iTBS      Tone    Clear          3         2   \n",
       "3        55    Larynx  Left iTBS      Tone    Clear          4         1   \n",
       "4        55    Larynx  Left iTBS      Tone    Clear          5         2   \n",
       "5        55    Larynx  Left iTBS      Tone    Clear          6         2   \n",
       "6        55    Larynx  Left iTBS      Tone    Clear          7         1   \n",
       "7        55    Larynx  Left iTBS      Tone    Clear          8         1   \n",
       "8        55    Larynx  Left iTBS      Tone    Clear          9         1   \n",
       "9        55    Larynx  Left iTBS      Tone    Clear         10         3   \n",
       "\n",
       "   response        rt  step_unatnd  \n",
       "0         1  1.083317            1  \n",
       "1         1  0.744397            1  \n",
       "2         1  0.732525            1  \n",
       "3         1  0.800199            1  \n",
       "4         1  0.753649            1  \n",
       "5         1  0.544652            1  \n",
       "6         1  0.621313            1  \n",
       "7         1  0.580819            1  \n",
       "8         0 -0.496794            1  \n",
       "9         1  0.863869            1  "
      ]
     },
     "execution_count": 2,
     "metadata": {},
     "output_type": "execute_result"
    }
   ],
   "source": [
    "data = hddm.load_csv('exp2_DDM.csv')\n",
    "data.at[data['step_att'].isin(['4']),'step_att']=2\n",
    "data.at[data['step_att'].isin(['5']),'step_att']=1\n",
    "data = hddm.utils.flip_errors(data)\n",
    "data.head(10)"
   ]
  },
  {
   "cell_type": "markdown",
   "metadata": {},
   "source": [
    "## left stim, tone, clear"
   ]
  },
  {
   "cell_type": "markdown",
   "metadata": {},
   "source": [
    "### preparing data"
   ]
  },
  {
   "cell_type": "code",
   "execution_count": 3,
   "metadata": {},
   "outputs": [
    {
     "name": "stdout",
     "output_type": "stream",
     "text": [
      "       subj_idx group_idx  turn_type task_type snr_type  trial_num  step_att  \\\n",
      "624          55    Larynx  Left cTBS      Tone    Clear          1         3   \n",
      "625          55    Larynx  Left cTBS      Tone    Clear          2         1   \n",
      "626          55    Larynx  Left cTBS      Tone    Clear          3         1   \n",
      "627          55    Larynx  Left cTBS      Tone    Clear          4         3   \n",
      "628          55    Larynx  Left cTBS      Tone    Clear          5         2   \n",
      "629          55    Larynx  Left cTBS      Tone    Clear          6         2   \n",
      "630          55    Larynx  Left cTBS      Tone    Clear          7         3   \n",
      "631          55    Larynx  Left cTBS      Tone    Clear          8         3   \n",
      "632          55    Larynx  Left cTBS      Tone    Clear          9         1   \n",
      "633          55    Larynx  Left cTBS      Tone    Clear         10         2   \n",
      "634          55    Larynx  Left cTBS      Tone    Clear         11         1   \n",
      "635          55    Larynx  Left cTBS      Tone    Clear         12         1   \n",
      "636          55    Larynx  Left cTBS      Tone    Clear         13         3   \n",
      "637          55    Larynx  Left cTBS      Tone    Clear         14         3   \n",
      "638          55    Larynx  Left cTBS      Tone    Clear         15         1   \n",
      "639          55    Larynx  Left cTBS      Tone    Clear         16         1   \n",
      "640          55    Larynx  Left cTBS      Tone    Clear         17         3   \n",
      "641          55    Larynx  Left cTBS      Tone    Clear         18         3   \n",
      "642          55    Larynx  Left cTBS      Tone    Clear         19         2   \n",
      "643          55    Larynx  Left cTBS      Tone    Clear         20         1   \n",
      "644          55    Larynx  Left cTBS      Tone    Clear         21         2   \n",
      "645          55    Larynx  Left cTBS      Tone    Clear         22         2   \n",
      "646          55    Larynx  Left cTBS      Tone    Clear         23         1   \n",
      "647          55    Larynx  Left cTBS      Tone    Clear         24         1   \n",
      "648          55    Larynx  Left cTBS      Tone    Clear         25         1   \n",
      "649          55    Larynx  Left cTBS      Tone    Clear         26         2   \n",
      "650          55    Larynx  Left cTBS      Tone    Clear         27         2   \n",
      "651          55    Larynx  Left cTBS      Tone    Clear         28         1   \n",
      "652          55    Larynx  Left cTBS      Tone    Clear         29         2   \n",
      "653          55    Larynx  Left cTBS      Tone    Clear         30         3   \n",
      "...         ...       ...        ...       ...      ...        ...       ...   \n",
      "78126       253    Larynx       Sham      Tone    Clear        127         2   \n",
      "78127       253    Larynx       Sham      Tone    Clear        128         1   \n",
      "78128       253    Larynx       Sham      Tone    Clear        129         1   \n",
      "78129       253    Larynx       Sham      Tone    Clear        130         1   \n",
      "78130       253    Larynx       Sham      Tone    Clear        131         3   \n",
      "78131       253    Larynx       Sham      Tone    Clear        132         1   \n",
      "78132       253    Larynx       Sham      Tone    Clear        133         1   \n",
      "78133       253    Larynx       Sham      Tone    Clear        134         2   \n",
      "78134       253    Larynx       Sham      Tone    Clear        135         2   \n",
      "78135       253    Larynx       Sham      Tone    Clear        136         2   \n",
      "78136       253    Larynx       Sham      Tone    Clear        137         1   \n",
      "78137       253    Larynx       Sham      Tone    Clear        138         1   \n",
      "78138       253    Larynx       Sham      Tone    Clear        139         2   \n",
      "78139       253    Larynx       Sham      Tone    Clear        140         2   \n",
      "78140       253    Larynx       Sham      Tone    Clear        141         2   \n",
      "78141       253    Larynx       Sham      Tone    Clear        142         2   \n",
      "78142       253    Larynx       Sham      Tone    Clear        143         2   \n",
      "78143       253    Larynx       Sham      Tone    Clear        144         1   \n",
      "78144       253    Larynx       Sham      Tone    Clear        145         3   \n",
      "78145       253    Larynx       Sham      Tone    Clear        146         3   \n",
      "78146       253    Larynx       Sham      Tone    Clear        147         3   \n",
      "78147       253    Larynx       Sham      Tone    Clear        148         3   \n",
      "78148       253    Larynx       Sham      Tone    Clear        149         3   \n",
      "78149       253    Larynx       Sham      Tone    Clear        150         2   \n",
      "78150       253    Larynx       Sham      Tone    Clear        151         2   \n",
      "78151       253    Larynx       Sham      Tone    Clear        152         2   \n",
      "78152       253    Larynx       Sham      Tone    Clear        153         1   \n",
      "78153       253    Larynx       Sham      Tone    Clear        154         3   \n",
      "78154       253    Larynx       Sham      Tone    Clear        155         1   \n",
      "78155       253    Larynx       Sham      Tone    Clear        156         2   \n",
      "\n",
      "       response        rt  step_unatnd  \n",
      "624           1  0.648034            1  \n",
      "625           1  0.489868            1  \n",
      "626           1  0.450987            1  \n",
      "627           1  0.436914            1  \n",
      "628           1  0.434872            1  \n",
      "629           0 -0.467212            1  \n",
      "630           1  0.740333            1  \n",
      "631           1  0.557642            1  \n",
      "632           0 -0.488379            1  \n",
      "633           0 -0.517836            1  \n",
      "634           0 -0.493879            1  \n",
      "635           0 -0.580447            1  \n",
      "636           1  0.419108            1  \n",
      "637           1  0.459999            1  \n",
      "638           0 -0.538770            1  \n",
      "639           0 -0.461386            1  \n",
      "640           1  0.511229            1  \n",
      "641           1  0.472474            1  \n",
      "642           1  0.636995            1  \n",
      "643           1  0.521012            1  \n",
      "644           0 -0.625399            1  \n",
      "645           0 -0.771702            1  \n",
      "646           1  0.724570            1  \n",
      "647           1  1.001055            1  \n",
      "648           1  0.496224            1  \n",
      "649           0 -1.021709            1  \n",
      "650           1  0.632446            1  \n",
      "651           0 -0.539831            1  \n",
      "652           1  0.238660            1  \n",
      "653           1  0.661057            1  \n",
      "...         ...       ...          ...  \n",
      "78126         1  0.660880            1  \n",
      "78127         1  0.558448            1  \n",
      "78128         1  0.941209            1  \n",
      "78129         1  0.564786            1  \n",
      "78130         1  0.678036            1  \n",
      "78131         0 -0.645708            1  \n",
      "78132         0 -0.605000            1  \n",
      "78133         0 -0.611651            1  \n",
      "78134         0 -0.590936            1  \n",
      "78135         0 -0.487683            1  \n",
      "78136         1  0.622202            1  \n",
      "78137         1  0.577684            1  \n",
      "78138         1  0.481270            1  \n",
      "78139         1  0.492121            1  \n",
      "78140         0 -0.565029            1  \n",
      "78141         0 -0.648763            1  \n",
      "78142         1  0.746370            1  \n",
      "78143         1  0.612937            1  \n",
      "78144         0 -0.662952            1  \n",
      "78145         1  1.022814            1  \n",
      "78146         1  0.525678            1  \n",
      "78147         1  0.594899            1  \n",
      "78148         1  0.712846            1  \n",
      "78149         1  0.653655            1  \n",
      "78150         1  0.586441            1  \n",
      "78151         1  0.469893            1  \n",
      "78152         0 -0.496799            1  \n",
      "78153         1  0.730992            1  \n",
      "78154         0 -0.677024            1  \n",
      "78155         0 -0.491757            1  \n",
      "\n",
      "[7800 rows x 10 columns]\n"
     ]
    }
   ],
   "source": [
    "D_L=data.loc[data['turn_type'].isin(['Left cTBS','Sham'])]\n",
    "D_L_T=D_L.loc[D_L['task_type']=='Tone']\n",
    "D_L_T_Q=D_L_T.loc[D_L_T['snr_type']=='Clear']\n",
    "print(D_L_T_Q)"
   ]
  },
  {
   "cell_type": "markdown",
   "metadata": {},
   "source": [
    "### baseline model"
   ]
  },
  {
   "cell_type": "code",
   "execution_count": 4,
   "metadata": {},
   "outputs": [
    {
     "name": "stdout",
     "output_type": "stream",
     "text": [
      "Adding these covariates:\n",
      "['a_Intercept', \"a_C(turn_type, Treatment('Sham'))[T.Left cTBS]\"]\n",
      "Adding these covariates:\n",
      "['v_Intercept', \"v_C(turn_type, Treatment('Sham'))[T.Left cTBS]\"]\n",
      "Adding these covariates:\n",
      "['z_Intercept', \"z_C(turn_type, Treatment('Sham'))[T.Left cTBS]\"]\n"
     ]
    },
    {
     "name": "stderr",
     "output_type": "stream",
     "text": [
      "/home/bsliang/miniconda3/envs/bsliang_DDM_27/lib/python2.7/site-packages/scipy/optimize/optimize.py:1934: RuntimeWarning: invalid value encountered in double_scalars\n",
      "  tmp2 = (x - v) * (fx - fw)\n"
     ]
    },
    {
     "name": "stdout",
     "output_type": "stream",
     "text": [
      " [-----------------100%-----------------] 2001 of 2000 complete in 3773.3 sec"
     ]
    },
    {
     "data": {
      "text/plain": [
       "<pymc.MCMC.MCMC at 0x7f42d4680e50>"
      ]
     },
     "execution_count": 4,
     "metadata": {},
     "output_type": "execute_result"
    }
   ],
   "source": [
    "a_reg = {'model': \"a ~ 1 + C(turn_type, Treatment('Sham'))\",'link_func': lambda x: x}\n",
    "v_reg = {'model': \"v ~ 1 + C(turn_type, Treatment('Sham'))\",'link_func': lambda x: x}\n",
    "z_reg = {'model': \"z ~ 1 + C(turn_type, Treatment('Sham'))\",'link_func': lambda x: x}\n",
    "reg_descr = [a_reg,v_reg,z_reg]\n",
    "D_L_T_Q_bsl = hddm.HDDMRegressor(D_L_T_Q, reg_descr, include='z')\n",
    "D_L_T_Q_bsl.find_starting_values()\n",
    "D_L_T_Q_bsl.sample(2000, burn=20, dbname='traces.db', db='pickle')"
   ]
  },
  {
   "cell_type": "markdown",
   "metadata": {},
   "source": [
    "### model 1: a only"
   ]
  },
  {
   "cell_type": "code",
   "execution_count": 5,
   "metadata": {},
   "outputs": [
    {
     "name": "stdout",
     "output_type": "stream",
     "text": [
      "Adding these covariates:\n",
      "['a_Intercept', \"a_step_att:C(turn_type, Treatment('Sham'))[Left cTBS]\", \"a_step_att:C(turn_type, Treatment('Sham'))[Sham]\"]\n",
      "Adding these covariates:\n",
      "['v_Intercept', \"v_C(turn_type, Treatment('Sham'))[T.Left cTBS]\"]\n",
      "Adding these covariates:\n",
      "['z_Intercept', \"z_C(turn_type, Treatment('Sham'))[T.Left cTBS]\"]\n",
      " [-----------------100%-----------------] 2001 of 2000 complete in 4408.2 sec"
     ]
    },
    {
     "data": {
      "text/plain": [
       "<pymc.MCMC.MCMC at 0x7f42b4365810>"
      ]
     },
     "execution_count": 5,
     "metadata": {},
     "output_type": "execute_result"
    }
   ],
   "source": [
    "a_reg = {'model': \"a ~ 1 + step_att:C(turn_type, Treatment('Sham'))\",'link_func': lambda x: x}\n",
    "v_reg = {'model': \"v ~ 1 + C(turn_type, Treatment('Sham'))\",'link_func': lambda x: x}\n",
    "z_reg = {'model': \"z ~ 1 + C(turn_type, Treatment('Sham'))\",'link_func': lambda x: x}\n",
    "reg_descr = [a_reg,v_reg,z_reg]\n",
    "D_L_T_Q_am = hddm.HDDMRegressor(D_L_T_Q, reg_descr, include='z')\n",
    "D_L_T_Q_am.find_starting_values()\n",
    "D_L_T_Q_am.sample(2000, burn=20, dbname='traces.db', db='pickle')"
   ]
  },
  {
   "cell_type": "markdown",
   "metadata": {},
   "source": [
    "### model 2: v only"
   ]
  },
  {
   "cell_type": "code",
   "execution_count": 6,
   "metadata": {},
   "outputs": [
    {
     "name": "stdout",
     "output_type": "stream",
     "text": [
      "Adding these covariates:\n",
      "['a_Intercept', \"a_C(turn_type, Treatment('Sham'))[T.Left cTBS]\"]\n",
      "Adding these covariates:\n",
      "['v_Intercept', \"v_step_att:C(turn_type, Treatment('Sham'))[Left cTBS]\", \"v_step_att:C(turn_type, Treatment('Sham'))[Sham]\"]\n",
      "Adding these covariates:\n",
      "['z_Intercept', \"z_C(turn_type, Treatment('Sham'))[T.Left cTBS]\"]\n",
      " [-----------------100%-----------------] 2001 of 2000 complete in 4289.7 sec"
     ]
    },
    {
     "data": {
      "text/plain": [
       "<pymc.MCMC.MCMC at 0x7f4294513d10>"
      ]
     },
     "execution_count": 6,
     "metadata": {},
     "output_type": "execute_result"
    }
   ],
   "source": [
    "a_reg = {'model': \"a ~ 1 + C(turn_type, Treatment('Sham'))\",'link_func': lambda x: x}\n",
    "v_reg = {'model': \"v ~ 1 + step_att:C(turn_type, Treatment('Sham'))\",'link_func': lambda x: x}\n",
    "z_reg = {'model': \"z ~ 1 + C(turn_type, Treatment('Sham'))\",'link_func': lambda x: x}\n",
    "reg_descr = [a_reg,v_reg,z_reg]\n",
    "D_L_T_Q_vm = hddm.HDDMRegressor(D_L_T_Q, reg_descr, include='z')\n",
    "D_L_T_Q_vm.find_starting_values()\n",
    "D_L_T_Q_vm.sample(2000, burn=20, dbname='traces.db', db='pickle')"
   ]
  },
  {
   "cell_type": "markdown",
   "metadata": {},
   "source": [
    "### model 3: z only"
   ]
  },
  {
   "cell_type": "code",
   "execution_count": 7,
   "metadata": {},
   "outputs": [
    {
     "name": "stdout",
     "output_type": "stream",
     "text": [
      "Adding these covariates:\n",
      "['a_Intercept', \"a_C(turn_type, Treatment('Sham'))[T.Left cTBS]\"]\n",
      "Adding these covariates:\n",
      "['v_Intercept', \"v_C(turn_type, Treatment('Sham'))[T.Left cTBS]\"]\n",
      "Adding these covariates:\n",
      "['z_Intercept', \"z_step_att:C(turn_type, Treatment('Sham'))[Left cTBS]\", \"z_step_att:C(turn_type, Treatment('Sham'))[Sham]\"]\n",
      " [-----------------100%-----------------] 2001 of 2000 complete in 4409.6 sec"
     ]
    },
    {
     "data": {
      "text/plain": [
       "<pymc.MCMC.MCMC at 0x7f428414d790>"
      ]
     },
     "execution_count": 7,
     "metadata": {},
     "output_type": "execute_result"
    }
   ],
   "source": [
    "a_reg = {'model': \"a ~ 1 + C(turn_type, Treatment('Sham'))\",'link_func': lambda x: x}\n",
    "v_reg = {'model': \"v ~ 1 + C(turn_type, Treatment('Sham'))\",'link_func': lambda x: x}\n",
    "z_reg = {'model': \"z ~ 1 + step_att:C(turn_type, Treatment('Sham'))\",'link_func': lambda x: x}\n",
    "reg_descr = [a_reg,v_reg,z_reg]\n",
    "D_L_T_Q_zm = hddm.HDDMRegressor(D_L_T_Q, reg_descr, include='z')\n",
    "D_L_T_Q_zm.find_starting_values()\n",
    "D_L_T_Q_zm.sample(2000, burn=20, dbname='traces.db', db='pickle')"
   ]
  },
  {
   "cell_type": "markdown",
   "metadata": {},
   "source": [
    "### model 4: a + v"
   ]
  },
  {
   "cell_type": "code",
   "execution_count": 8,
   "metadata": {},
   "outputs": [
    {
     "name": "stdout",
     "output_type": "stream",
     "text": [
      "Adding these covariates:\n",
      "['a_Intercept', \"a_step_att:C(turn_type, Treatment('Sham'))[Left cTBS]\", \"a_step_att:C(turn_type, Treatment('Sham'))[Sham]\"]\n",
      "Adding these covariates:\n",
      "['v_Intercept', \"v_step_att:C(turn_type, Treatment('Sham'))[Left cTBS]\", \"v_step_att:C(turn_type, Treatment('Sham'))[Sham]\"]\n",
      "Adding these covariates:\n",
      "['z_Intercept', \"z_C(turn_type, Treatment('Sham'))[T.Left cTBS]\"]\n",
      " [-----------------100%-----------------] 2001 of 2000 complete in 4745.7 sec"
     ]
    },
    {
     "data": {
      "text/plain": [
       "<pymc.MCMC.MCMC at 0x7f42b4033f50>"
      ]
     },
     "execution_count": 8,
     "metadata": {},
     "output_type": "execute_result"
    }
   ],
   "source": [
    "a_reg = {'model': \"a ~ 1 + step_att:C(turn_type, Treatment('Sham'))\",'link_func': lambda x: x}\n",
    "v_reg = {'model': \"v ~ 1 + step_att:C(turn_type, Treatment('Sham'))\",'link_func': lambda x: x}\n",
    "z_reg = {'model': \"z ~ 1 + C(turn_type, Treatment('Sham'))\",'link_func': lambda x: x}\n",
    "reg_descr = [a_reg,v_reg,z_reg]\n",
    "D_L_T_Q_avm = hddm.HDDMRegressor(D_L_T_Q, reg_descr, include='z')\n",
    "D_L_T_Q_avm.find_starting_values()\n",
    "D_L_T_Q_avm.sample(2000, burn=20, dbname='traces.db', db='pickle')"
   ]
  },
  {
   "cell_type": "markdown",
   "metadata": {},
   "source": [
    "### model 5: a + z"
   ]
  },
  {
   "cell_type": "code",
   "execution_count": 9,
   "metadata": {},
   "outputs": [
    {
     "name": "stdout",
     "output_type": "stream",
     "text": [
      "Adding these covariates:\n",
      "['a_Intercept', \"a_step_att:C(turn_type, Treatment('Sham'))[Left cTBS]\", \"a_step_att:C(turn_type, Treatment('Sham'))[Sham]\"]\n",
      "Adding these covariates:\n",
      "['v_Intercept', \"v_C(turn_type, Treatment('Sham'))[T.Left cTBS]\"]\n",
      "Adding these covariates:\n",
      "['z_Intercept', \"z_step_att:C(turn_type, Treatment('Sham'))[Left cTBS]\", \"z_step_att:C(turn_type, Treatment('Sham'))[Sham]\"]\n",
      " [-----------------100%-----------------] 2001 of 2000 complete in 5015.6 sec"
     ]
    },
    {
     "data": {
      "text/plain": [
       "<pymc.MCMC.MCMC at 0x7f4260778f50>"
      ]
     },
     "execution_count": 9,
     "metadata": {},
     "output_type": "execute_result"
    }
   ],
   "source": [
    "a_reg = {'model': \"a ~ 1 + step_att:C(turn_type, Treatment('Sham'))\",'link_func': lambda x: x}\n",
    "v_reg = {'model': \"v ~ 1 + C(turn_type, Treatment('Sham'))\",'link_func': lambda x: x}\n",
    "z_reg = {'model': \"z ~ 1 + step_att:C(turn_type, Treatment('Sham'))\",'link_func': lambda x: x}\n",
    "reg_descr = [a_reg,v_reg,z_reg]\n",
    "D_L_T_Q_azm = hddm.HDDMRegressor(D_L_T_Q, reg_descr, include='z')\n",
    "D_L_T_Q_azm.find_starting_values()\n",
    "D_L_T_Q_azm.sample(2000, burn=20, dbname='traces.db', db='pickle')"
   ]
  },
  {
   "cell_type": "markdown",
   "metadata": {},
   "source": [
    "### model 6: v + z"
   ]
  },
  {
   "cell_type": "code",
   "execution_count": 10,
   "metadata": {},
   "outputs": [
    {
     "name": "stdout",
     "output_type": "stream",
     "text": [
      "Adding these covariates:\n",
      "['a_Intercept', \"a_C(turn_type, Treatment('Sham'))[T.Left cTBS]\"]\n",
      "Adding these covariates:\n",
      "['v_Intercept', \"v_step_att:C(turn_type, Treatment('Sham'))[Left cTBS]\", \"v_step_att:C(turn_type, Treatment('Sham'))[Sham]\"]\n",
      "Adding these covariates:\n",
      "['z_Intercept', \"z_step_att:C(turn_type, Treatment('Sham'))[Left cTBS]\", \"z_step_att:C(turn_type, Treatment('Sham'))[Sham]\"]\n",
      " [-----------------100%-----------------] 2001 of 2000 complete in 4819.9 sec"
     ]
    },
    {
     "data": {
      "text/plain": [
       "<pymc.MCMC.MCMC at 0x7f426026a290>"
      ]
     },
     "execution_count": 10,
     "metadata": {},
     "output_type": "execute_result"
    }
   ],
   "source": [
    "a_reg = {'model': \"a ~ 1 + C(turn_type, Treatment('Sham'))\",'link_func': lambda x: x}\n",
    "v_reg = {'model': \"v ~ 1 + step_att:C(turn_type, Treatment('Sham'))\",'link_func': lambda x: x}\n",
    "z_reg = {'model': \"z ~ 1 + step_att:C(turn_type, Treatment('Sham'))\",'link_func': lambda x: x}\n",
    "reg_descr = [a_reg,v_reg,z_reg]\n",
    "D_L_T_Q_vzm = hddm.HDDMRegressor(D_L_T_Q, reg_descr, include='z')\n",
    "D_L_T_Q_vzm.find_starting_values()\n",
    "D_L_T_Q_vzm.sample(2000, burn=20, dbname='traces.db', db='pickle')"
   ]
  },
  {
   "cell_type": "markdown",
   "metadata": {},
   "source": [
    "### model 7: a + v + z"
   ]
  },
  {
   "cell_type": "code",
   "execution_count": 11,
   "metadata": {},
   "outputs": [
    {
     "name": "stdout",
     "output_type": "stream",
     "text": [
      "Adding these covariates:\n",
      "['a_Intercept', \"a_step_att:C(turn_type, Treatment('Sham'))[Left cTBS]\", \"a_step_att:C(turn_type, Treatment('Sham'))[Sham]\"]\n",
      "Adding these covariates:\n",
      "['v_Intercept', \"v_step_att:C(turn_type, Treatment('Sham'))[Left cTBS]\", \"v_step_att:C(turn_type, Treatment('Sham'))[Sham]\"]\n",
      "Adding these covariates:\n",
      "['z_Intercept', \"z_step_att:C(turn_type, Treatment('Sham'))[Left cTBS]\", \"z_step_att:C(turn_type, Treatment('Sham'))[Sham]\"]\n",
      " [-----------------100%-----------------] 2001 of 2000 complete in 5406.6 secWARNING: Will not save custom link functions.\n",
      "WARNING: Will not save custom link functions.\n",
      "WARNING: Will not save custom link functions.\n"
     ]
    }
   ],
   "source": [
    "a_reg = {'model': \"a ~ 1 + step_att:C(turn_type, Treatment('Sham'))\",'link_func': lambda x: x}\n",
    "v_reg = {'model': \"v ~ 1 + step_att:C(turn_type, Treatment('Sham'))\",'link_func': lambda x: x}\n",
    "z_reg = {'model': \"z ~ 1 + step_att:C(turn_type, Treatment('Sham'))\",'link_func': lambda x: x}\n",
    "reg_descr = [a_reg,v_reg,z_reg]\n",
    "D_L_T_Q_fm = hddm.HDDMRegressor(D_L_T_Q, reg_descr, include='z')\n",
    "D_L_T_Q_fm.find_starting_values()\n",
    "D_L_T_Q_fm.sample(2000, burn=20, dbname='traces.db', db='pickle')\n",
    "D_L_T_Q_fm.save('D_L_T_Q_fm')"
   ]
  },
  {
   "cell_type": "markdown",
   "metadata": {},
   "source": [
    "### Model comparison"
   ]
  },
  {
   "cell_type": "code",
   "execution_count": 23,
   "metadata": {},
   "outputs": [
    {
     "name": "stdout",
     "output_type": "stream",
     "text": [
      "baseline model DIC: 5023.097239\n",
      "a model DIC: 4657.928011\n",
      "v model DIC: 4740.406567\n",
      "z model DIC: 5025.345721\n",
      "av model DIC: 4320.540999\n",
      "az model DIC: 4637.671233\n",
      "vz model DIC: 4602.082645\n",
      "full model DIC: 4258.820439\n"
     ]
    },
    {
     "data": {
      "image/png": "[encoded data removed]",
      "text/plain": [
       "<Figure size 130.394x63.7795 with 1 Axes>"
      ]
     },
     "metadata": {
      "needs_background": "light"
     },
     "output_type": "display_data"
    }
   ],
   "source": [
    "print(\"baseline model DIC: %f\" % D_L_T_Q_bsl.dic)\n",
    "print(\"a model DIC: %f\" % D_L_T_Q_am.dic)\n",
    "print(\"v model DIC: %f\" % D_L_T_Q_vm.dic)\n",
    "print(\"z model DIC: %f\" % D_L_T_Q_zm.dic)\n",
    "print(\"av model DIC: %f\" % D_L_T_Q_avm.dic)\n",
    "print(\"az model DIC: %f\" % D_L_T_Q_azm.dic)\n",
    "print(\"vz model DIC: %f\" % D_L_T_Q_vzm.dic)\n",
    "print(\"full model DIC: %f\" % D_L_T_Q_fm.dic)\n",
    "\n",
    "fig, ax = plt.subplots()\n",
    "\n",
    "fruits = ['baseline', 'a', 'v', 'z', 'av', 'az', 'vz','full']\n",
    "counts = [D_L_T_Q_bsl.dic, D_L_T_Q_am.dic, D_L_T_Q_vm.dic, D_L_T_Q_zm.dic,D_L_T_Q_avm.dic,D_L_T_Q_azm.dic,D_L_T_Q_vzm.dic,D_L_T_Q_fm.dic]\n",
    "\n",
    "D_name='D_L_T_Q'\n",
    "\n",
    "ax.bar(fruits, counts,color=[197./255,158./255,226./255],edgecolor='black',linewidth=0.5)\n",
    "\n",
    "plt.rcParams['savefig.dpi']=300\n",
    "plt.rcParams['axes.linewidth']=0.5\n",
    "\n",
    "#ax.set_ylabel('DIC value')\n",
    "#ax.set_title('TBS: Left cTBS consonant quiet')\n",
    "ax.set_ylim([4200,5100])\n",
    "ytick_plot=range(4200,5100,100)\n",
    "ytick_plot.append(5100)\n",
    "ax.set_yticks(ytick_plot)\n",
    "ax.spines['right'].set_visible(False)\n",
    "ax.spines['top'].set_visible(False)\n",
    "\n",
    "fig.set_size_inches(4.6*cm,2.25*cm)\n",
    "ax.tick_params('both',which='major',direction='in',width=0.5,length=2)\n",
    "plt.rcParams['font.size']=5\n",
    "plt.rcParams['font.family']='Arial'\n",
    "plt.savefig(D_name+'_interact_M_compare.pdf',bbox_inches = 'tight',transparent=True)\n",
    "plt.show()"
   ]
  },
  {
   "cell_type": "markdown",
   "metadata": {},
   "source": [
    "### Plotting"
   ]
  },
  {
   "cell_type": "code",
   "execution_count": 13,
   "metadata": {},
   "outputs": [
    {
     "data": {
      "image/png": "[encoded data removed]",
      "text/plain": [
       "<Figure size 432x288 with 1 Axes>"
      ]
     },
     "metadata": {
      "needs_background": "light"
     },
     "output_type": "display_data"
    },
    {
     "data": {
      "image/png": "[encoded data removed]",
      "text/plain": [
       "<Figure size 432x288 with 1 Axes>"
      ]
     },
     "metadata": {
      "needs_background": "light"
     },
     "output_type": "display_data"
    },
    {
     "data": {
      "image/png": "[encoded data removed]",
      "text/plain": [
       "<Figure size 432x288 with 1 Axes>"
      ]
     },
     "metadata": {
      "needs_background": "light"
     },
     "output_type": "display_data"
    },
    {
     "data": {
      "image/png": "[encoded data removed]",
      "text/plain": [
       "<Figure size 288x288 with 1 Axes>"
      ]
     },
     "metadata": {
      "needs_background": "light"
     },
     "output_type": "display_data"
    },
    {
     "name": "stdout",
     "output_type": "stream",
     "text": [
      "('P(a > Sham) = ', 1.0)\n",
      "('P(v > Sham) = ', 1.0)\n",
      "('P(z > Sham) = ', 0.0030303030303030303)\n"
     ]
    }
   ],
   "source": [
    "a_Intercept,a_cTBS = D_L_T_Q_fm.nodes_db.loc[[\"a_Intercept\",\"a_step_att:C(turn_type, Treatment('Sham'))[Left cTBS]\"], 'node']\n",
    "hddm.analyze.plot_posterior_nodes([a_Intercept,a_cTBS])\n",
    "plt.xlabel('boundary')\n",
    "plt.ylabel('Posterior probability')\n",
    "plt.title('Full model')\n",
    "\n",
    "v_Intercept,v_cTBS = D_L_T_Q_fm.nodes_db.loc[[\"v_Intercept\",\"v_step_att:C(turn_type, Treatment('Sham'))[Left cTBS]\"], 'node']\n",
    "hddm.analyze.plot_posterior_nodes([v_Intercept,v_cTBS])\n",
    "plt.xlabel('drift-rate')\n",
    "plt.ylabel('Posterior probability')\n",
    "plt.title('Full model')\n",
    "\n",
    "z_Intercept,z_cTBS = D_L_T_Q_fm.nodes_db.loc[[\"z_Intercept\",\"z_step_att:C(turn_type, Treatment('Sham'))[Left cTBS]\"], 'node']\n",
    "hddm.analyze.plot_posterior_nodes([z_Intercept,z_cTBS])\n",
    "plt.xlabel('starting point')\n",
    "plt.ylabel('Posterior probability')\n",
    "plt.title('Full model')\n",
    "\n",
    "\n",
    "fig, ax = plt.subplots()\n",
    "fig.set_size_inches(4,4)\n",
    "\n",
    "para_tag=['AMBstep:a','AMBstep:v','AMBstep:z']\n",
    "counts = [a_cTBS.trace()/(max(a_cTBS.trace())-min(a_cTBS.trace())),v_cTBS.trace()/(max(v_cTBS.trace())-min(v_cTBS.trace())),z_cTBS.trace()/(max(z_cTBS.trace())-min(z_cTBS.trace()))]\n",
    "\n",
    "ax.axhline(y = 0, color =\"green\", linestyle =\"--\")\n",
    "ax.violinplot(counts)\n",
    "ax.set_xticks([1,2,3])\n",
    "ax.set_xticklabels(para_tag)\n",
    "ax.set_ylim([-4,4])\n",
    "ax.set_title('Full model: Left cTBS tone clear')\n",
    "ax.set_ylabel('Regression coef (normalized)')\n",
    "ax.spines['right'].set_visible(False)\n",
    "ax.spines['top'].set_visible(False)\n",
    "\n",
    "plt.show()\n",
    "\n",
    "print(\"P(a > Sham) = \", (a_cTBS.trace() > 0).mean())\n",
    "print(\"P(v > Sham) = \", (v_cTBS.trace() > 0).mean())\n",
    "print(\"P(z > Sham) = \", (z_cTBS.trace() > 0).mean())"
   ]
  },
  {
   "cell_type": "markdown",
   "metadata": {},
   "source": [
    "### check full model simulation prediction accuracy"
   ]
  },
  {
   "cell_type": "markdown",
   "metadata": {},
   "source": [
    "#### fit the full model"
   ]
  },
  {
   "cell_type": "code",
   "execution_count": 14,
   "metadata": {},
   "outputs": [
    {
     "name": "stdout",
     "output_type": "stream",
     "text": [
      "Adding these covariates:\n",
      "['a_Intercept', \"a_step_att:C(turn_type, Treatment('Sham'))[Left cTBS]\", \"a_step_att:C(turn_type, Treatment('Sham'))[Sham]\"]\n",
      "Adding these covariates:\n",
      "['v_Intercept', \"v_step_att:C(turn_type, Treatment('Sham'))[Left cTBS]\", \"v_step_att:C(turn_type, Treatment('Sham'))[Sham]\"]\n",
      "Adding these covariates:\n",
      "['z_Intercept', \"z_step_att:C(turn_type, Treatment('Sham'))[Left cTBS]\", \"z_step_att:C(turn_type, Treatment('Sham'))[Sham]\"]\n",
      " [-----------------100%-----------------] 2001 of 2000 complete in 5428.4 sec"
     ]
    },
    {
     "data": {
      "text/plain": [
       "<pymc.MCMC.MCMC at 0x7f420f3e6210>"
      ]
     },
     "execution_count": 14,
     "metadata": {},
     "output_type": "execute_result"
    }
   ],
   "source": [
    "fm_data_2=D_L_T_Q\n",
    "fm_data_2.reset_index(inplace = True, drop = True)\n",
    "a_reg = {'model': \"a ~ 1 + step_att:C(turn_type, Treatment('Sham'))\",'link_func': lambda x: x}\n",
    "v_reg = {'model': \"v ~ 1 + step_att:C(turn_type, Treatment('Sham'))\",'link_func': lambda x: x}\n",
    "z_reg = {'model': \"z ~ 1 + step_att:C(turn_type, Treatment('Sham'))\",'link_func': lambda x: x}\n",
    "reg_descr = [a_reg,v_reg,z_reg]\n",
    "fm_2 = hddm.HDDMRegressor(fm_data_2, reg_descr, include='z')\n",
    "fm_2.find_starting_values()\n",
    "fm_2.sample(2000, burn=20, dbname='traces.db', db='pickle')"
   ]
  },
  {
   "cell_type": "markdown",
   "metadata": {},
   "source": [
    "#### predict data from simulated data derived from full model"
   ]
  },
  {
   "cell_type": "code",
   "execution_count": 15,
   "metadata": {},
   "outputs": [
    {
     "name": "stdout",
     "output_type": "stream",
     "text": [
      " [-------------------112%-------------------] 28 of 25 complete in 24286.3 sec"
     ]
    },
    {
     "data": {
      "text/html": [
       "<div>\n",
       "<style scoped>\n",
       "    .dataframe tbody tr th:only-of-type {\n",
       "        vertical-align: middle;\n",
       "    }\n",
       "\n",
       "    .dataframe tbody tr th {\n",
       "        vertical-align: top;\n",
       "    }\n",
       "\n",
       "    .dataframe thead th {\n",
       "        text-align: right;\n",
       "    }\n",
       "</style>\n",
       "<table border=\"1\" class=\"dataframe\">\n",
       "  <thead>\n",
       "    <tr style=\"text-align: right;\">\n",
       "      <th></th>\n",
       "      <th>observed</th>\n",
       "      <th>mean</th>\n",
       "      <th>std</th>\n",
       "      <th>SEM</th>\n",
       "      <th>MSE</th>\n",
       "      <th>credible</th>\n",
       "      <th>quantile</th>\n",
       "      <th>mahalanobis</th>\n",
       "    </tr>\n",
       "    <tr>\n",
       "      <th>stat</th>\n",
       "      <th></th>\n",
       "      <th></th>\n",
       "      <th></th>\n",
       "      <th></th>\n",
       "      <th></th>\n",
       "      <th></th>\n",
       "      <th></th>\n",
       "      <th></th>\n",
       "    </tr>\n",
       "  </thead>\n",
       "  <tbody>\n",
       "    <tr>\n",
       "      <th>accuracy</th>\n",
       "      <td>0.602821</td>\n",
       "      <td>0.602583</td>\n",
       "      <td>0.083973</td>\n",
       "      <td>5.635994e-08</td>\n",
       "      <td>0.007051</td>\n",
       "      <td>True</td>\n",
       "      <td>47.528000</td>\n",
       "      <td>0.002827</td>\n",
       "    </tr>\n",
       "    <tr>\n",
       "      <th>mean_ub</th>\n",
       "      <td>0.655169</td>\n",
       "      <td>0.675842</td>\n",
       "      <td>0.096163</td>\n",
       "      <td>4.273434e-04</td>\n",
       "      <td>0.009675</td>\n",
       "      <td>True</td>\n",
       "      <td>48.944000</td>\n",
       "      <td>0.214971</td>\n",
       "    </tr>\n",
       "    <tr>\n",
       "      <th>std_ub</th>\n",
       "      <td>0.254718</td>\n",
       "      <td>0.241204</td>\n",
       "      <td>0.055340</td>\n",
       "      <td>1.826185e-04</td>\n",
       "      <td>0.003245</td>\n",
       "      <td>True</td>\n",
       "      <td>66.216003</td>\n",
       "      <td>0.244192</td>\n",
       "    </tr>\n",
       "    <tr>\n",
       "      <th>10q_ub</th>\n",
       "      <td>0.438023</td>\n",
       "      <td>0.463635</td>\n",
       "      <td>0.074209</td>\n",
       "      <td>6.559530e-04</td>\n",
       "      <td>0.006163</td>\n",
       "      <td>True</td>\n",
       "      <td>39.287998</td>\n",
       "      <td>0.345126</td>\n",
       "    </tr>\n",
       "    <tr>\n",
       "      <th>30q_ub</th>\n",
       "      <td>0.532931</td>\n",
       "      <td>0.524079</td>\n",
       "      <td>0.079033</td>\n",
       "      <td>7.836769e-05</td>\n",
       "      <td>0.006325</td>\n",
       "      <td>True</td>\n",
       "      <td>57.056000</td>\n",
       "      <td>0.112010</td>\n",
       "    </tr>\n",
       "    <tr>\n",
       "      <th>50q_ub</th>\n",
       "      <td>0.609510</td>\n",
       "      <td>0.601324</td>\n",
       "      <td>0.087671</td>\n",
       "      <td>6.700618e-05</td>\n",
       "      <td>0.007753</td>\n",
       "      <td>True</td>\n",
       "      <td>57.712002</td>\n",
       "      <td>0.093369</td>\n",
       "    </tr>\n",
       "    <tr>\n",
       "      <th>70q_ub</th>\n",
       "      <td>0.699052</td>\n",
       "      <td>0.721207</td>\n",
       "      <td>0.105363</td>\n",
       "      <td>4.908362e-04</td>\n",
       "      <td>0.011592</td>\n",
       "      <td>True</td>\n",
       "      <td>49.616001</td>\n",
       "      <td>0.210271</td>\n",
       "    </tr>\n",
       "    <tr>\n",
       "      <th>90q_ub</th>\n",
       "      <td>0.896312</td>\n",
       "      <td>0.984217</td>\n",
       "      <td>0.153013</td>\n",
       "      <td>7.727331e-03</td>\n",
       "      <td>0.031140</td>\n",
       "      <td>True</td>\n",
       "      <td>32.320000</td>\n",
       "      <td>0.574497</td>\n",
       "    </tr>\n",
       "    <tr>\n",
       "      <th>mean_lb</th>\n",
       "      <td>-0.693470</td>\n",
       "      <td>-0.697592</td>\n",
       "      <td>0.098954</td>\n",
       "      <td>1.698795e-05</td>\n",
       "      <td>0.009809</td>\n",
       "      <td>True</td>\n",
       "      <td>45.240002</td>\n",
       "      <td>0.041652</td>\n",
       "    </tr>\n",
       "    <tr>\n",
       "      <th>std_lb</th>\n",
       "      <td>0.248268</td>\n",
       "      <td>0.231012</td>\n",
       "      <td>0.057352</td>\n",
       "      <td>2.977729e-04</td>\n",
       "      <td>0.003587</td>\n",
       "      <td>True</td>\n",
       "      <td>68.295998</td>\n",
       "      <td>0.300878</td>\n",
       "    </tr>\n",
       "    <tr>\n",
       "      <th>10q_lb</th>\n",
       "      <td>0.490738</td>\n",
       "      <td>0.487239</td>\n",
       "      <td>0.074260</td>\n",
       "      <td>1.224187e-05</td>\n",
       "      <td>0.005527</td>\n",
       "      <td>True</td>\n",
       "      <td>49.192001</td>\n",
       "      <td>0.047116</td>\n",
       "    </tr>\n",
       "    <tr>\n",
       "      <th>30q_lb</th>\n",
       "      <td>0.574092</td>\n",
       "      <td>0.553131</td>\n",
       "      <td>0.080236</td>\n",
       "      <td>4.393500e-04</td>\n",
       "      <td>0.006877</td>\n",
       "      <td>True</td>\n",
       "      <td>62.848000</td>\n",
       "      <td>0.261237</td>\n",
       "    </tr>\n",
       "    <tr>\n",
       "      <th>50q_lb</th>\n",
       "      <td>0.639736</td>\n",
       "      <td>0.631037</td>\n",
       "      <td>0.090374</td>\n",
       "      <td>7.568567e-05</td>\n",
       "      <td>0.008243</td>\n",
       "      <td>True</td>\n",
       "      <td>58.543999</td>\n",
       "      <td>0.096264</td>\n",
       "    </tr>\n",
       "    <tr>\n",
       "      <th>70q_lb</th>\n",
       "      <td>0.723359</td>\n",
       "      <td>0.745691</td>\n",
       "      <td>0.109329</td>\n",
       "      <td>4.987401e-04</td>\n",
       "      <td>0.012452</td>\n",
       "      <td>True</td>\n",
       "      <td>47.551998</td>\n",
       "      <td>0.204269</td>\n",
       "    </tr>\n",
       "    <tr>\n",
       "      <th>90q_lb</th>\n",
       "      <td>0.953590</td>\n",
       "      <td>0.990789</td>\n",
       "      <td>0.160465</td>\n",
       "      <td>1.383725e-03</td>\n",
       "      <td>0.027133</td>\n",
       "      <td>True</td>\n",
       "      <td>48.408001</td>\n",
       "      <td>0.231817</td>\n",
       "    </tr>\n",
       "  </tbody>\n",
       "</table>\n",
       "</div>"
      ],
      "text/plain": [
       "          observed      mean       std           SEM       MSE credible  \\\n",
       "stat                                                                      \n",
       "accuracy  0.602821  0.602583  0.083973  5.635994e-08  0.007051     True   \n",
       "mean_ub   0.655169  0.675842  0.096163  4.273434e-04  0.009675     True   \n",
       "std_ub    0.254718  0.241204  0.055340  1.826185e-04  0.003245     True   \n",
       "10q_ub    0.438023  0.463635  0.074209  6.559530e-04  0.006163     True   \n",
       "30q_ub    0.532931  0.524079  0.079033  7.836769e-05  0.006325     True   \n",
       "50q_ub    0.609510  0.601324  0.087671  6.700618e-05  0.007753     True   \n",
       "70q_ub    0.699052  0.721207  0.105363  4.908362e-04  0.011592     True   \n",
       "90q_ub    0.896312  0.984217  0.153013  7.727331e-03  0.031140     True   \n",
       "mean_lb  -0.693470 -0.697592  0.098954  1.698795e-05  0.009809     True   \n",
       "std_lb    0.248268  0.231012  0.057352  2.977729e-04  0.003587     True   \n",
       "10q_lb    0.490738  0.487239  0.074260  1.224187e-05  0.005527     True   \n",
       "30q_lb    0.574092  0.553131  0.080236  4.393500e-04  0.006877     True   \n",
       "50q_lb    0.639736  0.631037  0.090374  7.568567e-05  0.008243     True   \n",
       "70q_lb    0.723359  0.745691  0.109329  4.987401e-04  0.012452     True   \n",
       "90q_lb    0.953590  0.990789  0.160465  1.383725e-03  0.027133     True   \n",
       "\n",
       "           quantile  mahalanobis  \n",
       "stat                              \n",
       "accuracy  47.528000     0.002827  \n",
       "mean_ub   48.944000     0.214971  \n",
       "std_ub    66.216003     0.244192  \n",
       "10q_ub    39.287998     0.345126  \n",
       "30q_ub    57.056000     0.112010  \n",
       "50q_ub    57.712002     0.093369  \n",
       "70q_ub    49.616001     0.210271  \n",
       "90q_ub    32.320000     0.574497  \n",
       "mean_lb   45.240002     0.041652  \n",
       "std_lb    68.295998     0.300878  \n",
       "10q_lb    49.192001     0.047116  \n",
       "30q_lb    62.848000     0.261237  \n",
       "50q_lb    58.543999     0.096264  \n",
       "70q_lb    47.551998     0.204269  \n",
       "90q_lb    48.408001     0.231817  "
      ]
     },
     "execution_count": 15,
     "metadata": {},
     "output_type": "execute_result"
    }
   ],
   "source": [
    "fm_data_2_sim = hddm.utils.post_pred_gen(fm_2)\n",
    "hddm.utils.post_pred_stats(fm_data_2, fm_data_2_sim)"
   ]
  }
 ],
 "metadata": {
  "kernelspec": {
   "display_name": "Python 2.7.18 ('bsliang_DDM_27': conda)",
   "language": "python",
   "name": "python3"
  },
  "language_info": {
   "codemirror_mode": {
    "name": "ipython",
    "version": 2
   },
   "file_extension": ".py",
   "mimetype": "text/x-python",
   "name": "python",
   "nbconvert_exporter": "python",
   "pygments_lexer": "ipython2",
   "version": "2.7.18"
  },
  "orig_nbformat": 4,
  "vscode": {
   "interpreter": {
    "hash": "800a09db568ebe80aacfc1bc086e45a31a7cff3ccaf522d8b640d0dfbe2b8801"
   }
  }
 },
 "nbformat": 4,
 "nbformat_minor": 2
}
