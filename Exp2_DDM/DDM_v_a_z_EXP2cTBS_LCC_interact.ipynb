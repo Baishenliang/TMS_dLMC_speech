{
 "cells": [
  {
   "cell_type": "markdown",
   "metadata": {},
   "source": [
    "# TBS"
   ]
  },
  {
   "cell_type": "markdown",
   "metadata": {},
   "source": [
    "## preparing"
   ]
  },
  {
   "cell_type": "code",
   "execution_count": 1,
   "metadata": {},
   "outputs": [
    {
     "name": "stderr",
     "output_type": "stream",
     "text": [
      "/home/bsliang/miniconda3/envs/bsliang_DDM_27/lib/python2.7/site-packages/IPython/parallel.py:13: ShimWarning: The `IPython.parallel` package has been deprecated. You should import from ipyparallel instead.\n",
      "  \"You should import from ipyparallel instead.\", ShimWarning)\n"
     ]
    }
   ],
   "source": [
    "import pandas as pd\n",
    "import matplotlib.pyplot as plt\n",
    "import hddm\n",
    "import numpy as np\n",
    "import pickle\n",
    "from patsy import dmatrices, dmatrix, demo_data\n",
    "cm = 1/2.54"
   ]
  },
  {
   "cell_type": "markdown",
   "metadata": {},
   "source": [
    "## loading data"
   ]
  },
  {
   "cell_type": "code",
   "execution_count": 2,
   "metadata": {},
   "outputs": [
    {
     "data": {
      "text/html": [
       "<div>\n",
       "<style scoped>\n",
       "    .dataframe tbody tr th:only-of-type {\n",
       "        vertical-align: middle;\n",
       "    }\n",
       "\n",
       "    .dataframe tbody tr th {\n",
       "        vertical-align: top;\n",
       "    }\n",
       "\n",
       "    .dataframe thead th {\n",
       "        text-align: right;\n",
       "    }\n",
       "</style>\n",
       "<table border=\"1\" class=\"dataframe\">\n",
       "  <thead>\n",
       "    <tr style=\"text-align: right;\">\n",
       "      <th></th>\n",
       "      <th>subj_idx</th>\n",
       "      <th>group_idx</th>\n",
       "      <th>turn_type</th>\n",
       "      <th>task_type</th>\n",
       "      <th>snr_type</th>\n",
       "      <th>trial_num</th>\n",
       "      <th>step_att</th>\n",
       "      <th>response</th>\n",
       "      <th>rt</th>\n",
       "      <th>step_unatnd</th>\n",
       "    </tr>\n",
       "  </thead>\n",
       "  <tbody>\n",
       "    <tr>\n",
       "      <th>0</th>\n",
       "      <td>55</td>\n",
       "      <td>Larynx</td>\n",
       "      <td>Left iTBS</td>\n",
       "      <td>Tone</td>\n",
       "      <td>Clear</td>\n",
       "      <td>1</td>\n",
       "      <td>3</td>\n",
       "      <td>1</td>\n",
       "      <td>1.083317</td>\n",
       "      <td>1</td>\n",
       "    </tr>\n",
       "    <tr>\n",
       "      <th>1</th>\n",
       "      <td>55</td>\n",
       "      <td>Larynx</td>\n",
       "      <td>Left iTBS</td>\n",
       "      <td>Tone</td>\n",
       "      <td>Clear</td>\n",
       "      <td>2</td>\n",
       "      <td>2</td>\n",
       "      <td>1</td>\n",
       "      <td>0.744397</td>\n",
       "      <td>1</td>\n",
       "    </tr>\n",
       "    <tr>\n",
       "      <th>2</th>\n",
       "      <td>55</td>\n",
       "      <td>Larynx</td>\n",
       "      <td>Left iTBS</td>\n",
       "      <td>Tone</td>\n",
       "      <td>Clear</td>\n",
       "      <td>3</td>\n",
       "      <td>2</td>\n",
       "      <td>1</td>\n",
       "      <td>0.732525</td>\n",
       "      <td>1</td>\n",
       "    </tr>\n",
       "    <tr>\n",
       "      <th>3</th>\n",
       "      <td>55</td>\n",
       "      <td>Larynx</td>\n",
       "      <td>Left iTBS</td>\n",
       "      <td>Tone</td>\n",
       "      <td>Clear</td>\n",
       "      <td>4</td>\n",
       "      <td>1</td>\n",
       "      <td>1</td>\n",
       "      <td>0.800199</td>\n",
       "      <td>1</td>\n",
       "    </tr>\n",
       "    <tr>\n",
       "      <th>4</th>\n",
       "      <td>55</td>\n",
       "      <td>Larynx</td>\n",
       "      <td>Left iTBS</td>\n",
       "      <td>Tone</td>\n",
       "      <td>Clear</td>\n",
       "      <td>5</td>\n",
       "      <td>2</td>\n",
       "      <td>1</td>\n",
       "      <td>0.753649</td>\n",
       "      <td>1</td>\n",
       "    </tr>\n",
       "    <tr>\n",
       "      <th>5</th>\n",
       "      <td>55</td>\n",
       "      <td>Larynx</td>\n",
       "      <td>Left iTBS</td>\n",
       "      <td>Tone</td>\n",
       "      <td>Clear</td>\n",
       "      <td>6</td>\n",
       "      <td>2</td>\n",
       "      <td>1</td>\n",
       "      <td>0.544652</td>\n",
       "      <td>1</td>\n",
       "    </tr>\n",
       "    <tr>\n",
       "      <th>6</th>\n",
       "      <td>55</td>\n",
       "      <td>Larynx</td>\n",
       "      <td>Left iTBS</td>\n",
       "      <td>Tone</td>\n",
       "      <td>Clear</td>\n",
       "      <td>7</td>\n",
       "      <td>1</td>\n",
       "      <td>1</td>\n",
       "      <td>0.621313</td>\n",
       "      <td>1</td>\n",
       "    </tr>\n",
       "    <tr>\n",
       "      <th>7</th>\n",
       "      <td>55</td>\n",
       "      <td>Larynx</td>\n",
       "      <td>Left iTBS</td>\n",
       "      <td>Tone</td>\n",
       "      <td>Clear</td>\n",
       "      <td>8</td>\n",
       "      <td>1</td>\n",
       "      <td>1</td>\n",
       "      <td>0.580819</td>\n",
       "      <td>1</td>\n",
       "    </tr>\n",
       "    <tr>\n",
       "      <th>8</th>\n",
       "      <td>55</td>\n",
       "      <td>Larynx</td>\n",
       "      <td>Left iTBS</td>\n",
       "      <td>Tone</td>\n",
       "      <td>Clear</td>\n",
       "      <td>9</td>\n",
       "      <td>1</td>\n",
       "      <td>0</td>\n",
       "      <td>-0.496794</td>\n",
       "      <td>1</td>\n",
       "    </tr>\n",
       "    <tr>\n",
       "      <th>9</th>\n",
       "      <td>55</td>\n",
       "      <td>Larynx</td>\n",
       "      <td>Left iTBS</td>\n",
       "      <td>Tone</td>\n",
       "      <td>Clear</td>\n",
       "      <td>10</td>\n",
       "      <td>3</td>\n",
       "      <td>1</td>\n",
       "      <td>0.863869</td>\n",
       "      <td>1</td>\n",
       "    </tr>\n",
       "  </tbody>\n",
       "</table>\n",
       "</div>"
      ],
      "text/plain": [
       "   subj_idx group_idx  turn_type task_type snr_type  trial_num  step_att  \\\n",
       "0        55    Larynx  Left iTBS      Tone    Clear          1         3   \n",
       "1        55    Larynx  Left iTBS      Tone    Clear          2         2   \n",
       "2        55    Larynx  Left iTBS      Tone    Clear          3         2   \n",
       "3        55    Larynx  Left iTBS      Tone    Clear          4         1   \n",
       "4        55    Larynx  Left iTBS      Tone    Clear          5         2   \n",
       "5        55    Larynx  Left iTBS      Tone    Clear          6         2   \n",
       "6        55    Larynx  Left iTBS      Tone    Clear          7         1   \n",
       "7        55    Larynx  Left iTBS      Tone    Clear          8         1   \n",
       "8        55    Larynx  Left iTBS      Tone    Clear          9         1   \n",
       "9        55    Larynx  Left iTBS      Tone    Clear         10         3   \n",
       "\n",
       "   response        rt  step_unatnd  \n",
       "0         1  1.083317            1  \n",
       "1         1  0.744397            1  \n",
       "2         1  0.732525            1  \n",
       "3         1  0.800199            1  \n",
       "4         1  0.753649            1  \n",
       "5         1  0.544652            1  \n",
       "6         1  0.621313            1  \n",
       "7         1  0.580819            1  \n",
       "8         0 -0.496794            1  \n",
       "9         1  0.863869            1  "
      ]
     },
     "execution_count": 2,
     "metadata": {},
     "output_type": "execute_result"
    }
   ],
   "source": [
    "data = hddm.load_csv('exp2_DDM.csv')\n",
    "data.at[data['step_att'].isin(['4']),'step_att']=2\n",
    "data.at[data['step_att'].isin(['5']),'step_att']=1\n",
    "data = hddm.utils.flip_errors(data)\n",
    "data.head(10)"
   ]
  },
  {
   "cell_type": "markdown",
   "metadata": {},
   "source": [
    "## left stim, consonant, clear"
   ]
  },
  {
   "cell_type": "markdown",
   "metadata": {},
   "source": [
    "### preparing data"
   ]
  },
  {
   "cell_type": "code",
   "execution_count": 3,
   "metadata": {},
   "outputs": [
    {
     "name": "stdout",
     "output_type": "stream",
     "text": [
      "       subj_idx group_idx  turn_type task_type snr_type  trial_num  step_att  \\\n",
      "780          55    Larynx  Left cTBS      Cons    Clear          1         2   \n",
      "781          55    Larynx  Left cTBS      Cons    Clear          2         2   \n",
      "782          55    Larynx  Left cTBS      Cons    Clear          3         1   \n",
      "783          55    Larynx  Left cTBS      Cons    Clear          4         1   \n",
      "784          55    Larynx  Left cTBS      Cons    Clear          5         1   \n",
      "785          55    Larynx  Left cTBS      Cons    Clear          6         1   \n",
      "786          55    Larynx  Left cTBS      Cons    Clear          7         2   \n",
      "787          55    Larynx  Left cTBS      Cons    Clear          8         3   \n",
      "788          55    Larynx  Left cTBS      Cons    Clear          9         2   \n",
      "789          55    Larynx  Left cTBS      Cons    Clear         10         2   \n",
      "790          55    Larynx  Left cTBS      Cons    Clear         11         3   \n",
      "791          55    Larynx  Left cTBS      Cons    Clear         12         1   \n",
      "792          55    Larynx  Left cTBS      Cons    Clear         13         2   \n",
      "793          55    Larynx  Left cTBS      Cons    Clear         14         1   \n",
      "794          55    Larynx  Left cTBS      Cons    Clear         15         2   \n",
      "795          55    Larynx  Left cTBS      Cons    Clear         16         3   \n",
      "796          55    Larynx  Left cTBS      Cons    Clear         17         3   \n",
      "797          55    Larynx  Left cTBS      Cons    Clear         18         3   \n",
      "798          55    Larynx  Left cTBS      Cons    Clear         19         1   \n",
      "799          55    Larynx  Left cTBS      Cons    Clear         20         1   \n",
      "800          55    Larynx  Left cTBS      Cons    Clear         21         2   \n",
      "801          55    Larynx  Left cTBS      Cons    Clear         22         2   \n",
      "802          55    Larynx  Left cTBS      Cons    Clear         23         3   \n",
      "803          55    Larynx  Left cTBS      Cons    Clear         24         2   \n",
      "804          55    Larynx  Left cTBS      Cons    Clear         25         1   \n",
      "805          55    Larynx  Left cTBS      Cons    Clear         26         1   \n",
      "806          55    Larynx  Left cTBS      Cons    Clear         27         2   \n",
      "807          55    Larynx  Left cTBS      Cons    Clear         28         3   \n",
      "808          55    Larynx  Left cTBS      Cons    Clear         29         2   \n",
      "809          55    Larynx  Left cTBS      Cons    Clear         30         3   \n",
      "...         ...       ...        ...       ...      ...        ...       ...   \n",
      "78282       253    Larynx       Sham      Cons    Clear        127         2   \n",
      "78283       253    Larynx       Sham      Cons    Clear        128         2   \n",
      "78284       253    Larynx       Sham      Cons    Clear        129         1   \n",
      "78285       253    Larynx       Sham      Cons    Clear        130         2   \n",
      "78286       253    Larynx       Sham      Cons    Clear        131         1   \n",
      "78287       253    Larynx       Sham      Cons    Clear        132         2   \n",
      "78288       253    Larynx       Sham      Cons    Clear        133         1   \n",
      "78289       253    Larynx       Sham      Cons    Clear        134         3   \n",
      "78290       253    Larynx       Sham      Cons    Clear        135         3   \n",
      "78291       253    Larynx       Sham      Cons    Clear        136         3   \n",
      "78292       253    Larynx       Sham      Cons    Clear        137         2   \n",
      "78293       253    Larynx       Sham      Cons    Clear        138         3   \n",
      "78294       253    Larynx       Sham      Cons    Clear        139         2   \n",
      "78295       253    Larynx       Sham      Cons    Clear        140         3   \n",
      "78296       253    Larynx       Sham      Cons    Clear        141         2   \n",
      "78297       253    Larynx       Sham      Cons    Clear        142         1   \n",
      "78298       253    Larynx       Sham      Cons    Clear        143         1   \n",
      "78299       253    Larynx       Sham      Cons    Clear        144         2   \n",
      "78300       253    Larynx       Sham      Cons    Clear        145         3   \n",
      "78301       253    Larynx       Sham      Cons    Clear        146         2   \n",
      "78302       253    Larynx       Sham      Cons    Clear        147         1   \n",
      "78303       253    Larynx       Sham      Cons    Clear        148         1   \n",
      "78304       253    Larynx       Sham      Cons    Clear        149         2   \n",
      "78305       253    Larynx       Sham      Cons    Clear        150         1   \n",
      "78306       253    Larynx       Sham      Cons    Clear        151         1   \n",
      "78307       253    Larynx       Sham      Cons    Clear        152         1   \n",
      "78308       253    Larynx       Sham      Cons    Clear        153         2   \n",
      "78309       253    Larynx       Sham      Cons    Clear        154         3   \n",
      "78310       253    Larynx       Sham      Cons    Clear        155         2   \n",
      "78311       253    Larynx       Sham      Cons    Clear        156         2   \n",
      "\n",
      "       response        rt  step_unatnd  \n",
      "780           1  0.681244            1  \n",
      "781           0 -0.438170            1  \n",
      "782           1  0.386653            1  \n",
      "783           1  0.420030            1  \n",
      "784           0 -0.571299            1  \n",
      "785           1  0.373450            1  \n",
      "786           1  0.462528            1  \n",
      "787           1  0.492050            1  \n",
      "788           1  0.504294            1  \n",
      "789           1  0.471557            1  \n",
      "790           1  0.935407            1  \n",
      "791           0 -0.578618            1  \n",
      "792           1  0.562041            1  \n",
      "793           0 -0.553086            1  \n",
      "794           1  0.351943            1  \n",
      "795           1  0.714067            1  \n",
      "796           1  0.539837            1  \n",
      "797           1  0.647431            1  \n",
      "798           0 -0.483036            1  \n",
      "799           0 -0.579703            1  \n",
      "800           1  0.439758            1  \n",
      "801           1  0.729273            1  \n",
      "802           1  0.608183            1  \n",
      "803           1  0.709677            1  \n",
      "804           1  0.548747            1  \n",
      "805           1  0.000471            1  \n",
      "806           1  2.352737            1  \n",
      "807           1  0.754569            1  \n",
      "808           0 -0.728551            1  \n",
      "809           1  0.561141            1  \n",
      "...         ...       ...          ...  \n",
      "78282         0 -0.596020            1  \n",
      "78283         1  0.483886            1  \n",
      "78284         1  0.480658            1  \n",
      "78285         0 -0.554141            1  \n",
      "78286         0 -0.483899            1  \n",
      "78287         0 -0.735664            1  \n",
      "78288         1  0.569922            1  \n",
      "78289         1  0.720954            1  \n",
      "78290         0 -0.799678            1  \n",
      "78291         1  0.687716            1  \n",
      "78292         0 -0.810177            1  \n",
      "78293         1  0.640178            1  \n",
      "78294         1  0.578575            1  \n",
      "78295         1  0.542345            1  \n",
      "78296         1  0.521091            1  \n",
      "78297         0 -0.483623            1  \n",
      "78298         1  0.646792            1  \n",
      "78299         0 -0.656289            1  \n",
      "78300         1  0.553948            1  \n",
      "78301         1  0.770307            1  \n",
      "78302         0 -0.506785            1  \n",
      "78303         0 -0.672766            1  \n",
      "78304         0 -0.721732            1  \n",
      "78305         1  0.609379            1  \n",
      "78306         1  0.689112            1  \n",
      "78307         1  0.545095            1  \n",
      "78308         1  0.401211            1  \n",
      "78309         0 -0.672633            1  \n",
      "78310         0 -0.584967            1  \n",
      "78311         1  0.515722            1  \n",
      "\n",
      "[7800 rows x 10 columns]\n"
     ]
    }
   ],
   "source": [
    "D_L=data.loc[data['turn_type'].isin(['Left cTBS','Sham'])]\n",
    "D_L_C=D_L.loc[D_L['task_type']=='Cons']\n",
    "D_L_C_Q=D_L_C.loc[D_L_C['snr_type']=='Clear']\n",
    "print(D_L_C_Q)\n",
    "D_L_C_Q.to_csv('Exp2_D_L_C_Q_cTBS.csv')"
   ]
  },
  {
   "cell_type": "markdown",
   "metadata": {},
   "source": [
    "### baseline model"
   ]
  },
  {
   "cell_type": "code",
   "execution_count": 4,
   "metadata": {},
   "outputs": [
    {
     "name": "stdout",
     "output_type": "stream",
     "text": [
      "Adding these covariates:\n",
      "['a_Intercept', \"a_C(turn_type, Treatment('Sham'))[T.Left cTBS]\"]\n",
      "Adding these covariates:\n",
      "['v_Intercept', \"v_C(turn_type, Treatment('Sham'))[T.Left cTBS]\"]\n",
      "Adding these covariates:\n",
      "['z_Intercept', \"z_C(turn_type, Treatment('Sham'))[T.Left cTBS]\"]\n"
     ]
    },
    {
     "name": "stderr",
     "output_type": "stream",
     "text": [
      "/home/bsliang/miniconda3/envs/bsliang_DDM_27/lib/python2.7/site-packages/scipy/optimize/optimize.py:1934: RuntimeWarning: invalid value encountered in double_scalars\n",
      "  tmp2 = (x - v) * (fx - fw)\n"
     ]
    },
    {
     "name": "stdout",
     "output_type": "stream",
     "text": [
      " [-----------------100%-----------------] 2001 of 2000 complete in 3937.1 sec"
     ]
    },
    {
     "data": {
      "text/plain": [
       "<pymc.MCMC.MCMC at 0x7f607c27a910>"
      ]
     },
     "execution_count": 4,
     "metadata": {},
     "output_type": "execute_result"
    }
   ],
   "source": [
    "a_reg = {'model': \"a ~ 1 + C(turn_type, Treatment('Sham'))\",'link_func': lambda x: x}\n",
    "v_reg = {'model': \"v ~ 1 + C(turn_type, Treatment('Sham'))\",'link_func': lambda x: x}\n",
    "z_reg = {'model': \"z ~ 1 + C(turn_type, Treatment('Sham'))\",'link_func': lambda x: x}\n",
    "reg_descr = [a_reg,v_reg,z_reg]\n",
    "D_L_C_Q_bsl = hddm.HDDMRegressor(D_L_C_Q, reg_descr, include='z')\n",
    "D_L_C_Q_bsl.find_starting_values()\n",
    "D_L_C_Q_bsl.sample(2000, burn=20, dbname='traces.db', db='pickle')"
   ]
  },
  {
   "cell_type": "markdown",
   "metadata": {},
   "source": [
    "### model 1: a only"
   ]
  },
  {
   "cell_type": "code",
   "execution_count": 5,
   "metadata": {},
   "outputs": [
    {
     "name": "stdout",
     "output_type": "stream",
     "text": [
      "Adding these covariates:\n",
      "['a_Intercept', \"a_step_att:C(turn_type, Treatment('Sham'))[Left cTBS]\", \"a_step_att:C(turn_type, Treatment('Sham'))[Sham]\"]\n",
      "Adding these covariates:\n",
      "['v_Intercept', \"v_C(turn_type, Treatment('Sham'))[T.Left cTBS]\"]\n",
      "Adding these covariates:\n",
      "['z_Intercept', \"z_C(turn_type, Treatment('Sham'))[T.Left cTBS]\"]\n",
      " [-----------------100%-----------------] 2001 of 2000 complete in 4585.1 sec"
     ]
    },
    {
     "data": {
      "text/plain": [
       "<pymc.MCMC.MCMC at 0x7f605c07a3d0>"
      ]
     },
     "execution_count": 5,
     "metadata": {},
     "output_type": "execute_result"
    }
   ],
   "source": [
    "a_reg = {'model': \"a ~ 1 + step_att:C(turn_type, Treatment('Sham'))\",'link_func': lambda x: x}\n",
    "v_reg = {'model': \"v ~ 1 + C(turn_type, Treatment('Sham'))\",'link_func': lambda x: x}\n",
    "z_reg = {'model': \"z ~ 1 + C(turn_type, Treatment('Sham'))\",'link_func': lambda x: x}\n",
    "reg_descr = [a_reg,v_reg,z_reg]\n",
    "D_L_C_Q_am = hddm.HDDMRegressor(D_L_C_Q, reg_descr, include='z')\n",
    "D_L_C_Q_am.find_starting_values()\n",
    "D_L_C_Q_am.sample(2000, burn=20, dbname='traces.db', db='pickle')"
   ]
  },
  {
   "cell_type": "markdown",
   "metadata": {},
   "source": [
    "### model 2: v only"
   ]
  },
  {
   "cell_type": "code",
   "execution_count": 6,
   "metadata": {},
   "outputs": [
    {
     "name": "stdout",
     "output_type": "stream",
     "text": [
      "Adding these covariates:\n",
      "['a_Intercept', \"a_C(turn_type, Treatment('Sham'))[T.Left cTBS]\"]\n",
      "Adding these covariates:\n",
      "['v_Intercept', \"v_step_att:C(turn_type, Treatment('Sham'))[Left cTBS]\", \"v_step_att:C(turn_type, Treatment('Sham'))[Sham]\"]\n",
      "Adding these covariates:\n",
      "['z_Intercept', \"z_C(turn_type, Treatment('Sham'))[T.Left cTBS]\"]\n",
      " [-----------------100%-----------------] 2001 of 2000 complete in 4428.3 sec"
     ]
    },
    {
     "data": {
      "text/plain": [
       "<pymc.MCMC.MCMC at 0x7f601c2ccd50>"
      ]
     },
     "execution_count": 6,
     "metadata": {},
     "output_type": "execute_result"
    }
   ],
   "source": [
    "a_reg = {'model': \"a ~ 1 + C(turn_type, Treatment('Sham'))\",'link_func': lambda x: x}\n",
    "v_reg = {'model': \"v ~ 1 + step_att:C(turn_type, Treatment('Sham'))\",'link_func': lambda x: x}\n",
    "z_reg = {'model': \"z ~ 1 + C(turn_type, Treatment('Sham'))\",'link_func': lambda x: x}\n",
    "reg_descr = [a_reg,v_reg,z_reg]\n",
    "D_L_C_Q_vm = hddm.HDDMRegressor(D_L_C_Q, reg_descr, include='z')\n",
    "D_L_C_Q_vm.find_starting_values()\n",
    "D_L_C_Q_vm.sample(2000, burn=20, dbname='traces.db', db='pickle')"
   ]
  },
  {
   "cell_type": "markdown",
   "metadata": {},
   "source": [
    "### model 3: z only"
   ]
  },
  {
   "cell_type": "code",
   "execution_count": 7,
   "metadata": {},
   "outputs": [
    {
     "name": "stdout",
     "output_type": "stream",
     "text": [
      "Adding these covariates:\n",
      "['a_Intercept', \"a_C(turn_type, Treatment('Sham'))[T.Left cTBS]\"]\n",
      "Adding these covariates:\n",
      "['v_Intercept', \"v_C(turn_type, Treatment('Sham'))[T.Left cTBS]\"]\n",
      "Adding these covariates:\n",
      "['z_Intercept', \"z_step_att:C(turn_type, Treatment('Sham'))[Left cTBS]\", \"z_step_att:C(turn_type, Treatment('Sham'))[Sham]\"]\n",
      " [-----------------100%-----------------] 2001 of 2000 complete in 4596.3 sec"
     ]
    },
    {
     "data": {
      "text/plain": [
       "<pymc.MCMC.MCMC at 0x7f605c50e850>"
      ]
     },
     "execution_count": 7,
     "metadata": {},
     "output_type": "execute_result"
    }
   ],
   "source": [
    "a_reg = {'model': \"a ~ 1 + C(turn_type, Treatment('Sham'))\",'link_func': lambda x: x}\n",
    "v_reg = {'model': \"v ~ 1 + C(turn_type, Treatment('Sham'))\",'link_func': lambda x: x}\n",
    "z_reg = {'model': \"z ~ 1 + step_att:C(turn_type, Treatment('Sham'))\",'link_func': lambda x: x}\n",
    "reg_descr = [a_reg,v_reg,z_reg]\n",
    "D_L_C_Q_zm = hddm.HDDMRegressor(D_L_C_Q, reg_descr, include='z')\n",
    "D_L_C_Q_zm.find_starting_values()\n",
    "D_L_C_Q_zm.sample(2000, burn=20, dbname='traces.db', db='pickle')"
   ]
  },
  {
   "cell_type": "markdown",
   "metadata": {},
   "source": [
    "### model 4: a + v"
   ]
  },
  {
   "cell_type": "code",
   "execution_count": 8,
   "metadata": {},
   "outputs": [
    {
     "name": "stdout",
     "output_type": "stream",
     "text": [
      "Adding these covariates:\n",
      "['a_Intercept', \"a_step_att:C(turn_type, Treatment('Sham'))[Left cTBS]\", \"a_step_att:C(turn_type, Treatment('Sham'))[Sham]\"]\n",
      "Adding these covariates:\n",
      "['v_Intercept', \"v_step_att:C(turn_type, Treatment('Sham'))[Left cTBS]\", \"v_step_att:C(turn_type, Treatment('Sham'))[Sham]\"]\n",
      "Adding these covariates:\n",
      "['z_Intercept', \"z_C(turn_type, Treatment('Sham'))[T.Left cTBS]\"]\n",
      " [-----------------100%-----------------] 2001 of 2000 complete in 4911.0 sec"
     ]
    },
    {
     "data": {
      "text/plain": [
       "<pymc.MCMC.MCMC at 0x7f5ff0310b50>"
      ]
     },
     "execution_count": 8,
     "metadata": {},
     "output_type": "execute_result"
    }
   ],
   "source": [
    "a_reg = {'model': \"a ~ 1 + step_att:C(turn_type, Treatment('Sham'))\",'link_func': lambda x: x}\n",
    "v_reg = {'model': \"v ~ 1 + step_att:C(turn_type, Treatment('Sham'))\",'link_func': lambda x: x}\n",
    "z_reg = {'model': \"z ~ 1 + C(turn_type, Treatment('Sham'))\",'link_func': lambda x: x}\n",
    "reg_descr = [a_reg,v_reg,z_reg]\n",
    "D_L_C_Q_avm = hddm.HDDMRegressor(D_L_C_Q, reg_descr, include='z')\n",
    "D_L_C_Q_avm.find_starting_values()\n",
    "D_L_C_Q_avm.sample(2000, burn=20, dbname='traces.db', db='pickle')"
   ]
  },
  {
   "cell_type": "markdown",
   "metadata": {},
   "source": [
    "### model 5: a + z"
   ]
  },
  {
   "cell_type": "code",
   "execution_count": 9,
   "metadata": {},
   "outputs": [
    {
     "name": "stdout",
     "output_type": "stream",
     "text": [
      "Adding these covariates:\n",
      "['a_Intercept', \"a_step_att:C(turn_type, Treatment('Sham'))[Left cTBS]\", \"a_step_att:C(turn_type, Treatment('Sham'))[Sham]\"]\n",
      "Adding these covariates:\n",
      "['v_Intercept', \"v_C(turn_type, Treatment('Sham'))[T.Left cTBS]\"]\n",
      "Adding these covariates:\n",
      "['z_Intercept', \"z_step_att:C(turn_type, Treatment('Sham'))[Left cTBS]\", \"z_step_att:C(turn_type, Treatment('Sham'))[Sham]\"]\n",
      " [-----------------100%-----------------] 2001 of 2000 complete in 5178.9 sec"
     ]
    },
    {
     "data": {
      "text/plain": [
       "<pymc.MCMC.MCMC at 0x7f5ff0304790>"
      ]
     },
     "execution_count": 9,
     "metadata": {},
     "output_type": "execute_result"
    }
   ],
   "source": [
    "a_reg = {'model': \"a ~ 1 + step_att:C(turn_type, Treatment('Sham'))\",'link_func': lambda x: x}\n",
    "v_reg = {'model': \"v ~ 1 + C(turn_type, Treatment('Sham'))\",'link_func': lambda x: x}\n",
    "z_reg = {'model': \"z ~ 1 + step_att:C(turn_type, Treatment('Sham'))\",'link_func': lambda x: x}\n",
    "reg_descr = [a_reg,v_reg,z_reg]\n",
    "D_L_C_Q_azm = hddm.HDDMRegressor(D_L_C_Q, reg_descr, include='z')\n",
    "D_L_C_Q_azm.find_starting_values()\n",
    "D_L_C_Q_azm.sample(2000, burn=20, dbname='traces.db', db='pickle')"
   ]
  },
  {
   "cell_type": "markdown",
   "metadata": {},
   "source": [
    "### model 6: v + z"
   ]
  },
  {
   "cell_type": "code",
   "execution_count": 10,
   "metadata": {},
   "outputs": [
    {
     "name": "stdout",
     "output_type": "stream",
     "text": [
      "Adding these covariates:\n",
      "['a_Intercept', \"a_C(turn_type, Treatment('Sham'))[T.Left cTBS]\"]\n",
      "Adding these covariates:\n",
      "['v_Intercept', \"v_step_att:C(turn_type, Treatment('Sham'))[Left cTBS]\", \"v_step_att:C(turn_type, Treatment('Sham'))[Sham]\"]\n",
      "Adding these covariates:\n",
      "['z_Intercept', \"z_step_att:C(turn_type, Treatment('Sham'))[Left cTBS]\", \"z_step_att:C(turn_type, Treatment('Sham'))[Sham]\"]\n",
      " [-----------------100%-----------------] 2001 of 2000 complete in 4968.3 sec"
     ]
    },
    {
     "data": {
      "text/plain": [
       "<pymc.MCMC.MCMC at 0x7f5fb023ed90>"
      ]
     },
     "execution_count": 10,
     "metadata": {},
     "output_type": "execute_result"
    }
   ],
   "source": [
    "a_reg = {'model': \"a ~ 1 + C(turn_type, Treatment('Sham'))\",'link_func': lambda x: x}\n",
    "v_reg = {'model': \"v ~ 1 + step_att:C(turn_type, Treatment('Sham'))\",'link_func': lambda x: x}\n",
    "z_reg = {'model': \"z ~ 1 + step_att:C(turn_type, Treatment('Sham'))\",'link_func': lambda x: x}\n",
    "reg_descr = [a_reg,v_reg,z_reg]\n",
    "D_L_C_Q_vzm = hddm.HDDMRegressor(D_L_C_Q, reg_descr, include='z')\n",
    "D_L_C_Q_vzm.find_starting_values()\n",
    "D_L_C_Q_vzm.sample(2000, burn=20, dbname='traces.db', db='pickle')"
   ]
  },
  {
   "cell_type": "markdown",
   "metadata": {},
   "source": [
    "### model 7: a + v + z"
   ]
  },
  {
   "cell_type": "code",
   "execution_count": 11,
   "metadata": {},
   "outputs": [
    {
     "name": "stdout",
     "output_type": "stream",
     "text": [
      "Adding these covariates:\n",
      "['a_Intercept', \"a_step_att:C(turn_type, Treatment('Sham'))[Left cTBS]\", \"a_step_att:C(turn_type, Treatment('Sham'))[Sham]\"]\n",
      "Adding these covariates:\n",
      "['v_Intercept', \"v_step_att:C(turn_type, Treatment('Sham'))[Left cTBS]\", \"v_step_att:C(turn_type, Treatment('Sham'))[Sham]\"]\n",
      "Adding these covariates:\n",
      "['z_Intercept', \"z_step_att:C(turn_type, Treatment('Sham'))[Left cTBS]\", \"z_step_att:C(turn_type, Treatment('Sham'))[Sham]\"]\n",
      " [-----------------100%-----------------] 2001 of 2000 complete in 5593.0 secWARNING: Will not save custom link functions.\n",
      "WARNING: Will not save custom link functions.\n",
      "WARNING: Will not save custom link functions.\n"
     ]
    }
   ],
   "source": [
    "a_reg = {'model': \"a ~ 1 + step_att:C(turn_type, Treatment('Sham'))\",'link_func': lambda x: x}\n",
    "v_reg = {'model': \"v ~ 1 + step_att:C(turn_type, Treatment('Sham'))\",'link_func': lambda x: x}\n",
    "z_reg = {'model': \"z ~ 1 + step_att:C(turn_type, Treatment('Sham'))\",'link_func': lambda x: x}\n",
    "reg_descr = [a_reg,v_reg,z_reg]\n",
    "D_L_C_Q_fm = hddm.HDDMRegressor(D_L_C_Q, reg_descr, include='z')\n",
    "D_L_C_Q_fm.find_starting_values()\n",
    "D_L_C_Q_fm.sample(2000, burn=20, dbname='traces.db', db='pickle')\n",
    "D_L_C_Q_fm.save('D_L_C_Q_fm')"
   ]
  },
  {
   "cell_type": "markdown",
   "metadata": {},
   "source": [
    "### Model comparison"
   ]
  },
  {
   "cell_type": "code",
   "execution_count": 17,
   "metadata": {},
   "outputs": [
    {
     "name": "stdout",
     "output_type": "stream",
     "text": [
      "baseline model DIC: 3200.695108\n",
      "a model DIC: 3033.619810\n",
      "v model DIC: 2771.976376\n",
      "z model DIC: 3087.116629\n",
      "av model DIC: 2503.074162\n",
      "az model DIC: 2773.795731\n",
      "vz model DIC: 2773.619338\n",
      "full model DIC: 2494.362665\n"
     ]
    },
    {
     "data": {
      "image/png": "[encoded data removed]",
      "text/plain": [
       "<Figure size 130.394x63.7795 with 1 Axes>"
      ]
     },
     "metadata": {
      "needs_background": "light"
     },
     "output_type": "display_data"
    }
   ],
   "source": [
    "print(\"baseline model DIC: %f\" % D_L_C_Q_bsl.dic)\n",
    "print(\"a model DIC: %f\" % D_L_C_Q_am.dic)\n",
    "print(\"v model DIC: %f\" % D_L_C_Q_vm.dic)\n",
    "print(\"z model DIC: %f\" % D_L_C_Q_zm.dic)\n",
    "print(\"av model DIC: %f\" % D_L_C_Q_avm.dic)\n",
    "print(\"az model DIC: %f\" % D_L_C_Q_azm.dic)\n",
    "print(\"vz model DIC: %f\" % D_L_C_Q_vzm.dic)\n",
    "print(\"full model DIC: %f\" % D_L_C_Q_fm.dic)\n",
    "\n",
    "fig, ax = plt.subplots()\n",
    "\n",
    "fruits = ['baseline', 'a', 'v', 'z', 'av', 'az', 'vz','full']\n",
    "counts = [D_L_C_Q_bsl.dic, D_L_C_Q_am.dic, D_L_C_Q_vm.dic, D_L_C_Q_zm.dic,D_L_C_Q_avm.dic,D_L_C_Q_azm.dic,D_L_C_Q_vzm.dic,D_L_C_Q_fm.dic]\n",
    "\n",
    "D_name='D_L_C_Q'\n",
    "\n",
    "ax.bar(fruits, counts,color=[197./255,158./255,226./255],edgecolor='black',linewidth=0.5)\n",
    "\n",
    "plt.rcParams['savefig.dpi']=300\n",
    "plt.rcParams['axes.linewidth']=0.5\n",
    "\n",
    "#ax.set_ylabel('DIC value')\n",
    "#ax.set_title('TBS: Left cTBS consonant quiet')\n",
    "ax.set_ylim([2400,3210])\n",
    "ytick_plot=range(2400,3210,120)\n",
    "ytick_plot.append(3210)\n",
    "ax.set_yticks(ytick_plot)\n",
    "ax.spines['right'].set_visible(False)\n",
    "ax.spines['top'].set_visible(False)\n",
    "\n",
    "fig.set_size_inches(4.6*cm,2.25*cm)\n",
    "ax.tick_params('both',which='major',direction='in',width=0.5,length=2)\n",
    "plt.rcParams['font.size']=5\n",
    "plt.rcParams['font.family']='Arial'\n",
    "plt.savefig(D_name+'_interact_M_compare.pdf',bbox_inches = 'tight',transparent=True)\n",
    "plt.show()"
   ]
  },
  {
   "cell_type": "markdown",
   "metadata": {},
   "source": [
    "### Plotting"
   ]
  },
  {
   "cell_type": "code",
   "execution_count": 13,
   "metadata": {},
   "outputs": [
    {
     "data": {
      "image/png": "[encoded data removed]",
      "text/plain": [
       "<Figure size 127.559x70.8661 with 1 Axes>"
      ]
     },
     "metadata": {
      "needs_background": "light"
     },
     "output_type": "display_data"
    },
    {
     "name": "stdout",
     "output_type": "stream",
     "text": [
      "('P(a > Sham) = ', 1.0)\n",
      "('P(v > Sham) = ', 1.0)\n",
      "('P(z > Sham) = ', 0.997979797979798)\n"
     ]
    }
   ],
   "source": [
    "a_Intercept,a_cTBS = D_L_C_Q_fm.nodes_db.loc[[\"a_Intercept\",\"a_step_att:C(turn_type, Treatment('Sham'))[Left cTBS]\"], 'node']\n",
    "# hddm.analyze.plot_posterior_nodes([a_Intercept,a_cTBS])\n",
    "# plt.xlabel('boundary')\n",
    "# plt.ylabel('Posterior probability')\n",
    "# plt.title('Full model')\n",
    "\n",
    "v_Intercept,v_cTBS = D_L_C_Q_fm.nodes_db.loc[[\"v_Intercept\",\"v_step_att:C(turn_type, Treatment('Sham'))[Left cTBS]\"], 'node']\n",
    "# hddm.analyze.plot_posterior_nodes([v_Intercept,v_cTBS])\n",
    "# plt.xlabel('drift-rate')\n",
    "# plt.ylabel('Posterior probability')\n",
    "# plt.title('Full model')\n",
    "\n",
    "z_Intercept,z_cTBS = D_L_C_Q_fm.nodes_db.loc[[\"z_Intercept\",\"z_step_att:C(turn_type, Treatment('Sham'))[Left cTBS]\"], 'node']\n",
    "# hddm.analyze.plot_posterior_nodes([z_Intercept,z_cTBS])\n",
    "# plt.xlabel('starting point')\n",
    "# plt.ylabel('Posterior probability')\n",
    "# plt.title('Full model')\n",
    "\n",
    "fig, ax = plt.subplots()\n",
    "fig.set_size_inches(4.5*cm,2.5*cm)\n",
    "\n",
    "para_tag=['boundary(a)','drift rate(v)','starting point(z)']\n",
    "counts = [a_cTBS.trace()/(max(a_cTBS.trace())-min(a_cTBS.trace())),v_cTBS.trace()/(max(v_cTBS.trace())-min(v_cTBS.trace())),z_cTBS.trace()/(max(z_cTBS.trace())-min(z_cTBS.trace()))]\n",
    "\n",
    "ax.axhline(y = 0, color =[0.5,0.5,0.5], linestyle =\"--\", linewidth = 0.5, zorder=0)\n",
    "\n",
    "vioparts=ax.violinplot(counts)\n",
    "for pc in vioparts['bodies']:\n",
    "    pc.set_facecolor([197./255,158./255,226./255])\n",
    "    pc.set_edgecolor('black')\n",
    "    pc.set_linewidth(0.5)\n",
    "    pc.set_alpha(0.8)\n",
    "vioparts['cbars'].set_color('black')\n",
    "vioparts['cbars'].set_linewidth(0.5)\n",
    "vioparts['cmaxes'].set_color('black')\n",
    "vioparts['cmaxes'].set_linewidth(0.5)\n",
    "vioparts['cmins'].set_color('black')\n",
    "vioparts['cmins'].set_linewidth(0.5)\n",
    "\n",
    "ax.set_xticks([1,2,3])\n",
    "ax.set_xticklabels(para_tag)\n",
    "#ax.set_title('Full model: Left cTBS consonant quiet')\n",
    "#ax.set_ylabel('Regression coef (normalized)')\n",
    "ax.set_ylim([-1,3.5])\n",
    "ax.spines['right'].set_visible(False)\n",
    "ax.spines['top'].set_visible(False)\n",
    "\n",
    "ax.tick_params('both',which='major',direction='in',width=0.5,length=2)\n",
    "plt.rcParams['savefig.dpi']=300\n",
    "plt.rcParams['font.size']=5\n",
    "plt.rcParams['font.family']='Arial'\n",
    "plt.savefig(D_name+'_interact_cTBS_DDMparas.pdf',bbox_inches = 'tight',transparent=True)\n",
    "plt.show()\n",
    "\n",
    "print(\"P(a > Sham) = \", (a_cTBS.trace() > 0).mean())\n",
    "print(\"P(v > Sham) = \", (v_cTBS.trace() > 0).mean())\n",
    "print(\"P(z > Sham) = \", (z_cTBS.trace() > 0).mean())"
   ]
  },
  {
   "cell_type": "markdown",
   "metadata": {},
   "source": [
    "### check full model simulation prediction accuracy"
   ]
  },
  {
   "cell_type": "markdown",
   "metadata": {},
   "source": [
    "#### fit the full model"
   ]
  },
  {
   "cell_type": "code",
   "execution_count": 14,
   "metadata": {},
   "outputs": [
    {
     "name": "stdout",
     "output_type": "stream",
     "text": [
      "Adding these covariates:\n",
      "['a_Intercept', \"a_step_att:C(turn_type, Treatment('Sham'))[Left cTBS]\", \"a_step_att:C(turn_type, Treatment('Sham'))[Sham]\"]\n",
      "Adding these covariates:\n",
      "['v_Intercept', \"v_step_att:C(turn_type, Treatment('Sham'))[Left cTBS]\", \"v_step_att:C(turn_type, Treatment('Sham'))[Sham]\"]\n",
      "Adding these covariates:\n",
      "['z_Intercept', \"z_step_att:C(turn_type, Treatment('Sham'))[Left cTBS]\", \"z_step_att:C(turn_type, Treatment('Sham'))[Sham]\"]\n",
      " [-----------------100%-----------------] 2001 of 2000 complete in 5620.0 sec"
     ]
    },
    {
     "data": {
      "text/plain": [
       "<pymc.MCMC.MCMC at 0x7f5f934b9950>"
      ]
     },
     "execution_count": 14,
     "metadata": {},
     "output_type": "execute_result"
    }
   ],
   "source": [
    "fm_data_2=D_L_C_Q\n",
    "fm_data_2.reset_index(inplace = True, drop = True)\n",
    "a_reg = {'model': \"a ~ 1 + step_att:C(turn_type, Treatment('Sham'))\",'link_func': lambda x: x}\n",
    "v_reg = {'model': \"v ~ 1 + step_att:C(turn_type, Treatment('Sham'))\",'link_func': lambda x: x}\n",
    "z_reg = {'model': \"z ~ 1 + step_att:C(turn_type, Treatment('Sham'))\",'link_func': lambda x: x}\n",
    "reg_descr = [a_reg,v_reg,z_reg]\n",
    "fm_2 = hddm.HDDMRegressor(fm_data_2, reg_descr, include='z')\n",
    "fm_2.find_starting_values()\n",
    "fm_2.sample(2000, burn=20, dbname='traces.db', db='pickle')"
   ]
  },
  {
   "cell_type": "markdown",
   "metadata": {},
   "source": [
    "#### predict data from simulated data derived from full model"
   ]
  },
  {
   "cell_type": "code",
   "execution_count": 15,
   "metadata": {},
   "outputs": [
    {
     "name": "stdout",
     "output_type": "stream",
     "text": [
      " [-------------------112%-------------------] 28 of 25 complete in 24345.3 sec"
     ]
    },
    {
     "data": {
      "text/html": [
       "<div>\n",
       "<style scoped>\n",
       "    .dataframe tbody tr th:only-of-type {\n",
       "        vertical-align: middle;\n",
       "    }\n",
       "\n",
       "    .dataframe tbody tr th {\n",
       "        vertical-align: top;\n",
       "    }\n",
       "\n",
       "    .dataframe thead th {\n",
       "        text-align: right;\n",
       "    }\n",
       "</style>\n",
       "<table border=\"1\" class=\"dataframe\">\n",
       "  <thead>\n",
       "    <tr style=\"text-align: right;\">\n",
       "      <th></th>\n",
       "      <th>observed</th>\n",
       "      <th>mean</th>\n",
       "      <th>std</th>\n",
       "      <th>SEM</th>\n",
       "      <th>MSE</th>\n",
       "      <th>credible</th>\n",
       "      <th>quantile</th>\n",
       "      <th>mahalanobis</th>\n",
       "    </tr>\n",
       "    <tr>\n",
       "      <th>stat</th>\n",
       "      <th></th>\n",
       "      <th></th>\n",
       "      <th></th>\n",
       "      <th></th>\n",
       "      <th></th>\n",
       "      <th></th>\n",
       "      <th></th>\n",
       "      <th></th>\n",
       "    </tr>\n",
       "  </thead>\n",
       "  <tbody>\n",
       "    <tr>\n",
       "      <th>accuracy</th>\n",
       "      <td>0.657692</td>\n",
       "      <td>0.668377</td>\n",
       "      <td>0.110949</td>\n",
       "      <td>0.000114</td>\n",
       "      <td>0.012424</td>\n",
       "      <td>True</td>\n",
       "      <td>43.591999</td>\n",
       "      <td>0.096307</td>\n",
       "    </tr>\n",
       "    <tr>\n",
       "      <th>mean_ub</th>\n",
       "      <td>0.605000</td>\n",
       "      <td>0.637127</td>\n",
       "      <td>0.100716</td>\n",
       "      <td>0.001032</td>\n",
       "      <td>0.011176</td>\n",
       "      <td>True</td>\n",
       "      <td>39.040001</td>\n",
       "      <td>0.318992</td>\n",
       "    </tr>\n",
       "    <tr>\n",
       "      <th>std_ub</th>\n",
       "      <td>0.238757</td>\n",
       "      <td>0.224880</td>\n",
       "      <td>0.056591</td>\n",
       "      <td>0.000193</td>\n",
       "      <td>0.003395</td>\n",
       "      <td>True</td>\n",
       "      <td>64.608002</td>\n",
       "      <td>0.245227</td>\n",
       "    </tr>\n",
       "    <tr>\n",
       "      <th>10q_ub</th>\n",
       "      <td>0.406351</td>\n",
       "      <td>0.438566</td>\n",
       "      <td>0.081494</td>\n",
       "      <td>0.001038</td>\n",
       "      <td>0.007679</td>\n",
       "      <td>True</td>\n",
       "      <td>25.559999</td>\n",
       "      <td>0.395298</td>\n",
       "    </tr>\n",
       "    <tr>\n",
       "      <th>30q_ub</th>\n",
       "      <td>0.494294</td>\n",
       "      <td>0.495861</td>\n",
       "      <td>0.084136</td>\n",
       "      <td>0.000002</td>\n",
       "      <td>0.007081</td>\n",
       "      <td>True</td>\n",
       "      <td>47.256001</td>\n",
       "      <td>0.018623</td>\n",
       "    </tr>\n",
       "    <tr>\n",
       "      <th>50q_ub</th>\n",
       "      <td>0.561459</td>\n",
       "      <td>0.568064</td>\n",
       "      <td>0.092086</td>\n",
       "      <td>0.000044</td>\n",
       "      <td>0.008523</td>\n",
       "      <td>True</td>\n",
       "      <td>48.431999</td>\n",
       "      <td>0.071732</td>\n",
       "    </tr>\n",
       "    <tr>\n",
       "      <th>70q_ub</th>\n",
       "      <td>0.647337</td>\n",
       "      <td>0.679703</td>\n",
       "      <td>0.108900</td>\n",
       "      <td>0.001048</td>\n",
       "      <td>0.012907</td>\n",
       "      <td>True</td>\n",
       "      <td>42.551998</td>\n",
       "      <td>0.297204</td>\n",
       "    </tr>\n",
       "    <tr>\n",
       "      <th>90q_ub</th>\n",
       "      <td>0.836489</td>\n",
       "      <td>0.925203</td>\n",
       "      <td>0.156723</td>\n",
       "      <td>0.007870</td>\n",
       "      <td>0.032432</td>\n",
       "      <td>True</td>\n",
       "      <td>34.520000</td>\n",
       "      <td>0.566053</td>\n",
       "    </tr>\n",
       "    <tr>\n",
       "      <th>mean_lb</th>\n",
       "      <td>-0.657797</td>\n",
       "      <td>-0.645109</td>\n",
       "      <td>0.104471</td>\n",
       "      <td>0.000161</td>\n",
       "      <td>0.011075</td>\n",
       "      <td>True</td>\n",
       "      <td>41.632000</td>\n",
       "      <td>0.121454</td>\n",
       "    </tr>\n",
       "    <tr>\n",
       "      <th>std_lb</th>\n",
       "      <td>0.232883</td>\n",
       "      <td>0.217983</td>\n",
       "      <td>0.059811</td>\n",
       "      <td>0.000222</td>\n",
       "      <td>0.003799</td>\n",
       "      <td>True</td>\n",
       "      <td>65.655998</td>\n",
       "      <td>0.249112</td>\n",
       "    </tr>\n",
       "    <tr>\n",
       "      <th>10q_lb</th>\n",
       "      <td>0.467287</td>\n",
       "      <td>0.446901</td>\n",
       "      <td>0.087057</td>\n",
       "      <td>0.000416</td>\n",
       "      <td>0.007994</td>\n",
       "      <td>True</td>\n",
       "      <td>60.703999</td>\n",
       "      <td>0.234166</td>\n",
       "    </tr>\n",
       "    <tr>\n",
       "      <th>30q_lb</th>\n",
       "      <td>0.548804</td>\n",
       "      <td>0.508104</td>\n",
       "      <td>0.091376</td>\n",
       "      <td>0.001657</td>\n",
       "      <td>0.010006</td>\n",
       "      <td>True</td>\n",
       "      <td>70.136002</td>\n",
       "      <td>0.445415</td>\n",
       "    </tr>\n",
       "    <tr>\n",
       "      <th>50q_lb</th>\n",
       "      <td>0.616807</td>\n",
       "      <td>0.581558</td>\n",
       "      <td>0.098523</td>\n",
       "      <td>0.001243</td>\n",
       "      <td>0.010949</td>\n",
       "      <td>True</td>\n",
       "      <td>65.632004</td>\n",
       "      <td>0.357776</td>\n",
       "    </tr>\n",
       "    <tr>\n",
       "      <th>70q_lb</th>\n",
       "      <td>0.696041</td>\n",
       "      <td>0.690525</td>\n",
       "      <td>0.113465</td>\n",
       "      <td>0.000030</td>\n",
       "      <td>0.012905</td>\n",
       "      <td>True</td>\n",
       "      <td>55.928001</td>\n",
       "      <td>0.048619</td>\n",
       "    </tr>\n",
       "    <tr>\n",
       "      <th>90q_lb</th>\n",
       "      <td>0.886618</td>\n",
       "      <td>0.922359</td>\n",
       "      <td>0.159660</td>\n",
       "      <td>0.001277</td>\n",
       "      <td>0.026769</td>\n",
       "      <td>True</td>\n",
       "      <td>47.416000</td>\n",
       "      <td>0.223858</td>\n",
       "    </tr>\n",
       "  </tbody>\n",
       "</table>\n",
       "</div>"
      ],
      "text/plain": [
       "          observed      mean       std       SEM       MSE credible  \\\n",
       "stat                                                                  \n",
       "accuracy  0.657692  0.668377  0.110949  0.000114  0.012424     True   \n",
       "mean_ub   0.605000  0.637127  0.100716  0.001032  0.011176     True   \n",
       "std_ub    0.238757  0.224880  0.056591  0.000193  0.003395     True   \n",
       "10q_ub    0.406351  0.438566  0.081494  0.001038  0.007679     True   \n",
       "30q_ub    0.494294  0.495861  0.084136  0.000002  0.007081     True   \n",
       "50q_ub    0.561459  0.568064  0.092086  0.000044  0.008523     True   \n",
       "70q_ub    0.647337  0.679703  0.108900  0.001048  0.012907     True   \n",
       "90q_ub    0.836489  0.925203  0.156723  0.007870  0.032432     True   \n",
       "mean_lb  -0.657797 -0.645109  0.104471  0.000161  0.011075     True   \n",
       "std_lb    0.232883  0.217983  0.059811  0.000222  0.003799     True   \n",
       "10q_lb    0.467287  0.446901  0.087057  0.000416  0.007994     True   \n",
       "30q_lb    0.548804  0.508104  0.091376  0.001657  0.010006     True   \n",
       "50q_lb    0.616807  0.581558  0.098523  0.001243  0.010949     True   \n",
       "70q_lb    0.696041  0.690525  0.113465  0.000030  0.012905     True   \n",
       "90q_lb    0.886618  0.922359  0.159660  0.001277  0.026769     True   \n",
       "\n",
       "           quantile  mahalanobis  \n",
       "stat                              \n",
       "accuracy  43.591999     0.096307  \n",
       "mean_ub   39.040001     0.318992  \n",
       "std_ub    64.608002     0.245227  \n",
       "10q_ub    25.559999     0.395298  \n",
       "30q_ub    47.256001     0.018623  \n",
       "50q_ub    48.431999     0.071732  \n",
       "70q_ub    42.551998     0.297204  \n",
       "90q_ub    34.520000     0.566053  \n",
       "mean_lb   41.632000     0.121454  \n",
       "std_lb    65.655998     0.249112  \n",
       "10q_lb    60.703999     0.234166  \n",
       "30q_lb    70.136002     0.445415  \n",
       "50q_lb    65.632004     0.357776  \n",
       "70q_lb    55.928001     0.048619  \n",
       "90q_lb    47.416000     0.223858  "
      ]
     },
     "execution_count": 15,
     "metadata": {},
     "output_type": "execute_result"
    }
   ],
   "source": [
    "fm_data_2_sim = hddm.utils.post_pred_gen(fm_2)\n",
    "hddm.utils.post_pred_stats(fm_data_2, fm_data_2_sim)"
   ]
  }
 ],
 "metadata": {
  "kernelspec": {
   "display_name": "Python 2.7.18 ('bsliang_DDM_27': conda)",
   "language": "python",
   "name": "python3"
  },
  "language_info": {
   "codemirror_mode": {
    "name": "ipython",
    "version": 2
   },
   "file_extension": ".py",
   "mimetype": "text/x-python",
   "name": "python",
   "nbconvert_exporter": "python",
   "pygments_lexer": "ipython2",
   "version": "2.7.18"
  },
  "orig_nbformat": 4,
  "vscode": {
   "interpreter": {
    "hash": "800a09db568ebe80aacfc1bc086e45a31a7cff3ccaf522d8b640d0dfbe2b8801"
   }
  }
 },
 "nbformat": 4,
 "nbformat_minor": 2
}
