{
 "cells": [
  {
   "cell_type": "markdown",
   "metadata": {},
   "source": [
    "# TBS"
   ]
  },
  {
   "cell_type": "markdown",
   "metadata": {},
   "source": [
    "## preparing"
   ]
  },
  {
   "cell_type": "code",
   "execution_count": 1,
   "metadata": {},
   "outputs": [
    {
     "name": "stderr",
     "output_type": "stream",
     "text": [
      "/home/bsliang/miniconda3/envs/bsliang_DDM_27/lib/python2.7/site-packages/IPython/parallel.py:13: ShimWarning: The `IPython.parallel` package has been deprecated. You should import from ipyparallel instead.\n",
      "  \"You should import from ipyparallel instead.\", ShimWarning)\n"
     ]
    }
   ],
   "source": [
    "import pandas as pd\n",
    "import matplotlib.pyplot as plt\n",
    "import hddm\n",
    "import numpy as np\n",
    "import pickle\n",
    "from patsy import dmatrices, dmatrix, demo_data"
   ]
  },
  {
   "cell_type": "code",
   "execution_count": 2,
   "metadata": {},
   "outputs": [],
   "source": [
    "data = hddm.load_csv('exp2_DDM.csv')\n",
    "data.at[data['step_att'].isin(['4']),'step_att']=2\n",
    "data.at[data['step_att'].isin(['5']),'step_att']=1\n",
    "data = hddm.utils.flip_errors(data)"
   ]
  },
  {
   "cell_type": "code",
   "execution_count": 3,
   "metadata": {},
   "outputs": [],
   "source": [
    "D_R=data.loc[data['turn_type'].isin(['Right cTBS','Sham'])]\n",
    "D_R_T=D_R.loc[D_R['task_type']=='Tone']\n",
    "D_R_T_Q=D_R_T.loc[D_R_T['snr_type']=='Clear']\n",
    "D_R_T_Q_UNAMB=D_R_T_Q.loc[D_R_T_Q['step_att'].isin([1])]\n",
    "D_R_T_Q_HALFAMB=D_R_T_Q.loc[D_R_T_Q['step_att'].isin([2])]\n",
    "D_R_T_Q_AMB=D_R_T_Q.loc[D_R_T_Q['step_att'].isin([3])]"
   ]
  },
  {
   "cell_type": "markdown",
   "metadata": {},
   "source": [
    "## Unambiguous"
   ]
  },
  {
   "cell_type": "code",
   "execution_count": 4,
   "metadata": {},
   "outputs": [
    {
     "name": "stdout",
     "output_type": "stream",
     "text": [
      "Adding these covariates:\n",
      "['a_Intercept', \"a_C(turn_type, Treatment('Sham'))[T.Right cTBS]\"]\n",
      "Adding these covariates:\n",
      "['v_Intercept', \"v_C(turn_type, Treatment('Sham'))[T.Right cTBS]\"]\n",
      "Adding these covariates:\n",
      "['z_Intercept', \"z_C(turn_type, Treatment('Sham'))[T.Right cTBS]\"]\n"
     ]
    },
    {
     "name": "stderr",
     "output_type": "stream",
     "text": [
      "/home/bsliang/miniconda3/envs/bsliang_DDM_27/lib/python2.7/site-packages/scipy/optimize/optimize.py:1934: RuntimeWarning: invalid value encountered in double_scalars\n",
      "  tmp2 = (x - v) * (fx - fw)\n"
     ]
    },
    {
     "name": "stdout",
     "output_type": "stream",
     "text": [
      " [-----------------100%-----------------] 2001 of 2000 complete in 3775.3 sec"
     ]
    },
    {
     "data": {
      "text/plain": [
       "<pymc.MCMC.MCMC at 0x7ff9b06bfb50>"
      ]
     },
     "execution_count": 4,
     "metadata": {},
     "output_type": "execute_result"
    }
   ],
   "source": [
    "a_reg = {'model': \"a ~ 1 + C(turn_type, Treatment('Sham'))\",'link_func': lambda x: x}\n",
    "v_reg = {'model': \"v ~ 1 + C(turn_type, Treatment('Sham'))\",'link_func': lambda x: x}\n",
    "z_reg = {'model': \"z ~ 1 + C(turn_type, Treatment('Sham'))\",'link_func': lambda x: x}\n",
    "reg_descr = [a_reg,v_reg,z_reg]\n",
    "D_R_T_Q_UNAMB_m = hddm.HDDMRegressor(D_R_T_Q_UNAMB, reg_descr, include='z')\n",
    "D_R_T_Q_UNAMB_m.find_starting_values()\n",
    "D_R_T_Q_UNAMB_m.sample(2000, burn=20, dbname='traces.db', db='pickle')"
   ]
  },
  {
   "cell_type": "markdown",
   "metadata": {},
   "source": [
    "## Halfambiguous"
   ]
  },
  {
   "cell_type": "code",
   "execution_count": 5,
   "metadata": {},
   "outputs": [
    {
     "name": "stdout",
     "output_type": "stream",
     "text": [
      "Adding these covariates:\n",
      "['a_Intercept', \"a_C(turn_type, Treatment('Sham'))[T.Right cTBS]\"]\n",
      "Adding these covariates:\n",
      "['v_Intercept', \"v_C(turn_type, Treatment('Sham'))[T.Right cTBS]\"]\n",
      "Adding these covariates:\n",
      "['z_Intercept', \"z_C(turn_type, Treatment('Sham'))[T.Right cTBS]\"]\n",
      " [-----------------100%-----------------] 2001 of 2000 complete in 3704.7 sec"
     ]
    },
    {
     "data": {
      "text/plain": [
       "<pymc.MCMC.MCMC at 0x7ff95827dad0>"
      ]
     },
     "execution_count": 5,
     "metadata": {},
     "output_type": "execute_result"
    }
   ],
   "source": [
    "a_reg = {'model': \"a ~ 1 + C(turn_type, Treatment('Sham'))\",'link_func': lambda x: x}\n",
    "v_reg = {'model': \"v ~ 1 + C(turn_type, Treatment('Sham'))\",'link_func': lambda x: x}\n",
    "z_reg = {'model': \"z ~ 1 + C(turn_type, Treatment('Sham'))\",'link_func': lambda x: x}\n",
    "reg_descr = [a_reg,v_reg,z_reg]\n",
    "D_R_T_Q_HALFAMB_m = hddm.HDDMRegressor(D_R_T_Q_HALFAMB, reg_descr, include='z')\n",
    "D_R_T_Q_HALFAMB_m.find_starting_values()\n",
    "D_R_T_Q_HALFAMB_m.sample(2000, burn=20, dbname='traces.db', db='pickle')"
   ]
  },
  {
   "cell_type": "markdown",
   "metadata": {},
   "source": [
    "## Ambiguous"
   ]
  },
  {
   "cell_type": "code",
   "execution_count": 6,
   "metadata": {},
   "outputs": [
    {
     "name": "stdout",
     "output_type": "stream",
     "text": [
      "Adding these covariates:\n",
      "['a_Intercept', \"a_C(turn_type, Treatment('Sham'))[T.Right cTBS]\"]\n",
      "Adding these covariates:\n",
      "['v_Intercept', \"v_C(turn_type, Treatment('Sham'))[T.Right cTBS]\"]\n",
      "Adding these covariates:\n",
      "['z_Intercept', \"z_C(turn_type, Treatment('Sham'))[T.Right cTBS]\"]\n",
      " [-----------------100%-----------------] 2001 of 2000 complete in 4195.6 sec"
     ]
    },
    {
     "data": {
      "text/plain": [
       "<pymc.MCMC.MCMC at 0x7ff958227a90>"
      ]
     },
     "execution_count": 6,
     "metadata": {},
     "output_type": "execute_result"
    }
   ],
   "source": [
    "a_reg = {'model': \"a ~ 1 + C(turn_type, Treatment('Sham'))\",'link_func': lambda x: x}\n",
    "v_reg = {'model': \"v ~ 1 + C(turn_type, Treatment('Sham'))\",'link_func': lambda x: x}\n",
    "z_reg = {'model': \"z ~ 1 + C(turn_type, Treatment('Sham'))\",'link_func': lambda x: x}\n",
    "reg_descr = [a_reg,v_reg,z_reg]\n",
    "D_R_T_Q_AMB_m = hddm.HDDMRegressor(D_R_T_Q_AMB, reg_descr, include='z')\n",
    "D_R_T_Q_AMB_m.find_starting_values()\n",
    "D_R_T_Q_AMB_m.sample(2000, burn=20, dbname='traces.db', db='pickle')"
   ]
  },
  {
   "cell_type": "markdown",
   "metadata": {},
   "source": [
    "## Plotting"
   ]
  },
  {
   "cell_type": "code",
   "execution_count": 7,
   "metadata": {},
   "outputs": [
    {
     "data": {
      "image/png": "[encoded data removed]",
      "text/plain": [
       "<Figure size 288x288 with 1 Axes>"
      ]
     },
     "metadata": {
      "needs_background": "light"
     },
     "output_type": "display_data"
    },
    {
     "name": "stdout",
     "output_type": "stream",
     "text": [
      "('P(a_UNAMB > Sham) = ', 0.6858585858585858)\n",
      "('P(a_HALFAMB > Sham) = ', 0.9858585858585859)\n",
      "('P(a_AMB > Sham) = ', 0.8727272727272727)\n"
     ]
    },
    {
     "data": {
      "image/png": "[encoded data removed]",
      "text/plain": [
       "<Figure size 288x288 with 1 Axes>"
      ]
     },
     "metadata": {
      "needs_background": "light"
     },
     "output_type": "display_data"
    },
    {
     "name": "stdout",
     "output_type": "stream",
     "text": [
      "('P(v_UNAMB > Sham) = ', 0.2207070707070707)\n",
      "('P(v_HALFAMB > Sham) = ', 0.2818181818181818)\n",
      "('P(v_AMB > Sham) = ', 0.6525252525252525)\n"
     ]
    },
    {
     "data": {
      "image/png": "[encoded data removed]",
      "text/plain": [
       "<Figure size 288x288 with 1 Axes>"
      ]
     },
     "metadata": {
      "needs_background": "light"
     },
     "output_type": "display_data"
    },
    {
     "name": "stdout",
     "output_type": "stream",
     "text": [
      "('P(z_UNAMB > Sham) = ', 0.6893939393939394)\n",
      "('P(z_HALFAMB > Sham) = ', 0.15353535353535352)\n",
      "('P(z_AMB > Sham) = ', 0.17727272727272728)\n"
     ]
    }
   ],
   "source": [
    "a_Intercept_UNAMB,a_cTBS_UNAMB = D_R_T_Q_UNAMB_m.nodes_db.loc[[\"a_Intercept\",\"a_C(turn_type, Treatment('Sham'))[T.Right cTBS]\"], 'node']\n",
    "\n",
    "v_Intercept_UNAMB,v_cTBS_UNAMB = D_R_T_Q_UNAMB_m.nodes_db.loc[[\"v_Intercept\",\"v_C(turn_type, Treatment('Sham'))[T.Right cTBS]\"], 'node']\n",
    "\n",
    "z_Intercept_UNAMB,z_cTBS_UNAMB = D_R_T_Q_UNAMB_m.nodes_db.loc[[\"z_Intercept\",\"z_C(turn_type, Treatment('Sham'))[T.Right cTBS]\"], 'node']\n",
    "\n",
    "a_Intercept_HALFAMB,a_cTBS_HALFAMB = D_R_T_Q_HALFAMB_m.nodes_db.loc[[\"a_Intercept\",\"a_C(turn_type, Treatment('Sham'))[T.Right cTBS]\"], 'node']\n",
    "\n",
    "v_Intercept_HALFAMB,v_cTBS_HALFAMB = D_R_T_Q_HALFAMB_m.nodes_db.loc[[\"v_Intercept\",\"v_C(turn_type, Treatment('Sham'))[T.Right cTBS]\"], 'node']\n",
    "\n",
    "z_Intercept_HALFAMB,z_cTBS_HALFAMB = D_R_T_Q_HALFAMB_m.nodes_db.loc[[\"z_Intercept\",\"z_C(turn_type, Treatment('Sham'))[T.Right cTBS]\"], 'node']\n",
    "\n",
    "a_Intercept_AMB,a_cTBS_AMB = D_R_T_Q_AMB_m.nodes_db.loc[[\"a_Intercept\",\"a_C(turn_type, Treatment('Sham'))[T.Right cTBS]\"], 'node']\n",
    "\n",
    "v_Intercept_AMB,v_cTBS_AMB = D_R_T_Q_AMB_m.nodes_db.loc[[\"v_Intercept\",\"v_C(turn_type, Treatment('Sham'))[T.Right cTBS]\"], 'node']\n",
    "\n",
    "z_Intercept_AMB,z_cTBS_AMB = D_R_T_Q_AMB_m.nodes_db.loc[[\"z_Intercept\",\"z_C(turn_type, Treatment('Sham'))[T.Right cTBS]\"], 'node']\n",
    "\n",
    "\n",
    "fig, ax = plt.subplots()\n",
    "fig.set_size_inches(4,4)\n",
    "\n",
    "para_tag=['UNAMB','HALFAMB','AMB']\n",
    "counts = [a_cTBS_UNAMB.trace()/(max(a_cTBS_UNAMB.trace())-min(a_cTBS_UNAMB.trace())),a_cTBS_HALFAMB.trace()/(max(a_cTBS_HALFAMB.trace())-min(a_cTBS_HALFAMB.trace())),a_cTBS_AMB.trace()/(max(a_cTBS_AMB.trace())-min(a_cTBS_AMB.trace()))]\n",
    "\n",
    "ax.axhline(y = 0, color =\"green\", linestyle =\"--\")\n",
    "ax.violinplot(counts)\n",
    "ax.set_xticks([1,2,3])\n",
    "ax.set_xticklabels(para_tag)\n",
    "ax.set_ylim([-1.8,1.8])\n",
    "ax.set_title('Boundary: Right cTBS tone quiet')\n",
    "ax.set_ylabel('Regression coef (normalized)')\n",
    "ax.spines['right'].set_visible(False)\n",
    "ax.spines['top'].set_visible(False)\n",
    "\n",
    "plt.show()\n",
    "\n",
    "print(\"P(a_UNAMB > Sham) = \", (a_cTBS_UNAMB.trace() > 0).mean())\n",
    "print(\"P(a_HALFAMB > Sham) = \", (a_cTBS_HALFAMB.trace() > 0).mean())\n",
    "print(\"P(a_AMB > Sham) = \", (a_cTBS_AMB.trace() > 0).mean())\n",
    "\n",
    "fig, ax = plt.subplots()\n",
    "fig.set_size_inches(4,4)\n",
    "\n",
    "para_tag=['UNAMB','HALFAMB','AMB']\n",
    "counts = [v_cTBS_UNAMB.trace()/(max(v_cTBS_UNAMB.trace())-min(v_cTBS_UNAMB.trace())),v_cTBS_HALFAMB.trace()/(max(v_cTBS_HALFAMB.trace())-min(v_cTBS_HALFAMB.trace())),v_cTBS_AMB.trace()/(max(v_cTBS_AMB.trace())-min(v_cTBS_AMB.trace()))]\n",
    "\n",
    "ax.axhline(y = 0, color =\"green\", linestyle =\"--\")\n",
    "ax.violinplot(counts)\n",
    "ax.set_xticks([1,2,3])\n",
    "ax.set_xticklabels(para_tag)\n",
    "ax.set_ylim([-1.8,1.8])\n",
    "ax.set_title('Drift rate: Right cTBS tone quiet')\n",
    "ax.set_ylabel('Regression coef (normalized)')\n",
    "ax.spines['right'].set_visible(False)\n",
    "ax.spines['top'].set_visible(False)\n",
    "\n",
    "plt.show()\n",
    "\n",
    "print(\"P(v_UNAMB > Sham) = \", (v_cTBS_UNAMB.trace() > 0).mean())\n",
    "print(\"P(v_HALFAMB > Sham) = \", (v_cTBS_HALFAMB.trace() > 0).mean())\n",
    "print(\"P(v_AMB > Sham) = \", (v_cTBS_AMB.trace() > 0).mean())\n",
    "\n",
    "fig, ax = plt.subplots()\n",
    "fig.set_size_inches(4,4)\n",
    "\n",
    "para_tag=['UNAMB','HALFAMB','AMB']\n",
    "counts = [z_cTBS_UNAMB.trace()/(max(z_cTBS_UNAMB.trace())-min(z_cTBS_UNAMB.trace())),z_cTBS_HALFAMB.trace()/(max(z_cTBS_HALFAMB.trace())-min(z_cTBS_HALFAMB.trace())),z_cTBS_AMB.trace()/(max(z_cTBS_AMB.trace())-min(z_cTBS_AMB.trace()))]\n",
    "\n",
    "ax.axhline(y = 0, color =\"green\", linestyle =\"--\")\n",
    "ax.violinplot(counts)\n",
    "ax.set_xticks([1,2,3])\n",
    "ax.set_xticklabels(para_tag)\n",
    "ax.set_ylim([-1.8,1.8])\n",
    "ax.set_title('Starting point: Right cTBS tone quiet')\n",
    "ax.set_ylabel('Regression coef (normalized)')\n",
    "ax.spines['right'].set_visible(False)\n",
    "ax.spines['top'].set_visible(False)\n",
    "\n",
    "plt.show()\n",
    "\n",
    "print(\"P(z_UNAMB > Sham) = \", (z_cTBS_UNAMB.trace() > 0).mean())\n",
    "print(\"P(z_HALFAMB > Sham) = \", (z_cTBS_HALFAMB.trace() > 0).mean())\n",
    "print(\"P(z_AMB > Sham) = \", (z_cTBS_AMB.trace() > 0).mean())"
   ]
  }
 ],
 "metadata": {
  "kernelspec": {
   "display_name": "Python 2.7.18 ('bsliang_DDM_27': conda)",
   "language": "python",
   "name": "python3"
  },
  "language_info": {
   "codemirror_mode": {
    "name": "ipython",
    "version": 2
   },
   "file_extension": ".py",
   "mimetype": "text/x-python",
   "name": "python",
   "nbconvert_exporter": "python",
   "pygments_lexer": "ipython2",
   "version": "2.7.18"
  },
  "orig_nbformat": 4,
  "vscode": {
   "interpreter": {
    "hash": "800a09db568ebe80aacfc1bc086e45a31a7cff3ccaf522d8b640d0dfbe2b8801"
   }
  }
 },
 "nbformat": 4,
 "nbformat_minor": 2
}
