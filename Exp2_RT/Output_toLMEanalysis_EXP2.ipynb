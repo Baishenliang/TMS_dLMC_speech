{
 "cells": [
  {
   "cell_type": "code",
   "execution_count": 1,
   "metadata": {},
   "outputs": [
    {
     "name": "stderr",
     "output_type": "stream",
     "text": [
      "/home/bsliang/miniconda3/envs/bsliang_DDM_27/lib/python2.7/site-packages/IPython/parallel.py:13: ShimWarning: The `IPython.parallel` package has been deprecated. You should import from ipyparallel instead.\n",
      "  \"You should import from ipyparallel instead.\", ShimWarning)\n"
     ]
    }
   ],
   "source": [
    "import pandas as pd\n",
    "import matplotlib.pyplot as plt\n",
    "import hddm\n",
    "import numpy as np\n",
    "import pickle\n",
    "from patsy import dmatrices, dmatrix, demo_data"
   ]
  },
  {
   "cell_type": "markdown",
   "metadata": {},
   "source": [
    "# EXP2 iTBS"
   ]
  },
  {
   "cell_type": "code",
   "execution_count": 16,
   "metadata": {},
   "outputs": [],
   "source": [
    "data = hddm.load_csv('exp2_DDM.csv')"
   ]
  },
  {
   "cell_type": "markdown",
   "metadata": {},
   "source": [
    "## Left consonant quiet"
   ]
  },
  {
   "cell_type": "code",
   "execution_count": 17,
   "metadata": {},
   "outputs": [],
   "source": [
    "D_L=data.loc[data['turn_type'].isin(['Left iTBS','Sham'])]\n",
    "D_L_C=D_L.loc[D_L['task_type']=='Cons']\n",
    "D_L_C_Q=D_L_C.loc[D_L_C['snr_type']=='Clear']\n",
    "D_L_C_Q.to_csv('Exp2_iTBS_D_L_C_Q_rawdata.csv')"
   ]
  },
  {
   "cell_type": "markdown",
   "metadata": {},
   "source": [
    "## Left consonant noisy"
   ]
  },
  {
   "cell_type": "code",
   "execution_count": 18,
   "metadata": {},
   "outputs": [],
   "source": [
    "D_L=data.loc[data['turn_type'].isin(['Left iTBS','Sham'])]\n",
    "D_L_C=D_L.loc[D_L['task_type']=='Cons']\n",
    "D_L_C_N=D_L_C.loc[D_L_C['snr_type']=='Noise']\n",
    "D_L_C_N.to_csv('Exp2_iTBS_D_L_C_N_rawdata.csv')"
   ]
  },
  {
   "cell_type": "markdown",
   "metadata": {},
   "source": [
    "## Left tone quiet"
   ]
  },
  {
   "cell_type": "code",
   "execution_count": 19,
   "metadata": {},
   "outputs": [],
   "source": [
    "D_L=data.loc[data['turn_type'].isin(['Left iTBS','Sham'])]\n",
    "D_L_T=D_L.loc[D_L['task_type']=='Tone']\n",
    "D_L_T_Q=D_L_T.loc[D_L_T['snr_type']=='Clear']\n",
    "D_L_T_Q.to_csv('Exp2_iTBS_D_L_T_Q_rawdata.csv')"
   ]
  },
  {
   "cell_type": "markdown",
   "metadata": {},
   "source": [
    "## Left tone noisy"
   ]
  },
  {
   "cell_type": "code",
   "execution_count": 20,
   "metadata": {},
   "outputs": [],
   "source": [
    "D_L=data.loc[data['turn_type'].isin(['Left iTBS','Sham'])]\n",
    "D_L_T=D_L.loc[D_L['task_type']=='Tone']\n",
    "D_L_T_N=D_L_T.loc[D_L_T['snr_type']=='Noise']\n",
    "D_L_T_N.to_csv('Exp2_iTBS_D_L_T_N_rawdata.csv')"
   ]
  },
  {
   "cell_type": "markdown",
   "metadata": {},
   "source": [
    "## Right consonant quiet"
   ]
  },
  {
   "cell_type": "code",
   "execution_count": 21,
   "metadata": {},
   "outputs": [],
   "source": [
    "D_R=data.loc[data['turn_type'].isin(['Right iTBS','Sham'])]\n",
    "D_R_C=D_R.loc[D_R['task_type']=='Cons']\n",
    "D_R_C_Q=D_R_C.loc[D_R_C['snr_type']=='Clear']\n",
    "D_R_C_Q.to_csv('Exp2_iTBS_D_R_C_Q_rawdata.csv')"
   ]
  },
  {
   "cell_type": "markdown",
   "metadata": {},
   "source": [
    "## Right consonant noisy"
   ]
  },
  {
   "cell_type": "code",
   "execution_count": 22,
   "metadata": {},
   "outputs": [],
   "source": [
    "D_R=data.loc[data['turn_type'].isin(['Right iTBS','Sham'])]\n",
    "D_R_C=D_R.loc[D_R['task_type']=='Cons']\n",
    "D_R_C_N=D_R_C.loc[D_R_C['snr_type']=='Noise']\n",
    "D_R_C_N.to_csv('Exp2_iTBS_D_R_C_N_rawdata.csv')"
   ]
  },
  {
   "cell_type": "markdown",
   "metadata": {},
   "source": [
    "## Right tone quiet"
   ]
  },
  {
   "cell_type": "code",
   "execution_count": 23,
   "metadata": {},
   "outputs": [],
   "source": [
    "D_R=data.loc[data['turn_type'].isin(['Right iTBS','Sham'])]\n",
    "D_R_T=D_R.loc[D_R['task_type']=='Tone']\n",
    "D_R_T_Q=D_R_T.loc[D_R_T['snr_type']=='Clear']\n",
    "D_R_T_Q.to_csv('Exp2_iTBS_D_R_T_Q_rawdata.csv')"
   ]
  },
  {
   "cell_type": "markdown",
   "metadata": {},
   "source": [
    "## Right tone noisy"
   ]
  },
  {
   "cell_type": "code",
   "execution_count": 24,
   "metadata": {},
   "outputs": [],
   "source": [
    "D_R=data.loc[data['turn_type'].isin(['Right iTBS','Sham'])]\n",
    "D_R_T=D_R.loc[D_R['task_type']=='Tone']\n",
    "D_R_T_N=D_R_T.loc[D_R_T['snr_type']=='Noise']\n",
    "D_R_T_N.to_csv('Exp2_iTBS_D_R_T_N_rawdata.csv')"
   ]
  },
  {
   "attachments": {},
   "cell_type": "markdown",
   "metadata": {},
   "source": [
    "# EXP2 cTBS"
   ]
  },
  {
   "attachments": {},
   "cell_type": "markdown",
   "metadata": {},
   "source": [
    "## Left consonant quiet"
   ]
  },
  {
   "cell_type": "code",
   "execution_count": null,
   "metadata": {},
   "outputs": [],
   "source": [
    "D_L=data.loc[data['turn_type'].isin(['Left cTBS','Sham'])]\n",
    "D_L_C=D_L.loc[D_L['task_type']=='Cons']\n",
    "D_L_C_Q=D_L_C.loc[D_L_C['snr_type']=='Clear']\n",
    "D_L_C_Q.to_csv('Exp2_cTBS_D_L_C_Q_rawdata.csv')"
   ]
  },
  {
   "cell_type": "markdown",
   "metadata": {},
   "source": [
    "## Left consonant noisy"
   ]
  },
  {
   "cell_type": "code",
   "execution_count": null,
   "metadata": {},
   "outputs": [],
   "source": [
    "D_L=data.loc[data['turn_type'].isin(['Left cTBS','Sham'])]\n",
    "D_L_C=D_L.loc[D_L['task_type']=='Cons']\n",
    "D_L_C_N=D_L_C.loc[D_L_C['snr_type']=='Noise']\n",
    "D_L_C_N.to_csv('Exp2_cTBS_D_L_C_N_rawdata.csv')"
   ]
  },
  {
   "cell_type": "markdown",
   "metadata": {},
   "source": [
    "## Left tone quiet"
   ]
  },
  {
   "cell_type": "code",
   "execution_count": null,
   "metadata": {},
   "outputs": [],
   "source": [
    "D_L=data.loc[data['turn_type'].isin(['Left cTBS','Sham'])]\n",
    "D_L_T=D_L.loc[D_L['task_type']=='Tone']\n",
    "D_L_T_Q=D_L_T.loc[D_L_T['snr_type']=='Clear']\n",
    "D_L_T_Q.to_csv('Exp2_cTBS_D_L_T_Q_rawdata.csv')"
   ]
  },
  {
   "cell_type": "markdown",
   "metadata": {},
   "source": [
    "## Left tone noisy"
   ]
  },
  {
   "cell_type": "code",
   "execution_count": null,
   "metadata": {},
   "outputs": [],
   "source": [
    "D_L=data.loc[data['turn_type'].isin(['Left cTBS','Sham'])]\n",
    "D_L_T=D_L.loc[D_L['task_type']=='Tone']\n",
    "D_L_T_N=D_L_T.loc[D_L_T['snr_type']=='Noise']\n",
    "D_L_T_N.to_csv('Exp2_cTBS_D_L_T_N_rawdata.csv')"
   ]
  },
  {
   "cell_type": "markdown",
   "metadata": {},
   "source": [
    "## Right consonant quiet"
   ]
  },
  {
   "cell_type": "code",
   "execution_count": null,
   "metadata": {},
   "outputs": [],
   "source": [
    "D_R=data.loc[data['turn_type'].isin(['Right cTBS','Sham'])]\n",
    "D_R_C=D_R.loc[D_R['task_type']=='Cons']\n",
    "D_R_C_Q=D_R_C.loc[D_R_C['snr_type']=='Clear']\n",
    "D_R_C_Q.to_csv('Exp2_cTBS_D_R_C_Q_rawdata.csv')"
   ]
  },
  {
   "cell_type": "markdown",
   "metadata": {},
   "source": [
    "## Right consonant noisy"
   ]
  },
  {
   "cell_type": "code",
   "execution_count": null,
   "metadata": {},
   "outputs": [],
   "source": [
    "D_R=data.loc[data['turn_type'].isin(['Right cTBS','Sham'])]\n",
    "D_R_C=D_R.loc[D_R['task_type']=='Cons']\n",
    "D_R_C_N=D_R_C.loc[D_R_C['snr_type']=='Noise']\n",
    "D_R_C_N.to_csv('Exp2_cTBS_D_R_C_N_rawdata.csv')"
   ]
  },
  {
   "cell_type": "markdown",
   "metadata": {},
   "source": [
    "## Right tone quiet"
   ]
  },
  {
   "cell_type": "code",
   "execution_count": null,
   "metadata": {},
   "outputs": [],
   "source": [
    "D_R=data.loc[data['turn_type'].isin(['Right cTBS','Sham'])]\n",
    "D_R_T=D_R.loc[D_R['task_type']=='Tone']\n",
    "D_R_T_Q=D_R_T.loc[D_R_T['snr_type']=='Clear']\n",
    "D_R_T_Q.to_csv('Exp2_cTBS_D_R_T_Q_rawdata.csv')"
   ]
  },
  {
   "cell_type": "markdown",
   "metadata": {},
   "source": [
    "## Right tone noisy"
   ]
  },
  {
   "cell_type": "code",
   "execution_count": null,
   "metadata": {},
   "outputs": [],
   "source": [
    "D_R=data.loc[data['turn_type'].isin(['Right cTBS','Sham'])]\n",
    "D_R_T=D_R.loc[D_R['task_type']=='Tone']\n",
    "D_R_T_N=D_R_T.loc[D_R_T['snr_type']=='Noise']\n",
    "D_R_T_N.to_csv('Exp2_cTBS_D_R_T_N_rawdata.csv')"
   ]
  }
 ],
 "metadata": {
  "kernelspec": {
   "display_name": "Python 2.7.18 ('bsliang_DDM_27')",
   "language": "python",
   "name": "python3"
  },
  "language_info": {
   "codemirror_mode": {
    "name": "ipython",
    "version": 2
   },
   "file_extension": ".py",
   "mimetype": "text/x-python",
   "name": "python",
   "nbconvert_exporter": "python",
   "pygments_lexer": "ipython2",
   "version": "2.7.18"
  },
  "orig_nbformat": 4,
  "vscode": {
   "interpreter": {
    "hash": "800a09db568ebe80aacfc1bc086e45a31a7cff3ccaf522d8b640d0dfbe2b8801"
   }
  }
 },
 "nbformat": 4,
 "nbformat_minor": 2
}
