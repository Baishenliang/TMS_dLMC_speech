{
 "cells": [
  {
   "cell_type": "markdown",
   "metadata": {},
   "source": [
    "![这是图片](花瓶.jpg \"Magic Gardens\")<br><br>\n",
    "事情是这样的<br>\n",
    "我本来已经<br>\n",
    "打算完结这个分析了<br> \n",
    "但杜老师，居然<br>\n",
    "竟然，也是不出意料<br>\n",
    "叫我加一个参数<br>"
   ]
  },
  {
   "cell_type": "markdown",
   "metadata": {},
   "source": [
    "# TBS"
   ]
  },
  {
   "cell_type": "markdown",
   "metadata": {},
   "source": [
    "## preparing"
   ]
  },
  {
   "cell_type": "code",
   "execution_count": 19,
   "metadata": {},
   "outputs": [],
   "source": [
    "import pandas as pd\n",
    "import matplotlib.pyplot as plt\n",
    "import hddm\n",
    "import numpy as np\n",
    "import pickle\n",
    "from patsy import dmatrices, dmatrix, demo_data\n",
    "cm = 1/2.54"
   ]
  },
  {
   "cell_type": "markdown",
   "metadata": {},
   "source": [
    "## loading data"
   ]
  },
  {
   "cell_type": "code",
   "execution_count": 2,
   "metadata": {},
   "outputs": [
    {
     "data": {
      "text/html": [
       "<div>\n",
       "<style scoped>\n",
       "    .dataframe tbody tr th:only-of-type {\n",
       "        vertical-align: middle;\n",
       "    }\n",
       "\n",
       "    .dataframe tbody tr th {\n",
       "        vertical-align: top;\n",
       "    }\n",
       "\n",
       "    .dataframe thead th {\n",
       "        text-align: right;\n",
       "    }\n",
       "</style>\n",
       "<table border=\"1\" class=\"dataframe\">\n",
       "  <thead>\n",
       "    <tr style=\"text-align: right;\">\n",
       "      <th></th>\n",
       "      <th>subj_idx</th>\n",
       "      <th>group_idx</th>\n",
       "      <th>turn_type</th>\n",
       "      <th>task_type</th>\n",
       "      <th>snr_type</th>\n",
       "      <th>trial_num</th>\n",
       "      <th>step_att</th>\n",
       "      <th>response</th>\n",
       "      <th>rt</th>\n",
       "      <th>step_unatnd</th>\n",
       "    </tr>\n",
       "  </thead>\n",
       "  <tbody>\n",
       "    <tr>\n",
       "      <th>0</th>\n",
       "      <td>55</td>\n",
       "      <td>Larynx</td>\n",
       "      <td>Left iTBS</td>\n",
       "      <td>Tone</td>\n",
       "      <td>Clear</td>\n",
       "      <td>1</td>\n",
       "      <td>3</td>\n",
       "      <td>1</td>\n",
       "      <td>1.083317</td>\n",
       "      <td>1</td>\n",
       "    </tr>\n",
       "    <tr>\n",
       "      <th>1</th>\n",
       "      <td>55</td>\n",
       "      <td>Larynx</td>\n",
       "      <td>Left iTBS</td>\n",
       "      <td>Tone</td>\n",
       "      <td>Clear</td>\n",
       "      <td>2</td>\n",
       "      <td>4</td>\n",
       "      <td>1</td>\n",
       "      <td>0.744397</td>\n",
       "      <td>1</td>\n",
       "    </tr>\n",
       "    <tr>\n",
       "      <th>2</th>\n",
       "      <td>55</td>\n",
       "      <td>Larynx</td>\n",
       "      <td>Left iTBS</td>\n",
       "      <td>Tone</td>\n",
       "      <td>Clear</td>\n",
       "      <td>3</td>\n",
       "      <td>4</td>\n",
       "      <td>1</td>\n",
       "      <td>0.732525</td>\n",
       "      <td>1</td>\n",
       "    </tr>\n",
       "    <tr>\n",
       "      <th>3</th>\n",
       "      <td>55</td>\n",
       "      <td>Larynx</td>\n",
       "      <td>Left iTBS</td>\n",
       "      <td>Tone</td>\n",
       "      <td>Clear</td>\n",
       "      <td>4</td>\n",
       "      <td>5</td>\n",
       "      <td>1</td>\n",
       "      <td>0.800199</td>\n",
       "      <td>1</td>\n",
       "    </tr>\n",
       "    <tr>\n",
       "      <th>4</th>\n",
       "      <td>55</td>\n",
       "      <td>Larynx</td>\n",
       "      <td>Left iTBS</td>\n",
       "      <td>Tone</td>\n",
       "      <td>Clear</td>\n",
       "      <td>5</td>\n",
       "      <td>4</td>\n",
       "      <td>1</td>\n",
       "      <td>0.753649</td>\n",
       "      <td>1</td>\n",
       "    </tr>\n",
       "    <tr>\n",
       "      <th>5</th>\n",
       "      <td>55</td>\n",
       "      <td>Larynx</td>\n",
       "      <td>Left iTBS</td>\n",
       "      <td>Tone</td>\n",
       "      <td>Clear</td>\n",
       "      <td>6</td>\n",
       "      <td>4</td>\n",
       "      <td>1</td>\n",
       "      <td>0.544652</td>\n",
       "      <td>1</td>\n",
       "    </tr>\n",
       "    <tr>\n",
       "      <th>6</th>\n",
       "      <td>55</td>\n",
       "      <td>Larynx</td>\n",
       "      <td>Left iTBS</td>\n",
       "      <td>Tone</td>\n",
       "      <td>Clear</td>\n",
       "      <td>7</td>\n",
       "      <td>5</td>\n",
       "      <td>1</td>\n",
       "      <td>0.621313</td>\n",
       "      <td>1</td>\n",
       "    </tr>\n",
       "    <tr>\n",
       "      <th>7</th>\n",
       "      <td>55</td>\n",
       "      <td>Larynx</td>\n",
       "      <td>Left iTBS</td>\n",
       "      <td>Tone</td>\n",
       "      <td>Clear</td>\n",
       "      <td>8</td>\n",
       "      <td>5</td>\n",
       "      <td>1</td>\n",
       "      <td>0.580819</td>\n",
       "      <td>1</td>\n",
       "    </tr>\n",
       "    <tr>\n",
       "      <th>8</th>\n",
       "      <td>55</td>\n",
       "      <td>Larynx</td>\n",
       "      <td>Left iTBS</td>\n",
       "      <td>Tone</td>\n",
       "      <td>Clear</td>\n",
       "      <td>9</td>\n",
       "      <td>1</td>\n",
       "      <td>0</td>\n",
       "      <td>-0.496794</td>\n",
       "      <td>1</td>\n",
       "    </tr>\n",
       "    <tr>\n",
       "      <th>9</th>\n",
       "      <td>55</td>\n",
       "      <td>Larynx</td>\n",
       "      <td>Left iTBS</td>\n",
       "      <td>Tone</td>\n",
       "      <td>Clear</td>\n",
       "      <td>10</td>\n",
       "      <td>3</td>\n",
       "      <td>1</td>\n",
       "      <td>0.863869</td>\n",
       "      <td>1</td>\n",
       "    </tr>\n",
       "  </tbody>\n",
       "</table>\n",
       "</div>"
      ],
      "text/plain": [
       "   subj_idx group_idx  turn_type task_type snr_type  trial_num  step_att  \\\n",
       "0        55    Larynx  Left iTBS      Tone    Clear          1         3   \n",
       "1        55    Larynx  Left iTBS      Tone    Clear          2         4   \n",
       "2        55    Larynx  Left iTBS      Tone    Clear          3         4   \n",
       "3        55    Larynx  Left iTBS      Tone    Clear          4         5   \n",
       "4        55    Larynx  Left iTBS      Tone    Clear          5         4   \n",
       "5        55    Larynx  Left iTBS      Tone    Clear          6         4   \n",
       "6        55    Larynx  Left iTBS      Tone    Clear          7         5   \n",
       "7        55    Larynx  Left iTBS      Tone    Clear          8         5   \n",
       "8        55    Larynx  Left iTBS      Tone    Clear          9         1   \n",
       "9        55    Larynx  Left iTBS      Tone    Clear         10         3   \n",
       "\n",
       "   response        rt  step_unatnd  \n",
       "0         1  1.083317            1  \n",
       "1         1  0.744397            1  \n",
       "2         1  0.732525            1  \n",
       "3         1  0.800199            1  \n",
       "4         1  0.753649            1  \n",
       "5         1  0.544652            1  \n",
       "6         1  0.621313            1  \n",
       "7         1  0.580819            1  \n",
       "8         0 -0.496794            1  \n",
       "9         1  0.863869            1  "
      ]
     },
     "execution_count": 2,
     "metadata": {},
     "output_type": "execute_result"
    }
   ],
   "source": [
    "data = hddm.load_csv('exp2_DDM.csv')\n",
    "data = hddm.utils.flip_errors(data)\n",
    "data.head(10)"
   ]
  },
  {
   "cell_type": "markdown",
   "metadata": {},
   "source": [
    "## left stim, tone, noise"
   ]
  },
  {
   "cell_type": "markdown",
   "metadata": {},
   "source": [
    "### RT distribution"
   ]
  },
  {
   "cell_type": "code",
   "execution_count": 27,
   "metadata": {},
   "outputs": [
    {
     "name": "stderr",
     "output_type": "stream",
     "text": [
      "/home/bsliang/miniconda3/envs/bsliang_DDM_27/lib/python2.7/site-packages/ipykernel_launcher.py:12: FutureWarning: The signature of `Series.to_csv` was aligned to that of `DataFrame.to_csv`, and argument 'header' will change its default value from False to True: please pass an explicit value to suppress this warning.\n",
      "  if sys.path[0] == '':\n",
      "/home/bsliang/miniconda3/envs/bsliang_DDM_27/lib/python2.7/site-packages/ipykernel_launcher.py:13: FutureWarning: The signature of `Series.to_csv` was aligned to that of `DataFrame.to_csv`, and argument 'header' will change its default value from False to True: please pass an explicit value to suppress this warning.\n",
      "  del sys.path[0]\n"
     ]
    },
    {
     "data": {
      "image/png": "[encoded data removed]",
      "text/plain": [
       "<Figure size 127.559x70.8661 with 1 Axes>"
      ]
     },
     "metadata": {
      "needs_background": "light"
     },
     "output_type": "display_data"
    },
    {
     "data": {
      "image/png": "[encoded data removed]",
      "text/plain": [
       "<Figure size 34.0157x56.6929 with 1 Axes>"
      ]
     },
     "metadata": {
      "needs_background": "light"
     },
     "output_type": "display_data"
    }
   ],
   "source": [
    "data_unflip = hddm.load_csv('exp2_DDM.csv')\n",
    "\n",
    "D_L=data_unflip.loc[data_unflip['turn_type'].isin(['Left cTBS','Sham'])]\n",
    "D_L_T=D_L.loc[D_L['task_type']=='Tone']\n",
    "D_L_T_N=D_L_T.loc[D_L_T['snr_type']=='Noise']\n",
    "D=D_L_T_N\n",
    "D_name='D_L_T_N_'\n",
    "\n",
    "D_TMS=D.loc[D['turn_type'].isin(['Left cTBS'])]\n",
    "D_Sham=D.loc[D['turn_type'].isin(['Sham'])]\n",
    "\n",
    "D_TMS.rt.to_csv(D_name+'TBS_RT.csv')\n",
    "D_Sham.rt.to_csv(D_name+'Sham_RT.csv')\n",
    "\n",
    "mean_TMS=D_TMS.rt.mean()\n",
    "se_TMS=np.std(D_TMS.rt, ddof=1) / np.sqrt(len(D_TMS.rt))\n",
    "mean_Sham=D_Sham.rt.mean()\n",
    "se_Sham=np.std(D_Sham.rt, ddof=1) / np.sqrt(len(D_Sham.rt))\n",
    "\n",
    "plt.rcParams['savefig.dpi']=300\n",
    "plt.rcParams['font.size']=5\n",
    "plt.rcParams['axes.linewidth']=0.5\n",
    "plt.rcParams['font.family']='Arial'\n",
    "\n",
    "fig, ax = plt.subplots()\n",
    "fig.set_size_inches(4.5*cm,2.5*cm)\n",
    "\n",
    "nbins=50\n",
    "dens_TMS = ax.hist(D_TMS.rt,bins=nbins, histtype='step',density=False,color=[0,0,0],linewidth=1,alpha=0.5)\n",
    "dens_Sham = ax.hist(D_Sham.rt,bins=nbins, histtype='step',density=False,color=[0.5,0.5,0.5],linewidth=1,alpha=0.5)\n",
    "\n",
    "\n",
    "for ibin in range(0,nbins-1):\n",
    "    if dens_TMS[1][ibin] > mean_TMS:\n",
    "        dens_TMS_mean = dens_TMS[0][ibin-1]\n",
    "        break\n",
    "\n",
    "for ibin in range(0,nbins-1):\n",
    "    if dens_Sham[1][ibin] > mean_Sham:\n",
    "        dens_Sham_mean = dens_Sham[0][ibin-1]\n",
    "        break\n",
    "\n",
    "#ax.set_title('RT distributions')\n",
    "#ax.set_ylabel('Number of trials')\n",
    "#ax.set_xlabel('Reaction time (s)')\n",
    "ax.set_xlim([0,2])\n",
    "ax.set_xticks(np.linspace(0,2,5))\n",
    "ax.set_ylim([0,900])\n",
    "ax.set_yticks([200,400,600,800,900])\n",
    "ax.set_yticklabels([200,400,600,800])\n",
    "ax.spines['right'].set_visible(False)\n",
    "ax.spines['top'].set_visible(False)\n",
    "ax.tick_params('both',which='major',direction='in',width=0.5,length=2)\n",
    "\n",
    "ax.axvline(x = mean_TMS, ymin=0,ymax=dens_TMS_mean/900,color =[0,0,0], linestyle =\"--\",linewidth=1,alpha=0.5)\n",
    "ax.axvline(x = mean_Sham, ymin=0,ymax=dens_Sham_mean/900,color =[0.5,0.5,0.5], linestyle =\"--\",linewidth=1,alpha=0.5)\n",
    "#ax.legend('upper right')\n",
    "\n",
    "plt.savefig(D_name+'cTBS_RT_dist.pdf',bbox_inches = 'tight',transparent=True)\n",
    "plt.show()\n",
    "\n",
    "fig, ax = plt.subplots()\n",
    "\n",
    "cat = ['cTBS','Sham']\n",
    "cat_mean = [mean_TMS,mean_Sham]\n",
    "\n",
    "axbar=ax.bar(cat, cat_mean,yerr=[se_TMS,se_Sham],color=[[0,0,0],[0.5,0.5,0.5]],alpha=0.5)\n",
    "axbar.errorbar.lines[2][0].set_linewidth(0.5)\n",
    "\n",
    "ax.set_ylabel('RT (s)',fontsize=5)\n",
    "#ax.set_title('cTBS: Right stimulation tone noise')\n",
    "#ax.set_xticks([])\n",
    "ax.set_ylim([0.65,0.85])\n",
    "ax.set_yticks(np.linspace(0.65,0.85,6))\n",
    "ax.spines['right'].set_visible(False)\n",
    "ax.spines['top'].set_visible(False)\n",
    "ax.tick_params('both',which='major',direction='in',bottom=False,width=0.5,length=1,labelsize=4)\n",
    "#ax.yaxis.tick_right()\n",
    "\n",
    "fig.set_size_inches(1.2*cm,2*cm)\n",
    "\n",
    "plt.savefig(D_name+'cTBS_RT.pdf',bbox_inches = 'tight',transparent=True)\n",
    "plt.show()\n"
   ]
  },
  {
   "cell_type": "markdown",
   "metadata": {},
   "source": [
    "### preparing data"
   ]
  },
  {
   "cell_type": "code",
   "execution_count": 4,
   "metadata": {},
   "outputs": [],
   "source": [
    "D_L=data.loc[data['turn_type'].isin(['Left cTBS','Sham'])]\n",
    "D_L_T=D_L.loc[D_L['task_type']=='Tone']\n",
    "D_L_T_N=D_L_T.loc[D_L_T['snr_type']=='Noise']\n",
    "D_L_T_N.to_csv('Exp2_D_L_T_N_cTBS.csv')"
   ]
  },
  {
   "cell_type": "code",
   "execution_count": 5,
   "metadata": {},
   "outputs": [],
   "source": [
    "def z_link_func_D_L_T_N(x, data=D_L_T_N):\n",
    "    stim = (np.asarray(dmatrix('0 + C(s, [[0], [1]])',\n",
    "                              {'s': data.turn_type.loc[x.index]},return_type='dataframe'))\n",
    "    )\n",
    "    # Apply z = (1 - x) to flip them along 0.5\n",
    "    z_flip = np.subtract(stim, x.to_frame())\n",
    "    # The above inverts those values we do not want to flip,\n",
    "    # so invert them back\n",
    "    z_flip[stim == 0] *= -1\n",
    "    return z_flip"
   ]
  },
  {
   "cell_type": "markdown",
   "metadata": {},
   "source": [
    "### baseline model"
   ]
  },
  {
   "cell_type": "code",
   "execution_count": 6,
   "metadata": {},
   "outputs": [
    {
     "name": "stdout",
     "output_type": "stream",
     "text": [
      "Adding these covariates:\n",
      "['a_Intercept']\n",
      "Adding these covariates:\n",
      "['v_Intercept']\n",
      "Adding these covariates:\n",
      "['z_Intercept']\n"
     ]
    },
    {
     "name": "stderr",
     "output_type": "stream",
     "text": [
      "/home/bsliang/miniconda3/envs/bsliang_DDM_27/lib/python2.7/site-packages/scipy/optimize/optimize.py:1934: RuntimeWarning: invalid value encountered in double_scalars\n",
      "  tmp2 = (x - v) * (fx - fw)\n"
     ]
    },
    {
     "name": "stdout",
     "output_type": "stream",
     "text": [
      " [-----------------100%-----------------] 2001 of 2000 complete in 2365.4 secWARNING: Will not save custom link functions.\n",
      "WARNING: Will not save custom link functions.\n",
      "WARNING: Will not save custom link functions.\n"
     ]
    }
   ],
   "source": [
    "a_reg = {'model': \"a ~ 1\",'link_func': lambda x: x}\n",
    "v_reg = {'model': \"v ~ 1\",'link_func': lambda x: x}\n",
    "z_reg = {'model': \"z ~ 1\",'link_func': lambda x: x}\n",
    "reg_descr = [a_reg,v_reg,z_reg]\n",
    "D_L_T_N_bsl = hddm.HDDMRegressor(D_L_T_N, reg_descr, include='z')\n",
    "D_L_T_N_bsl.find_starting_values()\n",
    "D_L_T_N_bsl.sample(2000, burn=20, dbname='traces.db', db='pickle')\n",
    "D_L_T_N_bsl.save('D_L_T_N_bsl')"
   ]
  },
  {
   "cell_type": "markdown",
   "metadata": {},
   "source": [
    "### model 1: a only"
   ]
  },
  {
   "cell_type": "code",
   "execution_count": 7,
   "metadata": {},
   "outputs": [
    {
     "name": "stdout",
     "output_type": "stream",
     "text": [
      "Adding these covariates:\n",
      "['a_Intercept', \"a_C(turn_type, Treatment('Sham'))[T.Left cTBS]\"]\n",
      "Adding these covariates:\n",
      "['v_Intercept']\n",
      "Adding these covariates:\n",
      "['z_Intercept']\n",
      " [-----------------100%-----------------] 2001 of 2000 complete in 2844.5 secWARNING: Will not save custom link functions.\n",
      "WARNING: Will not save custom link functions.\n",
      "WARNING: Will not save custom link functions.\n"
     ]
    }
   ],
   "source": [
    "a_reg = {'model': \"a ~ 1 + C(turn_type, Treatment('Sham'))\",'link_func': lambda x: x}\n",
    "v_reg = {'model': \"v ~ 1\",'link_func': lambda x: x}\n",
    "z_reg = {'model': \"z ~ 1\",'link_func': lambda x: x}\n",
    "reg_descr = [a_reg,v_reg,z_reg]\n",
    "D_L_T_N_am = hddm.HDDMRegressor(D_L_T_N, reg_descr, include='z')\n",
    "D_L_T_N_am.find_starting_values()\n",
    "D_L_T_N_am.sample(2000, burn=20, dbname='traces.db', db='pickle')\n",
    "D_L_T_N_am.save('D_L_T_N_am')"
   ]
  },
  {
   "cell_type": "markdown",
   "metadata": {},
   "source": [
    "### model 2: v only"
   ]
  },
  {
   "cell_type": "code",
   "execution_count": 8,
   "metadata": {},
   "outputs": [
    {
     "name": "stdout",
     "output_type": "stream",
     "text": [
      "Adding these covariates:\n",
      "['a_Intercept']\n",
      "Adding these covariates:\n",
      "['v_Intercept', \"v_C(turn_type, Treatment('Sham'))[T.Left cTBS]\"]\n",
      "Adding these covariates:\n",
      "['z_Intercept']\n",
      " [-----------------100%-----------------] 2001 of 2000 complete in 2919.1 secWARNING: Will not save custom link functions.\n",
      "WARNING: Will not save custom link functions.\n",
      "WARNING: Will not save custom link functions.\n"
     ]
    }
   ],
   "source": [
    "a_reg = {'model': \"a ~ 1\",'link_func': lambda x: x}\n",
    "v_reg = {'model': \"v ~ 1 + C(turn_type, Treatment('Sham'))\",'link_func': lambda x: x}\n",
    "z_reg = {'model': \"z ~ 1\",'link_func': lambda x: x}\n",
    "reg_descr = [a_reg,v_reg,z_reg]\n",
    "D_L_T_N_vm = hddm.HDDMRegressor(D_L_T_N, reg_descr, include='z')\n",
    "D_L_T_N_vm.find_starting_values()\n",
    "D_L_T_N_vm.sample(2000, burn=20, dbname='traces.db', db='pickle')\n",
    "D_L_T_N_vm.save('D_L_T_N_am')"
   ]
  },
  {
   "cell_type": "markdown",
   "metadata": {},
   "source": [
    "### model 3: z only"
   ]
  },
  {
   "cell_type": "code",
   "execution_count": 9,
   "metadata": {},
   "outputs": [
    {
     "name": "stdout",
     "output_type": "stream",
     "text": [
      "Adding these covariates:\n",
      "['a_Intercept']\n",
      "Adding these covariates:\n",
      "['v_Intercept']\n",
      "Adding these covariates:\n",
      "['z_Intercept', \"z_C(turn_type, Treatment('Sham'))[T.Left cTBS]\"]\n",
      " [-----------------100%-----------------] 2001 of 2000 complete in 2870.4 secWARNING: Will not save custom link functions.\n",
      "WARNING: Will not save custom link functions.\n",
      "WARNING: Will not save custom link functions.\n"
     ]
    }
   ],
   "source": [
    "a_reg = {'model': \"a ~ 1\",'link_func': lambda x: x}\n",
    "v_reg = {'model': \"v ~ 1\",'link_func': lambda x: x}\n",
    "z_reg = {'model': \"z ~ 1 + C(turn_type, Treatment('Sham'))\",'link_func': lambda x: x}\n",
    "reg_descr = [a_reg,v_reg,z_reg]\n",
    "D_L_T_N_zm = hddm.HDDMRegressor(D_L_T_N, reg_descr, include='z')\n",
    "D_L_T_N_zm.find_starting_values()\n",
    "D_L_T_N_zm.sample(2000, burn=20, dbname='traces.db', db='pickle')\n",
    "D_L_T_N_zm.save('D_L_T_N_zm')"
   ]
  },
  {
   "cell_type": "markdown",
   "metadata": {},
   "source": [
    "### model 4: a + v"
   ]
  },
  {
   "cell_type": "code",
   "execution_count": 10,
   "metadata": {},
   "outputs": [
    {
     "name": "stdout",
     "output_type": "stream",
     "text": [
      "Adding these covariates:\n",
      "['a_Intercept', \"a_C(turn_type, Treatment('Sham'))[T.Left cTBS]\"]\n",
      "Adding these covariates:\n",
      "['v_Intercept', \"v_C(turn_type, Treatment('Sham'))[T.Left cTBS]\"]\n",
      "Adding these covariates:\n",
      "['z_Intercept']\n",
      " [-----------------100%-----------------] 2001 of 2000 complete in 3381.0 secWARNING: Will not save custom link functions.\n",
      "WARNING: Will not save custom link functions.\n",
      "WARNING: Will not save custom link functions.\n"
     ]
    }
   ],
   "source": [
    "a_reg = {'model': \"a ~ 1 + C(turn_type, Treatment('Sham'))\",'link_func': lambda x: x}\n",
    "v_reg = {'model': \"v ~ 1 + C(turn_type, Treatment('Sham'))\",'link_func': lambda x: x}\n",
    "z_reg = {'model': \"z ~ 1\",'link_func': lambda x: x}\n",
    "reg_descr = [a_reg,v_reg,z_reg]\n",
    "D_L_T_N_avm = hddm.HDDMRegressor(D_L_T_N, reg_descr, include='z')\n",
    "D_L_T_N_avm.find_starting_values()\n",
    "D_L_T_N_avm.sample(2000, burn=20, dbname='traces.db', db='pickle')\n",
    "D_L_T_N_avm.save('D_L_T_N_avm')"
   ]
  },
  {
   "cell_type": "markdown",
   "metadata": {},
   "source": [
    "### model 5: a + z"
   ]
  },
  {
   "cell_type": "code",
   "execution_count": 11,
   "metadata": {},
   "outputs": [
    {
     "name": "stdout",
     "output_type": "stream",
     "text": [
      "Adding these covariates:\n",
      "['a_Intercept', \"a_C(turn_type, Treatment('Sham'))[T.Left cTBS]\"]\n",
      "Adding these covariates:\n",
      "['v_Intercept']\n",
      "Adding these covariates:\n",
      "['z_Intercept', \"z_C(turn_type, Treatment('Sham'))[T.Left cTBS]\"]\n",
      " [-----------------100%-----------------] 2001 of 2000 complete in 3355.0 secWARNING: Will not save custom link functions.\n",
      "WARNING: Will not save custom link functions.\n",
      "WARNING: Will not save custom link functions.\n"
     ]
    }
   ],
   "source": [
    "a_reg = {'model': \"a ~ 1 + C(turn_type, Treatment('Sham'))\",'link_func': lambda x: x}\n",
    "v_reg = {'model': \"v ~ 1\",'link_func': lambda x: x}\n",
    "z_reg = {'model': \"z ~ 1 + C(turn_type, Treatment('Sham'))\",'link_func': lambda x: x}\n",
    "reg_descr = [a_reg,v_reg,z_reg]\n",
    "D_L_T_N_azm = hddm.HDDMRegressor(D_L_T_N, reg_descr, include='z')\n",
    "D_L_T_N_azm.find_starting_values()\n",
    "D_L_T_N_azm.sample(2000, burn=20, dbname='traces.db', db='pickle')\n",
    "D_L_T_N_azm.save('D_L_T_N_azm')"
   ]
  },
  {
   "cell_type": "markdown",
   "metadata": {},
   "source": [
    "### model 6: v + z"
   ]
  },
  {
   "cell_type": "code",
   "execution_count": 12,
   "metadata": {},
   "outputs": [
    {
     "name": "stdout",
     "output_type": "stream",
     "text": [
      "Adding these covariates:\n",
      "['a_Intercept']\n",
      "Adding these covariates:\n",
      "['v_Intercept', \"v_C(turn_type, Treatment('Sham'))[T.Left cTBS]\"]\n",
      "Adding these covariates:\n",
      "['z_Intercept', \"z_C(turn_type, Treatment('Sham'))[T.Left cTBS]\"]\n",
      " [-----------------100%-----------------] 2001 of 2000 complete in 3404.3 secWARNING: Will not save custom link functions.\n",
      "WARNING: Will not save custom link functions.\n",
      "WARNING: Will not save custom link functions.\n"
     ]
    }
   ],
   "source": [
    "a_reg = {'model': \"a ~ 1\",'link_func': lambda x: x}\n",
    "v_reg = {'model': \"v ~ 1 + C(turn_type, Treatment('Sham'))\",'link_func': lambda x: x}\n",
    "z_reg = {'model': \"z ~ 1 + C(turn_type, Treatment('Sham'))\",'link_func': lambda x: x}\n",
    "reg_descr = [a_reg,v_reg,z_reg]\n",
    "D_L_T_N_vzm = hddm.HDDMRegressor(D_L_T_N, reg_descr, include='z')\n",
    "D_L_T_N_vzm.find_starting_values()\n",
    "D_L_T_N_vzm.sample(2000, burn=20, dbname='traces.db', db='pickle')\n",
    "D_L_T_N_vzm.save('D_L_T_N_vzm')"
   ]
  },
  {
   "cell_type": "markdown",
   "metadata": {},
   "source": [
    "### model 7: a + v + z"
   ]
  },
  {
   "cell_type": "code",
   "execution_count": 13,
   "metadata": {},
   "outputs": [
    {
     "name": "stdout",
     "output_type": "stream",
     "text": [
      "Adding these covariates:\n",
      "['a_Intercept', \"a_C(turn_type, Treatment('Sham'))[T.Left cTBS]\"]\n",
      "Adding these covariates:\n",
      "['v_Intercept', \"v_C(turn_type, Treatment('Sham'))[T.Left cTBS]\"]\n",
      "Adding these covariates:\n",
      "['z_Intercept', \"z_C(turn_type, Treatment('Sham'))[T.Left cTBS]\"]\n",
      " [-----------------100%-----------------] 2001 of 2000 complete in 3895.4 secWARNING: Will not save custom link functions.\n",
      "WARNING: Will not save custom link functions.\n",
      "WARNING: Will not save custom link functions.\n"
     ]
    }
   ],
   "source": [
    "a_reg = {'model': \"a ~ 1 + C(turn_type, Treatment('Sham'))\",'link_func': lambda x: x}\n",
    "v_reg = {'model': \"v ~ 1 + C(turn_type, Treatment('Sham'))\",'link_func': lambda x: x}\n",
    "z_reg = {'model': \"z ~ 1 + C(turn_type, Treatment('Sham'))\",'link_func': lambda x: x}\n",
    "reg_descr = [a_reg,v_reg,z_reg]\n",
    "D_L_T_N_fm = hddm.HDDMRegressor(D_L_T_N, reg_descr, include='z')\n",
    "D_L_T_N_fm.find_starting_values()\n",
    "D_L_T_N_fm.sample(2000, burn=20, dbname='traces.db', db='pickle')\n",
    "D_L_T_N_fm.save('D_L_T_N_fm')"
   ]
  },
  {
   "cell_type": "markdown",
   "metadata": {},
   "source": [
    "### Model comparison"
   ]
  },
  {
   "cell_type": "code",
   "execution_count": 26,
   "metadata": {},
   "outputs": [
    {
     "name": "stdout",
     "output_type": "stream",
     "text": [
      "baseline model DIC: 6271.551384\n",
      "a model DIC: 6265.828041\n",
      "v model DIC: 6248.036534\n",
      "z model DIC: 6266.198565\n",
      "av model DIC: 6243.402598\n",
      "az model DIC: 6263.072023\n",
      "vz model DIC: 6250.138157\n",
      "full model DIC: 6243.875794\n"
     ]
    },
    {
     "data": {
      "image/png": "[encoded data removed]",
      "text/plain": [
       "<Figure size 130.394x63.7795 with 1 Axes>"
      ]
     },
     "metadata": {
      "needs_background": "light"
     },
     "output_type": "display_data"
    }
   ],
   "source": [
    "print(\"baseline model DIC: %f\" % D_L_T_N_bsl.dic)\n",
    "print(\"a model DIC: %f\" % D_L_T_N_am.dic)\n",
    "print(\"v model DIC: %f\" % D_L_T_N_vm.dic)\n",
    "print(\"z model DIC: %f\" % D_L_T_N_zm.dic)\n",
    "print(\"av model DIC: %f\" % D_L_T_N_avm.dic)\n",
    "print(\"az model DIC: %f\" % D_L_T_N_azm.dic)\n",
    "print(\"vz model DIC: %f\" % D_L_T_N_vzm.dic)\n",
    "print(\"full model DIC: %f\" % D_L_T_N_fm.dic)\n",
    "\n",
    "fig, ax = plt.subplots()\n",
    "\n",
    "fruits = ['baseline', 'a', 'v', 'z', 'av', 'az', 'vz','full']\n",
    "counts = [D_L_T_N_bsl.dic, D_L_T_N_am.dic, D_L_T_N_vm.dic, D_L_T_N_zm.dic,D_L_T_N_avm.dic,D_L_T_N_azm.dic,D_L_T_N_vzm.dic,D_L_T_N_fm.dic]\n",
    "\n",
    "ax.bar(fruits, counts, color=[197./255,158./255,226./255],edgecolor='black',linewidth=0.5)\n",
    "\n",
    "ax.set_ylim([6240,6280])\n",
    "ytick_plot=range(6240,6280,5)\n",
    "ytick_plot.append(6280)\n",
    "ax.set_yticks(ytick_plot)\n",
    "#ax.set_yticklabels(range(5020,5032,2))\n",
    "ax.spines['right'].set_visible(False)\n",
    "ax.spines['top'].set_visible(False)\n",
    "\n",
    "fig.set_size_inches(4.6*cm,2.25*cm)\n",
    "ax.tick_params('both',which='major',direction='in',width=0.5,length=2)\n",
    "plt.rcParams['font.size']=5\n",
    "plt.rcParams['font.family']='Arial'\n",
    "plt.savefig(D_name+'M_compare.pdf',bbox_inches = 'tight',transparent=True)\n",
    "plt.show()"
   ]
  },
  {
   "cell_type": "markdown",
   "metadata": {},
   "source": [
    "### Plotting"
   ]
  },
  {
   "cell_type": "code",
   "execution_count": 28,
   "metadata": {},
   "outputs": [
    {
     "data": {
      "image/png": "[encoded data removed]",
      "text/plain": [
       "<Figure size 127.559x70.8661 with 1 Axes>"
      ]
     },
     "metadata": {
      "needs_background": "light"
     },
     "output_type": "display_data"
    },
    {
     "name": "stdout",
     "output_type": "stream",
     "text": [
      "('P(a > Sham) = ', 0.9914141414141414)\n",
      "('P(v > Sham) = ', 1.0)\n",
      "('P(z > Sham) = ', 0.552020202020202)\n"
     ]
    }
   ],
   "source": [
    "a_Intercept,a_cTBS = D_L_T_N_fm.nodes_db.loc[[\"a_Intercept\",\"a_C(turn_type, Treatment('Sham'))[T.Left cTBS]\"], 'node']\n",
    "# hddm.analyze.plot_posterior_nodes([a_Intercept,a_cTBS])\n",
    "# plt.xlabel('boundary')\n",
    "# plt.ylabel('Posterior probability')\n",
    "# plt.title('Full model')\n",
    "\n",
    "v_Intercept,v_cTBS = D_L_T_N_fm.nodes_db.loc[[\"v_Intercept\",\"v_C(turn_type, Treatment('Sham'))[T.Left cTBS]\"], 'node']\n",
    "# hddm.analyze.plot_posterior_nodes([v_Intercept,v_cTBS])\n",
    "# plt.xlabel('drift-rate')\n",
    "# plt.ylabel('Posterior probability')\n",
    "# plt.title('Full model')\n",
    "\n",
    "z_Intercept,z_cTBS = D_L_T_N_fm.nodes_db.loc[[\"z_Intercept\",\"z_C(turn_type, Treatment('Sham'))[T.Left cTBS]\"], 'node']\n",
    "# hddm.analyze.plot_posterior_nodes([z_Intercept,z_cTBS])\n",
    "# plt.xlabel('starting point')\n",
    "# plt.ylabel('Posterior probability')\n",
    "# plt.title('Full model')\n",
    "\n",
    "fig, ax = plt.subplots()\n",
    "fig.set_size_inches(4.5*cm,2.5*cm)\n",
    "\n",
    "para_tag=['boundary(a)','drift rate(v)','starting point(z)']\n",
    "counts = [a_cTBS.trace()/(max(a_cTBS.trace())-min(a_cTBS.trace())),v_cTBS.trace()/(max(v_cTBS.trace())-min(v_cTBS.trace())),z_cTBS.trace()/(max(z_cTBS.trace())-min(z_cTBS.trace()))]\n",
    "\n",
    "ax.axhline(y = 0, color =[0.5,0.5,0.5], linestyle =\"--\", linewidth = 0.5, zorder=0)\n",
    "\n",
    "vioparts=ax.violinplot(counts)\n",
    "for pc in vioparts['bodies']:\n",
    "    pc.set_facecolor([197./255,158./255,226./255])\n",
    "    pc.set_edgecolor('black')\n",
    "    pc.set_linewidth(0.5)\n",
    "    pc.set_alpha(0.8)\n",
    "vioparts['cbars'].set_color('black')\n",
    "vioparts['cbars'].set_linewidth(0.5)\n",
    "vioparts['cmaxes'].set_color('black')\n",
    "vioparts['cmaxes'].set_linewidth(0.5)\n",
    "vioparts['cmins'].set_color('black')\n",
    "vioparts['cmins'].set_linewidth(0.5)\n",
    "\n",
    "ax.set_xticks([1,2,3])\n",
    "ax.set_xticklabels(para_tag)\n",
    "#ax.set_title('Full model: Left cTBS consonant quiet')\n",
    "#ax.set_ylabel('Regression coef (normalized)')\n",
    "ax.set_ylim([-1.5,1.8])\n",
    "ax.set_yticks([-1.5,-0.9,-0.3,0.3,0.9,1.5,1.8])\n",
    "ax.set_yticklabels([-1.5,-0.9,-0.3,0.3,0.9,1.5])\n",
    "ax.spines['right'].set_visible(False)\n",
    "ax.spines['top'].set_visible(False)\n",
    "\n",
    "ax.tick_params('both',which='major',direction='in',width=0.5,length=2)\n",
    "plt.rcParams['savefig.dpi']=300\n",
    "plt.rcParams['font.size']=5\n",
    "plt.rcParams['font.family']='Arial'\n",
    "plt.savefig(D_name+'cTBS_DDMparas.pdf',bbox_inches = 'tight',transparent=True)\n",
    "plt.show()\n",
    "\n",
    "print(\"P(a > Sham) = \", (a_cTBS.trace() > 0).mean())\n",
    "print(\"P(v > Sham) = \", (v_cTBS.trace() > 0).mean())\n",
    "print(\"P(z > Sham) = \", (z_cTBS.trace() > 0).mean())"
   ]
  },
  {
   "cell_type": "markdown",
   "metadata": {},
   "source": [
    "### check full model simulation prediction accuracy"
   ]
  },
  {
   "cell_type": "markdown",
   "metadata": {},
   "source": [
    "#### fit the full model"
   ]
  },
  {
   "cell_type": "code",
   "execution_count": 16,
   "metadata": {},
   "outputs": [
    {
     "name": "stdout",
     "output_type": "stream",
     "text": [
      "Adding these covariates:\n",
      "['a_Intercept', \"a_C(turn_type, Treatment('Sham'))[T.Left cTBS]\"]\n",
      "Adding these covariates:\n",
      "['v_Intercept', \"v_C(turn_type, Treatment('Sham'))[T.Left cTBS]\"]\n",
      "Adding these covariates:\n",
      "['z_Intercept', \"z_C(turn_type, Treatment('Sham'))[T.Left cTBS]\"]\n",
      " [-----------------100%-----------------] 2001 of 2000 complete in 3895.6 sec"
     ]
    },
    {
     "data": {
      "text/plain": [
       "<pymc.MCMC.MCMC at 0x7f81bc5ce750>"
      ]
     },
     "execution_count": 16,
     "metadata": {},
     "output_type": "execute_result"
    }
   ],
   "source": [
    "fm_data_2=D_L_T_N\n",
    "fm_data_2.reset_index(inplace = True, drop = True)\n",
    "a_reg = {'model': \"a ~ 1 + C(turn_type, Treatment('Sham'))\",'link_func': lambda x: x}\n",
    "v_reg = {'model': \"v ~ 1 + C(turn_type, Treatment('Sham'))\",'link_func': lambda x: x}\n",
    "z_reg = {'model': \"z ~ 1 + C(turn_type, Treatment('Sham'))\",'link_func': lambda x: x}\n",
    "reg_descr = [a_reg,v_reg,z_reg]\n",
    "fm_2 = hddm.HDDMRegressor(fm_data_2, reg_descr, include='z')\n",
    "fm_2.find_starting_values()\n",
    "fm_2.sample(2000, burn=20, dbname='traces.db', db='pickle')"
   ]
  },
  {
   "cell_type": "markdown",
   "metadata": {},
   "source": [
    "#### plot the full model (compared with the original full model)"
   ]
  },
  {
   "cell_type": "code",
   "execution_count": 17,
   "metadata": {},
   "outputs": [
    {
     "data": {
      "image/png": "[encoded data removed]",
      "text/plain": [
       "<Figure size 288x288 with 1 Axes>"
      ]
     },
     "metadata": {
      "needs_background": "light"
     },
     "output_type": "display_data"
    },
    {
     "name": "stdout",
     "output_type": "stream",
     "text": [
      "('P(a > Sham) = ', 0.9924242424242424)\n",
      "('P(v > Sham) = ', 1.0)\n",
      "('P(z > Sham) = ', 0.5237373737373737)\n"
     ]
    }
   ],
   "source": [
    "a_Intercept,a_cTBS = fm_2.nodes_db.loc[[\"a_Intercept\",\"a_C(turn_type, Treatment('Sham'))[T.Left cTBS]\"], 'node']\n",
    "v_Intercept,v_cTBS = fm_2.nodes_db.loc[[\"v_Intercept\",\"v_C(turn_type, Treatment('Sham'))[T.Left cTBS]\"], 'node']\n",
    "z_Intercept,z_cTBS = fm_2.nodes_db.loc[[\"z_Intercept\",\"z_C(turn_type, Treatment('Sham'))[T.Left cTBS]\"], 'node']\n",
    "\n",
    "fig, ax = plt.subplots()\n",
    "fig.set_size_inches(4,4)\n",
    "\n",
    "para_tag=['boundary(a)','drift rate(v)','starting point(z)']\n",
    "counts = [a_cTBS.trace()/(max(a_cTBS.trace())-min(a_cTBS.trace())),v_cTBS.trace()/(max(v_cTBS.trace())-min(v_cTBS.trace())),z_cTBS.trace()/(max(z_cTBS.trace())-min(z_cTBS.trace()))]\n",
    "\n",
    "ax.axhline(y = 0, color =\"green\", linestyle =\"--\")\n",
    "ax.violinplot(counts)\n",
    "ax.set_xticks([1,2,3])\n",
    "ax.set_xticklabels(para_tag)\n",
    "ax.set_title('Full model: Left cTBS consonant quiet')\n",
    "ax.set_ylabel('Regression coef (normalized)')\n",
    "ax.set_ylim([-1.8,1.8])\n",
    "ax.spines['right'].set_visible(False)\n",
    "ax.spines['top'].set_visible(False)\n",
    "\n",
    "plt.show()\n",
    "\n",
    "print(\"P(a > Sham) = \", (a_cTBS.trace() > 0).mean())\n",
    "print(\"P(v > Sham) = \", (v_cTBS.trace() > 0).mean())\n",
    "print(\"P(z > Sham) = \", (z_cTBS.trace() > 0).mean())"
   ]
  },
  {
   "cell_type": "markdown",
   "metadata": {},
   "source": [
    "#### predict data from simulated data derived from full model"
   ]
  },
  {
   "cell_type": "code",
   "execution_count": 18,
   "metadata": {},
   "outputs": [
    {
     "name": "stdout",
     "output_type": "stream",
     "text": [
      " [-------------------112%-------------------] 28 of 25 complete in 23043.8 sec"
     ]
    },
    {
     "data": {
      "text/html": [
       "<div>\n",
       "<style scoped>\n",
       "    .dataframe tbody tr th:only-of-type {\n",
       "        vertical-align: middle;\n",
       "    }\n",
       "\n",
       "    .dataframe tbody tr th {\n",
       "        vertical-align: top;\n",
       "    }\n",
       "\n",
       "    .dataframe thead th {\n",
       "        text-align: right;\n",
       "    }\n",
       "</style>\n",
       "<table border=\"1\" class=\"dataframe\">\n",
       "  <thead>\n",
       "    <tr style=\"text-align: right;\">\n",
       "      <th></th>\n",
       "      <th>observed</th>\n",
       "      <th>mean</th>\n",
       "      <th>std</th>\n",
       "      <th>SEM</th>\n",
       "      <th>MSE</th>\n",
       "      <th>credible</th>\n",
       "      <th>quantile</th>\n",
       "      <th>mahalanobis</th>\n",
       "    </tr>\n",
       "    <tr>\n",
       "      <th>stat</th>\n",
       "      <th></th>\n",
       "      <th></th>\n",
       "      <th></th>\n",
       "      <th></th>\n",
       "      <th></th>\n",
       "      <th></th>\n",
       "      <th></th>\n",
       "      <th></th>\n",
       "    </tr>\n",
       "  </thead>\n",
       "  <tbody>\n",
       "    <tr>\n",
       "      <th>accuracy</th>\n",
       "      <td>0.576923</td>\n",
       "      <td>0.579528</td>\n",
       "      <td>0.135158</td>\n",
       "      <td>0.000007</td>\n",
       "      <td>0.018274</td>\n",
       "      <td>True</td>\n",
       "      <td>50.180000</td>\n",
       "      <td>0.019277</td>\n",
       "    </tr>\n",
       "    <tr>\n",
       "      <th>mean_ub</th>\n",
       "      <td>0.747240</td>\n",
       "      <td>0.766007</td>\n",
       "      <td>0.150488</td>\n",
       "      <td>0.000352</td>\n",
       "      <td>0.022999</td>\n",
       "      <td>True</td>\n",
       "      <td>55.080002</td>\n",
       "      <td>0.124711</td>\n",
       "    </tr>\n",
       "    <tr>\n",
       "      <th>std_ub</th>\n",
       "      <td>0.273763</td>\n",
       "      <td>0.251346</td>\n",
       "      <td>0.070010</td>\n",
       "      <td>0.000503</td>\n",
       "      <td>0.005404</td>\n",
       "      <td>True</td>\n",
       "      <td>66.912003</td>\n",
       "      <td>0.320198</td>\n",
       "    </tr>\n",
       "    <tr>\n",
       "      <th>10q_ub</th>\n",
       "      <td>0.483289</td>\n",
       "      <td>0.540404</td>\n",
       "      <td>0.117818</td>\n",
       "      <td>0.003262</td>\n",
       "      <td>0.017143</td>\n",
       "      <td>True</td>\n",
       "      <td>25.080000</td>\n",
       "      <td>0.484771</td>\n",
       "    </tr>\n",
       "    <tr>\n",
       "      <th>30q_ub</th>\n",
       "      <td>0.603073</td>\n",
       "      <td>0.606549</td>\n",
       "      <td>0.126800</td>\n",
       "      <td>0.000012</td>\n",
       "      <td>0.016090</td>\n",
       "      <td>True</td>\n",
       "      <td>56.824001</td>\n",
       "      <td>0.027408</td>\n",
       "    </tr>\n",
       "    <tr>\n",
       "      <th>50q_ub</th>\n",
       "      <td>0.697525</td>\n",
       "      <td>0.689801</td>\n",
       "      <td>0.139607</td>\n",
       "      <td>0.000060</td>\n",
       "      <td>0.019550</td>\n",
       "      <td>True</td>\n",
       "      <td>59.175999</td>\n",
       "      <td>0.055323</td>\n",
       "    </tr>\n",
       "    <tr>\n",
       "      <th>70q_ub</th>\n",
       "      <td>0.804018</td>\n",
       "      <td>0.816968</td>\n",
       "      <td>0.161976</td>\n",
       "      <td>0.000168</td>\n",
       "      <td>0.026404</td>\n",
       "      <td>True</td>\n",
       "      <td>57.040001</td>\n",
       "      <td>0.079956</td>\n",
       "    </tr>\n",
       "    <tr>\n",
       "      <th>90q_ub</th>\n",
       "      <td>1.073881</td>\n",
       "      <td>1.091180</td>\n",
       "      <td>0.222107</td>\n",
       "      <td>0.000299</td>\n",
       "      <td>0.049631</td>\n",
       "      <td>True</td>\n",
       "      <td>55.655998</td>\n",
       "      <td>0.077887</td>\n",
       "    </tr>\n",
       "    <tr>\n",
       "      <th>mean_lb</th>\n",
       "      <td>-0.772920</td>\n",
       "      <td>-0.787088</td>\n",
       "      <td>0.147579</td>\n",
       "      <td>0.000201</td>\n",
       "      <td>0.021980</td>\n",
       "      <td>True</td>\n",
       "      <td>42.759998</td>\n",
       "      <td>0.096000</td>\n",
       "    </tr>\n",
       "    <tr>\n",
       "      <th>std_lb</th>\n",
       "      <td>0.269520</td>\n",
       "      <td>0.254056</td>\n",
       "      <td>0.073679</td>\n",
       "      <td>0.000239</td>\n",
       "      <td>0.005668</td>\n",
       "      <td>True</td>\n",
       "      <td>64.400002</td>\n",
       "      <td>0.209881</td>\n",
       "    </tr>\n",
       "    <tr>\n",
       "      <th>10q_lb</th>\n",
       "      <td>0.527652</td>\n",
       "      <td>0.554287</td>\n",
       "      <td>0.113472</td>\n",
       "      <td>0.000709</td>\n",
       "      <td>0.013585</td>\n",
       "      <td>True</td>\n",
       "      <td>44.071999</td>\n",
       "      <td>0.234726</td>\n",
       "    </tr>\n",
       "    <tr>\n",
       "      <th>30q_lb</th>\n",
       "      <td>0.635459</td>\n",
       "      <td>0.626482</td>\n",
       "      <td>0.121506</td>\n",
       "      <td>0.000081</td>\n",
       "      <td>0.014844</td>\n",
       "      <td>True</td>\n",
       "      <td>59.375999</td>\n",
       "      <td>0.073886</td>\n",
       "    </tr>\n",
       "    <tr>\n",
       "      <th>50q_lb</th>\n",
       "      <td>0.716472</td>\n",
       "      <td>0.713543</td>\n",
       "      <td>0.135320</td>\n",
       "      <td>0.000009</td>\n",
       "      <td>0.018320</td>\n",
       "      <td>True</td>\n",
       "      <td>59.919998</td>\n",
       "      <td>0.021647</td>\n",
       "    </tr>\n",
       "    <tr>\n",
       "      <th>70q_lb</th>\n",
       "      <td>0.819815</td>\n",
       "      <td>0.842103</td>\n",
       "      <td>0.159896</td>\n",
       "      <td>0.000497</td>\n",
       "      <td>0.026063</td>\n",
       "      <td>True</td>\n",
       "      <td>54.472000</td>\n",
       "      <td>0.139390</td>\n",
       "    </tr>\n",
       "    <tr>\n",
       "      <th>90q_lb</th>\n",
       "      <td>1.072158</td>\n",
       "      <td>1.113672</td>\n",
       "      <td>0.225224</td>\n",
       "      <td>0.001723</td>\n",
       "      <td>0.052449</td>\n",
       "      <td>True</td>\n",
       "      <td>49.375999</td>\n",
       "      <td>0.184323</td>\n",
       "    </tr>\n",
       "  </tbody>\n",
       "</table>\n",
       "</div>"
      ],
      "text/plain": [
       "          observed      mean       std       SEM       MSE credible  \\\n",
       "stat                                                                  \n",
       "accuracy  0.576923  0.579528  0.135158  0.000007  0.018274     True   \n",
       "mean_ub   0.747240  0.766007  0.150488  0.000352  0.022999     True   \n",
       "std_ub    0.273763  0.251346  0.070010  0.000503  0.005404     True   \n",
       "10q_ub    0.483289  0.540404  0.117818  0.003262  0.017143     True   \n",
       "30q_ub    0.603073  0.606549  0.126800  0.000012  0.016090     True   \n",
       "50q_ub    0.697525  0.689801  0.139607  0.000060  0.019550     True   \n",
       "70q_ub    0.804018  0.816968  0.161976  0.000168  0.026404     True   \n",
       "90q_ub    1.073881  1.091180  0.222107  0.000299  0.049631     True   \n",
       "mean_lb  -0.772920 -0.787088  0.147579  0.000201  0.021980     True   \n",
       "std_lb    0.269520  0.254056  0.073679  0.000239  0.005668     True   \n",
       "10q_lb    0.527652  0.554287  0.113472  0.000709  0.013585     True   \n",
       "30q_lb    0.635459  0.626482  0.121506  0.000081  0.014844     True   \n",
       "50q_lb    0.716472  0.713543  0.135320  0.000009  0.018320     True   \n",
       "70q_lb    0.819815  0.842103  0.159896  0.000497  0.026063     True   \n",
       "90q_lb    1.072158  1.113672  0.225224  0.001723  0.052449     True   \n",
       "\n",
       "           quantile  mahalanobis  \n",
       "stat                              \n",
       "accuracy  50.180000     0.019277  \n",
       "mean_ub   55.080002     0.124711  \n",
       "std_ub    66.912003     0.320198  \n",
       "10q_ub    25.080000     0.484771  \n",
       "30q_ub    56.824001     0.027408  \n",
       "50q_ub    59.175999     0.055323  \n",
       "70q_ub    57.040001     0.079956  \n",
       "90q_ub    55.655998     0.077887  \n",
       "mean_lb   42.759998     0.096000  \n",
       "std_lb    64.400002     0.209881  \n",
       "10q_lb    44.071999     0.234726  \n",
       "30q_lb    59.375999     0.073886  \n",
       "50q_lb    59.919998     0.021647  \n",
       "70q_lb    54.472000     0.139390  \n",
       "90q_lb    49.375999     0.184323  "
      ]
     },
     "execution_count": 18,
     "metadata": {},
     "output_type": "execute_result"
    }
   ],
   "source": [
    "fm_data_2_sim = hddm.utils.post_pred_gen(fm_2)\n",
    "hddm.utils.post_pred_stats(fm_data_2, fm_data_2_sim)"
   ]
  }
 ],
 "metadata": {
  "kernelspec": {
   "display_name": "Python 2.7.18 ('bsliang_DDM_27': conda)",
   "language": "python",
   "name": "python3"
  },
  "language_info": {
   "codemirror_mode": {
    "name": "ipython",
    "version": 2
   },
   "file_extension": ".py",
   "mimetype": "text/x-python",
   "name": "python",
   "nbconvert_exporter": "python",
   "pygments_lexer": "ipython2",
   "version": "2.7.18"
  },
  "orig_nbformat": 4,
  "vscode": {
   "interpreter": {
    "hash": "800a09db568ebe80aacfc1bc086e45a31a7cff3ccaf522d8b640d0dfbe2b8801"
   }
  }
 },
 "nbformat": 4,
 "nbformat_minor": 2
}
