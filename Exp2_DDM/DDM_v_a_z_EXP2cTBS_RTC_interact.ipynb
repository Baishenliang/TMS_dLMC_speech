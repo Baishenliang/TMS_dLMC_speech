{
 "cells": [
  {
   "cell_type": "markdown",
   "metadata": {},
   "source": [
    "# TBS"
   ]
  },
  {
   "cell_type": "markdown",
   "metadata": {},
   "source": [
    "## preparing"
   ]
  },
  {
   "cell_type": "code",
   "execution_count": 16,
   "metadata": {},
   "outputs": [],
   "source": [
    "import pandas as pd\n",
    "import matplotlib.pyplot as plt\n",
    "import hddm\n",
    "import numpy as np\n",
    "import pickle\n",
    "from patsy import dmatrices, dmatrix, demo_data\n",
    "cm = 1/2.54"
   ]
  },
  {
   "cell_type": "markdown",
   "metadata": {},
   "source": [
    "## loading data"
   ]
  },
  {
   "cell_type": "code",
   "execution_count": 2,
   "metadata": {},
   "outputs": [
    {
     "data": {
      "text/html": [
       "<div>\n",
       "<style scoped>\n",
       "    .dataframe tbody tr th:only-of-type {\n",
       "        vertical-align: middle;\n",
       "    }\n",
       "\n",
       "    .dataframe tbody tr th {\n",
       "        vertical-align: top;\n",
       "    }\n",
       "\n",
       "    .dataframe thead th {\n",
       "        text-align: right;\n",
       "    }\n",
       "</style>\n",
       "<table border=\"1\" class=\"dataframe\">\n",
       "  <thead>\n",
       "    <tr style=\"text-align: right;\">\n",
       "      <th></th>\n",
       "      <th>subj_idx</th>\n",
       "      <th>group_idx</th>\n",
       "      <th>turn_type</th>\n",
       "      <th>task_type</th>\n",
       "      <th>snr_type</th>\n",
       "      <th>trial_num</th>\n",
       "      <th>step_att</th>\n",
       "      <th>response</th>\n",
       "      <th>rt</th>\n",
       "      <th>step_unatnd</th>\n",
       "    </tr>\n",
       "  </thead>\n",
       "  <tbody>\n",
       "    <tr>\n",
       "      <th>0</th>\n",
       "      <td>55</td>\n",
       "      <td>Larynx</td>\n",
       "      <td>Left iTBS</td>\n",
       "      <td>Tone</td>\n",
       "      <td>Clear</td>\n",
       "      <td>1</td>\n",
       "      <td>3</td>\n",
       "      <td>1</td>\n",
       "      <td>1.083317</td>\n",
       "      <td>1</td>\n",
       "    </tr>\n",
       "    <tr>\n",
       "      <th>1</th>\n",
       "      <td>55</td>\n",
       "      <td>Larynx</td>\n",
       "      <td>Left iTBS</td>\n",
       "      <td>Tone</td>\n",
       "      <td>Clear</td>\n",
       "      <td>2</td>\n",
       "      <td>2</td>\n",
       "      <td>1</td>\n",
       "      <td>0.744397</td>\n",
       "      <td>1</td>\n",
       "    </tr>\n",
       "    <tr>\n",
       "      <th>2</th>\n",
       "      <td>55</td>\n",
       "      <td>Larynx</td>\n",
       "      <td>Left iTBS</td>\n",
       "      <td>Tone</td>\n",
       "      <td>Clear</td>\n",
       "      <td>3</td>\n",
       "      <td>2</td>\n",
       "      <td>1</td>\n",
       "      <td>0.732525</td>\n",
       "      <td>1</td>\n",
       "    </tr>\n",
       "    <tr>\n",
       "      <th>3</th>\n",
       "      <td>55</td>\n",
       "      <td>Larynx</td>\n",
       "      <td>Left iTBS</td>\n",
       "      <td>Tone</td>\n",
       "      <td>Clear</td>\n",
       "      <td>4</td>\n",
       "      <td>1</td>\n",
       "      <td>1</td>\n",
       "      <td>0.800199</td>\n",
       "      <td>1</td>\n",
       "    </tr>\n",
       "    <tr>\n",
       "      <th>4</th>\n",
       "      <td>55</td>\n",
       "      <td>Larynx</td>\n",
       "      <td>Left iTBS</td>\n",
       "      <td>Tone</td>\n",
       "      <td>Clear</td>\n",
       "      <td>5</td>\n",
       "      <td>2</td>\n",
       "      <td>1</td>\n",
       "      <td>0.753649</td>\n",
       "      <td>1</td>\n",
       "    </tr>\n",
       "    <tr>\n",
       "      <th>5</th>\n",
       "      <td>55</td>\n",
       "      <td>Larynx</td>\n",
       "      <td>Left iTBS</td>\n",
       "      <td>Tone</td>\n",
       "      <td>Clear</td>\n",
       "      <td>6</td>\n",
       "      <td>2</td>\n",
       "      <td>1</td>\n",
       "      <td>0.544652</td>\n",
       "      <td>1</td>\n",
       "    </tr>\n",
       "    <tr>\n",
       "      <th>6</th>\n",
       "      <td>55</td>\n",
       "      <td>Larynx</td>\n",
       "      <td>Left iTBS</td>\n",
       "      <td>Tone</td>\n",
       "      <td>Clear</td>\n",
       "      <td>7</td>\n",
       "      <td>1</td>\n",
       "      <td>1</td>\n",
       "      <td>0.621313</td>\n",
       "      <td>1</td>\n",
       "    </tr>\n",
       "    <tr>\n",
       "      <th>7</th>\n",
       "      <td>55</td>\n",
       "      <td>Larynx</td>\n",
       "      <td>Left iTBS</td>\n",
       "      <td>Tone</td>\n",
       "      <td>Clear</td>\n",
       "      <td>8</td>\n",
       "      <td>1</td>\n",
       "      <td>1</td>\n",
       "      <td>0.580819</td>\n",
       "      <td>1</td>\n",
       "    </tr>\n",
       "    <tr>\n",
       "      <th>8</th>\n",
       "      <td>55</td>\n",
       "      <td>Larynx</td>\n",
       "      <td>Left iTBS</td>\n",
       "      <td>Tone</td>\n",
       "      <td>Clear</td>\n",
       "      <td>9</td>\n",
       "      <td>1</td>\n",
       "      <td>0</td>\n",
       "      <td>-0.496794</td>\n",
       "      <td>1</td>\n",
       "    </tr>\n",
       "    <tr>\n",
       "      <th>9</th>\n",
       "      <td>55</td>\n",
       "      <td>Larynx</td>\n",
       "      <td>Left iTBS</td>\n",
       "      <td>Tone</td>\n",
       "      <td>Clear</td>\n",
       "      <td>10</td>\n",
       "      <td>3</td>\n",
       "      <td>1</td>\n",
       "      <td>0.863869</td>\n",
       "      <td>1</td>\n",
       "    </tr>\n",
       "  </tbody>\n",
       "</table>\n",
       "</div>"
      ],
      "text/plain": [
       "   subj_idx group_idx  turn_type task_type snr_type  trial_num  step_att  \\\n",
       "0        55    Larynx  Left iTBS      Tone    Clear          1         3   \n",
       "1        55    Larynx  Left iTBS      Tone    Clear          2         2   \n",
       "2        55    Larynx  Left iTBS      Tone    Clear          3         2   \n",
       "3        55    Larynx  Left iTBS      Tone    Clear          4         1   \n",
       "4        55    Larynx  Left iTBS      Tone    Clear          5         2   \n",
       "5        55    Larynx  Left iTBS      Tone    Clear          6         2   \n",
       "6        55    Larynx  Left iTBS      Tone    Clear          7         1   \n",
       "7        55    Larynx  Left iTBS      Tone    Clear          8         1   \n",
       "8        55    Larynx  Left iTBS      Tone    Clear          9         1   \n",
       "9        55    Larynx  Left iTBS      Tone    Clear         10         3   \n",
       "\n",
       "   response        rt  step_unatnd  \n",
       "0         1  1.083317            1  \n",
       "1         1  0.744397            1  \n",
       "2         1  0.732525            1  \n",
       "3         1  0.800199            1  \n",
       "4         1  0.753649            1  \n",
       "5         1  0.544652            1  \n",
       "6         1  0.621313            1  \n",
       "7         1  0.580819            1  \n",
       "8         0 -0.496794            1  \n",
       "9         1  0.863869            1  "
      ]
     },
     "execution_count": 2,
     "metadata": {},
     "output_type": "execute_result"
    }
   ],
   "source": [
    "data = hddm.load_csv('exp2_DDM.csv')\n",
    "data.at[data['step_att'].isin(['4']),'step_att']=2\n",
    "data.at[data['step_att'].isin(['5']),'step_att']=1\n",
    "data = hddm.utils.flip_errors(data)\n",
    "data.head(10)"
   ]
  },
  {
   "cell_type": "markdown",
   "metadata": {},
   "source": [
    "## right stim, consonant, clear"
   ]
  },
  {
   "cell_type": "markdown",
   "metadata": {},
   "source": [
    "### preparing data"
   ]
  },
  {
   "cell_type": "code",
   "execution_count": 3,
   "metadata": {},
   "outputs": [
    {
     "name": "stdout",
     "output_type": "stream",
     "text": [
      "       subj_idx group_idx   turn_type task_type snr_type  trial_num  step_att  \\\n",
      "1872         55    Larynx  Right cTBS      Tone    Clear          1         2   \n",
      "1873         55    Larynx  Right cTBS      Tone    Clear          2         2   \n",
      "1874         55    Larynx  Right cTBS      Tone    Clear          3         1   \n",
      "1875         55    Larynx  Right cTBS      Tone    Clear          4         2   \n",
      "1876         55    Larynx  Right cTBS      Tone    Clear          5         1   \n",
      "1877         55    Larynx  Right cTBS      Tone    Clear          6         2   \n",
      "1878         55    Larynx  Right cTBS      Tone    Clear          7         1   \n",
      "1879         55    Larynx  Right cTBS      Tone    Clear          8         2   \n",
      "1880         55    Larynx  Right cTBS      Tone    Clear          9         1   \n",
      "1881         55    Larynx  Right cTBS      Tone    Clear         10         2   \n",
      "1882         55    Larynx  Right cTBS      Tone    Clear         11         2   \n",
      "1883         55    Larynx  Right cTBS      Tone    Clear         12         3   \n",
      "1884         55    Larynx  Right cTBS      Tone    Clear         13         3   \n",
      "1885         55    Larynx  Right cTBS      Tone    Clear         14         2   \n",
      "1886         55    Larynx  Right cTBS      Tone    Clear         15         3   \n",
      "1887         55    Larynx  Right cTBS      Tone    Clear         16         2   \n",
      "1888         55    Larynx  Right cTBS      Tone    Clear         17         3   \n",
      "1889         55    Larynx  Right cTBS      Tone    Clear         18         3   \n",
      "1890         55    Larynx  Right cTBS      Tone    Clear         19         1   \n",
      "1891         55    Larynx  Right cTBS      Tone    Clear         20         2   \n",
      "1892         55    Larynx  Right cTBS      Tone    Clear         21         2   \n",
      "1893         55    Larynx  Right cTBS      Tone    Clear         22         2   \n",
      "1894         55    Larynx  Right cTBS      Tone    Clear         23         3   \n",
      "1895         55    Larynx  Right cTBS      Tone    Clear         24         3   \n",
      "1896         55    Larynx  Right cTBS      Tone    Clear         25         1   \n",
      "1897         55    Larynx  Right cTBS      Tone    Clear         26         2   \n",
      "1898         55    Larynx  Right cTBS      Tone    Clear         27         1   \n",
      "1899         55    Larynx  Right cTBS      Tone    Clear         28         3   \n",
      "1900         55    Larynx  Right cTBS      Tone    Clear         29         2   \n",
      "1901         55    Larynx  Right cTBS      Tone    Clear         30         1   \n",
      "...         ...       ...         ...       ...      ...        ...       ...   \n",
      "78126       253    Larynx        Sham      Tone    Clear        127         2   \n",
      "78127       253    Larynx        Sham      Tone    Clear        128         1   \n",
      "78128       253    Larynx        Sham      Tone    Clear        129         1   \n",
      "78129       253    Larynx        Sham      Tone    Clear        130         1   \n",
      "78130       253    Larynx        Sham      Tone    Clear        131         3   \n",
      "78131       253    Larynx        Sham      Tone    Clear        132         1   \n",
      "78132       253    Larynx        Sham      Tone    Clear        133         1   \n",
      "78133       253    Larynx        Sham      Tone    Clear        134         2   \n",
      "78134       253    Larynx        Sham      Tone    Clear        135         2   \n",
      "78135       253    Larynx        Sham      Tone    Clear        136         2   \n",
      "78136       253    Larynx        Sham      Tone    Clear        137         1   \n",
      "78137       253    Larynx        Sham      Tone    Clear        138         1   \n",
      "78138       253    Larynx        Sham      Tone    Clear        139         2   \n",
      "78139       253    Larynx        Sham      Tone    Clear        140         2   \n",
      "78140       253    Larynx        Sham      Tone    Clear        141         2   \n",
      "78141       253    Larynx        Sham      Tone    Clear        142         2   \n",
      "78142       253    Larynx        Sham      Tone    Clear        143         2   \n",
      "78143       253    Larynx        Sham      Tone    Clear        144         1   \n",
      "78144       253    Larynx        Sham      Tone    Clear        145         3   \n",
      "78145       253    Larynx        Sham      Tone    Clear        146         3   \n",
      "78146       253    Larynx        Sham      Tone    Clear        147         3   \n",
      "78147       253    Larynx        Sham      Tone    Clear        148         3   \n",
      "78148       253    Larynx        Sham      Tone    Clear        149         3   \n",
      "78149       253    Larynx        Sham      Tone    Clear        150         2   \n",
      "78150       253    Larynx        Sham      Tone    Clear        151         2   \n",
      "78151       253    Larynx        Sham      Tone    Clear        152         2   \n",
      "78152       253    Larynx        Sham      Tone    Clear        153         1   \n",
      "78153       253    Larynx        Sham      Tone    Clear        154         3   \n",
      "78154       253    Larynx        Sham      Tone    Clear        155         1   \n",
      "78155       253    Larynx        Sham      Tone    Clear        156         2   \n",
      "\n",
      "       response        rt  step_unatnd  \n",
      "1872          1  0.915280            1  \n",
      "1873          1  0.474399            1  \n",
      "1874          0 -0.545535            1  \n",
      "1875          1  0.437470            1  \n",
      "1876          0 -0.408656            1  \n",
      "1877          1  0.466801            1  \n",
      "1878          0 -0.574016            1  \n",
      "1879          1  0.442587            1  \n",
      "1880          1  0.470882            1  \n",
      "1881          0 -0.561891            1  \n",
      "1882          1  0.488271            1  \n",
      "1883          1  0.443744            1  \n",
      "1884          1  0.420811            1  \n",
      "1885          1  0.458408            1  \n",
      "1886          1  0.463656            1  \n",
      "1887          1  0.426659            1  \n",
      "1888          0 -0.557065            1  \n",
      "1889          1  1.404180            1  \n",
      "1890          1  0.534935            1  \n",
      "1891          0 -0.493588            1  \n",
      "1892          0 -0.491944            1  \n",
      "1893          1  0.511693            1  \n",
      "1894          0 -1.896310            1  \n",
      "1895          0 -0.000367            1  \n",
      "1896          0 -0.000627            1  \n",
      "1897          1  2.244449            1  \n",
      "1898          1  0.688296            1  \n",
      "1899          1  0.876524            1  \n",
      "1900          0 -0.689273            1  \n",
      "1901          1  0.494842            1  \n",
      "...         ...       ...          ...  \n",
      "78126         1  0.660880            1  \n",
      "78127         1  0.558448            1  \n",
      "78128         1  0.941209            1  \n",
      "78129         1  0.564786            1  \n",
      "78130         1  0.678036            1  \n",
      "78131         0 -0.645708            1  \n",
      "78132         0 -0.605000            1  \n",
      "78133         0 -0.611651            1  \n",
      "78134         0 -0.590936            1  \n",
      "78135         0 -0.487683            1  \n",
      "78136         1  0.622202            1  \n",
      "78137         1  0.577684            1  \n",
      "78138         1  0.481270            1  \n",
      "78139         1  0.492121            1  \n",
      "78140         0 -0.565029            1  \n",
      "78141         0 -0.648763            1  \n",
      "78142         1  0.746370            1  \n",
      "78143         1  0.612937            1  \n",
      "78144         0 -0.662952            1  \n",
      "78145         1  1.022814            1  \n",
      "78146         1  0.525678            1  \n",
      "78147         1  0.594899            1  \n",
      "78148         1  0.712846            1  \n",
      "78149         1  0.653655            1  \n",
      "78150         1  0.586441            1  \n",
      "78151         1  0.469893            1  \n",
      "78152         0 -0.496799            1  \n",
      "78153         1  0.730992            1  \n",
      "78154         0 -0.677024            1  \n",
      "78155         0 -0.491757            1  \n",
      "\n",
      "[7800 rows x 10 columns]\n"
     ]
    }
   ],
   "source": [
    "D_R=data.loc[data['turn_type'].isin(['Right cTBS','Sham'])]\n",
    "D_R_T=D_R.loc[D_R['task_type']=='Tone']\n",
    "D_R_T_Q=D_R_T.loc[D_R_T['snr_type']=='Clear']\n",
    "print(D_R_T_Q)\n",
    "D_R_T_Q.to_csv('Exp2_D_R_T_Q_cTBS.csv')"
   ]
  },
  {
   "cell_type": "markdown",
   "metadata": {},
   "source": [
    "### baseline model"
   ]
  },
  {
   "cell_type": "code",
   "execution_count": 4,
   "metadata": {},
   "outputs": [
    {
     "name": "stdout",
     "output_type": "stream",
     "text": [
      "Adding these covariates:\n",
      "['a_Intercept', \"a_C(turn_type, Treatment('Sham'))[T.Right cTBS]\"]\n",
      "Adding these covariates:\n",
      "['v_Intercept', \"v_C(turn_type, Treatment('Sham'))[T.Right cTBS]\"]\n",
      "Adding these covariates:\n",
      "['z_Intercept', \"z_C(turn_type, Treatment('Sham'))[T.Right cTBS]\"]\n"
     ]
    },
    {
     "name": "stderr",
     "output_type": "stream",
     "text": [
      "/home/bsliang/miniconda3/envs/bsliang_DDM_27/lib/python2.7/site-packages/scipy/optimize/optimize.py:1934: RuntimeWarning: invalid value encountered in double_scalars\n",
      "  tmp2 = (x - v) * (fx - fw)\n"
     ]
    },
    {
     "name": "stdout",
     "output_type": "stream",
     "text": [
      " [-----------------100%-----------------] 2001 of 2000 complete in 3864.3 sec"
     ]
    },
    {
     "data": {
      "text/plain": [
       "<pymc.MCMC.MCMC at 0x7fd9640d78d0>"
      ]
     },
     "execution_count": 4,
     "metadata": {},
     "output_type": "execute_result"
    }
   ],
   "source": [
    "a_reg = {'model': \"a ~ 1 + C(turn_type, Treatment('Sham'))\",'link_func': lambda x: x}\n",
    "v_reg = {'model': \"v ~ 1 + C(turn_type, Treatment('Sham'))\",'link_func': lambda x: x}\n",
    "z_reg = {'model': \"z ~ 1 + C(turn_type, Treatment('Sham'))\",'link_func': lambda x: x}\n",
    "reg_descr = [a_reg,v_reg,z_reg]\n",
    "D_R_T_Q_bsl = hddm.HDDMRegressor(D_R_T_Q, reg_descr, include='z')\n",
    "D_R_T_Q_bsl.find_starting_values()\n",
    "D_R_T_Q_bsl.sample(2000, burn=20, dbname='traces.db', db='pickle')"
   ]
  },
  {
   "cell_type": "markdown",
   "metadata": {},
   "source": [
    "### model 1: a only"
   ]
  },
  {
   "cell_type": "code",
   "execution_count": 5,
   "metadata": {},
   "outputs": [
    {
     "name": "stdout",
     "output_type": "stream",
     "text": [
      "Adding these covariates:\n",
      "['a_Intercept', \"a_step_att:C(turn_type, Treatment('Sham'))[Right cTBS]\", \"a_step_att:C(turn_type, Treatment('Sham'))[Sham]\"]\n",
      "Adding these covariates:\n",
      "['v_Intercept', \"v_C(turn_type, Treatment('Sham'))[T.Right cTBS]\"]\n",
      "Adding these covariates:\n",
      "['z_Intercept', \"z_C(turn_type, Treatment('Sham'))[T.Right cTBS]\"]\n",
      " [-----------------100%-----------------] 2001 of 2000 complete in 4570.4 sec"
     ]
    },
    {
     "data": {
      "text/plain": [
       "<pymc.MCMC.MCMC at 0x7fd8fc442810>"
      ]
     },
     "execution_count": 5,
     "metadata": {},
     "output_type": "execute_result"
    }
   ],
   "source": [
    "a_reg = {'model': \"a ~ 1 + step_att:C(turn_type, Treatment('Sham'))\",'link_func': lambda x: x}\n",
    "v_reg = {'model': \"v ~ 1 + C(turn_type, Treatment('Sham'))\",'link_func': lambda x: x}\n",
    "z_reg = {'model': \"z ~ 1 + C(turn_type, Treatment('Sham'))\",'link_func': lambda x: x}\n",
    "reg_descr = [a_reg,v_reg,z_reg]\n",
    "D_R_T_Q_am = hddm.HDDMRegressor(D_R_T_Q, reg_descr, include='z')\n",
    "D_R_T_Q_am.find_starting_values()\n",
    "D_R_T_Q_am.sample(2000, burn=20, dbname='traces.db', db='pickle')"
   ]
  },
  {
   "cell_type": "markdown",
   "metadata": {},
   "source": [
    "### model 2: v only"
   ]
  },
  {
   "cell_type": "code",
   "execution_count": 6,
   "metadata": {},
   "outputs": [
    {
     "name": "stdout",
     "output_type": "stream",
     "text": [
      "Adding these covariates:\n",
      "['a_Intercept', \"a_C(turn_type, Treatment('Sham'))[T.Right cTBS]\"]\n",
      "Adding these covariates:\n",
      "['v_Intercept', \"v_step_att:C(turn_type, Treatment('Sham'))[Right cTBS]\", \"v_step_att:C(turn_type, Treatment('Sham'))[Sham]\"]\n",
      "Adding these covariates:\n",
      "['z_Intercept', \"z_C(turn_type, Treatment('Sham'))[T.Right cTBS]\"]\n",
      " [-----------------100%-----------------] 2001 of 2000 complete in 4436.8 sec"
     ]
    },
    {
     "data": {
      "text/plain": [
       "<pymc.MCMC.MCMC at 0x7fd8fc434190>"
      ]
     },
     "execution_count": 6,
     "metadata": {},
     "output_type": "execute_result"
    }
   ],
   "source": [
    "a_reg = {'model': \"a ~ 1 + C(turn_type, Treatment('Sham'))\",'link_func': lambda x: x}\n",
    "v_reg = {'model': \"v ~ 1 + step_att:C(turn_type, Treatment('Sham'))\",'link_func': lambda x: x}\n",
    "z_reg = {'model': \"z ~ 1 + C(turn_type, Treatment('Sham'))\",'link_func': lambda x: x}\n",
    "reg_descr = [a_reg,v_reg,z_reg]\n",
    "D_R_T_Q_vm = hddm.HDDMRegressor(D_R_T_Q, reg_descr, include='z')\n",
    "D_R_T_Q_vm.find_starting_values()\n",
    "D_R_T_Q_vm.sample(2000, burn=20, dbname='traces.db', db='pickle')"
   ]
  },
  {
   "cell_type": "markdown",
   "metadata": {},
   "source": [
    "### model 3: z only"
   ]
  },
  {
   "cell_type": "code",
   "execution_count": 7,
   "metadata": {},
   "outputs": [
    {
     "name": "stdout",
     "output_type": "stream",
     "text": [
      "Adding these covariates:\n",
      "['a_Intercept', \"a_C(turn_type, Treatment('Sham'))[T.Right cTBS]\"]\n",
      "Adding these covariates:\n",
      "['v_Intercept', \"v_C(turn_type, Treatment('Sham'))[T.Right cTBS]\"]\n",
      "Adding these covariates:\n",
      "['z_Intercept', \"z_step_att:C(turn_type, Treatment('Sham'))[Right cTBS]\", \"z_step_att:C(turn_type, Treatment('Sham'))[Sham]\"]\n",
      " [-----------------100%-----------------] 2001 of 2000 complete in 4604.1 sec"
     ]
    },
    {
     "data": {
      "text/plain": [
       "<pymc.MCMC.MCMC at 0x7fd8e05fd4d0>"
      ]
     },
     "execution_count": 7,
     "metadata": {},
     "output_type": "execute_result"
    }
   ],
   "source": [
    "a_reg = {'model': \"a ~ 1 + C(turn_type, Treatment('Sham'))\",'link_func': lambda x: x}\n",
    "v_reg = {'model': \"v ~ 1 + C(turn_type, Treatment('Sham'))\",'link_func': lambda x: x}\n",
    "z_reg = {'model': \"z ~ 1 + step_att:C(turn_type, Treatment('Sham'))\",'link_func': lambda x: x}\n",
    "reg_descr = [a_reg,v_reg,z_reg]\n",
    "D_R_T_Q_zm = hddm.HDDMRegressor(D_R_T_Q, reg_descr, include='z')\n",
    "D_R_T_Q_zm.find_starting_values()\n",
    "D_R_T_Q_zm.sample(2000, burn=20, dbname='traces.db', db='pickle')"
   ]
  },
  {
   "cell_type": "markdown",
   "metadata": {},
   "source": [
    "### model 4: a + v"
   ]
  },
  {
   "cell_type": "code",
   "execution_count": 8,
   "metadata": {},
   "outputs": [
    {
     "name": "stdout",
     "output_type": "stream",
     "text": [
      "Adding these covariates:\n",
      "['a_Intercept', \"a_step_att:C(turn_type, Treatment('Sham'))[Right cTBS]\", \"a_step_att:C(turn_type, Treatment('Sham'))[Sham]\"]\n",
      "Adding these covariates:\n",
      "['v_Intercept', \"v_step_att:C(turn_type, Treatment('Sham'))[Right cTBS]\", \"v_step_att:C(turn_type, Treatment('Sham'))[Sham]\"]\n",
      "Adding these covariates:\n",
      "['z_Intercept', \"z_C(turn_type, Treatment('Sham'))[T.Right cTBS]\"]\n",
      " [-----------------100%-----------------] 2001 of 2000 complete in 4948.1 sec"
     ]
    },
    {
     "data": {
      "text/plain": [
       "<pymc.MCMC.MCMC at 0x7fd8bc670890>"
      ]
     },
     "execution_count": 8,
     "metadata": {},
     "output_type": "execute_result"
    }
   ],
   "source": [
    "a_reg = {'model': \"a ~ 1 + step_att:C(turn_type, Treatment('Sham'))\",'link_func': lambda x: x}\n",
    "v_reg = {'model': \"v ~ 1 + step_att:C(turn_type, Treatment('Sham'))\",'link_func': lambda x: x}\n",
    "z_reg = {'model': \"z ~ 1 + C(turn_type, Treatment('Sham'))\",'link_func': lambda x: x}\n",
    "reg_descr = [a_reg,v_reg,z_reg]\n",
    "D_R_T_Q_avm = hddm.HDDMRegressor(D_R_T_Q, reg_descr, include='z')\n",
    "D_R_T_Q_avm.find_starting_values()\n",
    "D_R_T_Q_avm.sample(2000, burn=20, dbname='traces.db', db='pickle')"
   ]
  },
  {
   "cell_type": "markdown",
   "metadata": {},
   "source": [
    "### model 5: a + z"
   ]
  },
  {
   "cell_type": "code",
   "execution_count": 9,
   "metadata": {},
   "outputs": [
    {
     "name": "stdout",
     "output_type": "stream",
     "text": [
      "Adding these covariates:\n",
      "['a_Intercept', \"a_step_att:C(turn_type, Treatment('Sham'))[Right cTBS]\", \"a_step_att:C(turn_type, Treatment('Sham'))[Sham]\"]\n",
      "Adding these covariates:\n",
      "['v_Intercept', \"v_C(turn_type, Treatment('Sham'))[T.Right cTBS]\"]\n",
      "Adding these covariates:\n",
      "['z_Intercept', \"z_step_att:C(turn_type, Treatment('Sham'))[Right cTBS]\", \"z_step_att:C(turn_type, Treatment('Sham'))[Sham]\"]\n",
      " [-----------------100%-----------------] 2001 of 2000 complete in 5205.2 sec"
     ]
    },
    {
     "data": {
      "text/plain": [
       "<pymc.MCMC.MCMC at 0x7fd8e019f210>"
      ]
     },
     "execution_count": 9,
     "metadata": {},
     "output_type": "execute_result"
    }
   ],
   "source": [
    "a_reg = {'model': \"a ~ 1 + step_att:C(turn_type, Treatment('Sham'))\",'link_func': lambda x: x}\n",
    "v_reg = {'model': \"v ~ 1 + C(turn_type, Treatment('Sham'))\",'link_func': lambda x: x}\n",
    "z_reg = {'model': \"z ~ 1 + step_att:C(turn_type, Treatment('Sham'))\",'link_func': lambda x: x}\n",
    "reg_descr = [a_reg,v_reg,z_reg]\n",
    "D_R_T_Q_azm = hddm.HDDMRegressor(D_R_T_Q, reg_descr, include='z')\n",
    "D_R_T_Q_azm.find_starting_values()\n",
    "D_R_T_Q_azm.sample(2000, burn=20, dbname='traces.db', db='pickle')"
   ]
  },
  {
   "cell_type": "markdown",
   "metadata": {},
   "source": [
    "### model 6: v + z"
   ]
  },
  {
   "cell_type": "code",
   "execution_count": 10,
   "metadata": {},
   "outputs": [
    {
     "name": "stdout",
     "output_type": "stream",
     "text": [
      "Adding these covariates:\n",
      "['a_Intercept', \"a_C(turn_type, Treatment('Sham'))[T.Right cTBS]\"]\n",
      "Adding these covariates:\n",
      "['v_Intercept', \"v_step_att:C(turn_type, Treatment('Sham'))[Right cTBS]\", \"v_step_att:C(turn_type, Treatment('Sham'))[Sham]\"]\n",
      "Adding these covariates:\n",
      "['z_Intercept', \"z_step_att:C(turn_type, Treatment('Sham'))[Right cTBS]\", \"z_step_att:C(turn_type, Treatment('Sham'))[Sham]\"]\n",
      " [-----------------100%-----------------] 2001 of 2000 complete in 4981.5 sec"
     ]
    },
    {
     "data": {
      "text/plain": [
       "<pymc.MCMC.MCMC at 0x7fd8991b7690>"
      ]
     },
     "execution_count": 10,
     "metadata": {},
     "output_type": "execute_result"
    }
   ],
   "source": [
    "a_reg = {'model': \"a ~ 1 + C(turn_type, Treatment('Sham'))\",'link_func': lambda x: x}\n",
    "v_reg = {'model': \"v ~ 1 + step_att:C(turn_type, Treatment('Sham'))\",'link_func': lambda x: x}\n",
    "z_reg = {'model': \"z ~ 1 + step_att:C(turn_type, Treatment('Sham'))\",'link_func': lambda x: x}\n",
    "reg_descr = [a_reg,v_reg,z_reg]\n",
    "D_R_T_Q_vzm = hddm.HDDMRegressor(D_R_T_Q, reg_descr, include='z')\n",
    "D_R_T_Q_vzm.find_starting_values()\n",
    "D_R_T_Q_vzm.sample(2000, burn=20, dbname='traces.db', db='pickle')"
   ]
  },
  {
   "cell_type": "markdown",
   "metadata": {},
   "source": [
    "### model 7: a + v + z"
   ]
  },
  {
   "cell_type": "code",
   "execution_count": 11,
   "metadata": {},
   "outputs": [
    {
     "name": "stdout",
     "output_type": "stream",
     "text": [
      "Adding these covariates:\n",
      "['a_Intercept', \"a_step_att:C(turn_type, Treatment('Sham'))[Right cTBS]\", \"a_step_att:C(turn_type, Treatment('Sham'))[Sham]\"]\n",
      "Adding these covariates:\n",
      "['v_Intercept', \"v_step_att:C(turn_type, Treatment('Sham'))[Right cTBS]\", \"v_step_att:C(turn_type, Treatment('Sham'))[Sham]\"]\n",
      "Adding these covariates:\n",
      "['z_Intercept', \"z_step_att:C(turn_type, Treatment('Sham'))[Right cTBS]\", \"z_step_att:C(turn_type, Treatment('Sham'))[Sham]\"]\n",
      " [-----------------100%-----------------] 2001 of 2000 complete in 5584.9 secWARNING: Will not save custom link functions.\n",
      "WARNING: Will not save custom link functions.\n",
      "WARNING: Will not save custom link functions.\n"
     ]
    }
   ],
   "source": [
    "a_reg = {'model': \"a ~ 1 + step_att:C(turn_type, Treatment('Sham'))\",'link_func': lambda x: x}\n",
    "v_reg = {'model': \"v ~ 1 + step_att:C(turn_type, Treatment('Sham'))\",'link_func': lambda x: x}\n",
    "z_reg = {'model': \"z ~ 1 + step_att:C(turn_type, Treatment('Sham'))\",'link_func': lambda x: x}\n",
    "reg_descr = [a_reg,v_reg,z_reg]\n",
    "D_R_T_Q_fm = hddm.HDDMRegressor(D_R_T_Q, reg_descr, include='z')\n",
    "D_R_T_Q_fm.find_starting_values()\n",
    "D_R_T_Q_fm.sample(2000, burn=20, dbname='traces.db', db='pickle')\n",
    "D_R_T_Q_fm.save('D_R_T_Q_fm')"
   ]
  },
  {
   "cell_type": "markdown",
   "metadata": {},
   "source": [
    "### Model comparison"
   ]
  },
  {
   "cell_type": "code",
   "execution_count": 21,
   "metadata": {},
   "outputs": [
    {
     "name": "stdout",
     "output_type": "stream",
     "text": [
      "baseline model DIC: 4617.340397\n",
      "a model DIC: 4216.128202\n",
      "v model DIC: 4290.213886\n",
      "z model DIC: 4616.068136\n",
      "av model DIC: 3833.850093\n",
      "az model DIC: 4190.209834\n",
      "vz model DIC: 4136.881126\n",
      "full model DIC: 3766.128211\n"
     ]
    },
    {
     "data": {
      "image/png": "[encoded data removed]",
      "text/plain": [
       "<Figure size 130.394x63.7795 with 1 Axes>"
      ]
     },
     "metadata": {
      "needs_background": "light"
     },
     "output_type": "display_data"
    }
   ],
   "source": [
    "print(\"baseline model DIC: %f\" % D_R_T_Q_bsl.dic)\n",
    "print(\"a model DIC: %f\" % D_R_T_Q_am.dic)\n",
    "print(\"v model DIC: %f\" % D_R_T_Q_vm.dic)\n",
    "print(\"z model DIC: %f\" % D_R_T_Q_zm.dic)\n",
    "print(\"av model DIC: %f\" % D_R_T_Q_avm.dic)\n",
    "print(\"az model DIC: %f\" % D_R_T_Q_azm.dic)\n",
    "print(\"vz model DIC: %f\" % D_R_T_Q_vzm.dic)\n",
    "print(\"full model DIC: %f\" % D_R_T_Q_fm.dic)\n",
    "\n",
    "fig, ax = plt.subplots()\n",
    "\n",
    "fruits = ['baseline', 'a', 'v', 'z', 'av', 'az', 'vz','full']\n",
    "counts = [D_R_T_Q_bsl.dic, D_R_T_Q_am.dic, D_R_T_Q_vm.dic, D_R_T_Q_zm.dic,D_R_T_Q_avm.dic,D_R_T_Q_azm.dic,D_R_T_Q_vzm.dic,D_R_T_Q_fm.dic]\n",
    "\n",
    "D_name='D_R_T_Q'\n",
    "\n",
    "ax.bar(fruits, counts,color=[197./255,158./255,226./255],edgecolor='black',linewidth=0.5)\n",
    "\n",
    "plt.rcParams['savefig.dpi']=300\n",
    "plt.rcParams['axes.linewidth']=0.5\n",
    "\n",
    "#ax.set_ylabel('DIC value')\n",
    "#ax.set_title('TBS: Left cTBS consonant quiet')\n",
    "ax.set_ylim([3500,4650])\n",
    "ytick_plot=range(3500,4650,150)\n",
    "ytick_plot.append(4650)\n",
    "ax.set_yticks(ytick_plot)\n",
    "ax.spines['right'].set_visible(False)\n",
    "ax.spines['top'].set_visible(False)\n",
    "\n",
    "fig.set_size_inches(4.6*cm,2.25*cm)\n",
    "ax.tick_params('both',which='major',direction='in',width=0.5,length=2)\n",
    "plt.rcParams['font.size']=5\n",
    "plt.rcParams['font.family']='Arial'\n",
    "plt.savefig(D_name+'_interact_M_compare.pdf',bbox_inches = 'tight',transparent=True)\n",
    "plt.show()"
   ]
  },
  {
   "cell_type": "markdown",
   "metadata": {},
   "source": [
    "### Plotting"
   ]
  },
  {
   "cell_type": "code",
   "execution_count": 13,
   "metadata": {},
   "outputs": [
    {
     "data": {
      "image/png": "[encoded data removed]",
      "text/plain": [
       "<Figure size 432x288 with 1 Axes>"
      ]
     },
     "metadata": {
      "needs_background": "light"
     },
     "output_type": "display_data"
    },
    {
     "data": {
      "image/png": "[encoded data removed]",
      "text/plain": [
       "<Figure size 432x288 with 1 Axes>"
      ]
     },
     "metadata": {
      "needs_background": "light"
     },
     "output_type": "display_data"
    },
    {
     "data": {
      "image/png": "[encoded data removed]",
      "text/plain": [
       "<Figure size 432x288 with 1 Axes>"
      ]
     },
     "metadata": {
      "needs_background": "light"
     },
     "output_type": "display_data"
    },
    {
     "data": {
      "image/png": "[encoded data removed]",
      "text/plain": [
       "<Figure size 288x288 with 1 Axes>"
      ]
     },
     "metadata": {
      "needs_background": "light"
     },
     "output_type": "display_data"
    },
    {
     "name": "stdout",
     "output_type": "stream",
     "text": [
      "('P(a > Sham) = ', 1.0)\n",
      "('P(v > Sham) = ', 1.0)\n",
      "('P(z > Sham) = ', 0.000505050505050505)\n"
     ]
    }
   ],
   "source": [
    "a_Intercept,a_cTBS = D_R_T_Q_fm.nodes_db.loc[[\"a_Intercept\",\"a_step_att:C(turn_type, Treatment('Sham'))[Right cTBS]\"], 'node']\n",
    "hddm.analyze.plot_posterior_nodes([a_Intercept,a_cTBS])\n",
    "plt.xlabel('boundary')\n",
    "plt.ylabel('Posterior probability')\n",
    "plt.title('Full model')\n",
    "\n",
    "v_Intercept,v_cTBS = D_R_T_Q_fm.nodes_db.loc[[\"v_Intercept\",\"v_step_att:C(turn_type, Treatment('Sham'))[Right cTBS]\"], 'node']\n",
    "hddm.analyze.plot_posterior_nodes([v_Intercept,v_cTBS])\n",
    "plt.xlabel('drift-rate')\n",
    "plt.ylabel('Posterior probability')\n",
    "plt.title('Full model')\n",
    "\n",
    "z_Intercept,z_cTBS = D_R_T_Q_fm.nodes_db.loc[[\"z_Intercept\",\"z_step_att:C(turn_type, Treatment('Sham'))[Right cTBS]\"], 'node']\n",
    "hddm.analyze.plot_posterior_nodes([z_Intercept,z_cTBS])\n",
    "plt.xlabel('starting point')\n",
    "plt.ylabel('Posterior probability')\n",
    "plt.title('Full model')\n",
    "\n",
    "\n",
    "fig, ax = plt.subplots()\n",
    "fig.set_size_inches(4,4)\n",
    "\n",
    "para_tag=['AMBstep:a','AMBstep:v','AMBstep:z']\n",
    "counts = [a_cTBS.trace()/(max(a_cTBS.trace())-min(a_cTBS.trace())),v_cTBS.trace()/(max(v_cTBS.trace())-min(v_cTBS.trace())),z_cTBS.trace()/(max(z_cTBS.trace())-min(z_cTBS.trace()))]\n",
    "\n",
    "ax.axhline(y = 0, color =\"green\", linestyle =\"--\")\n",
    "ax.violinplot(counts)\n",
    "ax.set_xticks([1,2,3])\n",
    "ax.set_xticklabels(para_tag)\n",
    "ax.set_ylim([-4,4])\n",
    "ax.set_title('Full model: Right cTBS tone clear')\n",
    "ax.set_ylabel('Regression coef (normalized)')\n",
    "ax.spines['right'].set_visible(False)\n",
    "ax.spines['top'].set_visible(False)\n",
    "\n",
    "plt.show()\n",
    "\n",
    "print(\"P(a > Sham) = \", (a_cTBS.trace() > 0).mean())\n",
    "print(\"P(v > Sham) = \", (v_cTBS.trace() > 0).mean())\n",
    "print(\"P(z > Sham) = \", (z_cTBS.trace() > 0).mean())"
   ]
  },
  {
   "cell_type": "markdown",
   "metadata": {},
   "source": [
    "### check full model simulation prediction accuracy"
   ]
  },
  {
   "cell_type": "markdown",
   "metadata": {},
   "source": [
    "#### fit the full model"
   ]
  },
  {
   "cell_type": "code",
   "execution_count": 14,
   "metadata": {},
   "outputs": [
    {
     "name": "stdout",
     "output_type": "stream",
     "text": [
      "Adding these covariates:\n",
      "['a_Intercept', \"a_step_att:C(turn_type, Treatment('Sham'))[Right cTBS]\", \"a_step_att:C(turn_type, Treatment('Sham'))[Sham]\"]\n",
      "Adding these covariates:\n",
      "['v_Intercept', \"v_step_att:C(turn_type, Treatment('Sham'))[Right cTBS]\", \"v_step_att:C(turn_type, Treatment('Sham'))[Sham]\"]\n",
      "Adding these covariates:\n",
      "['z_Intercept', \"z_step_att:C(turn_type, Treatment('Sham'))[Right cTBS]\", \"z_step_att:C(turn_type, Treatment('Sham'))[Sham]\"]\n",
      " [-----------------100%-----------------] 2001 of 2000 complete in 5596.2 sec"
     ]
    },
    {
     "data": {
      "text/plain": [
       "<pymc.MCMC.MCMC at 0x7fd89840aa50>"
      ]
     },
     "execution_count": 14,
     "metadata": {},
     "output_type": "execute_result"
    }
   ],
   "source": [
    "fm_data_2=D_R_T_Q\n",
    "fm_data_2.reset_index(inplace = True, drop = True)\n",
    "a_reg = {'model': \"a ~ 1 + step_att:C(turn_type, Treatment('Sham'))\",'link_func': lambda x: x}\n",
    "v_reg = {'model': \"v ~ 1 + step_att:C(turn_type, Treatment('Sham'))\",'link_func': lambda x: x}\n",
    "z_reg = {'model': \"z ~ 1 + step_att:C(turn_type, Treatment('Sham'))\",'link_func': lambda x: x}\n",
    "reg_descr = [a_reg,v_reg,z_reg]\n",
    "fm_2 = hddm.HDDMRegressor(fm_data_2, reg_descr, include='z')\n",
    "fm_2.find_starting_values()\n",
    "fm_2.sample(2000, burn=20, dbname='traces.db', db='pickle')"
   ]
  },
  {
   "cell_type": "markdown",
   "metadata": {},
   "source": [
    "#### predict data from simulated data derived from full model"
   ]
  },
  {
   "cell_type": "code",
   "execution_count": 15,
   "metadata": {},
   "outputs": [
    {
     "name": "stdout",
     "output_type": "stream",
     "text": [
      " [-------------------112%-------------------] 28 of 25 complete in 24720.9 sec"
     ]
    },
    {
     "data": {
      "text/html": [
       "<div>\n",
       "<style scoped>\n",
       "    .dataframe tbody tr th:only-of-type {\n",
       "        vertical-align: middle;\n",
       "    }\n",
       "\n",
       "    .dataframe tbody tr th {\n",
       "        vertical-align: top;\n",
       "    }\n",
       "\n",
       "    .dataframe thead th {\n",
       "        text-align: right;\n",
       "    }\n",
       "</style>\n",
       "<table border=\"1\" class=\"dataframe\">\n",
       "  <thead>\n",
       "    <tr style=\"text-align: right;\">\n",
       "      <th></th>\n",
       "      <th>observed</th>\n",
       "      <th>mean</th>\n",
       "      <th>std</th>\n",
       "      <th>SEM</th>\n",
       "      <th>MSE</th>\n",
       "      <th>credible</th>\n",
       "      <th>quantile</th>\n",
       "      <th>mahalanobis</th>\n",
       "    </tr>\n",
       "    <tr>\n",
       "      <th>stat</th>\n",
       "      <th></th>\n",
       "      <th></th>\n",
       "      <th></th>\n",
       "      <th></th>\n",
       "      <th></th>\n",
       "      <th></th>\n",
       "      <th></th>\n",
       "      <th></th>\n",
       "    </tr>\n",
       "  </thead>\n",
       "  <tbody>\n",
       "    <tr>\n",
       "      <th>accuracy</th>\n",
       "      <td>0.608462</td>\n",
       "      <td>0.607810</td>\n",
       "      <td>0.072893</td>\n",
       "      <td>4.241651e-07</td>\n",
       "      <td>0.005314</td>\n",
       "      <td>True</td>\n",
       "      <td>50.032001</td>\n",
       "      <td>0.008935</td>\n",
       "    </tr>\n",
       "    <tr>\n",
       "      <th>mean_ub</th>\n",
       "      <td>0.656109</td>\n",
       "      <td>0.677608</td>\n",
       "      <td>0.090565</td>\n",
       "      <td>4.622333e-04</td>\n",
       "      <td>0.008664</td>\n",
       "      <td>True</td>\n",
       "      <td>41.736000</td>\n",
       "      <td>0.237393</td>\n",
       "    </tr>\n",
       "    <tr>\n",
       "      <th>std_ub</th>\n",
       "      <td>0.237008</td>\n",
       "      <td>0.243968</td>\n",
       "      <td>0.057253</td>\n",
       "      <td>4.843920e-05</td>\n",
       "      <td>0.003326</td>\n",
       "      <td>True</td>\n",
       "      <td>51.112000</td>\n",
       "      <td>0.121562</td>\n",
       "    </tr>\n",
       "    <tr>\n",
       "      <th>10q_ub</th>\n",
       "      <td>0.444178</td>\n",
       "      <td>0.463891</td>\n",
       "      <td>0.066047</td>\n",
       "      <td>3.886039e-04</td>\n",
       "      <td>0.004751</td>\n",
       "      <td>True</td>\n",
       "      <td>34.560001</td>\n",
       "      <td>0.298468</td>\n",
       "    </tr>\n",
       "    <tr>\n",
       "      <th>30q_ub</th>\n",
       "      <td>0.536985</td>\n",
       "      <td>0.524430</td>\n",
       "      <td>0.071372</td>\n",
       "      <td>1.576188e-04</td>\n",
       "      <td>0.005252</td>\n",
       "      <td>True</td>\n",
       "      <td>59.271999</td>\n",
       "      <td>0.175905</td>\n",
       "    </tr>\n",
       "    <tr>\n",
       "      <th>50q_ub</th>\n",
       "      <td>0.610371</td>\n",
       "      <td>0.601835</td>\n",
       "      <td>0.081036</td>\n",
       "      <td>7.286837e-05</td>\n",
       "      <td>0.006640</td>\n",
       "      <td>True</td>\n",
       "      <td>55.944000</td>\n",
       "      <td>0.105340</td>\n",
       "    </tr>\n",
       "    <tr>\n",
       "      <th>70q_ub</th>\n",
       "      <td>0.701193</td>\n",
       "      <td>0.722540</td>\n",
       "      <td>0.099954</td>\n",
       "      <td>4.557272e-04</td>\n",
       "      <td>0.010447</td>\n",
       "      <td>True</td>\n",
       "      <td>43.911999</td>\n",
       "      <td>0.213576</td>\n",
       "    </tr>\n",
       "    <tr>\n",
       "      <th>90q_ub</th>\n",
       "      <td>0.897437</td>\n",
       "      <td>0.988720</td>\n",
       "      <td>0.151600</td>\n",
       "      <td>8.332523e-03</td>\n",
       "      <td>0.031315</td>\n",
       "      <td>True</td>\n",
       "      <td>30.896000</td>\n",
       "      <td>0.602128</td>\n",
       "    </tr>\n",
       "    <tr>\n",
       "      <th>mean_lb</th>\n",
       "      <td>-0.688245</td>\n",
       "      <td>-0.701604</td>\n",
       "      <td>0.101549</td>\n",
       "      <td>1.784485e-04</td>\n",
       "      <td>0.010491</td>\n",
       "      <td>True</td>\n",
       "      <td>54.944000</td>\n",
       "      <td>0.131547</td>\n",
       "    </tr>\n",
       "    <tr>\n",
       "      <th>std_lb</th>\n",
       "      <td>0.235808</td>\n",
       "      <td>0.232169</td>\n",
       "      <td>0.060888</td>\n",
       "      <td>1.323853e-05</td>\n",
       "      <td>0.003721</td>\n",
       "      <td>True</td>\n",
       "      <td>59.312000</td>\n",
       "      <td>0.059757</td>\n",
       "    </tr>\n",
       "    <tr>\n",
       "      <th>10q_lb</th>\n",
       "      <td>0.499306</td>\n",
       "      <td>0.490397</td>\n",
       "      <td>0.069727</td>\n",
       "      <td>7.936467e-05</td>\n",
       "      <td>0.004941</td>\n",
       "      <td>True</td>\n",
       "      <td>57.952000</td>\n",
       "      <td>0.127765</td>\n",
       "    </tr>\n",
       "    <tr>\n",
       "      <th>30q_lb</th>\n",
       "      <td>0.571323</td>\n",
       "      <td>0.556849</td>\n",
       "      <td>0.078406</td>\n",
       "      <td>2.094908e-04</td>\n",
       "      <td>0.006357</td>\n",
       "      <td>True</td>\n",
       "      <td>60.375999</td>\n",
       "      <td>0.184600</td>\n",
       "    </tr>\n",
       "    <tr>\n",
       "      <th>50q_lb</th>\n",
       "      <td>0.634049</td>\n",
       "      <td>0.634883</td>\n",
       "      <td>0.091343</td>\n",
       "      <td>6.955690e-07</td>\n",
       "      <td>0.008344</td>\n",
       "      <td>True</td>\n",
       "      <td>49.776001</td>\n",
       "      <td>0.009131</td>\n",
       "    </tr>\n",
       "    <tr>\n",
       "      <th>70q_lb</th>\n",
       "      <td>0.713435</td>\n",
       "      <td>0.749813</td>\n",
       "      <td>0.113744</td>\n",
       "      <td>1.323378e-03</td>\n",
       "      <td>0.014261</td>\n",
       "      <td>True</td>\n",
       "      <td>38.528000</td>\n",
       "      <td>0.319825</td>\n",
       "    </tr>\n",
       "    <tr>\n",
       "      <th>90q_lb</th>\n",
       "      <td>0.938079</td>\n",
       "      <td>0.995390</td>\n",
       "      <td>0.168865</td>\n",
       "      <td>3.284482e-03</td>\n",
       "      <td>0.031800</td>\n",
       "      <td>True</td>\n",
       "      <td>40.624001</td>\n",
       "      <td>0.339385</td>\n",
       "    </tr>\n",
       "  </tbody>\n",
       "</table>\n",
       "</div>"
      ],
      "text/plain": [
       "          observed      mean       std           SEM       MSE credible  \\\n",
       "stat                                                                      \n",
       "accuracy  0.608462  0.607810  0.072893  4.241651e-07  0.005314     True   \n",
       "mean_ub   0.656109  0.677608  0.090565  4.622333e-04  0.008664     True   \n",
       "std_ub    0.237008  0.243968  0.057253  4.843920e-05  0.003326     True   \n",
       "10q_ub    0.444178  0.463891  0.066047  3.886039e-04  0.004751     True   \n",
       "30q_ub    0.536985  0.524430  0.071372  1.576188e-04  0.005252     True   \n",
       "50q_ub    0.610371  0.601835  0.081036  7.286837e-05  0.006640     True   \n",
       "70q_ub    0.701193  0.722540  0.099954  4.557272e-04  0.010447     True   \n",
       "90q_ub    0.897437  0.988720  0.151600  8.332523e-03  0.031315     True   \n",
       "mean_lb  -0.688245 -0.701604  0.101549  1.784485e-04  0.010491     True   \n",
       "std_lb    0.235808  0.232169  0.060888  1.323853e-05  0.003721     True   \n",
       "10q_lb    0.499306  0.490397  0.069727  7.936467e-05  0.004941     True   \n",
       "30q_lb    0.571323  0.556849  0.078406  2.094908e-04  0.006357     True   \n",
       "50q_lb    0.634049  0.634883  0.091343  6.955690e-07  0.008344     True   \n",
       "70q_lb    0.713435  0.749813  0.113744  1.323378e-03  0.014261     True   \n",
       "90q_lb    0.938079  0.995390  0.168865  3.284482e-03  0.031800     True   \n",
       "\n",
       "           quantile  mahalanobis  \n",
       "stat                              \n",
       "accuracy  50.032001     0.008935  \n",
       "mean_ub   41.736000     0.237393  \n",
       "std_ub    51.112000     0.121562  \n",
       "10q_ub    34.560001     0.298468  \n",
       "30q_ub    59.271999     0.175905  \n",
       "50q_ub    55.944000     0.105340  \n",
       "70q_ub    43.911999     0.213576  \n",
       "90q_ub    30.896000     0.602128  \n",
       "mean_lb   54.944000     0.131547  \n",
       "std_lb    59.312000     0.059757  \n",
       "10q_lb    57.952000     0.127765  \n",
       "30q_lb    60.375999     0.184600  \n",
       "50q_lb    49.776001     0.009131  \n",
       "70q_lb    38.528000     0.319825  \n",
       "90q_lb    40.624001     0.339385  "
      ]
     },
     "execution_count": 15,
     "metadata": {},
     "output_type": "execute_result"
    }
   ],
   "source": [
    "fm_data_2_sim = hddm.utils.post_pred_gen(fm_2)\n",
    "hddm.utils.post_pred_stats(fm_data_2, fm_data_2_sim)"
   ]
  }
 ],
 "metadata": {
  "kernelspec": {
   "display_name": "Python 2.7.18 ('bsliang_DDM_27': conda)",
   "language": "python",
   "name": "python3"
  },
  "language_info": {
   "codemirror_mode": {
    "name": "ipython",
    "version": 2
   },
   "file_extension": ".py",
   "mimetype": "text/x-python",
   "name": "python",
   "nbconvert_exporter": "python",
   "pygments_lexer": "ipython2",
   "version": "2.7.18"
  },
  "orig_nbformat": 4,
  "vscode": {
   "interpreter": {
    "hash": "800a09db568ebe80aacfc1bc086e45a31a7cff3ccaf522d8b640d0dfbe2b8801"
   }
  }
 },
 "nbformat": 4,
 "nbformat_minor": 2
}
