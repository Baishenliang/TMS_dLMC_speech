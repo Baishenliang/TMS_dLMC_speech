{
 "cells": [
  {
   "cell_type": "markdown",
   "metadata": {},
   "source": [
    "# TBS"
   ]
  },
  {
   "cell_type": "markdown",
   "metadata": {},
   "source": [
    "## preparing"
   ]
  },
  {
   "cell_type": "code",
   "execution_count": 16,
   "metadata": {},
   "outputs": [],
   "source": [
    "import pandas as pd\n",
    "import matplotlib.pyplot as plt\n",
    "import hddm\n",
    "import numpy as np\n",
    "import pickle\n",
    "from patsy import dmatrices, dmatrix, demo_data\n",
    "cm = 1/2.54"
   ]
  },
  {
   "cell_type": "markdown",
   "metadata": {},
   "source": [
    "## loading data"
   ]
  },
  {
   "cell_type": "code",
   "execution_count": 2,
   "metadata": {},
   "outputs": [
    {
     "data": {
      "text/html": [
       "<div>\n",
       "<style scoped>\n",
       "    .dataframe tbody tr th:only-of-type {\n",
       "        vertical-align: middle;\n",
       "    }\n",
       "\n",
       "    .dataframe tbody tr th {\n",
       "        vertical-align: top;\n",
       "    }\n",
       "\n",
       "    .dataframe thead th {\n",
       "        text-align: right;\n",
       "    }\n",
       "</style>\n",
       "<table border=\"1\" class=\"dataframe\">\n",
       "  <thead>\n",
       "    <tr style=\"text-align: right;\">\n",
       "      <th></th>\n",
       "      <th>subj_idx</th>\n",
       "      <th>group_idx</th>\n",
       "      <th>turn_type</th>\n",
       "      <th>task_type</th>\n",
       "      <th>snr_type</th>\n",
       "      <th>trial_num</th>\n",
       "      <th>step_att</th>\n",
       "      <th>response</th>\n",
       "      <th>rt</th>\n",
       "      <th>step_unatnd</th>\n",
       "    </tr>\n",
       "  </thead>\n",
       "  <tbody>\n",
       "    <tr>\n",
       "      <th>0</th>\n",
       "      <td>55</td>\n",
       "      <td>Larynx</td>\n",
       "      <td>Left iTBS</td>\n",
       "      <td>Tone</td>\n",
       "      <td>Clear</td>\n",
       "      <td>1</td>\n",
       "      <td>3</td>\n",
       "      <td>1</td>\n",
       "      <td>1.083317</td>\n",
       "      <td>1</td>\n",
       "    </tr>\n",
       "    <tr>\n",
       "      <th>1</th>\n",
       "      <td>55</td>\n",
       "      <td>Larynx</td>\n",
       "      <td>Left iTBS</td>\n",
       "      <td>Tone</td>\n",
       "      <td>Clear</td>\n",
       "      <td>2</td>\n",
       "      <td>2</td>\n",
       "      <td>1</td>\n",
       "      <td>0.744397</td>\n",
       "      <td>1</td>\n",
       "    </tr>\n",
       "    <tr>\n",
       "      <th>2</th>\n",
       "      <td>55</td>\n",
       "      <td>Larynx</td>\n",
       "      <td>Left iTBS</td>\n",
       "      <td>Tone</td>\n",
       "      <td>Clear</td>\n",
       "      <td>3</td>\n",
       "      <td>2</td>\n",
       "      <td>1</td>\n",
       "      <td>0.732525</td>\n",
       "      <td>1</td>\n",
       "    </tr>\n",
       "    <tr>\n",
       "      <th>3</th>\n",
       "      <td>55</td>\n",
       "      <td>Larynx</td>\n",
       "      <td>Left iTBS</td>\n",
       "      <td>Tone</td>\n",
       "      <td>Clear</td>\n",
       "      <td>4</td>\n",
       "      <td>1</td>\n",
       "      <td>1</td>\n",
       "      <td>0.800199</td>\n",
       "      <td>1</td>\n",
       "    </tr>\n",
       "    <tr>\n",
       "      <th>4</th>\n",
       "      <td>55</td>\n",
       "      <td>Larynx</td>\n",
       "      <td>Left iTBS</td>\n",
       "      <td>Tone</td>\n",
       "      <td>Clear</td>\n",
       "      <td>5</td>\n",
       "      <td>2</td>\n",
       "      <td>1</td>\n",
       "      <td>0.753649</td>\n",
       "      <td>1</td>\n",
       "    </tr>\n",
       "    <tr>\n",
       "      <th>5</th>\n",
       "      <td>55</td>\n",
       "      <td>Larynx</td>\n",
       "      <td>Left iTBS</td>\n",
       "      <td>Tone</td>\n",
       "      <td>Clear</td>\n",
       "      <td>6</td>\n",
       "      <td>2</td>\n",
       "      <td>1</td>\n",
       "      <td>0.544652</td>\n",
       "      <td>1</td>\n",
       "    </tr>\n",
       "    <tr>\n",
       "      <th>6</th>\n",
       "      <td>55</td>\n",
       "      <td>Larynx</td>\n",
       "      <td>Left iTBS</td>\n",
       "      <td>Tone</td>\n",
       "      <td>Clear</td>\n",
       "      <td>7</td>\n",
       "      <td>1</td>\n",
       "      <td>1</td>\n",
       "      <td>0.621313</td>\n",
       "      <td>1</td>\n",
       "    </tr>\n",
       "    <tr>\n",
       "      <th>7</th>\n",
       "      <td>55</td>\n",
       "      <td>Larynx</td>\n",
       "      <td>Left iTBS</td>\n",
       "      <td>Tone</td>\n",
       "      <td>Clear</td>\n",
       "      <td>8</td>\n",
       "      <td>1</td>\n",
       "      <td>1</td>\n",
       "      <td>0.580819</td>\n",
       "      <td>1</td>\n",
       "    </tr>\n",
       "    <tr>\n",
       "      <th>8</th>\n",
       "      <td>55</td>\n",
       "      <td>Larynx</td>\n",
       "      <td>Left iTBS</td>\n",
       "      <td>Tone</td>\n",
       "      <td>Clear</td>\n",
       "      <td>9</td>\n",
       "      <td>1</td>\n",
       "      <td>0</td>\n",
       "      <td>-0.496794</td>\n",
       "      <td>1</td>\n",
       "    </tr>\n",
       "    <tr>\n",
       "      <th>9</th>\n",
       "      <td>55</td>\n",
       "      <td>Larynx</td>\n",
       "      <td>Left iTBS</td>\n",
       "      <td>Tone</td>\n",
       "      <td>Clear</td>\n",
       "      <td>10</td>\n",
       "      <td>3</td>\n",
       "      <td>1</td>\n",
       "      <td>0.863869</td>\n",
       "      <td>1</td>\n",
       "    </tr>\n",
       "  </tbody>\n",
       "</table>\n",
       "</div>"
      ],
      "text/plain": [
       "   subj_idx group_idx  turn_type task_type snr_type  trial_num  step_att  \\\n",
       "0        55    Larynx  Left iTBS      Tone    Clear          1         3   \n",
       "1        55    Larynx  Left iTBS      Tone    Clear          2         2   \n",
       "2        55    Larynx  Left iTBS      Tone    Clear          3         2   \n",
       "3        55    Larynx  Left iTBS      Tone    Clear          4         1   \n",
       "4        55    Larynx  Left iTBS      Tone    Clear          5         2   \n",
       "5        55    Larynx  Left iTBS      Tone    Clear          6         2   \n",
       "6        55    Larynx  Left iTBS      Tone    Clear          7         1   \n",
       "7        55    Larynx  Left iTBS      Tone    Clear          8         1   \n",
       "8        55    Larynx  Left iTBS      Tone    Clear          9         1   \n",
       "9        55    Larynx  Left iTBS      Tone    Clear         10         3   \n",
       "\n",
       "   response        rt  step_unatnd  \n",
       "0         1  1.083317            1  \n",
       "1         1  0.744397            1  \n",
       "2         1  0.732525            1  \n",
       "3         1  0.800199            1  \n",
       "4         1  0.753649            1  \n",
       "5         1  0.544652            1  \n",
       "6         1  0.621313            1  \n",
       "7         1  0.580819            1  \n",
       "8         0 -0.496794            1  \n",
       "9         1  0.863869            1  "
      ]
     },
     "execution_count": 2,
     "metadata": {},
     "output_type": "execute_result"
    }
   ],
   "source": [
    "data = hddm.load_csv('exp2_DDM.csv')\n",
    "data.at[data['step_att'].isin(['4']),'step_att']=2\n",
    "data.at[data['step_att'].isin(['5']),'step_att']=1\n",
    "data = hddm.utils.flip_errors(data)\n",
    "data.head(10)"
   ]
  },
  {
   "cell_type": "markdown",
   "metadata": {},
   "source": [
    "## right stim, consonant, clear"
   ]
  },
  {
   "cell_type": "markdown",
   "metadata": {},
   "source": [
    "### preparing data"
   ]
  },
  {
   "cell_type": "code",
   "execution_count": 3,
   "metadata": {},
   "outputs": [
    {
     "name": "stdout",
     "output_type": "stream",
     "text": [
      "       subj_idx group_idx   turn_type task_type snr_type  trial_num  step_att  \\\n",
      "2184         55    Larynx  Right cTBS      Tone    Noise          1         2   \n",
      "2185         55    Larynx  Right cTBS      Tone    Noise          2         3   \n",
      "2186         55    Larynx  Right cTBS      Tone    Noise          3         1   \n",
      "2187         55    Larynx  Right cTBS      Tone    Noise          4         1   \n",
      "2188         55    Larynx  Right cTBS      Tone    Noise          5         2   \n",
      "2189         55    Larynx  Right cTBS      Tone    Noise          6         2   \n",
      "2190         55    Larynx  Right cTBS      Tone    Noise          7         1   \n",
      "2191         55    Larynx  Right cTBS      Tone    Noise          8         2   \n",
      "2192         55    Larynx  Right cTBS      Tone    Noise          9         3   \n",
      "2193         55    Larynx  Right cTBS      Tone    Noise         10         3   \n",
      "2194         55    Larynx  Right cTBS      Tone    Noise         11         1   \n",
      "2195         55    Larynx  Right cTBS      Tone    Noise         12         2   \n",
      "2196         55    Larynx  Right cTBS      Tone    Noise         13         3   \n",
      "2197         55    Larynx  Right cTBS      Tone    Noise         14         3   \n",
      "2198         55    Larynx  Right cTBS      Tone    Noise         15         1   \n",
      "2199         55    Larynx  Right cTBS      Tone    Noise         16         2   \n",
      "2200         55    Larynx  Right cTBS      Tone    Noise         17         3   \n",
      "2201         55    Larynx  Right cTBS      Tone    Noise         18         1   \n",
      "2202         55    Larynx  Right cTBS      Tone    Noise         19         1   \n",
      "2203         55    Larynx  Right cTBS      Tone    Noise         20         3   \n",
      "2204         55    Larynx  Right cTBS      Tone    Noise         21         2   \n",
      "2205         55    Larynx  Right cTBS      Tone    Noise         22         1   \n",
      "2206         55    Larynx  Right cTBS      Tone    Noise         23         3   \n",
      "2207         55    Larynx  Right cTBS      Tone    Noise         24         1   \n",
      "2208         55    Larynx  Right cTBS      Tone    Noise         25         2   \n",
      "2209         55    Larynx  Right cTBS      Tone    Noise         26         3   \n",
      "2210         55    Larynx  Right cTBS      Tone    Noise         27         2   \n",
      "2211         55    Larynx  Right cTBS      Tone    Noise         28         2   \n",
      "2212         55    Larynx  Right cTBS      Tone    Noise         29         2   \n",
      "2213         55    Larynx  Right cTBS      Tone    Noise         30         2   \n",
      "...         ...       ...         ...       ...      ...        ...       ...   \n",
      "78438       253    Larynx        Sham      Tone    Noise        127         1   \n",
      "78439       253    Larynx        Sham      Tone    Noise        128         1   \n",
      "78440       253    Larynx        Sham      Tone    Noise        129         2   \n",
      "78441       253    Larynx        Sham      Tone    Noise        130         3   \n",
      "78442       253    Larynx        Sham      Tone    Noise        131         1   \n",
      "78443       253    Larynx        Sham      Tone    Noise        132         3   \n",
      "78444       253    Larynx        Sham      Tone    Noise        133         3   \n",
      "78445       253    Larynx        Sham      Tone    Noise        134         1   \n",
      "78446       253    Larynx        Sham      Tone    Noise        135         2   \n",
      "78447       253    Larynx        Sham      Tone    Noise        136         1   \n",
      "78448       253    Larynx        Sham      Tone    Noise        137         1   \n",
      "78449       253    Larynx        Sham      Tone    Noise        138         2   \n",
      "78450       253    Larynx        Sham      Tone    Noise        139         3   \n",
      "78451       253    Larynx        Sham      Tone    Noise        140         3   \n",
      "78452       253    Larynx        Sham      Tone    Noise        141         1   \n",
      "78453       253    Larynx        Sham      Tone    Noise        142         2   \n",
      "78454       253    Larynx        Sham      Tone    Noise        143         3   \n",
      "78455       253    Larynx        Sham      Tone    Noise        144         2   \n",
      "78456       253    Larynx        Sham      Tone    Noise        145         2   \n",
      "78457       253    Larynx        Sham      Tone    Noise        146         1   \n",
      "78458       253    Larynx        Sham      Tone    Noise        147         1   \n",
      "78459       253    Larynx        Sham      Tone    Noise        148         3   \n",
      "78460       253    Larynx        Sham      Tone    Noise        149         2   \n",
      "78461       253    Larynx        Sham      Tone    Noise        150         1   \n",
      "78462       253    Larynx        Sham      Tone    Noise        151         1   \n",
      "78463       253    Larynx        Sham      Tone    Noise        152         2   \n",
      "78464       253    Larynx        Sham      Tone    Noise        153         2   \n",
      "78465       253    Larynx        Sham      Tone    Noise        154         3   \n",
      "78466       253    Larynx        Sham      Tone    Noise        155         3   \n",
      "78467       253    Larynx        Sham      Tone    Noise        156         2   \n",
      "\n",
      "       response        rt  step_unatnd  \n",
      "2184          1  3.113290            1  \n",
      "2185          1  2.095207            1  \n",
      "2186          1  0.891558            1  \n",
      "2187          1  0.778837            1  \n",
      "2188          0 -1.491255            1  \n",
      "2189          1  1.115767            1  \n",
      "2190          0 -1.092845            1  \n",
      "2191          1  0.753402            1  \n",
      "2192          0 -1.196347            1  \n",
      "2193          0 -0.818410            1  \n",
      "2194          1  0.769424            1  \n",
      "2195          0 -0.686370            1  \n",
      "2196          0 -0.594312            1  \n",
      "2197          0 -0.381615            1  \n",
      "2198          0 -0.365118            1  \n",
      "2199          0 -0.385661            1  \n",
      "2200          1  1.024461            1  \n",
      "2201          0 -0.514712            1  \n",
      "2202          0 -0.449059            1  \n",
      "2203          0 -0.530554            1  \n",
      "2204          0 -1.047498            1  \n",
      "2205          0 -3.297207            1  \n",
      "2206          1  1.763308            1  \n",
      "2207          1  0.670632            1  \n",
      "2208          1  2.555782            1  \n",
      "2209          1  1.058208            1  \n",
      "2210          1  0.793563            1  \n",
      "2211          1  0.984344            1  \n",
      "2212          1  1.483059            1  \n",
      "2213          1  0.914508            1  \n",
      "...         ...       ...          ...  \n",
      "78438         1  0.649581            1  \n",
      "78439         0 -0.650963            1  \n",
      "78440         1  0.694083            1  \n",
      "78441         0 -0.661921            1  \n",
      "78442         0 -0.798222            1  \n",
      "78443         0 -0.665729            1  \n",
      "78444         0 -0.729957            1  \n",
      "78445         0 -0.681259            1  \n",
      "78446         0 -0.703518            1  \n",
      "78447         1  0.767730            1  \n",
      "78448         1  0.638986            1  \n",
      "78449         1  0.592955            1  \n",
      "78450         1  0.663725            1  \n",
      "78451         1  0.487712            1  \n",
      "78452         1  0.540137            1  \n",
      "78453         1  0.480306            1  \n",
      "78454         1  0.497608            1  \n",
      "78455         0 -0.664540            1  \n",
      "78456         0 -0.631350            1  \n",
      "78457         0 -0.509654            1  \n",
      "78458         0 -0.466841            1  \n",
      "78459         0 -0.455503            1  \n",
      "78460         0 -0.857479            1  \n",
      "78461         0 -0.685792            1  \n",
      "78462         1  0.707301            1  \n",
      "78463         1  0.599335            1  \n",
      "78464         1  0.659563            1  \n",
      "78465         1  0.408511            1  \n",
      "78466         1  0.490912            1  \n",
      "78467         1  0.373693            1  \n",
      "\n",
      "[7800 rows x 10 columns]\n"
     ]
    }
   ],
   "source": [
    "D_R=data.loc[data['turn_type'].isin(['Right cTBS','Sham'])]\n",
    "D_R_T=D_R.loc[D_R['task_type']=='Tone']\n",
    "D_R_T_N=D_R_T.loc[D_R_T['snr_type']=='Noise']\n",
    "print(D_R_T_N)\n",
    "D_R_T_N.to_csv('Exp2_D_R_T_N_cTBS.csv')"
   ]
  },
  {
   "cell_type": "markdown",
   "metadata": {},
   "source": [
    "### baseline model"
   ]
  },
  {
   "cell_type": "code",
   "execution_count": 4,
   "metadata": {},
   "outputs": [
    {
     "name": "stdout",
     "output_type": "stream",
     "text": [
      "Adding these covariates:\n",
      "['a_Intercept', \"a_C(turn_type, Treatment('Sham'))[T.Right cTBS]\"]\n",
      "Adding these covariates:\n",
      "['v_Intercept', \"v_C(turn_type, Treatment('Sham'))[T.Right cTBS]\"]\n",
      "Adding these covariates:\n",
      "['z_Intercept', \"z_C(turn_type, Treatment('Sham'))[T.Right cTBS]\"]\n"
     ]
    },
    {
     "name": "stderr",
     "output_type": "stream",
     "text": [
      "/home/bsliang/miniconda3/envs/bsliang_DDM_27/lib/python2.7/site-packages/scipy/optimize/optimize.py:1934: RuntimeWarning: invalid value encountered in double_scalars\n",
      "  tmp2 = (x - v) * (fx - fw)\n"
     ]
    },
    {
     "name": "stdout",
     "output_type": "stream",
     "text": [
      " [-----------------100%-----------------] 2001 of 2000 complete in 3828.2 sec"
     ]
    },
    {
     "data": {
      "text/plain": [
       "<pymc.MCMC.MCMC at 0x7fa4e0727950>"
      ]
     },
     "execution_count": 4,
     "metadata": {},
     "output_type": "execute_result"
    }
   ],
   "source": [
    "a_reg = {'model': \"a ~ 1 + C(turn_type, Treatment('Sham'))\",'link_func': lambda x: x}\n",
    "v_reg = {'model': \"v ~ 1 + C(turn_type, Treatment('Sham'))\",'link_func': lambda x: x}\n",
    "z_reg = {'model': \"z ~ 1 + C(turn_type, Treatment('Sham'))\",'link_func': lambda x: x}\n",
    "reg_descr = [a_reg,v_reg,z_reg]\n",
    "D_R_T_N_bsl = hddm.HDDMRegressor(D_R_T_N, reg_descr, include='z')\n",
    "D_R_T_N_bsl.find_starting_values()\n",
    "D_R_T_N_bsl.sample(2000, burn=20, dbname='traces.db', db='pickle')"
   ]
  },
  {
   "cell_type": "markdown",
   "metadata": {},
   "source": [
    "### model 1: a only"
   ]
  },
  {
   "cell_type": "code",
   "execution_count": 5,
   "metadata": {},
   "outputs": [
    {
     "name": "stdout",
     "output_type": "stream",
     "text": [
      "Adding these covariates:\n",
      "['a_Intercept', \"a_step_att:C(turn_type, Treatment('Sham'))[Right cTBS]\", \"a_step_att:C(turn_type, Treatment('Sham'))[Sham]\"]\n",
      "Adding these covariates:\n",
      "['v_Intercept', \"v_C(turn_type, Treatment('Sham'))[T.Right cTBS]\"]\n",
      "Adding these covariates:\n",
      "['z_Intercept', \"z_C(turn_type, Treatment('Sham'))[T.Right cTBS]\"]\n",
      " [-----------------100%-----------------] 2001 of 2000 complete in 4425.9 sec"
     ]
    },
    {
     "data": {
      "text/plain": [
       "<pymc.MCMC.MCMC at 0x7fa5bc51a550>"
      ]
     },
     "execution_count": 5,
     "metadata": {},
     "output_type": "execute_result"
    }
   ],
   "source": [
    "a_reg = {'model': \"a ~ 1 + step_att:C(turn_type, Treatment('Sham'))\",'link_func': lambda x: x}\n",
    "v_reg = {'model': \"v ~ 1 + C(turn_type, Treatment('Sham'))\",'link_func': lambda x: x}\n",
    "z_reg = {'model': \"z ~ 1 + C(turn_type, Treatment('Sham'))\",'link_func': lambda x: x}\n",
    "reg_descr = [a_reg,v_reg,z_reg]\n",
    "D_R_T_N_am = hddm.HDDMRegressor(D_R_T_N, reg_descr, include='z')\n",
    "D_R_T_N_am.find_starting_values()\n",
    "D_R_T_N_am.sample(2000, burn=20, dbname='traces.db', db='pickle')"
   ]
  },
  {
   "cell_type": "markdown",
   "metadata": {},
   "source": [
    "### model 2: v only"
   ]
  },
  {
   "cell_type": "code",
   "execution_count": 6,
   "metadata": {},
   "outputs": [
    {
     "name": "stdout",
     "output_type": "stream",
     "text": [
      "Adding these covariates:\n",
      "['a_Intercept', \"a_C(turn_type, Treatment('Sham'))[T.Right cTBS]\"]\n",
      "Adding these covariates:\n",
      "['v_Intercept', \"v_step_att:C(turn_type, Treatment('Sham'))[Right cTBS]\", \"v_step_att:C(turn_type, Treatment('Sham'))[Sham]\"]\n",
      "Adding these covariates:\n",
      "['z_Intercept', \"z_C(turn_type, Treatment('Sham'))[T.Right cTBS]\"]\n",
      " [-----------------100%-----------------] 2001 of 2000 complete in 4278.1 sec"
     ]
    },
    {
     "data": {
      "text/plain": [
       "<pymc.MCMC.MCMC at 0x7fa48823de10>"
      ]
     },
     "execution_count": 6,
     "metadata": {},
     "output_type": "execute_result"
    }
   ],
   "source": [
    "a_reg = {'model': \"a ~ 1 + C(turn_type, Treatment('Sham'))\",'link_func': lambda x: x}\n",
    "v_reg = {'model': \"v ~ 1 + step_att:C(turn_type, Treatment('Sham'))\",'link_func': lambda x: x}\n",
    "z_reg = {'model': \"z ~ 1 + C(turn_type, Treatment('Sham'))\",'link_func': lambda x: x}\n",
    "reg_descr = [a_reg,v_reg,z_reg]\n",
    "D_R_T_N_vm = hddm.HDDMRegressor(D_R_T_N, reg_descr, include='z')\n",
    "D_R_T_N_vm.find_starting_values()\n",
    "D_R_T_N_vm.sample(2000, burn=20, dbname='traces.db', db='pickle')"
   ]
  },
  {
   "cell_type": "markdown",
   "metadata": {},
   "source": [
    "### model 3: z only"
   ]
  },
  {
   "cell_type": "code",
   "execution_count": 7,
   "metadata": {},
   "outputs": [
    {
     "name": "stdout",
     "output_type": "stream",
     "text": [
      "Adding these covariates:\n",
      "['a_Intercept', \"a_C(turn_type, Treatment('Sham'))[T.Right cTBS]\"]\n",
      "Adding these covariates:\n",
      "['v_Intercept', \"v_C(turn_type, Treatment('Sham'))[T.Right cTBS]\"]\n",
      "Adding these covariates:\n",
      "['z_Intercept', \"z_step_att:C(turn_type, Treatment('Sham'))[Right cTBS]\", \"z_step_att:C(turn_type, Treatment('Sham'))[Sham]\"]\n",
      " [-----------------100%-----------------] 2001 of 2000 complete in 4461.4 sec"
     ]
    },
    {
     "data": {
      "text/plain": [
       "<pymc.MCMC.MCMC at 0x7fa488284790>"
      ]
     },
     "execution_count": 7,
     "metadata": {},
     "output_type": "execute_result"
    }
   ],
   "source": [
    "a_reg = {'model': \"a ~ 1 + C(turn_type, Treatment('Sham'))\",'link_func': lambda x: x}\n",
    "v_reg = {'model': \"v ~ 1 + C(turn_type, Treatment('Sham'))\",'link_func': lambda x: x}\n",
    "z_reg = {'model': \"z ~ 1 + step_att:C(turn_type, Treatment('Sham'))\",'link_func': lambda x: x}\n",
    "reg_descr = [a_reg,v_reg,z_reg]\n",
    "D_R_T_N_zm = hddm.HDDMRegressor(D_R_T_N, reg_descr, include='z')\n",
    "D_R_T_N_zm.find_starting_values()\n",
    "D_R_T_N_zm.sample(2000, burn=20, dbname='traces.db', db='pickle')"
   ]
  },
  {
   "cell_type": "markdown",
   "metadata": {},
   "source": [
    "### model 4: a + v"
   ]
  },
  {
   "cell_type": "code",
   "execution_count": 8,
   "metadata": {},
   "outputs": [
    {
     "name": "stdout",
     "output_type": "stream",
     "text": [
      "Adding these covariates:\n",
      "['a_Intercept', \"a_step_att:C(turn_type, Treatment('Sham'))[Right cTBS]\", \"a_step_att:C(turn_type, Treatment('Sham'))[Sham]\"]\n",
      "Adding these covariates:\n",
      "['v_Intercept', \"v_step_att:C(turn_type, Treatment('Sham'))[Right cTBS]\", \"v_step_att:C(turn_type, Treatment('Sham'))[Sham]\"]\n",
      "Adding these covariates:\n",
      "['z_Intercept', \"z_C(turn_type, Treatment('Sham'))[T.Right cTBS]\"]\n",
      " [-----------------100%-----------------] 2001 of 2000 complete in 4732.6 sec"
     ]
    },
    {
     "data": {
      "text/plain": [
       "<pymc.MCMC.MCMC at 0x7fa4584abad0>"
      ]
     },
     "execution_count": 8,
     "metadata": {},
     "output_type": "execute_result"
    }
   ],
   "source": [
    "a_reg = {'model': \"a ~ 1 + step_att:C(turn_type, Treatment('Sham'))\",'link_func': lambda x: x}\n",
    "v_reg = {'model': \"v ~ 1 + step_att:C(turn_type, Treatment('Sham'))\",'link_func': lambda x: x}\n",
    "z_reg = {'model': \"z ~ 1 + C(turn_type, Treatment('Sham'))\",'link_func': lambda x: x}\n",
    "reg_descr = [a_reg,v_reg,z_reg]\n",
    "D_R_T_N_avm = hddm.HDDMRegressor(D_R_T_N, reg_descr, include='z')\n",
    "D_R_T_N_avm.find_starting_values()\n",
    "D_R_T_N_avm.sample(2000, burn=20, dbname='traces.db', db='pickle')"
   ]
  },
  {
   "cell_type": "markdown",
   "metadata": {},
   "source": [
    "### model 5: a + z"
   ]
  },
  {
   "cell_type": "code",
   "execution_count": 9,
   "metadata": {},
   "outputs": [
    {
     "name": "stdout",
     "output_type": "stream",
     "text": [
      "Adding these covariates:\n",
      "['a_Intercept', \"a_step_att:C(turn_type, Treatment('Sham'))[Right cTBS]\", \"a_step_att:C(turn_type, Treatment('Sham'))[Sham]\"]\n",
      "Adding these covariates:\n",
      "['v_Intercept', \"v_C(turn_type, Treatment('Sham'))[T.Right cTBS]\"]\n",
      "Adding these covariates:\n",
      "['z_Intercept', \"z_step_att:C(turn_type, Treatment('Sham'))[Right cTBS]\", \"z_step_att:C(turn_type, Treatment('Sham'))[Sham]\"]\n",
      " [-----------------100%-----------------] 2001 of 2000 complete in 4986.7 sec"
     ]
    },
    {
     "data": {
      "text/plain": [
       "<pymc.MCMC.MCMC at 0x7fa47c516d50>"
      ]
     },
     "execution_count": 9,
     "metadata": {},
     "output_type": "execute_result"
    }
   ],
   "source": [
    "a_reg = {'model': \"a ~ 1 + step_att:C(turn_type, Treatment('Sham'))\",'link_func': lambda x: x}\n",
    "v_reg = {'model': \"v ~ 1 + C(turn_type, Treatment('Sham'))\",'link_func': lambda x: x}\n",
    "z_reg = {'model': \"z ~ 1 + step_att:C(turn_type, Treatment('Sham'))\",'link_func': lambda x: x}\n",
    "reg_descr = [a_reg,v_reg,z_reg]\n",
    "D_R_T_N_azm = hddm.HDDMRegressor(D_R_T_N, reg_descr, include='z')\n",
    "D_R_T_N_azm.find_starting_values()\n",
    "D_R_T_N_azm.sample(2000, burn=20, dbname='traces.db', db='pickle')"
   ]
  },
  {
   "cell_type": "markdown",
   "metadata": {},
   "source": [
    "### model 6: v + z"
   ]
  },
  {
   "cell_type": "code",
   "execution_count": 10,
   "metadata": {},
   "outputs": [
    {
     "name": "stdout",
     "output_type": "stream",
     "text": [
      "Adding these covariates:\n",
      "['a_Intercept', \"a_C(turn_type, Treatment('Sham'))[T.Right cTBS]\"]\n",
      "Adding these covariates:\n",
      "['v_Intercept', \"v_step_att:C(turn_type, Treatment('Sham'))[Right cTBS]\", \"v_step_att:C(turn_type, Treatment('Sham'))[Sham]\"]\n",
      "Adding these covariates:\n",
      "['z_Intercept', \"z_step_att:C(turn_type, Treatment('Sham'))[Right cTBS]\", \"z_step_att:C(turn_type, Treatment('Sham'))[Sham]\"]\n",
      " [-----------------100%-----------------] 2001 of 2000 complete in 4819.3 sec"
     ]
    },
    {
     "data": {
      "text/plain": [
       "<pymc.MCMC.MCMC at 0x7fa434144e50>"
      ]
     },
     "execution_count": 10,
     "metadata": {},
     "output_type": "execute_result"
    }
   ],
   "source": [
    "a_reg = {'model': \"a ~ 1 + C(turn_type, Treatment('Sham'))\",'link_func': lambda x: x}\n",
    "v_reg = {'model': \"v ~ 1 + step_att:C(turn_type, Treatment('Sham'))\",'link_func': lambda x: x}\n",
    "z_reg = {'model': \"z ~ 1 + step_att:C(turn_type, Treatment('Sham'))\",'link_func': lambda x: x}\n",
    "reg_descr = [a_reg,v_reg,z_reg]\n",
    "D_R_T_N_vzm = hddm.HDDMRegressor(D_R_T_N, reg_descr, include='z')\n",
    "D_R_T_N_vzm.find_starting_values()\n",
    "D_R_T_N_vzm.sample(2000, burn=20, dbname='traces.db', db='pickle')"
   ]
  },
  {
   "cell_type": "markdown",
   "metadata": {},
   "source": [
    "### model 7: a + v + z"
   ]
  },
  {
   "cell_type": "code",
   "execution_count": 11,
   "metadata": {},
   "outputs": [
    {
     "name": "stdout",
     "output_type": "stream",
     "text": [
      "Adding these covariates:\n",
      "['a_Intercept', \"a_step_att:C(turn_type, Treatment('Sham'))[Right cTBS]\", \"a_step_att:C(turn_type, Treatment('Sham'))[Sham]\"]\n",
      "Adding these covariates:\n",
      "['v_Intercept', \"v_step_att:C(turn_type, Treatment('Sham'))[Right cTBS]\", \"v_step_att:C(turn_type, Treatment('Sham'))[Sham]\"]\n",
      "Adding these covariates:\n",
      "['z_Intercept', \"z_step_att:C(turn_type, Treatment('Sham'))[Right cTBS]\", \"z_step_att:C(turn_type, Treatment('Sham'))[Sham]\"]\n",
      " [-----------------100%-----------------] 2001 of 2000 complete in 5416.2 secWARNING: Will not save custom link functions.\n",
      "WARNING: Will not save custom link functions.\n",
      "WARNING: Will not save custom link functions.\n"
     ]
    }
   ],
   "source": [
    "a_reg = {'model': \"a ~ 1 + step_att:C(turn_type, Treatment('Sham'))\",'link_func': lambda x: x}\n",
    "v_reg = {'model': \"v ~ 1 + step_att:C(turn_type, Treatment('Sham'))\",'link_func': lambda x: x}\n",
    "z_reg = {'model': \"z ~ 1 + step_att:C(turn_type, Treatment('Sham'))\",'link_func': lambda x: x}\n",
    "reg_descr = [a_reg,v_reg,z_reg]\n",
    "D_R_T_N_fm = hddm.HDDMRegressor(D_R_T_N, reg_descr, include='z')\n",
    "D_R_T_N_fm.find_starting_values()\n",
    "D_R_T_N_fm.sample(2000, burn=20, dbname='traces.db', db='pickle')\n",
    "D_R_T_N_fm.save('D_R_T_N_fm')"
   ]
  },
  {
   "cell_type": "markdown",
   "metadata": {},
   "source": [
    "### Model comparison"
   ]
  },
  {
   "cell_type": "code",
   "execution_count": 19,
   "metadata": {},
   "outputs": [
    {
     "name": "stdout",
     "output_type": "stream",
     "text": [
      "baseline model DIC: 7809.738676\n",
      "a model DIC: 7815.634668\n",
      "v model DIC: 7770.497398\n",
      "z model DIC: 7809.995119\n",
      "av model DIC: 7775.351455\n",
      "az model DIC: 7814.512603\n",
      "vz model DIC: 7761.951544\n",
      "full model DIC: 7763.833816\n"
     ]
    },
    {
     "data": {
      "image/png": "[encoded data removed]",
      "text/plain": [
       "<Figure size 130.394x63.7795 with 1 Axes>"
      ]
     },
     "metadata": {
      "needs_background": "light"
     },
     "output_type": "display_data"
    }
   ],
   "source": [
    "print(\"baseline model DIC: %f\" % D_R_T_N_bsl.dic)\n",
    "print(\"a model DIC: %f\" % D_R_T_N_am.dic)\n",
    "print(\"v model DIC: %f\" % D_R_T_N_vm.dic)\n",
    "print(\"z model DIC: %f\" % D_R_T_N_zm.dic)\n",
    "print(\"av model DIC: %f\" % D_R_T_N_avm.dic)\n",
    "print(\"az model DIC: %f\" % D_R_T_N_azm.dic)\n",
    "print(\"vz model DIC: %f\" % D_R_T_N_vzm.dic)\n",
    "print(\"full model DIC: %f\" % D_R_T_N_fm.dic)\n",
    "\n",
    "fig, ax = plt.subplots()\n",
    "\n",
    "fruits = ['baseline', 'a', 'v', 'z', 'av', 'az', 'vz','full']\n",
    "counts = [D_R_T_N_bsl.dic, D_R_T_N_am.dic, D_R_T_N_vm.dic, D_R_T_N_zm.dic,D_R_T_N_avm.dic,D_R_T_N_azm.dic,D_R_T_N_vzm.dic,D_R_T_N_fm.dic]\n",
    "\n",
    "D_name='D_R_T_N'\n",
    "\n",
    "ax.bar(fruits, counts,color=[197./255,158./255,226./255],edgecolor='black',linewidth=0.5)\n",
    "\n",
    "plt.rcParams['savefig.dpi']=300\n",
    "plt.rcParams['axes.linewidth']=0.5\n",
    "\n",
    "#ax.set_ylabel('DIC value')\n",
    "#ax.set_title('TBS: Left cTBS consonant quiet')\n",
    "ax.set_ylim([7750,7820])\n",
    "ytick_plot=range(7750,7820,10)\n",
    "ytick_plot.append(7820)\n",
    "ax.set_yticks(ytick_plot)\n",
    "ax.spines['right'].set_visible(False)\n",
    "ax.spines['top'].set_visible(False)\n",
    "\n",
    "fig.set_size_inches(4.6*cm,2.25*cm)\n",
    "ax.tick_params('both',which='major',direction='in',width=0.5,length=2)\n",
    "plt.rcParams['font.size']=5\n",
    "plt.rcParams['font.family']='Arial'\n",
    "plt.savefig(D_name+'_interact_M_compare.pdf',bbox_inches = 'tight',transparent=True)\n",
    "plt.show()"
   ]
  },
  {
   "cell_type": "markdown",
   "metadata": {},
   "source": [
    "### Plotting"
   ]
  },
  {
   "cell_type": "code",
   "execution_count": 13,
   "metadata": {},
   "outputs": [
    {
     "data": {
      "image/png": "[encoded data removed]",
      "text/plain": [
       "<Figure size 432x288 with 1 Axes>"
      ]
     },
     "metadata": {
      "needs_background": "light"
     },
     "output_type": "display_data"
    },
    {
     "data": {
      "image/png": "[encoded data removed]",
      "text/plain": [
       "<Figure size 432x288 with 1 Axes>"
      ]
     },
     "metadata": {
      "needs_background": "light"
     },
     "output_type": "display_data"
    },
    {
     "data": {
      "image/png": "[encoded data removed]",
      "text/plain": [
       "<Figure size 432x288 with 1 Axes>"
      ]
     },
     "metadata": {
      "needs_background": "light"
     },
     "output_type": "display_data"
    },
    {
     "data": {
      "image/png": "[encoded data removed]",
      "text/plain": [
       "<Figure size 288x288 with 1 Axes>"
      ]
     },
     "metadata": {
      "needs_background": "light"
     },
     "output_type": "display_data"
    },
    {
     "name": "stdout",
     "output_type": "stream",
     "text": [
      "('P(a > Sham) = ', 1.0)\n",
      "('P(v > Sham) = ', 0.9994949494949495)\n",
      "('P(z > Sham) = ', 0.010101010101010102)\n"
     ]
    }
   ],
   "source": [
    "a_Intercept,a_cTBS = D_R_T_N_fm.nodes_db.loc[[\"a_Intercept\",\"a_step_att:C(turn_type, Treatment('Sham'))[Right cTBS]\"], 'node']\n",
    "hddm.analyze.plot_posterior_nodes([a_Intercept,a_cTBS])\n",
    "plt.xlabel('boundary')\n",
    "plt.ylabel('Posterior probability')\n",
    "plt.title('Full model')\n",
    "\n",
    "v_Intercept,v_cTBS = D_R_T_N_fm.nodes_db.loc[[\"v_Intercept\",\"v_step_att:C(turn_type, Treatment('Sham'))[Right cTBS]\"], 'node']\n",
    "hddm.analyze.plot_posterior_nodes([v_Intercept,v_cTBS])\n",
    "plt.xlabel('drift-rate')\n",
    "plt.ylabel('Posterior probability')\n",
    "plt.title('Full model')\n",
    "\n",
    "z_Intercept,z_cTBS = D_R_T_N_fm.nodes_db.loc[[\"z_Intercept\",\"z_step_att:C(turn_type, Treatment('Sham'))[Right cTBS]\"], 'node']\n",
    "hddm.analyze.plot_posterior_nodes([z_Intercept,z_cTBS])\n",
    "plt.xlabel('starting point')\n",
    "plt.ylabel('Posterior probability')\n",
    "plt.title('Full model')\n",
    "\n",
    "\n",
    "fig, ax = plt.subplots()\n",
    "fig.set_size_inches(4,4)\n",
    "\n",
    "para_tag=['AMBstep:a','AMBstep:v','AMBstep:z']\n",
    "counts = [a_cTBS.trace()/(max(a_cTBS.trace())-min(a_cTBS.trace())),v_cTBS.trace()/(max(v_cTBS.trace())-min(v_cTBS.trace())),z_cTBS.trace()/(max(z_cTBS.trace())-min(z_cTBS.trace()))]\n",
    "\n",
    "ax.axhline(y = 0, color =\"green\", linestyle =\"--\")\n",
    "ax.violinplot(counts)\n",
    "ax.set_xticks([1,2,3])\n",
    "ax.set_xticklabels(para_tag)\n",
    "ax.set_ylim([-4,4])\n",
    "ax.set_title('Full model: Right cTBS tone noise')\n",
    "ax.set_ylabel('Regression coef (normalized)')\n",
    "ax.spines['right'].set_visible(False)\n",
    "ax.spines['top'].set_visible(False)\n",
    "\n",
    "plt.show()\n",
    "\n",
    "print(\"P(a > Sham) = \", (a_cTBS.trace() > 0).mean())\n",
    "print(\"P(v > Sham) = \", (v_cTBS.trace() > 0).mean())\n",
    "print(\"P(z > Sham) = \", (z_cTBS.trace() > 0).mean())"
   ]
  },
  {
   "cell_type": "markdown",
   "metadata": {},
   "source": [
    "### check full model simulation prediction accuracy"
   ]
  },
  {
   "cell_type": "markdown",
   "metadata": {},
   "source": [
    "#### fit the full model"
   ]
  },
  {
   "cell_type": "code",
   "execution_count": 14,
   "metadata": {},
   "outputs": [
    {
     "name": "stdout",
     "output_type": "stream",
     "text": [
      "Adding these covariates:\n",
      "['a_Intercept', \"a_step_att:C(turn_type, Treatment('Sham'))[Right cTBS]\", \"a_step_att:C(turn_type, Treatment('Sham'))[Sham]\"]\n",
      "Adding these covariates:\n",
      "['v_Intercept', \"v_step_att:C(turn_type, Treatment('Sham'))[Right cTBS]\", \"v_step_att:C(turn_type, Treatment('Sham'))[Sham]\"]\n",
      "Adding these covariates:\n",
      "['z_Intercept', \"z_step_att:C(turn_type, Treatment('Sham'))[Right cTBS]\", \"z_step_att:C(turn_type, Treatment('Sham'))[Sham]\"]\n",
      " [-----------------100%-----------------] 2001 of 2000 complete in 5419.7 sec"
     ]
    },
    {
     "data": {
      "text/plain": [
       "<pymc.MCMC.MCMC at 0x7fa47c529390>"
      ]
     },
     "execution_count": 14,
     "metadata": {},
     "output_type": "execute_result"
    }
   ],
   "source": [
    "fm_data_2=D_R_T_N\n",
    "fm_data_2.reset_index(inplace = True, drop = True)\n",
    "a_reg = {'model': \"a ~ 1 + step_att:C(turn_type, Treatment('Sham'))\",'link_func': lambda x: x}\n",
    "v_reg = {'model': \"v ~ 1 + step_att:C(turn_type, Treatment('Sham'))\",'link_func': lambda x: x}\n",
    "z_reg = {'model': \"z ~ 1 + step_att:C(turn_type, Treatment('Sham'))\",'link_func': lambda x: x}\n",
    "reg_descr = [a_reg,v_reg,z_reg]\n",
    "fm_2 = hddm.HDDMRegressor(fm_data_2, reg_descr, include='z')\n",
    "fm_2.find_starting_values()\n",
    "fm_2.sample(2000, burn=20, dbname='traces.db', db='pickle')"
   ]
  },
  {
   "cell_type": "markdown",
   "metadata": {},
   "source": [
    "#### predict data from simulated data derived from full model"
   ]
  },
  {
   "cell_type": "code",
   "execution_count": 15,
   "metadata": {},
   "outputs": [
    {
     "name": "stdout",
     "output_type": "stream",
     "text": [
      " [-------------------112%-------------------] 28 of 25 complete in 23794.9 sec"
     ]
    },
    {
     "data": {
      "text/html": [
       "<div>\n",
       "<style scoped>\n",
       "    .dataframe tbody tr th:only-of-type {\n",
       "        vertical-align: middle;\n",
       "    }\n",
       "\n",
       "    .dataframe tbody tr th {\n",
       "        vertical-align: top;\n",
       "    }\n",
       "\n",
       "    .dataframe thead th {\n",
       "        text-align: right;\n",
       "    }\n",
       "</style>\n",
       "<table border=\"1\" class=\"dataframe\">\n",
       "  <thead>\n",
       "    <tr style=\"text-align: right;\">\n",
       "      <th></th>\n",
       "      <th>observed</th>\n",
       "      <th>mean</th>\n",
       "      <th>std</th>\n",
       "      <th>SEM</th>\n",
       "      <th>MSE</th>\n",
       "      <th>credible</th>\n",
       "      <th>quantile</th>\n",
       "      <th>mahalanobis</th>\n",
       "    </tr>\n",
       "    <tr>\n",
       "      <th>stat</th>\n",
       "      <th></th>\n",
       "      <th></th>\n",
       "      <th></th>\n",
       "      <th></th>\n",
       "      <th></th>\n",
       "      <th></th>\n",
       "      <th></th>\n",
       "      <th></th>\n",
       "    </tr>\n",
       "  </thead>\n",
       "  <tbody>\n",
       "    <tr>\n",
       "      <th>accuracy</th>\n",
       "      <td>0.553462</td>\n",
       "      <td>0.557727</td>\n",
       "      <td>0.132061</td>\n",
       "      <td>0.000018</td>\n",
       "      <td>0.017458</td>\n",
       "      <td>True</td>\n",
       "      <td>45.543999</td>\n",
       "      <td>0.032296</td>\n",
       "    </tr>\n",
       "    <tr>\n",
       "      <th>mean_ub</th>\n",
       "      <td>0.769450</td>\n",
       "      <td>0.790688</td>\n",
       "      <td>0.148935</td>\n",
       "      <td>0.000451</td>\n",
       "      <td>0.022633</td>\n",
       "      <td>True</td>\n",
       "      <td>61.416000</td>\n",
       "      <td>0.142601</td>\n",
       "    </tr>\n",
       "    <tr>\n",
       "      <th>std_ub</th>\n",
       "      <td>0.287983</td>\n",
       "      <td>0.276997</td>\n",
       "      <td>0.089194</td>\n",
       "      <td>0.000121</td>\n",
       "      <td>0.008076</td>\n",
       "      <td>True</td>\n",
       "      <td>66.096001</td>\n",
       "      <td>0.123172</td>\n",
       "    </tr>\n",
       "    <tr>\n",
       "      <th>10q_ub</th>\n",
       "      <td>0.510389</td>\n",
       "      <td>0.541736</td>\n",
       "      <td>0.097403</td>\n",
       "      <td>0.000983</td>\n",
       "      <td>0.010470</td>\n",
       "      <td>True</td>\n",
       "      <td>46.551998</td>\n",
       "      <td>0.321829</td>\n",
       "    </tr>\n",
       "    <tr>\n",
       "      <th>30q_ub</th>\n",
       "      <td>0.618468</td>\n",
       "      <td>0.615530</td>\n",
       "      <td>0.110404</td>\n",
       "      <td>0.000009</td>\n",
       "      <td>0.012198</td>\n",
       "      <td>True</td>\n",
       "      <td>62.528000</td>\n",
       "      <td>0.026610</td>\n",
       "    </tr>\n",
       "    <tr>\n",
       "      <th>50q_ub</th>\n",
       "      <td>0.709455</td>\n",
       "      <td>0.707480</td>\n",
       "      <td>0.130384</td>\n",
       "      <td>0.000004</td>\n",
       "      <td>0.017004</td>\n",
       "      <td>True</td>\n",
       "      <td>63.736000</td>\n",
       "      <td>0.015149</td>\n",
       "    </tr>\n",
       "    <tr>\n",
       "      <th>70q_ub</th>\n",
       "      <td>0.820585</td>\n",
       "      <td>0.847105</td>\n",
       "      <td>0.165831</td>\n",
       "      <td>0.000703</td>\n",
       "      <td>0.028203</td>\n",
       "      <td>True</td>\n",
       "      <td>60.520000</td>\n",
       "      <td>0.159921</td>\n",
       "    </tr>\n",
       "    <tr>\n",
       "      <th>90q_ub</th>\n",
       "      <td>1.094302</td>\n",
       "      <td>1.146901</td>\n",
       "      <td>0.251584</td>\n",
       "      <td>0.002767</td>\n",
       "      <td>0.066061</td>\n",
       "      <td>True</td>\n",
       "      <td>56.647999</td>\n",
       "      <td>0.209071</td>\n",
       "    </tr>\n",
       "    <tr>\n",
       "      <th>mean_lb</th>\n",
       "      <td>-0.780901</td>\n",
       "      <td>-0.802664</td>\n",
       "      <td>0.147461</td>\n",
       "      <td>0.000474</td>\n",
       "      <td>0.022218</td>\n",
       "      <td>True</td>\n",
       "      <td>42.279999</td>\n",
       "      <td>0.147587</td>\n",
       "    </tr>\n",
       "    <tr>\n",
       "      <th>std_lb</th>\n",
       "      <td>0.319844</td>\n",
       "      <td>0.277719</td>\n",
       "      <td>0.089329</td>\n",
       "      <td>0.001775</td>\n",
       "      <td>0.009754</td>\n",
       "      <td>True</td>\n",
       "      <td>78.935997</td>\n",
       "      <td>0.471576</td>\n",
       "    </tr>\n",
       "    <tr>\n",
       "      <th>10q_lb</th>\n",
       "      <td>0.530827</td>\n",
       "      <td>0.549796</td>\n",
       "      <td>0.099460</td>\n",
       "      <td>0.000360</td>\n",
       "      <td>0.010252</td>\n",
       "      <td>True</td>\n",
       "      <td>54.807999</td>\n",
       "      <td>0.190715</td>\n",
       "    </tr>\n",
       "    <tr>\n",
       "      <th>30q_lb</th>\n",
       "      <td>0.635501</td>\n",
       "      <td>0.627318</td>\n",
       "      <td>0.111700</td>\n",
       "      <td>0.000067</td>\n",
       "      <td>0.012544</td>\n",
       "      <td>True</td>\n",
       "      <td>63.200001</td>\n",
       "      <td>0.073258</td>\n",
       "    </tr>\n",
       "    <tr>\n",
       "      <th>50q_lb</th>\n",
       "      <td>0.713555</td>\n",
       "      <td>0.721459</td>\n",
       "      <td>0.130433</td>\n",
       "      <td>0.000062</td>\n",
       "      <td>0.017075</td>\n",
       "      <td>True</td>\n",
       "      <td>59.543999</td>\n",
       "      <td>0.060597</td>\n",
       "    </tr>\n",
       "    <tr>\n",
       "      <th>70q_lb</th>\n",
       "      <td>0.812104</td>\n",
       "      <td>0.861357</td>\n",
       "      <td>0.163791</td>\n",
       "      <td>0.002426</td>\n",
       "      <td>0.029253</td>\n",
       "      <td>True</td>\n",
       "      <td>49.680000</td>\n",
       "      <td>0.300705</td>\n",
       "    </tr>\n",
       "    <tr>\n",
       "      <th>90q_lb</th>\n",
       "      <td>1.089040</td>\n",
       "      <td>1.158925</td>\n",
       "      <td>0.247839</td>\n",
       "      <td>0.004884</td>\n",
       "      <td>0.066308</td>\n",
       "      <td>True</td>\n",
       "      <td>50.848000</td>\n",
       "      <td>0.281978</td>\n",
       "    </tr>\n",
       "  </tbody>\n",
       "</table>\n",
       "</div>"
      ],
      "text/plain": [
       "          observed      mean       std       SEM       MSE credible  \\\n",
       "stat                                                                  \n",
       "accuracy  0.553462  0.557727  0.132061  0.000018  0.017458     True   \n",
       "mean_ub   0.769450  0.790688  0.148935  0.000451  0.022633     True   \n",
       "std_ub    0.287983  0.276997  0.089194  0.000121  0.008076     True   \n",
       "10q_ub    0.510389  0.541736  0.097403  0.000983  0.010470     True   \n",
       "30q_ub    0.618468  0.615530  0.110404  0.000009  0.012198     True   \n",
       "50q_ub    0.709455  0.707480  0.130384  0.000004  0.017004     True   \n",
       "70q_ub    0.820585  0.847105  0.165831  0.000703  0.028203     True   \n",
       "90q_ub    1.094302  1.146901  0.251584  0.002767  0.066061     True   \n",
       "mean_lb  -0.780901 -0.802664  0.147461  0.000474  0.022218     True   \n",
       "std_lb    0.319844  0.277719  0.089329  0.001775  0.009754     True   \n",
       "10q_lb    0.530827  0.549796  0.099460  0.000360  0.010252     True   \n",
       "30q_lb    0.635501  0.627318  0.111700  0.000067  0.012544     True   \n",
       "50q_lb    0.713555  0.721459  0.130433  0.000062  0.017075     True   \n",
       "70q_lb    0.812104  0.861357  0.163791  0.002426  0.029253     True   \n",
       "90q_lb    1.089040  1.158925  0.247839  0.004884  0.066308     True   \n",
       "\n",
       "           quantile  mahalanobis  \n",
       "stat                              \n",
       "accuracy  45.543999     0.032296  \n",
       "mean_ub   61.416000     0.142601  \n",
       "std_ub    66.096001     0.123172  \n",
       "10q_ub    46.551998     0.321829  \n",
       "30q_ub    62.528000     0.026610  \n",
       "50q_ub    63.736000     0.015149  \n",
       "70q_ub    60.520000     0.159921  \n",
       "90q_ub    56.647999     0.209071  \n",
       "mean_lb   42.279999     0.147587  \n",
       "std_lb    78.935997     0.471576  \n",
       "10q_lb    54.807999     0.190715  \n",
       "30q_lb    63.200001     0.073258  \n",
       "50q_lb    59.543999     0.060597  \n",
       "70q_lb    49.680000     0.300705  \n",
       "90q_lb    50.848000     0.281978  "
      ]
     },
     "execution_count": 15,
     "metadata": {},
     "output_type": "execute_result"
    }
   ],
   "source": [
    "fm_data_2_sim = hddm.utils.post_pred_gen(fm_2)\n",
    "hddm.utils.post_pred_stats(fm_data_2, fm_data_2_sim)"
   ]
  }
 ],
 "metadata": {
  "kernelspec": {
   "display_name": "Python 2.7.18 ('bsliang_DDM_27': conda)",
   "language": "python",
   "name": "python3"
  },
  "language_info": {
   "codemirror_mode": {
    "name": "ipython",
    "version": 2
   },
   "file_extension": ".py",
   "mimetype": "text/x-python",
   "name": "python",
   "nbconvert_exporter": "python",
   "pygments_lexer": "ipython2",
   "version": "2.7.18"
  },
  "orig_nbformat": 4,
  "vscode": {
   "interpreter": {
    "hash": "800a09db568ebe80aacfc1bc086e45a31a7cff3ccaf522d8b640d0dfbe2b8801"
   }
  }
 },
 "nbformat": 4,
 "nbformat_minor": 2
}
