{
 "cells": [
  {
   "cell_type": "markdown",
   "metadata": {},
   "source": [
    "# TBS"
   ]
  },
  {
   "cell_type": "markdown",
   "metadata": {},
   "source": [
    "## preparing"
   ]
  },
  {
   "cell_type": "code",
   "execution_count": 17,
   "metadata": {},
   "outputs": [],
   "source": [
    "import pandas as pd\n",
    "import matplotlib.pyplot as plt\n",
    "import hddm\n",
    "import numpy as np\n",
    "import pickle\n",
    "from patsy import dmatrices, dmatrix, demo_data\n",
    "cm = 1/2.54"
   ]
  },
  {
   "cell_type": "markdown",
   "metadata": {},
   "source": [
    "## loading data"
   ]
  },
  {
   "cell_type": "code",
   "execution_count": 2,
   "metadata": {},
   "outputs": [
    {
     "data": {
      "text/html": [
       "<div>\n",
       "<style scoped>\n",
       "    .dataframe tbody tr th:only-of-type {\n",
       "        vertical-align: middle;\n",
       "    }\n",
       "\n",
       "    .dataframe tbody tr th {\n",
       "        vertical-align: top;\n",
       "    }\n",
       "\n",
       "    .dataframe thead th {\n",
       "        text-align: right;\n",
       "    }\n",
       "</style>\n",
       "<table border=\"1\" class=\"dataframe\">\n",
       "  <thead>\n",
       "    <tr style=\"text-align: right;\">\n",
       "      <th></th>\n",
       "      <th>subj_idx</th>\n",
       "      <th>group_idx</th>\n",
       "      <th>turn_type</th>\n",
       "      <th>task_type</th>\n",
       "      <th>snr_type</th>\n",
       "      <th>trial_num</th>\n",
       "      <th>step_att</th>\n",
       "      <th>response</th>\n",
       "      <th>rt</th>\n",
       "      <th>step_unatnd</th>\n",
       "    </tr>\n",
       "  </thead>\n",
       "  <tbody>\n",
       "    <tr>\n",
       "      <th>0</th>\n",
       "      <td>55</td>\n",
       "      <td>Larynx</td>\n",
       "      <td>Left iTBS</td>\n",
       "      <td>Tone</td>\n",
       "      <td>Clear</td>\n",
       "      <td>1</td>\n",
       "      <td>3</td>\n",
       "      <td>1</td>\n",
       "      <td>1.083317</td>\n",
       "      <td>1</td>\n",
       "    </tr>\n",
       "    <tr>\n",
       "      <th>1</th>\n",
       "      <td>55</td>\n",
       "      <td>Larynx</td>\n",
       "      <td>Left iTBS</td>\n",
       "      <td>Tone</td>\n",
       "      <td>Clear</td>\n",
       "      <td>2</td>\n",
       "      <td>2</td>\n",
       "      <td>1</td>\n",
       "      <td>0.744397</td>\n",
       "      <td>1</td>\n",
       "    </tr>\n",
       "    <tr>\n",
       "      <th>2</th>\n",
       "      <td>55</td>\n",
       "      <td>Larynx</td>\n",
       "      <td>Left iTBS</td>\n",
       "      <td>Tone</td>\n",
       "      <td>Clear</td>\n",
       "      <td>3</td>\n",
       "      <td>2</td>\n",
       "      <td>1</td>\n",
       "      <td>0.732525</td>\n",
       "      <td>1</td>\n",
       "    </tr>\n",
       "    <tr>\n",
       "      <th>3</th>\n",
       "      <td>55</td>\n",
       "      <td>Larynx</td>\n",
       "      <td>Left iTBS</td>\n",
       "      <td>Tone</td>\n",
       "      <td>Clear</td>\n",
       "      <td>4</td>\n",
       "      <td>1</td>\n",
       "      <td>1</td>\n",
       "      <td>0.800199</td>\n",
       "      <td>1</td>\n",
       "    </tr>\n",
       "    <tr>\n",
       "      <th>4</th>\n",
       "      <td>55</td>\n",
       "      <td>Larynx</td>\n",
       "      <td>Left iTBS</td>\n",
       "      <td>Tone</td>\n",
       "      <td>Clear</td>\n",
       "      <td>5</td>\n",
       "      <td>2</td>\n",
       "      <td>1</td>\n",
       "      <td>0.753649</td>\n",
       "      <td>1</td>\n",
       "    </tr>\n",
       "    <tr>\n",
       "      <th>5</th>\n",
       "      <td>55</td>\n",
       "      <td>Larynx</td>\n",
       "      <td>Left iTBS</td>\n",
       "      <td>Tone</td>\n",
       "      <td>Clear</td>\n",
       "      <td>6</td>\n",
       "      <td>2</td>\n",
       "      <td>1</td>\n",
       "      <td>0.544652</td>\n",
       "      <td>1</td>\n",
       "    </tr>\n",
       "    <tr>\n",
       "      <th>6</th>\n",
       "      <td>55</td>\n",
       "      <td>Larynx</td>\n",
       "      <td>Left iTBS</td>\n",
       "      <td>Tone</td>\n",
       "      <td>Clear</td>\n",
       "      <td>7</td>\n",
       "      <td>1</td>\n",
       "      <td>1</td>\n",
       "      <td>0.621313</td>\n",
       "      <td>1</td>\n",
       "    </tr>\n",
       "    <tr>\n",
       "      <th>7</th>\n",
       "      <td>55</td>\n",
       "      <td>Larynx</td>\n",
       "      <td>Left iTBS</td>\n",
       "      <td>Tone</td>\n",
       "      <td>Clear</td>\n",
       "      <td>8</td>\n",
       "      <td>1</td>\n",
       "      <td>1</td>\n",
       "      <td>0.580819</td>\n",
       "      <td>1</td>\n",
       "    </tr>\n",
       "    <tr>\n",
       "      <th>8</th>\n",
       "      <td>55</td>\n",
       "      <td>Larynx</td>\n",
       "      <td>Left iTBS</td>\n",
       "      <td>Tone</td>\n",
       "      <td>Clear</td>\n",
       "      <td>9</td>\n",
       "      <td>1</td>\n",
       "      <td>0</td>\n",
       "      <td>-0.496794</td>\n",
       "      <td>1</td>\n",
       "    </tr>\n",
       "    <tr>\n",
       "      <th>9</th>\n",
       "      <td>55</td>\n",
       "      <td>Larynx</td>\n",
       "      <td>Left iTBS</td>\n",
       "      <td>Tone</td>\n",
       "      <td>Clear</td>\n",
       "      <td>10</td>\n",
       "      <td>3</td>\n",
       "      <td>1</td>\n",
       "      <td>0.863869</td>\n",
       "      <td>1</td>\n",
       "    </tr>\n",
       "  </tbody>\n",
       "</table>\n",
       "</div>"
      ],
      "text/plain": [
       "   subj_idx group_idx  turn_type task_type snr_type  trial_num  step_att  \\\n",
       "0        55    Larynx  Left iTBS      Tone    Clear          1         3   \n",
       "1        55    Larynx  Left iTBS      Tone    Clear          2         2   \n",
       "2        55    Larynx  Left iTBS      Tone    Clear          3         2   \n",
       "3        55    Larynx  Left iTBS      Tone    Clear          4         1   \n",
       "4        55    Larynx  Left iTBS      Tone    Clear          5         2   \n",
       "5        55    Larynx  Left iTBS      Tone    Clear          6         2   \n",
       "6        55    Larynx  Left iTBS      Tone    Clear          7         1   \n",
       "7        55    Larynx  Left iTBS      Tone    Clear          8         1   \n",
       "8        55    Larynx  Left iTBS      Tone    Clear          9         1   \n",
       "9        55    Larynx  Left iTBS      Tone    Clear         10         3   \n",
       "\n",
       "   response        rt  step_unatnd  \n",
       "0         1  1.083317            1  \n",
       "1         1  0.744397            1  \n",
       "2         1  0.732525            1  \n",
       "3         1  0.800199            1  \n",
       "4         1  0.753649            1  \n",
       "5         1  0.544652            1  \n",
       "6         1  0.621313            1  \n",
       "7         1  0.580819            1  \n",
       "8         0 -0.496794            1  \n",
       "9         1  0.863869            1  "
      ]
     },
     "execution_count": 2,
     "metadata": {},
     "output_type": "execute_result"
    }
   ],
   "source": [
    "data = hddm.load_csv('exp2_DDM.csv')\n",
    "data.at[data['step_att'].isin(['4']),'step_att']=2\n",
    "data.at[data['step_att'].isin(['5']),'step_att']=1\n",
    "data = hddm.utils.flip_errors(data)\n",
    "data.head(10)"
   ]
  },
  {
   "cell_type": "markdown",
   "metadata": {},
   "source": [
    "## right stim, consonant, noise"
   ]
  },
  {
   "cell_type": "markdown",
   "metadata": {},
   "source": [
    "### preparing data"
   ]
  },
  {
   "cell_type": "code",
   "execution_count": 3,
   "metadata": {},
   "outputs": [
    {
     "name": "stdout",
     "output_type": "stream",
     "text": [
      "       subj_idx group_idx   turn_type task_type snr_type  trial_num  step_att  \\\n",
      "2340         55    Larynx  Right cTBS      Cons    Noise          1         2   \n",
      "2341         55    Larynx  Right cTBS      Cons    Noise          2         3   \n",
      "2342         55    Larynx  Right cTBS      Cons    Noise          3         2   \n",
      "2343         55    Larynx  Right cTBS      Cons    Noise          4         1   \n",
      "2344         55    Larynx  Right cTBS      Cons    Noise          5         2   \n",
      "2345         55    Larynx  Right cTBS      Cons    Noise          6         1   \n",
      "2346         55    Larynx  Right cTBS      Cons    Noise          7         2   \n",
      "2347         55    Larynx  Right cTBS      Cons    Noise          8         2   \n",
      "2348         55    Larynx  Right cTBS      Cons    Noise          9         1   \n",
      "2349         55    Larynx  Right cTBS      Cons    Noise         10         3   \n",
      "2350         55    Larynx  Right cTBS      Cons    Noise         11         2   \n",
      "2351         55    Larynx  Right cTBS      Cons    Noise         12         1   \n",
      "2352         55    Larynx  Right cTBS      Cons    Noise         13         1   \n",
      "2353         55    Larynx  Right cTBS      Cons    Noise         14         3   \n",
      "2354         55    Larynx  Right cTBS      Cons    Noise         15         3   \n",
      "2355         55    Larynx  Right cTBS      Cons    Noise         16         1   \n",
      "2356         55    Larynx  Right cTBS      Cons    Noise         17         2   \n",
      "2357         55    Larynx  Right cTBS      Cons    Noise         18         2   \n",
      "2358         55    Larynx  Right cTBS      Cons    Noise         19         3   \n",
      "2359         55    Larynx  Right cTBS      Cons    Noise         20         2   \n",
      "2360         55    Larynx  Right cTBS      Cons    Noise         21         3   \n",
      "2361         55    Larynx  Right cTBS      Cons    Noise         22         2   \n",
      "2362         55    Larynx  Right cTBS      Cons    Noise         23         1   \n",
      "2363         55    Larynx  Right cTBS      Cons    Noise         24         3   \n",
      "2364         55    Larynx  Right cTBS      Cons    Noise         25         2   \n",
      "2365         55    Larynx  Right cTBS      Cons    Noise         26         3   \n",
      "2366         55    Larynx  Right cTBS      Cons    Noise         27         2   \n",
      "2367         55    Larynx  Right cTBS      Cons    Noise         28         1   \n",
      "2368         55    Larynx  Right cTBS      Cons    Noise         29         1   \n",
      "2369         55    Larynx  Right cTBS      Cons    Noise         30         2   \n",
      "...         ...       ...         ...       ...      ...        ...       ...   \n",
      "78594       253    Larynx        Sham      Cons    Noise        127         2   \n",
      "78595       253    Larynx        Sham      Cons    Noise        128         1   \n",
      "78596       253    Larynx        Sham      Cons    Noise        129         3   \n",
      "78597       253    Larynx        Sham      Cons    Noise        130         1   \n",
      "78598       253    Larynx        Sham      Cons    Noise        131         2   \n",
      "78599       253    Larynx        Sham      Cons    Noise        132         2   \n",
      "78600       253    Larynx        Sham      Cons    Noise        133         3   \n",
      "78601       253    Larynx        Sham      Cons    Noise        134         2   \n",
      "78602       253    Larynx        Sham      Cons    Noise        135         1   \n",
      "78603       253    Larynx        Sham      Cons    Noise        136         3   \n",
      "78604       253    Larynx        Sham      Cons    Noise        137         3   \n",
      "78605       253    Larynx        Sham      Cons    Noise        138         2   \n",
      "78606       253    Larynx        Sham      Cons    Noise        139         1   \n",
      "78607       253    Larynx        Sham      Cons    Noise        140         2   \n",
      "78608       253    Larynx        Sham      Cons    Noise        141         1   \n",
      "78609       253    Larynx        Sham      Cons    Noise        142         3   \n",
      "78610       253    Larynx        Sham      Cons    Noise        143         2   \n",
      "78611       253    Larynx        Sham      Cons    Noise        144         2   \n",
      "78612       253    Larynx        Sham      Cons    Noise        145         1   \n",
      "78613       253    Larynx        Sham      Cons    Noise        146         2   \n",
      "78614       253    Larynx        Sham      Cons    Noise        147         3   \n",
      "78615       253    Larynx        Sham      Cons    Noise        148         1   \n",
      "78616       253    Larynx        Sham      Cons    Noise        149         2   \n",
      "78617       253    Larynx        Sham      Cons    Noise        150         1   \n",
      "78618       253    Larynx        Sham      Cons    Noise        151         3   \n",
      "78619       253    Larynx        Sham      Cons    Noise        152         2   \n",
      "78620       253    Larynx        Sham      Cons    Noise        153         3   \n",
      "78621       253    Larynx        Sham      Cons    Noise        154         3   \n",
      "78622       253    Larynx        Sham      Cons    Noise        155         1   \n",
      "78623       253    Larynx        Sham      Cons    Noise        156         1   \n",
      "\n",
      "       response        rt  step_unatnd  \n",
      "2340          1  1.567203            1  \n",
      "2341          1  0.865902            1  \n",
      "2342          0 -0.807406            1  \n",
      "2343          0 -0.645324            1  \n",
      "2344          1  0.850723            1  \n",
      "2345          0 -0.731252            1  \n",
      "2346          1  0.772891            1  \n",
      "2347          1  0.744160            1  \n",
      "2348          0 -0.559180            1  \n",
      "2349          1  0.491038            1  \n",
      "2350          1  0.510590            1  \n",
      "2351          1  0.572342            1  \n",
      "2352          1  0.770224            1  \n",
      "2353          1  0.512002            1  \n",
      "2354          0 -0.646732            1  \n",
      "2355          1  0.784181            1  \n",
      "2356          1  0.576588            1  \n",
      "2357          1  0.590047            1  \n",
      "2358          1  0.567430            1  \n",
      "2359          1  0.784486            1  \n",
      "2360          1  0.508694            1  \n",
      "2361          1  0.537473            1  \n",
      "2362          0 -2.154268            1  \n",
      "2363          1  2.418137            1  \n",
      "2364          1  0.760572            1  \n",
      "2365          1  0.850652            1  \n",
      "2366          1  0.547626            1  \n",
      "2367          1  0.576865            1  \n",
      "2368          1  0.670758            1  \n",
      "2369          1  1.682267            1  \n",
      "...         ...       ...          ...  \n",
      "78594         1  0.632713            1  \n",
      "78595         0 -0.542096            1  \n",
      "78596         0 -0.473329            1  \n",
      "78597         1  0.559088            1  \n",
      "78598         1  0.507009            1  \n",
      "78599         0 -0.535296            1  \n",
      "78600         1  0.579970            1  \n",
      "78601         0 -0.588824            1  \n",
      "78602         1  0.643126            1  \n",
      "78603         0 -0.439178            1  \n",
      "78604         1  0.654868            1  \n",
      "78605         0 -0.682654            1  \n",
      "78606         0 -0.954759            1  \n",
      "78607         0 -0.667818            1  \n",
      "78608         0 -0.699520            1  \n",
      "78609         1  0.606647            1  \n",
      "78610         1  0.559231            1  \n",
      "78611         0 -0.560831            1  \n",
      "78612         0 -0.593291            1  \n",
      "78613         0 -0.658336            1  \n",
      "78614         1  0.605256            1  \n",
      "78615         1  0.606217            1  \n",
      "78616         0 -0.585072            1  \n",
      "78617         1  0.742196            1  \n",
      "78618         1  0.571885            1  \n",
      "78619         0 -0.605274            1  \n",
      "78620         1  0.615909            1  \n",
      "78621         1  0.447682            1  \n",
      "78622         1  0.576298            1  \n",
      "78623         1  0.850333            1  \n",
      "\n",
      "[7800 rows x 10 columns]\n"
     ]
    }
   ],
   "source": [
    "D_R=data.loc[data['turn_type'].isin(['Right cTBS','Sham'])]\n",
    "D_R_C=D_R.loc[D_R['task_type']=='Cons']\n",
    "D_R_C_N=D_R_C.loc[D_R_C['snr_type']=='Noise']\n",
    "print(D_R_C_N)\n",
    "D_R_C_N.to_csv('Exp2_D_R_C_N_cTBS.csv')"
   ]
  },
  {
   "cell_type": "markdown",
   "metadata": {},
   "source": [
    "### baseline model"
   ]
  },
  {
   "cell_type": "code",
   "execution_count": 4,
   "metadata": {},
   "outputs": [
    {
     "name": "stdout",
     "output_type": "stream",
     "text": [
      "Adding these covariates:\n",
      "['a_Intercept', \"a_C(turn_type, Treatment('Sham'))[T.Right cTBS]\"]\n",
      "Adding these covariates:\n",
      "['v_Intercept', \"v_C(turn_type, Treatment('Sham'))[T.Right cTBS]\"]\n",
      "Adding these covariates:\n",
      "['z_Intercept', \"z_C(turn_type, Treatment('Sham'))[T.Right cTBS]\"]\n"
     ]
    },
    {
     "name": "stderr",
     "output_type": "stream",
     "text": [
      "/home/bsliang/miniconda3/envs/bsliang_DDM_27/lib/python2.7/site-packages/scipy/optimize/optimize.py:1934: RuntimeWarning: invalid value encountered in double_scalars\n",
      "  tmp2 = (x - v) * (fx - fw)\n"
     ]
    },
    {
     "name": "stdout",
     "output_type": "stream",
     "text": [
      " [-----------------100%-----------------] 2001 of 2000 complete in 3829.3 sec"
     ]
    },
    {
     "data": {
      "text/plain": [
       "<pymc.MCMC.MCMC at 0x7fd3b009e950>"
      ]
     },
     "execution_count": 4,
     "metadata": {},
     "output_type": "execute_result"
    }
   ],
   "source": [
    "a_reg = {'model': \"a ~ 1 + C(turn_type, Treatment('Sham'))\",'link_func': lambda x: x}\n",
    "v_reg = {'model': \"v ~ 1 + C(turn_type, Treatment('Sham'))\",'link_func': lambda x: x}\n",
    "z_reg = {'model': \"z ~ 1 + C(turn_type, Treatment('Sham'))\",'link_func': lambda x: x}\n",
    "reg_descr = [a_reg,v_reg,z_reg]\n",
    "D_R_C_N_bsl = hddm.HDDMRegressor(D_R_C_N, reg_descr, include='z')\n",
    "D_R_C_N_bsl.find_starting_values()\n",
    "D_R_C_N_bsl.sample(2000, burn=20, dbname='traces.db', db='pickle')"
   ]
  },
  {
   "cell_type": "markdown",
   "metadata": {},
   "source": [
    "### model 1: a only"
   ]
  },
  {
   "cell_type": "code",
   "execution_count": 5,
   "metadata": {},
   "outputs": [
    {
     "name": "stdout",
     "output_type": "stream",
     "text": [
      "Adding these covariates:\n",
      "['a_Intercept', \"a_step_att:C(turn_type, Treatment('Sham'))[Right cTBS]\", \"a_step_att:C(turn_type, Treatment('Sham'))[Sham]\"]\n",
      "Adding these covariates:\n",
      "['v_Intercept', \"v_C(turn_type, Treatment('Sham'))[T.Right cTBS]\"]\n",
      "Adding these covariates:\n",
      "['z_Intercept', \"z_C(turn_type, Treatment('Sham'))[T.Right cTBS]\"]\n",
      " [-----------------100%-----------------] 2001 of 2000 complete in 4468.2 sec"
     ]
    },
    {
     "data": {
      "text/plain": [
       "<pymc.MCMC.MCMC at 0x7fd390091f10>"
      ]
     },
     "execution_count": 5,
     "metadata": {},
     "output_type": "execute_result"
    }
   ],
   "source": [
    "a_reg = {'model': \"a ~ 1 + step_att:C(turn_type, Treatment('Sham'))\",'link_func': lambda x: x}\n",
    "v_reg = {'model': \"v ~ 1 + C(turn_type, Treatment('Sham'))\",'link_func': lambda x: x}\n",
    "z_reg = {'model': \"z ~ 1 + C(turn_type, Treatment('Sham'))\",'link_func': lambda x: x}\n",
    "reg_descr = [a_reg,v_reg,z_reg]\n",
    "D_R_C_N_am = hddm.HDDMRegressor(D_R_C_N, reg_descr, include='z')\n",
    "D_R_C_N_am.find_starting_values()\n",
    "D_R_C_N_am.sample(2000, burn=20, dbname='traces.db', db='pickle')"
   ]
  },
  {
   "cell_type": "markdown",
   "metadata": {},
   "source": [
    "### model 2: v only"
   ]
  },
  {
   "cell_type": "code",
   "execution_count": 6,
   "metadata": {},
   "outputs": [
    {
     "name": "stdout",
     "output_type": "stream",
     "text": [
      "Adding these covariates:\n",
      "['a_Intercept', \"a_C(turn_type, Treatment('Sham'))[T.Right cTBS]\"]\n",
      "Adding these covariates:\n",
      "['v_Intercept', \"v_step_att:C(turn_type, Treatment('Sham'))[Right cTBS]\", \"v_step_att:C(turn_type, Treatment('Sham'))[Sham]\"]\n",
      "Adding these covariates:\n",
      "['z_Intercept', \"z_C(turn_type, Treatment('Sham'))[T.Right cTBS]\"]\n",
      " [-----------------100%-----------------] 2001 of 2000 complete in 4266.4 sec"
     ]
    },
    {
     "data": {
      "text/plain": [
       "<pymc.MCMC.MCMC at 0x7fd3902bd110>"
      ]
     },
     "execution_count": 6,
     "metadata": {},
     "output_type": "execute_result"
    }
   ],
   "source": [
    "a_reg = {'model': \"a ~ 1 + C(turn_type, Treatment('Sham'))\",'link_func': lambda x: x}\n",
    "v_reg = {'model': \"v ~ 1 + step_att:C(turn_type, Treatment('Sham'))\",'link_func': lambda x: x}\n",
    "z_reg = {'model': \"z ~ 1 + C(turn_type, Treatment('Sham'))\",'link_func': lambda x: x}\n",
    "reg_descr = [a_reg,v_reg,z_reg]\n",
    "D_R_C_N_vm = hddm.HDDMRegressor(D_R_C_N, reg_descr, include='z')\n",
    "D_R_C_N_vm.find_starting_values()\n",
    "D_R_C_N_vm.sample(2000, burn=20, dbname='traces.db', db='pickle')"
   ]
  },
  {
   "cell_type": "markdown",
   "metadata": {},
   "source": [
    "### model 3: z only"
   ]
  },
  {
   "cell_type": "code",
   "execution_count": 7,
   "metadata": {},
   "outputs": [
    {
     "name": "stdout",
     "output_type": "stream",
     "text": [
      "Adding these covariates:\n",
      "['a_Intercept', \"a_C(turn_type, Treatment('Sham'))[T.Right cTBS]\"]\n",
      "Adding these covariates:\n",
      "['v_Intercept', \"v_C(turn_type, Treatment('Sham'))[T.Right cTBS]\"]\n",
      "Adding these covariates:\n",
      "['z_Intercept', \"z_step_att:C(turn_type, Treatment('Sham'))[Right cTBS]\", \"z_step_att:C(turn_type, Treatment('Sham'))[Sham]\"]\n",
      " [-----------------100%-----------------] 2001 of 2000 complete in 4478.4 sec"
     ]
    },
    {
     "data": {
      "text/plain": [
       "<pymc.MCMC.MCMC at 0x7fd324699590>"
      ]
     },
     "execution_count": 7,
     "metadata": {},
     "output_type": "execute_result"
    }
   ],
   "source": [
    "a_reg = {'model': \"a ~ 1 + C(turn_type, Treatment('Sham'))\",'link_func': lambda x: x}\n",
    "v_reg = {'model': \"v ~ 1 + C(turn_type, Treatment('Sham'))\",'link_func': lambda x: x}\n",
    "z_reg = {'model': \"z ~ 1 + step_att:C(turn_type, Treatment('Sham'))\",'link_func': lambda x: x}\n",
    "reg_descr = [a_reg,v_reg,z_reg]\n",
    "D_R_C_N_zm = hddm.HDDMRegressor(D_R_C_N, reg_descr, include='z')\n",
    "D_R_C_N_zm.find_starting_values()\n",
    "D_R_C_N_zm.sample(2000, burn=20, dbname='traces.db', db='pickle')"
   ]
  },
  {
   "cell_type": "markdown",
   "metadata": {},
   "source": [
    "### model 4: a + v"
   ]
  },
  {
   "cell_type": "code",
   "execution_count": 8,
   "metadata": {},
   "outputs": [
    {
     "name": "stdout",
     "output_type": "stream",
     "text": [
      "Adding these covariates:\n",
      "['a_Intercept', \"a_step_att:C(turn_type, Treatment('Sham'))[Right cTBS]\", \"a_step_att:C(turn_type, Treatment('Sham'))[Sham]\"]\n",
      "Adding these covariates:\n",
      "['v_Intercept', \"v_step_att:C(turn_type, Treatment('Sham'))[Right cTBS]\", \"v_step_att:C(turn_type, Treatment('Sham'))[Sham]\"]\n",
      "Adding these covariates:\n",
      "['z_Intercept', \"z_C(turn_type, Treatment('Sham'))[T.Right cTBS]\"]\n",
      " [-----------------100%-----------------] 2001 of 2000 complete in 4775.4 sec"
     ]
    },
    {
     "data": {
      "text/plain": [
       "<pymc.MCMC.MCMC at 0x7fd30c38ee90>"
      ]
     },
     "execution_count": 8,
     "metadata": {},
     "output_type": "execute_result"
    }
   ],
   "source": [
    "a_reg = {'model': \"a ~ 1 + step_att:C(turn_type, Treatment('Sham'))\",'link_func': lambda x: x}\n",
    "v_reg = {'model': \"v ~ 1 + step_att:C(turn_type, Treatment('Sham'))\",'link_func': lambda x: x}\n",
    "z_reg = {'model': \"z ~ 1 + C(turn_type, Treatment('Sham'))\",'link_func': lambda x: x}\n",
    "reg_descr = [a_reg,v_reg,z_reg]\n",
    "D_R_C_N_avm = hddm.HDDMRegressor(D_R_C_N, reg_descr, include='z')\n",
    "D_R_C_N_avm.find_starting_values()\n",
    "D_R_C_N_avm.sample(2000, burn=20, dbname='traces.db', db='pickle')"
   ]
  },
  {
   "cell_type": "markdown",
   "metadata": {},
   "source": [
    "### model 5: a + z"
   ]
  },
  {
   "cell_type": "code",
   "execution_count": 9,
   "metadata": {},
   "outputs": [
    {
     "name": "stdout",
     "output_type": "stream",
     "text": [
      "Adding these covariates:\n",
      "['a_Intercept', \"a_step_att:C(turn_type, Treatment('Sham'))[Right cTBS]\", \"a_step_att:C(turn_type, Treatment('Sham'))[Sham]\"]\n",
      "Adding these covariates:\n",
      "['v_Intercept', \"v_C(turn_type, Treatment('Sham'))[T.Right cTBS]\"]\n",
      "Adding these covariates:\n",
      "['z_Intercept', \"z_step_att:C(turn_type, Treatment('Sham'))[Right cTBS]\", \"z_step_att:C(turn_type, Treatment('Sham'))[Sham]\"]\n",
      " [-----------------100%-----------------] 2001 of 2000 complete in 5019.1 sec"
     ]
    },
    {
     "data": {
      "text/plain": [
       "<pymc.MCMC.MCMC at 0x7fd30c33e410>"
      ]
     },
     "execution_count": 9,
     "metadata": {},
     "output_type": "execute_result"
    }
   ],
   "source": [
    "a_reg = {'model': \"a ~ 1 + step_att:C(turn_type, Treatment('Sham'))\",'link_func': lambda x: x}\n",
    "v_reg = {'model': \"v ~ 1 + C(turn_type, Treatment('Sham'))\",'link_func': lambda x: x}\n",
    "z_reg = {'model': \"z ~ 1 + step_att:C(turn_type, Treatment('Sham'))\",'link_func': lambda x: x}\n",
    "reg_descr = [a_reg,v_reg,z_reg]\n",
    "D_R_C_N_azm = hddm.HDDMRegressor(D_R_C_N, reg_descr, include='z')\n",
    "D_R_C_N_azm.find_starting_values()\n",
    "D_R_C_N_azm.sample(2000, burn=20, dbname='traces.db', db='pickle')"
   ]
  },
  {
   "cell_type": "markdown",
   "metadata": {},
   "source": [
    "### model 6: v + z"
   ]
  },
  {
   "cell_type": "code",
   "execution_count": 10,
   "metadata": {},
   "outputs": [
    {
     "name": "stdout",
     "output_type": "stream",
     "text": [
      "Adding these covariates:\n",
      "['a_Intercept', \"a_C(turn_type, Treatment('Sham'))[T.Right cTBS]\"]\n",
      "Adding these covariates:\n",
      "['v_Intercept', \"v_step_att:C(turn_type, Treatment('Sham'))[Right cTBS]\", \"v_step_att:C(turn_type, Treatment('Sham'))[Sham]\"]\n",
      "Adding these covariates:\n",
      "['z_Intercept', \"z_step_att:C(turn_type, Treatment('Sham'))[Right cTBS]\", \"z_step_att:C(turn_type, Treatment('Sham'))[Sham]\"]\n",
      " [-----------------100%-----------------] 2001 of 2000 complete in 4847.5 sec"
     ]
    },
    {
     "data": {
      "text/plain": [
       "<pymc.MCMC.MCMC at 0x7fd2e9d7bd10>"
      ]
     },
     "execution_count": 10,
     "metadata": {},
     "output_type": "execute_result"
    }
   ],
   "source": [
    "a_reg = {'model': \"a ~ 1 + C(turn_type, Treatment('Sham'))\",'link_func': lambda x: x}\n",
    "v_reg = {'model': \"v ~ 1 + step_att:C(turn_type, Treatment('Sham'))\",'link_func': lambda x: x}\n",
    "z_reg = {'model': \"z ~ 1 + step_att:C(turn_type, Treatment('Sham'))\",'link_func': lambda x: x}\n",
    "reg_descr = [a_reg,v_reg,z_reg]\n",
    "D_R_C_N_vzm = hddm.HDDMRegressor(D_R_C_N, reg_descr, include='z')\n",
    "D_R_C_N_vzm.find_starting_values()\n",
    "D_R_C_N_vzm.sample(2000, burn=20, dbname='traces.db', db='pickle')"
   ]
  },
  {
   "cell_type": "markdown",
   "metadata": {},
   "source": [
    "### model 7: a + v + z"
   ]
  },
  {
   "cell_type": "code",
   "execution_count": 11,
   "metadata": {},
   "outputs": [
    {
     "name": "stdout",
     "output_type": "stream",
     "text": [
      "Adding these covariates:\n",
      "['a_Intercept', \"a_step_att:C(turn_type, Treatment('Sham'))[Right cTBS]\", \"a_step_att:C(turn_type, Treatment('Sham'))[Sham]\"]\n",
      "Adding these covariates:\n",
      "['v_Intercept', \"v_step_att:C(turn_type, Treatment('Sham'))[Right cTBS]\", \"v_step_att:C(turn_type, Treatment('Sham'))[Sham]\"]\n",
      "Adding these covariates:\n",
      "['z_Intercept', \"z_step_att:C(turn_type, Treatment('Sham'))[Right cTBS]\", \"z_step_att:C(turn_type, Treatment('Sham'))[Sham]\"]\n",
      " [-----------------100%-----------------] 2001 of 2000 complete in 5442.6 secWARNING: Will not save custom link functions.\n",
      "WARNING: Will not save custom link functions.\n",
      "WARNING: Will not save custom link functions.\n"
     ]
    }
   ],
   "source": [
    "a_reg = {'model': \"a ~ 1 + step_att:C(turn_type, Treatment('Sham'))\",'link_func': lambda x: x}\n",
    "v_reg = {'model': \"v ~ 1 + step_att:C(turn_type, Treatment('Sham'))\",'link_func': lambda x: x}\n",
    "z_reg = {'model': \"z ~ 1 + step_att:C(turn_type, Treatment('Sham'))\",'link_func': lambda x: x}\n",
    "reg_descr = [a_reg,v_reg,z_reg]\n",
    "D_R_C_N_fm = hddm.HDDMRegressor(D_R_C_N, reg_descr, include='z')\n",
    "D_R_C_N_fm.find_starting_values()\n",
    "D_R_C_N_fm.sample(2000, burn=20, dbname='traces.db', db='pickle')\n",
    "D_R_C_N_fm.save('D_R_C_N_fm')"
   ]
  },
  {
   "cell_type": "markdown",
   "metadata": {},
   "source": [
    "### Model comparison"
   ]
  },
  {
   "cell_type": "code",
   "execution_count": 22,
   "metadata": {},
   "outputs": [
    {
     "name": "stdout",
     "output_type": "stream",
     "text": [
      "baseline model DIC: 6275.678352\n",
      "a model DIC: 6261.037120\n",
      "v model DIC: 6233.939367\n",
      "z model DIC: 6264.875601\n",
      "av model DIC: 6216.572215\n",
      "az model DIC: 6246.855950\n",
      "vz model DIC: 6234.083418\n",
      "full model DIC: 6217.551057\n"
     ]
    },
    {
     "data": {
      "image/png": "[encoded data removed]",
      "text/plain": [
       "<Figure size 130.394x63.7795 with 1 Axes>"
      ]
     },
     "metadata": {
      "needs_background": "light"
     },
     "output_type": "display_data"
    }
   ],
   "source": [
    "print(\"baseline model DIC: %f\" % D_R_C_N_bsl.dic)\n",
    "print(\"a model DIC: %f\" % D_R_C_N_am.dic)\n",
    "print(\"v model DIC: %f\" % D_R_C_N_vm.dic)\n",
    "print(\"z model DIC: %f\" % D_R_C_N_zm.dic)\n",
    "print(\"av model DIC: %f\" % D_R_C_N_avm.dic)\n",
    "print(\"az model DIC: %f\" % D_R_C_N_azm.dic)\n",
    "print(\"vz model DIC: %f\" % D_R_C_N_vzm.dic)\n",
    "print(\"full model DIC: %f\" % D_R_C_N_fm.dic)\n",
    "\n",
    "fig, ax = plt.subplots()\n",
    "\n",
    "fruits = ['baseline', 'a', 'v', 'z', 'av', 'az', 'vz','full']\n",
    "counts = [D_R_C_N_bsl.dic, D_R_C_N_am.dic, D_R_C_N_vm.dic, D_R_C_N_zm.dic,D_R_C_N_avm.dic,D_R_C_N_azm.dic,D_R_C_N_vzm.dic,D_R_C_N_fm.dic]\n",
    "\n",
    "D_name='D_R_C_N'\n",
    "\n",
    "ax.bar(fruits, counts,color=[197./255,158./255,226./255],edgecolor='black',linewidth=0.5)\n",
    "\n",
    "plt.rcParams['savefig.dpi']=300\n",
    "plt.rcParams['axes.linewidth']=0.5\n",
    "\n",
    "#ax.set_ylabel('DIC value')\n",
    "#ax.set_title('TBS: Left cTBS consonant quiet')\n",
    "ax.set_ylim([6200,6300])\n",
    "ytick_plot=range(6200,6300,15)\n",
    "ytick_plot.append(6300)\n",
    "ax.set_yticks(ytick_plot)\n",
    "ax.spines['right'].set_visible(False)\n",
    "ax.spines['top'].set_visible(False)\n",
    "\n",
    "fig.set_size_inches(4.6*cm,2.25*cm)\n",
    "ax.tick_params('both',which='major',direction='in',width=0.5,length=2)\n",
    "plt.rcParams['font.size']=5\n",
    "plt.rcParams['font.family']='Arial'\n",
    "plt.savefig(D_name+'_interact_M_compare.pdf',bbox_inches = 'tight',transparent=True)\n",
    "plt.show()"
   ]
  },
  {
   "cell_type": "markdown",
   "metadata": {},
   "source": [
    "### Plotting"
   ]
  },
  {
   "cell_type": "code",
   "execution_count": 13,
   "metadata": {},
   "outputs": [
    {
     "data": {
      "image/png": "[encoded data removed]",
      "text/plain": [
       "<Figure size 432x288 with 1 Axes>"
      ]
     },
     "metadata": {
      "needs_background": "light"
     },
     "output_type": "display_data"
    },
    {
     "data": {
      "image/png": "[encoded data removed]",
      "text/plain": [
       "<Figure size 432x288 with 1 Axes>"
      ]
     },
     "metadata": {
      "needs_background": "light"
     },
     "output_type": "display_data"
    },
    {
     "data": {
      "image/png": "[encoded data removed]",
      "text/plain": [
       "<Figure size 432x288 with 1 Axes>"
      ]
     },
     "metadata": {
      "needs_background": "light"
     },
     "output_type": "display_data"
    },
    {
     "data": {
      "image/png": "[encoded data removed]",
      "text/plain": [
       "<Figure size 288x288 with 1 Axes>"
      ]
     },
     "metadata": {
      "needs_background": "light"
     },
     "output_type": "display_data"
    },
    {
     "name": "stdout",
     "output_type": "stream",
     "text": [
      "('P(a > Sham) = ', 1.0)\n",
      "('P(v > Sham) = ', 1.0)\n",
      "('P(z > Sham) = ', 0.09292929292929293)\n"
     ]
    }
   ],
   "source": [
    "a_Intercept,a_cTBS = D_R_C_N_fm.nodes_db.loc[[\"a_Intercept\",\"a_step_att:C(turn_type, Treatment('Sham'))[Right cTBS]\"], 'node']\n",
    "hddm.analyze.plot_posterior_nodes([a_Intercept,a_cTBS])\n",
    "plt.xlabel('boundary')\n",
    "plt.ylabel('Posterior probability')\n",
    "plt.title('Full model')\n",
    "\n",
    "v_Intercept,v_cTBS = D_R_C_N_fm.nodes_db.loc[[\"v_Intercept\",\"v_step_att:C(turn_type, Treatment('Sham'))[Right cTBS]\"], 'node']\n",
    "hddm.analyze.plot_posterior_nodes([v_Intercept,v_cTBS])\n",
    "plt.xlabel('drift-rate')\n",
    "plt.ylabel('Posterior probability')\n",
    "plt.title('Full model')\n",
    "\n",
    "z_Intercept,z_cTBS = D_R_C_N_fm.nodes_db.loc[[\"z_Intercept\",\"z_step_att:C(turn_type, Treatment('Sham'))[Right cTBS]\"], 'node']\n",
    "hddm.analyze.plot_posterior_nodes([z_Intercept,z_cTBS])\n",
    "plt.xlabel('starting point')\n",
    "plt.ylabel('Posterior probability')\n",
    "plt.title('Full model')\n",
    "\n",
    "\n",
    "fig, ax = plt.subplots()\n",
    "fig.set_size_inches(4,4)\n",
    "\n",
    "para_tag=['AMBstep:a','AMBstep:v','AMBstep:z']\n",
    "counts = [a_cTBS.trace()/(max(a_cTBS.trace())-min(a_cTBS.trace())),v_cTBS.trace()/(max(v_cTBS.trace())-min(v_cTBS.trace())),z_cTBS.trace()/(max(z_cTBS.trace())-min(z_cTBS.trace()))]\n",
    "\n",
    "ax.axhline(y = 0, color =\"green\", linestyle =\"--\")\n",
    "ax.violinplot(counts)\n",
    "ax.set_xticks([1,2,3])\n",
    "ax.set_xticklabels(para_tag)\n",
    "ax.set_ylim([-4,4])\n",
    "ax.set_title('Full model: Right cTBS consonant noise')\n",
    "ax.set_ylabel('Regression coef (normalized)')\n",
    "ax.spines['right'].set_visible(False)\n",
    "ax.spines['top'].set_visible(False)\n",
    "\n",
    "plt.show()\n",
    "\n",
    "print(\"P(a > Sham) = \", (a_cTBS.trace() > 0).mean())\n",
    "print(\"P(v > Sham) = \", (v_cTBS.trace() > 0).mean())\n",
    "print(\"P(z > Sham) = \", (z_cTBS.trace() > 0).mean())"
   ]
  },
  {
   "cell_type": "markdown",
   "metadata": {},
   "source": [
    "### check full model simulation prediction accuracy"
   ]
  },
  {
   "cell_type": "markdown",
   "metadata": {},
   "source": [
    "#### fit the full model"
   ]
  },
  {
   "cell_type": "code",
   "execution_count": 14,
   "metadata": {},
   "outputs": [
    {
     "name": "stdout",
     "output_type": "stream",
     "text": [
      "Adding these covariates:\n",
      "['a_Intercept', \"a_step_att:C(turn_type, Treatment('Sham'))[Right cTBS]\", \"a_step_att:C(turn_type, Treatment('Sham'))[Sham]\"]\n",
      "Adding these covariates:\n",
      "['v_Intercept', \"v_step_att:C(turn_type, Treatment('Sham'))[Right cTBS]\", \"v_step_att:C(turn_type, Treatment('Sham'))[Sham]\"]\n",
      "Adding these covariates:\n",
      "['z_Intercept', \"z_step_att:C(turn_type, Treatment('Sham'))[Right cTBS]\", \"z_step_att:C(turn_type, Treatment('Sham'))[Sham]\"]\n",
      " [-----------------100%-----------------] 2001 of 2000 complete in 5452.4 sec"
     ]
    },
    {
     "data": {
      "text/plain": [
       "<pymc.MCMC.MCMC at 0x7fd3246310d0>"
      ]
     },
     "execution_count": 14,
     "metadata": {},
     "output_type": "execute_result"
    }
   ],
   "source": [
    "fm_data_2=D_R_C_N\n",
    "fm_data_2.reset_index(inplace = True, drop = True)\n",
    "a_reg = {'model': \"a ~ 1 + step_att:C(turn_type, Treatment('Sham'))\",'link_func': lambda x: x}\n",
    "v_reg = {'model': \"v ~ 1 + step_att:C(turn_type, Treatment('Sham'))\",'link_func': lambda x: x}\n",
    "z_reg = {'model': \"z ~ 1 + step_att:C(turn_type, Treatment('Sham'))\",'link_func': lambda x: x}\n",
    "reg_descr = [a_reg,v_reg,z_reg]\n",
    "fm_2 = hddm.HDDMRegressor(fm_data_2, reg_descr, include='z')\n",
    "fm_2.find_starting_values()\n",
    "fm_2.sample(2000, burn=20, dbname='traces.db', db='pickle')"
   ]
  },
  {
   "cell_type": "markdown",
   "metadata": {},
   "source": [
    "#### predict data from simulated data derived from full model"
   ]
  },
  {
   "cell_type": "code",
   "execution_count": 15,
   "metadata": {},
   "outputs": [
    {
     "name": "stdout",
     "output_type": "stream",
     "text": [
      " [-------------------112%-------------------] 28 of 25 complete in 23780.6 sec"
     ]
    },
    {
     "data": {
      "text/html": [
       "<div>\n",
       "<style scoped>\n",
       "    .dataframe tbody tr th:only-of-type {\n",
       "        vertical-align: middle;\n",
       "    }\n",
       "\n",
       "    .dataframe tbody tr th {\n",
       "        vertical-align: top;\n",
       "    }\n",
       "\n",
       "    .dataframe thead th {\n",
       "        text-align: right;\n",
       "    }\n",
       "</style>\n",
       "<table border=\"1\" class=\"dataframe\">\n",
       "  <thead>\n",
       "    <tr style=\"text-align: right;\">\n",
       "      <th></th>\n",
       "      <th>observed</th>\n",
       "      <th>mean</th>\n",
       "      <th>std</th>\n",
       "      <th>SEM</th>\n",
       "      <th>MSE</th>\n",
       "      <th>credible</th>\n",
       "      <th>quantile</th>\n",
       "      <th>mahalanobis</th>\n",
       "    </tr>\n",
       "    <tr>\n",
       "      <th>stat</th>\n",
       "      <th></th>\n",
       "      <th></th>\n",
       "      <th></th>\n",
       "      <th></th>\n",
       "      <th></th>\n",
       "      <th></th>\n",
       "      <th></th>\n",
       "      <th></th>\n",
       "    </tr>\n",
       "  </thead>\n",
       "  <tbody>\n",
       "    <tr>\n",
       "      <th>accuracy</th>\n",
       "      <td>0.545256</td>\n",
       "      <td>0.547026</td>\n",
       "      <td>0.180630</td>\n",
       "      <td>0.000003</td>\n",
       "      <td>0.032630</td>\n",
       "      <td>True</td>\n",
       "      <td>54.720001</td>\n",
       "      <td>0.009799</td>\n",
       "    </tr>\n",
       "    <tr>\n",
       "      <th>mean_ub</th>\n",
       "      <td>0.695461</td>\n",
       "      <td>0.726971</td>\n",
       "      <td>0.131484</td>\n",
       "      <td>0.000993</td>\n",
       "      <td>0.018281</td>\n",
       "      <td>True</td>\n",
       "      <td>50.104000</td>\n",
       "      <td>0.239652</td>\n",
       "    </tr>\n",
       "    <tr>\n",
       "      <th>std_ub</th>\n",
       "      <td>0.266526</td>\n",
       "      <td>0.267890</td>\n",
       "      <td>0.084617</td>\n",
       "      <td>0.000002</td>\n",
       "      <td>0.007162</td>\n",
       "      <td>True</td>\n",
       "      <td>55.208000</td>\n",
       "      <td>0.016121</td>\n",
       "    </tr>\n",
       "    <tr>\n",
       "      <th>10q_ub</th>\n",
       "      <td>0.462346</td>\n",
       "      <td>0.487377</td>\n",
       "      <td>0.090732</td>\n",
       "      <td>0.000627</td>\n",
       "      <td>0.008859</td>\n",
       "      <td>True</td>\n",
       "      <td>43.624001</td>\n",
       "      <td>0.275872</td>\n",
       "    </tr>\n",
       "    <tr>\n",
       "      <th>30q_ub</th>\n",
       "      <td>0.554259</td>\n",
       "      <td>0.557537</td>\n",
       "      <td>0.099423</td>\n",
       "      <td>0.000011</td>\n",
       "      <td>0.009896</td>\n",
       "      <td>True</td>\n",
       "      <td>49.655998</td>\n",
       "      <td>0.032972</td>\n",
       "    </tr>\n",
       "    <tr>\n",
       "      <th>50q_ub</th>\n",
       "      <td>0.636275</td>\n",
       "      <td>0.645722</td>\n",
       "      <td>0.115420</td>\n",
       "      <td>0.000089</td>\n",
       "      <td>0.013411</td>\n",
       "      <td>True</td>\n",
       "      <td>53.200001</td>\n",
       "      <td>0.081846</td>\n",
       "    </tr>\n",
       "    <tr>\n",
       "      <th>70q_ub</th>\n",
       "      <td>0.742250</td>\n",
       "      <td>0.780739</td>\n",
       "      <td>0.146095</td>\n",
       "      <td>0.001481</td>\n",
       "      <td>0.022825</td>\n",
       "      <td>True</td>\n",
       "      <td>49.736000</td>\n",
       "      <td>0.263447</td>\n",
       "    </tr>\n",
       "    <tr>\n",
       "      <th>90q_ub</th>\n",
       "      <td>0.986889</td>\n",
       "      <td>1.071489</td>\n",
       "      <td>0.224249</td>\n",
       "      <td>0.007157</td>\n",
       "      <td>0.057445</td>\n",
       "      <td>True</td>\n",
       "      <td>43.287998</td>\n",
       "      <td>0.377263</td>\n",
       "    </tr>\n",
       "    <tr>\n",
       "      <th>mean_lb</th>\n",
       "      <td>-0.745881</td>\n",
       "      <td>-0.751048</td>\n",
       "      <td>0.138316</td>\n",
       "      <td>0.000027</td>\n",
       "      <td>0.019158</td>\n",
       "      <td>True</td>\n",
       "      <td>48.664001</td>\n",
       "      <td>0.037357</td>\n",
       "    </tr>\n",
       "    <tr>\n",
       "      <th>std_lb</th>\n",
       "      <td>0.292165</td>\n",
       "      <td>0.269534</td>\n",
       "      <td>0.087333</td>\n",
       "      <td>0.000512</td>\n",
       "      <td>0.008139</td>\n",
       "      <td>True</td>\n",
       "      <td>66.304001</td>\n",
       "      <td>0.259144</td>\n",
       "    </tr>\n",
       "    <tr>\n",
       "      <th>10q_lb</th>\n",
       "      <td>0.502417</td>\n",
       "      <td>0.503513</td>\n",
       "      <td>0.092082</td>\n",
       "      <td>0.000001</td>\n",
       "      <td>0.008480</td>\n",
       "      <td>True</td>\n",
       "      <td>49.528000</td>\n",
       "      <td>0.011903</td>\n",
       "    </tr>\n",
       "    <tr>\n",
       "      <th>30q_lb</th>\n",
       "      <td>0.606886</td>\n",
       "      <td>0.580549</td>\n",
       "      <td>0.103629</td>\n",
       "      <td>0.000694</td>\n",
       "      <td>0.011433</td>\n",
       "      <td>True</td>\n",
       "      <td>58.560001</td>\n",
       "      <td>0.254143</td>\n",
       "    </tr>\n",
       "    <tr>\n",
       "      <th>50q_lb</th>\n",
       "      <td>0.686730</td>\n",
       "      <td>0.672842</td>\n",
       "      <td>0.122128</td>\n",
       "      <td>0.000193</td>\n",
       "      <td>0.015108</td>\n",
       "      <td>True</td>\n",
       "      <td>55.568001</td>\n",
       "      <td>0.113722</td>\n",
       "    </tr>\n",
       "    <tr>\n",
       "      <th>70q_lb</th>\n",
       "      <td>0.782673</td>\n",
       "      <td>0.809723</td>\n",
       "      <td>0.155224</td>\n",
       "      <td>0.000732</td>\n",
       "      <td>0.024826</td>\n",
       "      <td>True</td>\n",
       "      <td>47.616001</td>\n",
       "      <td>0.174261</td>\n",
       "    </tr>\n",
       "    <tr>\n",
       "      <th>90q_lb</th>\n",
       "      <td>1.043833</td>\n",
       "      <td>1.097830</td>\n",
       "      <td>0.237472</td>\n",
       "      <td>0.002916</td>\n",
       "      <td>0.059309</td>\n",
       "      <td>True</td>\n",
       "      <td>48.655998</td>\n",
       "      <td>0.227386</td>\n",
       "    </tr>\n",
       "  </tbody>\n",
       "</table>\n",
       "</div>"
      ],
      "text/plain": [
       "          observed      mean       std       SEM       MSE credible  \\\n",
       "stat                                                                  \n",
       "accuracy  0.545256  0.547026  0.180630  0.000003  0.032630     True   \n",
       "mean_ub   0.695461  0.726971  0.131484  0.000993  0.018281     True   \n",
       "std_ub    0.266526  0.267890  0.084617  0.000002  0.007162     True   \n",
       "10q_ub    0.462346  0.487377  0.090732  0.000627  0.008859     True   \n",
       "30q_ub    0.554259  0.557537  0.099423  0.000011  0.009896     True   \n",
       "50q_ub    0.636275  0.645722  0.115420  0.000089  0.013411     True   \n",
       "70q_ub    0.742250  0.780739  0.146095  0.001481  0.022825     True   \n",
       "90q_ub    0.986889  1.071489  0.224249  0.007157  0.057445     True   \n",
       "mean_lb  -0.745881 -0.751048  0.138316  0.000027  0.019158     True   \n",
       "std_lb    0.292165  0.269534  0.087333  0.000512  0.008139     True   \n",
       "10q_lb    0.502417  0.503513  0.092082  0.000001  0.008480     True   \n",
       "30q_lb    0.606886  0.580549  0.103629  0.000694  0.011433     True   \n",
       "50q_lb    0.686730  0.672842  0.122128  0.000193  0.015108     True   \n",
       "70q_lb    0.782673  0.809723  0.155224  0.000732  0.024826     True   \n",
       "90q_lb    1.043833  1.097830  0.237472  0.002916  0.059309     True   \n",
       "\n",
       "           quantile  mahalanobis  \n",
       "stat                              \n",
       "accuracy  54.720001     0.009799  \n",
       "mean_ub   50.104000     0.239652  \n",
       "std_ub    55.208000     0.016121  \n",
       "10q_ub    43.624001     0.275872  \n",
       "30q_ub    49.655998     0.032972  \n",
       "50q_ub    53.200001     0.081846  \n",
       "70q_ub    49.736000     0.263447  \n",
       "90q_ub    43.287998     0.377263  \n",
       "mean_lb   48.664001     0.037357  \n",
       "std_lb    66.304001     0.259144  \n",
       "10q_lb    49.528000     0.011903  \n",
       "30q_lb    58.560001     0.254143  \n",
       "50q_lb    55.568001     0.113722  \n",
       "70q_lb    47.616001     0.174261  \n",
       "90q_lb    48.655998     0.227386  "
      ]
     },
     "execution_count": 15,
     "metadata": {},
     "output_type": "execute_result"
    }
   ],
   "source": [
    "fm_data_2_sim = hddm.utils.post_pred_gen(fm_2)\n",
    "hddm.utils.post_pred_stats(fm_data_2, fm_data_2_sim)"
   ]
  }
 ],
 "metadata": {
  "kernelspec": {
   "display_name": "Python 2.7.18 ('bsliang_DDM_27': conda)",
   "language": "python",
   "name": "python3"
  },
  "language_info": {
   "codemirror_mode": {
    "name": "ipython",
    "version": 2
   },
   "file_extension": ".py",
   "mimetype": "text/x-python",
   "name": "python",
   "nbconvert_exporter": "python",
   "pygments_lexer": "ipython2",
   "version": "2.7.18"
  },
  "orig_nbformat": 4,
  "vscode": {
   "interpreter": {
    "hash": "800a09db568ebe80aacfc1bc086e45a31a7cff3ccaf522d8b640d0dfbe2b8801"
   }
  }
 },
 "nbformat": 4,
 "nbformat_minor": 2
}
