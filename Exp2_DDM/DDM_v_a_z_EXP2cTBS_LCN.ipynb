{
 "cells": [
  {
   "cell_type": "markdown",
   "metadata": {},
   "source": [
    "![这是图片](catcat.jpg \"Magic Gardens\")<br><br>\n",
    "事情是这样的<br>\n",
    "我本来已经<br>\n",
    "打算完结这个分析了<br> \n",
    "但杜老师，居然<br>\n",
    "竟然，也是不出意料<br>\n",
    "叫我加一个参数<br>"
   ]
  },
  {
   "cell_type": "markdown",
   "metadata": {},
   "source": [
    "# TBS"
   ]
  },
  {
   "cell_type": "markdown",
   "metadata": {},
   "source": [
    "## preparing"
   ]
  },
  {
   "cell_type": "code",
   "execution_count": 20,
   "metadata": {},
   "outputs": [],
   "source": [
    "import pandas as pd\n",
    "import matplotlib.pyplot as plt\n",
    "import hddm\n",
    "import numpy as np\n",
    "import pickle\n",
    "from patsy import dmatrices, dmatrix, demo_data\n",
    "cm = 1/2.54"
   ]
  },
  {
   "cell_type": "markdown",
   "metadata": {},
   "source": [
    "## loading data"
   ]
  },
  {
   "cell_type": "code",
   "execution_count": 2,
   "metadata": {},
   "outputs": [
    {
     "data": {
      "text/html": [
       "<div>\n",
       "<style scoped>\n",
       "    .dataframe tbody tr th:only-of-type {\n",
       "        vertical-align: middle;\n",
       "    }\n",
       "\n",
       "    .dataframe tbody tr th {\n",
       "        vertical-align: top;\n",
       "    }\n",
       "\n",
       "    .dataframe thead th {\n",
       "        text-align: right;\n",
       "    }\n",
       "</style>\n",
       "<table border=\"1\" class=\"dataframe\">\n",
       "  <thead>\n",
       "    <tr style=\"text-align: right;\">\n",
       "      <th></th>\n",
       "      <th>subj_idx</th>\n",
       "      <th>group_idx</th>\n",
       "      <th>turn_type</th>\n",
       "      <th>task_type</th>\n",
       "      <th>snr_type</th>\n",
       "      <th>trial_num</th>\n",
       "      <th>step_att</th>\n",
       "      <th>response</th>\n",
       "      <th>rt</th>\n",
       "      <th>step_unatnd</th>\n",
       "    </tr>\n",
       "  </thead>\n",
       "  <tbody>\n",
       "    <tr>\n",
       "      <th>0</th>\n",
       "      <td>55</td>\n",
       "      <td>Larynx</td>\n",
       "      <td>Left iTBS</td>\n",
       "      <td>Tone</td>\n",
       "      <td>Clear</td>\n",
       "      <td>1</td>\n",
       "      <td>3</td>\n",
       "      <td>1</td>\n",
       "      <td>1.083317</td>\n",
       "      <td>1</td>\n",
       "    </tr>\n",
       "    <tr>\n",
       "      <th>1</th>\n",
       "      <td>55</td>\n",
       "      <td>Larynx</td>\n",
       "      <td>Left iTBS</td>\n",
       "      <td>Tone</td>\n",
       "      <td>Clear</td>\n",
       "      <td>2</td>\n",
       "      <td>4</td>\n",
       "      <td>1</td>\n",
       "      <td>0.744397</td>\n",
       "      <td>1</td>\n",
       "    </tr>\n",
       "    <tr>\n",
       "      <th>2</th>\n",
       "      <td>55</td>\n",
       "      <td>Larynx</td>\n",
       "      <td>Left iTBS</td>\n",
       "      <td>Tone</td>\n",
       "      <td>Clear</td>\n",
       "      <td>3</td>\n",
       "      <td>4</td>\n",
       "      <td>1</td>\n",
       "      <td>0.732525</td>\n",
       "      <td>1</td>\n",
       "    </tr>\n",
       "    <tr>\n",
       "      <th>3</th>\n",
       "      <td>55</td>\n",
       "      <td>Larynx</td>\n",
       "      <td>Left iTBS</td>\n",
       "      <td>Tone</td>\n",
       "      <td>Clear</td>\n",
       "      <td>4</td>\n",
       "      <td>5</td>\n",
       "      <td>1</td>\n",
       "      <td>0.800199</td>\n",
       "      <td>1</td>\n",
       "    </tr>\n",
       "    <tr>\n",
       "      <th>4</th>\n",
       "      <td>55</td>\n",
       "      <td>Larynx</td>\n",
       "      <td>Left iTBS</td>\n",
       "      <td>Tone</td>\n",
       "      <td>Clear</td>\n",
       "      <td>5</td>\n",
       "      <td>4</td>\n",
       "      <td>1</td>\n",
       "      <td>0.753649</td>\n",
       "      <td>1</td>\n",
       "    </tr>\n",
       "    <tr>\n",
       "      <th>5</th>\n",
       "      <td>55</td>\n",
       "      <td>Larynx</td>\n",
       "      <td>Left iTBS</td>\n",
       "      <td>Tone</td>\n",
       "      <td>Clear</td>\n",
       "      <td>6</td>\n",
       "      <td>4</td>\n",
       "      <td>1</td>\n",
       "      <td>0.544652</td>\n",
       "      <td>1</td>\n",
       "    </tr>\n",
       "    <tr>\n",
       "      <th>6</th>\n",
       "      <td>55</td>\n",
       "      <td>Larynx</td>\n",
       "      <td>Left iTBS</td>\n",
       "      <td>Tone</td>\n",
       "      <td>Clear</td>\n",
       "      <td>7</td>\n",
       "      <td>5</td>\n",
       "      <td>1</td>\n",
       "      <td>0.621313</td>\n",
       "      <td>1</td>\n",
       "    </tr>\n",
       "    <tr>\n",
       "      <th>7</th>\n",
       "      <td>55</td>\n",
       "      <td>Larynx</td>\n",
       "      <td>Left iTBS</td>\n",
       "      <td>Tone</td>\n",
       "      <td>Clear</td>\n",
       "      <td>8</td>\n",
       "      <td>5</td>\n",
       "      <td>1</td>\n",
       "      <td>0.580819</td>\n",
       "      <td>1</td>\n",
       "    </tr>\n",
       "    <tr>\n",
       "      <th>8</th>\n",
       "      <td>55</td>\n",
       "      <td>Larynx</td>\n",
       "      <td>Left iTBS</td>\n",
       "      <td>Tone</td>\n",
       "      <td>Clear</td>\n",
       "      <td>9</td>\n",
       "      <td>1</td>\n",
       "      <td>0</td>\n",
       "      <td>-0.496794</td>\n",
       "      <td>1</td>\n",
       "    </tr>\n",
       "    <tr>\n",
       "      <th>9</th>\n",
       "      <td>55</td>\n",
       "      <td>Larynx</td>\n",
       "      <td>Left iTBS</td>\n",
       "      <td>Tone</td>\n",
       "      <td>Clear</td>\n",
       "      <td>10</td>\n",
       "      <td>3</td>\n",
       "      <td>1</td>\n",
       "      <td>0.863869</td>\n",
       "      <td>1</td>\n",
       "    </tr>\n",
       "  </tbody>\n",
       "</table>\n",
       "</div>"
      ],
      "text/plain": [
       "   subj_idx group_idx  turn_type task_type snr_type  trial_num  step_att  \\\n",
       "0        55    Larynx  Left iTBS      Tone    Clear          1         3   \n",
       "1        55    Larynx  Left iTBS      Tone    Clear          2         4   \n",
       "2        55    Larynx  Left iTBS      Tone    Clear          3         4   \n",
       "3        55    Larynx  Left iTBS      Tone    Clear          4         5   \n",
       "4        55    Larynx  Left iTBS      Tone    Clear          5         4   \n",
       "5        55    Larynx  Left iTBS      Tone    Clear          6         4   \n",
       "6        55    Larynx  Left iTBS      Tone    Clear          7         5   \n",
       "7        55    Larynx  Left iTBS      Tone    Clear          8         5   \n",
       "8        55    Larynx  Left iTBS      Tone    Clear          9         1   \n",
       "9        55    Larynx  Left iTBS      Tone    Clear         10         3   \n",
       "\n",
       "   response        rt  step_unatnd  \n",
       "0         1  1.083317            1  \n",
       "1         1  0.744397            1  \n",
       "2         1  0.732525            1  \n",
       "3         1  0.800199            1  \n",
       "4         1  0.753649            1  \n",
       "5         1  0.544652            1  \n",
       "6         1  0.621313            1  \n",
       "7         1  0.580819            1  \n",
       "8         0 -0.496794            1  \n",
       "9         1  0.863869            1  "
      ]
     },
     "execution_count": 2,
     "metadata": {},
     "output_type": "execute_result"
    }
   ],
   "source": [
    "data = hddm.load_csv('exp2_DDM.csv')\n",
    "data = hddm.utils.flip_errors(data)\n",
    "data.head(10)"
   ]
  },
  {
   "cell_type": "markdown",
   "metadata": {},
   "source": [
    "## left stim, consonant, noise"
   ]
  },
  {
   "cell_type": "markdown",
   "metadata": {},
   "source": [
    "### RT distribution"
   ]
  },
  {
   "cell_type": "code",
   "execution_count": 44,
   "metadata": {},
   "outputs": [
    {
     "name": "stderr",
     "output_type": "stream",
     "text": [
      "/home/bsliang/miniconda3/envs/bsliang_DDM_27/lib/python2.7/site-packages/ipykernel_launcher.py:12: FutureWarning: The signature of `Series.to_csv` was aligned to that of `DataFrame.to_csv`, and argument 'header' will change its default value from False to True: please pass an explicit value to suppress this warning.\n",
      "  if sys.path[0] == '':\n",
      "/home/bsliang/miniconda3/envs/bsliang_DDM_27/lib/python2.7/site-packages/ipykernel_launcher.py:13: FutureWarning: The signature of `Series.to_csv` was aligned to that of `DataFrame.to_csv`, and argument 'header' will change its default value from False to True: please pass an explicit value to suppress this warning.\n",
      "  del sys.path[0]\n"
     ]
    },
    {
     "data": {
      "image/png": "[encoded data removed]",
      "text/plain": [
       "<Figure size 127.559x70.8661 with 1 Axes>"
      ]
     },
     "metadata": {
      "needs_background": "light"
     },
     "output_type": "display_data"
    },
    {
     "data": {
      "image/png": "[encoded data removed]",
      "text/plain": [
       "<Figure size 34.0157x56.6929 with 1 Axes>"
      ]
     },
     "metadata": {
      "needs_background": "light"
     },
     "output_type": "display_data"
    }
   ],
   "source": [
    "data_unflip = hddm.load_csv('exp2_DDM.csv')\n",
    "\n",
    "D_L=data_unflip.loc[data_unflip['turn_type'].isin(['Left cTBS','Sham'])]\n",
    "D_L_C=D_L.loc[D_L['task_type']=='Cons']\n",
    "D_L_C_N=D_L_C.loc[D_L_C['snr_type']=='Noise']\n",
    "D=D_L_C_N\n",
    "D_name='D_L_C_N_'\n",
    "\n",
    "D_TMS=D.loc[D['turn_type'].isin(['Left cTBS'])]\n",
    "D_Sham=D.loc[D['turn_type'].isin(['Sham'])]\n",
    "\n",
    "D_TMS.rt.to_csv(D_name+'TBS_RT.csv')\n",
    "D_Sham.rt.to_csv(D_name+'Sham_RT.csv')\n",
    "\n",
    "mean_TMS=D_TMS.rt.mean()\n",
    "se_TMS=np.std(D_TMS.rt, ddof=1) / np.sqrt(len(D_TMS.rt))\n",
    "mean_Sham=D_Sham.rt.mean()\n",
    "se_Sham=np.std(D_Sham.rt, ddof=1) / np.sqrt(len(D_Sham.rt))\n",
    "\n",
    "\n",
    "plt.rcParams['savefig.dpi']=300\n",
    "plt.rcParams['font.size']=5\n",
    "plt.rcParams['axes.linewidth']=0.5\n",
    "plt.rcParams['font.family']='Arial'\n",
    "\n",
    "fig, ax = plt.subplots()\n",
    "fig.set_size_inches(4.5*cm,2.5*cm)\n",
    "\n",
    "nbins=50\n",
    "dens_TMS = ax.hist(D_TMS.rt,bins=nbins, histtype='step',density=False,color=[0,0,0],linewidth=1,alpha=0.5)\n",
    "dens_Sham = ax.hist(D_Sham.rt,bins=nbins, histtype='step',density=False,color=[0.5,0.5,0.5],linewidth=1,alpha=0.5)\n",
    "\n",
    "\n",
    "for ibin in range(0,nbins-1):\n",
    "    if dens_TMS[1][ibin] > mean_TMS:\n",
    "        dens_TMS_mean = dens_TMS[0][ibin-1]\n",
    "        break\n",
    "\n",
    "for ibin in range(0,nbins-1):\n",
    "    if dens_Sham[1][ibin] > mean_Sham:\n",
    "        dens_Sham_mean = dens_Sham[0][ibin-1]\n",
    "        break\n",
    "\n",
    "#ax.set_title('RT distributions')\n",
    "#ax.set_ylabel('Number of trials')\n",
    "#ax.set_xlabel('Reaction time (s)')\n",
    "ax.set_xlim([0,2])\n",
    "ax.set_xticks(np.linspace(0,2,5))\n",
    "ax.set_ylim([0,900])\n",
    "ax.set_yticks([200,400,600,800,900])\n",
    "ax.set_yticklabels([200,400,600,800])\n",
    "ax.spines['right'].set_visible(False)\n",
    "ax.spines['top'].set_visible(False)\n",
    "ax.tick_params('both',which='major',direction='in',width=0.5,length=2)\n",
    "\n",
    "ax.axvline(x = mean_TMS, ymin=0,ymax=dens_TMS_mean/900,color =[0,0,0], linestyle =\"--\",linewidth=1,alpha=0.5)\n",
    "ax.axvline(x = mean_Sham, ymin=0,ymax=dens_Sham_mean/900,color =[0.5,0.5,0.5], linestyle =\"--\",linewidth=1,alpha=0.5)\n",
    "#ax.legend('upper right')\n",
    "\n",
    "plt.savefig(D_name+'cTBS_RT_dist.pdf',bbox_inches = 'tight',transparent=True)\n",
    "plt.show()\n",
    "\n",
    "fig, ax = plt.subplots()\n",
    "\n",
    "cat = ['cTBS','Sham']\n",
    "cat_mean = [mean_TMS,mean_Sham]\n",
    "\n",
    "axbar=ax.bar(cat, cat_mean,yerr=[se_TMS,se_Sham],color=[[0,0,0],[0.5,0.5,0.5]],alpha=0.5)\n",
    "axbar.errorbar.lines[2][0].set_linewidth(0.5)\n",
    "\n",
    "ax.set_ylabel('RT (s)',fontsize=5)\n",
    "#ax.set_title('cTBS: Right stimulation tone noise')\n",
    "#ax.set_xticks([])\n",
    "ax.set_ylim([0.65,0.85])\n",
    "ax.set_yticks(np.linspace(0.65,0.85,6))\n",
    "ax.spines['right'].set_visible(False)\n",
    "ax.spines['top'].set_visible(False)\n",
    "ax.tick_params('both',which='major',direction='in',bottom=False,width=0.5,length=1,labelsize=4)\n",
    "#ax.yaxis.tick_right()\n",
    "\n",
    "fig.set_size_inches(1.2*cm,2*cm)\n",
    "\n",
    "plt.savefig(D_name+'cTBS_RT.pdf',bbox_inches = 'tight',transparent=True)\n",
    "plt.show()"
   ]
  },
  {
   "cell_type": "markdown",
   "metadata": {},
   "source": [
    "### preparing data"
   ]
  },
  {
   "cell_type": "code",
   "execution_count": 4,
   "metadata": {},
   "outputs": [
    {
     "name": "stdout",
     "output_type": "stream",
     "text": [
      "       subj_idx group_idx  turn_type task_type snr_type  trial_num  step_att  \\\n",
      "1092         55    Larynx  Left cTBS      Cons    Noise          1         2   \n",
      "1093         55    Larynx  Left cTBS      Cons    Noise          2         5   \n",
      "1094         55    Larynx  Left cTBS      Cons    Noise          3         3   \n",
      "1095         55    Larynx  Left cTBS      Cons    Noise          4         3   \n",
      "1096         55    Larynx  Left cTBS      Cons    Noise          5         5   \n",
      "1097         55    Larynx  Left cTBS      Cons    Noise          6         5   \n",
      "1098         55    Larynx  Left cTBS      Cons    Noise          7         3   \n",
      "1099         55    Larynx  Left cTBS      Cons    Noise          8         2   \n",
      "1100         55    Larynx  Left cTBS      Cons    Noise          9         1   \n",
      "1101         55    Larynx  Left cTBS      Cons    Noise         10         3   \n",
      "1102         55    Larynx  Left cTBS      Cons    Noise         11         4   \n",
      "1103         55    Larynx  Left cTBS      Cons    Noise         12         4   \n",
      "1104         55    Larynx  Left cTBS      Cons    Noise         13         3   \n",
      "1105         55    Larynx  Left cTBS      Cons    Noise         14         3   \n",
      "1106         55    Larynx  Left cTBS      Cons    Noise         15         4   \n",
      "1107         55    Larynx  Left cTBS      Cons    Noise         16         3   \n",
      "1108         55    Larynx  Left cTBS      Cons    Noise         17         3   \n",
      "1109         55    Larynx  Left cTBS      Cons    Noise         18         2   \n",
      "1110         55    Larynx  Left cTBS      Cons    Noise         19         5   \n",
      "1111         55    Larynx  Left cTBS      Cons    Noise         20         3   \n",
      "1112         55    Larynx  Left cTBS      Cons    Noise         21         3   \n",
      "1113         55    Larynx  Left cTBS      Cons    Noise         22         4   \n",
      "1114         55    Larynx  Left cTBS      Cons    Noise         23         1   \n",
      "1115         55    Larynx  Left cTBS      Cons    Noise         24         1   \n",
      "1116         55    Larynx  Left cTBS      Cons    Noise         25         1   \n",
      "1117         55    Larynx  Left cTBS      Cons    Noise         26         1   \n",
      "1118         55    Larynx  Left cTBS      Cons    Noise         27         5   \n",
      "1119         55    Larynx  Left cTBS      Cons    Noise         28         2   \n",
      "1120         55    Larynx  Left cTBS      Cons    Noise         29         2   \n",
      "1121         55    Larynx  Left cTBS      Cons    Noise         30         2   \n",
      "...         ...       ...        ...       ...      ...        ...       ...   \n",
      "78594       253    Larynx       Sham      Cons    Noise        127         4   \n",
      "78595       253    Larynx       Sham      Cons    Noise        128         1   \n",
      "78596       253    Larynx       Sham      Cons    Noise        129         3   \n",
      "78597       253    Larynx       Sham      Cons    Noise        130         5   \n",
      "78598       253    Larynx       Sham      Cons    Noise        131         4   \n",
      "78599       253    Larynx       Sham      Cons    Noise        132         2   \n",
      "78600       253    Larynx       Sham      Cons    Noise        133         3   \n",
      "78601       253    Larynx       Sham      Cons    Noise        134         2   \n",
      "78602       253    Larynx       Sham      Cons    Noise        135         5   \n",
      "78603       253    Larynx       Sham      Cons    Noise        136         3   \n",
      "78604       253    Larynx       Sham      Cons    Noise        137         3   \n",
      "78605       253    Larynx       Sham      Cons    Noise        138         2   \n",
      "78606       253    Larynx       Sham      Cons    Noise        139         1   \n",
      "78607       253    Larynx       Sham      Cons    Noise        140         4   \n",
      "78608       253    Larynx       Sham      Cons    Noise        141         1   \n",
      "78609       253    Larynx       Sham      Cons    Noise        142         3   \n",
      "78610       253    Larynx       Sham      Cons    Noise        143         4   \n",
      "78611       253    Larynx       Sham      Cons    Noise        144         4   \n",
      "78612       253    Larynx       Sham      Cons    Noise        145         1   \n",
      "78613       253    Larynx       Sham      Cons    Noise        146         2   \n",
      "78614       253    Larynx       Sham      Cons    Noise        147         3   \n",
      "78615       253    Larynx       Sham      Cons    Noise        148         5   \n",
      "78616       253    Larynx       Sham      Cons    Noise        149         4   \n",
      "78617       253    Larynx       Sham      Cons    Noise        150         5   \n",
      "78618       253    Larynx       Sham      Cons    Noise        151         3   \n",
      "78619       253    Larynx       Sham      Cons    Noise        152         2   \n",
      "78620       253    Larynx       Sham      Cons    Noise        153         3   \n",
      "78621       253    Larynx       Sham      Cons    Noise        154         3   \n",
      "78622       253    Larynx       Sham      Cons    Noise        155         1   \n",
      "78623       253    Larynx       Sham      Cons    Noise        156         1   \n",
      "\n",
      "       response        rt  step_unatnd  \n",
      "1092          0 -0.742002            1  \n",
      "1093          1  0.577077            1  \n",
      "1094          1  0.492821            1  \n",
      "1095          0 -0.676759            1  \n",
      "1096          1  0.495745            1  \n",
      "1097          1  0.587692            1  \n",
      "1098          0 -0.661923            1  \n",
      "1099          1  0.550173            1  \n",
      "1100          0 -0.567172            1  \n",
      "1101          1  0.533652            1  \n",
      "1102          1  0.821684            1  \n",
      "1103          1  0.607115            1  \n",
      "1104          1  0.750574            1  \n",
      "1105          1  0.588355            1  \n",
      "1106          1  2.132119            1  \n",
      "1107          1  0.624442            1  \n",
      "1108          1  0.598272            1  \n",
      "1109          1  0.608531            1  \n",
      "1110          1  0.984860            1  \n",
      "1111          0 -0.840148            1  \n",
      "1112          1  0.742640            1  \n",
      "1113          0 -0.712382            1  \n",
      "1114          0 -0.597223            1  \n",
      "1115          0 -0.846945            1  \n",
      "1116          0 -0.806715            1  \n",
      "1117          0 -0.718805            1  \n",
      "1118          1  0.767919            1  \n",
      "1119          1  2.103997            1  \n",
      "1120          0 -0.692346            1  \n",
      "1121          0 -0.956349            1  \n",
      "...         ...       ...          ...  \n",
      "78594         1  0.632713            1  \n",
      "78595         0 -0.542096            1  \n",
      "78596         0 -0.473329            1  \n",
      "78597         1  0.559088            1  \n",
      "78598         1  0.507009            1  \n",
      "78599         0 -0.535296            1  \n",
      "78600         1  0.579970            1  \n",
      "78601         0 -0.588824            1  \n",
      "78602         1  0.643126            1  \n",
      "78603         0 -0.439178            1  \n",
      "78604         1  0.654868            1  \n",
      "78605         0 -0.682654            1  \n",
      "78606         0 -0.954759            1  \n",
      "78607         0 -0.667818            1  \n",
      "78608         0 -0.699520            1  \n",
      "78609         1  0.606647            1  \n",
      "78610         1  0.559231            1  \n",
      "78611         0 -0.560831            1  \n",
      "78612         0 -0.593291            1  \n",
      "78613         0 -0.658336            1  \n",
      "78614         1  0.605256            1  \n",
      "78615         1  0.606217            1  \n",
      "78616         0 -0.585072            1  \n",
      "78617         1  0.742196            1  \n",
      "78618         1  0.571885            1  \n",
      "78619         0 -0.605274            1  \n",
      "78620         1  0.615909            1  \n",
      "78621         1  0.447682            1  \n",
      "78622         1  0.576298            1  \n",
      "78623         1  0.850333            1  \n",
      "\n",
      "[7800 rows x 10 columns]\n"
     ]
    }
   ],
   "source": [
    "D_L=data.loc[data['turn_type'].isin(['Left cTBS','Sham'])]\n",
    "D_L_C=D_L.loc[D_L['task_type']=='Cons']\n",
    "D_L_C_N=D_L_C.loc[D_L_C['snr_type']=='Noise']\n",
    "print(D_L_C_N)\n",
    "D_L_C_N.to_csv('Exp2_D_L_C_N_cTBS.csv')"
   ]
  },
  {
   "cell_type": "code",
   "execution_count": 5,
   "metadata": {},
   "outputs": [],
   "source": [
    "def z_link_func_D_L_C_N(x, data=D_L_C_N):\n",
    "    stim = (np.asarray(dmatrix('0 + C(s, [[0], [1]])',\n",
    "                              {'s': data.turn_type.loc[x.index]},return_type='dataframe'))\n",
    "    )\n",
    "    # Apply z = (1 - x) to flip them along 0.5\n",
    "    z_flip = np.subtract(stim, x.to_frame())\n",
    "    # The above inverts those values we do not want to flip,\n",
    "    # so invert them back\n",
    "    z_flip[stim == 0] *= -1\n",
    "    return z_flip"
   ]
  },
  {
   "cell_type": "markdown",
   "metadata": {},
   "source": [
    "### baseline model"
   ]
  },
  {
   "cell_type": "code",
   "execution_count": 6,
   "metadata": {},
   "outputs": [
    {
     "name": "stdout",
     "output_type": "stream",
     "text": [
      "Adding these covariates:\n",
      "['a_Intercept']\n",
      "Adding these covariates:\n",
      "['v_Intercept']\n",
      "Adding these covariates:\n",
      "['z_Intercept']\n"
     ]
    },
    {
     "name": "stderr",
     "output_type": "stream",
     "text": [
      "/home/bsliang/miniconda3/envs/bsliang_DDM_27/lib/python2.7/site-packages/scipy/optimize/optimize.py:1934: RuntimeWarning: invalid value encountered in double_scalars\n",
      "  tmp2 = (x - v) * (fx - fw)\n"
     ]
    },
    {
     "name": "stdout",
     "output_type": "stream",
     "text": [
      " [-----------------100%-----------------] 2001 of 2000 complete in 2373.7 secWARNING: Will not save custom link functions.\n",
      "WARNING: Will not save custom link functions.\n",
      "WARNING: Will not save custom link functions.\n"
     ]
    }
   ],
   "source": [
    "a_reg = {'model': \"a ~ 1\",'link_func': lambda x: x}\n",
    "v_reg = {'model': \"v ~ 1\",'link_func': lambda x: x}\n",
    "z_reg = {'model': \"z ~ 1\",'link_func': lambda x: x}\n",
    "reg_descr = [a_reg,v_reg,z_reg]\n",
    "D_L_C_N_bsl = hddm.HDDMRegressor(D_L_C_N, reg_descr, include='z')\n",
    "D_L_C_N_bsl.find_starting_values()\n",
    "D_L_C_N_bsl.sample(2000, burn=20, dbname='traces.db', db='pickle')\n",
    "D_L_C_N_bsl.save('D_L_C_N_bsl')"
   ]
  },
  {
   "cell_type": "markdown",
   "metadata": {},
   "source": [
    "### model 1: a only"
   ]
  },
  {
   "cell_type": "code",
   "execution_count": 7,
   "metadata": {},
   "outputs": [
    {
     "name": "stdout",
     "output_type": "stream",
     "text": [
      "Adding these covariates:\n",
      "['a_Intercept', \"a_C(turn_type, Treatment('Sham'))[T.Left cTBS]\"]\n",
      "Adding these covariates:\n",
      "['v_Intercept']\n",
      "Adding these covariates:\n",
      "['z_Intercept']\n",
      " [-----------------100%-----------------] 2001 of 2000 complete in 2848.5 secWARNING: Will not save custom link functions.\n",
      "WARNING: Will not save custom link functions.\n",
      "WARNING: Will not save custom link functions.\n"
     ]
    }
   ],
   "source": [
    "a_reg = {'model': \"a ~ 1 + C(turn_type, Treatment('Sham'))\",'link_func': lambda x: x}\n",
    "v_reg = {'model': \"v ~ 1\",'link_func': lambda x: x}\n",
    "z_reg = {'model': \"z ~ 1\",'link_func': lambda x: x}\n",
    "reg_descr = [a_reg,v_reg,z_reg]\n",
    "D_L_C_N_am = hddm.HDDMRegressor(D_L_C_N, reg_descr, include='z')\n",
    "D_L_C_N_am.find_starting_values()\n",
    "D_L_C_N_am.sample(2000, burn=20, dbname='traces.db', db='pickle')\n",
    "D_L_C_N_am.save('D_L_C_N_am')"
   ]
  },
  {
   "cell_type": "markdown",
   "metadata": {},
   "source": [
    "### model 2: v only"
   ]
  },
  {
   "cell_type": "code",
   "execution_count": 8,
   "metadata": {},
   "outputs": [
    {
     "name": "stdout",
     "output_type": "stream",
     "text": [
      "Adding these covariates:\n",
      "['a_Intercept']\n",
      "Adding these covariates:\n",
      "['v_Intercept', \"v_C(turn_type, Treatment('Sham'))[T.Left cTBS]\"]\n",
      "Adding these covariates:\n",
      "['z_Intercept']\n",
      " [-----------------100%-----------------] 2001 of 2000 complete in 2908.4 secWARNING: Will not save custom link functions.\n",
      "WARNING: Will not save custom link functions.\n",
      "WARNING: Will not save custom link functions.\n"
     ]
    }
   ],
   "source": [
    "a_reg = {'model': \"a ~ 1\",'link_func': lambda x: x}\n",
    "v_reg = {'model': \"v ~ 1 + C(turn_type, Treatment('Sham'))\",'link_func': lambda x: x}\n",
    "z_reg = {'model': \"z ~ 1\",'link_func': lambda x: x}\n",
    "reg_descr = [a_reg,v_reg,z_reg]\n",
    "D_L_C_N_vm = hddm.HDDMRegressor(D_L_C_N, reg_descr, include='z')\n",
    "D_L_C_N_vm.find_starting_values()\n",
    "D_L_C_N_vm.sample(2000, burn=20, dbname='traces.db', db='pickle')\n",
    "D_L_C_N_vm.save('D_L_C_N_am')"
   ]
  },
  {
   "cell_type": "markdown",
   "metadata": {},
   "source": [
    "### model 3: z only"
   ]
  },
  {
   "cell_type": "code",
   "execution_count": 9,
   "metadata": {},
   "outputs": [
    {
     "name": "stdout",
     "output_type": "stream",
     "text": [
      "Adding these covariates:\n",
      "['a_Intercept']\n",
      "Adding these covariates:\n",
      "['v_Intercept']\n",
      "Adding these covariates:\n",
      "['z_Intercept', \"z_C(turn_type, Treatment('Sham'))[T.Left cTBS]\"]\n",
      " [-----------------100%-----------------] 2001 of 2000 complete in 2893.3 secWARNING: Will not save custom link functions.\n",
      "WARNING: Will not save custom link functions.\n",
      "WARNING: Will not save custom link functions.\n"
     ]
    }
   ],
   "source": [
    "a_reg = {'model': \"a ~ 1\",'link_func': lambda x: x}\n",
    "v_reg = {'model': \"v ~ 1\",'link_func': lambda x: x}\n",
    "z_reg = {'model': \"z ~ 1 + C(turn_type, Treatment('Sham'))\",'link_func': lambda x: x}\n",
    "reg_descr = [a_reg,v_reg,z_reg]\n",
    "D_L_C_N_zm = hddm.HDDMRegressor(D_L_C_N, reg_descr, include='z')\n",
    "D_L_C_N_zm.find_starting_values()\n",
    "D_L_C_N_zm.sample(2000, burn=20, dbname='traces.db', db='pickle')\n",
    "D_L_C_N_zm.save('D_L_C_N_zm')"
   ]
  },
  {
   "cell_type": "markdown",
   "metadata": {},
   "source": [
    "### model 4: a + v"
   ]
  },
  {
   "cell_type": "code",
   "execution_count": 10,
   "metadata": {},
   "outputs": [
    {
     "name": "stdout",
     "output_type": "stream",
     "text": [
      "Adding these covariates:\n",
      "['a_Intercept', \"a_C(turn_type, Treatment('Sham'))[T.Left cTBS]\"]\n",
      "Adding these covariates:\n",
      "['v_Intercept', \"v_C(turn_type, Treatment('Sham'))[T.Left cTBS]\"]\n",
      "Adding these covariates:\n",
      "['z_Intercept']\n",
      " [-----------------100%-----------------] 2001 of 2000 complete in 3397.9 secWARNING: Will not save custom link functions.\n",
      "WARNING: Will not save custom link functions.\n",
      "WARNING: Will not save custom link functions.\n"
     ]
    }
   ],
   "source": [
    "a_reg = {'model': \"a ~ 1 + C(turn_type, Treatment('Sham'))\",'link_func': lambda x: x}\n",
    "v_reg = {'model': \"v ~ 1 + C(turn_type, Treatment('Sham'))\",'link_func': lambda x: x}\n",
    "z_reg = {'model': \"z ~ 1\",'link_func': lambda x: x}\n",
    "reg_descr = [a_reg,v_reg,z_reg]\n",
    "D_L_C_N_avm = hddm.HDDMRegressor(D_L_C_N, reg_descr, include='z')\n",
    "D_L_C_N_avm.find_starting_values()\n",
    "D_L_C_N_avm.sample(2000, burn=20, dbname='traces.db', db='pickle')\n",
    "D_L_C_N_avm.save('D_L_C_N_avm')"
   ]
  },
  {
   "cell_type": "markdown",
   "metadata": {},
   "source": [
    "### model 5: a + z"
   ]
  },
  {
   "cell_type": "code",
   "execution_count": 11,
   "metadata": {},
   "outputs": [
    {
     "name": "stdout",
     "output_type": "stream",
     "text": [
      "Adding these covariates:\n",
      "['a_Intercept', \"a_C(turn_type, Treatment('Sham'))[T.Left cTBS]\"]\n",
      "Adding these covariates:\n",
      "['v_Intercept']\n",
      "Adding these covariates:\n",
      "['z_Intercept', \"z_C(turn_type, Treatment('Sham'))[T.Left cTBS]\"]\n",
      " [-----------------100%-----------------] 2001 of 2000 complete in 3384.8 secWARNING: Will not save custom link functions.\n",
      "WARNING: Will not save custom link functions.\n",
      "WARNING: Will not save custom link functions.\n"
     ]
    }
   ],
   "source": [
    "a_reg = {'model': \"a ~ 1 + C(turn_type, Treatment('Sham'))\",'link_func': lambda x: x}\n",
    "v_reg = {'model': \"v ~ 1\",'link_func': lambda x: x}\n",
    "z_reg = {'model': \"z ~ 1 + C(turn_type, Treatment('Sham'))\",'link_func': lambda x: x}\n",
    "reg_descr = [a_reg,v_reg,z_reg]\n",
    "D_L_C_N_azm = hddm.HDDMRegressor(D_L_C_N, reg_descr, include='z')\n",
    "D_L_C_N_azm.find_starting_values()\n",
    "D_L_C_N_azm.sample(2000, burn=20, dbname='traces.db', db='pickle')\n",
    "D_L_C_N_azm.save('D_L_C_N_azm')"
   ]
  },
  {
   "cell_type": "markdown",
   "metadata": {},
   "source": [
    "### model 6: v + z"
   ]
  },
  {
   "cell_type": "code",
   "execution_count": 12,
   "metadata": {},
   "outputs": [
    {
     "name": "stdout",
     "output_type": "stream",
     "text": [
      "Adding these covariates:\n",
      "['a_Intercept']\n",
      "Adding these covariates:\n",
      "['v_Intercept', \"v_C(turn_type, Treatment('Sham'))[T.Left cTBS]\"]\n",
      "Adding these covariates:\n",
      "['z_Intercept', \"z_C(turn_type, Treatment('Sham'))[T.Left cTBS]\"]\n",
      " [-----------------100%-----------------] 2001 of 2000 complete in 3433.9 secWARNING: Will not save custom link functions.\n",
      "WARNING: Will not save custom link functions.\n",
      "WARNING: Will not save custom link functions.\n"
     ]
    }
   ],
   "source": [
    "a_reg = {'model': \"a ~ 1\",'link_func': lambda x: x}\n",
    "v_reg = {'model': \"v ~ 1 + C(turn_type, Treatment('Sham'))\",'link_func': lambda x: x}\n",
    "z_reg = {'model': \"z ~ 1 + C(turn_type, Treatment('Sham'))\",'link_func': lambda x: x}\n",
    "reg_descr = [a_reg,v_reg,z_reg]\n",
    "D_L_C_N_vzm = hddm.HDDMRegressor(D_L_C_N, reg_descr, include='z')\n",
    "D_L_C_N_vzm.find_starting_values()\n",
    "D_L_C_N_vzm.sample(2000, burn=20, dbname='traces.db', db='pickle')\n",
    "D_L_C_N_vzm.save('D_L_C_N_vzm')"
   ]
  },
  {
   "cell_type": "markdown",
   "metadata": {},
   "source": [
    "### model 7: a + v + z"
   ]
  },
  {
   "cell_type": "code",
   "execution_count": 13,
   "metadata": {},
   "outputs": [
    {
     "name": "stdout",
     "output_type": "stream",
     "text": [
      "Adding these covariates:\n",
      "['a_Intercept', \"a_C(turn_type, Treatment('Sham'))[T.Left cTBS]\"]\n",
      "Adding these covariates:\n",
      "['v_Intercept', \"v_C(turn_type, Treatment('Sham'))[T.Left cTBS]\"]\n",
      "Adding these covariates:\n",
      "['z_Intercept', \"z_C(turn_type, Treatment('Sham'))[T.Left cTBS]\"]\n",
      " [-----------------100%-----------------] 2001 of 2000 complete in 3912.0 secWARNING: Will not save custom link functions.\n",
      "WARNING: Will not save custom link functions.\n",
      "WARNING: Will not save custom link functions.\n"
     ]
    }
   ],
   "source": [
    "a_reg = {'model': \"a ~ 1 + C(turn_type, Treatment('Sham'))\",'link_func': lambda x: x}\n",
    "v_reg = {'model': \"v ~ 1 + C(turn_type, Treatment('Sham'))\",'link_func': lambda x: x}\n",
    "z_reg = {'model': \"z ~ 1 + C(turn_type, Treatment('Sham'))\",'link_func': lambda x: x}\n",
    "reg_descr = [a_reg,v_reg,z_reg]\n",
    "D_L_C_N_fm = hddm.HDDMRegressor(D_L_C_N, reg_descr, include='z')\n",
    "D_L_C_N_fm.find_starting_values()\n",
    "D_L_C_N_fm.sample(2000, burn=20, dbname='traces.db', db='pickle')\n",
    "D_L_C_N_fm.save('D_L_C_N_fm')"
   ]
  },
  {
   "cell_type": "markdown",
   "metadata": {},
   "source": [
    "### Model comparison"
   ]
  },
  {
   "cell_type": "code",
   "execution_count": 43,
   "metadata": {},
   "outputs": [
    {
     "name": "stdout",
     "output_type": "stream",
     "text": [
      "baseline model DIC: 6130.808363\n",
      "a model DIC: 6122.592715\n",
      "v model DIC: 6131.737657\n",
      "z model DIC: 6109.987369\n",
      "av model DIC: 6123.551410\n",
      "az model DIC: 6102.896825\n",
      "vz model DIC: 6095.093508\n",
      "full model DIC: 6089.657156\n"
     ]
    },
    {
     "data": {
      "image/png": "[encoded data removed]",
      "text/plain": [
       "<Figure size 130.394x63.7795 with 1 Axes>"
      ]
     },
     "metadata": {
      "needs_background": "light"
     },
     "output_type": "display_data"
    }
   ],
   "source": [
    "print(\"baseline model DIC: %f\" % D_L_C_N_bsl.dic)\n",
    "print(\"a model DIC: %f\" % D_L_C_N_am.dic)\n",
    "print(\"v model DIC: %f\" % D_L_C_N_vm.dic)\n",
    "print(\"z model DIC: %f\" % D_L_C_N_zm.dic)\n",
    "print(\"av model DIC: %f\" % D_L_C_N_avm.dic)\n",
    "print(\"az model DIC: %f\" % D_L_C_N_azm.dic)\n",
    "print(\"vz model DIC: %f\" % D_L_C_N_vzm.dic)\n",
    "print(\"full model DIC: %f\" % D_L_C_N_fm.dic)\n",
    "\n",
    "fig, ax = plt.subplots()\n",
    "\n",
    "fruits = ['baseline', 'a', 'v', 'z', 'av', 'az', 'vz','full']\n",
    "counts = [D_L_C_N_bsl.dic, D_L_C_N_am.dic, D_L_C_N_vm.dic, D_L_C_N_zm.dic,D_L_C_N_avm.dic,D_L_C_N_azm.dic,D_L_C_N_vzm.dic,D_L_C_N_fm.dic]\n",
    "\n",
    "ax.bar(fruits, counts, color=[197./255,158./255,226./255],edgecolor='black',linewidth=0.5)\n",
    "\n",
    "#ax.set_ylabel('DIC value')\n",
    "#ax.set_title('TBS: Left cTBS consonant noise')\n",
    "ax.set_ylim([6080,6140])\n",
    "ytick_plot=range(6080,6140,8)\n",
    "ytick_plot.append(6140)\n",
    "ax.set_yticks(ytick_plot)\n",
    "ax.set_yticklabels(range(6080,6140,8))\n",
    "ax.spines['right'].set_visible(False)\n",
    "ax.spines['top'].set_visible(False)\n",
    "\n",
    "fig.set_size_inches(4.6*cm,2.25*cm)\n",
    "ax.tick_params('both',which='major',direction='in',width=0.5,length=2)\n",
    "plt.rcParams['font.size']=5\n",
    "plt.rcParams['font.family']='Arial'\n",
    "plt.savefig(D_name+'M_compare.pdf',bbox_inches = 'tight',transparent=True)\n",
    "plt.show()"
   ]
  },
  {
   "cell_type": "markdown",
   "metadata": {},
   "source": [
    "### Plotting"
   ]
  },
  {
   "cell_type": "code",
   "execution_count": 59,
   "metadata": {},
   "outputs": [
    {
     "data": {
      "image/png": "[encoded data removed]",
      "text/plain": [
       "<Figure size 127.559x70.8661 with 1 Axes>"
      ]
     },
     "metadata": {
      "needs_background": "light"
     },
     "output_type": "display_data"
    },
    {
     "name": "stdout",
     "output_type": "stream",
     "text": [
      "('P(a > Sham) = ', 0.9959595959595959)\n",
      "('P(v > Sham) = ', 0.998989898989899)\n",
      "('P(z > Sham) = ', 0.0)\n"
     ]
    }
   ],
   "source": [
    "a_Intercept,a_cTBS = D_L_C_N_fm.nodes_db.loc[[\"a_Intercept\",\"a_C(turn_type, Treatment('Sham'))[T.Left cTBS]\"], 'node']\n",
    "# hddm.analyze.plot_posterior_nodes([a_Intercept,a_cTBS])\n",
    "# plt.xlabel('boundary')\n",
    "# plt.ylabel('Posterior probability')\n",
    "# plt.title('Full model')\n",
    "\n",
    "v_Intercept,v_cTBS = D_L_C_N_fm.nodes_db.loc[[\"v_Intercept\",\"v_C(turn_type, Treatment('Sham'))[T.Left cTBS]\"], 'node']\n",
    "# hddm.analyze.plot_posterior_nodes([v_Intercept,v_cTBS])\n",
    "# plt.xlabel('drift-rate')\n",
    "# plt.ylabel('Posterior probability')\n",
    "# plt.title('Full model')\n",
    "\n",
    "z_Intercept,z_cTBS = D_L_C_N_fm.nodes_db.loc[[\"z_Intercept\",\"z_C(turn_type, Treatment('Sham'))[T.Left cTBS]\"], 'node']\n",
    "# hddm.analyze.plot_posterior_nodes([z_Intercept,z_cTBS])\n",
    "# plt.xlabel('starting point')\n",
    "# plt.ylabel('Posterior probability')\n",
    "# plt.title('Full model')\n",
    "\n",
    "\n",
    "fig, ax = plt.subplots()\n",
    "fig.set_size_inches(4.5*cm,2.5*cm)\n",
    "\n",
    "para_tag=['boundary(a)','drift rate(v)','starting point(z)']\n",
    "counts = [a_cTBS.trace()/(max(a_cTBS.trace())-min(a_cTBS.trace())),v_cTBS.trace()/(max(v_cTBS.trace())-min(v_cTBS.trace())),z_cTBS.trace()/(max(z_cTBS.trace())-min(z_cTBS.trace()))]\n",
    "\n",
    "ax.axhline(y = 0, color =[0.5,0.5,0.5], linestyle =\"--\", linewidth = 0.5, zorder=0)\n",
    "\n",
    "vioparts=ax.violinplot(counts)\n",
    "for pc in vioparts['bodies']:\n",
    "    pc.set_facecolor([197./255,158./255,226./255])\n",
    "    pc.set_edgecolor('black')\n",
    "    pc.set_linewidth(0.5)\n",
    "    pc.set_alpha(0.8)\n",
    "vioparts['cbars'].set_color('black')\n",
    "vioparts['cbars'].set_linewidth(0.5)\n",
    "vioparts['cmaxes'].set_color('black')\n",
    "vioparts['cmaxes'].set_linewidth(0.5)\n",
    "vioparts['cmins'].set_color('black')\n",
    "vioparts['cmins'].set_linewidth(0.5)\n",
    "\n",
    "ax.set_xticks([1,2,3])\n",
    "ax.set_xticklabels(para_tag)\n",
    "#ax.set_title('Full model: Left cTBS consonant quiet')\n",
    "#ax.set_ylabel('Regression coef (normalized)')\n",
    "ax.set_ylim([-1.5,1.8])\n",
    "ax.set_yticks([-1.5,-0.9,-0.3,0.3,0.9,1.5,1.8])\n",
    "ax.set_yticklabels([-1.5,-0.9,-0.3,0.3,0.9,1.5])\n",
    "ax.spines['right'].set_visible(False)\n",
    "ax.spines['top'].set_visible(False)\n",
    "\n",
    "ax.tick_params('both',which='major',direction='in',width=0.5,length=2)\n",
    "plt.rcParams['savefig.dpi']=300\n",
    "plt.rcParams['font.size']=5\n",
    "plt.rcParams['font.family']='Arial'\n",
    "plt.savefig(D_name+'cTBS_DDMparas.pdf',bbox_inches = 'tight',transparent=True)\n",
    "plt.show()\n",
    "\n",
    "print(\"P(a > Sham) = \", (a_cTBS.trace() > 0).mean())\n",
    "print(\"P(v > Sham) = \", (v_cTBS.trace() > 0).mean())\n",
    "print(\"P(z > Sham) = \", (z_cTBS.trace() > 0).mean())"
   ]
  },
  {
   "cell_type": "markdown",
   "metadata": {},
   "source": [
    "### check full model simulation prediction accuracy"
   ]
  },
  {
   "cell_type": "markdown",
   "metadata": {},
   "source": [
    "#### fit the full model"
   ]
  },
  {
   "cell_type": "code",
   "execution_count": 16,
   "metadata": {},
   "outputs": [
    {
     "name": "stdout",
     "output_type": "stream",
     "text": [
      "Adding these covariates:\n",
      "['a_Intercept', \"a_C(turn_type, Treatment('Sham'))[T.Left cTBS]\"]\n",
      "Adding these covariates:\n",
      "['v_Intercept', \"v_C(turn_type, Treatment('Sham'))[T.Left cTBS]\"]\n",
      "Adding these covariates:\n",
      "['z_Intercept', \"z_C(turn_type, Treatment('Sham'))[T.Left cTBS]\"]\n",
      " [-----------------100%-----------------] 2001 of 2000 complete in 3919.3 sec"
     ]
    },
    {
     "data": {
      "text/plain": [
       "<pymc.MCMC.MCMC at 0x7fadc463ced0>"
      ]
     },
     "execution_count": 16,
     "metadata": {},
     "output_type": "execute_result"
    }
   ],
   "source": [
    "fm_data_2=D_L_C_N\n",
    "fm_data_2.reset_index(inplace = True, drop = True)\n",
    "a_reg = {'model': \"a ~ 1 + C(turn_type, Treatment('Sham'))\",'link_func': lambda x: x}\n",
    "v_reg = {'model': \"v ~ 1 + C(turn_type, Treatment('Sham'))\",'link_func': lambda x: x}\n",
    "z_reg = {'model': \"z ~ 1 + C(turn_type, Treatment('Sham'))\",'link_func': lambda x: x}\n",
    "reg_descr = [a_reg,v_reg,z_reg]\n",
    "fm_2 = hddm.HDDMRegressor(fm_data_2, reg_descr, include='z')\n",
    "fm_2.find_starting_values()\n",
    "fm_2.sample(2000, burn=20, dbname='traces.db', db='pickle')"
   ]
  },
  {
   "cell_type": "markdown",
   "metadata": {},
   "source": [
    "#### plot the full model (compared with the original full model)"
   ]
  },
  {
   "cell_type": "code",
   "execution_count": 17,
   "metadata": {},
   "outputs": [
    {
     "data": {
      "image/png": "[encoded data removed]",
      "text/plain": [
       "<Figure size 288x288 with 1 Axes>"
      ]
     },
     "metadata": {
      "needs_background": "light"
     },
     "output_type": "display_data"
    },
    {
     "name": "stdout",
     "output_type": "stream",
     "text": [
      "('P(a > Sham) = ', 0.9904040404040404)\n",
      "('P(v > Sham) = ', 0.9994949494949495)\n",
      "('P(z > Sham) = ', 0.0)\n"
     ]
    }
   ],
   "source": [
    "a_Intercept,a_cTBS = fm_2.nodes_db.loc[[\"a_Intercept\",\"a_C(turn_type, Treatment('Sham'))[T.Left cTBS]\"], 'node']\n",
    "v_Intercept,v_cTBS = fm_2.nodes_db.loc[[\"v_Intercept\",\"v_C(turn_type, Treatment('Sham'))[T.Left cTBS]\"], 'node']\n",
    "z_Intercept,z_cTBS = fm_2.nodes_db.loc[[\"z_Intercept\",\"z_C(turn_type, Treatment('Sham'))[T.Left cTBS]\"], 'node']\n",
    "\n",
    "fig, ax = plt.subplots()\n",
    "fig.set_size_inches(4,4)\n",
    "\n",
    "para_tag=['boundary(a)','drift rate(v)','starting point(z)']\n",
    "counts = [a_cTBS.trace()/(max(a_cTBS.trace())-min(a_cTBS.trace())),v_cTBS.trace()/(max(v_cTBS.trace())-min(v_cTBS.trace())),z_cTBS.trace()/(max(z_cTBS.trace())-min(z_cTBS.trace()))]\n",
    "\n",
    "ax.axhline(y = 0, color =\"green\", linestyle =\"--\")\n",
    "ax.violinplot(counts)\n",
    "ax.set_xticks([1,2,3])\n",
    "ax.set_xticklabels(para_tag)\n",
    "ax.set_title('Full model: Left cTBS consonant quiet')\n",
    "ax.set_ylabel('Regression coef (normalized)')\n",
    "ax.set_ylim([-1.8,1.8])\n",
    "ax.spines['right'].set_visible(False)\n",
    "ax.spines['top'].set_visible(False)\n",
    "\n",
    "plt.show()\n",
    "\n",
    "print(\"P(a > Sham) = \", (a_cTBS.trace() > 0).mean())\n",
    "print(\"P(v > Sham) = \", (v_cTBS.trace() > 0).mean())\n",
    "print(\"P(z > Sham) = \", (z_cTBS.trace() > 0).mean())"
   ]
  },
  {
   "cell_type": "markdown",
   "metadata": {},
   "source": [
    "#### predict data from simulated data derived from full model"
   ]
  },
  {
   "cell_type": "code",
   "execution_count": 18,
   "metadata": {},
   "outputs": [
    {
     "name": "stdout",
     "output_type": "stream",
     "text": [
      " [-------------------112%-------------------] 28 of 25 complete in 23028.1 sec"
     ]
    },
    {
     "data": {
      "text/html": [
       "<div>\n",
       "<style scoped>\n",
       "    .dataframe tbody tr th:only-of-type {\n",
       "        vertical-align: middle;\n",
       "    }\n",
       "\n",
       "    .dataframe tbody tr th {\n",
       "        vertical-align: top;\n",
       "    }\n",
       "\n",
       "    .dataframe thead th {\n",
       "        text-align: right;\n",
       "    }\n",
       "</style>\n",
       "<table border=\"1\" class=\"dataframe\">\n",
       "  <thead>\n",
       "    <tr style=\"text-align: right;\">\n",
       "      <th></th>\n",
       "      <th>observed</th>\n",
       "      <th>mean</th>\n",
       "      <th>std</th>\n",
       "      <th>SEM</th>\n",
       "      <th>MSE</th>\n",
       "      <th>credible</th>\n",
       "      <th>quantile</th>\n",
       "      <th>mahalanobis</th>\n",
       "    </tr>\n",
       "    <tr>\n",
       "      <th>stat</th>\n",
       "      <th></th>\n",
       "      <th></th>\n",
       "      <th></th>\n",
       "      <th></th>\n",
       "      <th></th>\n",
       "      <th></th>\n",
       "      <th></th>\n",
       "      <th></th>\n",
       "    </tr>\n",
       "  </thead>\n",
       "  <tbody>\n",
       "    <tr>\n",
       "      <th>accuracy</th>\n",
       "      <td>0.549487</td>\n",
       "      <td>0.551850</td>\n",
       "      <td>0.173133</td>\n",
       "      <td>0.000006</td>\n",
       "      <td>0.029981</td>\n",
       "      <td>True</td>\n",
       "      <td>50.840000</td>\n",
       "      <td>0.013650</td>\n",
       "    </tr>\n",
       "    <tr>\n",
       "      <th>mean_ub</th>\n",
       "      <td>0.696942</td>\n",
       "      <td>0.722390</td>\n",
       "      <td>0.124839</td>\n",
       "      <td>0.000648</td>\n",
       "      <td>0.016232</td>\n",
       "      <td>True</td>\n",
       "      <td>47.816002</td>\n",
       "      <td>0.203845</td>\n",
       "    </tr>\n",
       "    <tr>\n",
       "      <th>std_ub</th>\n",
       "      <td>0.271496</td>\n",
       "      <td>0.253143</td>\n",
       "      <td>0.070518</td>\n",
       "      <td>0.000337</td>\n",
       "      <td>0.005310</td>\n",
       "      <td>True</td>\n",
       "      <td>62.695999</td>\n",
       "      <td>0.260259</td>\n",
       "    </tr>\n",
       "    <tr>\n",
       "      <th>10q_ub</th>\n",
       "      <td>0.454424</td>\n",
       "      <td>0.494963</td>\n",
       "      <td>0.093039</td>\n",
       "      <td>0.001643</td>\n",
       "      <td>0.010300</td>\n",
       "      <td>True</td>\n",
       "      <td>40.495998</td>\n",
       "      <td>0.435720</td>\n",
       "    </tr>\n",
       "    <tr>\n",
       "      <th>30q_ub</th>\n",
       "      <td>0.559511</td>\n",
       "      <td>0.562006</td>\n",
       "      <td>0.100387</td>\n",
       "      <td>0.000006</td>\n",
       "      <td>0.010084</td>\n",
       "      <td>True</td>\n",
       "      <td>53.256001</td>\n",
       "      <td>0.024854</td>\n",
       "    </tr>\n",
       "    <tr>\n",
       "      <th>50q_ub</th>\n",
       "      <td>0.643323</td>\n",
       "      <td>0.645944</td>\n",
       "      <td>0.113093</td>\n",
       "      <td>0.000007</td>\n",
       "      <td>0.012797</td>\n",
       "      <td>True</td>\n",
       "      <td>51.784000</td>\n",
       "      <td>0.023176</td>\n",
       "    </tr>\n",
       "    <tr>\n",
       "      <th>70q_ub</th>\n",
       "      <td>0.743101</td>\n",
       "      <td>0.773842</td>\n",
       "      <td>0.136947</td>\n",
       "      <td>0.000945</td>\n",
       "      <td>0.019700</td>\n",
       "      <td>True</td>\n",
       "      <td>47.071999</td>\n",
       "      <td>0.224470</td>\n",
       "    </tr>\n",
       "    <tr>\n",
       "      <th>90q_ub</th>\n",
       "      <td>0.983870</td>\n",
       "      <td>1.048445</td>\n",
       "      <td>0.199577</td>\n",
       "      <td>0.004170</td>\n",
       "      <td>0.044001</td>\n",
       "      <td>True</td>\n",
       "      <td>44.320000</td>\n",
       "      <td>0.323560</td>\n",
       "    </tr>\n",
       "    <tr>\n",
       "      <th>mean_lb</th>\n",
       "      <td>-0.730530</td>\n",
       "      <td>-0.742989</td>\n",
       "      <td>0.128053</td>\n",
       "      <td>0.000155</td>\n",
       "      <td>0.016553</td>\n",
       "      <td>True</td>\n",
       "      <td>51.903999</td>\n",
       "      <td>0.097291</td>\n",
       "    </tr>\n",
       "    <tr>\n",
       "      <th>std_lb</th>\n",
       "      <td>0.262669</td>\n",
       "      <td>0.254684</td>\n",
       "      <td>0.073464</td>\n",
       "      <td>0.000064</td>\n",
       "      <td>0.005461</td>\n",
       "      <td>True</td>\n",
       "      <td>58.256001</td>\n",
       "      <td>0.108695</td>\n",
       "    </tr>\n",
       "    <tr>\n",
       "      <th>10q_lb</th>\n",
       "      <td>0.488984</td>\n",
       "      <td>0.509421</td>\n",
       "      <td>0.091915</td>\n",
       "      <td>0.000418</td>\n",
       "      <td>0.008866</td>\n",
       "      <td>True</td>\n",
       "      <td>45.023998</td>\n",
       "      <td>0.222340</td>\n",
       "    </tr>\n",
       "    <tr>\n",
       "      <th>30q_lb</th>\n",
       "      <td>0.606077</td>\n",
       "      <td>0.582019</td>\n",
       "      <td>0.101066</td>\n",
       "      <td>0.000579</td>\n",
       "      <td>0.010793</td>\n",
       "      <td>True</td>\n",
       "      <td>58.959999</td>\n",
       "      <td>0.238038</td>\n",
       "    </tr>\n",
       "    <tr>\n",
       "      <th>50q_lb</th>\n",
       "      <td>0.686651</td>\n",
       "      <td>0.669134</td>\n",
       "      <td>0.115541</td>\n",
       "      <td>0.000307</td>\n",
       "      <td>0.013656</td>\n",
       "      <td>True</td>\n",
       "      <td>57.768002</td>\n",
       "      <td>0.151607</td>\n",
       "    </tr>\n",
       "    <tr>\n",
       "      <th>70q_lb</th>\n",
       "      <td>0.784078</td>\n",
       "      <td>0.798188</td>\n",
       "      <td>0.141416</td>\n",
       "      <td>0.000199</td>\n",
       "      <td>0.020197</td>\n",
       "      <td>True</td>\n",
       "      <td>49.448002</td>\n",
       "      <td>0.099772</td>\n",
       "    </tr>\n",
       "    <tr>\n",
       "      <th>90q_lb</th>\n",
       "      <td>1.006047</td>\n",
       "      <td>1.070221</td>\n",
       "      <td>0.208892</td>\n",
       "      <td>0.004118</td>\n",
       "      <td>0.047754</td>\n",
       "      <td>True</td>\n",
       "      <td>44.439999</td>\n",
       "      <td>0.307212</td>\n",
       "    </tr>\n",
       "  </tbody>\n",
       "</table>\n",
       "</div>"
      ],
      "text/plain": [
       "          observed      mean       std       SEM       MSE credible  \\\n",
       "stat                                                                  \n",
       "accuracy  0.549487  0.551850  0.173133  0.000006  0.029981     True   \n",
       "mean_ub   0.696942  0.722390  0.124839  0.000648  0.016232     True   \n",
       "std_ub    0.271496  0.253143  0.070518  0.000337  0.005310     True   \n",
       "10q_ub    0.454424  0.494963  0.093039  0.001643  0.010300     True   \n",
       "30q_ub    0.559511  0.562006  0.100387  0.000006  0.010084     True   \n",
       "50q_ub    0.643323  0.645944  0.113093  0.000007  0.012797     True   \n",
       "70q_ub    0.743101  0.773842  0.136947  0.000945  0.019700     True   \n",
       "90q_ub    0.983870  1.048445  0.199577  0.004170  0.044001     True   \n",
       "mean_lb  -0.730530 -0.742989  0.128053  0.000155  0.016553     True   \n",
       "std_lb    0.262669  0.254684  0.073464  0.000064  0.005461     True   \n",
       "10q_lb    0.488984  0.509421  0.091915  0.000418  0.008866     True   \n",
       "30q_lb    0.606077  0.582019  0.101066  0.000579  0.010793     True   \n",
       "50q_lb    0.686651  0.669134  0.115541  0.000307  0.013656     True   \n",
       "70q_lb    0.784078  0.798188  0.141416  0.000199  0.020197     True   \n",
       "90q_lb    1.006047  1.070221  0.208892  0.004118  0.047754     True   \n",
       "\n",
       "           quantile  mahalanobis  \n",
       "stat                              \n",
       "accuracy  50.840000     0.013650  \n",
       "mean_ub   47.816002     0.203845  \n",
       "std_ub    62.695999     0.260259  \n",
       "10q_ub    40.495998     0.435720  \n",
       "30q_ub    53.256001     0.024854  \n",
       "50q_ub    51.784000     0.023176  \n",
       "70q_ub    47.071999     0.224470  \n",
       "90q_ub    44.320000     0.323560  \n",
       "mean_lb   51.903999     0.097291  \n",
       "std_lb    58.256001     0.108695  \n",
       "10q_lb    45.023998     0.222340  \n",
       "30q_lb    58.959999     0.238038  \n",
       "50q_lb    57.768002     0.151607  \n",
       "70q_lb    49.448002     0.099772  \n",
       "90q_lb    44.439999     0.307212  "
      ]
     },
     "execution_count": 18,
     "metadata": {},
     "output_type": "execute_result"
    }
   ],
   "source": [
    "fm_data_2_sim = hddm.utils.post_pred_gen(fm_2)\n",
    "hddm.utils.post_pred_stats(fm_data_2, fm_data_2_sim)"
   ]
  },
  {
   "cell_type": "code",
   "execution_count": 19,
   "metadata": {},
   "outputs": [
    {
     "data": {
      "text/plain": [
       "3"
      ]
     },
     "execution_count": 19,
     "metadata": {},
     "output_type": "execute_result"
    }
   ],
   "source": [
    "7800/1980"
   ]
  }
 ],
 "metadata": {
  "kernelspec": {
   "display_name": "Python 2.7.18 ('bsliang_DDM_27': conda)",
   "language": "python",
   "name": "python3"
  },
  "language_info": {
   "codemirror_mode": {
    "name": "ipython",
    "version": 2
   },
   "file_extension": ".py",
   "mimetype": "text/x-python",
   "name": "python",
   "nbconvert_exporter": "python",
   "pygments_lexer": "ipython2",
   "version": "2.7.18"
  },
  "orig_nbformat": 4,
  "vscode": {
   "interpreter": {
    "hash": "800a09db568ebe80aacfc1bc086e45a31a7cff3ccaf522d8b640d0dfbe2b8801"
   }
  }
 },
 "nbformat": 4,
 "nbformat_minor": 2
}
