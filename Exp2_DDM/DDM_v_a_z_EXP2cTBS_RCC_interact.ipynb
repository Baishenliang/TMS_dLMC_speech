{
 "cells": [
  {
   "cell_type": "markdown",
   "metadata": {},
   "source": [
    "# TBS"
   ]
  },
  {
   "cell_type": "markdown",
   "metadata": {},
   "source": [
    "## preparing"
   ]
  },
  {
   "cell_type": "code",
   "execution_count": 17,
   "metadata": {},
   "outputs": [],
   "source": [
    "import pandas as pd\n",
    "import matplotlib.pyplot as plt\n",
    "import hddm\n",
    "import numpy as np\n",
    "import pickle\n",
    "from patsy import dmatrices, dmatrix, demo_data\n",
    "cm = 1/2.54"
   ]
  },
  {
   "cell_type": "markdown",
   "metadata": {},
   "source": [
    "## loading data"
   ]
  },
  {
   "cell_type": "code",
   "execution_count": 2,
   "metadata": {},
   "outputs": [
    {
     "data": {
      "text/html": [
       "<div>\n",
       "<style scoped>\n",
       "    .dataframe tbody tr th:only-of-type {\n",
       "        vertical-align: middle;\n",
       "    }\n",
       "\n",
       "    .dataframe tbody tr th {\n",
       "        vertical-align: top;\n",
       "    }\n",
       "\n",
       "    .dataframe thead th {\n",
       "        text-align: right;\n",
       "    }\n",
       "</style>\n",
       "<table border=\"1\" class=\"dataframe\">\n",
       "  <thead>\n",
       "    <tr style=\"text-align: right;\">\n",
       "      <th></th>\n",
       "      <th>subj_idx</th>\n",
       "      <th>group_idx</th>\n",
       "      <th>turn_type</th>\n",
       "      <th>task_type</th>\n",
       "      <th>snr_type</th>\n",
       "      <th>trial_num</th>\n",
       "      <th>step_att</th>\n",
       "      <th>response</th>\n",
       "      <th>rt</th>\n",
       "      <th>step_unatnd</th>\n",
       "    </tr>\n",
       "  </thead>\n",
       "  <tbody>\n",
       "    <tr>\n",
       "      <th>0</th>\n",
       "      <td>55</td>\n",
       "      <td>Larynx</td>\n",
       "      <td>Left iTBS</td>\n",
       "      <td>Tone</td>\n",
       "      <td>Clear</td>\n",
       "      <td>1</td>\n",
       "      <td>3</td>\n",
       "      <td>1</td>\n",
       "      <td>1.083317</td>\n",
       "      <td>1</td>\n",
       "    </tr>\n",
       "    <tr>\n",
       "      <th>1</th>\n",
       "      <td>55</td>\n",
       "      <td>Larynx</td>\n",
       "      <td>Left iTBS</td>\n",
       "      <td>Tone</td>\n",
       "      <td>Clear</td>\n",
       "      <td>2</td>\n",
       "      <td>2</td>\n",
       "      <td>1</td>\n",
       "      <td>0.744397</td>\n",
       "      <td>1</td>\n",
       "    </tr>\n",
       "    <tr>\n",
       "      <th>2</th>\n",
       "      <td>55</td>\n",
       "      <td>Larynx</td>\n",
       "      <td>Left iTBS</td>\n",
       "      <td>Tone</td>\n",
       "      <td>Clear</td>\n",
       "      <td>3</td>\n",
       "      <td>2</td>\n",
       "      <td>1</td>\n",
       "      <td>0.732525</td>\n",
       "      <td>1</td>\n",
       "    </tr>\n",
       "    <tr>\n",
       "      <th>3</th>\n",
       "      <td>55</td>\n",
       "      <td>Larynx</td>\n",
       "      <td>Left iTBS</td>\n",
       "      <td>Tone</td>\n",
       "      <td>Clear</td>\n",
       "      <td>4</td>\n",
       "      <td>1</td>\n",
       "      <td>1</td>\n",
       "      <td>0.800199</td>\n",
       "      <td>1</td>\n",
       "    </tr>\n",
       "    <tr>\n",
       "      <th>4</th>\n",
       "      <td>55</td>\n",
       "      <td>Larynx</td>\n",
       "      <td>Left iTBS</td>\n",
       "      <td>Tone</td>\n",
       "      <td>Clear</td>\n",
       "      <td>5</td>\n",
       "      <td>2</td>\n",
       "      <td>1</td>\n",
       "      <td>0.753649</td>\n",
       "      <td>1</td>\n",
       "    </tr>\n",
       "    <tr>\n",
       "      <th>5</th>\n",
       "      <td>55</td>\n",
       "      <td>Larynx</td>\n",
       "      <td>Left iTBS</td>\n",
       "      <td>Tone</td>\n",
       "      <td>Clear</td>\n",
       "      <td>6</td>\n",
       "      <td>2</td>\n",
       "      <td>1</td>\n",
       "      <td>0.544652</td>\n",
       "      <td>1</td>\n",
       "    </tr>\n",
       "    <tr>\n",
       "      <th>6</th>\n",
       "      <td>55</td>\n",
       "      <td>Larynx</td>\n",
       "      <td>Left iTBS</td>\n",
       "      <td>Tone</td>\n",
       "      <td>Clear</td>\n",
       "      <td>7</td>\n",
       "      <td>1</td>\n",
       "      <td>1</td>\n",
       "      <td>0.621313</td>\n",
       "      <td>1</td>\n",
       "    </tr>\n",
       "    <tr>\n",
       "      <th>7</th>\n",
       "      <td>55</td>\n",
       "      <td>Larynx</td>\n",
       "      <td>Left iTBS</td>\n",
       "      <td>Tone</td>\n",
       "      <td>Clear</td>\n",
       "      <td>8</td>\n",
       "      <td>1</td>\n",
       "      <td>1</td>\n",
       "      <td>0.580819</td>\n",
       "      <td>1</td>\n",
       "    </tr>\n",
       "    <tr>\n",
       "      <th>8</th>\n",
       "      <td>55</td>\n",
       "      <td>Larynx</td>\n",
       "      <td>Left iTBS</td>\n",
       "      <td>Tone</td>\n",
       "      <td>Clear</td>\n",
       "      <td>9</td>\n",
       "      <td>1</td>\n",
       "      <td>0</td>\n",
       "      <td>-0.496794</td>\n",
       "      <td>1</td>\n",
       "    </tr>\n",
       "    <tr>\n",
       "      <th>9</th>\n",
       "      <td>55</td>\n",
       "      <td>Larynx</td>\n",
       "      <td>Left iTBS</td>\n",
       "      <td>Tone</td>\n",
       "      <td>Clear</td>\n",
       "      <td>10</td>\n",
       "      <td>3</td>\n",
       "      <td>1</td>\n",
       "      <td>0.863869</td>\n",
       "      <td>1</td>\n",
       "    </tr>\n",
       "  </tbody>\n",
       "</table>\n",
       "</div>"
      ],
      "text/plain": [
       "   subj_idx group_idx  turn_type task_type snr_type  trial_num  step_att  \\\n",
       "0        55    Larynx  Left iTBS      Tone    Clear          1         3   \n",
       "1        55    Larynx  Left iTBS      Tone    Clear          2         2   \n",
       "2        55    Larynx  Left iTBS      Tone    Clear          3         2   \n",
       "3        55    Larynx  Left iTBS      Tone    Clear          4         1   \n",
       "4        55    Larynx  Left iTBS      Tone    Clear          5         2   \n",
       "5        55    Larynx  Left iTBS      Tone    Clear          6         2   \n",
       "6        55    Larynx  Left iTBS      Tone    Clear          7         1   \n",
       "7        55    Larynx  Left iTBS      Tone    Clear          8         1   \n",
       "8        55    Larynx  Left iTBS      Tone    Clear          9         1   \n",
       "9        55    Larynx  Left iTBS      Tone    Clear         10         3   \n",
       "\n",
       "   response        rt  step_unatnd  \n",
       "0         1  1.083317            1  \n",
       "1         1  0.744397            1  \n",
       "2         1  0.732525            1  \n",
       "3         1  0.800199            1  \n",
       "4         1  0.753649            1  \n",
       "5         1  0.544652            1  \n",
       "6         1  0.621313            1  \n",
       "7         1  0.580819            1  \n",
       "8         0 -0.496794            1  \n",
       "9         1  0.863869            1  "
      ]
     },
     "execution_count": 2,
     "metadata": {},
     "output_type": "execute_result"
    }
   ],
   "source": [
    "data = hddm.load_csv('exp2_DDM.csv')\n",
    "data.at[data['step_att'].isin(['4']),'step_att']=2\n",
    "data.at[data['step_att'].isin(['5']),'step_att']=1\n",
    "data = hddm.utils.flip_errors(data)\n",
    "data.head(10)"
   ]
  },
  {
   "cell_type": "markdown",
   "metadata": {},
   "source": [
    "## right stim, consonant, clear"
   ]
  },
  {
   "cell_type": "markdown",
   "metadata": {},
   "source": [
    "### preparing data"
   ]
  },
  {
   "cell_type": "code",
   "execution_count": 3,
   "metadata": {},
   "outputs": [
    {
     "name": "stdout",
     "output_type": "stream",
     "text": [
      "       subj_idx group_idx   turn_type task_type snr_type  trial_num  step_att  \\\n",
      "2028         55    Larynx  Right cTBS      Cons    Clear          1         3   \n",
      "2029         55    Larynx  Right cTBS      Cons    Clear          2         2   \n",
      "2030         55    Larynx  Right cTBS      Cons    Clear          3         2   \n",
      "2031         55    Larynx  Right cTBS      Cons    Clear          4         1   \n",
      "2032         55    Larynx  Right cTBS      Cons    Clear          5         2   \n",
      "2033         55    Larynx  Right cTBS      Cons    Clear          6         2   \n",
      "2034         55    Larynx  Right cTBS      Cons    Clear          7         1   \n",
      "2035         55    Larynx  Right cTBS      Cons    Clear          8         1   \n",
      "2036         55    Larynx  Right cTBS      Cons    Clear          9         1   \n",
      "2037         55    Larynx  Right cTBS      Cons    Clear         10         3   \n",
      "2038         55    Larynx  Right cTBS      Cons    Clear         11         1   \n",
      "2039         55    Larynx  Right cTBS      Cons    Clear         12         2   \n",
      "2040         55    Larynx  Right cTBS      Cons    Clear         13         3   \n",
      "2041         55    Larynx  Right cTBS      Cons    Clear         14         1   \n",
      "2042         55    Larynx  Right cTBS      Cons    Clear         15         1   \n",
      "2043         55    Larynx  Right cTBS      Cons    Clear         16         2   \n",
      "2044         55    Larynx  Right cTBS      Cons    Clear         17         3   \n",
      "2045         55    Larynx  Right cTBS      Cons    Clear         18         1   \n",
      "2046         55    Larynx  Right cTBS      Cons    Clear         19         3   \n",
      "2047         55    Larynx  Right cTBS      Cons    Clear         20         3   \n",
      "2048         55    Larynx  Right cTBS      Cons    Clear         21         3   \n",
      "2049         55    Larynx  Right cTBS      Cons    Clear         22         2   \n",
      "2050         55    Larynx  Right cTBS      Cons    Clear         23         2   \n",
      "2051         55    Larynx  Right cTBS      Cons    Clear         24         1   \n",
      "2052         55    Larynx  Right cTBS      Cons    Clear         25         3   \n",
      "2053         55    Larynx  Right cTBS      Cons    Clear         26         3   \n",
      "2054         55    Larynx  Right cTBS      Cons    Clear         27         3   \n",
      "2055         55    Larynx  Right cTBS      Cons    Clear         28         1   \n",
      "2056         55    Larynx  Right cTBS      Cons    Clear         29         2   \n",
      "2057         55    Larynx  Right cTBS      Cons    Clear         30         2   \n",
      "...         ...       ...         ...       ...      ...        ...       ...   \n",
      "78282       253    Larynx        Sham      Cons    Clear        127         2   \n",
      "78283       253    Larynx        Sham      Cons    Clear        128         2   \n",
      "78284       253    Larynx        Sham      Cons    Clear        129         1   \n",
      "78285       253    Larynx        Sham      Cons    Clear        130         2   \n",
      "78286       253    Larynx        Sham      Cons    Clear        131         1   \n",
      "78287       253    Larynx        Sham      Cons    Clear        132         2   \n",
      "78288       253    Larynx        Sham      Cons    Clear        133         1   \n",
      "78289       253    Larynx        Sham      Cons    Clear        134         3   \n",
      "78290       253    Larynx        Sham      Cons    Clear        135         3   \n",
      "78291       253    Larynx        Sham      Cons    Clear        136         3   \n",
      "78292       253    Larynx        Sham      Cons    Clear        137         2   \n",
      "78293       253    Larynx        Sham      Cons    Clear        138         3   \n",
      "78294       253    Larynx        Sham      Cons    Clear        139         2   \n",
      "78295       253    Larynx        Sham      Cons    Clear        140         3   \n",
      "78296       253    Larynx        Sham      Cons    Clear        141         2   \n",
      "78297       253    Larynx        Sham      Cons    Clear        142         1   \n",
      "78298       253    Larynx        Sham      Cons    Clear        143         1   \n",
      "78299       253    Larynx        Sham      Cons    Clear        144         2   \n",
      "78300       253    Larynx        Sham      Cons    Clear        145         3   \n",
      "78301       253    Larynx        Sham      Cons    Clear        146         2   \n",
      "78302       253    Larynx        Sham      Cons    Clear        147         1   \n",
      "78303       253    Larynx        Sham      Cons    Clear        148         1   \n",
      "78304       253    Larynx        Sham      Cons    Clear        149         2   \n",
      "78305       253    Larynx        Sham      Cons    Clear        150         1   \n",
      "78306       253    Larynx        Sham      Cons    Clear        151         1   \n",
      "78307       253    Larynx        Sham      Cons    Clear        152         1   \n",
      "78308       253    Larynx        Sham      Cons    Clear        153         2   \n",
      "78309       253    Larynx        Sham      Cons    Clear        154         3   \n",
      "78310       253    Larynx        Sham      Cons    Clear        155         2   \n",
      "78311       253    Larynx        Sham      Cons    Clear        156         2   \n",
      "\n",
      "       response        rt  step_unatnd  \n",
      "2028          1  1.436615            1  \n",
      "2029          1  0.890449            1  \n",
      "2030          1  0.552129            1  \n",
      "2031          1  0.504865            1  \n",
      "2032          1  0.487305            1  \n",
      "2033          1  0.497129            1  \n",
      "2034          1  0.517081            1  \n",
      "2035          1  0.529132            1  \n",
      "2036          0 -0.529689            1  \n",
      "2037          1  0.493304            1  \n",
      "2038          1  0.560370            1  \n",
      "2039          0 -0.632405            1  \n",
      "2040          1  0.895717            1  \n",
      "2041          0 -1.368152            1  \n",
      "2042          0 -0.591915            1  \n",
      "2043          0 -1.011090            1  \n",
      "2044          1  0.553800            1  \n",
      "2045          0 -0.609624            1  \n",
      "2046          1  0.556187            1  \n",
      "2047          1  0.607320            1  \n",
      "2048          1  0.609581            1  \n",
      "2049          1  0.540372            1  \n",
      "2050          1  0.523060            1  \n",
      "2051          1  0.489787            1  \n",
      "2052          1  0.529333            1  \n",
      "2053          1  0.827785            1  \n",
      "2054          1  0.645039            1  \n",
      "2055          0 -0.520400            1  \n",
      "2056          1  0.607232            1  \n",
      "2057          0 -0.739962            1  \n",
      "...         ...       ...          ...  \n",
      "78282         0 -0.596020            1  \n",
      "78283         1  0.483886            1  \n",
      "78284         1  0.480658            1  \n",
      "78285         0 -0.554141            1  \n",
      "78286         0 -0.483899            1  \n",
      "78287         0 -0.735664            1  \n",
      "78288         1  0.569922            1  \n",
      "78289         1  0.720954            1  \n",
      "78290         0 -0.799678            1  \n",
      "78291         1  0.687716            1  \n",
      "78292         0 -0.810177            1  \n",
      "78293         1  0.640178            1  \n",
      "78294         1  0.578575            1  \n",
      "78295         1  0.542345            1  \n",
      "78296         1  0.521091            1  \n",
      "78297         0 -0.483623            1  \n",
      "78298         1  0.646792            1  \n",
      "78299         0 -0.656289            1  \n",
      "78300         1  0.553948            1  \n",
      "78301         1  0.770307            1  \n",
      "78302         0 -0.506785            1  \n",
      "78303         0 -0.672766            1  \n",
      "78304         0 -0.721732            1  \n",
      "78305         1  0.609379            1  \n",
      "78306         1  0.689112            1  \n",
      "78307         1  0.545095            1  \n",
      "78308         1  0.401211            1  \n",
      "78309         0 -0.672633            1  \n",
      "78310         0 -0.584967            1  \n",
      "78311         1  0.515722            1  \n",
      "\n",
      "[7800 rows x 10 columns]\n"
     ]
    }
   ],
   "source": [
    "D_R=data.loc[data['turn_type'].isin(['Right cTBS','Sham'])]\n",
    "D_R_C=D_R.loc[D_R['task_type']=='Cons']\n",
    "D_R_C_Q=D_R_C.loc[D_R_C['snr_type']=='Clear']\n",
    "print(D_R_C_Q)\n",
    "D_R_C_Q.to_csv('Exp2_D_R_C_Q_cTBS.csv')"
   ]
  },
  {
   "cell_type": "markdown",
   "metadata": {},
   "source": [
    "### baseline model"
   ]
  },
  {
   "cell_type": "code",
   "execution_count": 4,
   "metadata": {},
   "outputs": [
    {
     "name": "stdout",
     "output_type": "stream",
     "text": [
      "Adding these covariates:\n",
      "['a_Intercept', \"a_C(turn_type, Treatment('Sham'))[T.Right cTBS]\"]\n",
      "Adding these covariates:\n",
      "['v_Intercept', \"v_C(turn_type, Treatment('Sham'))[T.Right cTBS]\"]\n",
      "Adding these covariates:\n",
      "['z_Intercept', \"z_C(turn_type, Treatment('Sham'))[T.Right cTBS]\"]\n"
     ]
    },
    {
     "name": "stderr",
     "output_type": "stream",
     "text": [
      "/home/bsliang/miniconda3/envs/bsliang_DDM_27/lib/python2.7/site-packages/scipy/optimize/optimize.py:1934: RuntimeWarning: invalid value encountered in double_scalars\n",
      "  tmp2 = (x - v) * (fx - fw)\n"
     ]
    },
    {
     "name": "stdout",
     "output_type": "stream",
     "text": [
      " [-----------------100%-----------------] 2001 of 2000 complete in 3929.8 sec"
     ]
    },
    {
     "data": {
      "text/plain": [
       "<pymc.MCMC.MCMC at 0x7f58d03c38d0>"
      ]
     },
     "execution_count": 4,
     "metadata": {},
     "output_type": "execute_result"
    }
   ],
   "source": [
    "a_reg = {'model': \"a ~ 1 + C(turn_type, Treatment('Sham'))\",'link_func': lambda x: x}\n",
    "v_reg = {'model': \"v ~ 1 + C(turn_type, Treatment('Sham'))\",'link_func': lambda x: x}\n",
    "z_reg = {'model': \"z ~ 1 + C(turn_type, Treatment('Sham'))\",'link_func': lambda x: x}\n",
    "reg_descr = [a_reg,v_reg,z_reg]\n",
    "D_R_C_Q_bsl = hddm.HDDMRegressor(D_R_C_Q, reg_descr, include='z')\n",
    "D_R_C_Q_bsl.find_starting_values()\n",
    "D_R_C_Q_bsl.sample(2000, burn=20, dbname='traces.db', db='pickle')"
   ]
  },
  {
   "cell_type": "markdown",
   "metadata": {},
   "source": [
    "### model 1: a only"
   ]
  },
  {
   "cell_type": "code",
   "execution_count": 5,
   "metadata": {},
   "outputs": [
    {
     "name": "stdout",
     "output_type": "stream",
     "text": [
      "Adding these covariates:\n",
      "['a_Intercept', \"a_step_att:C(turn_type, Treatment('Sham'))[Right cTBS]\", \"a_step_att:C(turn_type, Treatment('Sham'))[Sham]\"]\n",
      "Adding these covariates:\n",
      "['v_Intercept', \"v_C(turn_type, Treatment('Sham'))[T.Right cTBS]\"]\n",
      "Adding these covariates:\n",
      "['z_Intercept', \"z_C(turn_type, Treatment('Sham'))[T.Right cTBS]\"]\n",
      " [-----------------100%-----------------] 2001 of 2000 complete in 4559.1 sec"
     ]
    },
    {
     "data": {
      "text/plain": [
       "<pymc.MCMC.MCMC at 0x7f589005dcd0>"
      ]
     },
     "execution_count": 5,
     "metadata": {},
     "output_type": "execute_result"
    }
   ],
   "source": [
    "a_reg = {'model': \"a ~ 1 + step_att:C(turn_type, Treatment('Sham'))\",'link_func': lambda x: x}\n",
    "v_reg = {'model': \"v ~ 1 + C(turn_type, Treatment('Sham'))\",'link_func': lambda x: x}\n",
    "z_reg = {'model': \"z ~ 1 + C(turn_type, Treatment('Sham'))\",'link_func': lambda x: x}\n",
    "reg_descr = [a_reg,v_reg,z_reg]\n",
    "D_R_C_Q_am = hddm.HDDMRegressor(D_R_C_Q, reg_descr, include='z')\n",
    "D_R_C_Q_am.find_starting_values()\n",
    "D_R_C_Q_am.sample(2000, burn=20, dbname='traces.db', db='pickle')"
   ]
  },
  {
   "cell_type": "markdown",
   "metadata": {},
   "source": [
    "### model 2: v only"
   ]
  },
  {
   "cell_type": "code",
   "execution_count": 6,
   "metadata": {},
   "outputs": [
    {
     "name": "stdout",
     "output_type": "stream",
     "text": [
      "Adding these covariates:\n",
      "['a_Intercept', \"a_C(turn_type, Treatment('Sham'))[T.Right cTBS]\"]\n",
      "Adding these covariates:\n",
      "['v_Intercept', \"v_step_att:C(turn_type, Treatment('Sham'))[Right cTBS]\", \"v_step_att:C(turn_type, Treatment('Sham'))[Sham]\"]\n",
      "Adding these covariates:\n",
      "['z_Intercept', \"z_C(turn_type, Treatment('Sham'))[T.Right cTBS]\"]\n",
      " [-----------------100%-----------------] 2001 of 2000 complete in 4366.9 sec"
     ]
    },
    {
     "data": {
      "text/plain": [
       "<pymc.MCMC.MCMC at 0x7f58681bb3d0>"
      ]
     },
     "execution_count": 6,
     "metadata": {},
     "output_type": "execute_result"
    }
   ],
   "source": [
    "a_reg = {'model': \"a ~ 1 + C(turn_type, Treatment('Sham'))\",'link_func': lambda x: x}\n",
    "v_reg = {'model': \"v ~ 1 + step_att:C(turn_type, Treatment('Sham'))\",'link_func': lambda x: x}\n",
    "z_reg = {'model': \"z ~ 1 + C(turn_type, Treatment('Sham'))\",'link_func': lambda x: x}\n",
    "reg_descr = [a_reg,v_reg,z_reg]\n",
    "D_R_C_Q_vm = hddm.HDDMRegressor(D_R_C_Q, reg_descr, include='z')\n",
    "D_R_C_Q_vm.find_starting_values()\n",
    "D_R_C_Q_vm.sample(2000, burn=20, dbname='traces.db', db='pickle')"
   ]
  },
  {
   "cell_type": "markdown",
   "metadata": {},
   "source": [
    "### model 3: z only"
   ]
  },
  {
   "cell_type": "code",
   "execution_count": 7,
   "metadata": {},
   "outputs": [
    {
     "name": "stdout",
     "output_type": "stream",
     "text": [
      "Adding these covariates:\n",
      "['a_Intercept', \"a_C(turn_type, Treatment('Sham'))[T.Right cTBS]\"]\n",
      "Adding these covariates:\n",
      "['v_Intercept', \"v_C(turn_type, Treatment('Sham'))[T.Right cTBS]\"]\n",
      "Adding these covariates:\n",
      "['z_Intercept', \"z_step_att:C(turn_type, Treatment('Sham'))[Right cTBS]\", \"z_step_att:C(turn_type, Treatment('Sham'))[Sham]\"]\n",
      " [-----------------100%-----------------] 2001 of 2000 complete in 4542.2 sec"
     ]
    },
    {
     "data": {
      "text/plain": [
       "<pymc.MCMC.MCMC at 0x7f58b0633550>"
      ]
     },
     "execution_count": 7,
     "metadata": {},
     "output_type": "execute_result"
    }
   ],
   "source": [
    "a_reg = {'model': \"a ~ 1 + C(turn_type, Treatment('Sham'))\",'link_func': lambda x: x}\n",
    "v_reg = {'model': \"v ~ 1 + C(turn_type, Treatment('Sham'))\",'link_func': lambda x: x}\n",
    "z_reg = {'model': \"z ~ 1 + step_att:C(turn_type, Treatment('Sham'))\",'link_func': lambda x: x}\n",
    "reg_descr = [a_reg,v_reg,z_reg]\n",
    "D_R_C_Q_zm = hddm.HDDMRegressor(D_R_C_Q, reg_descr, include='z')\n",
    "D_R_C_Q_zm.find_starting_values()\n",
    "D_R_C_Q_zm.sample(2000, burn=20, dbname='traces.db', db='pickle')"
   ]
  },
  {
   "cell_type": "markdown",
   "metadata": {},
   "source": [
    "### model 4: a + v"
   ]
  },
  {
   "cell_type": "code",
   "execution_count": 8,
   "metadata": {},
   "outputs": [
    {
     "name": "stdout",
     "output_type": "stream",
     "text": [
      "Adding these covariates:\n",
      "['a_Intercept', \"a_step_att:C(turn_type, Treatment('Sham'))[Right cTBS]\", \"a_step_att:C(turn_type, Treatment('Sham'))[Sham]\"]\n",
      "Adding these covariates:\n",
      "['v_Intercept', \"v_step_att:C(turn_type, Treatment('Sham'))[Right cTBS]\", \"v_step_att:C(turn_type, Treatment('Sham'))[Sham]\"]\n",
      "Adding these covariates:\n",
      "['z_Intercept', \"z_C(turn_type, Treatment('Sham'))[T.Right cTBS]\"]\n",
      " [-----------------100%-----------------] 2001 of 2000 complete in 4878.2 sec"
     ]
    },
    {
     "data": {
      "text/plain": [
       "<pymc.MCMC.MCMC at 0x7f584804e490>"
      ]
     },
     "execution_count": 8,
     "metadata": {},
     "output_type": "execute_result"
    }
   ],
   "source": [
    "a_reg = {'model': \"a ~ 1 + step_att:C(turn_type, Treatment('Sham'))\",'link_func': lambda x: x}\n",
    "v_reg = {'model': \"v ~ 1 + step_att:C(turn_type, Treatment('Sham'))\",'link_func': lambda x: x}\n",
    "z_reg = {'model': \"z ~ 1 + C(turn_type, Treatment('Sham'))\",'link_func': lambda x: x}\n",
    "reg_descr = [a_reg,v_reg,z_reg]\n",
    "D_R_C_Q_avm = hddm.HDDMRegressor(D_R_C_Q, reg_descr, include='z')\n",
    "D_R_C_Q_avm.find_starting_values()\n",
    "D_R_C_Q_avm.sample(2000, burn=20, dbname='traces.db', db='pickle')"
   ]
  },
  {
   "cell_type": "markdown",
   "metadata": {},
   "source": [
    "### model 5: a + z"
   ]
  },
  {
   "cell_type": "code",
   "execution_count": 9,
   "metadata": {},
   "outputs": [
    {
     "name": "stdout",
     "output_type": "stream",
     "text": [
      "Adding these covariates:\n",
      "['a_Intercept', \"a_step_att:C(turn_type, Treatment('Sham'))[Right cTBS]\", \"a_step_att:C(turn_type, Treatment('Sham'))[Sham]\"]\n",
      "Adding these covariates:\n",
      "['v_Intercept', \"v_C(turn_type, Treatment('Sham'))[T.Right cTBS]\"]\n",
      "Adding these covariates:\n",
      "['z_Intercept', \"z_step_att:C(turn_type, Treatment('Sham'))[Right cTBS]\", \"z_step_att:C(turn_type, Treatment('Sham'))[Sham]\"]\n",
      " [-----------------100%-----------------] 2001 of 2000 complete in 5159.8 sec"
     ]
    },
    {
     "data": {
      "text/plain": [
       "<pymc.MCMC.MCMC at 0x7f5824683650>"
      ]
     },
     "execution_count": 9,
     "metadata": {},
     "output_type": "execute_result"
    }
   ],
   "source": [
    "a_reg = {'model': \"a ~ 1 + step_att:C(turn_type, Treatment('Sham'))\",'link_func': lambda x: x}\n",
    "v_reg = {'model': \"v ~ 1 + C(turn_type, Treatment('Sham'))\",'link_func': lambda x: x}\n",
    "z_reg = {'model': \"z ~ 1 + step_att:C(turn_type, Treatment('Sham'))\",'link_func': lambda x: x}\n",
    "reg_descr = [a_reg,v_reg,z_reg]\n",
    "D_R_C_Q_azm = hddm.HDDMRegressor(D_R_C_Q, reg_descr, include='z')\n",
    "D_R_C_Q_azm.find_starting_values()\n",
    "D_R_C_Q_azm.sample(2000, burn=20, dbname='traces.db', db='pickle')"
   ]
  },
  {
   "cell_type": "markdown",
   "metadata": {},
   "source": [
    "### model 6: v + z"
   ]
  },
  {
   "cell_type": "code",
   "execution_count": 10,
   "metadata": {},
   "outputs": [
    {
     "name": "stdout",
     "output_type": "stream",
     "text": [
      "Adding these covariates:\n",
      "['a_Intercept', \"a_C(turn_type, Treatment('Sham'))[T.Right cTBS]\"]\n",
      "Adding these covariates:\n",
      "['v_Intercept', \"v_step_att:C(turn_type, Treatment('Sham'))[Right cTBS]\", \"v_step_att:C(turn_type, Treatment('Sham'))[Sham]\"]\n",
      "Adding these covariates:\n",
      "['z_Intercept', \"z_step_att:C(turn_type, Treatment('Sham'))[Right cTBS]\", \"z_step_att:C(turn_type, Treatment('Sham'))[Sham]\"]\n",
      " [-----------------100%-----------------] 2001 of 2000 complete in 4938.4 sec"
     ]
    },
    {
     "data": {
      "text/plain": [
       "<pymc.MCMC.MCMC at 0x7f581d501ad0>"
      ]
     },
     "execution_count": 10,
     "metadata": {},
     "output_type": "execute_result"
    }
   ],
   "source": [
    "a_reg = {'model': \"a ~ 1 + C(turn_type, Treatment('Sham'))\",'link_func': lambda x: x}\n",
    "v_reg = {'model': \"v ~ 1 + step_att:C(turn_type, Treatment('Sham'))\",'link_func': lambda x: x}\n",
    "z_reg = {'model': \"z ~ 1 + step_att:C(turn_type, Treatment('Sham'))\",'link_func': lambda x: x}\n",
    "reg_descr = [a_reg,v_reg,z_reg]\n",
    "D_R_C_Q_vzm = hddm.HDDMRegressor(D_R_C_Q, reg_descr, include='z')\n",
    "D_R_C_Q_vzm.find_starting_values()\n",
    "D_R_C_Q_vzm.sample(2000, burn=20, dbname='traces.db', db='pickle')"
   ]
  },
  {
   "cell_type": "markdown",
   "metadata": {},
   "source": [
    "### model 7: a + v + z"
   ]
  },
  {
   "cell_type": "code",
   "execution_count": 11,
   "metadata": {},
   "outputs": [
    {
     "name": "stdout",
     "output_type": "stream",
     "text": [
      "Adding these covariates:\n",
      "['a_Intercept', \"a_step_att:C(turn_type, Treatment('Sham'))[Right cTBS]\", \"a_step_att:C(turn_type, Treatment('Sham'))[Sham]\"]\n",
      "Adding these covariates:\n",
      "['v_Intercept', \"v_step_att:C(turn_type, Treatment('Sham'))[Right cTBS]\", \"v_step_att:C(turn_type, Treatment('Sham'))[Sham]\"]\n",
      "Adding these covariates:\n",
      "['z_Intercept', \"z_step_att:C(turn_type, Treatment('Sham'))[Right cTBS]\", \"z_step_att:C(turn_type, Treatment('Sham'))[Sham]\"]\n",
      " [-----------------100%-----------------] 2001 of 2000 complete in 5522.0 secWARNING: Will not save custom link functions.\n",
      "WARNING: Will not save custom link functions.\n",
      "WARNING: Will not save custom link functions.\n"
     ]
    }
   ],
   "source": [
    "a_reg = {'model': \"a ~ 1 + step_att:C(turn_type, Treatment('Sham'))\",'link_func': lambda x: x}\n",
    "v_reg = {'model': \"v ~ 1 + step_att:C(turn_type, Treatment('Sham'))\",'link_func': lambda x: x}\n",
    "z_reg = {'model': \"z ~ 1 + step_att:C(turn_type, Treatment('Sham'))\",'link_func': lambda x: x}\n",
    "reg_descr = [a_reg,v_reg,z_reg]\n",
    "D_R_C_Q_fm = hddm.HDDMRegressor(D_R_C_Q, reg_descr, include='z')\n",
    "D_R_C_Q_fm.find_starting_values()\n",
    "D_R_C_Q_fm.sample(2000, burn=20, dbname='traces.db', db='pickle')\n",
    "D_R_C_Q_fm.save('D_R_C_Q_fm')"
   ]
  },
  {
   "cell_type": "markdown",
   "metadata": {},
   "source": [
    "### Model comparison"
   ]
  },
  {
   "cell_type": "code",
   "execution_count": 21,
   "metadata": {},
   "outputs": [
    {
     "name": "stdout",
     "output_type": "stream",
     "text": [
      "baseline model DIC: 2812.560849\n",
      "a model DIC: 2583.930382\n",
      "v model DIC: 2391.511894\n",
      "z model DIC: 2669.342156\n",
      "av model DIC: 2080.048457\n",
      "az model DIC: 2325.279104\n",
      "vz model DIC: 2390.880119\n",
      "full model DIC: 2071.719743\n"
     ]
    },
    {
     "data": {
      "image/png": "[encoded data removed]",
      "text/plain": [
       "<Figure size 130.394x63.7795 with 1 Axes>"
      ]
     },
     "metadata": {
      "needs_background": "light"
     },
     "output_type": "display_data"
    }
   ],
   "source": [
    "print(\"baseline model DIC: %f\" % D_R_C_Q_bsl.dic)\n",
    "print(\"a model DIC: %f\" % D_R_C_Q_am.dic)\n",
    "print(\"v model DIC: %f\" % D_R_C_Q_vm.dic)\n",
    "print(\"z model DIC: %f\" % D_R_C_Q_zm.dic)\n",
    "print(\"av model DIC: %f\" % D_R_C_Q_avm.dic)\n",
    "print(\"az model DIC: %f\" % D_R_C_Q_azm.dic)\n",
    "print(\"vz model DIC: %f\" % D_R_C_Q_vzm.dic)\n",
    "print(\"full model DIC: %f\" % D_R_C_Q_fm.dic)\n",
    "\n",
    "fig, ax = plt.subplots()\n",
    "\n",
    "fruits = ['baseline', 'a', 'v', 'z', 'av', 'az', 'vz','full']\n",
    "counts = [D_R_C_Q_bsl.dic, D_R_C_Q_am.dic, D_R_C_Q_vm.dic, D_R_C_Q_zm.dic,D_R_C_Q_avm.dic,D_R_C_Q_azm.dic,D_R_C_Q_vzm.dic,D_R_C_Q_fm.dic]\n",
    "\n",
    "D_name='D_R_C_Q'\n",
    "\n",
    "ax.bar(fruits, counts,color=[197./255,158./255,226./255],edgecolor='black',linewidth=0.5)\n",
    "\n",
    "plt.rcParams['savefig.dpi']=300\n",
    "plt.rcParams['axes.linewidth']=0.5\n",
    "\n",
    "#ax.set_ylabel('DIC value')\n",
    "#ax.set_title('TBS: Left cTBS consonant quiet')\n",
    "ax.set_ylim([2000,2900])\n",
    "ytick_plot=range(2000,2900,100)\n",
    "ytick_plot.append(2900)\n",
    "ax.set_yticks(ytick_plot)\n",
    "ax.spines['right'].set_visible(False)\n",
    "ax.spines['top'].set_visible(False)\n",
    "\n",
    "fig.set_size_inches(4.6*cm,2.25*cm)\n",
    "ax.tick_params('both',which='major',direction='in',width=0.5,length=2)\n",
    "plt.rcParams['font.size']=5\n",
    "plt.rcParams['font.family']='Arial'\n",
    "plt.savefig(D_name+'_interact_M_compare.pdf',bbox_inches = 'tight',transparent=True)\n",
    "plt.show()"
   ]
  },
  {
   "cell_type": "markdown",
   "metadata": {},
   "source": [
    "### Plotting"
   ]
  },
  {
   "cell_type": "code",
   "execution_count": 13,
   "metadata": {},
   "outputs": [
    {
     "data": {
      "image/png": "[encoded data removed]",
      "text/plain": [
       "<Figure size 432x288 with 1 Axes>"
      ]
     },
     "metadata": {
      "needs_background": "light"
     },
     "output_type": "display_data"
    },
    {
     "data": {
      "image/png": "[encoded data removed]",
      "text/plain": [
       "<Figure size 432x288 with 1 Axes>"
      ]
     },
     "metadata": {
      "needs_background": "light"
     },
     "output_type": "display_data"
    },
    {
     "data": {
      "image/png": "[encoded data removed]",
      "text/plain": [
       "<Figure size 432x288 with 1 Axes>"
      ]
     },
     "metadata": {
      "needs_background": "light"
     },
     "output_type": "display_data"
    },
    {
     "data": {
      "image/png": "[encoded data removed]",
      "text/plain": [
       "<Figure size 288x288 with 1 Axes>"
      ]
     },
     "metadata": {
      "needs_background": "light"
     },
     "output_type": "display_data"
    },
    {
     "name": "stdout",
     "output_type": "stream",
     "text": [
      "('P(a > Sham) = ', 1.0)\n",
      "('P(v > Sham) = ', 1.0)\n",
      "('P(z > Sham) = ', 1.0)\n"
     ]
    }
   ],
   "source": [
    "a_Intercept,a_cTBS = D_R_C_Q_fm.nodes_db.loc[[\"a_Intercept\",\"a_step_att:C(turn_type, Treatment('Sham'))[Right cTBS]\"], 'node']\n",
    "hddm.analyze.plot_posterior_nodes([a_Intercept,a_cTBS])\n",
    "plt.xlabel('boundary')\n",
    "plt.ylabel('Posterior probability')\n",
    "plt.title('Full model')\n",
    "\n",
    "v_Intercept,v_cTBS = D_R_C_Q_fm.nodes_db.loc[[\"v_Intercept\",\"v_step_att:C(turn_type, Treatment('Sham'))[Right cTBS]\"], 'node']\n",
    "hddm.analyze.plot_posterior_nodes([v_Intercept,v_cTBS])\n",
    "plt.xlabel('drift-rate')\n",
    "plt.ylabel('Posterior probability')\n",
    "plt.title('Full model')\n",
    "\n",
    "z_Intercept,z_cTBS = D_R_C_Q_fm.nodes_db.loc[[\"z_Intercept\",\"z_step_att:C(turn_type, Treatment('Sham'))[Right cTBS]\"], 'node']\n",
    "hddm.analyze.plot_posterior_nodes([z_Intercept,z_cTBS])\n",
    "plt.xlabel('starting point')\n",
    "plt.ylabel('Posterior probability')\n",
    "plt.title('Full model')\n",
    "\n",
    "\n",
    "fig, ax = plt.subplots()\n",
    "fig.set_size_inches(4,4)\n",
    "\n",
    "para_tag=['AMBstep:a','AMBstep:v','AMBstep:z']\n",
    "counts = [a_cTBS.trace()/(max(a_cTBS.trace())-min(a_cTBS.trace())),v_cTBS.trace()/(max(v_cTBS.trace())-min(v_cTBS.trace())),z_cTBS.trace()/(max(z_cTBS.trace())-min(z_cTBS.trace()))]\n",
    "\n",
    "ax.axhline(y = 0, color =\"green\", linestyle =\"--\")\n",
    "ax.violinplot(counts)\n",
    "ax.set_xticks([1,2,3])\n",
    "ax.set_xticklabels(para_tag)\n",
    "ax.set_ylim([-4,4])\n",
    "ax.set_title('Full model: Right cTBS consonant clear')\n",
    "ax.set_ylabel('Regression coef (normalized)')\n",
    "ax.spines['right'].set_visible(False)\n",
    "ax.spines['top'].set_visible(False)\n",
    "\n",
    "plt.show()\n",
    "\n",
    "print(\"P(a > Sham) = \", (a_cTBS.trace() > 0).mean())\n",
    "print(\"P(v > Sham) = \", (v_cTBS.trace() > 0).mean())\n",
    "print(\"P(z > Sham) = \", (z_cTBS.trace() > 0).mean())"
   ]
  },
  {
   "cell_type": "markdown",
   "metadata": {},
   "source": [
    "### check full model simulation prediction accuracy"
   ]
  },
  {
   "cell_type": "markdown",
   "metadata": {},
   "source": [
    "#### fit the full model"
   ]
  },
  {
   "cell_type": "code",
   "execution_count": 14,
   "metadata": {},
   "outputs": [
    {
     "name": "stdout",
     "output_type": "stream",
     "text": [
      "Adding these covariates:\n",
      "['a_Intercept', \"a_step_att:C(turn_type, Treatment('Sham'))[Right cTBS]\", \"a_step_att:C(turn_type, Treatment('Sham'))[Sham]\"]\n",
      "Adding these covariates:\n",
      "['v_Intercept', \"v_step_att:C(turn_type, Treatment('Sham'))[Right cTBS]\", \"v_step_att:C(turn_type, Treatment('Sham'))[Sham]\"]\n",
      "Adding these covariates:\n",
      "['z_Intercept', \"z_step_att:C(turn_type, Treatment('Sham'))[Right cTBS]\", \"z_step_att:C(turn_type, Treatment('Sham'))[Sham]\"]\n",
      " [-----------------100%-----------------] 2001 of 2000 complete in 5543.5 sec"
     ]
    },
    {
     "data": {
      "text/plain": [
       "<pymc.MCMC.MCMC at 0x7f581cc3d090>"
      ]
     },
     "execution_count": 14,
     "metadata": {},
     "output_type": "execute_result"
    }
   ],
   "source": [
    "fm_data_2=D_R_C_Q\n",
    "fm_data_2.reset_index(inplace = True, drop = True)\n",
    "a_reg = {'model': \"a ~ 1 + step_att:C(turn_type, Treatment('Sham'))\",'link_func': lambda x: x}\n",
    "v_reg = {'model': \"v ~ 1 + step_att:C(turn_type, Treatment('Sham'))\",'link_func': lambda x: x}\n",
    "z_reg = {'model': \"z ~ 1 + step_att:C(turn_type, Treatment('Sham'))\",'link_func': lambda x: x}\n",
    "reg_descr = [a_reg,v_reg,z_reg]\n",
    "fm_2 = hddm.HDDMRegressor(fm_data_2, reg_descr, include='z')\n",
    "fm_2.find_starting_values()\n",
    "fm_2.sample(2000, burn=20, dbname='traces.db', db='pickle')"
   ]
  },
  {
   "cell_type": "markdown",
   "metadata": {},
   "source": [
    "#### predict data from simulated data derived from full model"
   ]
  },
  {
   "cell_type": "code",
   "execution_count": 15,
   "metadata": {},
   "outputs": [
    {
     "name": "stdout",
     "output_type": "stream",
     "text": [
      " [-------------------112%-------------------] 28 of 25 complete in 23888.0 sec"
     ]
    },
    {
     "data": {
      "text/html": [
       "<div>\n",
       "<style scoped>\n",
       "    .dataframe tbody tr th:only-of-type {\n",
       "        vertical-align: middle;\n",
       "    }\n",
       "\n",
       "    .dataframe tbody tr th {\n",
       "        vertical-align: top;\n",
       "    }\n",
       "\n",
       "    .dataframe thead th {\n",
       "        text-align: right;\n",
       "    }\n",
       "</style>\n",
       "<table border=\"1\" class=\"dataframe\">\n",
       "  <thead>\n",
       "    <tr style=\"text-align: right;\">\n",
       "      <th></th>\n",
       "      <th>observed</th>\n",
       "      <th>mean</th>\n",
       "      <th>std</th>\n",
       "      <th>SEM</th>\n",
       "      <th>MSE</th>\n",
       "      <th>credible</th>\n",
       "      <th>quantile</th>\n",
       "      <th>mahalanobis</th>\n",
       "    </tr>\n",
       "    <tr>\n",
       "      <th>stat</th>\n",
       "      <th></th>\n",
       "      <th></th>\n",
       "      <th></th>\n",
       "      <th></th>\n",
       "      <th></th>\n",
       "      <th></th>\n",
       "      <th></th>\n",
       "      <th></th>\n",
       "    </tr>\n",
       "  </thead>\n",
       "  <tbody>\n",
       "    <tr>\n",
       "      <th>accuracy</th>\n",
       "      <td>0.643718</td>\n",
       "      <td>0.650629</td>\n",
       "      <td>0.090130</td>\n",
       "      <td>0.000048</td>\n",
       "      <td>0.008171</td>\n",
       "      <td>True</td>\n",
       "      <td>46.655998</td>\n",
       "      <td>0.076676</td>\n",
       "    </tr>\n",
       "    <tr>\n",
       "      <th>mean_ub</th>\n",
       "      <td>0.606475</td>\n",
       "      <td>0.636479</td>\n",
       "      <td>0.103447</td>\n",
       "      <td>0.000900</td>\n",
       "      <td>0.011601</td>\n",
       "      <td>True</td>\n",
       "      <td>45.664001</td>\n",
       "      <td>0.290041</td>\n",
       "    </tr>\n",
       "    <tr>\n",
       "      <th>std_ub</th>\n",
       "      <td>0.224327</td>\n",
       "      <td>0.218391</td>\n",
       "      <td>0.062996</td>\n",
       "      <td>0.000035</td>\n",
       "      <td>0.004004</td>\n",
       "      <td>True</td>\n",
       "      <td>58.216000</td>\n",
       "      <td>0.094223</td>\n",
       "    </tr>\n",
       "    <tr>\n",
       "      <th>10q_ub</th>\n",
       "      <td>0.417056</td>\n",
       "      <td>0.446617</td>\n",
       "      <td>0.080136</td>\n",
       "      <td>0.000874</td>\n",
       "      <td>0.007296</td>\n",
       "      <td>True</td>\n",
       "      <td>30.544001</td>\n",
       "      <td>0.368893</td>\n",
       "    </tr>\n",
       "    <tr>\n",
       "      <th>30q_ub</th>\n",
       "      <td>0.493031</td>\n",
       "      <td>0.499782</td>\n",
       "      <td>0.085751</td>\n",
       "      <td>0.000046</td>\n",
       "      <td>0.007399</td>\n",
       "      <td>True</td>\n",
       "      <td>51.639999</td>\n",
       "      <td>0.078727</td>\n",
       "    </tr>\n",
       "    <tr>\n",
       "      <th>50q_ub</th>\n",
       "      <td>0.558337</td>\n",
       "      <td>0.567971</td>\n",
       "      <td>0.095385</td>\n",
       "      <td>0.000093</td>\n",
       "      <td>0.009191</td>\n",
       "      <td>True</td>\n",
       "      <td>53.472000</td>\n",
       "      <td>0.101004</td>\n",
       "    </tr>\n",
       "    <tr>\n",
       "      <th>70q_ub</th>\n",
       "      <td>0.648363</td>\n",
       "      <td>0.675354</td>\n",
       "      <td>0.113773</td>\n",
       "      <td>0.000729</td>\n",
       "      <td>0.013673</td>\n",
       "      <td>True</td>\n",
       "      <td>48.568001</td>\n",
       "      <td>0.237234</td>\n",
       "    </tr>\n",
       "    <tr>\n",
       "      <th>90q_ub</th>\n",
       "      <td>0.848408</td>\n",
       "      <td>0.915232</td>\n",
       "      <td>0.167323</td>\n",
       "      <td>0.004465</td>\n",
       "      <td>0.032462</td>\n",
       "      <td>True</td>\n",
       "      <td>41.383999</td>\n",
       "      <td>0.399369</td>\n",
       "    </tr>\n",
       "    <tr>\n",
       "      <th>mean_lb</th>\n",
       "      <td>-0.659362</td>\n",
       "      <td>-0.655619</td>\n",
       "      <td>0.099042</td>\n",
       "      <td>0.000014</td>\n",
       "      <td>0.009823</td>\n",
       "      <td>True</td>\n",
       "      <td>45.664001</td>\n",
       "      <td>0.037793</td>\n",
       "    </tr>\n",
       "    <tr>\n",
       "      <th>std_lb</th>\n",
       "      <td>0.230511</td>\n",
       "      <td>0.212742</td>\n",
       "      <td>0.066451</td>\n",
       "      <td>0.000316</td>\n",
       "      <td>0.004732</td>\n",
       "      <td>True</td>\n",
       "      <td>64.320000</td>\n",
       "      <td>0.267403</td>\n",
       "    </tr>\n",
       "    <tr>\n",
       "      <th>10q_lb</th>\n",
       "      <td>0.465910</td>\n",
       "      <td>0.461892</td>\n",
       "      <td>0.075186</td>\n",
       "      <td>0.000016</td>\n",
       "      <td>0.005669</td>\n",
       "      <td>True</td>\n",
       "      <td>55.464001</td>\n",
       "      <td>0.053438</td>\n",
       "    </tr>\n",
       "    <tr>\n",
       "      <th>30q_lb</th>\n",
       "      <td>0.549493</td>\n",
       "      <td>0.522075</td>\n",
       "      <td>0.079372</td>\n",
       "      <td>0.000752</td>\n",
       "      <td>0.007052</td>\n",
       "      <td>True</td>\n",
       "      <td>67.064003</td>\n",
       "      <td>0.345434</td>\n",
       "    </tr>\n",
       "    <tr>\n",
       "      <th>50q_lb</th>\n",
       "      <td>0.616194</td>\n",
       "      <td>0.593942</td>\n",
       "      <td>0.089188</td>\n",
       "      <td>0.000495</td>\n",
       "      <td>0.008450</td>\n",
       "      <td>True</td>\n",
       "      <td>62.080002</td>\n",
       "      <td>0.249495</td>\n",
       "    </tr>\n",
       "    <tr>\n",
       "      <th>70q_lb</th>\n",
       "      <td>0.695642</td>\n",
       "      <td>0.700263</td>\n",
       "      <td>0.110074</td>\n",
       "      <td>0.000021</td>\n",
       "      <td>0.012138</td>\n",
       "      <td>True</td>\n",
       "      <td>52.183998</td>\n",
       "      <td>0.041982</td>\n",
       "    </tr>\n",
       "    <tr>\n",
       "      <th>90q_lb</th>\n",
       "      <td>0.901495</td>\n",
       "      <td>0.925874</td>\n",
       "      <td>0.169449</td>\n",
       "      <td>0.000594</td>\n",
       "      <td>0.029307</td>\n",
       "      <td>True</td>\n",
       "      <td>50.512001</td>\n",
       "      <td>0.143871</td>\n",
       "    </tr>\n",
       "  </tbody>\n",
       "</table>\n",
       "</div>"
      ],
      "text/plain": [
       "          observed      mean       std       SEM       MSE credible  \\\n",
       "stat                                                                  \n",
       "accuracy  0.643718  0.650629  0.090130  0.000048  0.008171     True   \n",
       "mean_ub   0.606475  0.636479  0.103447  0.000900  0.011601     True   \n",
       "std_ub    0.224327  0.218391  0.062996  0.000035  0.004004     True   \n",
       "10q_ub    0.417056  0.446617  0.080136  0.000874  0.007296     True   \n",
       "30q_ub    0.493031  0.499782  0.085751  0.000046  0.007399     True   \n",
       "50q_ub    0.558337  0.567971  0.095385  0.000093  0.009191     True   \n",
       "70q_ub    0.648363  0.675354  0.113773  0.000729  0.013673     True   \n",
       "90q_ub    0.848408  0.915232  0.167323  0.004465  0.032462     True   \n",
       "mean_lb  -0.659362 -0.655619  0.099042  0.000014  0.009823     True   \n",
       "std_lb    0.230511  0.212742  0.066451  0.000316  0.004732     True   \n",
       "10q_lb    0.465910  0.461892  0.075186  0.000016  0.005669     True   \n",
       "30q_lb    0.549493  0.522075  0.079372  0.000752  0.007052     True   \n",
       "50q_lb    0.616194  0.593942  0.089188  0.000495  0.008450     True   \n",
       "70q_lb    0.695642  0.700263  0.110074  0.000021  0.012138     True   \n",
       "90q_lb    0.901495  0.925874  0.169449  0.000594  0.029307     True   \n",
       "\n",
       "           quantile  mahalanobis  \n",
       "stat                              \n",
       "accuracy  46.655998     0.076676  \n",
       "mean_ub   45.664001     0.290041  \n",
       "std_ub    58.216000     0.094223  \n",
       "10q_ub    30.544001     0.368893  \n",
       "30q_ub    51.639999     0.078727  \n",
       "50q_ub    53.472000     0.101004  \n",
       "70q_ub    48.568001     0.237234  \n",
       "90q_ub    41.383999     0.399369  \n",
       "mean_lb   45.664001     0.037793  \n",
       "std_lb    64.320000     0.267403  \n",
       "10q_lb    55.464001     0.053438  \n",
       "30q_lb    67.064003     0.345434  \n",
       "50q_lb    62.080002     0.249495  \n",
       "70q_lb    52.183998     0.041982  \n",
       "90q_lb    50.512001     0.143871  "
      ]
     },
     "execution_count": 15,
     "metadata": {},
     "output_type": "execute_result"
    }
   ],
   "source": [
    "fm_data_2_sim = hddm.utils.post_pred_gen(fm_2)\n",
    "hddm.utils.post_pred_stats(fm_data_2, fm_data_2_sim)"
   ]
  }
 ],
 "metadata": {
  "kernelspec": {
   "display_name": "Python 2.7.18 ('bsliang_DDM_27': conda)",
   "language": "python",
   "name": "python3"
  },
  "language_info": {
   "codemirror_mode": {
    "name": "ipython",
    "version": 2
   },
   "file_extension": ".py",
   "mimetype": "text/x-python",
   "name": "python",
   "nbconvert_exporter": "python",
   "pygments_lexer": "ipython2",
   "version": "2.7.18"
  },
  "orig_nbformat": 4,
  "vscode": {
   "interpreter": {
    "hash": "800a09db568ebe80aacfc1bc086e45a31a7cff3ccaf522d8b640d0dfbe2b8801"
   }
  }
 },
 "nbformat": 4,
 "nbformat_minor": 2
}
