{
 "cells": [
  {
   "cell_type": "markdown",
   "metadata": {},
   "source": [
    "![这是图片](星云2.jpg \"Magic Gardens\")<br><br>\n",
    "事情是这样的<br>\n",
    "我本来已经<br>\n",
    "打算完结这个分析了<br> \n",
    "但杜老师，居然<br>\n",
    "竟然，也是不出意料<br>\n",
    "叫我加一个参数<br>"
   ]
  },
  {
   "cell_type": "markdown",
   "metadata": {},
   "source": [
    "# TBS"
   ]
  },
  {
   "cell_type": "markdown",
   "metadata": {},
   "source": [
    "## preparing"
   ]
  },
  {
   "cell_type": "code",
   "execution_count": 19,
   "metadata": {},
   "outputs": [],
   "source": [
    "import pandas as pd\n",
    "import matplotlib.pyplot as plt\n",
    "import hddm\n",
    "import numpy as np\n",
    "import pickle\n",
    "from patsy import dmatrices, dmatrix, demo_data\n",
    "cm = 1/2.54"
   ]
  },
  {
   "cell_type": "markdown",
   "metadata": {},
   "source": [
    "## loading data"
   ]
  },
  {
   "cell_type": "code",
   "execution_count": 2,
   "metadata": {},
   "outputs": [
    {
     "data": {
      "text/html": [
       "<div>\n",
       "<style scoped>\n",
       "    .dataframe tbody tr th:only-of-type {\n",
       "        vertical-align: middle;\n",
       "    }\n",
       "\n",
       "    .dataframe tbody tr th {\n",
       "        vertical-align: top;\n",
       "    }\n",
       "\n",
       "    .dataframe thead th {\n",
       "        text-align: right;\n",
       "    }\n",
       "</style>\n",
       "<table border=\"1\" class=\"dataframe\">\n",
       "  <thead>\n",
       "    <tr style=\"text-align: right;\">\n",
       "      <th></th>\n",
       "      <th>subj_idx</th>\n",
       "      <th>group_idx</th>\n",
       "      <th>turn_type</th>\n",
       "      <th>task_type</th>\n",
       "      <th>snr_type</th>\n",
       "      <th>trial_num</th>\n",
       "      <th>step_att</th>\n",
       "      <th>response</th>\n",
       "      <th>rt</th>\n",
       "      <th>step_unatnd</th>\n",
       "    </tr>\n",
       "  </thead>\n",
       "  <tbody>\n",
       "    <tr>\n",
       "      <th>0</th>\n",
       "      <td>55</td>\n",
       "      <td>Larynx</td>\n",
       "      <td>Left iTBS</td>\n",
       "      <td>Tone</td>\n",
       "      <td>Clear</td>\n",
       "      <td>1</td>\n",
       "      <td>3</td>\n",
       "      <td>1</td>\n",
       "      <td>1.083317</td>\n",
       "      <td>1</td>\n",
       "    </tr>\n",
       "    <tr>\n",
       "      <th>1</th>\n",
       "      <td>55</td>\n",
       "      <td>Larynx</td>\n",
       "      <td>Left iTBS</td>\n",
       "      <td>Tone</td>\n",
       "      <td>Clear</td>\n",
       "      <td>2</td>\n",
       "      <td>4</td>\n",
       "      <td>1</td>\n",
       "      <td>0.744397</td>\n",
       "      <td>1</td>\n",
       "    </tr>\n",
       "    <tr>\n",
       "      <th>2</th>\n",
       "      <td>55</td>\n",
       "      <td>Larynx</td>\n",
       "      <td>Left iTBS</td>\n",
       "      <td>Tone</td>\n",
       "      <td>Clear</td>\n",
       "      <td>3</td>\n",
       "      <td>4</td>\n",
       "      <td>1</td>\n",
       "      <td>0.732525</td>\n",
       "      <td>1</td>\n",
       "    </tr>\n",
       "    <tr>\n",
       "      <th>3</th>\n",
       "      <td>55</td>\n",
       "      <td>Larynx</td>\n",
       "      <td>Left iTBS</td>\n",
       "      <td>Tone</td>\n",
       "      <td>Clear</td>\n",
       "      <td>4</td>\n",
       "      <td>5</td>\n",
       "      <td>1</td>\n",
       "      <td>0.800199</td>\n",
       "      <td>1</td>\n",
       "    </tr>\n",
       "    <tr>\n",
       "      <th>4</th>\n",
       "      <td>55</td>\n",
       "      <td>Larynx</td>\n",
       "      <td>Left iTBS</td>\n",
       "      <td>Tone</td>\n",
       "      <td>Clear</td>\n",
       "      <td>5</td>\n",
       "      <td>4</td>\n",
       "      <td>1</td>\n",
       "      <td>0.753649</td>\n",
       "      <td>1</td>\n",
       "    </tr>\n",
       "    <tr>\n",
       "      <th>5</th>\n",
       "      <td>55</td>\n",
       "      <td>Larynx</td>\n",
       "      <td>Left iTBS</td>\n",
       "      <td>Tone</td>\n",
       "      <td>Clear</td>\n",
       "      <td>6</td>\n",
       "      <td>4</td>\n",
       "      <td>1</td>\n",
       "      <td>0.544652</td>\n",
       "      <td>1</td>\n",
       "    </tr>\n",
       "    <tr>\n",
       "      <th>6</th>\n",
       "      <td>55</td>\n",
       "      <td>Larynx</td>\n",
       "      <td>Left iTBS</td>\n",
       "      <td>Tone</td>\n",
       "      <td>Clear</td>\n",
       "      <td>7</td>\n",
       "      <td>5</td>\n",
       "      <td>1</td>\n",
       "      <td>0.621313</td>\n",
       "      <td>1</td>\n",
       "    </tr>\n",
       "    <tr>\n",
       "      <th>7</th>\n",
       "      <td>55</td>\n",
       "      <td>Larynx</td>\n",
       "      <td>Left iTBS</td>\n",
       "      <td>Tone</td>\n",
       "      <td>Clear</td>\n",
       "      <td>8</td>\n",
       "      <td>5</td>\n",
       "      <td>1</td>\n",
       "      <td>0.580819</td>\n",
       "      <td>1</td>\n",
       "    </tr>\n",
       "    <tr>\n",
       "      <th>8</th>\n",
       "      <td>55</td>\n",
       "      <td>Larynx</td>\n",
       "      <td>Left iTBS</td>\n",
       "      <td>Tone</td>\n",
       "      <td>Clear</td>\n",
       "      <td>9</td>\n",
       "      <td>1</td>\n",
       "      <td>0</td>\n",
       "      <td>-0.496794</td>\n",
       "      <td>1</td>\n",
       "    </tr>\n",
       "    <tr>\n",
       "      <th>9</th>\n",
       "      <td>55</td>\n",
       "      <td>Larynx</td>\n",
       "      <td>Left iTBS</td>\n",
       "      <td>Tone</td>\n",
       "      <td>Clear</td>\n",
       "      <td>10</td>\n",
       "      <td>3</td>\n",
       "      <td>1</td>\n",
       "      <td>0.863869</td>\n",
       "      <td>1</td>\n",
       "    </tr>\n",
       "  </tbody>\n",
       "</table>\n",
       "</div>"
      ],
      "text/plain": [
       "   subj_idx group_idx  turn_type task_type snr_type  trial_num  step_att  \\\n",
       "0        55    Larynx  Left iTBS      Tone    Clear          1         3   \n",
       "1        55    Larynx  Left iTBS      Tone    Clear          2         4   \n",
       "2        55    Larynx  Left iTBS      Tone    Clear          3         4   \n",
       "3        55    Larynx  Left iTBS      Tone    Clear          4         5   \n",
       "4        55    Larynx  Left iTBS      Tone    Clear          5         4   \n",
       "5        55    Larynx  Left iTBS      Tone    Clear          6         4   \n",
       "6        55    Larynx  Left iTBS      Tone    Clear          7         5   \n",
       "7        55    Larynx  Left iTBS      Tone    Clear          8         5   \n",
       "8        55    Larynx  Left iTBS      Tone    Clear          9         1   \n",
       "9        55    Larynx  Left iTBS      Tone    Clear         10         3   \n",
       "\n",
       "   response        rt  step_unatnd  \n",
       "0         1  1.083317            1  \n",
       "1         1  0.744397            1  \n",
       "2         1  0.732525            1  \n",
       "3         1  0.800199            1  \n",
       "4         1  0.753649            1  \n",
       "5         1  0.544652            1  \n",
       "6         1  0.621313            1  \n",
       "7         1  0.580819            1  \n",
       "8         0 -0.496794            1  \n",
       "9         1  0.863869            1  "
      ]
     },
     "execution_count": 2,
     "metadata": {},
     "output_type": "execute_result"
    }
   ],
   "source": [
    "data = hddm.load_csv('exp2_DDM.csv')\n",
    "data = hddm.utils.flip_errors(data)\n",
    "data.head(10)"
   ]
  },
  {
   "cell_type": "markdown",
   "metadata": {},
   "source": [
    "## Right stim, tone, clear"
   ]
  },
  {
   "cell_type": "markdown",
   "metadata": {},
   "source": [
    "### RT distribution"
   ]
  },
  {
   "cell_type": "code",
   "execution_count": 28,
   "metadata": {},
   "outputs": [
    {
     "name": "stderr",
     "output_type": "stream",
     "text": [
      "/home/bsliang/miniconda3/envs/bsliang_DDM_27/lib/python2.7/site-packages/ipykernel_launcher.py:12: FutureWarning: The signature of `Series.to_csv` was aligned to that of `DataFrame.to_csv`, and argument 'header' will change its default value from False to True: please pass an explicit value to suppress this warning.\n",
      "  if sys.path[0] == '':\n",
      "/home/bsliang/miniconda3/envs/bsliang_DDM_27/lib/python2.7/site-packages/ipykernel_launcher.py:13: FutureWarning: The signature of `Series.to_csv` was aligned to that of `DataFrame.to_csv`, and argument 'header' will change its default value from False to True: please pass an explicit value to suppress this warning.\n",
      "  del sys.path[0]\n"
     ]
    },
    {
     "data": {
      "image/png": "[encoded data removed]",
      "text/plain": [
       "<Figure size 127.559x70.8661 with 1 Axes>"
      ]
     },
     "metadata": {
      "needs_background": "light"
     },
     "output_type": "display_data"
    },
    {
     "data": {
      "image/png": "[encoded data removed]",
      "text/plain": [
       "<Figure size 34.0157x56.6929 with 1 Axes>"
      ]
     },
     "metadata": {
      "needs_background": "light"
     },
     "output_type": "display_data"
    }
   ],
   "source": [
    "data_unflip = hddm.load_csv('exp2_DDM.csv')\n",
    "\n",
    "D_R=data_unflip.loc[data_unflip['turn_type'].isin(['Right cTBS','Sham'])]\n",
    "D_R_T=D_R.loc[D_R['task_type']=='Tone']\n",
    "D_R_T_Q=D_R_T.loc[D_R_T['snr_type']=='Clear']\n",
    "D=D_R_T_Q\n",
    "D_name='D_R_T_Q_'\n",
    "\n",
    "D_TMS=D.loc[D['turn_type'].isin(['Right cTBS'])]\n",
    "D_Sham=D.loc[D['turn_type'].isin(['Sham'])]\n",
    "\n",
    "D_TMS.rt.to_csv(D_name+'TBS_RT.csv')\n",
    "D_Sham.rt.to_csv(D_name+'Sham_RT.csv')\n",
    "\n",
    "mean_TMS=D_TMS.rt.mean()\n",
    "se_TMS=np.std(D_TMS.rt, ddof=1) / np.sqrt(len(D_TMS.rt))\n",
    "mean_Sham=D_Sham.rt.mean()\n",
    "se_Sham=np.std(D_Sham.rt, ddof=1) / np.sqrt(len(D_Sham.rt))\n",
    "\n",
    "plt.rcParams['savefig.dpi']=300\n",
    "plt.rcParams['font.size']=5\n",
    "plt.rcParams['axes.linewidth']=0.5\n",
    "plt.rcParams['font.family']='Arial'\n",
    "\n",
    "fig, ax = plt.subplots()\n",
    "fig.set_size_inches(4.5*cm,2.5*cm)\n",
    "\n",
    "nbins=50\n",
    "dens_TMS = ax.hist(D_TMS.rt,bins=nbins, histtype='step',density=False,color=[0,0,0],linewidth=1,alpha=0.5)\n",
    "dens_Sham = ax.hist(D_Sham.rt,bins=nbins, histtype='step',density=False,color=[0.5,0.5,0.5],linewidth=1,alpha=0.5)\n",
    "\n",
    "\n",
    "for ibin in range(0,nbins-1):\n",
    "    if dens_TMS[1][ibin] > mean_TMS:\n",
    "        dens_TMS_mean = dens_TMS[0][ibin-1]\n",
    "        break\n",
    "\n",
    "for ibin in range(0,nbins-1):\n",
    "    if dens_Sham[1][ibin] > mean_Sham:\n",
    "        dens_Sham_mean = dens_Sham[0][ibin-1]\n",
    "        break\n",
    "\n",
    "#ax.set_title('RT distributions')\n",
    "#ax.set_ylabel('Number of trials')\n",
    "#ax.set_xlabel('Reaction time (s)')\n",
    "ax.set_xlim([0,2])\n",
    "ax.set_xticks(np.linspace(0,2,5))\n",
    "ax.set_ylim([0,900])\n",
    "ax.set_yticks([200,400,600,800,900])\n",
    "ax.set_yticklabels([200,400,600,800])\n",
    "ax.spines['right'].set_visible(False)\n",
    "ax.spines['top'].set_visible(False)\n",
    "ax.tick_params('both',which='major',direction='in',width=0.5,length=2)\n",
    "\n",
    "ax.axvline(x = mean_TMS, ymin=0,ymax=dens_TMS_mean/900,color =[0,0,0], linestyle =\"--\",linewidth=1,alpha=0.5)\n",
    "ax.axvline(x = mean_Sham, ymin=0,ymax=dens_Sham_mean/900,color =[0.5,0.5,0.5], linestyle =\"--\",linewidth=1,alpha=0.5)\n",
    "#ax.legend('upper right')\n",
    "\n",
    "plt.savefig(D_name+'cTBS_RT_dist.pdf',bbox_inches = 'tight',transparent=True)\n",
    "plt.show()\n",
    "\n",
    "fig, ax = plt.subplots()\n",
    "\n",
    "cat = ['cTBS','Sham']\n",
    "cat_mean = [mean_TMS,mean_Sham]\n",
    "\n",
    "axbar=ax.bar(cat, cat_mean,yerr=[se_TMS,se_Sham],color=[[0,0,0],[0.5,0.5,0.5]],alpha=0.5)\n",
    "axbar.errorbar.lines[2][0].set_linewidth(0.5)\n",
    "\n",
    "ax.set_ylabel('RT (s)',fontsize=5)\n",
    "#ax.set_title('cTBS: Right stimulation tone noise')\n",
    "#ax.set_xticks([])\n",
    "ax.set_ylim([0.6,0.7])\n",
    "ax.set_yticks(np.linspace(0.6,0.7,6))\n",
    "ax.spines['right'].set_visible(False)\n",
    "ax.spines['top'].set_visible(False)\n",
    "ax.tick_params('both',which='major',direction='in',bottom=False,width=0.5,length=1,labelsize=4)\n",
    "#ax.yaxis.tick_right()\n",
    "\n",
    "fig.set_size_inches(1.2*cm,2*cm)\n",
    "\n",
    "plt.savefig(D_name+'cTBS_RT.pdf',bbox_inches = 'tight',transparent=True)\n",
    "plt.show()\n"
   ]
  },
  {
   "cell_type": "markdown",
   "metadata": {},
   "source": [
    "### preparing data"
   ]
  },
  {
   "cell_type": "code",
   "execution_count": 4,
   "metadata": {},
   "outputs": [
    {
     "name": "stdout",
     "output_type": "stream",
     "text": [
      "       subj_idx group_idx   turn_type task_type snr_type  trial_num  step_att  \\\n",
      "1872         55    Larynx  Right cTBS      Tone    Clear          1         2   \n",
      "1873         55    Larynx  Right cTBS      Tone    Clear          2         2   \n",
      "1874         55    Larynx  Right cTBS      Tone    Clear          3         1   \n",
      "1875         55    Larynx  Right cTBS      Tone    Clear          4         4   \n",
      "1876         55    Larynx  Right cTBS      Tone    Clear          5         1   \n",
      "1877         55    Larynx  Right cTBS      Tone    Clear          6         4   \n",
      "1878         55    Larynx  Right cTBS      Tone    Clear          7         1   \n",
      "1879         55    Larynx  Right cTBS      Tone    Clear          8         4   \n",
      "1880         55    Larynx  Right cTBS      Tone    Clear          9         5   \n",
      "1881         55    Larynx  Right cTBS      Tone    Clear         10         2   \n",
      "1882         55    Larynx  Right cTBS      Tone    Clear         11         2   \n",
      "1883         55    Larynx  Right cTBS      Tone    Clear         12         3   \n",
      "1884         55    Larynx  Right cTBS      Tone    Clear         13         3   \n",
      "1885         55    Larynx  Right cTBS      Tone    Clear         14         4   \n",
      "1886         55    Larynx  Right cTBS      Tone    Clear         15         3   \n",
      "1887         55    Larynx  Right cTBS      Tone    Clear         16         4   \n",
      "1888         55    Larynx  Right cTBS      Tone    Clear         17         3   \n",
      "1889         55    Larynx  Right cTBS      Tone    Clear         18         3   \n",
      "1890         55    Larynx  Right cTBS      Tone    Clear         19         5   \n",
      "1891         55    Larynx  Right cTBS      Tone    Clear         20         2   \n",
      "1892         55    Larynx  Right cTBS      Tone    Clear         21         2   \n",
      "1893         55    Larynx  Right cTBS      Tone    Clear         22         4   \n",
      "1894         55    Larynx  Right cTBS      Tone    Clear         23         3   \n",
      "1895         55    Larynx  Right cTBS      Tone    Clear         24         3   \n",
      "1896         55    Larynx  Right cTBS      Tone    Clear         25         5   \n",
      "1897         55    Larynx  Right cTBS      Tone    Clear         26         4   \n",
      "1898         55    Larynx  Right cTBS      Tone    Clear         27         5   \n",
      "1899         55    Larynx  Right cTBS      Tone    Clear         28         3   \n",
      "1900         55    Larynx  Right cTBS      Tone    Clear         29         2   \n",
      "1901         55    Larynx  Right cTBS      Tone    Clear         30         5   \n",
      "...         ...       ...         ...       ...      ...        ...       ...   \n",
      "78126       253    Larynx        Sham      Tone    Clear        127         4   \n",
      "78127       253    Larynx        Sham      Tone    Clear        128         5   \n",
      "78128       253    Larynx        Sham      Tone    Clear        129         5   \n",
      "78129       253    Larynx        Sham      Tone    Clear        130         5   \n",
      "78130       253    Larynx        Sham      Tone    Clear        131         3   \n",
      "78131       253    Larynx        Sham      Tone    Clear        132         1   \n",
      "78132       253    Larynx        Sham      Tone    Clear        133         1   \n",
      "78133       253    Larynx        Sham      Tone    Clear        134         2   \n",
      "78134       253    Larynx        Sham      Tone    Clear        135         2   \n",
      "78135       253    Larynx        Sham      Tone    Clear        136         2   \n",
      "78136       253    Larynx        Sham      Tone    Clear        137         5   \n",
      "78137       253    Larynx        Sham      Tone    Clear        138         5   \n",
      "78138       253    Larynx        Sham      Tone    Clear        139         4   \n",
      "78139       253    Larynx        Sham      Tone    Clear        140         4   \n",
      "78140       253    Larynx        Sham      Tone    Clear        141         2   \n",
      "78141       253    Larynx        Sham      Tone    Clear        142         2   \n",
      "78142       253    Larynx        Sham      Tone    Clear        143         4   \n",
      "78143       253    Larynx        Sham      Tone    Clear        144         5   \n",
      "78144       253    Larynx        Sham      Tone    Clear        145         3   \n",
      "78145       253    Larynx        Sham      Tone    Clear        146         3   \n",
      "78146       253    Larynx        Sham      Tone    Clear        147         3   \n",
      "78147       253    Larynx        Sham      Tone    Clear        148         3   \n",
      "78148       253    Larynx        Sham      Tone    Clear        149         3   \n",
      "78149       253    Larynx        Sham      Tone    Clear        150         4   \n",
      "78150       253    Larynx        Sham      Tone    Clear        151         4   \n",
      "78151       253    Larynx        Sham      Tone    Clear        152         4   \n",
      "78152       253    Larynx        Sham      Tone    Clear        153         1   \n",
      "78153       253    Larynx        Sham      Tone    Clear        154         3   \n",
      "78154       253    Larynx        Sham      Tone    Clear        155         1   \n",
      "78155       253    Larynx        Sham      Tone    Clear        156         2   \n",
      "\n",
      "       response        rt  step_unatnd  \n",
      "1872          1  0.915280            1  \n",
      "1873          1  0.474399            1  \n",
      "1874          0 -0.545535            1  \n",
      "1875          1  0.437470            1  \n",
      "1876          0 -0.408656            1  \n",
      "1877          1  0.466801            1  \n",
      "1878          0 -0.574016            1  \n",
      "1879          1  0.442587            1  \n",
      "1880          1  0.470882            1  \n",
      "1881          0 -0.561891            1  \n",
      "1882          1  0.488271            1  \n",
      "1883          1  0.443744            1  \n",
      "1884          1  0.420811            1  \n",
      "1885          1  0.458408            1  \n",
      "1886          1  0.463656            1  \n",
      "1887          1  0.426659            1  \n",
      "1888          0 -0.557065            1  \n",
      "1889          1  1.404180            1  \n",
      "1890          1  0.534935            1  \n",
      "1891          0 -0.493588            1  \n",
      "1892          0 -0.491944            1  \n",
      "1893          1  0.511693            1  \n",
      "1894          0 -1.896310            1  \n",
      "1895          0 -0.000367            1  \n",
      "1896          0 -0.000627            1  \n",
      "1897          1  2.244449            1  \n",
      "1898          1  0.688296            1  \n",
      "1899          1  0.876524            1  \n",
      "1900          0 -0.689273            1  \n",
      "1901          1  0.494842            1  \n",
      "...         ...       ...          ...  \n",
      "78126         1  0.660880            1  \n",
      "78127         1  0.558448            1  \n",
      "78128         1  0.941209            1  \n",
      "78129         1  0.564786            1  \n",
      "78130         1  0.678036            1  \n",
      "78131         0 -0.645708            1  \n",
      "78132         0 -0.605000            1  \n",
      "78133         0 -0.611651            1  \n",
      "78134         0 -0.590936            1  \n",
      "78135         0 -0.487683            1  \n",
      "78136         1  0.622202            1  \n",
      "78137         1  0.577684            1  \n",
      "78138         1  0.481270            1  \n",
      "78139         1  0.492121            1  \n",
      "78140         0 -0.565029            1  \n",
      "78141         0 -0.648763            1  \n",
      "78142         1  0.746370            1  \n",
      "78143         1  0.612937            1  \n",
      "78144         0 -0.662952            1  \n",
      "78145         1  1.022814            1  \n",
      "78146         1  0.525678            1  \n",
      "78147         1  0.594899            1  \n",
      "78148         1  0.712846            1  \n",
      "78149         1  0.653655            1  \n",
      "78150         1  0.586441            1  \n",
      "78151         1  0.469893            1  \n",
      "78152         0 -0.496799            1  \n",
      "78153         1  0.730992            1  \n",
      "78154         0 -0.677024            1  \n",
      "78155         0 -0.491757            1  \n",
      "\n",
      "[7800 rows x 10 columns]\n"
     ]
    }
   ],
   "source": [
    "D_R=data.loc[data['turn_type'].isin(['Right cTBS','Sham'])]\n",
    "D_R_T=D_R.loc[D_R['task_type']=='Tone']\n",
    "D_R_T_Q=D_R_T.loc[D_R_T['snr_type']=='Clear']\n",
    "print(D_R_T_Q)\n",
    "D_R_T_Q.to_csv('Exp2_D_R_T_Q_cTBS.csv')"
   ]
  },
  {
   "cell_type": "code",
   "execution_count": 5,
   "metadata": {},
   "outputs": [],
   "source": [
    "def z_link_func_D_R_T_Q(x, data=D_R_T_Q):\n",
    "    stim = (np.asarray(dmatrix('0 + C(s, [[0], [1]])',\n",
    "                              {'s': data.turn_type.loc[x.index]},return_type='dataframe'))\n",
    "    )\n",
    "    # Apply z = (1 - x) to flip them along 0.5\n",
    "    z_flip = np.subtract(stim, x.to_frame())\n",
    "    # The above inverts those values we do not want to flip,\n",
    "    # so invert them back\n",
    "    z_flip[stim == 0] *= -1\n",
    "    return z_flip"
   ]
  },
  {
   "cell_type": "markdown",
   "metadata": {},
   "source": [
    "### baseline model"
   ]
  },
  {
   "cell_type": "code",
   "execution_count": 6,
   "metadata": {},
   "outputs": [
    {
     "name": "stdout",
     "output_type": "stream",
     "text": [
      "Adding these covariates:\n",
      "['a_Intercept']\n",
      "Adding these covariates:\n",
      "['v_Intercept']\n",
      "Adding these covariates:\n",
      "['z_Intercept']\n"
     ]
    },
    {
     "name": "stderr",
     "output_type": "stream",
     "text": [
      "/home/bsliang/miniconda3/envs/bsliang_DDM_27/lib/python2.7/site-packages/scipy/optimize/optimize.py:1934: RuntimeWarning: invalid value encountered in double_scalars\n",
      "  tmp2 = (x - v) * (fx - fw)\n"
     ]
    },
    {
     "name": "stdout",
     "output_type": "stream",
     "text": [
      " [-----------------100%-----------------] 2001 of 2000 complete in 2342.2 secWARNING: Will not save custom link functions.\n",
      "WARNING: Will not save custom link functions.\n",
      "WARNING: Will not save custom link functions.\n"
     ]
    }
   ],
   "source": [
    "a_reg = {'model': \"a ~ 1\",'link_func': lambda x: x}\n",
    "v_reg = {'model': \"v ~ 1\",'link_func': lambda x: x}\n",
    "z_reg = {'model': \"z ~ 1\",'link_func': lambda x: x}\n",
    "reg_descr = [a_reg,v_reg,z_reg]\n",
    "D_R_T_Q_bsl = hddm.HDDMRegressor(D_R_T_Q, reg_descr, include='z')\n",
    "D_R_T_Q_bsl.find_starting_values()\n",
    "D_R_T_Q_bsl.sample(2000, burn=20, dbname='traces.db', db='pickle')\n",
    "D_R_T_Q_bsl.save('D_R_T_Q_bsl')"
   ]
  },
  {
   "cell_type": "markdown",
   "metadata": {},
   "source": [
    "### model 1: a only"
   ]
  },
  {
   "cell_type": "code",
   "execution_count": 7,
   "metadata": {},
   "outputs": [
    {
     "name": "stdout",
     "output_type": "stream",
     "text": [
      "Adding these covariates:\n",
      "['a_Intercept', \"a_C(turn_type, Treatment('Sham'))[T.Right cTBS]\"]\n",
      "Adding these covariates:\n",
      "['v_Intercept']\n",
      "Adding these covariates:\n",
      "['z_Intercept']\n",
      " [-----------------100%-----------------] 2001 of 2000 complete in 2851.4 secWARNING: Will not save custom link functions.\n",
      "WARNING: Will not save custom link functions.\n",
      "WARNING: Will not save custom link functions.\n"
     ]
    }
   ],
   "source": [
    "a_reg = {'model': \"a ~ 1 + C(turn_type, Treatment('Sham'))\",'link_func': lambda x: x}\n",
    "v_reg = {'model': \"v ~ 1\",'link_func': lambda x: x}\n",
    "z_reg = {'model': \"z ~ 1\",'link_func': lambda x: x}\n",
    "reg_descr = [a_reg,v_reg,z_reg]\n",
    "D_R_T_Q_am = hddm.HDDMRegressor(D_R_T_Q, reg_descr, include='z')\n",
    "D_R_T_Q_am.find_starting_values()\n",
    "D_R_T_Q_am.sample(2000, burn=20, dbname='traces.db', db='pickle')\n",
    "D_R_T_Q_am.save('D_R_T_Q_am')"
   ]
  },
  {
   "cell_type": "markdown",
   "metadata": {},
   "source": [
    "### model 2: v only"
   ]
  },
  {
   "cell_type": "code",
   "execution_count": 8,
   "metadata": {},
   "outputs": [
    {
     "name": "stdout",
     "output_type": "stream",
     "text": [
      "Adding these covariates:\n",
      "['a_Intercept']\n",
      "Adding these covariates:\n",
      "['v_Intercept', \"v_C(turn_type, Treatment('Sham'))[T.Right cTBS]\"]\n",
      "Adding these covariates:\n",
      "['z_Intercept']\n",
      " [-----------------100%-----------------] 2001 of 2000 complete in 2904.4 secWARNING: Will not save custom link functions.\n",
      "WARNING: Will not save custom link functions.\n",
      "WARNING: Will not save custom link functions.\n"
     ]
    }
   ],
   "source": [
    "a_reg = {'model': \"a ~ 1\",'link_func': lambda x: x}\n",
    "v_reg = {'model': \"v ~ 1 + C(turn_type, Treatment('Sham'))\",'link_func': lambda x: x}\n",
    "z_reg = {'model': \"z ~ 1\",'link_func': lambda x: x}\n",
    "reg_descr = [a_reg,v_reg,z_reg]\n",
    "D_R_T_Q_vm = hddm.HDDMRegressor(D_R_T_Q, reg_descr, include='z')\n",
    "D_R_T_Q_vm.find_starting_values()\n",
    "D_R_T_Q_vm.sample(2000, burn=20, dbname='traces.db', db='pickle')\n",
    "D_R_T_Q_vm.save('D_R_T_Q_am')"
   ]
  },
  {
   "cell_type": "markdown",
   "metadata": {},
   "source": [
    "### model 3: z only"
   ]
  },
  {
   "cell_type": "code",
   "execution_count": 9,
   "metadata": {},
   "outputs": [
    {
     "name": "stdout",
     "output_type": "stream",
     "text": [
      "Adding these covariates:\n",
      "['a_Intercept']\n",
      "Adding these covariates:\n",
      "['v_Intercept']\n",
      "Adding these covariates:\n",
      "['z_Intercept', \"z_C(turn_type, Treatment('Sham'))[T.Right cTBS]\"]\n",
      " [-----------------100%-----------------] 2001 of 2000 complete in 2896.2 secWARNING: Will not save custom link functions.\n",
      "WARNING: Will not save custom link functions.\n",
      "WARNING: Will not save custom link functions.\n"
     ]
    }
   ],
   "source": [
    "a_reg = {'model': \"a ~ 1\",'link_func': lambda x: x}\n",
    "v_reg = {'model': \"v ~ 1\",'link_func': lambda x: x}\n",
    "z_reg = {'model': \"z ~ 1 + C(turn_type, Treatment('Sham'))\",'link_func': lambda x: x}\n",
    "reg_descr = [a_reg,v_reg,z_reg]\n",
    "D_R_T_Q_zm = hddm.HDDMRegressor(D_R_T_Q, reg_descr, include='z')\n",
    "D_R_T_Q_zm.find_starting_values()\n",
    "D_R_T_Q_zm.sample(2000, burn=20, dbname='traces.db', db='pickle')\n",
    "D_R_T_Q_zm.save('D_R_T_Q_zm')"
   ]
  },
  {
   "cell_type": "markdown",
   "metadata": {},
   "source": [
    "### model 4: a + v"
   ]
  },
  {
   "cell_type": "code",
   "execution_count": 10,
   "metadata": {},
   "outputs": [
    {
     "name": "stdout",
     "output_type": "stream",
     "text": [
      "Adding these covariates:\n",
      "['a_Intercept', \"a_C(turn_type, Treatment('Sham'))[T.Right cTBS]\"]\n",
      "Adding these covariates:\n",
      "['v_Intercept', \"v_C(turn_type, Treatment('Sham'))[T.Right cTBS]\"]\n",
      "Adding these covariates:\n",
      "['z_Intercept']\n",
      " [-----------------100%-----------------] 2001 of 2000 complete in 3387.2 secWARNING: Will not save custom link functions.\n",
      "WARNING: Will not save custom link functions.\n",
      "WARNING: Will not save custom link functions.\n"
     ]
    }
   ],
   "source": [
    "a_reg = {'model': \"a ~ 1 + C(turn_type, Treatment('Sham'))\",'link_func': lambda x: x}\n",
    "v_reg = {'model': \"v ~ 1 + C(turn_type, Treatment('Sham'))\",'link_func': lambda x: x}\n",
    "z_reg = {'model': \"z ~ 1\",'link_func': lambda x: x}\n",
    "reg_descr = [a_reg,v_reg,z_reg]\n",
    "D_R_T_Q_avm = hddm.HDDMRegressor(D_R_T_Q, reg_descr, include='z')\n",
    "D_R_T_Q_avm.find_starting_values()\n",
    "D_R_T_Q_avm.sample(2000, burn=20, dbname='traces.db', db='pickle')\n",
    "D_R_T_Q_avm.save('D_R_T_Q_avm')"
   ]
  },
  {
   "cell_type": "markdown",
   "metadata": {},
   "source": [
    "### model 5: a + z"
   ]
  },
  {
   "cell_type": "code",
   "execution_count": 11,
   "metadata": {},
   "outputs": [
    {
     "name": "stdout",
     "output_type": "stream",
     "text": [
      "Adding these covariates:\n",
      "['a_Intercept', \"a_C(turn_type, Treatment('Sham'))[T.Right cTBS]\"]\n",
      "Adding these covariates:\n",
      "['v_Intercept']\n",
      "Adding these covariates:\n",
      "['z_Intercept', \"z_C(turn_type, Treatment('Sham'))[T.Right cTBS]\"]\n",
      " [-----------------100%-----------------] 2001 of 2000 complete in 3379.5 secWARNING: Will not save custom link functions.\n",
      "WARNING: Will not save custom link functions.\n",
      "WARNING: Will not save custom link functions.\n"
     ]
    }
   ],
   "source": [
    "a_reg = {'model': \"a ~ 1 + C(turn_type, Treatment('Sham'))\",'link_func': lambda x: x}\n",
    "v_reg = {'model': \"v ~ 1\",'link_func': lambda x: x}\n",
    "z_reg = {'model': \"z ~ 1 + C(turn_type, Treatment('Sham'))\",'link_func': lambda x: x}\n",
    "reg_descr = [a_reg,v_reg,z_reg]\n",
    "D_R_T_Q_azm = hddm.HDDMRegressor(D_R_T_Q, reg_descr, include='z')\n",
    "D_R_T_Q_azm.find_starting_values()\n",
    "D_R_T_Q_azm.sample(2000, burn=20, dbname='traces.db', db='pickle')\n",
    "D_R_T_Q_azm.save('D_R_T_Q_azm')"
   ]
  },
  {
   "cell_type": "markdown",
   "metadata": {},
   "source": [
    "### model 6: v + z"
   ]
  },
  {
   "cell_type": "code",
   "execution_count": 12,
   "metadata": {},
   "outputs": [
    {
     "name": "stdout",
     "output_type": "stream",
     "text": [
      "Adding these covariates:\n",
      "['a_Intercept']\n",
      "Adding these covariates:\n",
      "['v_Intercept', \"v_C(turn_type, Treatment('Sham'))[T.Right cTBS]\"]\n",
      "Adding these covariates:\n",
      "['z_Intercept', \"z_C(turn_type, Treatment('Sham'))[T.Right cTBS]\"]\n",
      " [-----------------100%-----------------] 2001 of 2000 complete in 3439.1 secWARNING: Will not save custom link functions.\n",
      "WARNING: Will not save custom link functions.\n",
      "WARNING: Will not save custom link functions.\n"
     ]
    }
   ],
   "source": [
    "a_reg = {'model': \"a ~ 1\",'link_func': lambda x: x}\n",
    "v_reg = {'model': \"v ~ 1 + C(turn_type, Treatment('Sham'))\",'link_func': lambda x: x}\n",
    "z_reg = {'model': \"z ~ 1 + C(turn_type, Treatment('Sham'))\",'link_func': lambda x: x}\n",
    "reg_descr = [a_reg,v_reg,z_reg]\n",
    "D_R_T_Q_vzm = hddm.HDDMRegressor(D_R_T_Q, reg_descr, include='z')\n",
    "D_R_T_Q_vzm.find_starting_values()\n",
    "D_R_T_Q_vzm.sample(2000, burn=20, dbname='traces.db', db='pickle')\n",
    "D_R_T_Q_vzm.save('D_R_T_Q_vzm')"
   ]
  },
  {
   "cell_type": "markdown",
   "metadata": {},
   "source": [
    "### model 7: a + v + z"
   ]
  },
  {
   "cell_type": "code",
   "execution_count": 13,
   "metadata": {},
   "outputs": [
    {
     "name": "stdout",
     "output_type": "stream",
     "text": [
      "Adding these covariates:\n",
      "['a_Intercept', \"a_C(turn_type, Treatment('Sham'))[T.Right cTBS]\"]\n",
      "Adding these covariates:\n",
      "['v_Intercept', \"v_C(turn_type, Treatment('Sham'))[T.Right cTBS]\"]\n",
      "Adding these covariates:\n",
      "['z_Intercept', \"z_C(turn_type, Treatment('Sham'))[T.Right cTBS]\"]\n",
      " [-----------------100%-----------------] 2001 of 2000 complete in 3908.7 secWARNING: Will not save custom link functions.\n",
      "WARNING: Will not save custom link functions.\n",
      "WARNING: Will not save custom link functions.\n"
     ]
    }
   ],
   "source": [
    "a_reg = {'model': \"a ~ 1 + C(turn_type, Treatment('Sham'))\",'link_func': lambda x: x}\n",
    "v_reg = {'model': \"v ~ 1 + C(turn_type, Treatment('Sham'))\",'link_func': lambda x: x}\n",
    "z_reg = {'model': \"z ~ 1 + C(turn_type, Treatment('Sham'))\",'link_func': lambda x: x}\n",
    "reg_descr = [a_reg,v_reg,z_reg]\n",
    "D_R_T_Q_fm = hddm.HDDMRegressor(D_R_T_Q, reg_descr, include='z')\n",
    "D_R_T_Q_fm.find_starting_values()\n",
    "D_R_T_Q_fm.sample(2000, burn=20, dbname='traces.db', db='pickle')\n",
    "D_R_T_Q_fm.save('D_R_T_Q_fm')"
   ]
  },
  {
   "cell_type": "markdown",
   "metadata": {},
   "source": [
    "### Model comparison"
   ]
  },
  {
   "cell_type": "code",
   "execution_count": 27,
   "metadata": {},
   "outputs": [
    {
     "name": "stdout",
     "output_type": "stream",
     "text": [
      "baseline model DIC: 4622.759408\n",
      "a model DIC: 4617.387531\n",
      "v model DIC: 4623.771355\n",
      "z model DIC: 4619.998529\n",
      "av model DIC: 4617.086432\n",
      "az model DIC: 4613.963288\n",
      "vz model DIC: 4623.892513\n",
      "full model DIC: 4617.857520\n"
     ]
    },
    {
     "data": {
      "image/png": "[encoded data removed]",
      "text/plain": [
       "<Figure size 130.394x63.7795 with 1 Axes>"
      ]
     },
     "metadata": {
      "needs_background": "light"
     },
     "output_type": "display_data"
    }
   ],
   "source": [
    "print(\"baseline model DIC: %f\" % D_R_T_Q_bsl.dic)\n",
    "print(\"a model DIC: %f\" % D_R_T_Q_am.dic)\n",
    "print(\"v model DIC: %f\" % D_R_T_Q_vm.dic)\n",
    "print(\"z model DIC: %f\" % D_R_T_Q_zm.dic)\n",
    "print(\"av model DIC: %f\" % D_R_T_Q_avm.dic)\n",
    "print(\"az model DIC: %f\" % D_R_T_Q_azm.dic)\n",
    "print(\"vz model DIC: %f\" % D_R_T_Q_vzm.dic)\n",
    "print(\"full model DIC: %f\" % D_R_T_Q_fm.dic)\n",
    "\n",
    "fig, ax = plt.subplots()\n",
    "\n",
    "fruits = ['baseline', 'a', 'v', 'z', 'av', 'az', 'vz','full']\n",
    "counts = [D_R_T_Q_bsl.dic, D_R_T_Q_am.dic, D_R_T_Q_vm.dic, D_R_T_Q_zm.dic,D_R_T_Q_avm.dic,D_R_T_Q_azm.dic,D_R_T_Q_vzm.dic,D_R_T_Q_fm.dic]\n",
    "\n",
    "ax.bar(fruits, counts, color=[197./255,158./255,226./255],edgecolor='black',linewidth=0.5)\n",
    "\n",
    "#ax.set_ylabel('DIC value')\n",
    "#ax.set_title('TBS: Right stimulation consonant noise')\n",
    "ax.set_ylim([4610,4626])\n",
    "ytick_plot=range(4610,4626,2)\n",
    "ytick_plot.append(4626)\n",
    "ax.set_yticks(ytick_plot)\n",
    "#ax.set_yticklabels(range(6275,6295,3))\n",
    "ax.spines['right'].set_visible(False)\n",
    "ax.spines['top'].set_visible(False)\n",
    "\n",
    "fig.set_size_inches(4.6*cm,2.25*cm)\n",
    "ax.tick_params('both',which='major',direction='in',width=0.5,length=2)\n",
    "plt.rcParams['font.size']=5\n",
    "plt.rcParams['font.family']='Arial'\n",
    "plt.savefig(D_name+'M_compare.pdf',bbox_inches = 'tight',transparent=True)\n",
    "plt.show()"
   ]
  },
  {
   "cell_type": "markdown",
   "metadata": {},
   "source": [
    "### Plotting"
   ]
  },
  {
   "cell_type": "code",
   "execution_count": 26,
   "metadata": {},
   "outputs": [
    {
     "data": {
      "image/png": "[encoded data removed]",
      "text/plain": [
       "<Figure size 127.559x70.8661 with 1 Axes>"
      ]
     },
     "metadata": {
      "needs_background": "light"
     },
     "output_type": "display_data"
    },
    {
     "name": "stdout",
     "output_type": "stream",
     "text": [
      "('P(a > Sham) = ', 0.9974747474747475)\n",
      "('P(v > Sham) = ', 0.30404040404040406)\n",
      "('P(z > Sham) = ', 0.2297979797979798)\n"
     ]
    }
   ],
   "source": [
    "a_Intercept,a_cTBS = D_R_T_Q_fm.nodes_db.loc[[\"a_Intercept\",\"a_C(turn_type, Treatment('Sham'))[T.Right cTBS]\"], 'node']\n",
    "# hddm.analyze.plot_posterior_nodes([a_Intercept,a_cTBS])\n",
    "# plt.xlabel('boundary')\n",
    "# plt.ylabel('Posterior probability')\n",
    "# plt.title('Full model')\n",
    "\n",
    "v_Intercept,v_cTBS = D_R_T_Q_fm.nodes_db.loc[[\"v_Intercept\",\"v_C(turn_type, Treatment('Sham'))[T.Right cTBS]\"], 'node']\n",
    "# hddm.analyze.plot_posterior_nodes([v_Intercept,v_cTBS])\n",
    "# plt.xlabel('drift-rate')\n",
    "# plt.ylabel('Posterior probability')\n",
    "# plt.title('Full model')\n",
    "\n",
    "z_Intercept,z_cTBS = D_R_T_Q_fm.nodes_db.loc[[\"z_Intercept\",\"z_C(turn_type, Treatment('Sham'))[T.Right cTBS]\"], 'node']\n",
    "# hddm.analyze.plot_posterior_nodes([z_Intercept,z_cTBS])\n",
    "# plt.xlabel('starting point')\n",
    "# plt.ylabel('Posterior probability')\n",
    "# plt.title('Full model')\n",
    "\n",
    "fig, ax = plt.subplots()\n",
    "fig.set_size_inches(4.5*cm,2.5*cm)\n",
    "\n",
    "para_tag=['boundary(a)','drift rate(v)','starting point(z)']\n",
    "counts = [a_cTBS.trace()/(max(a_cTBS.trace())-min(a_cTBS.trace())),v_cTBS.trace()/(max(v_cTBS.trace())-min(v_cTBS.trace())),z_cTBS.trace()/(max(z_cTBS.trace())-min(z_cTBS.trace()))]\n",
    "\n",
    "ax.axhline(y = 0, color =[0.5,0.5,0.5], linestyle =\"--\", linewidth = 0.5, zorder=0)\n",
    "\n",
    "vioparts=ax.violinplot(counts)\n",
    "for pc in vioparts['bodies']:\n",
    "    pc.set_facecolor('grey')\n",
    "    pc.set_edgecolor('black')\n",
    "    pc.set_linewidth(0.5)\n",
    "    pc.set_alpha(0.8)\n",
    "vioparts['cbars'].set_color('black')\n",
    "vioparts['cbars'].set_linewidth(0.5)\n",
    "vioparts['cmaxes'].set_color('black')\n",
    "vioparts['cmaxes'].set_linewidth(0.5)\n",
    "vioparts['cmins'].set_color('black')\n",
    "vioparts['cmins'].set_linewidth(0.5)\n",
    "\n",
    "ax.set_xticks([1,2,3])\n",
    "ax.set_xticklabels(para_tag)\n",
    "#ax.set_title('Full model: Left cTBS consonant quiet')\n",
    "#ax.set_ylabel('Regression coef (normalized)')\n",
    "ax.set_ylim([-1,1.5])\n",
    "ax.spines['right'].set_visible(False)\n",
    "ax.spines['top'].set_visible(False)\n",
    "\n",
    "ax.tick_params('both',which='major',direction='in',width=0.5,length=2)\n",
    "plt.rcParams['savefig.dpi']=300\n",
    "plt.rcParams['font.size']=5\n",
    "plt.rcParams['font.family']='Arial'\n",
    "plt.savefig(D_name+'cTBS_DDMparas.pdf',bbox_inches = 'tight',transparent=True)\n",
    "plt.show()\n",
    "\n",
    "print(\"P(a > Sham) = \", (a_cTBS.trace() > 0).mean())\n",
    "print(\"P(v > Sham) = \", (v_cTBS.trace() > 0).mean())\n",
    "print(\"P(z > Sham) = \", (z_cTBS.trace() > 0).mean())"
   ]
  },
  {
   "cell_type": "markdown",
   "metadata": {},
   "source": [
    "### check full model simulation prediction accuracy"
   ]
  },
  {
   "cell_type": "markdown",
   "metadata": {},
   "source": [
    "#### fit the full model"
   ]
  },
  {
   "cell_type": "code",
   "execution_count": 16,
   "metadata": {},
   "outputs": [
    {
     "name": "stdout",
     "output_type": "stream",
     "text": [
      "Adding these covariates:\n",
      "['a_Intercept', \"a_C(turn_type, Treatment('Sham'))[T.Right cTBS]\"]\n",
      "Adding these covariates:\n",
      "['v_Intercept', \"v_C(turn_type, Treatment('Sham'))[T.Right cTBS]\"]\n",
      "Adding these covariates:\n",
      "['z_Intercept', \"z_C(turn_type, Treatment('Sham'))[T.Right cTBS]\"]\n",
      " [-----------------100%-----------------] 2001 of 2000 complete in 3933.4 sec"
     ]
    },
    {
     "data": {
      "text/plain": [
       "<pymc.MCMC.MCMC at 0x7ff0cc0d0590>"
      ]
     },
     "execution_count": 16,
     "metadata": {},
     "output_type": "execute_result"
    }
   ],
   "source": [
    "fm_data_2=D_R_T_Q\n",
    "fm_data_2.reset_index(inplace = True, drop = True)\n",
    "a_reg = {'model': \"a ~ 1 + C(turn_type, Treatment('Sham'))\",'link_func': lambda x: x}\n",
    "v_reg = {'model': \"v ~ 1 + C(turn_type, Treatment('Sham'))\",'link_func': lambda x: x}\n",
    "z_reg = {'model': \"z ~ 1 + C(turn_type, Treatment('Sham'))\",'link_func': lambda x: x}\n",
    "reg_descr = [a_reg,v_reg,z_reg]\n",
    "fm_2 = hddm.HDDMRegressor(fm_data_2, reg_descr, include='z')\n",
    "fm_2.find_starting_values()\n",
    "fm_2.sample(2000, burn=20, dbname='traces.db', db='pickle')"
   ]
  },
  {
   "cell_type": "markdown",
   "metadata": {},
   "source": [
    "#### plot the full model (compared with the original full model)"
   ]
  },
  {
   "cell_type": "code",
   "execution_count": 17,
   "metadata": {},
   "outputs": [
    {
     "data": {
      "image/png": "[encoded data removed]",
      "text/plain": [
       "<Figure size 288x288 with 1 Axes>"
      ]
     },
     "metadata": {
      "needs_background": "light"
     },
     "output_type": "display_data"
    },
    {
     "name": "stdout",
     "output_type": "stream",
     "text": [
      "('P(a > Sham) = ', 0.997979797979798)\n",
      "('P(v > Sham) = ', 0.3474747474747475)\n",
      "('P(z > Sham) = ', 0.19696969696969696)\n"
     ]
    }
   ],
   "source": [
    "a_Intercept,a_cTBS = fm_2.nodes_db.loc[[\"a_Intercept\",\"a_C(turn_type, Treatment('Sham'))[T.Right cTBS]\"], 'node']\n",
    "v_Intercept,v_cTBS = fm_2.nodes_db.loc[[\"v_Intercept\",\"v_C(turn_type, Treatment('Sham'))[T.Right cTBS]\"], 'node']\n",
    "z_Intercept,z_cTBS = fm_2.nodes_db.loc[[\"z_Intercept\",\"z_C(turn_type, Treatment('Sham'))[T.Right cTBS]\"], 'node']\n",
    "\n",
    "fig, ax = plt.subplots()\n",
    "fig.set_size_inches(4,4)\n",
    "\n",
    "para_tag=['boundary(a)','drift rate(v)','starting point(z)']\n",
    "counts = [a_cTBS.trace()/(max(a_cTBS.trace())-min(a_cTBS.trace())),v_cTBS.trace()/(max(v_cTBS.trace())-min(v_cTBS.trace())),z_cTBS.trace()/(max(z_cTBS.trace())-min(z_cTBS.trace()))]\n",
    "\n",
    "ax.axhline(y = 0, color =\"green\", linestyle =\"--\")\n",
    "ax.violinplot(counts)\n",
    "ax.set_xticks([1,2,3])\n",
    "ax.set_xticklabels(para_tag)\n",
    "ax.set_title('Full model: Left cTBS consonant quiet')\n",
    "ax.set_ylabel('Regression coef (normalized)')\n",
    "ax.set_ylim([-1.8,1.8])\n",
    "ax.spines['right'].set_visible(False)\n",
    "ax.spines['top'].set_visible(False)\n",
    "\n",
    "plt.show()\n",
    "\n",
    "print(\"P(a > Sham) = \", (a_cTBS.trace() > 0).mean())\n",
    "print(\"P(v > Sham) = \", (v_cTBS.trace() > 0).mean())\n",
    "print(\"P(z > Sham) = \", (z_cTBS.trace() > 0).mean())"
   ]
  },
  {
   "cell_type": "markdown",
   "metadata": {},
   "source": [
    "#### predict data from simulated data derived from full model"
   ]
  },
  {
   "cell_type": "code",
   "execution_count": 18,
   "metadata": {},
   "outputs": [
    {
     "name": "stdout",
     "output_type": "stream",
     "text": [
      " [-------------------112%-------------------] 28 of 25 complete in 23468.2 sec"
     ]
    },
    {
     "data": {
      "text/html": [
       "<div>\n",
       "<style scoped>\n",
       "    .dataframe tbody tr th:only-of-type {\n",
       "        vertical-align: middle;\n",
       "    }\n",
       "\n",
       "    .dataframe tbody tr th {\n",
       "        vertical-align: top;\n",
       "    }\n",
       "\n",
       "    .dataframe thead th {\n",
       "        text-align: right;\n",
       "    }\n",
       "</style>\n",
       "<table border=\"1\" class=\"dataframe\">\n",
       "  <thead>\n",
       "    <tr style=\"text-align: right;\">\n",
       "      <th></th>\n",
       "      <th>observed</th>\n",
       "      <th>mean</th>\n",
       "      <th>std</th>\n",
       "      <th>SEM</th>\n",
       "      <th>MSE</th>\n",
       "      <th>credible</th>\n",
       "      <th>quantile</th>\n",
       "      <th>mahalanobis</th>\n",
       "    </tr>\n",
       "    <tr>\n",
       "      <th>stat</th>\n",
       "      <th></th>\n",
       "      <th></th>\n",
       "      <th></th>\n",
       "      <th></th>\n",
       "      <th></th>\n",
       "      <th></th>\n",
       "      <th></th>\n",
       "      <th></th>\n",
       "    </tr>\n",
       "  </thead>\n",
       "  <tbody>\n",
       "    <tr>\n",
       "      <th>accuracy</th>\n",
       "      <td>0.608462</td>\n",
       "      <td>0.610439</td>\n",
       "      <td>0.065899</td>\n",
       "      <td>3.910364e-06</td>\n",
       "      <td>0.004347</td>\n",
       "      <td>True</td>\n",
       "      <td>49.040001</td>\n",
       "      <td>0.030007</td>\n",
       "    </tr>\n",
       "    <tr>\n",
       "      <th>mean_ub</th>\n",
       "      <td>0.656109</td>\n",
       "      <td>0.668847</td>\n",
       "      <td>0.091673</td>\n",
       "      <td>1.622649e-04</td>\n",
       "      <td>0.008566</td>\n",
       "      <td>True</td>\n",
       "      <td>45.360001</td>\n",
       "      <td>0.138954</td>\n",
       "    </tr>\n",
       "    <tr>\n",
       "      <th>std_ub</th>\n",
       "      <td>0.237008</td>\n",
       "      <td>0.230027</td>\n",
       "      <td>0.056776</td>\n",
       "      <td>4.873039e-05</td>\n",
       "      <td>0.003272</td>\n",
       "      <td>True</td>\n",
       "      <td>61.655998</td>\n",
       "      <td>0.122951</td>\n",
       "    </tr>\n",
       "    <tr>\n",
       "      <th>10q_ub</th>\n",
       "      <td>0.444178</td>\n",
       "      <td>0.465494</td>\n",
       "      <td>0.065222</td>\n",
       "      <td>4.543522e-04</td>\n",
       "      <td>0.004708</td>\n",
       "      <td>True</td>\n",
       "      <td>33.495998</td>\n",
       "      <td>0.326815</td>\n",
       "    </tr>\n",
       "    <tr>\n",
       "      <th>30q_ub</th>\n",
       "      <td>0.536985</td>\n",
       "      <td>0.522929</td>\n",
       "      <td>0.071399</td>\n",
       "      <td>1.975514e-04</td>\n",
       "      <td>0.005295</td>\n",
       "      <td>True</td>\n",
       "      <td>59.848000</td>\n",
       "      <td>0.196855</td>\n",
       "    </tr>\n",
       "    <tr>\n",
       "      <th>50q_ub</th>\n",
       "      <td>0.610371</td>\n",
       "      <td>0.597266</td>\n",
       "      <td>0.081535</td>\n",
       "      <td>1.717580e-04</td>\n",
       "      <td>0.006820</td>\n",
       "      <td>True</td>\n",
       "      <td>58.015999</td>\n",
       "      <td>0.160736</td>\n",
       "    </tr>\n",
       "    <tr>\n",
       "      <th>70q_ub</th>\n",
       "      <td>0.701193</td>\n",
       "      <td>0.713363</td>\n",
       "      <td>0.101073</td>\n",
       "      <td>1.481269e-04</td>\n",
       "      <td>0.010364</td>\n",
       "      <td>True</td>\n",
       "      <td>47.472000</td>\n",
       "      <td>0.120415</td>\n",
       "    </tr>\n",
       "    <tr>\n",
       "      <th>90q_ub</th>\n",
       "      <td>0.897437</td>\n",
       "      <td>0.966187</td>\n",
       "      <td>0.153989</td>\n",
       "      <td>4.726523e-03</td>\n",
       "      <td>0.028439</td>\n",
       "      <td>True</td>\n",
       "      <td>37.448002</td>\n",
       "      <td>0.446458</td>\n",
       "    </tr>\n",
       "    <tr>\n",
       "      <th>mean_lb</th>\n",
       "      <td>-0.688245</td>\n",
       "      <td>-0.708329</td>\n",
       "      <td>0.101055</td>\n",
       "      <td>4.033651e-04</td>\n",
       "      <td>0.010616</td>\n",
       "      <td>True</td>\n",
       "      <td>57.136002</td>\n",
       "      <td>0.198742</td>\n",
       "    </tr>\n",
       "    <tr>\n",
       "      <th>std_lb</th>\n",
       "      <td>0.235808</td>\n",
       "      <td>0.235718</td>\n",
       "      <td>0.061226</td>\n",
       "      <td>8.101181e-09</td>\n",
       "      <td>0.003749</td>\n",
       "      <td>True</td>\n",
       "      <td>57.799999</td>\n",
       "      <td>0.001470</td>\n",
       "    </tr>\n",
       "    <tr>\n",
       "      <th>10q_lb</th>\n",
       "      <td>0.499306</td>\n",
       "      <td>0.490531</td>\n",
       "      <td>0.067789</td>\n",
       "      <td>7.699106e-05</td>\n",
       "      <td>0.004672</td>\n",
       "      <td>True</td>\n",
       "      <td>58.480000</td>\n",
       "      <td>0.129438</td>\n",
       "    </tr>\n",
       "    <tr>\n",
       "      <th>30q_lb</th>\n",
       "      <td>0.571323</td>\n",
       "      <td>0.559263</td>\n",
       "      <td>0.076926</td>\n",
       "      <td>1.454333e-04</td>\n",
       "      <td>0.006063</td>\n",
       "      <td>True</td>\n",
       "      <td>59.967999</td>\n",
       "      <td>0.156768</td>\n",
       "    </tr>\n",
       "    <tr>\n",
       "      <th>50q_lb</th>\n",
       "      <td>0.634049</td>\n",
       "      <td>0.641009</td>\n",
       "      <td>0.090433</td>\n",
       "      <td>4.844069e-05</td>\n",
       "      <td>0.008227</td>\n",
       "      <td>True</td>\n",
       "      <td>47.512001</td>\n",
       "      <td>0.076962</td>\n",
       "    </tr>\n",
       "    <tr>\n",
       "      <th>70q_lb</th>\n",
       "      <td>0.713435</td>\n",
       "      <td>0.760570</td>\n",
       "      <td>0.113459</td>\n",
       "      <td>2.221685e-03</td>\n",
       "      <td>0.015095</td>\n",
       "      <td>True</td>\n",
       "      <td>35.048000</td>\n",
       "      <td>0.415434</td>\n",
       "    </tr>\n",
       "    <tr>\n",
       "      <th>90q_lb</th>\n",
       "      <td>0.938079</td>\n",
       "      <td>1.012101</td>\n",
       "      <td>0.170957</td>\n",
       "      <td>5.479229e-03</td>\n",
       "      <td>0.034706</td>\n",
       "      <td>True</td>\n",
       "      <td>36.327999</td>\n",
       "      <td>0.432985</td>\n",
       "    </tr>\n",
       "  </tbody>\n",
       "</table>\n",
       "</div>"
      ],
      "text/plain": [
       "          observed      mean       std           SEM       MSE credible  \\\n",
       "stat                                                                      \n",
       "accuracy  0.608462  0.610439  0.065899  3.910364e-06  0.004347     True   \n",
       "mean_ub   0.656109  0.668847  0.091673  1.622649e-04  0.008566     True   \n",
       "std_ub    0.237008  0.230027  0.056776  4.873039e-05  0.003272     True   \n",
       "10q_ub    0.444178  0.465494  0.065222  4.543522e-04  0.004708     True   \n",
       "30q_ub    0.536985  0.522929  0.071399  1.975514e-04  0.005295     True   \n",
       "50q_ub    0.610371  0.597266  0.081535  1.717580e-04  0.006820     True   \n",
       "70q_ub    0.701193  0.713363  0.101073  1.481269e-04  0.010364     True   \n",
       "90q_ub    0.897437  0.966187  0.153989  4.726523e-03  0.028439     True   \n",
       "mean_lb  -0.688245 -0.708329  0.101055  4.033651e-04  0.010616     True   \n",
       "std_lb    0.235808  0.235718  0.061226  8.101181e-09  0.003749     True   \n",
       "10q_lb    0.499306  0.490531  0.067789  7.699106e-05  0.004672     True   \n",
       "30q_lb    0.571323  0.559263  0.076926  1.454333e-04  0.006063     True   \n",
       "50q_lb    0.634049  0.641009  0.090433  4.844069e-05  0.008227     True   \n",
       "70q_lb    0.713435  0.760570  0.113459  2.221685e-03  0.015095     True   \n",
       "90q_lb    0.938079  1.012101  0.170957  5.479229e-03  0.034706     True   \n",
       "\n",
       "           quantile  mahalanobis  \n",
       "stat                              \n",
       "accuracy  49.040001     0.030007  \n",
       "mean_ub   45.360001     0.138954  \n",
       "std_ub    61.655998     0.122951  \n",
       "10q_ub    33.495998     0.326815  \n",
       "30q_ub    59.848000     0.196855  \n",
       "50q_ub    58.015999     0.160736  \n",
       "70q_ub    47.472000     0.120415  \n",
       "90q_ub    37.448002     0.446458  \n",
       "mean_lb   57.136002     0.198742  \n",
       "std_lb    57.799999     0.001470  \n",
       "10q_lb    58.480000     0.129438  \n",
       "30q_lb    59.967999     0.156768  \n",
       "50q_lb    47.512001     0.076962  \n",
       "70q_lb    35.048000     0.415434  \n",
       "90q_lb    36.327999     0.432985  "
      ]
     },
     "execution_count": 18,
     "metadata": {},
     "output_type": "execute_result"
    }
   ],
   "source": [
    "fm_data_2_sim = hddm.utils.post_pred_gen(fm_2)\n",
    "hddm.utils.post_pred_stats(fm_data_2, fm_data_2_sim)"
   ]
  }
 ],
 "metadata": {
  "kernelspec": {
   "display_name": "Python 2.7.18 ('bsliang_DDM_27': conda)",
   "language": "python",
   "name": "python3"
  },
  "language_info": {
   "codemirror_mode": {
    "name": "ipython",
    "version": 2
   },
   "file_extension": ".py",
   "mimetype": "text/x-python",
   "name": "python",
   "nbconvert_exporter": "python",
   "pygments_lexer": "ipython2",
   "version": "2.7.18"
  },
  "orig_nbformat": 4,
  "vscode": {
   "interpreter": {
    "hash": "800a09db568ebe80aacfc1bc086e45a31a7cff3ccaf522d8b640d0dfbe2b8801"
   }
  }
 },
 "nbformat": 4,
 "nbformat_minor": 2
}
