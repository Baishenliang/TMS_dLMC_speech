{
 "cells": [
  {
   "cell_type": "markdown",
   "metadata": {},
   "source": [
    "# TBS"
   ]
  },
  {
   "cell_type": "markdown",
   "metadata": {},
   "source": [
    "## preparing"
   ]
  },
  {
   "cell_type": "code",
   "execution_count": 16,
   "metadata": {},
   "outputs": [],
   "source": [
    "import pandas as pd\n",
    "import matplotlib.pyplot as plt\n",
    "import hddm\n",
    "import numpy as np\n",
    "import pickle\n",
    "from patsy import dmatrices, dmatrix, demo_data\n",
    "cm = 1/2.54"
   ]
  },
  {
   "cell_type": "markdown",
   "metadata": {},
   "source": [
    "## loading data"
   ]
  },
  {
   "cell_type": "code",
   "execution_count": 2,
   "metadata": {},
   "outputs": [
    {
     "data": {
      "text/html": [
       "<div>\n",
       "<style scoped>\n",
       "    .dataframe tbody tr th:only-of-type {\n",
       "        vertical-align: middle;\n",
       "    }\n",
       "\n",
       "    .dataframe tbody tr th {\n",
       "        vertical-align: top;\n",
       "    }\n",
       "\n",
       "    .dataframe thead th {\n",
       "        text-align: right;\n",
       "    }\n",
       "</style>\n",
       "<table border=\"1\" class=\"dataframe\">\n",
       "  <thead>\n",
       "    <tr style=\"text-align: right;\">\n",
       "      <th></th>\n",
       "      <th>subj_idx</th>\n",
       "      <th>group_idx</th>\n",
       "      <th>turn_type</th>\n",
       "      <th>task_type</th>\n",
       "      <th>snr_type</th>\n",
       "      <th>trial_num</th>\n",
       "      <th>step_att</th>\n",
       "      <th>response</th>\n",
       "      <th>rt</th>\n",
       "      <th>step_unatnd</th>\n",
       "    </tr>\n",
       "  </thead>\n",
       "  <tbody>\n",
       "    <tr>\n",
       "      <th>0</th>\n",
       "      <td>55</td>\n",
       "      <td>Larynx</td>\n",
       "      <td>Left iTBS</td>\n",
       "      <td>Tone</td>\n",
       "      <td>Clear</td>\n",
       "      <td>1</td>\n",
       "      <td>3</td>\n",
       "      <td>1</td>\n",
       "      <td>1.083317</td>\n",
       "      <td>1</td>\n",
       "    </tr>\n",
       "    <tr>\n",
       "      <th>1</th>\n",
       "      <td>55</td>\n",
       "      <td>Larynx</td>\n",
       "      <td>Left iTBS</td>\n",
       "      <td>Tone</td>\n",
       "      <td>Clear</td>\n",
       "      <td>2</td>\n",
       "      <td>2</td>\n",
       "      <td>1</td>\n",
       "      <td>0.744397</td>\n",
       "      <td>1</td>\n",
       "    </tr>\n",
       "    <tr>\n",
       "      <th>2</th>\n",
       "      <td>55</td>\n",
       "      <td>Larynx</td>\n",
       "      <td>Left iTBS</td>\n",
       "      <td>Tone</td>\n",
       "      <td>Clear</td>\n",
       "      <td>3</td>\n",
       "      <td>2</td>\n",
       "      <td>1</td>\n",
       "      <td>0.732525</td>\n",
       "      <td>1</td>\n",
       "    </tr>\n",
       "    <tr>\n",
       "      <th>3</th>\n",
       "      <td>55</td>\n",
       "      <td>Larynx</td>\n",
       "      <td>Left iTBS</td>\n",
       "      <td>Tone</td>\n",
       "      <td>Clear</td>\n",
       "      <td>4</td>\n",
       "      <td>1</td>\n",
       "      <td>1</td>\n",
       "      <td>0.800199</td>\n",
       "      <td>1</td>\n",
       "    </tr>\n",
       "    <tr>\n",
       "      <th>4</th>\n",
       "      <td>55</td>\n",
       "      <td>Larynx</td>\n",
       "      <td>Left iTBS</td>\n",
       "      <td>Tone</td>\n",
       "      <td>Clear</td>\n",
       "      <td>5</td>\n",
       "      <td>2</td>\n",
       "      <td>1</td>\n",
       "      <td>0.753649</td>\n",
       "      <td>1</td>\n",
       "    </tr>\n",
       "    <tr>\n",
       "      <th>5</th>\n",
       "      <td>55</td>\n",
       "      <td>Larynx</td>\n",
       "      <td>Left iTBS</td>\n",
       "      <td>Tone</td>\n",
       "      <td>Clear</td>\n",
       "      <td>6</td>\n",
       "      <td>2</td>\n",
       "      <td>1</td>\n",
       "      <td>0.544652</td>\n",
       "      <td>1</td>\n",
       "    </tr>\n",
       "    <tr>\n",
       "      <th>6</th>\n",
       "      <td>55</td>\n",
       "      <td>Larynx</td>\n",
       "      <td>Left iTBS</td>\n",
       "      <td>Tone</td>\n",
       "      <td>Clear</td>\n",
       "      <td>7</td>\n",
       "      <td>1</td>\n",
       "      <td>1</td>\n",
       "      <td>0.621313</td>\n",
       "      <td>1</td>\n",
       "    </tr>\n",
       "    <tr>\n",
       "      <th>7</th>\n",
       "      <td>55</td>\n",
       "      <td>Larynx</td>\n",
       "      <td>Left iTBS</td>\n",
       "      <td>Tone</td>\n",
       "      <td>Clear</td>\n",
       "      <td>8</td>\n",
       "      <td>1</td>\n",
       "      <td>1</td>\n",
       "      <td>0.580819</td>\n",
       "      <td>1</td>\n",
       "    </tr>\n",
       "    <tr>\n",
       "      <th>8</th>\n",
       "      <td>55</td>\n",
       "      <td>Larynx</td>\n",
       "      <td>Left iTBS</td>\n",
       "      <td>Tone</td>\n",
       "      <td>Clear</td>\n",
       "      <td>9</td>\n",
       "      <td>1</td>\n",
       "      <td>0</td>\n",
       "      <td>-0.496794</td>\n",
       "      <td>1</td>\n",
       "    </tr>\n",
       "    <tr>\n",
       "      <th>9</th>\n",
       "      <td>55</td>\n",
       "      <td>Larynx</td>\n",
       "      <td>Left iTBS</td>\n",
       "      <td>Tone</td>\n",
       "      <td>Clear</td>\n",
       "      <td>10</td>\n",
       "      <td>3</td>\n",
       "      <td>1</td>\n",
       "      <td>0.863869</td>\n",
       "      <td>1</td>\n",
       "    </tr>\n",
       "  </tbody>\n",
       "</table>\n",
       "</div>"
      ],
      "text/plain": [
       "   subj_idx group_idx  turn_type task_type snr_type  trial_num  step_att  \\\n",
       "0        55    Larynx  Left iTBS      Tone    Clear          1         3   \n",
       "1        55    Larynx  Left iTBS      Tone    Clear          2         2   \n",
       "2        55    Larynx  Left iTBS      Tone    Clear          3         2   \n",
       "3        55    Larynx  Left iTBS      Tone    Clear          4         1   \n",
       "4        55    Larynx  Left iTBS      Tone    Clear          5         2   \n",
       "5        55    Larynx  Left iTBS      Tone    Clear          6         2   \n",
       "6        55    Larynx  Left iTBS      Tone    Clear          7         1   \n",
       "7        55    Larynx  Left iTBS      Tone    Clear          8         1   \n",
       "8        55    Larynx  Left iTBS      Tone    Clear          9         1   \n",
       "9        55    Larynx  Left iTBS      Tone    Clear         10         3   \n",
       "\n",
       "   response        rt  step_unatnd  \n",
       "0         1  1.083317            1  \n",
       "1         1  0.744397            1  \n",
       "2         1  0.732525            1  \n",
       "3         1  0.800199            1  \n",
       "4         1  0.753649            1  \n",
       "5         1  0.544652            1  \n",
       "6         1  0.621313            1  \n",
       "7         1  0.580819            1  \n",
       "8         0 -0.496794            1  \n",
       "9         1  0.863869            1  "
      ]
     },
     "execution_count": 2,
     "metadata": {},
     "output_type": "execute_result"
    }
   ],
   "source": [
    "data = hddm.load_csv('exp2_DDM.csv')\n",
    "data.at[data['step_att'].isin(['4']),'step_att']=2\n",
    "data.at[data['step_att'].isin(['5']),'step_att']=1\n",
    "data = hddm.utils.flip_errors(data)\n",
    "data.head(10)"
   ]
  },
  {
   "cell_type": "markdown",
   "metadata": {},
   "source": [
    "## left stim, tone, clear"
   ]
  },
  {
   "cell_type": "markdown",
   "metadata": {},
   "source": [
    "### preparing data"
   ]
  },
  {
   "cell_type": "code",
   "execution_count": 3,
   "metadata": {},
   "outputs": [],
   "source": [
    "D_L=data.loc[data['turn_type'].isin(['Left cTBS','Sham'])]\n",
    "D_L_T=D_L.loc[D_L['task_type']=='Tone']\n",
    "D_L_T_N=D_L_T.loc[D_L_T['snr_type']=='Noise']\n",
    "D_L_T_N.to_csv('Exp2_D_L_T_N_cTBS.csv')"
   ]
  },
  {
   "cell_type": "markdown",
   "metadata": {},
   "source": [
    "### baseline model"
   ]
  },
  {
   "cell_type": "code",
   "execution_count": 4,
   "metadata": {},
   "outputs": [
    {
     "name": "stdout",
     "output_type": "stream",
     "text": [
      "Adding these covariates:\n",
      "['a_Intercept', \"a_C(turn_type, Treatment('Sham'))[T.Left cTBS]\"]\n",
      "Adding these covariates:\n",
      "['v_Intercept', \"v_C(turn_type, Treatment('Sham'))[T.Left cTBS]\"]\n",
      "Adding these covariates:\n",
      "['z_Intercept', \"z_C(turn_type, Treatment('Sham'))[T.Left cTBS]\"]\n"
     ]
    },
    {
     "name": "stderr",
     "output_type": "stream",
     "text": [
      "/home/bsliang/miniconda3/envs/bsliang_DDM_27/lib/python2.7/site-packages/scipy/optimize/optimize.py:1934: RuntimeWarning: invalid value encountered in double_scalars\n",
      "  tmp2 = (x - v) * (fx - fw)\n"
     ]
    },
    {
     "name": "stdout",
     "output_type": "stream",
     "text": [
      " [-----------------100%-----------------] 2001 of 2000 complete in 3810.4 sec"
     ]
    },
    {
     "data": {
      "text/plain": [
       "<pymc.MCMC.MCMC at 0x7f77887a5b50>"
      ]
     },
     "execution_count": 4,
     "metadata": {},
     "output_type": "execute_result"
    }
   ],
   "source": [
    "a_reg = {'model': \"a ~ 1 + C(turn_type, Treatment('Sham'))\",'link_func': lambda x: x}\n",
    "v_reg = {'model': \"v ~ 1 + C(turn_type, Treatment('Sham'))\",'link_func': lambda x: x}\n",
    "z_reg = {'model': \"z ~ 1 + C(turn_type, Treatment('Sham'))\",'link_func': lambda x: x}\n",
    "reg_descr = [a_reg,v_reg,z_reg]\n",
    "D_L_T_N_bsl = hddm.HDDMRegressor(D_L_T_N, reg_descr, include='z')\n",
    "D_L_T_N_bsl.find_starting_values()\n",
    "D_L_T_N_bsl.sample(2000, burn=20, dbname='traces.db', db='pickle')"
   ]
  },
  {
   "cell_type": "markdown",
   "metadata": {},
   "source": [
    "### model 1: a only"
   ]
  },
  {
   "cell_type": "code",
   "execution_count": 5,
   "metadata": {},
   "outputs": [
    {
     "name": "stdout",
     "output_type": "stream",
     "text": [
      "Adding these covariates:\n",
      "['a_Intercept', \"a_step_att:C(turn_type, Treatment('Sham'))[Left cTBS]\", \"a_step_att:C(turn_type, Treatment('Sham'))[Sham]\"]\n",
      "Adding these covariates:\n",
      "['v_Intercept', \"v_C(turn_type, Treatment('Sham'))[T.Left cTBS]\"]\n",
      "Adding these covariates:\n",
      "['z_Intercept', \"z_C(turn_type, Treatment('Sham'))[T.Left cTBS]\"]\n",
      " [-----------------100%-----------------] 2001 of 2000 complete in 4516.3 sec"
     ]
    },
    {
     "data": {
      "text/plain": [
       "<pymc.MCMC.MCMC at 0x7f774801be90>"
      ]
     },
     "execution_count": 5,
     "metadata": {},
     "output_type": "execute_result"
    }
   ],
   "source": [
    "a_reg = {'model': \"a ~ 1 + step_att:C(turn_type, Treatment('Sham'))\",'link_func': lambda x: x}\n",
    "v_reg = {'model': \"v ~ 1 + C(turn_type, Treatment('Sham'))\",'link_func': lambda x: x}\n",
    "z_reg = {'model': \"z ~ 1 + C(turn_type, Treatment('Sham'))\",'link_func': lambda x: x}\n",
    "reg_descr = [a_reg,v_reg,z_reg]\n",
    "D_L_T_N_am = hddm.HDDMRegressor(D_L_T_N, reg_descr, include='z')\n",
    "D_L_T_N_am.find_starting_values()\n",
    "D_L_T_N_am.sample(2000, burn=20, dbname='traces.db', db='pickle')"
   ]
  },
  {
   "cell_type": "markdown",
   "metadata": {},
   "source": [
    "### model 2: v only"
   ]
  },
  {
   "cell_type": "code",
   "execution_count": 6,
   "metadata": {},
   "outputs": [
    {
     "name": "stdout",
     "output_type": "stream",
     "text": [
      "Adding these covariates:\n",
      "['a_Intercept', \"a_C(turn_type, Treatment('Sham'))[T.Left cTBS]\"]\n",
      "Adding these covariates:\n",
      "['v_Intercept', \"v_step_att:C(turn_type, Treatment('Sham'))[Left cTBS]\", \"v_step_att:C(turn_type, Treatment('Sham'))[Sham]\"]\n",
      "Adding these covariates:\n",
      "['z_Intercept', \"z_C(turn_type, Treatment('Sham'))[T.Left cTBS]\"]\n",
      " [-----------------100%-----------------] 2001 of 2000 complete in 4369.6 sec"
     ]
    },
    {
     "data": {
      "text/plain": [
       "<pymc.MCMC.MCMC at 0x7f7768024990>"
      ]
     },
     "execution_count": 6,
     "metadata": {},
     "output_type": "execute_result"
    }
   ],
   "source": [
    "a_reg = {'model': \"a ~ 1 + C(turn_type, Treatment('Sham'))\",'link_func': lambda x: x}\n",
    "v_reg = {'model': \"v ~ 1 + step_att:C(turn_type, Treatment('Sham'))\",'link_func': lambda x: x}\n",
    "z_reg = {'model': \"z ~ 1 + C(turn_type, Treatment('Sham'))\",'link_func': lambda x: x}\n",
    "reg_descr = [a_reg,v_reg,z_reg]\n",
    "D_L_T_N_vm = hddm.HDDMRegressor(D_L_T_N, reg_descr, include='z')\n",
    "D_L_T_N_vm.find_starting_values()\n",
    "D_L_T_N_vm.sample(2000, burn=20, dbname='traces.db', db='pickle')"
   ]
  },
  {
   "cell_type": "markdown",
   "metadata": {},
   "source": [
    "### model 3: z only"
   ]
  },
  {
   "cell_type": "code",
   "execution_count": 7,
   "metadata": {},
   "outputs": [
    {
     "name": "stdout",
     "output_type": "stream",
     "text": [
      "Adding these covariates:\n",
      "['a_Intercept', \"a_C(turn_type, Treatment('Sham'))[T.Left cTBS]\"]\n",
      "Adding these covariates:\n",
      "['v_Intercept', \"v_C(turn_type, Treatment('Sham'))[T.Left cTBS]\"]\n",
      "Adding these covariates:\n",
      "['z_Intercept', \"z_step_att:C(turn_type, Treatment('Sham'))[Left cTBS]\", \"z_step_att:C(turn_type, Treatment('Sham'))[Sham]\"]\n",
      " [-----------------100%-----------------] 2001 of 2000 complete in 4484.4 sec"
     ]
    },
    {
     "data": {
      "text/plain": [
       "<pymc.MCMC.MCMC at 0x7f77480dba50>"
      ]
     },
     "execution_count": 7,
     "metadata": {},
     "output_type": "execute_result"
    }
   ],
   "source": [
    "a_reg = {'model': \"a ~ 1 + C(turn_type, Treatment('Sham'))\",'link_func': lambda x: x}\n",
    "v_reg = {'model': \"v ~ 1 + C(turn_type, Treatment('Sham'))\",'link_func': lambda x: x}\n",
    "z_reg = {'model': \"z ~ 1 + step_att:C(turn_type, Treatment('Sham'))\",'link_func': lambda x: x}\n",
    "reg_descr = [a_reg,v_reg,z_reg]\n",
    "D_L_T_N_zm = hddm.HDDMRegressor(D_L_T_N, reg_descr, include='z')\n",
    "D_L_T_N_zm.find_starting_values()\n",
    "D_L_T_N_zm.sample(2000, burn=20, dbname='traces.db', db='pickle')"
   ]
  },
  {
   "cell_type": "markdown",
   "metadata": {},
   "source": [
    "### model 4: a + v"
   ]
  },
  {
   "cell_type": "code",
   "execution_count": 8,
   "metadata": {},
   "outputs": [
    {
     "name": "stdout",
     "output_type": "stream",
     "text": [
      "Adding these covariates:\n",
      "['a_Intercept', \"a_step_att:C(turn_type, Treatment('Sham'))[Left cTBS]\", \"a_step_att:C(turn_type, Treatment('Sham'))[Sham]\"]\n",
      "Adding these covariates:\n",
      "['v_Intercept', \"v_step_att:C(turn_type, Treatment('Sham'))[Left cTBS]\", \"v_step_att:C(turn_type, Treatment('Sham'))[Sham]\"]\n",
      "Adding these covariates:\n",
      "['z_Intercept', \"z_C(turn_type, Treatment('Sham'))[T.Left cTBS]\"]\n",
      " [-----------------100%-----------------] 2001 of 2000 complete in 4824.2 sec"
     ]
    },
    {
     "data": {
      "text/plain": [
       "<pymc.MCMC.MCMC at 0x7f76f877b710>"
      ]
     },
     "execution_count": 8,
     "metadata": {},
     "output_type": "execute_result"
    }
   ],
   "source": [
    "a_reg = {'model': \"a ~ 1 + step_att:C(turn_type, Treatment('Sham'))\",'link_func': lambda x: x}\n",
    "v_reg = {'model': \"v ~ 1 + step_att:C(turn_type, Treatment('Sham'))\",'link_func': lambda x: x}\n",
    "z_reg = {'model': \"z ~ 1 + C(turn_type, Treatment('Sham'))\",'link_func': lambda x: x}\n",
    "reg_descr = [a_reg,v_reg,z_reg]\n",
    "D_L_T_N_avm = hddm.HDDMRegressor(D_L_T_N, reg_descr, include='z')\n",
    "D_L_T_N_avm.find_starting_values()\n",
    "D_L_T_N_avm.sample(2000, burn=20, dbname='traces.db', db='pickle')"
   ]
  },
  {
   "cell_type": "markdown",
   "metadata": {},
   "source": [
    "### model 5: a + z"
   ]
  },
  {
   "cell_type": "code",
   "execution_count": 9,
   "metadata": {},
   "outputs": [
    {
     "name": "stdout",
     "output_type": "stream",
     "text": [
      "Adding these covariates:\n",
      "['a_Intercept', \"a_step_att:C(turn_type, Treatment('Sham'))[Left cTBS]\", \"a_step_att:C(turn_type, Treatment('Sham'))[Sham]\"]\n",
      "Adding these covariates:\n",
      "['v_Intercept', \"v_C(turn_type, Treatment('Sham'))[T.Left cTBS]\"]\n",
      "Adding these covariates:\n",
      "['z_Intercept', \"z_step_att:C(turn_type, Treatment('Sham'))[Left cTBS]\", \"z_step_att:C(turn_type, Treatment('Sham'))[Sham]\"]\n",
      " [-----------------100%-----------------] 2001 of 2000 complete in 5064.0 sec"
     ]
    },
    {
     "data": {
      "text/plain": [
       "<pymc.MCMC.MCMC at 0x7f77240a8c90>"
      ]
     },
     "execution_count": 9,
     "metadata": {},
     "output_type": "execute_result"
    }
   ],
   "source": [
    "a_reg = {'model': \"a ~ 1 + step_att:C(turn_type, Treatment('Sham'))\",'link_func': lambda x: x}\n",
    "v_reg = {'model': \"v ~ 1 + C(turn_type, Treatment('Sham'))\",'link_func': lambda x: x}\n",
    "z_reg = {'model': \"z ~ 1 + step_att:C(turn_type, Treatment('Sham'))\",'link_func': lambda x: x}\n",
    "reg_descr = [a_reg,v_reg,z_reg]\n",
    "D_L_T_N_azm = hddm.HDDMRegressor(D_L_T_N, reg_descr, include='z')\n",
    "D_L_T_N_azm.find_starting_values()\n",
    "D_L_T_N_azm.sample(2000, burn=20, dbname='traces.db', db='pickle')"
   ]
  },
  {
   "cell_type": "markdown",
   "metadata": {},
   "source": [
    "### model 6: v + z"
   ]
  },
  {
   "cell_type": "code",
   "execution_count": 10,
   "metadata": {},
   "outputs": [
    {
     "name": "stdout",
     "output_type": "stream",
     "text": [
      "Adding these covariates:\n",
      "['a_Intercept', \"a_C(turn_type, Treatment('Sham'))[T.Left cTBS]\"]\n",
      "Adding these covariates:\n",
      "['v_Intercept', \"v_step_att:C(turn_type, Treatment('Sham'))[Left cTBS]\", \"v_step_att:C(turn_type, Treatment('Sham'))[Sham]\"]\n",
      "Adding these covariates:\n",
      "['z_Intercept', \"z_step_att:C(turn_type, Treatment('Sham'))[Left cTBS]\", \"z_step_att:C(turn_type, Treatment('Sham'))[Sham]\"]\n",
      " [-----------------100%-----------------] 2001 of 2000 complete in 4893.3 sec"
     ]
    },
    {
     "data": {
      "text/plain": [
       "<pymc.MCMC.MCMC at 0x7f76f0145310>"
      ]
     },
     "execution_count": 10,
     "metadata": {},
     "output_type": "execute_result"
    }
   ],
   "source": [
    "a_reg = {'model': \"a ~ 1 + C(turn_type, Treatment('Sham'))\",'link_func': lambda x: x}\n",
    "v_reg = {'model': \"v ~ 1 + step_att:C(turn_type, Treatment('Sham'))\",'link_func': lambda x: x}\n",
    "z_reg = {'model': \"z ~ 1 + step_att:C(turn_type, Treatment('Sham'))\",'link_func': lambda x: x}\n",
    "reg_descr = [a_reg,v_reg,z_reg]\n",
    "D_L_T_N_vzm = hddm.HDDMRegressor(D_L_T_N, reg_descr, include='z')\n",
    "D_L_T_N_vzm.find_starting_values()\n",
    "D_L_T_N_vzm.sample(2000, burn=20, dbname='traces.db', db='pickle')"
   ]
  },
  {
   "cell_type": "markdown",
   "metadata": {},
   "source": [
    "### model 7: a + v + z"
   ]
  },
  {
   "cell_type": "code",
   "execution_count": 11,
   "metadata": {},
   "outputs": [
    {
     "name": "stdout",
     "output_type": "stream",
     "text": [
      "Adding these covariates:\n",
      "['a_Intercept', \"a_step_att:C(turn_type, Treatment('Sham'))[Left cTBS]\", \"a_step_att:C(turn_type, Treatment('Sham'))[Sham]\"]\n",
      "Adding these covariates:\n",
      "['v_Intercept', \"v_step_att:C(turn_type, Treatment('Sham'))[Left cTBS]\", \"v_step_att:C(turn_type, Treatment('Sham'))[Sham]\"]\n",
      "Adding these covariates:\n",
      "['z_Intercept', \"z_step_att:C(turn_type, Treatment('Sham'))[Left cTBS]\", \"z_step_att:C(turn_type, Treatment('Sham'))[Sham]\"]\n",
      " [-----------------100%-----------------] 2001 of 2000 complete in 5495.4 secWARNING: Will not save custom link functions.\n",
      "WARNING: Will not save custom link functions.\n",
      "WARNING: Will not save custom link functions.\n"
     ]
    }
   ],
   "source": [
    "a_reg = {'model': \"a ~ 1 + step_att:C(turn_type, Treatment('Sham'))\",'link_func': lambda x: x}\n",
    "v_reg = {'model': \"v ~ 1 + step_att:C(turn_type, Treatment('Sham'))\",'link_func': lambda x: x}\n",
    "z_reg = {'model': \"z ~ 1 + step_att:C(turn_type, Treatment('Sham'))\",'link_func': lambda x: x}\n",
    "reg_descr = [a_reg,v_reg,z_reg]\n",
    "D_L_T_N_fm = hddm.HDDMRegressor(D_L_T_N, reg_descr, include='z')\n",
    "D_L_T_N_fm.find_starting_values()\n",
    "D_L_T_N_fm.sample(2000, burn=20, dbname='traces.db', db='pickle')\n",
    "D_L_T_N_fm.save('D_L_T_N_fm')"
   ]
  },
  {
   "cell_type": "markdown",
   "metadata": {},
   "source": [
    "### Model comparison"
   ]
  },
  {
   "cell_type": "code",
   "execution_count": 20,
   "metadata": {},
   "outputs": [
    {
     "name": "stdout",
     "output_type": "stream",
     "text": [
      "baseline model DIC: 6246.032156\n",
      "a model DIC: 6244.481077\n",
      "v model DIC: 6240.866572\n",
      "z model DIC: 6249.121167\n",
      "av model DIC: 6235.862521\n",
      "az model DIC: 6243.123234\n",
      "vz model DIC: 6228.132198\n",
      "full model DIC: 6227.290344\n"
     ]
    },
    {
     "data": {
      "image/png": "[encoded data removed]",
      "text/plain": [
       "<Figure size 130.394x63.7795 with 1 Axes>"
      ]
     },
     "metadata": {
      "needs_background": "light"
     },
     "output_type": "display_data"
    }
   ],
   "source": [
    "print(\"baseline model DIC: %f\" % D_L_T_N_bsl.dic)\n",
    "print(\"a model DIC: %f\" % D_L_T_N_am.dic)\n",
    "print(\"v model DIC: %f\" % D_L_T_N_vm.dic)\n",
    "print(\"z model DIC: %f\" % D_L_T_N_zm.dic)\n",
    "print(\"av model DIC: %f\" % D_L_T_N_avm.dic)\n",
    "print(\"az model DIC: %f\" % D_L_T_N_azm.dic)\n",
    "print(\"vz model DIC: %f\" % D_L_T_N_vzm.dic)\n",
    "print(\"full model DIC: %f\" % D_L_T_N_fm.dic)\n",
    "\n",
    "fig, ax = plt.subplots()\n",
    "\n",
    "fruits = ['baseline', 'a', 'v', 'z', 'av', 'az', 'vz','full']\n",
    "counts = [D_L_T_N_bsl.dic, D_L_T_N_am.dic, D_L_T_N_vm.dic, D_L_T_N_zm.dic,D_L_T_N_avm.dic,D_L_T_N_azm.dic,D_L_T_N_vzm.dic,D_L_T_N_fm.dic]\n",
    "\n",
    "D_name='D_L_T_N'\n",
    "\n",
    "ax.bar(fruits, counts,color=[197./255,158./255,226./255],edgecolor='black',linewidth=0.5)\n",
    "\n",
    "plt.rcParams['savefig.dpi']=300\n",
    "plt.rcParams['axes.linewidth']=0.5\n",
    "\n",
    "#ax.set_ylabel('DIC value')\n",
    "#ax.set_title('TBS: Left cTBS consonant quiet')\n",
    "ax.set_ylim([6220,6250])\n",
    "ytick_plot=range(6220,6250,5)\n",
    "ytick_plot.append(6250)\n",
    "ax.set_yticks(ytick_plot)\n",
    "ax.spines['right'].set_visible(False)\n",
    "ax.spines['top'].set_visible(False)\n",
    "\n",
    "fig.set_size_inches(4.6*cm,2.25*cm)\n",
    "ax.tick_params('both',which='major',direction='in',width=0.5,length=2)\n",
    "plt.rcParams['font.size']=5\n",
    "plt.rcParams['font.family']='Arial'\n",
    "plt.savefig(D_name+'_interact_M_compare.pdf',bbox_inches = 'tight',transparent=True)\n",
    "plt.show()"
   ]
  },
  {
   "cell_type": "markdown",
   "metadata": {},
   "source": [
    "### Plotting"
   ]
  },
  {
   "cell_type": "code",
   "execution_count": 13,
   "metadata": {},
   "outputs": [
    {
     "data": {
      "image/png": "[encoded data removed]",
      "text/plain": [
       "<Figure size 432x288 with 1 Axes>"
      ]
     },
     "metadata": {
      "needs_background": "light"
     },
     "output_type": "display_data"
    },
    {
     "data": {
      "image/png": "[encoded data removed]",
      "text/plain": [
       "<Figure size 432x288 with 1 Axes>"
      ]
     },
     "metadata": {
      "needs_background": "light"
     },
     "output_type": "display_data"
    },
    {
     "data": {
      "image/png": "[encoded data removed]",
      "text/plain": [
       "<Figure size 432x288 with 1 Axes>"
      ]
     },
     "metadata": {
      "needs_background": "light"
     },
     "output_type": "display_data"
    },
    {
     "data": {
      "image/png": "[encoded data removed]",
      "text/plain": [
       "<Figure size 288x288 with 1 Axes>"
      ]
     },
     "metadata": {
      "needs_background": "light"
     },
     "output_type": "display_data"
    },
    {
     "name": "stdout",
     "output_type": "stream",
     "text": [
      "('P(a > Sham) = ', 0.996969696969697)\n",
      "('P(v > Sham) = ', 1.0)\n",
      "('P(z > Sham) = ', 0.010606060606060607)\n"
     ]
    }
   ],
   "source": [
    "a_Intercept,a_cTBS = D_L_T_N_fm.nodes_db.loc[[\"a_Intercept\",\"a_step_att:C(turn_type, Treatment('Sham'))[Left cTBS]\"], 'node']\n",
    "hddm.analyze.plot_posterior_nodes([a_Intercept,a_cTBS])\n",
    "plt.xlabel('boundary')\n",
    "plt.ylabel('Posterior probability')\n",
    "plt.title('Full model')\n",
    "\n",
    "v_Intercept,v_cTBS = D_L_T_N_fm.nodes_db.loc[[\"v_Intercept\",\"v_step_att:C(turn_type, Treatment('Sham'))[Left cTBS]\"], 'node']\n",
    "hddm.analyze.plot_posterior_nodes([v_Intercept,v_cTBS])\n",
    "plt.xlabel('drift-rate')\n",
    "plt.ylabel('Posterior probability')\n",
    "plt.title('Full model')\n",
    "\n",
    "z_Intercept,z_cTBS = D_L_T_N_fm.nodes_db.loc[[\"z_Intercept\",\"z_step_att:C(turn_type, Treatment('Sham'))[Left cTBS]\"], 'node']\n",
    "hddm.analyze.plot_posterior_nodes([z_Intercept,z_cTBS])\n",
    "plt.xlabel('starting point')\n",
    "plt.ylabel('Posterior probability')\n",
    "plt.title('Full model')\n",
    "\n",
    "\n",
    "fig, ax = plt.subplots()\n",
    "fig.set_size_inches(4,4)\n",
    "\n",
    "para_tag=['AMBstep:a','AMBstep:v','AMBstep:z']\n",
    "counts = [a_cTBS.trace()/(max(a_cTBS.trace())-min(a_cTBS.trace())),v_cTBS.trace()/(max(v_cTBS.trace())-min(v_cTBS.trace())),z_cTBS.trace()/(max(z_cTBS.trace())-min(z_cTBS.trace()))]\n",
    "\n",
    "ax.axhline(y = 0, color =\"green\", linestyle =\"--\")\n",
    "ax.violinplot(counts)\n",
    "ax.set_xticks([1,2,3])\n",
    "ax.set_xticklabels(para_tag)\n",
    "ax.set_ylim([-4,4])\n",
    "ax.set_title('Full model: Left cTBS tone noise')\n",
    "ax.set_ylabel('Regression coef (normalized)')\n",
    "ax.spines['right'].set_visible(False)\n",
    "ax.spines['top'].set_visible(False)\n",
    "\n",
    "plt.show()\n",
    "\n",
    "print(\"P(a > Sham) = \", (a_cTBS.trace() > 0).mean())\n",
    "print(\"P(v > Sham) = \", (v_cTBS.trace() > 0).mean())\n",
    "print(\"P(z > Sham) = \", (z_cTBS.trace() > 0).mean())"
   ]
  },
  {
   "cell_type": "markdown",
   "metadata": {},
   "source": [
    "### check full model simulation prediction accuracy"
   ]
  },
  {
   "cell_type": "markdown",
   "metadata": {},
   "source": [
    "#### fit the full model"
   ]
  },
  {
   "cell_type": "code",
   "execution_count": 14,
   "metadata": {},
   "outputs": [
    {
     "name": "stdout",
     "output_type": "stream",
     "text": [
      "Adding these covariates:\n",
      "['a_Intercept', \"a_step_att:C(turn_type, Treatment('Sham'))[Left cTBS]\", \"a_step_att:C(turn_type, Treatment('Sham'))[Sham]\"]\n",
      "Adding these covariates:\n",
      "['v_Intercept', \"v_step_att:C(turn_type, Treatment('Sham'))[Left cTBS]\", \"v_step_att:C(turn_type, Treatment('Sham'))[Sham]\"]\n",
      "Adding these covariates:\n",
      "['z_Intercept', \"z_step_att:C(turn_type, Treatment('Sham'))[Left cTBS]\", \"z_step_att:C(turn_type, Treatment('Sham'))[Sham]\"]\n",
      " [-----------------100%-----------------] 2001 of 2000 complete in 5516.4 sec"
     ]
    },
    {
     "data": {
      "text/plain": [
       "<pymc.MCMC.MCMC at 0x7f76c2309190>"
      ]
     },
     "execution_count": 14,
     "metadata": {},
     "output_type": "execute_result"
    }
   ],
   "source": [
    "fm_data_2=D_L_T_N\n",
    "fm_data_2.reset_index(inplace = True, drop = True)\n",
    "a_reg = {'model': \"a ~ 1 + step_att:C(turn_type, Treatment('Sham'))\",'link_func': lambda x: x}\n",
    "v_reg = {'model': \"v ~ 1 + step_att:C(turn_type, Treatment('Sham'))\",'link_func': lambda x: x}\n",
    "z_reg = {'model': \"z ~ 1 + step_att:C(turn_type, Treatment('Sham'))\",'link_func': lambda x: x}\n",
    "reg_descr = [a_reg,v_reg,z_reg]\n",
    "fm_2 = hddm.HDDMRegressor(fm_data_2, reg_descr, include='z')\n",
    "fm_2.find_starting_values()\n",
    "fm_2.sample(2000, burn=20, dbname='traces.db', db='pickle')"
   ]
  },
  {
   "cell_type": "markdown",
   "metadata": {},
   "source": [
    "#### predict data from simulated data derived from full model"
   ]
  },
  {
   "cell_type": "code",
   "execution_count": 15,
   "metadata": {},
   "outputs": [
    {
     "name": "stdout",
     "output_type": "stream",
     "text": [
      " [-------------------112%-------------------] 28 of 25 complete in 24374.8 sec"
     ]
    },
    {
     "data": {
      "text/html": [
       "<div>\n",
       "<style scoped>\n",
       "    .dataframe tbody tr th:only-of-type {\n",
       "        vertical-align: middle;\n",
       "    }\n",
       "\n",
       "    .dataframe tbody tr th {\n",
       "        vertical-align: top;\n",
       "    }\n",
       "\n",
       "    .dataframe thead th {\n",
       "        text-align: right;\n",
       "    }\n",
       "</style>\n",
       "<table border=\"1\" class=\"dataframe\">\n",
       "  <thead>\n",
       "    <tr style=\"text-align: right;\">\n",
       "      <th></th>\n",
       "      <th>observed</th>\n",
       "      <th>mean</th>\n",
       "      <th>std</th>\n",
       "      <th>SEM</th>\n",
       "      <th>MSE</th>\n",
       "      <th>credible</th>\n",
       "      <th>quantile</th>\n",
       "      <th>mahalanobis</th>\n",
       "    </tr>\n",
       "    <tr>\n",
       "      <th>stat</th>\n",
       "      <th></th>\n",
       "      <th></th>\n",
       "      <th></th>\n",
       "      <th></th>\n",
       "      <th></th>\n",
       "      <th></th>\n",
       "      <th></th>\n",
       "      <th></th>\n",
       "    </tr>\n",
       "  </thead>\n",
       "  <tbody>\n",
       "    <tr>\n",
       "      <th>accuracy</th>\n",
       "      <td>0.576923</td>\n",
       "      <td>0.579191</td>\n",
       "      <td>0.135996</td>\n",
       "      <td>0.000005</td>\n",
       "      <td>0.018500</td>\n",
       "      <td>True</td>\n",
       "      <td>50.056000</td>\n",
       "      <td>0.016677</td>\n",
       "    </tr>\n",
       "    <tr>\n",
       "      <th>mean_ub</th>\n",
       "      <td>0.747240</td>\n",
       "      <td>0.766788</td>\n",
       "      <td>0.151045</td>\n",
       "      <td>0.000382</td>\n",
       "      <td>0.023197</td>\n",
       "      <td>True</td>\n",
       "      <td>55.040001</td>\n",
       "      <td>0.129422</td>\n",
       "    </tr>\n",
       "    <tr>\n",
       "      <th>std_ub</th>\n",
       "      <td>0.273763</td>\n",
       "      <td>0.252401</td>\n",
       "      <td>0.069978</td>\n",
       "      <td>0.000456</td>\n",
       "      <td>0.005353</td>\n",
       "      <td>True</td>\n",
       "      <td>66.863998</td>\n",
       "      <td>0.305269</td>\n",
       "    </tr>\n",
       "    <tr>\n",
       "      <th>10q_ub</th>\n",
       "      <td>0.483289</td>\n",
       "      <td>0.540312</td>\n",
       "      <td>0.118634</td>\n",
       "      <td>0.003252</td>\n",
       "      <td>0.017326</td>\n",
       "      <td>True</td>\n",
       "      <td>25.327999</td>\n",
       "      <td>0.480662</td>\n",
       "    </tr>\n",
       "    <tr>\n",
       "      <th>30q_ub</th>\n",
       "      <td>0.603073</td>\n",
       "      <td>0.606718</td>\n",
       "      <td>0.127618</td>\n",
       "      <td>0.000013</td>\n",
       "      <td>0.016300</td>\n",
       "      <td>True</td>\n",
       "      <td>56.680000</td>\n",
       "      <td>0.028562</td>\n",
       "    </tr>\n",
       "    <tr>\n",
       "      <th>50q_ub</th>\n",
       "      <td>0.697525</td>\n",
       "      <td>0.690324</td>\n",
       "      <td>0.140541</td>\n",
       "      <td>0.000052</td>\n",
       "      <td>0.019804</td>\n",
       "      <td>True</td>\n",
       "      <td>58.896000</td>\n",
       "      <td>0.051234</td>\n",
       "    </tr>\n",
       "    <tr>\n",
       "      <th>70q_ub</th>\n",
       "      <td>0.804018</td>\n",
       "      <td>0.818042</td>\n",
       "      <td>0.162488</td>\n",
       "      <td>0.000197</td>\n",
       "      <td>0.026599</td>\n",
       "      <td>True</td>\n",
       "      <td>57.112000</td>\n",
       "      <td>0.086311</td>\n",
       "    </tr>\n",
       "    <tr>\n",
       "      <th>90q_ub</th>\n",
       "      <td>1.073881</td>\n",
       "      <td>1.092994</td>\n",
       "      <td>0.221193</td>\n",
       "      <td>0.000365</td>\n",
       "      <td>0.049292</td>\n",
       "      <td>True</td>\n",
       "      <td>55.992001</td>\n",
       "      <td>0.086411</td>\n",
       "    </tr>\n",
       "    <tr>\n",
       "      <th>mean_lb</th>\n",
       "      <td>-0.772920</td>\n",
       "      <td>-0.787177</td>\n",
       "      <td>0.147985</td>\n",
       "      <td>0.000203</td>\n",
       "      <td>0.022103</td>\n",
       "      <td>True</td>\n",
       "      <td>42.824001</td>\n",
       "      <td>0.096340</td>\n",
       "    </tr>\n",
       "    <tr>\n",
       "      <th>std_lb</th>\n",
       "      <td>0.269520</td>\n",
       "      <td>0.253836</td>\n",
       "      <td>0.073469</td>\n",
       "      <td>0.000246</td>\n",
       "      <td>0.005644</td>\n",
       "      <td>True</td>\n",
       "      <td>63.848000</td>\n",
       "      <td>0.213473</td>\n",
       "    </tr>\n",
       "    <tr>\n",
       "      <th>10q_lb</th>\n",
       "      <td>0.527652</td>\n",
       "      <td>0.554237</td>\n",
       "      <td>0.113675</td>\n",
       "      <td>0.000707</td>\n",
       "      <td>0.013629</td>\n",
       "      <td>True</td>\n",
       "      <td>44.855999</td>\n",
       "      <td>0.233866</td>\n",
       "    </tr>\n",
       "    <tr>\n",
       "      <th>30q_lb</th>\n",
       "      <td>0.635459</td>\n",
       "      <td>0.626466</td>\n",
       "      <td>0.121719</td>\n",
       "      <td>0.000081</td>\n",
       "      <td>0.014896</td>\n",
       "      <td>True</td>\n",
       "      <td>59.071999</td>\n",
       "      <td>0.073890</td>\n",
       "    </tr>\n",
       "    <tr>\n",
       "      <th>50q_lb</th>\n",
       "      <td>0.716472</td>\n",
       "      <td>0.713584</td>\n",
       "      <td>0.135555</td>\n",
       "      <td>0.000008</td>\n",
       "      <td>0.018384</td>\n",
       "      <td>True</td>\n",
       "      <td>59.872002</td>\n",
       "      <td>0.021301</td>\n",
       "    </tr>\n",
       "    <tr>\n",
       "      <th>70q_lb</th>\n",
       "      <td>0.819815</td>\n",
       "      <td>0.842305</td>\n",
       "      <td>0.160157</td>\n",
       "      <td>0.000506</td>\n",
       "      <td>0.026156</td>\n",
       "      <td>True</td>\n",
       "      <td>54.472000</td>\n",
       "      <td>0.140429</td>\n",
       "    </tr>\n",
       "    <tr>\n",
       "      <th>90q_lb</th>\n",
       "      <td>1.072158</td>\n",
       "      <td>1.114141</td>\n",
       "      <td>0.225976</td>\n",
       "      <td>0.001763</td>\n",
       "      <td>0.052828</td>\n",
       "      <td>True</td>\n",
       "      <td>49.832001</td>\n",
       "      <td>0.185784</td>\n",
       "    </tr>\n",
       "  </tbody>\n",
       "</table>\n",
       "</div>"
      ],
      "text/plain": [
       "          observed      mean       std       SEM       MSE credible  \\\n",
       "stat                                                                  \n",
       "accuracy  0.576923  0.579191  0.135996  0.000005  0.018500     True   \n",
       "mean_ub   0.747240  0.766788  0.151045  0.000382  0.023197     True   \n",
       "std_ub    0.273763  0.252401  0.069978  0.000456  0.005353     True   \n",
       "10q_ub    0.483289  0.540312  0.118634  0.003252  0.017326     True   \n",
       "30q_ub    0.603073  0.606718  0.127618  0.000013  0.016300     True   \n",
       "50q_ub    0.697525  0.690324  0.140541  0.000052  0.019804     True   \n",
       "70q_ub    0.804018  0.818042  0.162488  0.000197  0.026599     True   \n",
       "90q_ub    1.073881  1.092994  0.221193  0.000365  0.049292     True   \n",
       "mean_lb  -0.772920 -0.787177  0.147985  0.000203  0.022103     True   \n",
       "std_lb    0.269520  0.253836  0.073469  0.000246  0.005644     True   \n",
       "10q_lb    0.527652  0.554237  0.113675  0.000707  0.013629     True   \n",
       "30q_lb    0.635459  0.626466  0.121719  0.000081  0.014896     True   \n",
       "50q_lb    0.716472  0.713584  0.135555  0.000008  0.018384     True   \n",
       "70q_lb    0.819815  0.842305  0.160157  0.000506  0.026156     True   \n",
       "90q_lb    1.072158  1.114141  0.225976  0.001763  0.052828     True   \n",
       "\n",
       "           quantile  mahalanobis  \n",
       "stat                              \n",
       "accuracy  50.056000     0.016677  \n",
       "mean_ub   55.040001     0.129422  \n",
       "std_ub    66.863998     0.305269  \n",
       "10q_ub    25.327999     0.480662  \n",
       "30q_ub    56.680000     0.028562  \n",
       "50q_ub    58.896000     0.051234  \n",
       "70q_ub    57.112000     0.086311  \n",
       "90q_ub    55.992001     0.086411  \n",
       "mean_lb   42.824001     0.096340  \n",
       "std_lb    63.848000     0.213473  \n",
       "10q_lb    44.855999     0.233866  \n",
       "30q_lb    59.071999     0.073890  \n",
       "50q_lb    59.872002     0.021301  \n",
       "70q_lb    54.472000     0.140429  \n",
       "90q_lb    49.832001     0.185784  "
      ]
     },
     "execution_count": 15,
     "metadata": {},
     "output_type": "execute_result"
    }
   ],
   "source": [
    "fm_data_2_sim = hddm.utils.post_pred_gen(fm_2)\n",
    "hddm.utils.post_pred_stats(fm_data_2, fm_data_2_sim)"
   ]
  }
 ],
 "metadata": {
  "kernelspec": {
   "display_name": "Python 2.7.18 ('bsliang_DDM_27': conda)",
   "language": "python",
   "name": "python3"
  },
  "language_info": {
   "codemirror_mode": {
    "name": "ipython",
    "version": 2
   },
   "file_extension": ".py",
   "mimetype": "text/x-python",
   "name": "python",
   "nbconvert_exporter": "python",
   "pygments_lexer": "ipython2",
   "version": "2.7.18"
  },
  "orig_nbformat": 4,
  "vscode": {
   "interpreter": {
    "hash": "800a09db568ebe80aacfc1bc086e45a31a7cff3ccaf522d8b640d0dfbe2b8801"
   }
  }
 },
 "nbformat": 4,
 "nbformat_minor": 2
}
