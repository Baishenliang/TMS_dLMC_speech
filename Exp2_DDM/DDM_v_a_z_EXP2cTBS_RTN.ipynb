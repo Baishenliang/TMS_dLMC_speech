{
 "cells": [
  {
   "cell_type": "markdown",
   "metadata": {},
   "source": [
    "![这是图片](星云2.jpg \"Magic Gardens\")<br><br>\n",
    "事情是这样的<br>\n",
    "我本来已经<br>\n",
    "打算完结这个分析了<br> \n",
    "但杜老师，居然<br>\n",
    "竟然，也是不出意料<br>\n",
    "叫我加一个参数<br>"
   ]
  },
  {
   "cell_type": "markdown",
   "metadata": {},
   "source": [
    "# TBS"
   ]
  },
  {
   "cell_type": "markdown",
   "metadata": {},
   "source": [
    "## preparing"
   ]
  },
  {
   "cell_type": "code",
   "execution_count": 19,
   "metadata": {},
   "outputs": [],
   "source": [
    "import pandas as pd\n",
    "import matplotlib.pyplot as plt\n",
    "import hddm\n",
    "import numpy as np\n",
    "import pickle\n",
    "from patsy import dmatrices, dmatrix, demo_data\n",
    "cm = 1/2.54"
   ]
  },
  {
   "cell_type": "markdown",
   "metadata": {},
   "source": [
    "## loading data"
   ]
  },
  {
   "cell_type": "code",
   "execution_count": 2,
   "metadata": {},
   "outputs": [
    {
     "data": {
      "text/html": [
       "<div>\n",
       "<style scoped>\n",
       "    .dataframe tbody tr th:only-of-type {\n",
       "        vertical-align: middle;\n",
       "    }\n",
       "\n",
       "    .dataframe tbody tr th {\n",
       "        vertical-align: top;\n",
       "    }\n",
       "\n",
       "    .dataframe thead th {\n",
       "        text-align: right;\n",
       "    }\n",
       "</style>\n",
       "<table border=\"1\" class=\"dataframe\">\n",
       "  <thead>\n",
       "    <tr style=\"text-align: right;\">\n",
       "      <th></th>\n",
       "      <th>subj_idx</th>\n",
       "      <th>group_idx</th>\n",
       "      <th>turn_type</th>\n",
       "      <th>task_type</th>\n",
       "      <th>snr_type</th>\n",
       "      <th>trial_num</th>\n",
       "      <th>step_att</th>\n",
       "      <th>response</th>\n",
       "      <th>rt</th>\n",
       "      <th>step_unatnd</th>\n",
       "    </tr>\n",
       "  </thead>\n",
       "  <tbody>\n",
       "    <tr>\n",
       "      <th>0</th>\n",
       "      <td>55</td>\n",
       "      <td>Larynx</td>\n",
       "      <td>Left iTBS</td>\n",
       "      <td>Tone</td>\n",
       "      <td>Clear</td>\n",
       "      <td>1</td>\n",
       "      <td>3</td>\n",
       "      <td>1</td>\n",
       "      <td>1.083317</td>\n",
       "      <td>1</td>\n",
       "    </tr>\n",
       "    <tr>\n",
       "      <th>1</th>\n",
       "      <td>55</td>\n",
       "      <td>Larynx</td>\n",
       "      <td>Left iTBS</td>\n",
       "      <td>Tone</td>\n",
       "      <td>Clear</td>\n",
       "      <td>2</td>\n",
       "      <td>4</td>\n",
       "      <td>1</td>\n",
       "      <td>0.744397</td>\n",
       "      <td>1</td>\n",
       "    </tr>\n",
       "    <tr>\n",
       "      <th>2</th>\n",
       "      <td>55</td>\n",
       "      <td>Larynx</td>\n",
       "      <td>Left iTBS</td>\n",
       "      <td>Tone</td>\n",
       "      <td>Clear</td>\n",
       "      <td>3</td>\n",
       "      <td>4</td>\n",
       "      <td>1</td>\n",
       "      <td>0.732525</td>\n",
       "      <td>1</td>\n",
       "    </tr>\n",
       "    <tr>\n",
       "      <th>3</th>\n",
       "      <td>55</td>\n",
       "      <td>Larynx</td>\n",
       "      <td>Left iTBS</td>\n",
       "      <td>Tone</td>\n",
       "      <td>Clear</td>\n",
       "      <td>4</td>\n",
       "      <td>5</td>\n",
       "      <td>1</td>\n",
       "      <td>0.800199</td>\n",
       "      <td>1</td>\n",
       "    </tr>\n",
       "    <tr>\n",
       "      <th>4</th>\n",
       "      <td>55</td>\n",
       "      <td>Larynx</td>\n",
       "      <td>Left iTBS</td>\n",
       "      <td>Tone</td>\n",
       "      <td>Clear</td>\n",
       "      <td>5</td>\n",
       "      <td>4</td>\n",
       "      <td>1</td>\n",
       "      <td>0.753649</td>\n",
       "      <td>1</td>\n",
       "    </tr>\n",
       "    <tr>\n",
       "      <th>5</th>\n",
       "      <td>55</td>\n",
       "      <td>Larynx</td>\n",
       "      <td>Left iTBS</td>\n",
       "      <td>Tone</td>\n",
       "      <td>Clear</td>\n",
       "      <td>6</td>\n",
       "      <td>4</td>\n",
       "      <td>1</td>\n",
       "      <td>0.544652</td>\n",
       "      <td>1</td>\n",
       "    </tr>\n",
       "    <tr>\n",
       "      <th>6</th>\n",
       "      <td>55</td>\n",
       "      <td>Larynx</td>\n",
       "      <td>Left iTBS</td>\n",
       "      <td>Tone</td>\n",
       "      <td>Clear</td>\n",
       "      <td>7</td>\n",
       "      <td>5</td>\n",
       "      <td>1</td>\n",
       "      <td>0.621313</td>\n",
       "      <td>1</td>\n",
       "    </tr>\n",
       "    <tr>\n",
       "      <th>7</th>\n",
       "      <td>55</td>\n",
       "      <td>Larynx</td>\n",
       "      <td>Left iTBS</td>\n",
       "      <td>Tone</td>\n",
       "      <td>Clear</td>\n",
       "      <td>8</td>\n",
       "      <td>5</td>\n",
       "      <td>1</td>\n",
       "      <td>0.580819</td>\n",
       "      <td>1</td>\n",
       "    </tr>\n",
       "    <tr>\n",
       "      <th>8</th>\n",
       "      <td>55</td>\n",
       "      <td>Larynx</td>\n",
       "      <td>Left iTBS</td>\n",
       "      <td>Tone</td>\n",
       "      <td>Clear</td>\n",
       "      <td>9</td>\n",
       "      <td>1</td>\n",
       "      <td>0</td>\n",
       "      <td>-0.496794</td>\n",
       "      <td>1</td>\n",
       "    </tr>\n",
       "    <tr>\n",
       "      <th>9</th>\n",
       "      <td>55</td>\n",
       "      <td>Larynx</td>\n",
       "      <td>Left iTBS</td>\n",
       "      <td>Tone</td>\n",
       "      <td>Clear</td>\n",
       "      <td>10</td>\n",
       "      <td>3</td>\n",
       "      <td>1</td>\n",
       "      <td>0.863869</td>\n",
       "      <td>1</td>\n",
       "    </tr>\n",
       "  </tbody>\n",
       "</table>\n",
       "</div>"
      ],
      "text/plain": [
       "   subj_idx group_idx  turn_type task_type snr_type  trial_num  step_att  \\\n",
       "0        55    Larynx  Left iTBS      Tone    Clear          1         3   \n",
       "1        55    Larynx  Left iTBS      Tone    Clear          2         4   \n",
       "2        55    Larynx  Left iTBS      Tone    Clear          3         4   \n",
       "3        55    Larynx  Left iTBS      Tone    Clear          4         5   \n",
       "4        55    Larynx  Left iTBS      Tone    Clear          5         4   \n",
       "5        55    Larynx  Left iTBS      Tone    Clear          6         4   \n",
       "6        55    Larynx  Left iTBS      Tone    Clear          7         5   \n",
       "7        55    Larynx  Left iTBS      Tone    Clear          8         5   \n",
       "8        55    Larynx  Left iTBS      Tone    Clear          9         1   \n",
       "9        55    Larynx  Left iTBS      Tone    Clear         10         3   \n",
       "\n",
       "   response        rt  step_unatnd  \n",
       "0         1  1.083317            1  \n",
       "1         1  0.744397            1  \n",
       "2         1  0.732525            1  \n",
       "3         1  0.800199            1  \n",
       "4         1  0.753649            1  \n",
       "5         1  0.544652            1  \n",
       "6         1  0.621313            1  \n",
       "7         1  0.580819            1  \n",
       "8         0 -0.496794            1  \n",
       "9         1  0.863869            1  "
      ]
     },
     "execution_count": 2,
     "metadata": {},
     "output_type": "execute_result"
    }
   ],
   "source": [
    "data = hddm.load_csv('exp2_DDM.csv')\n",
    "data = hddm.utils.flip_errors(data)\n",
    "data.head(10)"
   ]
  },
  {
   "cell_type": "markdown",
   "metadata": {},
   "source": [
    "## Right stim, tone, noise"
   ]
  },
  {
   "cell_type": "markdown",
   "metadata": {},
   "source": [
    "### RT distribution"
   ]
  },
  {
   "cell_type": "code",
   "execution_count": 1,
   "metadata": {},
   "outputs": [
    {
     "ename": "NameError",
     "evalue": "name 'hddm' is not defined",
     "output_type": "error",
     "traceback": [
      "\u001b[1;31m\u001b[0m",
      "\u001b[1;31mNameError\u001b[0mTraceback (most recent call last)",
      "\u001b[1;32m<ipython-input-1-8362b0265269>\u001b[0m in \u001b[0;36m<module>\u001b[1;34m()\u001b[0m\n\u001b[1;32m----> 1\u001b[1;33m \u001b[0mdata_unflip\u001b[0m \u001b[1;33m=\u001b[0m \u001b[0mhddm\u001b[0m\u001b[1;33m.\u001b[0m\u001b[0mload_csv\u001b[0m\u001b[1;33m(\u001b[0m\u001b[1;34m'exp2_DDM.csv'\u001b[0m\u001b[1;33m)\u001b[0m\u001b[1;33m\u001b[0m\u001b[0m\n\u001b[0m\u001b[0;32m      2\u001b[0m \u001b[1;33m\u001b[0m\u001b[0m\n\u001b[0;32m      3\u001b[0m \u001b[0mD_R\u001b[0m\u001b[1;33m=\u001b[0m\u001b[0mdata_unflip\u001b[0m\u001b[1;33m.\u001b[0m\u001b[0mloc\u001b[0m\u001b[1;33m[\u001b[0m\u001b[0mdata_unflip\u001b[0m\u001b[1;33m[\u001b[0m\u001b[1;34m'turn_type'\u001b[0m\u001b[1;33m]\u001b[0m\u001b[1;33m.\u001b[0m\u001b[0misin\u001b[0m\u001b[1;33m(\u001b[0m\u001b[1;33m[\u001b[0m\u001b[1;34m'Right iTBS'\u001b[0m\u001b[1;33m,\u001b[0m\u001b[1;34m'Sham'\u001b[0m\u001b[1;33m]\u001b[0m\u001b[1;33m)\u001b[0m\u001b[1;33m]\u001b[0m\u001b[1;33m\u001b[0m\u001b[0m\n\u001b[0;32m      4\u001b[0m \u001b[0mD_R_T\u001b[0m\u001b[1;33m=\u001b[0m\u001b[0mD_R\u001b[0m\u001b[1;33m.\u001b[0m\u001b[0mloc\u001b[0m\u001b[1;33m[\u001b[0m\u001b[0mD_R\u001b[0m\u001b[1;33m[\u001b[0m\u001b[1;34m'task_type'\u001b[0m\u001b[1;33m]\u001b[0m\u001b[1;33m==\u001b[0m\u001b[1;34m'Tone'\u001b[0m\u001b[1;33m]\u001b[0m\u001b[1;33m\u001b[0m\u001b[0m\n\u001b[0;32m      5\u001b[0m \u001b[0mD_R_T_N\u001b[0m\u001b[1;33m=\u001b[0m\u001b[0mD_R_T\u001b[0m\u001b[1;33m.\u001b[0m\u001b[0mloc\u001b[0m\u001b[1;33m[\u001b[0m\u001b[0mD_R_T\u001b[0m\u001b[1;33m[\u001b[0m\u001b[1;34m'snr_type'\u001b[0m\u001b[1;33m]\u001b[0m\u001b[1;33m==\u001b[0m\u001b[1;34m'Noise'\u001b[0m\u001b[1;33m]\u001b[0m\u001b[1;33m\u001b[0m\u001b[0m\n",
      "\u001b[1;31mNameError\u001b[0m: name 'hddm' is not defined"
     ]
    }
   ],
   "source": [
    "data_unflip = hddm.load_csv('exp2_DDM.csv')\n",
    "\n",
    "D_R=data_unflip.loc[data_unflip['turn_type'].isin(['Right cTBS','Sham'])]\n",
    "D_R_T=D_R.loc[D_R['task_type']=='Tone']\n",
    "D_R_T_N=D_R_T.loc[D_R_T['snr_type']=='Noise']\n",
    "D=D_R_T_N\n",
    "D_name='D_R_T_N_'\n",
    "\n",
    "D_TMS=D.loc[D['turn_type'].isin(['Right cTBS'])]\n",
    "D_Sham=D.loc[D['turn_type'].isin(['Sham'])]\n",
    "\n",
    "D_TMS.rt.to_csv(D_name+'TBS_RT.csv')\n",
    "D_Sham.rt.to_csv(D_name+'Sham_RT.csv')\n",
    "\n",
    "mean_TMS=D_TMS.rt.mean()\n",
    "se_TMS=np.std(D_TMS.rt, ddof=1) / np.sqrt(len(D_TMS.rt))\n",
    "mean_Sham=D_Sham.rt.mean()\n",
    "se_Sham=np.std(D_Sham.rt, ddof=1) / np.sqrt(len(D_Sham.rt))\n",
    "\n",
    "plt.rcParams['savefig.dpi']=300\n",
    "plt.rcParams['font.size']=5\n",
    "plt.rcParams['axes.linewidth']=0.5\n",
    "plt.rcParams['font.family']='Arial'\n",
    "\n",
    "fig, ax = plt.subplots()\n",
    "fig.set_size_inches(4.5*cm,2.5*cm)\n",
    "\n",
    "nbins=50\n",
    "dens_TMS = ax.hist(D_TMS.rt,bins=nbins, histtype='step',density=False,color=[0,0,0],linewidth=1,alpha=0.5)\n",
    "dens_Sham = ax.hist(D_Sham.rt,bins=nbins, histtype='step',density=False,color=[0.5,0.5,0.5],linewidth=1,alpha=0.5)\n",
    "\n",
    "\n",
    "for ibin in range(0,nbins-1):\n",
    "    if dens_TMS[1][ibin] > mean_TMS:\n",
    "        dens_TMS_mean = dens_TMS[0][ibin-1]\n",
    "        break\n",
    "\n",
    "for ibin in range(0,nbins-1):\n",
    "    if dens_Sham[1][ibin] > mean_Sham:\n",
    "        dens_Sham_mean = dens_Sham[0][ibin-1]\n",
    "        break\n",
    "\n",
    "#ax.set_title('RT distributions')\n",
    "#ax.set_ylabel('Number of trials')\n",
    "#ax.set_xlabel('Reaction time (s)')\n",
    "ax.set_xlim([0,2])\n",
    "ax.set_xticks(np.linspace(0,2,5))\n",
    "ax.set_ylim([0,900])\n",
    "ax.set_yticks([200,400,600,800,900])\n",
    "ax.set_yticklabels([200,400,600,800])\n",
    "ax.spines['right'].set_visible(False)\n",
    "ax.spines['top'].set_visible(False)\n",
    "ax.tick_params('both',which='major',direction='in',width=0.5,length=2)\n",
    "\n",
    "ax.axvline(x = mean_TMS, ymin=0,ymax=dens_TMS_mean/900,color =[0,0,0], linestyle =\"--\",linewidth=1,alpha=0.5)\n",
    "ax.axvline(x = mean_Sham, ymin=0,ymax=dens_Sham_mean/900,color =[0.5,0.5,0.5], linestyle =\"--\",linewidth=1,alpha=0.5)\n",
    "#ax.legend('upper right')\n",
    "\n",
    "plt.savefig(D_name+'cTBS_RT_dist.pdf',bbox_inches = 'tight',transparent=True)\n",
    "plt.show()\n",
    "\n",
    "fig, ax = plt.subplots()\n",
    "\n",
    "cat = ['cTBS','Sham']\n",
    "cat_mean = [mean_TMS,mean_Sham]\n",
    "\n",
    "axbar=ax.bar(cat, cat_mean,yerr=[se_TMS,se_Sham],color=[[0,0,0],[0.5,0.5,0.5]],alpha=0.5)\n",
    "axbar.errorbar.lines[2][0].set_linewidth(0.5)\n",
    "\n",
    "ax.set_ylabel('RT (s)',fontsize=5)\n",
    "#ax.set_title('cTBS: Right stimulation tone noise')\n",
    "#ax.set_xticks([])\n",
    "ax.set_ylim([0.65,0.85])\n",
    "ax.set_yticks(np.linspace(0.65,0.85,6))\n",
    "ax.spines['right'].set_visible(False)\n",
    "ax.spines['top'].set_visible(False)\n",
    "ax.tick_params('both',which='major',direction='in',bottom=False,width=0.5,length=1,labelsize=4)\n",
    "#ax.yaxis.tick_right()\n",
    "\n",
    "fig.set_size_inches(1.2*cm,2*cm)\n",
    "\n",
    "plt.savefig(D_name+'cTBS_RT.pdf',bbox_inches = 'tight',transparent=True)\n",
    "plt.show()\n"
   ]
  },
  {
   "cell_type": "markdown",
   "metadata": {},
   "source": [
    "### preparing data"
   ]
  },
  {
   "cell_type": "code",
   "execution_count": 4,
   "metadata": {},
   "outputs": [
    {
     "name": "stdout",
     "output_type": "stream",
     "text": [
      "       subj_idx group_idx   turn_type task_type snr_type  trial_num  step_att  \\\n",
      "2184         55    Larynx  Right cTBS      Tone    Noise          1         2   \n",
      "2185         55    Larynx  Right cTBS      Tone    Noise          2         3   \n",
      "2186         55    Larynx  Right cTBS      Tone    Noise          3         5   \n",
      "2187         55    Larynx  Right cTBS      Tone    Noise          4         5   \n",
      "2188         55    Larynx  Right cTBS      Tone    Noise          5         2   \n",
      "2189         55    Larynx  Right cTBS      Tone    Noise          6         4   \n",
      "2190         55    Larynx  Right cTBS      Tone    Noise          7         1   \n",
      "2191         55    Larynx  Right cTBS      Tone    Noise          8         2   \n",
      "2192         55    Larynx  Right cTBS      Tone    Noise          9         3   \n",
      "2193         55    Larynx  Right cTBS      Tone    Noise         10         3   \n",
      "2194         55    Larynx  Right cTBS      Tone    Noise         11         1   \n",
      "2195         55    Larynx  Right cTBS      Tone    Noise         12         4   \n",
      "2196         55    Larynx  Right cTBS      Tone    Noise         13         3   \n",
      "2197         55    Larynx  Right cTBS      Tone    Noise         14         3   \n",
      "2198         55    Larynx  Right cTBS      Tone    Noise         15         1   \n",
      "2199         55    Larynx  Right cTBS      Tone    Noise         16         2   \n",
      "2200         55    Larynx  Right cTBS      Tone    Noise         17         3   \n",
      "2201         55    Larynx  Right cTBS      Tone    Noise         18         5   \n",
      "2202         55    Larynx  Right cTBS      Tone    Noise         19         5   \n",
      "2203         55    Larynx  Right cTBS      Tone    Noise         20         3   \n",
      "2204         55    Larynx  Right cTBS      Tone    Noise         21         4   \n",
      "2205         55    Larynx  Right cTBS      Tone    Noise         22         1   \n",
      "2206         55    Larynx  Right cTBS      Tone    Noise         23         3   \n",
      "2207         55    Larynx  Right cTBS      Tone    Noise         24         5   \n",
      "2208         55    Larynx  Right cTBS      Tone    Noise         25         2   \n",
      "2209         55    Larynx  Right cTBS      Tone    Noise         26         3   \n",
      "2210         55    Larynx  Right cTBS      Tone    Noise         27         4   \n",
      "2211         55    Larynx  Right cTBS      Tone    Noise         28         2   \n",
      "2212         55    Larynx  Right cTBS      Tone    Noise         29         4   \n",
      "2213         55    Larynx  Right cTBS      Tone    Noise         30         4   \n",
      "...         ...       ...         ...       ...      ...        ...       ...   \n",
      "78438       253    Larynx        Sham      Tone    Noise        127         5   \n",
      "78439       253    Larynx        Sham      Tone    Noise        128         1   \n",
      "78440       253    Larynx        Sham      Tone    Noise        129         4   \n",
      "78441       253    Larynx        Sham      Tone    Noise        130         3   \n",
      "78442       253    Larynx        Sham      Tone    Noise        131         1   \n",
      "78443       253    Larynx        Sham      Tone    Noise        132         3   \n",
      "78444       253    Larynx        Sham      Tone    Noise        133         3   \n",
      "78445       253    Larynx        Sham      Tone    Noise        134         1   \n",
      "78446       253    Larynx        Sham      Tone    Noise        135         2   \n",
      "78447       253    Larynx        Sham      Tone    Noise        136         5   \n",
      "78448       253    Larynx        Sham      Tone    Noise        137         5   \n",
      "78449       253    Larynx        Sham      Tone    Noise        138         4   \n",
      "78450       253    Larynx        Sham      Tone    Noise        139         3   \n",
      "78451       253    Larynx        Sham      Tone    Noise        140         3   \n",
      "78452       253    Larynx        Sham      Tone    Noise        141         5   \n",
      "78453       253    Larynx        Sham      Tone    Noise        142         4   \n",
      "78454       253    Larynx        Sham      Tone    Noise        143         3   \n",
      "78455       253    Larynx        Sham      Tone    Noise        144         2   \n",
      "78456       253    Larynx        Sham      Tone    Noise        145         4   \n",
      "78457       253    Larynx        Sham      Tone    Noise        146         1   \n",
      "78458       253    Larynx        Sham      Tone    Noise        147         1   \n",
      "78459       253    Larynx        Sham      Tone    Noise        148         3   \n",
      "78460       253    Larynx        Sham      Tone    Noise        149         2   \n",
      "78461       253    Larynx        Sham      Tone    Noise        150         1   \n",
      "78462       253    Larynx        Sham      Tone    Noise        151         5   \n",
      "78463       253    Larynx        Sham      Tone    Noise        152         2   \n",
      "78464       253    Larynx        Sham      Tone    Noise        153         4   \n",
      "78465       253    Larynx        Sham      Tone    Noise        154         3   \n",
      "78466       253    Larynx        Sham      Tone    Noise        155         3   \n",
      "78467       253    Larynx        Sham      Tone    Noise        156         2   \n",
      "\n",
      "       response        rt  step_unatnd  \n",
      "2184          1  3.113290            1  \n",
      "2185          1  2.095207            1  \n",
      "2186          1  0.891558            1  \n",
      "2187          1  0.778837            1  \n",
      "2188          0 -1.491255            1  \n",
      "2189          1  1.115767            1  \n",
      "2190          0 -1.092845            1  \n",
      "2191          1  0.753402            1  \n",
      "2192          0 -1.196347            1  \n",
      "2193          0 -0.818410            1  \n",
      "2194          1  0.769424            1  \n",
      "2195          0 -0.686370            1  \n",
      "2196          0 -0.594312            1  \n",
      "2197          0 -0.381615            1  \n",
      "2198          0 -0.365118            1  \n",
      "2199          0 -0.385661            1  \n",
      "2200          1  1.024461            1  \n",
      "2201          0 -0.514712            1  \n",
      "2202          0 -0.449059            1  \n",
      "2203          0 -0.530554            1  \n",
      "2204          0 -1.047498            1  \n",
      "2205          0 -3.297207            1  \n",
      "2206          1  1.763308            1  \n",
      "2207          1  0.670632            1  \n",
      "2208          1  2.555782            1  \n",
      "2209          1  1.058208            1  \n",
      "2210          1  0.793563            1  \n",
      "2211          1  0.984344            1  \n",
      "2212          1  1.483059            1  \n",
      "2213          1  0.914508            1  \n",
      "...         ...       ...          ...  \n",
      "78438         1  0.649581            1  \n",
      "78439         0 -0.650963            1  \n",
      "78440         1  0.694083            1  \n",
      "78441         0 -0.661921            1  \n",
      "78442         0 -0.798222            1  \n",
      "78443         0 -0.665729            1  \n",
      "78444         0 -0.729957            1  \n",
      "78445         0 -0.681259            1  \n",
      "78446         0 -0.703518            1  \n",
      "78447         1  0.767730            1  \n",
      "78448         1  0.638986            1  \n",
      "78449         1  0.592955            1  \n",
      "78450         1  0.663725            1  \n",
      "78451         1  0.487712            1  \n",
      "78452         1  0.540137            1  \n",
      "78453         1  0.480306            1  \n",
      "78454         1  0.497608            1  \n",
      "78455         0 -0.664540            1  \n",
      "78456         0 -0.631350            1  \n",
      "78457         0 -0.509654            1  \n",
      "78458         0 -0.466841            1  \n",
      "78459         0 -0.455503            1  \n",
      "78460         0 -0.857479            1  \n",
      "78461         0 -0.685792            1  \n",
      "78462         1  0.707301            1  \n",
      "78463         1  0.599335            1  \n",
      "78464         1  0.659563            1  \n",
      "78465         1  0.408511            1  \n",
      "78466         1  0.490912            1  \n",
      "78467         1  0.373693            1  \n",
      "\n",
      "[7800 rows x 10 columns]\n"
     ]
    }
   ],
   "source": [
    "D_R=data.loc[data['turn_type'].isin(['Right cTBS','Sham'])]\n",
    "D_R_T=D_R.loc[D_R['task_type']=='Tone']\n",
    "D_R_T_N=D_R_T.loc[D_R_T['snr_type']=='Noise']\n",
    "print(D_R_T_N)\n",
    "D_R_T_N.to_csv('Exp2_D_R_T_N_cTBS.csv')"
   ]
  },
  {
   "cell_type": "code",
   "execution_count": 5,
   "metadata": {},
   "outputs": [],
   "source": [
    "def z_link_func_D_R_T_N(x, data=D_R_T_N):\n",
    "    stim = (np.asarray(dmatrix('0 + C(s, [[0], [1]])',\n",
    "                              {'s': data.turn_type.loc[x.index]},return_type='dataframe'))\n",
    "    )\n",
    "    # Apply z = (1 - x) to flip them along 0.5\n",
    "    z_flip = np.subtract(stim, x.to_frame())\n",
    "    # The above inverts those values we do not want to flip,\n",
    "    # so invert them back\n",
    "    z_flip[stim == 0] *= -1\n",
    "    return z_flip"
   ]
  },
  {
   "cell_type": "markdown",
   "metadata": {},
   "source": [
    "### baseline model"
   ]
  },
  {
   "cell_type": "code",
   "execution_count": 6,
   "metadata": {},
   "outputs": [
    {
     "name": "stdout",
     "output_type": "stream",
     "text": [
      "Adding these covariates:\n",
      "['a_Intercept']\n",
      "Adding these covariates:\n",
      "['v_Intercept']\n",
      "Adding these covariates:\n",
      "['z_Intercept']\n"
     ]
    },
    {
     "name": "stderr",
     "output_type": "stream",
     "text": [
      "/home/bsliang/miniconda3/envs/bsliang_DDM_27/lib/python2.7/site-packages/scipy/optimize/optimize.py:1934: RuntimeWarning: invalid value encountered in double_scalars\n",
      "  tmp2 = (x - v) * (fx - fw)\n"
     ]
    },
    {
     "name": "stdout",
     "output_type": "stream",
     "text": [
      " [-----------------100%-----------------] 2001 of 2000 complete in 2419.2 secWARNING: Will not save custom link functions.\n",
      "WARNING: Will not save custom link functions.\n",
      "WARNING: Will not save custom link functions.\n"
     ]
    }
   ],
   "source": [
    "a_reg = {'model': \"a ~ 1\",'link_func': lambda x: x}\n",
    "v_reg = {'model': \"v ~ 1\",'link_func': lambda x: x}\n",
    "z_reg = {'model': \"z ~ 1\",'link_func': lambda x: x}\n",
    "reg_descr = [a_reg,v_reg,z_reg]\n",
    "D_R_T_N_bsl = hddm.HDDMRegressor(D_R_T_N, reg_descr, include='z')\n",
    "D_R_T_N_bsl.find_starting_values()\n",
    "D_R_T_N_bsl.sample(2000, burn=20, dbname='traces.db', db='pickle')\n",
    "D_R_T_N_bsl.save('D_R_T_N_bsl')"
   ]
  },
  {
   "cell_type": "markdown",
   "metadata": {},
   "source": [
    "### model 1: a only"
   ]
  },
  {
   "cell_type": "code",
   "execution_count": 7,
   "metadata": {},
   "outputs": [
    {
     "name": "stdout",
     "output_type": "stream",
     "text": [
      "Adding these covariates:\n",
      "['a_Intercept', \"a_C(turn_type, Treatment('Sham'))[T.Right cTBS]\"]\n",
      "Adding these covariates:\n",
      "['v_Intercept']\n",
      "Adding these covariates:\n",
      "['z_Intercept']\n",
      " [-----------------100%-----------------] 2001 of 2000 complete in 2895.5 secWARNING: Will not save custom link functions.\n",
      "WARNING: Will not save custom link functions.\n",
      "WARNING: Will not save custom link functions.\n"
     ]
    }
   ],
   "source": [
    "a_reg = {'model': \"a ~ 1 + C(turn_type, Treatment('Sham'))\",'link_func': lambda x: x}\n",
    "v_reg = {'model': \"v ~ 1\",'link_func': lambda x: x}\n",
    "z_reg = {'model': \"z ~ 1\",'link_func': lambda x: x}\n",
    "reg_descr = [a_reg,v_reg,z_reg]\n",
    "D_R_T_N_am = hddm.HDDMRegressor(D_R_T_N, reg_descr, include='z')\n",
    "D_R_T_N_am.find_starting_values()\n",
    "D_R_T_N_am.sample(2000, burn=20, dbname='traces.db', db='pickle')\n",
    "D_R_T_N_am.save('D_R_T_N_am')"
   ]
  },
  {
   "cell_type": "markdown",
   "metadata": {},
   "source": [
    "### model 2: v only"
   ]
  },
  {
   "cell_type": "code",
   "execution_count": 8,
   "metadata": {},
   "outputs": [
    {
     "name": "stdout",
     "output_type": "stream",
     "text": [
      "Adding these covariates:\n",
      "['a_Intercept']\n",
      "Adding these covariates:\n",
      "['v_Intercept', \"v_C(turn_type, Treatment('Sham'))[T.Right cTBS]\"]\n",
      "Adding these covariates:\n",
      "['z_Intercept']\n",
      " [-----------------100%-----------------] 2001 of 2000 complete in 2963.4 secWARNING: Will not save custom link functions.\n",
      "WARNING: Will not save custom link functions.\n",
      "WARNING: Will not save custom link functions.\n"
     ]
    }
   ],
   "source": [
    "a_reg = {'model': \"a ~ 1\",'link_func': lambda x: x}\n",
    "v_reg = {'model': \"v ~ 1 + C(turn_type, Treatment('Sham'))\",'link_func': lambda x: x}\n",
    "z_reg = {'model': \"z ~ 1\",'link_func': lambda x: x}\n",
    "reg_descr = [a_reg,v_reg,z_reg]\n",
    "D_R_T_N_vm = hddm.HDDMRegressor(D_R_T_N, reg_descr, include='z')\n",
    "D_R_T_N_vm.find_starting_values()\n",
    "D_R_T_N_vm.sample(2000, burn=20, dbname='traces.db', db='pickle')\n",
    "D_R_T_N_vm.save('D_R_T_N_am')"
   ]
  },
  {
   "cell_type": "markdown",
   "metadata": {},
   "source": [
    "### model 3: z only"
   ]
  },
  {
   "cell_type": "code",
   "execution_count": 9,
   "metadata": {},
   "outputs": [
    {
     "name": "stdout",
     "output_type": "stream",
     "text": [
      "Adding these covariates:\n",
      "['a_Intercept']\n",
      "Adding these covariates:\n",
      "['v_Intercept']\n",
      "Adding these covariates:\n",
      "['z_Intercept', \"z_C(turn_type, Treatment('Sham'))[T.Right cTBS]\"]\n",
      " [-----------------100%-----------------] 2001 of 2000 complete in 2935.4 secWARNING: Will not save custom link functions.\n",
      "WARNING: Will not save custom link functions.\n",
      "WARNING: Will not save custom link functions.\n"
     ]
    }
   ],
   "source": [
    "a_reg = {'model': \"a ~ 1\",'link_func': lambda x: x}\n",
    "v_reg = {'model': \"v ~ 1\",'link_func': lambda x: x}\n",
    "z_reg = {'model': \"z ~ 1 + C(turn_type, Treatment('Sham'))\",'link_func': lambda x: x}\n",
    "reg_descr = [a_reg,v_reg,z_reg]\n",
    "D_R_T_N_zm = hddm.HDDMRegressor(D_R_T_N, reg_descr, include='z')\n",
    "D_R_T_N_zm.find_starting_values()\n",
    "D_R_T_N_zm.sample(2000, burn=20, dbname='traces.db', db='pickle')\n",
    "D_R_T_N_zm.save('D_R_T_N_zm')"
   ]
  },
  {
   "cell_type": "markdown",
   "metadata": {},
   "source": [
    "### model 4: a + v"
   ]
  },
  {
   "cell_type": "code",
   "execution_count": 10,
   "metadata": {},
   "outputs": [
    {
     "name": "stdout",
     "output_type": "stream",
     "text": [
      "Adding these covariates:\n",
      "['a_Intercept', \"a_C(turn_type, Treatment('Sham'))[T.Right cTBS]\"]\n",
      "Adding these covariates:\n",
      "['v_Intercept', \"v_C(turn_type, Treatment('Sham'))[T.Right cTBS]\"]\n",
      "Adding these covariates:\n",
      "['z_Intercept']\n",
      " [-----------------100%-----------------] 2001 of 2000 complete in 3464.2 secWARNING: Will not save custom link functions.\n",
      "WARNING: Will not save custom link functions.\n",
      "WARNING: Will not save custom link functions.\n"
     ]
    }
   ],
   "source": [
    "a_reg = {'model': \"a ~ 1 + C(turn_type, Treatment('Sham'))\",'link_func': lambda x: x}\n",
    "v_reg = {'model': \"v ~ 1 + C(turn_type, Treatment('Sham'))\",'link_func': lambda x: x}\n",
    "z_reg = {'model': \"z ~ 1\",'link_func': lambda x: x}\n",
    "reg_descr = [a_reg,v_reg,z_reg]\n",
    "D_R_T_N_avm = hddm.HDDMRegressor(D_R_T_N, reg_descr, include='z')\n",
    "D_R_T_N_avm.find_starting_values()\n",
    "D_R_T_N_avm.sample(2000, burn=20, dbname='traces.db', db='pickle')\n",
    "D_R_T_N_avm.save('D_R_T_N_avm')"
   ]
  },
  {
   "cell_type": "markdown",
   "metadata": {},
   "source": [
    "### model 5: a + z"
   ]
  },
  {
   "cell_type": "code",
   "execution_count": 11,
   "metadata": {},
   "outputs": [
    {
     "name": "stdout",
     "output_type": "stream",
     "text": [
      "Adding these covariates:\n",
      "['a_Intercept', \"a_C(turn_type, Treatment('Sham'))[T.Right cTBS]\"]\n",
      "Adding these covariates:\n",
      "['v_Intercept']\n",
      "Adding these covariates:\n",
      "['z_Intercept', \"z_C(turn_type, Treatment('Sham'))[T.Right cTBS]\"]\n",
      " [-----------------100%-----------------] 2001 of 2000 complete in 3443.1 secWARNING: Will not save custom link functions.\n",
      "WARNING: Will not save custom link functions.\n",
      "WARNING: Will not save custom link functions.\n"
     ]
    }
   ],
   "source": [
    "a_reg = {'model': \"a ~ 1 + C(turn_type, Treatment('Sham'))\",'link_func': lambda x: x}\n",
    "v_reg = {'model': \"v ~ 1\",'link_func': lambda x: x}\n",
    "z_reg = {'model': \"z ~ 1 + C(turn_type, Treatment('Sham'))\",'link_func': lambda x: x}\n",
    "reg_descr = [a_reg,v_reg,z_reg]\n",
    "D_R_T_N_azm = hddm.HDDMRegressor(D_R_T_N, reg_descr, include='z')\n",
    "D_R_T_N_azm.find_starting_values()\n",
    "D_R_T_N_azm.sample(2000, burn=20, dbname='traces.db', db='pickle')\n",
    "D_R_T_N_azm.save('D_R_T_N_azm')"
   ]
  },
  {
   "cell_type": "markdown",
   "metadata": {},
   "source": [
    "### model 6: v + z"
   ]
  },
  {
   "cell_type": "code",
   "execution_count": 12,
   "metadata": {},
   "outputs": [
    {
     "name": "stdout",
     "output_type": "stream",
     "text": [
      "Adding these covariates:\n",
      "['a_Intercept']\n",
      "Adding these covariates:\n",
      "['v_Intercept', \"v_C(turn_type, Treatment('Sham'))[T.Right cTBS]\"]\n",
      "Adding these covariates:\n",
      "['z_Intercept', \"z_C(turn_type, Treatment('Sham'))[T.Right cTBS]\"]\n",
      " [-----------------100%-----------------] 2001 of 2000 complete in 3499.4 secWARNING: Will not save custom link functions.\n",
      "WARNING: Will not save custom link functions.\n",
      "WARNING: Will not save custom link functions.\n"
     ]
    }
   ],
   "source": [
    "a_reg = {'model': \"a ~ 1\",'link_func': lambda x: x}\n",
    "v_reg = {'model': \"v ~ 1 + C(turn_type, Treatment('Sham'))\",'link_func': lambda x: x}\n",
    "z_reg = {'model': \"z ~ 1 + C(turn_type, Treatment('Sham'))\",'link_func': lambda x: x}\n",
    "reg_descr = [a_reg,v_reg,z_reg]\n",
    "D_R_T_N_vzm = hddm.HDDMRegressor(D_R_T_N, reg_descr, include='z')\n",
    "D_R_T_N_vzm.find_starting_values()\n",
    "D_R_T_N_vzm.sample(2000, burn=20, dbname='traces.db', db='pickle')\n",
    "D_R_T_N_vzm.save('D_R_T_N_vzm')"
   ]
  },
  {
   "cell_type": "markdown",
   "metadata": {},
   "source": [
    "### model 7: a + v + z"
   ]
  },
  {
   "cell_type": "code",
   "execution_count": 13,
   "metadata": {},
   "outputs": [
    {
     "name": "stdout",
     "output_type": "stream",
     "text": [
      "Adding these covariates:\n",
      "['a_Intercept', \"a_C(turn_type, Treatment('Sham'))[T.Right cTBS]\"]\n",
      "Adding these covariates:\n",
      "['v_Intercept', \"v_C(turn_type, Treatment('Sham'))[T.Right cTBS]\"]\n",
      "Adding these covariates:\n",
      "['z_Intercept', \"z_C(turn_type, Treatment('Sham'))[T.Right cTBS]\"]\n",
      " [-----------------100%-----------------] 2001 of 2000 complete in 3999.3 secWARNING: Will not save custom link functions.\n",
      "WARNING: Will not save custom link functions.\n",
      "WARNING: Will not save custom link functions.\n"
     ]
    }
   ],
   "source": [
    "a_reg = {'model': \"a ~ 1 + C(turn_type, Treatment('Sham'))\",'link_func': lambda x: x}\n",
    "v_reg = {'model': \"v ~ 1 + C(turn_type, Treatment('Sham'))\",'link_func': lambda x: x}\n",
    "z_reg = {'model': \"z ~ 1 + C(turn_type, Treatment('Sham'))\",'link_func': lambda x: x}\n",
    "reg_descr = [a_reg,v_reg,z_reg]\n",
    "D_R_T_N_fm = hddm.HDDMRegressor(D_R_T_N, reg_descr, include='z')\n",
    "D_R_T_N_fm.find_starting_values()\n",
    "D_R_T_N_fm.sample(2000, burn=20, dbname='traces.db', db='pickle')\n",
    "D_R_T_N_fm.save('D_R_T_N_fm')"
   ]
  },
  {
   "cell_type": "markdown",
   "metadata": {},
   "source": [
    "### Model comparison"
   ]
  },
  {
   "cell_type": "code",
   "execution_count": 30,
   "metadata": {},
   "outputs": [
    {
     "name": "stdout",
     "output_type": "stream",
     "text": [
      "baseline model DIC: 7859.035696\n",
      "a model DIC: 7807.572305\n",
      "v model DIC: 7862.137689\n",
      "z model DIC: 7860.028110\n",
      "av model DIC: 7809.489752\n",
      "az model DIC: 7808.590720\n",
      "vz model DIC: 7863.477156\n",
      "full model DIC: 7809.595783\n"
     ]
    },
    {
     "data": {
      "image/png": "[encoded data removed]",
      "text/plain": [
       "<Figure size 130.394x63.7795 with 1 Axes>"
      ]
     },
     "metadata": {
      "needs_background": "light"
     },
     "output_type": "display_data"
    }
   ],
   "source": [
    "print(\"baseline model DIC: %f\" % D_R_T_N_bsl.dic)\n",
    "print(\"a model DIC: %f\" % D_R_T_N_am.dic)\n",
    "print(\"v model DIC: %f\" % D_R_T_N_vm.dic)\n",
    "print(\"z model DIC: %f\" % D_R_T_N_zm.dic)\n",
    "print(\"av model DIC: %f\" % D_R_T_N_avm.dic)\n",
    "print(\"az model DIC: %f\" % D_R_T_N_azm.dic)\n",
    "print(\"vz model DIC: %f\" % D_R_T_N_vzm.dic)\n",
    "print(\"full model DIC: %f\" % D_R_T_N_fm.dic)\n",
    "\n",
    "fig, ax = plt.subplots()\n",
    "\n",
    "fruits = ['baseline', 'a', 'v', 'z', 'av', 'az', 'vz','full']\n",
    "counts = [D_R_T_N_bsl.dic, D_R_T_N_am.dic, D_R_T_N_vm.dic, D_R_T_N_zm.dic,D_R_T_N_avm.dic,D_R_T_N_azm.dic,D_R_T_N_vzm.dic,D_R_T_N_fm.dic]\n",
    "\n",
    "ax.bar(fruits, counts, color=[197./255,158./255,226./255],edgecolor='black',linewidth=0.5)\n",
    "\n",
    "#ax.set_ylabel('DIC value')\n",
    "#ax.set_title('TBS: Right stimulation consonant noise')\n",
    "ax.set_ylim([7800,7864])\n",
    "ytick_plot=range(7800,7864,8)\n",
    "ytick_plot.append(7864)\n",
    "ax.set_yticks(ytick_plot)\n",
    "#ax.set_yticklabels(range(7800,7865,8))\n",
    "ax.spines['right'].set_visible(False)\n",
    "ax.spines['top'].set_visible(False)\n",
    "\n",
    "fig.set_size_inches(4.6*cm,2.25*cm)\n",
    "ax.tick_params('both',which='major',direction='in',width=0.5,length=2)\n",
    "plt.rcParams['font.size']=5\n",
    "plt.rcParams['font.family']='Arial'\n",
    "plt.savefig(D_name+'M_compare.pdf',bbox_inches = 'tight',transparent=True)\n",
    "plt.show()"
   ]
  },
  {
   "cell_type": "markdown",
   "metadata": {},
   "source": [
    "### Plotting"
   ]
  },
  {
   "cell_type": "code",
   "execution_count": 32,
   "metadata": {},
   "outputs": [
    {
     "data": {
      "image/png": "[encoded data removed]",
      "text/plain": [
       "<Figure size 127.559x70.8661 with 1 Axes>"
      ]
     },
     "metadata": {
      "needs_background": "light"
     },
     "output_type": "display_data"
    },
    {
     "name": "stdout",
     "output_type": "stream",
     "text": [
      "('P(a > Sham) = ', 1.0)\n",
      "('P(v > Sham) = ', 0.3803030303030303)\n",
      "('P(z > Sham) = ', 0.902020202020202)\n"
     ]
    }
   ],
   "source": [
    "a_Intercept,a_cTBS = D_R_T_N_fm.nodes_db.loc[[\"a_Intercept\",\"a_C(turn_type, Treatment('Sham'))[T.Right cTBS]\"], 'node']\n",
    "# hddm.analyze.plot_posterior_nodes([a_Intercept,a_cTBS])\n",
    "# plt.xlabel('boundary')\n",
    "# plt.ylabel('Posterior probability')\n",
    "# plt.title('Full model')\n",
    "\n",
    "v_Intercept,v_cTBS = D_R_T_N_fm.nodes_db.loc[[\"v_Intercept\",\"v_C(turn_type, Treatment('Sham'))[T.Right cTBS]\"], 'node']\n",
    "# hddm.analyze.plot_posterior_nodes([v_Intercept,v_cTBS])\n",
    "# plt.xlabel('drift-rate')\n",
    "# plt.ylabel('Posterior probability')\n",
    "# plt.title('Full model')\n",
    "\n",
    "z_Intercept,z_cTBS = D_R_T_N_fm.nodes_db.loc[[\"z_Intercept\",\"z_C(turn_type, Treatment('Sham'))[T.Right cTBS]\"], 'node']\n",
    "# hddm.analyze.plot_posterior_nodes([z_Intercept,z_cTBS])\n",
    "# plt.xlabel('starting point')\n",
    "# plt.ylabel('Posterior probability')\n",
    "# plt.title('Full model')\n",
    "\n",
    "fig, ax = plt.subplots()\n",
    "fig.set_size_inches(4.5*cm,2.5*cm)\n",
    "\n",
    "para_tag=['boundary(a)','drift rate(v)','starting point(z)']\n",
    "counts = [a_cTBS.trace()/(max(a_cTBS.trace())-min(a_cTBS.trace())),v_cTBS.trace()/(max(v_cTBS.trace())-min(v_cTBS.trace())),z_cTBS.trace()/(max(z_cTBS.trace())-min(z_cTBS.trace()))]\n",
    "\n",
    "ax.axhline(y = 0, color =[0.5,0.5,0.5], linestyle =\"--\", linewidth = 0.5, zorder=0)\n",
    "\n",
    "vioparts=ax.violinplot(counts)\n",
    "for pc in vioparts['bodies']:\n",
    "    pc.set_facecolor('grey')\n",
    "    pc.set_edgecolor('black')\n",
    "    pc.set_linewidth(0.5)\n",
    "    pc.set_alpha(0.8)\n",
    "vioparts['cbars'].set_color('black')\n",
    "vioparts['cbars'].set_linewidth(0.5)\n",
    "vioparts['cmaxes'].set_color('black')\n",
    "vioparts['cmaxes'].set_linewidth(0.5)\n",
    "vioparts['cmins'].set_color('black')\n",
    "vioparts['cmins'].set_linewidth(0.5)\n",
    "\n",
    "ax.set_xticks([1,2,3])\n",
    "ax.set_xticklabels(para_tag)\n",
    "#ax.set_title('Full model: Left cTBS consonant quiet')\n",
    "#ax.set_ylabel('Regression coef (normalized)')\n",
    "ax.set_ylim([-1.5,1.8])\n",
    "ax.set_yticks([-1.5,-0.9,-0.3,0.3,0.9,1.5,1.8])\n",
    "ax.set_yticklabels([-1.5,-0.9,-0.3,0.3,0.9,1.5])\n",
    "ax.spines['right'].set_visible(False)\n",
    "ax.spines['top'].set_visible(False)\n",
    "\n",
    "ax.tick_params('both',which='major',direction='in',width=0.5,length=2)\n",
    "plt.rcParams['savefig.dpi']=300\n",
    "plt.rcParams['font.size']=5\n",
    "plt.rcParams['font.family']='Arial'\n",
    "plt.savefig(D_name+'cTBS_DDMparas.pdf',bbox_inches = 'tight',transparent=True)\n",
    "plt.show()\n",
    "\n",
    "print(\"P(a > Sham) = \", (a_cTBS.trace() > 0).mean())\n",
    "print(\"P(v > Sham) = \", (v_cTBS.trace() > 0).mean())\n",
    "print(\"P(z > Sham) = \", (z_cTBS.trace() > 0).mean())"
   ]
  },
  {
   "cell_type": "markdown",
   "metadata": {},
   "source": [
    "### check full model simulation prediction accuracy"
   ]
  },
  {
   "cell_type": "markdown",
   "metadata": {},
   "source": [
    "#### fit the full model"
   ]
  },
  {
   "cell_type": "code",
   "execution_count": 16,
   "metadata": {},
   "outputs": [
    {
     "name": "stdout",
     "output_type": "stream",
     "text": [
      "Adding these covariates:\n",
      "['a_Intercept', \"a_C(turn_type, Treatment('Sham'))[T.Right cTBS]\"]\n",
      "Adding these covariates:\n",
      "['v_Intercept', \"v_C(turn_type, Treatment('Sham'))[T.Right cTBS]\"]\n",
      "Adding these covariates:\n",
      "['z_Intercept', \"z_C(turn_type, Treatment('Sham'))[T.Right cTBS]\"]\n",
      " [-----------------100%-----------------] 2001 of 2000 complete in 3985.5 sec"
     ]
    },
    {
     "data": {
      "text/plain": [
       "<pymc.MCMC.MCMC at 0x7fa345f52e50>"
      ]
     },
     "execution_count": 16,
     "metadata": {},
     "output_type": "execute_result"
    }
   ],
   "source": [
    "fm_data_2=D_R_T_N\n",
    "fm_data_2.reset_index(inplace = True, drop = True)\n",
    "a_reg = {'model': \"a ~ 1 + C(turn_type, Treatment('Sham'))\",'link_func': lambda x: x}\n",
    "v_reg = {'model': \"v ~ 1 + C(turn_type, Treatment('Sham'))\",'link_func': lambda x: x}\n",
    "z_reg = {'model': \"z ~ 1 + C(turn_type, Treatment('Sham'))\",'link_func': lambda x: x}\n",
    "reg_descr = [a_reg,v_reg,z_reg]\n",
    "fm_2 = hddm.HDDMRegressor(fm_data_2, reg_descr, include='z')\n",
    "fm_2.find_starting_values()\n",
    "fm_2.sample(2000, burn=20, dbname='traces.db', db='pickle')"
   ]
  },
  {
   "cell_type": "markdown",
   "metadata": {},
   "source": [
    "#### plot the full model (compared with the original full model)"
   ]
  },
  {
   "cell_type": "code",
   "execution_count": 17,
   "metadata": {},
   "outputs": [
    {
     "data": {
      "image/png": "[encoded data removed]",
      "text/plain": [
       "<Figure size 288x288 with 1 Axes>"
      ]
     },
     "metadata": {
      "needs_background": "light"
     },
     "output_type": "display_data"
    },
    {
     "name": "stdout",
     "output_type": "stream",
     "text": [
      "('P(a > Sham) = ', 1.0)\n",
      "('P(v > Sham) = ', 0.3570707070707071)\n",
      "('P(z > Sham) = ', 0.9141414141414141)\n"
     ]
    }
   ],
   "source": [
    "a_Intercept,a_cTBS = fm_2.nodes_db.loc[[\"a_Intercept\",\"a_C(turn_type, Treatment('Sham'))[T.Right cTBS]\"], 'node']\n",
    "v_Intercept,v_cTBS = fm_2.nodes_db.loc[[\"v_Intercept\",\"v_C(turn_type, Treatment('Sham'))[T.Right cTBS]\"], 'node']\n",
    "z_Intercept,z_cTBS = fm_2.nodes_db.loc[[\"z_Intercept\",\"z_C(turn_type, Treatment('Sham'))[T.Right cTBS]\"], 'node']\n",
    "\n",
    "fig, ax = plt.subplots()\n",
    "fig.set_size_inches(4,4)\n",
    "\n",
    "para_tag=['boundary(a)','drift rate(v)','starting point(z)']\n",
    "counts = [a_cTBS.trace()/(max(a_cTBS.trace())-min(a_cTBS.trace())),v_cTBS.trace()/(max(v_cTBS.trace())-min(v_cTBS.trace())),z_cTBS.trace()/(max(z_cTBS.trace())-min(z_cTBS.trace()))]\n",
    "\n",
    "ax.axhline(y = 0, color =\"green\", linestyle =\"--\")\n",
    "ax.violinplot(counts)\n",
    "ax.set_xticks([1,2,3])\n",
    "ax.set_xticklabels(para_tag)\n",
    "ax.set_title('Full model: Left cTBS consonant quiet')\n",
    "ax.set_ylabel('Regression coef (normalized)')\n",
    "ax.set_ylim([-1.8,1.8])\n",
    "ax.spines['right'].set_visible(False)\n",
    "ax.spines['top'].set_visible(False)\n",
    "\n",
    "plt.show()\n",
    "\n",
    "print(\"P(a > Sham) = \", (a_cTBS.trace() > 0).mean())\n",
    "print(\"P(v > Sham) = \", (v_cTBS.trace() > 0).mean())\n",
    "print(\"P(z > Sham) = \", (z_cTBS.trace() > 0).mean())"
   ]
  },
  {
   "cell_type": "markdown",
   "metadata": {},
   "source": [
    "#### predict data from simulated data derived from full model"
   ]
  },
  {
   "cell_type": "code",
   "execution_count": 18,
   "metadata": {},
   "outputs": [
    {
     "name": "stdout",
     "output_type": "stream",
     "text": [
      " [-------------------112%-------------------] 28 of 25 complete in 23718.8 sec"
     ]
    },
    {
     "data": {
      "text/html": [
       "<div>\n",
       "<style scoped>\n",
       "    .dataframe tbody tr th:only-of-type {\n",
       "        vertical-align: middle;\n",
       "    }\n",
       "\n",
       "    .dataframe tbody tr th {\n",
       "        vertical-align: top;\n",
       "    }\n",
       "\n",
       "    .dataframe thead th {\n",
       "        text-align: right;\n",
       "    }\n",
       "</style>\n",
       "<table border=\"1\" class=\"dataframe\">\n",
       "  <thead>\n",
       "    <tr style=\"text-align: right;\">\n",
       "      <th></th>\n",
       "      <th>observed</th>\n",
       "      <th>mean</th>\n",
       "      <th>std</th>\n",
       "      <th>SEM</th>\n",
       "      <th>MSE</th>\n",
       "      <th>credible</th>\n",
       "      <th>quantile</th>\n",
       "      <th>mahalanobis</th>\n",
       "    </tr>\n",
       "    <tr>\n",
       "      <th>stat</th>\n",
       "      <th></th>\n",
       "      <th></th>\n",
       "      <th></th>\n",
       "      <th></th>\n",
       "      <th></th>\n",
       "      <th></th>\n",
       "      <th></th>\n",
       "      <th></th>\n",
       "    </tr>\n",
       "  </thead>\n",
       "  <tbody>\n",
       "    <tr>\n",
       "      <th>accuracy</th>\n",
       "      <td>0.553462</td>\n",
       "      <td>0.557976</td>\n",
       "      <td>0.133266</td>\n",
       "      <td>0.000020</td>\n",
       "      <td>0.017780</td>\n",
       "      <td>True</td>\n",
       "      <td>45.248001</td>\n",
       "      <td>0.033873</td>\n",
       "    </tr>\n",
       "    <tr>\n",
       "      <th>mean_ub</th>\n",
       "      <td>0.769450</td>\n",
       "      <td>0.790567</td>\n",
       "      <td>0.149820</td>\n",
       "      <td>0.000446</td>\n",
       "      <td>0.022892</td>\n",
       "      <td>True</td>\n",
       "      <td>61.439999</td>\n",
       "      <td>0.140945</td>\n",
       "    </tr>\n",
       "    <tr>\n",
       "      <th>std_ub</th>\n",
       "      <td>0.287983</td>\n",
       "      <td>0.276983</td>\n",
       "      <td>0.090056</td>\n",
       "      <td>0.000121</td>\n",
       "      <td>0.008231</td>\n",
       "      <td>True</td>\n",
       "      <td>65.984001</td>\n",
       "      <td>0.122152</td>\n",
       "    </tr>\n",
       "    <tr>\n",
       "      <th>10q_ub</th>\n",
       "      <td>0.510389</td>\n",
       "      <td>0.541666</td>\n",
       "      <td>0.097139</td>\n",
       "      <td>0.000978</td>\n",
       "      <td>0.010414</td>\n",
       "      <td>True</td>\n",
       "      <td>46.127998</td>\n",
       "      <td>0.321982</td>\n",
       "    </tr>\n",
       "    <tr>\n",
       "      <th>30q_ub</th>\n",
       "      <td>0.618468</td>\n",
       "      <td>0.615304</td>\n",
       "      <td>0.110373</td>\n",
       "      <td>0.000010</td>\n",
       "      <td>0.012192</td>\n",
       "      <td>True</td>\n",
       "      <td>62.647999</td>\n",
       "      <td>0.028667</td>\n",
       "    </tr>\n",
       "    <tr>\n",
       "      <th>50q_ub</th>\n",
       "      <td>0.709455</td>\n",
       "      <td>0.707322</td>\n",
       "      <td>0.131102</td>\n",
       "      <td>0.000005</td>\n",
       "      <td>0.017192</td>\n",
       "      <td>True</td>\n",
       "      <td>63.872002</td>\n",
       "      <td>0.016275</td>\n",
       "    </tr>\n",
       "    <tr>\n",
       "      <th>70q_ub</th>\n",
       "      <td>0.820585</td>\n",
       "      <td>0.847188</td>\n",
       "      <td>0.167260</td>\n",
       "      <td>0.000708</td>\n",
       "      <td>0.028684</td>\n",
       "      <td>True</td>\n",
       "      <td>60.824001</td>\n",
       "      <td>0.159048</td>\n",
       "    </tr>\n",
       "    <tr>\n",
       "      <th>90q_ub</th>\n",
       "      <td>1.094302</td>\n",
       "      <td>1.146891</td>\n",
       "      <td>0.254070</td>\n",
       "      <td>0.002766</td>\n",
       "      <td>0.067317</td>\n",
       "      <td>True</td>\n",
       "      <td>56.720001</td>\n",
       "      <td>0.206987</td>\n",
       "    </tr>\n",
       "    <tr>\n",
       "      <th>mean_lb</th>\n",
       "      <td>-0.780901</td>\n",
       "      <td>-0.802920</td>\n",
       "      <td>0.147261</td>\n",
       "      <td>0.000485</td>\n",
       "      <td>0.022171</td>\n",
       "      <td>True</td>\n",
       "      <td>42.383999</td>\n",
       "      <td>0.149526</td>\n",
       "    </tr>\n",
       "    <tr>\n",
       "      <th>std_lb</th>\n",
       "      <td>0.319844</td>\n",
       "      <td>0.278007</td>\n",
       "      <td>0.089597</td>\n",
       "      <td>0.001750</td>\n",
       "      <td>0.009778</td>\n",
       "      <td>True</td>\n",
       "      <td>78.760002</td>\n",
       "      <td>0.466951</td>\n",
       "    </tr>\n",
       "    <tr>\n",
       "      <th>10q_lb</th>\n",
       "      <td>0.530827</td>\n",
       "      <td>0.549676</td>\n",
       "      <td>0.099024</td>\n",
       "      <td>0.000355</td>\n",
       "      <td>0.010161</td>\n",
       "      <td>True</td>\n",
       "      <td>55.368000</td>\n",
       "      <td>0.190347</td>\n",
       "    </tr>\n",
       "    <tr>\n",
       "      <th>30q_lb</th>\n",
       "      <td>0.635501</td>\n",
       "      <td>0.627176</td>\n",
       "      <td>0.111419</td>\n",
       "      <td>0.000069</td>\n",
       "      <td>0.012483</td>\n",
       "      <td>True</td>\n",
       "      <td>63.208000</td>\n",
       "      <td>0.074716</td>\n",
       "    </tr>\n",
       "    <tr>\n",
       "      <th>50q_lb</th>\n",
       "      <td>0.713555</td>\n",
       "      <td>0.721509</td>\n",
       "      <td>0.130458</td>\n",
       "      <td>0.000063</td>\n",
       "      <td>0.017083</td>\n",
       "      <td>True</td>\n",
       "      <td>59.992001</td>\n",
       "      <td>0.060969</td>\n",
       "    </tr>\n",
       "    <tr>\n",
       "      <th>70q_lb</th>\n",
       "      <td>0.812104</td>\n",
       "      <td>0.862198</td>\n",
       "      <td>0.163880</td>\n",
       "      <td>0.002509</td>\n",
       "      <td>0.029366</td>\n",
       "      <td>True</td>\n",
       "      <td>49.264000</td>\n",
       "      <td>0.305675</td>\n",
       "    </tr>\n",
       "    <tr>\n",
       "      <th>90q_lb</th>\n",
       "      <td>1.089040</td>\n",
       "      <td>1.159413</td>\n",
       "      <td>0.246972</td>\n",
       "      <td>0.004952</td>\n",
       "      <td>0.065947</td>\n",
       "      <td>True</td>\n",
       "      <td>50.287998</td>\n",
       "      <td>0.284943</td>\n",
       "    </tr>\n",
       "  </tbody>\n",
       "</table>\n",
       "</div>"
      ],
      "text/plain": [
       "          observed      mean       std       SEM       MSE credible  \\\n",
       "stat                                                                  \n",
       "accuracy  0.553462  0.557976  0.133266  0.000020  0.017780     True   \n",
       "mean_ub   0.769450  0.790567  0.149820  0.000446  0.022892     True   \n",
       "std_ub    0.287983  0.276983  0.090056  0.000121  0.008231     True   \n",
       "10q_ub    0.510389  0.541666  0.097139  0.000978  0.010414     True   \n",
       "30q_ub    0.618468  0.615304  0.110373  0.000010  0.012192     True   \n",
       "50q_ub    0.709455  0.707322  0.131102  0.000005  0.017192     True   \n",
       "70q_ub    0.820585  0.847188  0.167260  0.000708  0.028684     True   \n",
       "90q_ub    1.094302  1.146891  0.254070  0.002766  0.067317     True   \n",
       "mean_lb  -0.780901 -0.802920  0.147261  0.000485  0.022171     True   \n",
       "std_lb    0.319844  0.278007  0.089597  0.001750  0.009778     True   \n",
       "10q_lb    0.530827  0.549676  0.099024  0.000355  0.010161     True   \n",
       "30q_lb    0.635501  0.627176  0.111419  0.000069  0.012483     True   \n",
       "50q_lb    0.713555  0.721509  0.130458  0.000063  0.017083     True   \n",
       "70q_lb    0.812104  0.862198  0.163880  0.002509  0.029366     True   \n",
       "90q_lb    1.089040  1.159413  0.246972  0.004952  0.065947     True   \n",
       "\n",
       "           quantile  mahalanobis  \n",
       "stat                              \n",
       "accuracy  45.248001     0.033873  \n",
       "mean_ub   61.439999     0.140945  \n",
       "std_ub    65.984001     0.122152  \n",
       "10q_ub    46.127998     0.321982  \n",
       "30q_ub    62.647999     0.028667  \n",
       "50q_ub    63.872002     0.016275  \n",
       "70q_ub    60.824001     0.159048  \n",
       "90q_ub    56.720001     0.206987  \n",
       "mean_lb   42.383999     0.149526  \n",
       "std_lb    78.760002     0.466951  \n",
       "10q_lb    55.368000     0.190347  \n",
       "30q_lb    63.208000     0.074716  \n",
       "50q_lb    59.992001     0.060969  \n",
       "70q_lb    49.264000     0.305675  \n",
       "90q_lb    50.287998     0.284943  "
      ]
     },
     "execution_count": 18,
     "metadata": {},
     "output_type": "execute_result"
    }
   ],
   "source": [
    "fm_data_2_sim = hddm.utils.post_pred_gen(fm_2)\n",
    "hddm.utils.post_pred_stats(fm_data_2, fm_data_2_sim)"
   ]
  }
 ],
 "metadata": {
  "kernelspec": {
   "display_name": "Python 2.7.18 ('bsliang_DDM_27': conda)",
   "language": "python",
   "name": "python3"
  },
  "language_info": {
   "codemirror_mode": {
    "name": "ipython",
    "version": 2
   },
   "file_extension": ".py",
   "mimetype": "text/x-python",
   "name": "python",
   "nbconvert_exporter": "python",
   "pygments_lexer": "ipython2",
   "version": "2.7.18"
  },
  "orig_nbformat": 4,
  "vscode": {
   "interpreter": {
    "hash": "800a09db568ebe80aacfc1bc086e45a31a7cff3ccaf522d8b640d0dfbe2b8801"
   }
  }
 },
 "nbformat": 4,
 "nbformat_minor": 2
}
