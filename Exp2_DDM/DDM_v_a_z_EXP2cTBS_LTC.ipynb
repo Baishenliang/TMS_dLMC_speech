{
 "cells": [
  {
   "cell_type": "markdown",
   "metadata": {},
   "source": [
    "![这是图片](xingyun.jpg \"Magic Gardens\")<br><br>\n",
    "事情是这样的<br>\n",
    "我本来已经<br>\n",
    "打算完结这个分析了<br> \n",
    "但杜老师，居然<br>\n",
    "竟然，也是不出意料<br>\n",
    "叫我加一个参数<br>"
   ]
  },
  {
   "cell_type": "markdown",
   "metadata": {},
   "source": [
    "# TBS"
   ]
  },
  {
   "cell_type": "markdown",
   "metadata": {},
   "source": [
    "## preparing"
   ]
  },
  {
   "cell_type": "code",
   "execution_count": 19,
   "metadata": {},
   "outputs": [],
   "source": [
    "import pandas as pd\n",
    "import matplotlib.pyplot as plt\n",
    "import hddm\n",
    "import numpy as np\n",
    "import pickle\n",
    "from patsy import dmatrices, dmatrix, demo_data\n",
    "cm = 1/2.54"
   ]
  },
  {
   "cell_type": "markdown",
   "metadata": {},
   "source": [
    "## loading data"
   ]
  },
  {
   "cell_type": "code",
   "execution_count": 2,
   "metadata": {},
   "outputs": [
    {
     "data": {
      "text/html": [
       "<div>\n",
       "<style scoped>\n",
       "    .dataframe tbody tr th:only-of-type {\n",
       "        vertical-align: middle;\n",
       "    }\n",
       "\n",
       "    .dataframe tbody tr th {\n",
       "        vertical-align: top;\n",
       "    }\n",
       "\n",
       "    .dataframe thead th {\n",
       "        text-align: right;\n",
       "    }\n",
       "</style>\n",
       "<table border=\"1\" class=\"dataframe\">\n",
       "  <thead>\n",
       "    <tr style=\"text-align: right;\">\n",
       "      <th></th>\n",
       "      <th>subj_idx</th>\n",
       "      <th>group_idx</th>\n",
       "      <th>turn_type</th>\n",
       "      <th>task_type</th>\n",
       "      <th>snr_type</th>\n",
       "      <th>trial_num</th>\n",
       "      <th>step_att</th>\n",
       "      <th>response</th>\n",
       "      <th>rt</th>\n",
       "      <th>step_unatnd</th>\n",
       "    </tr>\n",
       "  </thead>\n",
       "  <tbody>\n",
       "    <tr>\n",
       "      <th>0</th>\n",
       "      <td>55</td>\n",
       "      <td>Larynx</td>\n",
       "      <td>Left iTBS</td>\n",
       "      <td>Tone</td>\n",
       "      <td>Clear</td>\n",
       "      <td>1</td>\n",
       "      <td>3</td>\n",
       "      <td>1</td>\n",
       "      <td>1.083317</td>\n",
       "      <td>1</td>\n",
       "    </tr>\n",
       "    <tr>\n",
       "      <th>1</th>\n",
       "      <td>55</td>\n",
       "      <td>Larynx</td>\n",
       "      <td>Left iTBS</td>\n",
       "      <td>Tone</td>\n",
       "      <td>Clear</td>\n",
       "      <td>2</td>\n",
       "      <td>4</td>\n",
       "      <td>1</td>\n",
       "      <td>0.744397</td>\n",
       "      <td>1</td>\n",
       "    </tr>\n",
       "    <tr>\n",
       "      <th>2</th>\n",
       "      <td>55</td>\n",
       "      <td>Larynx</td>\n",
       "      <td>Left iTBS</td>\n",
       "      <td>Tone</td>\n",
       "      <td>Clear</td>\n",
       "      <td>3</td>\n",
       "      <td>4</td>\n",
       "      <td>1</td>\n",
       "      <td>0.732525</td>\n",
       "      <td>1</td>\n",
       "    </tr>\n",
       "    <tr>\n",
       "      <th>3</th>\n",
       "      <td>55</td>\n",
       "      <td>Larynx</td>\n",
       "      <td>Left iTBS</td>\n",
       "      <td>Tone</td>\n",
       "      <td>Clear</td>\n",
       "      <td>4</td>\n",
       "      <td>5</td>\n",
       "      <td>1</td>\n",
       "      <td>0.800199</td>\n",
       "      <td>1</td>\n",
       "    </tr>\n",
       "    <tr>\n",
       "      <th>4</th>\n",
       "      <td>55</td>\n",
       "      <td>Larynx</td>\n",
       "      <td>Left iTBS</td>\n",
       "      <td>Tone</td>\n",
       "      <td>Clear</td>\n",
       "      <td>5</td>\n",
       "      <td>4</td>\n",
       "      <td>1</td>\n",
       "      <td>0.753649</td>\n",
       "      <td>1</td>\n",
       "    </tr>\n",
       "    <tr>\n",
       "      <th>5</th>\n",
       "      <td>55</td>\n",
       "      <td>Larynx</td>\n",
       "      <td>Left iTBS</td>\n",
       "      <td>Tone</td>\n",
       "      <td>Clear</td>\n",
       "      <td>6</td>\n",
       "      <td>4</td>\n",
       "      <td>1</td>\n",
       "      <td>0.544652</td>\n",
       "      <td>1</td>\n",
       "    </tr>\n",
       "    <tr>\n",
       "      <th>6</th>\n",
       "      <td>55</td>\n",
       "      <td>Larynx</td>\n",
       "      <td>Left iTBS</td>\n",
       "      <td>Tone</td>\n",
       "      <td>Clear</td>\n",
       "      <td>7</td>\n",
       "      <td>5</td>\n",
       "      <td>1</td>\n",
       "      <td>0.621313</td>\n",
       "      <td>1</td>\n",
       "    </tr>\n",
       "    <tr>\n",
       "      <th>7</th>\n",
       "      <td>55</td>\n",
       "      <td>Larynx</td>\n",
       "      <td>Left iTBS</td>\n",
       "      <td>Tone</td>\n",
       "      <td>Clear</td>\n",
       "      <td>8</td>\n",
       "      <td>5</td>\n",
       "      <td>1</td>\n",
       "      <td>0.580819</td>\n",
       "      <td>1</td>\n",
       "    </tr>\n",
       "    <tr>\n",
       "      <th>8</th>\n",
       "      <td>55</td>\n",
       "      <td>Larynx</td>\n",
       "      <td>Left iTBS</td>\n",
       "      <td>Tone</td>\n",
       "      <td>Clear</td>\n",
       "      <td>9</td>\n",
       "      <td>1</td>\n",
       "      <td>0</td>\n",
       "      <td>-0.496794</td>\n",
       "      <td>1</td>\n",
       "    </tr>\n",
       "    <tr>\n",
       "      <th>9</th>\n",
       "      <td>55</td>\n",
       "      <td>Larynx</td>\n",
       "      <td>Left iTBS</td>\n",
       "      <td>Tone</td>\n",
       "      <td>Clear</td>\n",
       "      <td>10</td>\n",
       "      <td>3</td>\n",
       "      <td>1</td>\n",
       "      <td>0.863869</td>\n",
       "      <td>1</td>\n",
       "    </tr>\n",
       "  </tbody>\n",
       "</table>\n",
       "</div>"
      ],
      "text/plain": [
       "   subj_idx group_idx  turn_type task_type snr_type  trial_num  step_att  \\\n",
       "0        55    Larynx  Left iTBS      Tone    Clear          1         3   \n",
       "1        55    Larynx  Left iTBS      Tone    Clear          2         4   \n",
       "2        55    Larynx  Left iTBS      Tone    Clear          3         4   \n",
       "3        55    Larynx  Left iTBS      Tone    Clear          4         5   \n",
       "4        55    Larynx  Left iTBS      Tone    Clear          5         4   \n",
       "5        55    Larynx  Left iTBS      Tone    Clear          6         4   \n",
       "6        55    Larynx  Left iTBS      Tone    Clear          7         5   \n",
       "7        55    Larynx  Left iTBS      Tone    Clear          8         5   \n",
       "8        55    Larynx  Left iTBS      Tone    Clear          9         1   \n",
       "9        55    Larynx  Left iTBS      Tone    Clear         10         3   \n",
       "\n",
       "   response        rt  step_unatnd  \n",
       "0         1  1.083317            1  \n",
       "1         1  0.744397            1  \n",
       "2         1  0.732525            1  \n",
       "3         1  0.800199            1  \n",
       "4         1  0.753649            1  \n",
       "5         1  0.544652            1  \n",
       "6         1  0.621313            1  \n",
       "7         1  0.580819            1  \n",
       "8         0 -0.496794            1  \n",
       "9         1  0.863869            1  "
      ]
     },
     "execution_count": 2,
     "metadata": {},
     "output_type": "execute_result"
    }
   ],
   "source": [
    "data = hddm.load_csv('exp2_DDM.csv')\n",
    "data = hddm.utils.flip_errors(data)\n",
    "data.head(10)"
   ]
  },
  {
   "cell_type": "markdown",
   "metadata": {},
   "source": [
    "## left stim, tone, clear"
   ]
  },
  {
   "cell_type": "markdown",
   "metadata": {},
   "source": [
    "### RT distribution"
   ]
  },
  {
   "cell_type": "code",
   "execution_count": 32,
   "metadata": {},
   "outputs": [
    {
     "name": "stderr",
     "output_type": "stream",
     "text": [
      "/home/bsliang/miniconda3/envs/bsliang_DDM_27/lib/python2.7/site-packages/ipykernel_launcher.py:12: FutureWarning: The signature of `Series.to_csv` was aligned to that of `DataFrame.to_csv`, and argument 'header' will change its default value from False to True: please pass an explicit value to suppress this warning.\n",
      "  if sys.path[0] == '':\n",
      "/home/bsliang/miniconda3/envs/bsliang_DDM_27/lib/python2.7/site-packages/ipykernel_launcher.py:13: FutureWarning: The signature of `Series.to_csv` was aligned to that of `DataFrame.to_csv`, and argument 'header' will change its default value from False to True: please pass an explicit value to suppress this warning.\n",
      "  del sys.path[0]\n"
     ]
    },
    {
     "data": {
      "image/png": "[encoded data removed]",
      "text/plain": [
       "<Figure size 127.559x70.8661 with 1 Axes>"
      ]
     },
     "metadata": {
      "needs_background": "light"
     },
     "output_type": "display_data"
    },
    {
     "data": {
      "image/png": "[encoded data removed]",
      "text/plain": [
       "<Figure size 34.0157x56.6929 with 1 Axes>"
      ]
     },
     "metadata": {
      "needs_background": "light"
     },
     "output_type": "display_data"
    }
   ],
   "source": [
    "data_unflip = hddm.load_csv('exp2_DDM.csv')\n",
    "\n",
    "D_L=data_unflip.loc[data_unflip['turn_type'].isin(['Left cTBS','Sham'])]\n",
    "D_L_T=D_L.loc[D_L['task_type']=='Tone']\n",
    "D_L_T_Q=D_L_T.loc[D_L_T['snr_type']=='Clear']\n",
    "D=D_L_T_Q\n",
    "D_name='D_L_T_Q_'\n",
    "\n",
    "D_TMS=D.loc[D['turn_type'].isin(['Left cTBS'])]\n",
    "D_Sham=D.loc[D['turn_type'].isin(['Sham'])]\n",
    "\n",
    "D_TMS.rt.to_csv(D_name+'TBS_RT.csv')\n",
    "D_Sham.rt.to_csv(D_name+'Sham_RT.csv')\n",
    "\n",
    "mean_TMS=D_TMS.rt.mean()\n",
    "se_TMS=np.std(D_TMS.rt, ddof=1) / np.sqrt(len(D_TMS.rt))\n",
    "mean_Sham=D_Sham.rt.mean()\n",
    "se_Sham=np.std(D_Sham.rt, ddof=1) / np.sqrt(len(D_Sham.rt))\n",
    "\n",
    "plt.rcParams['savefig.dpi']=300\n",
    "plt.rcParams['font.size']=5\n",
    "plt.rcParams['axes.linewidth']=0.5\n",
    "plt.rcParams['font.family']='Arial'\n",
    "\n",
    "fig, ax = plt.subplots()\n",
    "fig.set_size_inches(4.5*cm,2.5*cm)\n",
    "\n",
    "nbins=50\n",
    "dens_TMS = ax.hist(D_TMS.rt,bins=nbins, histtype='step',density=False,color=[0,0,0],linewidth=1,alpha=0.5)\n",
    "dens_Sham = ax.hist(D_Sham.rt,bins=nbins, histtype='step',density=False,color=[0.5,0.5,0.5],linewidth=1,alpha=0.5)\n",
    "\n",
    "\n",
    "for ibin in range(0,nbins-1):\n",
    "    if dens_TMS[1][ibin] > mean_TMS:\n",
    "        dens_TMS_mean = dens_TMS[0][ibin-1]\n",
    "        break\n",
    "\n",
    "for ibin in range(0,nbins-1):\n",
    "    if dens_Sham[1][ibin] > mean_Sham:\n",
    "        dens_Sham_mean = dens_Sham[0][ibin-1]\n",
    "        break\n",
    "\n",
    "#ax.set_title('RT distributions')\n",
    "#ax.set_ylabel('Number of trials')\n",
    "#ax.set_xlabel('Reaction time (s)')\n",
    "ax.set_xlim([0,2])\n",
    "ax.set_xticks(np.linspace(0,2,5))\n",
    "ax.set_ylim([0,900])\n",
    "ax.set_yticks([200,400,600,800,900])\n",
    "ax.set_yticklabels([200,400,600,800])\n",
    "ax.spines['right'].set_visible(False)\n",
    "ax.spines['top'].set_visible(False)\n",
    "ax.tick_params('both',which='major',direction='in',width=0.5,length=2)\n",
    "\n",
    "ax.axvline(x = mean_TMS, ymin=0,ymax=dens_TMS_mean/900,color =[0,0,0], linestyle =\"--\",linewidth=1,alpha=0.5)\n",
    "ax.axvline(x = mean_Sham, ymin=0,ymax=dens_Sham_mean/900,color =[0.5,0.5,0.5], linestyle =\"--\",linewidth=1,alpha=0.5)\n",
    "#ax.legend('upper right')\n",
    "\n",
    "plt.savefig(D_name+'cTBS_RT_dist.pdf',bbox_inches = 'tight',transparent=True)\n",
    "plt.show()\n",
    "\n",
    "fig, ax = plt.subplots()\n",
    "\n",
    "cat = ['cTBS','Sham']\n",
    "cat_mean = [mean_TMS,mean_Sham]\n",
    "\n",
    "axbar=ax.bar(cat, cat_mean,yerr=[se_TMS,se_Sham],color=[[0,0,0],[0.5,0.5,0.5]],alpha=0.5)\n",
    "axbar.errorbar.lines[2][0].set_linewidth(0.5)\n",
    "\n",
    "ax.set_ylabel('RT (s)',fontsize=5)\n",
    "#ax.set_title('cTBS: Right stimulation tone noise')\n",
    "#ax.set_xticks([])\n",
    "ax.set_ylim([0.6,0.7])\n",
    "ax.set_yticks(np.linspace(0.6,0.7,6))\n",
    "ax.spines['right'].set_visible(False)\n",
    "ax.spines['top'].set_visible(False)\n",
    "ax.tick_params('both',which='major',direction='in',bottom=False,width=0.5,length=1,labelsize=4)\n",
    "#ax.yaxis.tick_right()\n",
    "\n",
    "fig.set_size_inches(1.2*cm,2*cm)\n",
    "\n",
    "plt.savefig(D_name+'cTBS_RT.pdf',bbox_inches = 'tight',transparent=True)\n",
    "plt.show()"
   ]
  },
  {
   "cell_type": "markdown",
   "metadata": {},
   "source": [
    "### preparing data"
   ]
  },
  {
   "cell_type": "code",
   "execution_count": 4,
   "metadata": {},
   "outputs": [
    {
     "name": "stdout",
     "output_type": "stream",
     "text": [
      "       subj_idx group_idx  turn_type task_type snr_type  trial_num  step_att  \\\n",
      "624          55    Larynx  Left cTBS      Tone    Clear          1         3   \n",
      "625          55    Larynx  Left cTBS      Tone    Clear          2         5   \n",
      "626          55    Larynx  Left cTBS      Tone    Clear          3         5   \n",
      "627          55    Larynx  Left cTBS      Tone    Clear          4         3   \n",
      "628          55    Larynx  Left cTBS      Tone    Clear          5         4   \n",
      "629          55    Larynx  Left cTBS      Tone    Clear          6         2   \n",
      "630          55    Larynx  Left cTBS      Tone    Clear          7         3   \n",
      "631          55    Larynx  Left cTBS      Tone    Clear          8         3   \n",
      "632          55    Larynx  Left cTBS      Tone    Clear          9         1   \n",
      "633          55    Larynx  Left cTBS      Tone    Clear         10         2   \n",
      "634          55    Larynx  Left cTBS      Tone    Clear         11         1   \n",
      "635          55    Larynx  Left cTBS      Tone    Clear         12         1   \n",
      "636          55    Larynx  Left cTBS      Tone    Clear         13         3   \n",
      "637          55    Larynx  Left cTBS      Tone    Clear         14         3   \n",
      "638          55    Larynx  Left cTBS      Tone    Clear         15         1   \n",
      "639          55    Larynx  Left cTBS      Tone    Clear         16         1   \n",
      "640          55    Larynx  Left cTBS      Tone    Clear         17         3   \n",
      "641          55    Larynx  Left cTBS      Tone    Clear         18         3   \n",
      "642          55    Larynx  Left cTBS      Tone    Clear         19         4   \n",
      "643          55    Larynx  Left cTBS      Tone    Clear         20         5   \n",
      "644          55    Larynx  Left cTBS      Tone    Clear         21         2   \n",
      "645          55    Larynx  Left cTBS      Tone    Clear         22         2   \n",
      "646          55    Larynx  Left cTBS      Tone    Clear         23         5   \n",
      "647          55    Larynx  Left cTBS      Tone    Clear         24         5   \n",
      "648          55    Larynx  Left cTBS      Tone    Clear         25         5   \n",
      "649          55    Larynx  Left cTBS      Tone    Clear         26         2   \n",
      "650          55    Larynx  Left cTBS      Tone    Clear         27         4   \n",
      "651          55    Larynx  Left cTBS      Tone    Clear         28         1   \n",
      "652          55    Larynx  Left cTBS      Tone    Clear         29         2   \n",
      "653          55    Larynx  Left cTBS      Tone    Clear         30         3   \n",
      "...         ...       ...        ...       ...      ...        ...       ...   \n",
      "78126       253    Larynx       Sham      Tone    Clear        127         4   \n",
      "78127       253    Larynx       Sham      Tone    Clear        128         5   \n",
      "78128       253    Larynx       Sham      Tone    Clear        129         5   \n",
      "78129       253    Larynx       Sham      Tone    Clear        130         5   \n",
      "78130       253    Larynx       Sham      Tone    Clear        131         3   \n",
      "78131       253    Larynx       Sham      Tone    Clear        132         1   \n",
      "78132       253    Larynx       Sham      Tone    Clear        133         1   \n",
      "78133       253    Larynx       Sham      Tone    Clear        134         2   \n",
      "78134       253    Larynx       Sham      Tone    Clear        135         2   \n",
      "78135       253    Larynx       Sham      Tone    Clear        136         2   \n",
      "78136       253    Larynx       Sham      Tone    Clear        137         5   \n",
      "78137       253    Larynx       Sham      Tone    Clear        138         5   \n",
      "78138       253    Larynx       Sham      Tone    Clear        139         4   \n",
      "78139       253    Larynx       Sham      Tone    Clear        140         4   \n",
      "78140       253    Larynx       Sham      Tone    Clear        141         2   \n",
      "78141       253    Larynx       Sham      Tone    Clear        142         2   \n",
      "78142       253    Larynx       Sham      Tone    Clear        143         4   \n",
      "78143       253    Larynx       Sham      Tone    Clear        144         5   \n",
      "78144       253    Larynx       Sham      Tone    Clear        145         3   \n",
      "78145       253    Larynx       Sham      Tone    Clear        146         3   \n",
      "78146       253    Larynx       Sham      Tone    Clear        147         3   \n",
      "78147       253    Larynx       Sham      Tone    Clear        148         3   \n",
      "78148       253    Larynx       Sham      Tone    Clear        149         3   \n",
      "78149       253    Larynx       Sham      Tone    Clear        150         4   \n",
      "78150       253    Larynx       Sham      Tone    Clear        151         4   \n",
      "78151       253    Larynx       Sham      Tone    Clear        152         4   \n",
      "78152       253    Larynx       Sham      Tone    Clear        153         1   \n",
      "78153       253    Larynx       Sham      Tone    Clear        154         3   \n",
      "78154       253    Larynx       Sham      Tone    Clear        155         1   \n",
      "78155       253    Larynx       Sham      Tone    Clear        156         2   \n",
      "\n",
      "       response        rt  step_unatnd  \n",
      "624           1  0.648034            1  \n",
      "625           1  0.489868            1  \n",
      "626           1  0.450987            1  \n",
      "627           1  0.436914            1  \n",
      "628           1  0.434872            1  \n",
      "629           0 -0.467212            1  \n",
      "630           1  0.740333            1  \n",
      "631           1  0.557642            1  \n",
      "632           0 -0.488379            1  \n",
      "633           0 -0.517836            1  \n",
      "634           0 -0.493879            1  \n",
      "635           0 -0.580447            1  \n",
      "636           1  0.419108            1  \n",
      "637           1  0.459999            1  \n",
      "638           0 -0.538770            1  \n",
      "639           0 -0.461386            1  \n",
      "640           1  0.511229            1  \n",
      "641           1  0.472474            1  \n",
      "642           1  0.636995            1  \n",
      "643           1  0.521012            1  \n",
      "644           0 -0.625399            1  \n",
      "645           0 -0.771702            1  \n",
      "646           1  0.724570            1  \n",
      "647           1  1.001055            1  \n",
      "648           1  0.496224            1  \n",
      "649           0 -1.021709            1  \n",
      "650           1  0.632446            1  \n",
      "651           0 -0.539831            1  \n",
      "652           1  0.238660            1  \n",
      "653           1  0.661057            1  \n",
      "...         ...       ...          ...  \n",
      "78126         1  0.660880            1  \n",
      "78127         1  0.558448            1  \n",
      "78128         1  0.941209            1  \n",
      "78129         1  0.564786            1  \n",
      "78130         1  0.678036            1  \n",
      "78131         0 -0.645708            1  \n",
      "78132         0 -0.605000            1  \n",
      "78133         0 -0.611651            1  \n",
      "78134         0 -0.590936            1  \n",
      "78135         0 -0.487683            1  \n",
      "78136         1  0.622202            1  \n",
      "78137         1  0.577684            1  \n",
      "78138         1  0.481270            1  \n",
      "78139         1  0.492121            1  \n",
      "78140         0 -0.565029            1  \n",
      "78141         0 -0.648763            1  \n",
      "78142         1  0.746370            1  \n",
      "78143         1  0.612937            1  \n",
      "78144         0 -0.662952            1  \n",
      "78145         1  1.022814            1  \n",
      "78146         1  0.525678            1  \n",
      "78147         1  0.594899            1  \n",
      "78148         1  0.712846            1  \n",
      "78149         1  0.653655            1  \n",
      "78150         1  0.586441            1  \n",
      "78151         1  0.469893            1  \n",
      "78152         0 -0.496799            1  \n",
      "78153         1  0.730992            1  \n",
      "78154         0 -0.677024            1  \n",
      "78155         0 -0.491757            1  \n",
      "\n",
      "[7800 rows x 10 columns]\n"
     ]
    }
   ],
   "source": [
    "D_L=data.loc[data['turn_type'].isin(['Left cTBS','Sham'])]\n",
    "D_L_T=D_L.loc[D_L['task_type']=='Tone']\n",
    "D_L_T_Q=D_L_T.loc[D_L_T['snr_type']=='Clear']\n",
    "print(D_L_T_Q)\n",
    "D_L_T_Q.to_csv('Exp2_D_L_T_Q_cTBS.csv')"
   ]
  },
  {
   "cell_type": "code",
   "execution_count": 5,
   "metadata": {},
   "outputs": [],
   "source": [
    "def z_link_func_D_L_T_Q(x, data=D_L_T_Q):\n",
    "    stim = (np.asarray(dmatrix('0 + C(s, [[0], [1]])',\n",
    "                              {'s': data.turn_type.loc[x.index]},return_type='dataframe'))\n",
    "    )\n",
    "    # Apply z = (1 - x) to flip them along 0.5\n",
    "    z_flip = np.subtract(stim, x.to_frame())\n",
    "    # The above inverts those values we do not want to flip,\n",
    "    # so invert them back\n",
    "    z_flip[stim == 0] *= -1\n",
    "    return z_flip"
   ]
  },
  {
   "cell_type": "markdown",
   "metadata": {},
   "source": [
    "### baseline model"
   ]
  },
  {
   "cell_type": "code",
   "execution_count": 6,
   "metadata": {},
   "outputs": [
    {
     "name": "stdout",
     "output_type": "stream",
     "text": [
      "Adding these covariates:\n",
      "['a_Intercept']\n",
      "Adding these covariates:\n",
      "['v_Intercept']\n",
      "Adding these covariates:\n",
      "['z_Intercept']\n"
     ]
    },
    {
     "name": "stderr",
     "output_type": "stream",
     "text": [
      "/home/bsliang/miniconda3/envs/bsliang_DDM_27/lib/python2.7/site-packages/scipy/optimize/optimize.py:1934: RuntimeWarning: invalid value encountered in double_scalars\n",
      "  tmp2 = (x - v) * (fx - fw)\n"
     ]
    },
    {
     "name": "stdout",
     "output_type": "stream",
     "text": [
      " [-----------------100%-----------------] 2001 of 2000 complete in 2339.0 secWARNING: Will not save custom link functions.\n",
      "WARNING: Will not save custom link functions.\n",
      "WARNING: Will not save custom link functions.\n"
     ]
    }
   ],
   "source": [
    "a_reg = {'model': \"a ~ 1\",'link_func': lambda x: x}\n",
    "v_reg = {'model': \"v ~ 1\",'link_func': lambda x: x}\n",
    "z_reg = {'model': \"z ~ 1\",'link_func': lambda x: x}\n",
    "reg_descr = [a_reg,v_reg,z_reg]\n",
    "D_L_T_Q_bsl = hddm.HDDMRegressor(D_L_T_Q, reg_descr, include='z')\n",
    "D_L_T_Q_bsl.find_starting_values()\n",
    "D_L_T_Q_bsl.sample(2000, burn=20, dbname='traces.db', db='pickle')\n",
    "D_L_T_Q_bsl.save('D_L_T_Q_bsl')"
   ]
  },
  {
   "cell_type": "markdown",
   "metadata": {},
   "source": [
    "### model 1: a only"
   ]
  },
  {
   "cell_type": "code",
   "execution_count": 7,
   "metadata": {},
   "outputs": [
    {
     "name": "stdout",
     "output_type": "stream",
     "text": [
      "Adding these covariates:\n",
      "['a_Intercept', \"a_C(turn_type, Treatment('Sham'))[T.Left cTBS]\"]\n",
      "Adding these covariates:\n",
      "['v_Intercept']\n",
      "Adding these covariates:\n",
      "['z_Intercept']\n",
      " [-----------------100%-----------------] 2001 of 2000 complete in 2848.1 secWARNING: Will not save custom link functions.\n",
      "WARNING: Will not save custom link functions.\n",
      "WARNING: Will not save custom link functions.\n"
     ]
    }
   ],
   "source": [
    "a_reg = {'model': \"a ~ 1 + C(turn_type, Treatment('Sham'))\",'link_func': lambda x: x}\n",
    "v_reg = {'model': \"v ~ 1\",'link_func': lambda x: x}\n",
    "z_reg = {'model': \"z ~ 1\",'link_func': lambda x: x}\n",
    "reg_descr = [a_reg,v_reg,z_reg]\n",
    "D_L_T_Q_am = hddm.HDDMRegressor(D_L_T_Q, reg_descr, include='z')\n",
    "D_L_T_Q_am.find_starting_values()\n",
    "D_L_T_Q_am.sample(2000, burn=20, dbname='traces.db', db='pickle')\n",
    "D_L_T_Q_am.save('D_L_T_Q_am')"
   ]
  },
  {
   "cell_type": "markdown",
   "metadata": {},
   "source": [
    "### model 2: v only"
   ]
  },
  {
   "cell_type": "code",
   "execution_count": 8,
   "metadata": {},
   "outputs": [
    {
     "name": "stdout",
     "output_type": "stream",
     "text": [
      "Adding these covariates:\n",
      "['a_Intercept']\n",
      "Adding these covariates:\n",
      "['v_Intercept', \"v_C(turn_type, Treatment('Sham'))[T.Left cTBS]\"]\n",
      "Adding these covariates:\n",
      "['z_Intercept']\n",
      " [-----------------100%-----------------] 2001 of 2000 complete in 2895.9 secWARNING: Will not save custom link functions.\n",
      "WARNING: Will not save custom link functions.\n",
      "WARNING: Will not save custom link functions.\n"
     ]
    }
   ],
   "source": [
    "a_reg = {'model': \"a ~ 1\",'link_func': lambda x: x}\n",
    "v_reg = {'model': \"v ~ 1 + C(turn_type, Treatment('Sham'))\",'link_func': lambda x: x}\n",
    "z_reg = {'model': \"z ~ 1\",'link_func': lambda x: x}\n",
    "reg_descr = [a_reg,v_reg,z_reg]\n",
    "D_L_T_Q_vm = hddm.HDDMRegressor(D_L_T_Q, reg_descr, include='z')\n",
    "D_L_T_Q_vm.find_starting_values()\n",
    "D_L_T_Q_vm.sample(2000, burn=20, dbname='traces.db', db='pickle')\n",
    "D_L_T_Q_vm.save('D_L_T_Q_am')"
   ]
  },
  {
   "cell_type": "markdown",
   "metadata": {},
   "source": [
    "### model 3: z only"
   ]
  },
  {
   "cell_type": "code",
   "execution_count": 9,
   "metadata": {},
   "outputs": [
    {
     "name": "stdout",
     "output_type": "stream",
     "text": [
      "Adding these covariates:\n",
      "['a_Intercept']\n",
      "Adding these covariates:\n",
      "['v_Intercept']\n",
      "Adding these covariates:\n",
      "['z_Intercept', \"z_C(turn_type, Treatment('Sham'))[T.Left cTBS]\"]\n",
      " [-----------------100%-----------------] 2001 of 2000 complete in 2868.8 secWARNING: Will not save custom link functions.\n",
      "WARNING: Will not save custom link functions.\n",
      "WARNING: Will not save custom link functions.\n"
     ]
    }
   ],
   "source": [
    "a_reg = {'model': \"a ~ 1\",'link_func': lambda x: x}\n",
    "v_reg = {'model': \"v ~ 1\",'link_func': lambda x: x}\n",
    "z_reg = {'model': \"z ~ 1 + C(turn_type, Treatment('Sham'))\",'link_func': lambda x: x}\n",
    "reg_descr = [a_reg,v_reg,z_reg]\n",
    "D_L_T_Q_zm = hddm.HDDMRegressor(D_L_T_Q, reg_descr, include='z')\n",
    "D_L_T_Q_zm.find_starting_values()\n",
    "D_L_T_Q_zm.sample(2000, burn=20, dbname='traces.db', db='pickle')\n",
    "D_L_T_Q_zm.save('D_L_T_Q_zm')"
   ]
  },
  {
   "cell_type": "markdown",
   "metadata": {},
   "source": [
    "### model 4: a + v"
   ]
  },
  {
   "cell_type": "code",
   "execution_count": 10,
   "metadata": {},
   "outputs": [
    {
     "name": "stdout",
     "output_type": "stream",
     "text": [
      "Adding these covariates:\n",
      "['a_Intercept', \"a_C(turn_type, Treatment('Sham'))[T.Left cTBS]\"]\n",
      "Adding these covariates:\n",
      "['v_Intercept', \"v_C(turn_type, Treatment('Sham'))[T.Left cTBS]\"]\n",
      "Adding these covariates:\n",
      "['z_Intercept']\n",
      " [-----------------100%-----------------] 2001 of 2000 complete in 3400.4 secWARNING: Will not save custom link functions.\n",
      "WARNING: Will not save custom link functions.\n",
      "WARNING: Will not save custom link functions.\n"
     ]
    }
   ],
   "source": [
    "a_reg = {'model': \"a ~ 1 + C(turn_type, Treatment('Sham'))\",'link_func': lambda x: x}\n",
    "v_reg = {'model': \"v ~ 1 + C(turn_type, Treatment('Sham'))\",'link_func': lambda x: x}\n",
    "z_reg = {'model': \"z ~ 1\",'link_func': lambda x: x}\n",
    "reg_descr = [a_reg,v_reg,z_reg]\n",
    "D_L_T_Q_avm = hddm.HDDMRegressor(D_L_T_Q, reg_descr, include='z')\n",
    "D_L_T_Q_avm.find_starting_values()\n",
    "D_L_T_Q_avm.sample(2000, burn=20, dbname='traces.db', db='pickle')\n",
    "D_L_T_Q_avm.save('D_L_T_Q_avm')"
   ]
  },
  {
   "cell_type": "markdown",
   "metadata": {},
   "source": [
    "### model 5: a + z"
   ]
  },
  {
   "cell_type": "code",
   "execution_count": 11,
   "metadata": {},
   "outputs": [
    {
     "name": "stdout",
     "output_type": "stream",
     "text": [
      "Adding these covariates:\n",
      "['a_Intercept', \"a_C(turn_type, Treatment('Sham'))[T.Left cTBS]\"]\n",
      "Adding these covariates:\n",
      "['v_Intercept']\n",
      "Adding these covariates:\n",
      "['z_Intercept', \"z_C(turn_type, Treatment('Sham'))[T.Left cTBS]\"]\n",
      " [-----------------100%-----------------] 2001 of 2000 complete in 3353.7 secWARNING: Will not save custom link functions.\n",
      "WARNING: Will not save custom link functions.\n",
      "WARNING: Will not save custom link functions.\n"
     ]
    }
   ],
   "source": [
    "a_reg = {'model': \"a ~ 1 + C(turn_type, Treatment('Sham'))\",'link_func': lambda x: x}\n",
    "v_reg = {'model': \"v ~ 1\",'link_func': lambda x: x}\n",
    "z_reg = {'model': \"z ~ 1 + C(turn_type, Treatment('Sham'))\",'link_func': lambda x: x}\n",
    "reg_descr = [a_reg,v_reg,z_reg]\n",
    "D_L_T_Q_azm = hddm.HDDMRegressor(D_L_T_Q, reg_descr, include='z')\n",
    "D_L_T_Q_azm.find_starting_values()\n",
    "D_L_T_Q_azm.sample(2000, burn=20, dbname='traces.db', db='pickle')\n",
    "D_L_T_Q_azm.save('D_L_T_Q_azm')"
   ]
  },
  {
   "cell_type": "markdown",
   "metadata": {},
   "source": [
    "### model 6: v + z"
   ]
  },
  {
   "cell_type": "code",
   "execution_count": 12,
   "metadata": {},
   "outputs": [
    {
     "name": "stdout",
     "output_type": "stream",
     "text": [
      "Adding these covariates:\n",
      "['a_Intercept']\n",
      "Adding these covariates:\n",
      "['v_Intercept', \"v_C(turn_type, Treatment('Sham'))[T.Left cTBS]\"]\n",
      "Adding these covariates:\n",
      "['z_Intercept', \"z_C(turn_type, Treatment('Sham'))[T.Left cTBS]\"]\n",
      " [-----------------100%-----------------] 2001 of 2000 complete in 3400.3 secWARNING: Will not save custom link functions.\n",
      "WARNING: Will not save custom link functions.\n",
      "WARNING: Will not save custom link functions.\n"
     ]
    }
   ],
   "source": [
    "a_reg = {'model': \"a ~ 1\",'link_func': lambda x: x}\n",
    "v_reg = {'model': \"v ~ 1 + C(turn_type, Treatment('Sham'))\",'link_func': lambda x: x}\n",
    "z_reg = {'model': \"z ~ 1 + C(turn_type, Treatment('Sham'))\",'link_func': lambda x: x}\n",
    "reg_descr = [a_reg,v_reg,z_reg]\n",
    "D_L_T_Q_vzm = hddm.HDDMRegressor(D_L_T_Q, reg_descr, include='z')\n",
    "D_L_T_Q_vzm.find_starting_values()\n",
    "D_L_T_Q_vzm.sample(2000, burn=20, dbname='traces.db', db='pickle')\n",
    "D_L_T_Q_vzm.save('D_L_T_Q_vzm')"
   ]
  },
  {
   "cell_type": "markdown",
   "metadata": {},
   "source": [
    "### model 7: a + v + z"
   ]
  },
  {
   "cell_type": "code",
   "execution_count": 13,
   "metadata": {},
   "outputs": [
    {
     "name": "stdout",
     "output_type": "stream",
     "text": [
      "Adding these covariates:\n",
      "['a_Intercept', \"a_C(turn_type, Treatment('Sham'))[T.Left cTBS]\"]\n",
      "Adding these covariates:\n",
      "['v_Intercept', \"v_C(turn_type, Treatment('Sham'))[T.Left cTBS]\"]\n",
      "Adding these covariates:\n",
      "['z_Intercept', \"z_C(turn_type, Treatment('Sham'))[T.Left cTBS]\"]\n",
      " [-----------------100%-----------------] 2001 of 2000 complete in 3906.2 secWARNING: Will not save custom link functions.\n",
      "WARNING: Will not save custom link functions.\n",
      "WARNING: Will not save custom link functions.\n"
     ]
    }
   ],
   "source": [
    "a_reg = {'model': \"a ~ 1 + C(turn_type, Treatment('Sham'))\",'link_func': lambda x: x}\n",
    "v_reg = {'model': \"v ~ 1 + C(turn_type, Treatment('Sham'))\",'link_func': lambda x: x}\n",
    "z_reg = {'model': \"z ~ 1 + C(turn_type, Treatment('Sham'))\",'link_func': lambda x: x}\n",
    "reg_descr = [a_reg,v_reg,z_reg]\n",
    "D_L_T_Q_fm = hddm.HDDMRegressor(D_L_T_Q, reg_descr, include='z')\n",
    "D_L_T_Q_fm.find_starting_values()\n",
    "D_L_T_Q_fm.sample(2000, burn=20, dbname='traces.db', db='pickle')\n",
    "D_L_T_Q_fm.save('D_L_T_Q_fm')"
   ]
  },
  {
   "cell_type": "markdown",
   "metadata": {},
   "source": [
    "### Model comparison"
   ]
  },
  {
   "cell_type": "code",
   "execution_count": 31,
   "metadata": {},
   "outputs": [
    {
     "name": "stdout",
     "output_type": "stream",
     "text": [
      "baseline model DIC: 5028.106162\n",
      "a model DIC: 5030.499755\n",
      "v model DIC: 5021.144371\n",
      "z model DIC: 5028.525353\n",
      "av model DIC: 5023.011349\n",
      "az model DIC: 5031.076807\n",
      "vz model DIC: 5024.894657\n",
      "full model DIC: 5025.501676\n"
     ]
    },
    {
     "data": {
      "image/png": "[encoded data removed]",
      "text/plain": [
       "<Figure size 130.394x63.7795 with 1 Axes>"
      ]
     },
     "metadata": {
      "needs_background": "light"
     },
     "output_type": "display_data"
    }
   ],
   "source": [
    "print(\"baseline model DIC: %f\" % D_L_T_Q_bsl.dic)\n",
    "print(\"a model DIC: %f\" % D_L_T_Q_am.dic)\n",
    "print(\"v model DIC: %f\" % D_L_T_Q_vm.dic)\n",
    "print(\"z model DIC: %f\" % D_L_T_Q_zm.dic)\n",
    "print(\"av model DIC: %f\" % D_L_T_Q_avm.dic)\n",
    "print(\"az model DIC: %f\" % D_L_T_Q_azm.dic)\n",
    "print(\"vz model DIC: %f\" % D_L_T_Q_vzm.dic)\n",
    "print(\"full model DIC: %f\" % D_L_T_Q_fm.dic)\n",
    "\n",
    "fig, ax = plt.subplots()\n",
    "\n",
    "fruits = ['baseline', 'a', 'v', 'z', 'av', 'az', 'vz','full']\n",
    "counts = [D_L_T_Q_bsl.dic, D_L_T_Q_am.dic, D_L_T_Q_vm.dic, D_L_T_Q_zm.dic,D_L_T_Q_avm.dic,D_L_T_Q_azm.dic,D_L_T_Q_vzm.dic,D_L_T_Q_fm.dic]\n",
    "\n",
    "ax.bar(fruits, counts, color=[197./255,158./255,226./255],edgecolor='black',linewidth=0.5)\n",
    "\n",
    "ax.set_ylim([5020,5032])\n",
    "ytick_plot=range(5020,5032,2)\n",
    "ytick_plot.append(5032)\n",
    "ax.set_yticks(ytick_plot)\n",
    "#ax.set_yticklabels(range(5020,5032,2))\n",
    "ax.spines['right'].set_visible(False)\n",
    "ax.spines['top'].set_visible(False)\n",
    "\n",
    "fig.set_size_inches(4.6*cm,2.25*cm)\n",
    "ax.tick_params('both',which='major',direction='in',width=0.5,length=2)\n",
    "plt.rcParams['font.size']=5\n",
    "plt.rcParams['font.family']='Arial'\n",
    "plt.savefig(D_name+'M_compare.pdf',bbox_inches = 'tight',transparent=True)\n",
    "plt.show()"
   ]
  },
  {
   "cell_type": "markdown",
   "metadata": {},
   "source": [
    "### Plotting"
   ]
  },
  {
   "cell_type": "code",
   "execution_count": 26,
   "metadata": {},
   "outputs": [
    {
     "data": {
      "image/png": "[encoded data removed]",
      "text/plain": [
       "<Figure size 127.559x70.8661 with 1 Axes>"
      ]
     },
     "metadata": {
      "needs_background": "light"
     },
     "output_type": "display_data"
    },
    {
     "name": "stdout",
     "output_type": "stream",
     "text": [
      "('P(a > Sham) = ', 0.8878787878787879)\n",
      "('P(v > Sham) = ', 0.0035353535353535356)\n",
      "('P(z > Sham) = ', 0.7611111111111111)\n"
     ]
    }
   ],
   "source": [
    "a_Intercept,a_cTBS = D_L_T_Q_fm.nodes_db.loc[[\"a_Intercept\",\"a_C(turn_type, Treatment('Sham'))[T.Left cTBS]\"], 'node']\n",
    "# hddm.analyze.plot_posterior_nodes([a_Intercept,a_cTBS])\n",
    "# plt.xlabel('boundary')\n",
    "# plt.ylabel('Posterior probability')\n",
    "# plt.title('Full model')\n",
    "\n",
    "v_Intercept,v_cTBS = D_L_T_Q_fm.nodes_db.loc[[\"v_Intercept\",\"v_C(turn_type, Treatment('Sham'))[T.Left cTBS]\"], 'node']\n",
    "# hddm.analyze.plot_posterior_nodes([v_Intercept,v_cTBS])\n",
    "# plt.xlabel('drift-rate')\n",
    "# plt.ylabel('Posterior probability')\n",
    "# plt.title('Full model')\n",
    "\n",
    "z_Intercept,z_cTBS = D_L_T_Q_fm.nodes_db.loc[[\"z_Intercept\",\"z_C(turn_type, Treatment('Sham'))[T.Left cTBS]\"], 'node']\n",
    "# hddm.analyze.plot_posterior_nodes([z_Intercept,z_cTBS])\n",
    "# plt.xlabel('starting point')\n",
    "# plt.ylabel('Posterior probability')\n",
    "# plt.title('Full model')\n",
    "\n",
    "\n",
    "fig, ax = plt.subplots()\n",
    "fig.set_size_inches(4.5*cm,2.5*cm)\n",
    "\n",
    "para_tag=['boundary(a)','drift rate(v)','starting point(z)']\n",
    "counts = [a_cTBS.trace()/(max(a_cTBS.trace())-min(a_cTBS.trace())),v_cTBS.trace()/(max(v_cTBS.trace())-min(v_cTBS.trace())),z_cTBS.trace()/(max(z_cTBS.trace())-min(z_cTBS.trace()))]\n",
    "\n",
    "ax.axhline(y = 0, color =[0.5,0.5,0.5], linestyle =\"--\", linewidth = 0.5, zorder=0)\n",
    "\n",
    "vioparts=ax.violinplot(counts)\n",
    "for pc in vioparts['bodies']:\n",
    "    pc.set_facecolor('grey')\n",
    "    pc.set_edgecolor('black')\n",
    "    pc.set_linewidth(0.5)\n",
    "    pc.set_alpha(0.8)\n",
    "vioparts['cbars'].set_color('black')\n",
    "vioparts['cbars'].set_linewidth(0.5)\n",
    "vioparts['cmaxes'].set_color('black')\n",
    "vioparts['cmaxes'].set_linewidth(0.5)\n",
    "vioparts['cmins'].set_color('black')\n",
    "vioparts['cmins'].set_linewidth(0.5)\n",
    "\n",
    "ax.set_xticks([1,2,3])\n",
    "ax.set_xticklabels(para_tag)\n",
    "#ax.set_title('Full model: Left cTBS consonant quiet')\n",
    "#ax.set_ylabel('Regression coef (normalized)')\n",
    "ax.set_ylim([-1,1.5])\n",
    "ax.spines['right'].set_visible(False)\n",
    "ax.spines['top'].set_visible(False)\n",
    "\n",
    "ax.tick_params('both',which='major',direction='in',width=0.5,length=2)\n",
    "plt.rcParams['savefig.dpi']=300\n",
    "plt.rcParams['font.size']=5\n",
    "plt.rcParams['font.family']='Arial'\n",
    "plt.savefig(D_name+'cTBS_DDMparas.pdf',bbox_inches = 'tight',transparent=True)\n",
    "plt.show()\n",
    "\n",
    "print(\"P(a > Sham) = \", (a_cTBS.trace() > 0).mean())\n",
    "print(\"P(v > Sham) = \", (v_cTBS.trace() > 0).mean())\n",
    "print(\"P(z > Sham) = \", (z_cTBS.trace() > 0).mean())"
   ]
  },
  {
   "cell_type": "markdown",
   "metadata": {},
   "source": [
    "### check full model simulation prediction accuracy"
   ]
  },
  {
   "cell_type": "markdown",
   "metadata": {},
   "source": [
    "#### fit the full model"
   ]
  },
  {
   "cell_type": "code",
   "execution_count": 16,
   "metadata": {},
   "outputs": [
    {
     "name": "stdout",
     "output_type": "stream",
     "text": [
      "Adding these covariates:\n",
      "['a_Intercept', \"a_C(turn_type, Treatment('Sham'))[T.Left cTBS]\"]\n",
      "Adding these covariates:\n",
      "['v_Intercept', \"v_C(turn_type, Treatment('Sham'))[T.Left cTBS]\"]\n",
      "Adding these covariates:\n",
      "['z_Intercept', \"z_C(turn_type, Treatment('Sham'))[T.Left cTBS]\"]\n",
      " [-----------------100%-----------------] 2001 of 2000 complete in 3905.0 sec"
     ]
    },
    {
     "data": {
      "text/plain": [
       "<pymc.MCMC.MCMC at 0x7fc6b3fe5c50>"
      ]
     },
     "execution_count": 16,
     "metadata": {},
     "output_type": "execute_result"
    }
   ],
   "source": [
    "fm_data_2=D_L_T_Q\n",
    "fm_data_2.reset_index(inplace = True, drop = True)\n",
    "a_reg = {'model': \"a ~ 1 + C(turn_type, Treatment('Sham'))\",'link_func': lambda x: x}\n",
    "v_reg = {'model': \"v ~ 1 + C(turn_type, Treatment('Sham'))\",'link_func': lambda x: x}\n",
    "z_reg = {'model': \"z ~ 1 + C(turn_type, Treatment('Sham'))\",'link_func': lambda x: x}\n",
    "reg_descr = [a_reg,v_reg,z_reg]\n",
    "fm_2 = hddm.HDDMRegressor(fm_data_2, reg_descr, include='z')\n",
    "fm_2.find_starting_values()\n",
    "fm_2.sample(2000, burn=20, dbname='traces.db', db='pickle')"
   ]
  },
  {
   "cell_type": "markdown",
   "metadata": {},
   "source": [
    "#### plot the full model (compared with the original full model)"
   ]
  },
  {
   "cell_type": "code",
   "execution_count": 17,
   "metadata": {},
   "outputs": [
    {
     "data": {
      "image/png": "[encoded data removed]",
      "text/plain": [
       "<Figure size 288x288 with 1 Axes>"
      ]
     },
     "metadata": {
      "needs_background": "light"
     },
     "output_type": "display_data"
    },
    {
     "name": "stdout",
     "output_type": "stream",
     "text": [
      "('P(a > Sham) = ', 0.8555555555555555)\n",
      "('P(v > Sham) = ', 0.00202020202020202)\n",
      "('P(z > Sham) = ', 0.7343434343434343)\n"
     ]
    }
   ],
   "source": [
    "a_Intercept,a_cTBS = fm_2.nodes_db.loc[[\"a_Intercept\",\"a_C(turn_type, Treatment('Sham'))[T.Left cTBS]\"], 'node']\n",
    "v_Intercept,v_cTBS = fm_2.nodes_db.loc[[\"v_Intercept\",\"v_C(turn_type, Treatment('Sham'))[T.Left cTBS]\"], 'node']\n",
    "z_Intercept,z_cTBS = fm_2.nodes_db.loc[[\"z_Intercept\",\"z_C(turn_type, Treatment('Sham'))[T.Left cTBS]\"], 'node']\n",
    "\n",
    "fig, ax = plt.subplots()\n",
    "fig.set_size_inches(4,4)\n",
    "\n",
    "para_tag=['boundary(a)','drift rate(v)','starting point(z)']\n",
    "counts = [a_cTBS.trace()/(max(a_cTBS.trace())-min(a_cTBS.trace())),v_cTBS.trace()/(max(v_cTBS.trace())-min(v_cTBS.trace())),z_cTBS.trace()/(max(z_cTBS.trace())-min(z_cTBS.trace()))]\n",
    "\n",
    "ax.axhline(y = 0, color =\"green\", linestyle =\"--\")\n",
    "ax.violinplot(counts)\n",
    "ax.set_xticks([1,2,3])\n",
    "ax.set_xticklabels(para_tag)\n",
    "ax.set_title('Full model: Left cTBS consonant quiet')\n",
    "ax.set_ylabel('Regression coef (normalized)')\n",
    "ax.set_ylim([-1.8,1.8])\n",
    "ax.spines['right'].set_visible(False)\n",
    "ax.spines['top'].set_visible(False)\n",
    "\n",
    "plt.show()\n",
    "\n",
    "print(\"P(a > Sham) = \", (a_cTBS.trace() > 0).mean())\n",
    "print(\"P(v > Sham) = \", (v_cTBS.trace() > 0).mean())\n",
    "print(\"P(z > Sham) = \", (z_cTBS.trace() > 0).mean())"
   ]
  },
  {
   "cell_type": "markdown",
   "metadata": {},
   "source": [
    "#### predict data from simulated data derived from full model"
   ]
  },
  {
   "cell_type": "code",
   "execution_count": 18,
   "metadata": {},
   "outputs": [
    {
     "name": "stdout",
     "output_type": "stream",
     "text": [
      " [-------------------112%-------------------] 28 of 25 complete in 23297.9 sec"
     ]
    },
    {
     "data": {
      "text/html": [
       "<div>\n",
       "<style scoped>\n",
       "    .dataframe tbody tr th:only-of-type {\n",
       "        vertical-align: middle;\n",
       "    }\n",
       "\n",
       "    .dataframe tbody tr th {\n",
       "        vertical-align: top;\n",
       "    }\n",
       "\n",
       "    .dataframe thead th {\n",
       "        text-align: right;\n",
       "    }\n",
       "</style>\n",
       "<table border=\"1\" class=\"dataframe\">\n",
       "  <thead>\n",
       "    <tr style=\"text-align: right;\">\n",
       "      <th></th>\n",
       "      <th>observed</th>\n",
       "      <th>mean</th>\n",
       "      <th>std</th>\n",
       "      <th>SEM</th>\n",
       "      <th>MSE</th>\n",
       "      <th>credible</th>\n",
       "      <th>quantile</th>\n",
       "      <th>mahalanobis</th>\n",
       "    </tr>\n",
       "    <tr>\n",
       "      <th>stat</th>\n",
       "      <th></th>\n",
       "      <th></th>\n",
       "      <th></th>\n",
       "      <th></th>\n",
       "      <th></th>\n",
       "      <th></th>\n",
       "      <th></th>\n",
       "      <th></th>\n",
       "    </tr>\n",
       "  </thead>\n",
       "  <tbody>\n",
       "    <tr>\n",
       "      <th>accuracy</th>\n",
       "      <td>0.602821</td>\n",
       "      <td>0.603572</td>\n",
       "      <td>0.076117</td>\n",
       "      <td>5.651975e-07</td>\n",
       "      <td>0.005794</td>\n",
       "      <td>True</td>\n",
       "      <td>48.720001</td>\n",
       "      <td>0.009877</td>\n",
       "    </tr>\n",
       "    <tr>\n",
       "      <th>mean_ub</th>\n",
       "      <td>0.655169</td>\n",
       "      <td>0.669656</td>\n",
       "      <td>0.098574</td>\n",
       "      <td>2.098591e-04</td>\n",
       "      <td>0.009927</td>\n",
       "      <td>True</td>\n",
       "      <td>51.448002</td>\n",
       "      <td>0.146960</td>\n",
       "    </tr>\n",
       "    <tr>\n",
       "      <th>std_ub</th>\n",
       "      <td>0.254718</td>\n",
       "      <td>0.229675</td>\n",
       "      <td>0.056937</td>\n",
       "      <td>6.271301e-04</td>\n",
       "      <td>0.003869</td>\n",
       "      <td>True</td>\n",
       "      <td>73.328003</td>\n",
       "      <td>0.439827</td>\n",
       "    </tr>\n",
       "    <tr>\n",
       "      <th>10q_ub</th>\n",
       "      <td>0.438023</td>\n",
       "      <td>0.465725</td>\n",
       "      <td>0.074434</td>\n",
       "      <td>7.673763e-04</td>\n",
       "      <td>0.006308</td>\n",
       "      <td>True</td>\n",
       "      <td>38.480000</td>\n",
       "      <td>0.372165</td>\n",
       "    </tr>\n",
       "    <tr>\n",
       "      <th>30q_ub</th>\n",
       "      <td>0.532931</td>\n",
       "      <td>0.523769</td>\n",
       "      <td>0.080046</td>\n",
       "      <td>8.394152e-05</td>\n",
       "      <td>0.006491</td>\n",
       "      <td>True</td>\n",
       "      <td>56.056000</td>\n",
       "      <td>0.114458</td>\n",
       "    </tr>\n",
       "    <tr>\n",
       "      <th>50q_ub</th>\n",
       "      <td>0.609510</td>\n",
       "      <td>0.598736</td>\n",
       "      <td>0.089517</td>\n",
       "      <td>1.160830e-04</td>\n",
       "      <td>0.008129</td>\n",
       "      <td>True</td>\n",
       "      <td>58.608002</td>\n",
       "      <td>0.120359</td>\n",
       "    </tr>\n",
       "    <tr>\n",
       "      <th>70q_ub</th>\n",
       "      <td>0.699052</td>\n",
       "      <td>0.714962</td>\n",
       "      <td>0.108146</td>\n",
       "      <td>2.531238e-04</td>\n",
       "      <td>0.011949</td>\n",
       "      <td>True</td>\n",
       "      <td>52.408001</td>\n",
       "      <td>0.147115</td>\n",
       "    </tr>\n",
       "    <tr>\n",
       "      <th>90q_ub</th>\n",
       "      <td>0.896312</td>\n",
       "      <td>0.966409</td>\n",
       "      <td>0.158597</td>\n",
       "      <td>4.913637e-03</td>\n",
       "      <td>0.030067</td>\n",
       "      <td>True</td>\n",
       "      <td>39.144001</td>\n",
       "      <td>0.441984</td>\n",
       "    </tr>\n",
       "    <tr>\n",
       "      <th>mean_lb</th>\n",
       "      <td>-0.693470</td>\n",
       "      <td>-0.703978</td>\n",
       "      <td>0.101124</td>\n",
       "      <td>1.104152e-04</td>\n",
       "      <td>0.010337</td>\n",
       "      <td>True</td>\n",
       "      <td>47.911999</td>\n",
       "      <td>0.103910</td>\n",
       "    </tr>\n",
       "    <tr>\n",
       "      <th>std_lb</th>\n",
       "      <td>0.248268</td>\n",
       "      <td>0.234907</td>\n",
       "      <td>0.060584</td>\n",
       "      <td>1.785241e-04</td>\n",
       "      <td>0.003849</td>\n",
       "      <td>True</td>\n",
       "      <td>65.912003</td>\n",
       "      <td>0.220542</td>\n",
       "    </tr>\n",
       "    <tr>\n",
       "      <th>10q_lb</th>\n",
       "      <td>0.490738</td>\n",
       "      <td>0.487486</td>\n",
       "      <td>0.073911</td>\n",
       "      <td>1.057444e-05</td>\n",
       "      <td>0.005473</td>\n",
       "      <td>True</td>\n",
       "      <td>48.271999</td>\n",
       "      <td>0.043997</td>\n",
       "    </tr>\n",
       "    <tr>\n",
       "      <th>30q_lb</th>\n",
       "      <td>0.574092</td>\n",
       "      <td>0.555524</td>\n",
       "      <td>0.080462</td>\n",
       "      <td>3.447739e-04</td>\n",
       "      <td>0.006819</td>\n",
       "      <td>True</td>\n",
       "      <td>61.424000</td>\n",
       "      <td>0.230768</td>\n",
       "    </tr>\n",
       "    <tr>\n",
       "      <th>50q_lb</th>\n",
       "      <td>0.639736</td>\n",
       "      <td>0.636673</td>\n",
       "      <td>0.091584</td>\n",
       "      <td>9.384888e-06</td>\n",
       "      <td>0.008397</td>\n",
       "      <td>True</td>\n",
       "      <td>55.792000</td>\n",
       "      <td>0.033450</td>\n",
       "    </tr>\n",
       "    <tr>\n",
       "      <th>70q_lb</th>\n",
       "      <td>0.723359</td>\n",
       "      <td>0.755588</td>\n",
       "      <td>0.112156</td>\n",
       "      <td>1.038690e-03</td>\n",
       "      <td>0.013618</td>\n",
       "      <td>True</td>\n",
       "      <td>43.335999</td>\n",
       "      <td>0.287357</td>\n",
       "    </tr>\n",
       "    <tr>\n",
       "      <th>90q_lb</th>\n",
       "      <td>0.953590</td>\n",
       "      <td>1.006039</td>\n",
       "      <td>0.166399</td>\n",
       "      <td>2.750831e-03</td>\n",
       "      <td>0.030439</td>\n",
       "      <td>True</td>\n",
       "      <td>44.032001</td>\n",
       "      <td>0.315197</td>\n",
       "    </tr>\n",
       "  </tbody>\n",
       "</table>\n",
       "</div>"
      ],
      "text/plain": [
       "          observed      mean       std           SEM       MSE credible  \\\n",
       "stat                                                                      \n",
       "accuracy  0.602821  0.603572  0.076117  5.651975e-07  0.005794     True   \n",
       "mean_ub   0.655169  0.669656  0.098574  2.098591e-04  0.009927     True   \n",
       "std_ub    0.254718  0.229675  0.056937  6.271301e-04  0.003869     True   \n",
       "10q_ub    0.438023  0.465725  0.074434  7.673763e-04  0.006308     True   \n",
       "30q_ub    0.532931  0.523769  0.080046  8.394152e-05  0.006491     True   \n",
       "50q_ub    0.609510  0.598736  0.089517  1.160830e-04  0.008129     True   \n",
       "70q_ub    0.699052  0.714962  0.108146  2.531238e-04  0.011949     True   \n",
       "90q_ub    0.896312  0.966409  0.158597  4.913637e-03  0.030067     True   \n",
       "mean_lb  -0.693470 -0.703978  0.101124  1.104152e-04  0.010337     True   \n",
       "std_lb    0.248268  0.234907  0.060584  1.785241e-04  0.003849     True   \n",
       "10q_lb    0.490738  0.487486  0.073911  1.057444e-05  0.005473     True   \n",
       "30q_lb    0.574092  0.555524  0.080462  3.447739e-04  0.006819     True   \n",
       "50q_lb    0.639736  0.636673  0.091584  9.384888e-06  0.008397     True   \n",
       "70q_lb    0.723359  0.755588  0.112156  1.038690e-03  0.013618     True   \n",
       "90q_lb    0.953590  1.006039  0.166399  2.750831e-03  0.030439     True   \n",
       "\n",
       "           quantile  mahalanobis  \n",
       "stat                              \n",
       "accuracy  48.720001     0.009877  \n",
       "mean_ub   51.448002     0.146960  \n",
       "std_ub    73.328003     0.439827  \n",
       "10q_ub    38.480000     0.372165  \n",
       "30q_ub    56.056000     0.114458  \n",
       "50q_ub    58.608002     0.120359  \n",
       "70q_ub    52.408001     0.147115  \n",
       "90q_ub    39.144001     0.441984  \n",
       "mean_lb   47.911999     0.103910  \n",
       "std_lb    65.912003     0.220542  \n",
       "10q_lb    48.271999     0.043997  \n",
       "30q_lb    61.424000     0.230768  \n",
       "50q_lb    55.792000     0.033450  \n",
       "70q_lb    43.335999     0.287357  \n",
       "90q_lb    44.032001     0.315197  "
      ]
     },
     "execution_count": 18,
     "metadata": {},
     "output_type": "execute_result"
    }
   ],
   "source": [
    "fm_data_2_sim = hddm.utils.post_pred_gen(fm_2)\n",
    "hddm.utils.post_pred_stats(fm_data_2, fm_data_2_sim)"
   ]
  }
 ],
 "metadata": {
  "kernelspec": {
   "display_name": "Python 2.7.18 ('bsliang_DDM_27': conda)",
   "language": "python",
   "name": "python3"
  },
  "language_info": {
   "codemirror_mode": {
    "name": "ipython",
    "version": 2
   },
   "file_extension": ".py",
   "mimetype": "text/x-python",
   "name": "python",
   "nbconvert_exporter": "python",
   "pygments_lexer": "ipython2",
   "version": "2.7.18"
  },
  "orig_nbformat": 4,
  "vscode": {
   "interpreter": {
    "hash": "800a09db568ebe80aacfc1bc086e45a31a7cff3ccaf522d8b640d0dfbe2b8801"
   }
  }
 },
 "nbformat": 4,
 "nbformat_minor": 2
}
