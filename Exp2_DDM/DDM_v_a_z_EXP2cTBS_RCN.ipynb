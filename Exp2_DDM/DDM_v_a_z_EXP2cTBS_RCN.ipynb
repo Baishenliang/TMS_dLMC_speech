{
 "cells": [
  {
   "cell_type": "markdown",
   "metadata": {},
   "source": [
    "![这是图片](星云2.jpg \"Magic Gardens\")<br><br>\n",
    "事情是这样的<br>\n",
    "我本来已经<br>\n",
    "打算完结这个分析了<br> \n",
    "但杜老师，居然<br>\n",
    "竟然，也是不出意料<br>\n",
    "叫我加一个参数<br>"
   ]
  },
  {
   "cell_type": "markdown",
   "metadata": {},
   "source": [
    "# TBS"
   ]
  },
  {
   "cell_type": "markdown",
   "metadata": {},
   "source": [
    "## preparing"
   ]
  },
  {
   "cell_type": "code",
   "execution_count": 19,
   "metadata": {},
   "outputs": [],
   "source": [
    "import pandas as pd\n",
    "import matplotlib.pyplot as plt\n",
    "import hddm\n",
    "import numpy as np\n",
    "import pickle\n",
    "from patsy import dmatrices, dmatrix, demo_data\n",
    "cm = 1/2.54"
   ]
  },
  {
   "cell_type": "markdown",
   "metadata": {},
   "source": [
    "## loading data"
   ]
  },
  {
   "cell_type": "code",
   "execution_count": 2,
   "metadata": {},
   "outputs": [
    {
     "data": {
      "text/html": [
       "<div>\n",
       "<style scoped>\n",
       "    .dataframe tbody tr th:only-of-type {\n",
       "        vertical-align: middle;\n",
       "    }\n",
       "\n",
       "    .dataframe tbody tr th {\n",
       "        vertical-align: top;\n",
       "    }\n",
       "\n",
       "    .dataframe thead th {\n",
       "        text-align: right;\n",
       "    }\n",
       "</style>\n",
       "<table border=\"1\" class=\"dataframe\">\n",
       "  <thead>\n",
       "    <tr style=\"text-align: right;\">\n",
       "      <th></th>\n",
       "      <th>subj_idx</th>\n",
       "      <th>group_idx</th>\n",
       "      <th>turn_type</th>\n",
       "      <th>task_type</th>\n",
       "      <th>snr_type</th>\n",
       "      <th>trial_num</th>\n",
       "      <th>step_att</th>\n",
       "      <th>response</th>\n",
       "      <th>rt</th>\n",
       "      <th>step_unatnd</th>\n",
       "    </tr>\n",
       "  </thead>\n",
       "  <tbody>\n",
       "    <tr>\n",
       "      <th>0</th>\n",
       "      <td>55</td>\n",
       "      <td>Larynx</td>\n",
       "      <td>Left iTBS</td>\n",
       "      <td>Tone</td>\n",
       "      <td>Clear</td>\n",
       "      <td>1</td>\n",
       "      <td>3</td>\n",
       "      <td>1</td>\n",
       "      <td>1.083317</td>\n",
       "      <td>1</td>\n",
       "    </tr>\n",
       "    <tr>\n",
       "      <th>1</th>\n",
       "      <td>55</td>\n",
       "      <td>Larynx</td>\n",
       "      <td>Left iTBS</td>\n",
       "      <td>Tone</td>\n",
       "      <td>Clear</td>\n",
       "      <td>2</td>\n",
       "      <td>4</td>\n",
       "      <td>1</td>\n",
       "      <td>0.744397</td>\n",
       "      <td>1</td>\n",
       "    </tr>\n",
       "    <tr>\n",
       "      <th>2</th>\n",
       "      <td>55</td>\n",
       "      <td>Larynx</td>\n",
       "      <td>Left iTBS</td>\n",
       "      <td>Tone</td>\n",
       "      <td>Clear</td>\n",
       "      <td>3</td>\n",
       "      <td>4</td>\n",
       "      <td>1</td>\n",
       "      <td>0.732525</td>\n",
       "      <td>1</td>\n",
       "    </tr>\n",
       "    <tr>\n",
       "      <th>3</th>\n",
       "      <td>55</td>\n",
       "      <td>Larynx</td>\n",
       "      <td>Left iTBS</td>\n",
       "      <td>Tone</td>\n",
       "      <td>Clear</td>\n",
       "      <td>4</td>\n",
       "      <td>5</td>\n",
       "      <td>1</td>\n",
       "      <td>0.800199</td>\n",
       "      <td>1</td>\n",
       "    </tr>\n",
       "    <tr>\n",
       "      <th>4</th>\n",
       "      <td>55</td>\n",
       "      <td>Larynx</td>\n",
       "      <td>Left iTBS</td>\n",
       "      <td>Tone</td>\n",
       "      <td>Clear</td>\n",
       "      <td>5</td>\n",
       "      <td>4</td>\n",
       "      <td>1</td>\n",
       "      <td>0.753649</td>\n",
       "      <td>1</td>\n",
       "    </tr>\n",
       "    <tr>\n",
       "      <th>5</th>\n",
       "      <td>55</td>\n",
       "      <td>Larynx</td>\n",
       "      <td>Left iTBS</td>\n",
       "      <td>Tone</td>\n",
       "      <td>Clear</td>\n",
       "      <td>6</td>\n",
       "      <td>4</td>\n",
       "      <td>1</td>\n",
       "      <td>0.544652</td>\n",
       "      <td>1</td>\n",
       "    </tr>\n",
       "    <tr>\n",
       "      <th>6</th>\n",
       "      <td>55</td>\n",
       "      <td>Larynx</td>\n",
       "      <td>Left iTBS</td>\n",
       "      <td>Tone</td>\n",
       "      <td>Clear</td>\n",
       "      <td>7</td>\n",
       "      <td>5</td>\n",
       "      <td>1</td>\n",
       "      <td>0.621313</td>\n",
       "      <td>1</td>\n",
       "    </tr>\n",
       "    <tr>\n",
       "      <th>7</th>\n",
       "      <td>55</td>\n",
       "      <td>Larynx</td>\n",
       "      <td>Left iTBS</td>\n",
       "      <td>Tone</td>\n",
       "      <td>Clear</td>\n",
       "      <td>8</td>\n",
       "      <td>5</td>\n",
       "      <td>1</td>\n",
       "      <td>0.580819</td>\n",
       "      <td>1</td>\n",
       "    </tr>\n",
       "    <tr>\n",
       "      <th>8</th>\n",
       "      <td>55</td>\n",
       "      <td>Larynx</td>\n",
       "      <td>Left iTBS</td>\n",
       "      <td>Tone</td>\n",
       "      <td>Clear</td>\n",
       "      <td>9</td>\n",
       "      <td>1</td>\n",
       "      <td>0</td>\n",
       "      <td>-0.496794</td>\n",
       "      <td>1</td>\n",
       "    </tr>\n",
       "    <tr>\n",
       "      <th>9</th>\n",
       "      <td>55</td>\n",
       "      <td>Larynx</td>\n",
       "      <td>Left iTBS</td>\n",
       "      <td>Tone</td>\n",
       "      <td>Clear</td>\n",
       "      <td>10</td>\n",
       "      <td>3</td>\n",
       "      <td>1</td>\n",
       "      <td>0.863869</td>\n",
       "      <td>1</td>\n",
       "    </tr>\n",
       "  </tbody>\n",
       "</table>\n",
       "</div>"
      ],
      "text/plain": [
       "   subj_idx group_idx  turn_type task_type snr_type  trial_num  step_att  \\\n",
       "0        55    Larynx  Left iTBS      Tone    Clear          1         3   \n",
       "1        55    Larynx  Left iTBS      Tone    Clear          2         4   \n",
       "2        55    Larynx  Left iTBS      Tone    Clear          3         4   \n",
       "3        55    Larynx  Left iTBS      Tone    Clear          4         5   \n",
       "4        55    Larynx  Left iTBS      Tone    Clear          5         4   \n",
       "5        55    Larynx  Left iTBS      Tone    Clear          6         4   \n",
       "6        55    Larynx  Left iTBS      Tone    Clear          7         5   \n",
       "7        55    Larynx  Left iTBS      Tone    Clear          8         5   \n",
       "8        55    Larynx  Left iTBS      Tone    Clear          9         1   \n",
       "9        55    Larynx  Left iTBS      Tone    Clear         10         3   \n",
       "\n",
       "   response        rt  step_unatnd  \n",
       "0         1  1.083317            1  \n",
       "1         1  0.744397            1  \n",
       "2         1  0.732525            1  \n",
       "3         1  0.800199            1  \n",
       "4         1  0.753649            1  \n",
       "5         1  0.544652            1  \n",
       "6         1  0.621313            1  \n",
       "7         1  0.580819            1  \n",
       "8         0 -0.496794            1  \n",
       "9         1  0.863869            1  "
      ]
     },
     "execution_count": 2,
     "metadata": {},
     "output_type": "execute_result"
    }
   ],
   "source": [
    "data = hddm.load_csv('exp2_DDM.csv')\n",
    "data = hddm.utils.flip_errors(data)\n",
    "data.head(10)"
   ]
  },
  {
   "cell_type": "markdown",
   "metadata": {},
   "source": [
    "## Right stim, consonant, noise"
   ]
  },
  {
   "cell_type": "markdown",
   "metadata": {},
   "source": [
    "### RT distribution"
   ]
  },
  {
   "cell_type": "code",
   "execution_count": 29,
   "metadata": {},
   "outputs": [
    {
     "name": "stderr",
     "output_type": "stream",
     "text": [
      "/home/bsliang/miniconda3/envs/bsliang_DDM_27/lib/python2.7/site-packages/ipykernel_launcher.py:12: FutureWarning: The signature of `Series.to_csv` was aligned to that of `DataFrame.to_csv`, and argument 'header' will change its default value from False to True: please pass an explicit value to suppress this warning.\n",
      "  if sys.path[0] == '':\n",
      "/home/bsliang/miniconda3/envs/bsliang_DDM_27/lib/python2.7/site-packages/ipykernel_launcher.py:13: FutureWarning: The signature of `Series.to_csv` was aligned to that of `DataFrame.to_csv`, and argument 'header' will change its default value from False to True: please pass an explicit value to suppress this warning.\n",
      "  del sys.path[0]\n"
     ]
    },
    {
     "data": {
      "image/png": "[encoded data removed]",
      "text/plain": [
       "<Figure size 127.559x70.8661 with 1 Axes>"
      ]
     },
     "metadata": {
      "needs_background": "light"
     },
     "output_type": "display_data"
    },
    {
     "data": {
      "image/png": "[encoded data removed]",
      "text/plain": [
       "<Figure size 34.0157x56.6929 with 1 Axes>"
      ]
     },
     "metadata": {
      "needs_background": "light"
     },
     "output_type": "display_data"
    }
   ],
   "source": [
    "data_unflip = hddm.load_csv('exp2_DDM.csv')\n",
    "\n",
    "D_R=data_unflip.loc[data_unflip['turn_type'].isin(['Right cTBS','Sham'])]\n",
    "D_R_C=D_R.loc[D_R['task_type']=='Cons']\n",
    "D_R_C_N=D_R_C.loc[D_R_C['snr_type']=='Noise']\n",
    "D=D_R_C_N\n",
    "D_name='D_R_C_N_'\n",
    "\n",
    "D_TMS=D.loc[D['turn_type'].isin(['Right cTBS'])]\n",
    "D_Sham=D.loc[D['turn_type'].isin(['Sham'])]\n",
    "\n",
    "D_TMS.rt.to_csv(D_name+'TBS_RT.csv')\n",
    "D_Sham.rt.to_csv(D_name+'Sham_RT.csv')\n",
    "\n",
    "mean_TMS=D_TMS.rt.mean()\n",
    "se_TMS=np.std(D_TMS.rt, ddof=1) / np.sqrt(len(D_TMS.rt))\n",
    "mean_Sham=D_Sham.rt.mean()\n",
    "se_Sham=np.std(D_Sham.rt, ddof=1) / np.sqrt(len(D_Sham.rt))\n",
    "\n",
    "plt.rcParams['savefig.dpi']=300\n",
    "plt.rcParams['font.size']=5\n",
    "plt.rcParams['axes.linewidth']=0.5\n",
    "plt.rcParams['font.family']='Arial'\n",
    "\n",
    "fig, ax = plt.subplots()\n",
    "fig.set_size_inches(4.5*cm,2.5*cm)\n",
    "\n",
    "nbins=50\n",
    "dens_TMS = ax.hist(D_TMS.rt,bins=nbins, histtype='step',density=False,color=[0,0,0],linewidth=1,alpha=0.5)\n",
    "dens_Sham = ax.hist(D_Sham.rt,bins=nbins, histtype='step',density=False,color=[0.5,0.5,0.5],linewidth=1,alpha=0.5)\n",
    "\n",
    "\n",
    "for ibin in range(0,nbins-1):\n",
    "    if dens_TMS[1][ibin] > mean_TMS:\n",
    "        dens_TMS_mean = dens_TMS[0][ibin-1]\n",
    "        break\n",
    "\n",
    "for ibin in range(0,nbins-1):\n",
    "    if dens_Sham[1][ibin] > mean_Sham:\n",
    "        dens_Sham_mean = dens_Sham[0][ibin-1]\n",
    "        break\n",
    "\n",
    "#ax.set_title('RT distributions')\n",
    "#ax.set_ylabel('Number of trials')\n",
    "#ax.set_xlabel('Reaction time (s)')\n",
    "ax.set_xlim([0,2])\n",
    "ax.set_xticks(np.linspace(0,2,5))\n",
    "ax.set_ylim([0,900])\n",
    "ax.set_yticks([200,400,600,800,900])\n",
    "ax.set_yticklabels([200,400,600,800])\n",
    "ax.spines['right'].set_visible(False)\n",
    "ax.spines['top'].set_visible(False)\n",
    "ax.tick_params('both',which='major',direction='in',width=0.5,length=2)\n",
    "\n",
    "ax.axvline(x = mean_TMS, ymin=0,ymax=dens_TMS_mean/900,color =[0,0,0], linestyle =\"--\",linewidth=1,alpha=0.5)\n",
    "ax.axvline(x = mean_Sham, ymin=0,ymax=dens_Sham_mean/900,color =[0.5,0.5,0.5], linestyle =\"--\",linewidth=1,alpha=0.5)\n",
    "#ax.legend('upper right')\n",
    "\n",
    "plt.savefig(D_name+'cTBS_RT_dist.pdf',bbox_inches = 'tight',transparent=True)\n",
    "plt.show()\n",
    "\n",
    "fig, ax = plt.subplots()\n",
    "\n",
    "cat = ['cTBS','Sham']\n",
    "cat_mean = [mean_TMS,mean_Sham]\n",
    "\n",
    "axbar=ax.bar(cat, cat_mean,yerr=[se_TMS,se_Sham],color=[[0,0,0],[0.5,0.5,0.5]],alpha=0.5)\n",
    "axbar.errorbar.lines[2][0].set_linewidth(0.5)\n",
    "\n",
    "ax.set_ylabel('RT (s)',fontsize=5)\n",
    "#ax.set_title('cTBS: Right stimulation tone noise')\n",
    "#ax.set_xticks([])\n",
    "ax.set_ylim([0.65,0.85])\n",
    "ax.set_yticks(np.linspace(0.65,0.85,6))\n",
    "ax.spines['right'].set_visible(False)\n",
    "ax.spines['top'].set_visible(False)\n",
    "ax.tick_params('both',which='major',direction='in',bottom=False,width=0.5,length=1,labelsize=4)\n",
    "#ax.yaxis.tick_right()\n",
    "\n",
    "fig.set_size_inches(1.2*cm,2*cm)\n",
    "\n",
    "plt.savefig(D_name+'cTBS_RT.pdf',bbox_inches = 'tight',transparent=True)\n",
    "plt.show()"
   ]
  },
  {
   "cell_type": "markdown",
   "metadata": {},
   "source": [
    "### preparing data"
   ]
  },
  {
   "cell_type": "code",
   "execution_count": 4,
   "metadata": {},
   "outputs": [
    {
     "name": "stdout",
     "output_type": "stream",
     "text": [
      "       subj_idx group_idx   turn_type task_type snr_type  trial_num  step_att  \\\n",
      "2340         55    Larynx  Right cTBS      Cons    Noise          1         4   \n",
      "2341         55    Larynx  Right cTBS      Cons    Noise          2         3   \n",
      "2342         55    Larynx  Right cTBS      Cons    Noise          3         4   \n",
      "2343         55    Larynx  Right cTBS      Cons    Noise          4         5   \n",
      "2344         55    Larynx  Right cTBS      Cons    Noise          5         2   \n",
      "2345         55    Larynx  Right cTBS      Cons    Noise          6         1   \n",
      "2346         55    Larynx  Right cTBS      Cons    Noise          7         2   \n",
      "2347         55    Larynx  Right cTBS      Cons    Noise          8         4   \n",
      "2348         55    Larynx  Right cTBS      Cons    Noise          9         1   \n",
      "2349         55    Larynx  Right cTBS      Cons    Noise         10         3   \n",
      "2350         55    Larynx  Right cTBS      Cons    Noise         11         4   \n",
      "2351         55    Larynx  Right cTBS      Cons    Noise         12         1   \n",
      "2352         55    Larynx  Right cTBS      Cons    Noise         13         5   \n",
      "2353         55    Larynx  Right cTBS      Cons    Noise         14         3   \n",
      "2354         55    Larynx  Right cTBS      Cons    Noise         15         3   \n",
      "2355         55    Larynx  Right cTBS      Cons    Noise         16         5   \n",
      "2356         55    Larynx  Right cTBS      Cons    Noise         17         2   \n",
      "2357         55    Larynx  Right cTBS      Cons    Noise         18         2   \n",
      "2358         55    Larynx  Right cTBS      Cons    Noise         19         3   \n",
      "2359         55    Larynx  Right cTBS      Cons    Noise         20         4   \n",
      "2360         55    Larynx  Right cTBS      Cons    Noise         21         3   \n",
      "2361         55    Larynx  Right cTBS      Cons    Noise         22         4   \n",
      "2362         55    Larynx  Right cTBS      Cons    Noise         23         1   \n",
      "2363         55    Larynx  Right cTBS      Cons    Noise         24         3   \n",
      "2364         55    Larynx  Right cTBS      Cons    Noise         25         2   \n",
      "2365         55    Larynx  Right cTBS      Cons    Noise         26         3   \n",
      "2366         55    Larynx  Right cTBS      Cons    Noise         27         4   \n",
      "2367         55    Larynx  Right cTBS      Cons    Noise         28         5   \n",
      "2368         55    Larynx  Right cTBS      Cons    Noise         29         1   \n",
      "2369         55    Larynx  Right cTBS      Cons    Noise         30         2   \n",
      "...         ...       ...         ...       ...      ...        ...       ...   \n",
      "78594       253    Larynx        Sham      Cons    Noise        127         4   \n",
      "78595       253    Larynx        Sham      Cons    Noise        128         1   \n",
      "78596       253    Larynx        Sham      Cons    Noise        129         3   \n",
      "78597       253    Larynx        Sham      Cons    Noise        130         5   \n",
      "78598       253    Larynx        Sham      Cons    Noise        131         4   \n",
      "78599       253    Larynx        Sham      Cons    Noise        132         2   \n",
      "78600       253    Larynx        Sham      Cons    Noise        133         3   \n",
      "78601       253    Larynx        Sham      Cons    Noise        134         2   \n",
      "78602       253    Larynx        Sham      Cons    Noise        135         5   \n",
      "78603       253    Larynx        Sham      Cons    Noise        136         3   \n",
      "78604       253    Larynx        Sham      Cons    Noise        137         3   \n",
      "78605       253    Larynx        Sham      Cons    Noise        138         2   \n",
      "78606       253    Larynx        Sham      Cons    Noise        139         1   \n",
      "78607       253    Larynx        Sham      Cons    Noise        140         4   \n",
      "78608       253    Larynx        Sham      Cons    Noise        141         1   \n",
      "78609       253    Larynx        Sham      Cons    Noise        142         3   \n",
      "78610       253    Larynx        Sham      Cons    Noise        143         4   \n",
      "78611       253    Larynx        Sham      Cons    Noise        144         4   \n",
      "78612       253    Larynx        Sham      Cons    Noise        145         1   \n",
      "78613       253    Larynx        Sham      Cons    Noise        146         2   \n",
      "78614       253    Larynx        Sham      Cons    Noise        147         3   \n",
      "78615       253    Larynx        Sham      Cons    Noise        148         5   \n",
      "78616       253    Larynx        Sham      Cons    Noise        149         4   \n",
      "78617       253    Larynx        Sham      Cons    Noise        150         5   \n",
      "78618       253    Larynx        Sham      Cons    Noise        151         3   \n",
      "78619       253    Larynx        Sham      Cons    Noise        152         2   \n",
      "78620       253    Larynx        Sham      Cons    Noise        153         3   \n",
      "78621       253    Larynx        Sham      Cons    Noise        154         3   \n",
      "78622       253    Larynx        Sham      Cons    Noise        155         1   \n",
      "78623       253    Larynx        Sham      Cons    Noise        156         1   \n",
      "\n",
      "       response        rt  step_unatnd  \n",
      "2340          1  1.567203            1  \n",
      "2341          1  0.865902            1  \n",
      "2342          0 -0.807406            1  \n",
      "2343          0 -0.645324            1  \n",
      "2344          1  0.850723            1  \n",
      "2345          0 -0.731252            1  \n",
      "2346          1  0.772891            1  \n",
      "2347          1  0.744160            1  \n",
      "2348          0 -0.559180            1  \n",
      "2349          1  0.491038            1  \n",
      "2350          1  0.510590            1  \n",
      "2351          1  0.572342            1  \n",
      "2352          1  0.770224            1  \n",
      "2353          1  0.512002            1  \n",
      "2354          0 -0.646732            1  \n",
      "2355          1  0.784181            1  \n",
      "2356          1  0.576588            1  \n",
      "2357          1  0.590047            1  \n",
      "2358          1  0.567430            1  \n",
      "2359          1  0.784486            1  \n",
      "2360          1  0.508694            1  \n",
      "2361          1  0.537473            1  \n",
      "2362          0 -2.154268            1  \n",
      "2363          1  2.418137            1  \n",
      "2364          1  0.760572            1  \n",
      "2365          1  0.850652            1  \n",
      "2366          1  0.547626            1  \n",
      "2367          1  0.576865            1  \n",
      "2368          1  0.670758            1  \n",
      "2369          1  1.682267            1  \n",
      "...         ...       ...          ...  \n",
      "78594         1  0.632713            1  \n",
      "78595         0 -0.542096            1  \n",
      "78596         0 -0.473329            1  \n",
      "78597         1  0.559088            1  \n",
      "78598         1  0.507009            1  \n",
      "78599         0 -0.535296            1  \n",
      "78600         1  0.579970            1  \n",
      "78601         0 -0.588824            1  \n",
      "78602         1  0.643126            1  \n",
      "78603         0 -0.439178            1  \n",
      "78604         1  0.654868            1  \n",
      "78605         0 -0.682654            1  \n",
      "78606         0 -0.954759            1  \n",
      "78607         0 -0.667818            1  \n",
      "78608         0 -0.699520            1  \n",
      "78609         1  0.606647            1  \n",
      "78610         1  0.559231            1  \n",
      "78611         0 -0.560831            1  \n",
      "78612         0 -0.593291            1  \n",
      "78613         0 -0.658336            1  \n",
      "78614         1  0.605256            1  \n",
      "78615         1  0.606217            1  \n",
      "78616         0 -0.585072            1  \n",
      "78617         1  0.742196            1  \n",
      "78618         1  0.571885            1  \n",
      "78619         0 -0.605274            1  \n",
      "78620         1  0.615909            1  \n",
      "78621         1  0.447682            1  \n",
      "78622         1  0.576298            1  \n",
      "78623         1  0.850333            1  \n",
      "\n",
      "[7800 rows x 10 columns]\n"
     ]
    }
   ],
   "source": [
    "D_R=data.loc[data['turn_type'].isin(['Right cTBS','Sham'])]\n",
    "D_R_C=D_R.loc[D_R['task_type']=='Cons']\n",
    "D_R_C_N=D_R_C.loc[D_R_C['snr_type']=='Noise']\n",
    "print(D_R_C_N)\n",
    "D_R_C_N.to_csv('Exp2_D_R_C_N_cTBS.csv')"
   ]
  },
  {
   "cell_type": "code",
   "execution_count": 5,
   "metadata": {},
   "outputs": [],
   "source": [
    "def z_link_func_D_R_C_N(x, data=D_R_C_N):\n",
    "    stim = (np.asarray(dmatrix('0 + C(s, [[0], [1]])',\n",
    "                              {'s': data.turn_type.loc[x.index]},return_type='dataframe'))\n",
    "    )\n",
    "    # Apply z = (1 - x) to flip them along 0.5\n",
    "    z_flip = np.subtract(stim, x.to_frame())\n",
    "    # The above inverts those values we do not want to flip,\n",
    "    # so invert them back\n",
    "    z_flip[stim == 0] *= -1\n",
    "    return z_flip"
   ]
  },
  {
   "cell_type": "markdown",
   "metadata": {},
   "source": [
    "### baseline model"
   ]
  },
  {
   "cell_type": "code",
   "execution_count": 6,
   "metadata": {},
   "outputs": [
    {
     "name": "stdout",
     "output_type": "stream",
     "text": [
      "Adding these covariates:\n",
      "['a_Intercept']\n",
      "Adding these covariates:\n",
      "['v_Intercept']\n",
      "Adding these covariates:\n",
      "['z_Intercept']\n"
     ]
    },
    {
     "name": "stderr",
     "output_type": "stream",
     "text": [
      "/home/bsliang/miniconda3/envs/bsliang_DDM_27/lib/python2.7/site-packages/scipy/optimize/optimize.py:1934: RuntimeWarning: invalid value encountered in double_scalars\n",
      "  tmp2 = (x - v) * (fx - fw)\n"
     ]
    },
    {
     "name": "stdout",
     "output_type": "stream",
     "text": [
      " [-----------------100%-----------------] 2001 of 2000 complete in 2383.4 secWARNING: Will not save custom link functions.\n",
      "WARNING: Will not save custom link functions.\n",
      "WARNING: Will not save custom link functions.\n"
     ]
    }
   ],
   "source": [
    "a_reg = {'model': \"a ~ 1\",'link_func': lambda x: x}\n",
    "v_reg = {'model': \"v ~ 1\",'link_func': lambda x: x}\n",
    "z_reg = {'model': \"z ~ 1\",'link_func': lambda x: x}\n",
    "reg_descr = [a_reg,v_reg,z_reg]\n",
    "D_R_C_N_bsl = hddm.HDDMRegressor(D_R_C_N, reg_descr, include='z')\n",
    "D_R_C_N_bsl.find_starting_values()\n",
    "D_R_C_N_bsl.sample(2000, burn=20, dbname='traces.db', db='pickle')\n",
    "D_R_C_N_bsl.save('D_R_C_N_bsl')"
   ]
  },
  {
   "cell_type": "markdown",
   "metadata": {},
   "source": [
    "### model 1: a only"
   ]
  },
  {
   "cell_type": "code",
   "execution_count": 7,
   "metadata": {},
   "outputs": [
    {
     "name": "stdout",
     "output_type": "stream",
     "text": [
      "Adding these covariates:\n",
      "['a_Intercept', \"a_C(turn_type, Treatment('Sham'))[T.Right cTBS]\"]\n",
      "Adding these covariates:\n",
      "['v_Intercept']\n",
      "Adding these covariates:\n",
      "['z_Intercept']\n",
      " [-----------------100%-----------------] 2001 of 2000 complete in 2897.6 secWARNING: Will not save custom link functions.\n",
      "WARNING: Will not save custom link functions.\n",
      "WARNING: Will not save custom link functions.\n"
     ]
    }
   ],
   "source": [
    "a_reg = {'model': \"a ~ 1 + C(turn_type, Treatment('Sham'))\",'link_func': lambda x: x}\n",
    "v_reg = {'model': \"v ~ 1\",'link_func': lambda x: x}\n",
    "z_reg = {'model': \"z ~ 1\",'link_func': lambda x: x}\n",
    "reg_descr = [a_reg,v_reg,z_reg]\n",
    "D_R_C_N_am = hddm.HDDMRegressor(D_R_C_N, reg_descr, include='z')\n",
    "D_R_C_N_am.find_starting_values()\n",
    "D_R_C_N_am.sample(2000, burn=20, dbname='traces.db', db='pickle')\n",
    "D_R_C_N_am.save('D_R_C_N_am')"
   ]
  },
  {
   "cell_type": "markdown",
   "metadata": {},
   "source": [
    "### model 2: v only"
   ]
  },
  {
   "cell_type": "code",
   "execution_count": 8,
   "metadata": {},
   "outputs": [
    {
     "name": "stdout",
     "output_type": "stream",
     "text": [
      "Adding these covariates:\n",
      "['a_Intercept']\n",
      "Adding these covariates:\n",
      "['v_Intercept', \"v_C(turn_type, Treatment('Sham'))[T.Right cTBS]\"]\n",
      "Adding these covariates:\n",
      "['z_Intercept']\n",
      " [-----------------100%-----------------] 2001 of 2000 complete in 2929.9 secWARNING: Will not save custom link functions.\n",
      "WARNING: Will not save custom link functions.\n",
      "WARNING: Will not save custom link functions.\n"
     ]
    }
   ],
   "source": [
    "a_reg = {'model': \"a ~ 1\",'link_func': lambda x: x}\n",
    "v_reg = {'model': \"v ~ 1 + C(turn_type, Treatment('Sham'))\",'link_func': lambda x: x}\n",
    "z_reg = {'model': \"z ~ 1\",'link_func': lambda x: x}\n",
    "reg_descr = [a_reg,v_reg,z_reg]\n",
    "D_R_C_N_vm = hddm.HDDMRegressor(D_R_C_N, reg_descr, include='z')\n",
    "D_R_C_N_vm.find_starting_values()\n",
    "D_R_C_N_vm.sample(2000, burn=20, dbname='traces.db', db='pickle')\n",
    "D_R_C_N_vm.save('D_R_C_N_am')"
   ]
  },
  {
   "cell_type": "markdown",
   "metadata": {},
   "source": [
    "### model 3: z only"
   ]
  },
  {
   "cell_type": "code",
   "execution_count": 9,
   "metadata": {},
   "outputs": [
    {
     "name": "stdout",
     "output_type": "stream",
     "text": [
      "Adding these covariates:\n",
      "['a_Intercept']\n",
      "Adding these covariates:\n",
      "['v_Intercept']\n",
      "Adding these covariates:\n",
      "['z_Intercept', \"z_C(turn_type, Treatment('Sham'))[T.Right cTBS]\"]\n",
      " [-----------------100%-----------------] 2001 of 2000 complete in 2911.5 secWARNING: Will not save custom link functions.\n",
      "WARNING: Will not save custom link functions.\n",
      "WARNING: Will not save custom link functions.\n"
     ]
    }
   ],
   "source": [
    "a_reg = {'model': \"a ~ 1\",'link_func': lambda x: x}\n",
    "v_reg = {'model': \"v ~ 1\",'link_func': lambda x: x}\n",
    "z_reg = {'model': \"z ~ 1 + C(turn_type, Treatment('Sham'))\",'link_func': lambda x: x}\n",
    "reg_descr = [a_reg,v_reg,z_reg]\n",
    "D_R_C_N_zm = hddm.HDDMRegressor(D_R_C_N, reg_descr, include='z')\n",
    "D_R_C_N_zm.find_starting_values()\n",
    "D_R_C_N_zm.sample(2000, burn=20, dbname='traces.db', db='pickle')\n",
    "D_R_C_N_zm.save('D_R_C_N_zm')"
   ]
  },
  {
   "cell_type": "markdown",
   "metadata": {},
   "source": [
    "### model 4: a + v"
   ]
  },
  {
   "cell_type": "code",
   "execution_count": 10,
   "metadata": {},
   "outputs": [
    {
     "name": "stdout",
     "output_type": "stream",
     "text": [
      "Adding these covariates:\n",
      "['a_Intercept', \"a_C(turn_type, Treatment('Sham'))[T.Right cTBS]\"]\n",
      "Adding these covariates:\n",
      "['v_Intercept', \"v_C(turn_type, Treatment('Sham'))[T.Right cTBS]\"]\n",
      "Adding these covariates:\n",
      "['z_Intercept']\n",
      " [-----------------100%-----------------] 2001 of 2000 complete in 3417.1 secWARNING: Will not save custom link functions.\n",
      "WARNING: Will not save custom link functions.\n",
      "WARNING: Will not save custom link functions.\n"
     ]
    }
   ],
   "source": [
    "a_reg = {'model': \"a ~ 1 + C(turn_type, Treatment('Sham'))\",'link_func': lambda x: x}\n",
    "v_reg = {'model': \"v ~ 1 + C(turn_type, Treatment('Sham'))\",'link_func': lambda x: x}\n",
    "z_reg = {'model': \"z ~ 1\",'link_func': lambda x: x}\n",
    "reg_descr = [a_reg,v_reg,z_reg]\n",
    "D_R_C_N_avm = hddm.HDDMRegressor(D_R_C_N, reg_descr, include='z')\n",
    "D_R_C_N_avm.find_starting_values()\n",
    "D_R_C_N_avm.sample(2000, burn=20, dbname='traces.db', db='pickle')\n",
    "D_R_C_N_avm.save('D_R_C_N_avm')"
   ]
  },
  {
   "cell_type": "markdown",
   "metadata": {},
   "source": [
    "### model 5: a + z"
   ]
  },
  {
   "cell_type": "code",
   "execution_count": 11,
   "metadata": {},
   "outputs": [
    {
     "name": "stdout",
     "output_type": "stream",
     "text": [
      "Adding these covariates:\n",
      "['a_Intercept', \"a_C(turn_type, Treatment('Sham'))[T.Right cTBS]\"]\n",
      "Adding these covariates:\n",
      "['v_Intercept']\n",
      "Adding these covariates:\n",
      "['z_Intercept', \"z_C(turn_type, Treatment('Sham'))[T.Right cTBS]\"]\n",
      " [-----------------100%-----------------] 2001 of 2000 complete in 3414.6 secWARNING: Will not save custom link functions.\n",
      "WARNING: Will not save custom link functions.\n",
      "WARNING: Will not save custom link functions.\n"
     ]
    }
   ],
   "source": [
    "a_reg = {'model': \"a ~ 1 + C(turn_type, Treatment('Sham'))\",'link_func': lambda x: x}\n",
    "v_reg = {'model': \"v ~ 1\",'link_func': lambda x: x}\n",
    "z_reg = {'model': \"z ~ 1 + C(turn_type, Treatment('Sham'))\",'link_func': lambda x: x}\n",
    "reg_descr = [a_reg,v_reg,z_reg]\n",
    "D_R_C_N_azm = hddm.HDDMRegressor(D_R_C_N, reg_descr, include='z')\n",
    "D_R_C_N_azm.find_starting_values()\n",
    "D_R_C_N_azm.sample(2000, burn=20, dbname='traces.db', db='pickle')\n",
    "D_R_C_N_azm.save('D_R_C_N_azm')"
   ]
  },
  {
   "cell_type": "markdown",
   "metadata": {},
   "source": [
    "### model 6: v + z"
   ]
  },
  {
   "cell_type": "code",
   "execution_count": 12,
   "metadata": {},
   "outputs": [
    {
     "name": "stdout",
     "output_type": "stream",
     "text": [
      "Adding these covariates:\n",
      "['a_Intercept']\n",
      "Adding these covariates:\n",
      "['v_Intercept', \"v_C(turn_type, Treatment('Sham'))[T.Right cTBS]\"]\n",
      "Adding these covariates:\n",
      "['z_Intercept', \"z_C(turn_type, Treatment('Sham'))[T.Right cTBS]\"]\n",
      " [-----------------100%-----------------] 2001 of 2000 complete in 3440.2 secWARNING: Will not save custom link functions.\n",
      "WARNING: Will not save custom link functions.\n",
      "WARNING: Will not save custom link functions.\n"
     ]
    }
   ],
   "source": [
    "a_reg = {'model': \"a ~ 1\",'link_func': lambda x: x}\n",
    "v_reg = {'model': \"v ~ 1 + C(turn_type, Treatment('Sham'))\",'link_func': lambda x: x}\n",
    "z_reg = {'model': \"z ~ 1 + C(turn_type, Treatment('Sham'))\",'link_func': lambda x: x}\n",
    "reg_descr = [a_reg,v_reg,z_reg]\n",
    "D_R_C_N_vzm = hddm.HDDMRegressor(D_R_C_N, reg_descr, include='z')\n",
    "D_R_C_N_vzm.find_starting_values()\n",
    "D_R_C_N_vzm.sample(2000, burn=20, dbname='traces.db', db='pickle')\n",
    "D_R_C_N_vzm.save('D_R_C_N_vzm')"
   ]
  },
  {
   "cell_type": "markdown",
   "metadata": {},
   "source": [
    "### model 7: a + v + z"
   ]
  },
  {
   "cell_type": "code",
   "execution_count": 13,
   "metadata": {},
   "outputs": [
    {
     "name": "stdout",
     "output_type": "stream",
     "text": [
      "Adding these covariates:\n",
      "['a_Intercept', \"a_C(turn_type, Treatment('Sham'))[T.Right cTBS]\"]\n",
      "Adding these covariates:\n",
      "['v_Intercept', \"v_C(turn_type, Treatment('Sham'))[T.Right cTBS]\"]\n",
      "Adding these covariates:\n",
      "['z_Intercept', \"z_C(turn_type, Treatment('Sham'))[T.Right cTBS]\"]\n",
      " [-----------------100%-----------------] 2001 of 2000 complete in 3932.1 secWARNING: Will not save custom link functions.\n",
      "WARNING: Will not save custom link functions.\n",
      "WARNING: Will not save custom link functions.\n"
     ]
    }
   ],
   "source": [
    "a_reg = {'model': \"a ~ 1 + C(turn_type, Treatment('Sham'))\",'link_func': lambda x: x}\n",
    "v_reg = {'model': \"v ~ 1 + C(turn_type, Treatment('Sham'))\",'link_func': lambda x: x}\n",
    "z_reg = {'model': \"z ~ 1 + C(turn_type, Treatment('Sham'))\",'link_func': lambda x: x}\n",
    "reg_descr = [a_reg,v_reg,z_reg]\n",
    "D_R_C_N_fm = hddm.HDDMRegressor(D_R_C_N, reg_descr, include='z')\n",
    "D_R_C_N_fm.find_starting_values()\n",
    "D_R_C_N_fm.sample(2000, burn=20, dbname='traces.db', db='pickle')\n",
    "D_R_C_N_fm.save('D_R_C_N_fm')"
   ]
  },
  {
   "cell_type": "markdown",
   "metadata": {},
   "source": [
    "### Model comparison"
   ]
  },
  {
   "cell_type": "code",
   "execution_count": 28,
   "metadata": {},
   "outputs": [
    {
     "name": "stdout",
     "output_type": "stream",
     "text": [
      "baseline model DIC: 6289.853766\n",
      "a model DIC: 6283.568899\n",
      "v model DIC: 6291.876551\n",
      "z model DIC: 6281.533945\n",
      "av model DIC: 6282.145164\n",
      "az model DIC: 6277.047232\n",
      "vz model DIC: 6281.932800\n",
      "full model DIC: 6276.234767\n"
     ]
    },
    {
     "data": {
      "image/png": "[encoded data removed]",
      "text/plain": [
       "<Figure size 130.394x63.7795 with 1 Axes>"
      ]
     },
     "metadata": {
      "needs_background": "light"
     },
     "output_type": "display_data"
    }
   ],
   "source": [
    "print(\"baseline model DIC: %f\" % D_R_C_N_bsl.dic)\n",
    "print(\"a model DIC: %f\" % D_R_C_N_am.dic)\n",
    "print(\"v model DIC: %f\" % D_R_C_N_vm.dic)\n",
    "print(\"z model DIC: %f\" % D_R_C_N_zm.dic)\n",
    "print(\"av model DIC: %f\" % D_R_C_N_avm.dic)\n",
    "print(\"az model DIC: %f\" % D_R_C_N_azm.dic)\n",
    "print(\"vz model DIC: %f\" % D_R_C_N_vzm.dic)\n",
    "print(\"full model DIC: %f\" % D_R_C_N_fm.dic)\n",
    "\n",
    "fig, ax = plt.subplots()\n",
    "\n",
    "fruits = ['baseline', 'a', 'v', 'z', 'av', 'az', 'vz','full']\n",
    "counts = [D_R_C_N_bsl.dic, D_R_C_N_am.dic, D_R_C_N_vm.dic, D_R_C_N_zm.dic,D_R_C_N_avm.dic,D_R_C_N_azm.dic,D_R_C_N_vzm.dic,D_R_C_N_fm.dic]\n",
    "\n",
    "ax.bar(fruits, counts, color=[197./255,158./255,226./255],edgecolor='black',linewidth=0.5)\n",
    "\n",
    "#ax.set_ylabel('DIC value')\n",
    "#ax.set_title('TBS: Right stimulation consonant noise')\n",
    "ax.set_ylim([6275,6295])\n",
    "ytick_plot=range(6275,6295,3)\n",
    "ytick_plot.append(6295)\n",
    "ax.set_yticks(ytick_plot)\n",
    "ax.set_yticklabels(range(6275,6295,3))\n",
    "ax.spines['right'].set_visible(False)\n",
    "ax.spines['top'].set_visible(False)\n",
    "\n",
    "fig.set_size_inches(4.6*cm,2.25*cm)\n",
    "ax.tick_params('both',which='major',direction='in',width=0.5,length=2)\n",
    "plt.rcParams['font.size']=5\n",
    "plt.rcParams['font.family']='Arial'\n",
    "plt.savefig(D_name+'M_compare.pdf',bbox_inches = 'tight',transparent=True)\n",
    "plt.show()"
   ]
  },
  {
   "cell_type": "markdown",
   "metadata": {},
   "source": [
    "### Plotting"
   ]
  },
  {
   "cell_type": "code",
   "execution_count": 30,
   "metadata": {},
   "outputs": [
    {
     "data": {
      "image/png": "[encoded data removed]",
      "text/plain": [
       "<Figure size 127.559x70.8661 with 1 Axes>"
      ]
     },
     "metadata": {
      "needs_background": "light"
     },
     "output_type": "display_data"
    },
    {
     "name": "stdout",
     "output_type": "stream",
     "text": [
      "('P(a > Sham) = ', 0.9964646464646465)\n",
      "('P(v > Sham) = ', 0.9055555555555556)\n",
      "('P(z > Sham) = ', 0.0015151515151515152)\n"
     ]
    }
   ],
   "source": [
    "a_Intercept,a_cTBS = D_R_C_N_fm.nodes_db.loc[[\"a_Intercept\",\"a_C(turn_type, Treatment('Sham'))[T.Right cTBS]\"], 'node']\n",
    "# hddm.analyze.plot_posterior_nodes([a_Intercept,a_cTBS])\n",
    "# plt.xlabel('boundary')\n",
    "# plt.ylabel('Posterior probability')\n",
    "# plt.title('Full model')\n",
    "\n",
    "v_Intercept,v_cTBS = D_R_C_N_fm.nodes_db.loc[[\"v_Intercept\",\"v_C(turn_type, Treatment('Sham'))[T.Right cTBS]\"], 'node']\n",
    "# hddm.analyze.plot_posterior_nodes([v_Intercept,v_cTBS])\n",
    "# plt.xlabel('drift-rate')\n",
    "# plt.ylabel('Posterior probability')\n",
    "# plt.title('Full model')\n",
    "\n",
    "z_Intercept,z_cTBS = D_R_C_N_fm.nodes_db.loc[[\"z_Intercept\",\"z_C(turn_type, Treatment('Sham'))[T.Right cTBS]\"], 'node']\n",
    "# hddm.analyze.plot_posterior_nodes([z_Intercept,z_cTBS])\n",
    "# plt.xlabel('starting point')\n",
    "# plt.ylabel('Posterior probability')\n",
    "# plt.title('Full model')\n",
    "\n",
    "\n",
    "fig, ax = plt.subplots()\n",
    "fig.set_size_inches(4.5*cm,2.5*cm)\n",
    "\n",
    "para_tag=['boundary(a)','drift rate(v)','starting point(z)']\n",
    "counts = [a_cTBS.trace()/(max(a_cTBS.trace())-min(a_cTBS.trace())),v_cTBS.trace()/(max(v_cTBS.trace())-min(v_cTBS.trace())),z_cTBS.trace()/(max(z_cTBS.trace())-min(z_cTBS.trace()))]\n",
    "\n",
    "ax.axhline(y = 0, color =[0.5,0.5,0.5], linestyle =\"--\", linewidth = 0.5, zorder=0)\n",
    "\n",
    "vioparts=ax.violinplot(counts)\n",
    "for pc in vioparts['bodies']:\n",
    "    pc.set_facecolor([197./255,158./255,226./255])\n",
    "    pc.set_edgecolor('black')\n",
    "    pc.set_linewidth(0.5)\n",
    "    pc.set_alpha(0.8)\n",
    "vioparts['cbars'].set_color('black')\n",
    "vioparts['cbars'].set_linewidth(0.5)\n",
    "vioparts['cmaxes'].set_color('black')\n",
    "vioparts['cmaxes'].set_linewidth(0.5)\n",
    "vioparts['cmins'].set_color('black')\n",
    "vioparts['cmins'].set_linewidth(0.5)\n",
    "\n",
    "ax.set_xticks([1,2,3])\n",
    "ax.set_xticklabels(para_tag)\n",
    "#ax.set_title('Full model: Left cTBS consonant quiet')\n",
    "#ax.set_ylabel('Regression coef (normalized)')\n",
    "ax.set_ylim([-1.5,1.8])\n",
    "ax.set_yticks([-1.5,-0.9,-0.3,0.3,0.9,1.5,1.8])\n",
    "ax.set_yticklabels([-1.5,-0.9,-0.3,0.3,0.9,1.5])\n",
    "ax.spines['right'].set_visible(False)\n",
    "ax.spines['top'].set_visible(False)\n",
    "\n",
    "ax.tick_params('both',which='major',direction='in',width=0.5,length=2)\n",
    "plt.rcParams['savefig.dpi']=300\n",
    "plt.rcParams['font.size']=5\n",
    "plt.rcParams['font.family']='Arial'\n",
    "plt.savefig(D_name+'cTBS_DDMparas.pdf',bbox_inches = 'tight',transparent=True)\n",
    "plt.show()\n",
    "\n",
    "print(\"P(a > Sham) = \", (a_cTBS.trace() > 0).mean())\n",
    "print(\"P(v > Sham) = \", (v_cTBS.trace() > 0).mean())\n",
    "print(\"P(z > Sham) = \", (z_cTBS.trace() > 0).mean())"
   ]
  },
  {
   "cell_type": "markdown",
   "metadata": {},
   "source": [
    "### check full model simulation prediction accuracy"
   ]
  },
  {
   "cell_type": "markdown",
   "metadata": {},
   "source": [
    "#### fit the full model"
   ]
  },
  {
   "cell_type": "code",
   "execution_count": 16,
   "metadata": {},
   "outputs": [
    {
     "name": "stdout",
     "output_type": "stream",
     "text": [
      "Adding these covariates:\n",
      "['a_Intercept', \"a_C(turn_type, Treatment('Sham'))[T.Right cTBS]\"]\n",
      "Adding these covariates:\n",
      "['v_Intercept', \"v_C(turn_type, Treatment('Sham'))[T.Right cTBS]\"]\n",
      "Adding these covariates:\n",
      "['z_Intercept', \"z_C(turn_type, Treatment('Sham'))[T.Right cTBS]\"]\n",
      " [-----------------100%-----------------] 2001 of 2000 complete in 3945.8 sec"
     ]
    },
    {
     "data": {
      "text/plain": [
       "<pymc.MCMC.MCMC at 0x7f77fc226990>"
      ]
     },
     "execution_count": 16,
     "metadata": {},
     "output_type": "execute_result"
    }
   ],
   "source": [
    "fm_data_2=D_R_C_N\n",
    "fm_data_2.reset_index(inplace = True, drop = True)\n",
    "a_reg = {'model': \"a ~ 1 + C(turn_type, Treatment('Sham'))\",'link_func': lambda x: x}\n",
    "v_reg = {'model': \"v ~ 1 + C(turn_type, Treatment('Sham'))\",'link_func': lambda x: x}\n",
    "z_reg = {'model': \"z ~ 1 + C(turn_type, Treatment('Sham'))\",'link_func': lambda x: x}\n",
    "reg_descr = [a_reg,v_reg,z_reg]\n",
    "fm_2 = hddm.HDDMRegressor(fm_data_2, reg_descr, include='z')\n",
    "fm_2.find_starting_values()\n",
    "fm_2.sample(2000, burn=20, dbname='traces.db', db='pickle')"
   ]
  },
  {
   "cell_type": "markdown",
   "metadata": {},
   "source": [
    "#### plot the full model (compared with the original full model)"
   ]
  },
  {
   "cell_type": "code",
   "execution_count": 17,
   "metadata": {},
   "outputs": [
    {
     "data": {
      "image/png": "[encoded data removed]",
      "text/plain": [
       "<Figure size 288x288 with 1 Axes>"
      ]
     },
     "metadata": {
      "needs_background": "light"
     },
     "output_type": "display_data"
    },
    {
     "name": "stdout",
     "output_type": "stream",
     "text": [
      "('P(a > Sham) = ', 0.997979797979798)\n",
      "('P(v > Sham) = ', 0.8616161616161616)\n",
      "('P(z > Sham) = ', 0.0015151515151515152)\n"
     ]
    }
   ],
   "source": [
    "a_Intercept,a_cTBS = fm_2.nodes_db.loc[[\"a_Intercept\",\"a_C(turn_type, Treatment('Sham'))[T.Right cTBS]\"], 'node']\n",
    "v_Intercept,v_cTBS = fm_2.nodes_db.loc[[\"v_Intercept\",\"v_C(turn_type, Treatment('Sham'))[T.Right cTBS]\"], 'node']\n",
    "z_Intercept,z_cTBS = fm_2.nodes_db.loc[[\"z_Intercept\",\"z_C(turn_type, Treatment('Sham'))[T.Right cTBS]\"], 'node']\n",
    "\n",
    "fig, ax = plt.subplots()\n",
    "fig.set_size_inches(4,4)\n",
    "\n",
    "para_tag=['boundary(a)','drift rate(v)','starting point(z)']\n",
    "counts = [a_cTBS.trace()/(max(a_cTBS.trace())-min(a_cTBS.trace())),v_cTBS.trace()/(max(v_cTBS.trace())-min(v_cTBS.trace())),z_cTBS.trace()/(max(z_cTBS.trace())-min(z_cTBS.trace()))]\n",
    "\n",
    "ax.axhline(y = 0, color =\"green\", linestyle =\"--\")\n",
    "ax.violinplot(counts)\n",
    "ax.set_xticks([1,2,3])\n",
    "ax.set_xticklabels(para_tag)\n",
    "ax.set_title('Full model: Left cTBS consonant quiet')\n",
    "ax.set_ylabel('Regression coef (normalized)')\n",
    "ax.set_ylim([-1.8,1.8])\n",
    "ax.spines['right'].set_visible(False)\n",
    "ax.spines['top'].set_visible(False)\n",
    "\n",
    "plt.show()\n",
    "\n",
    "print(\"P(a > Sham) = \", (a_cTBS.trace() > 0).mean())\n",
    "print(\"P(v > Sham) = \", (v_cTBS.trace() > 0).mean())\n",
    "print(\"P(z > Sham) = \", (z_cTBS.trace() > 0).mean())"
   ]
  },
  {
   "cell_type": "markdown",
   "metadata": {},
   "source": [
    "#### predict data from simulated data derived from full model"
   ]
  },
  {
   "cell_type": "code",
   "execution_count": 18,
   "metadata": {},
   "outputs": [
    {
     "name": "stdout",
     "output_type": "stream",
     "text": [
      " [-------------------112%-------------------] 28 of 25 complete in 23482.8 sec"
     ]
    },
    {
     "data": {
      "text/html": [
       "<div>\n",
       "<style scoped>\n",
       "    .dataframe tbody tr th:only-of-type {\n",
       "        vertical-align: middle;\n",
       "    }\n",
       "\n",
       "    .dataframe tbody tr th {\n",
       "        vertical-align: top;\n",
       "    }\n",
       "\n",
       "    .dataframe thead th {\n",
       "        text-align: right;\n",
       "    }\n",
       "</style>\n",
       "<table border=\"1\" class=\"dataframe\">\n",
       "  <thead>\n",
       "    <tr style=\"text-align: right;\">\n",
       "      <th></th>\n",
       "      <th>observed</th>\n",
       "      <th>mean</th>\n",
       "      <th>std</th>\n",
       "      <th>SEM</th>\n",
       "      <th>MSE</th>\n",
       "      <th>credible</th>\n",
       "      <th>quantile</th>\n",
       "      <th>mahalanobis</th>\n",
       "    </tr>\n",
       "    <tr>\n",
       "      <th>stat</th>\n",
       "      <th></th>\n",
       "      <th></th>\n",
       "      <th></th>\n",
       "      <th></th>\n",
       "      <th></th>\n",
       "      <th></th>\n",
       "      <th></th>\n",
       "      <th></th>\n",
       "    </tr>\n",
       "  </thead>\n",
       "  <tbody>\n",
       "    <tr>\n",
       "      <th>accuracy</th>\n",
       "      <td>0.545256</td>\n",
       "      <td>0.546909</td>\n",
       "      <td>0.180168</td>\n",
       "      <td>2.730969e-06</td>\n",
       "      <td>0.032463</td>\n",
       "      <td>True</td>\n",
       "      <td>54.264000</td>\n",
       "      <td>0.009172</td>\n",
       "    </tr>\n",
       "    <tr>\n",
       "      <th>mean_ub</th>\n",
       "      <td>0.695461</td>\n",
       "      <td>0.726191</td>\n",
       "      <td>0.130836</td>\n",
       "      <td>9.443724e-04</td>\n",
       "      <td>0.018062</td>\n",
       "      <td>True</td>\n",
       "      <td>50.296001</td>\n",
       "      <td>0.234879</td>\n",
       "    </tr>\n",
       "    <tr>\n",
       "      <th>std_ub</th>\n",
       "      <td>0.266526</td>\n",
       "      <td>0.266555</td>\n",
       "      <td>0.083504</td>\n",
       "      <td>8.510230e-10</td>\n",
       "      <td>0.006973</td>\n",
       "      <td>True</td>\n",
       "      <td>55.855999</td>\n",
       "      <td>0.000349</td>\n",
       "    </tr>\n",
       "    <tr>\n",
       "      <th>10q_ub</th>\n",
       "      <td>0.462346</td>\n",
       "      <td>0.487077</td>\n",
       "      <td>0.090142</td>\n",
       "      <td>6.116129e-04</td>\n",
       "      <td>0.008737</td>\n",
       "      <td>True</td>\n",
       "      <td>44.048000</td>\n",
       "      <td>0.274353</td>\n",
       "    </tr>\n",
       "    <tr>\n",
       "      <th>30q_ub</th>\n",
       "      <td>0.554259</td>\n",
       "      <td>0.557252</td>\n",
       "      <td>0.098760</td>\n",
       "      <td>8.955606e-06</td>\n",
       "      <td>0.009762</td>\n",
       "      <td>True</td>\n",
       "      <td>49.639999</td>\n",
       "      <td>0.030302</td>\n",
       "    </tr>\n",
       "    <tr>\n",
       "      <th>50q_ub</th>\n",
       "      <td>0.636275</td>\n",
       "      <td>0.645456</td>\n",
       "      <td>0.114708</td>\n",
       "      <td>8.428664e-05</td>\n",
       "      <td>0.013242</td>\n",
       "      <td>True</td>\n",
       "      <td>53.007999</td>\n",
       "      <td>0.080036</td>\n",
       "    </tr>\n",
       "    <tr>\n",
       "      <th>70q_ub</th>\n",
       "      <td>0.742250</td>\n",
       "      <td>0.780246</td>\n",
       "      <td>0.145676</td>\n",
       "      <td>1.443681e-03</td>\n",
       "      <td>0.022665</td>\n",
       "      <td>True</td>\n",
       "      <td>50.127998</td>\n",
       "      <td>0.260825</td>\n",
       "    </tr>\n",
       "    <tr>\n",
       "      <th>90q_ub</th>\n",
       "      <td>0.986889</td>\n",
       "      <td>1.069870</td>\n",
       "      <td>0.224651</td>\n",
       "      <td>6.885889e-03</td>\n",
       "      <td>0.057354</td>\n",
       "      <td>True</td>\n",
       "      <td>43.647999</td>\n",
       "      <td>0.369378</td>\n",
       "    </tr>\n",
       "    <tr>\n",
       "      <th>mean_lb</th>\n",
       "      <td>-0.745881</td>\n",
       "      <td>-0.750663</td>\n",
       "      <td>0.139445</td>\n",
       "      <td>2.287082e-05</td>\n",
       "      <td>0.019468</td>\n",
       "      <td>True</td>\n",
       "      <td>47.984001</td>\n",
       "      <td>0.034296</td>\n",
       "    </tr>\n",
       "    <tr>\n",
       "      <th>std_lb</th>\n",
       "      <td>0.292165</td>\n",
       "      <td>0.269682</td>\n",
       "      <td>0.087551</td>\n",
       "      <td>5.055114e-04</td>\n",
       "      <td>0.008171</td>\n",
       "      <td>True</td>\n",
       "      <td>66.744003</td>\n",
       "      <td>0.256806</td>\n",
       "    </tr>\n",
       "    <tr>\n",
       "      <th>10q_lb</th>\n",
       "      <td>0.502417</td>\n",
       "      <td>0.503355</td>\n",
       "      <td>0.092037</td>\n",
       "      <td>8.810139e-07</td>\n",
       "      <td>0.008472</td>\n",
       "      <td>True</td>\n",
       "      <td>49.543999</td>\n",
       "      <td>0.010198</td>\n",
       "    </tr>\n",
       "    <tr>\n",
       "      <th>30q_lb</th>\n",
       "      <td>0.606886</td>\n",
       "      <td>0.580070</td>\n",
       "      <td>0.104133</td>\n",
       "      <td>7.190979e-04</td>\n",
       "      <td>0.011563</td>\n",
       "      <td>True</td>\n",
       "      <td>58.832001</td>\n",
       "      <td>0.257517</td>\n",
       "    </tr>\n",
       "    <tr>\n",
       "      <th>50q_lb</th>\n",
       "      <td>0.686730</td>\n",
       "      <td>0.672325</td>\n",
       "      <td>0.123067</td>\n",
       "      <td>2.075289e-04</td>\n",
       "      <td>0.015353</td>\n",
       "      <td>True</td>\n",
       "      <td>55.872002</td>\n",
       "      <td>0.117057</td>\n",
       "    </tr>\n",
       "    <tr>\n",
       "      <th>70q_lb</th>\n",
       "      <td>0.782673</td>\n",
       "      <td>0.809060</td>\n",
       "      <td>0.156075</td>\n",
       "      <td>6.962746e-04</td>\n",
       "      <td>0.025056</td>\n",
       "      <td>True</td>\n",
       "      <td>48.000000</td>\n",
       "      <td>0.169066</td>\n",
       "    </tr>\n",
       "    <tr>\n",
       "      <th>90q_lb</th>\n",
       "      <td>1.043833</td>\n",
       "      <td>1.097349</td>\n",
       "      <td>0.240158</td>\n",
       "      <td>2.863957e-03</td>\n",
       "      <td>0.060540</td>\n",
       "      <td>True</td>\n",
       "      <td>49.344002</td>\n",
       "      <td>0.222836</td>\n",
       "    </tr>\n",
       "  </tbody>\n",
       "</table>\n",
       "</div>"
      ],
      "text/plain": [
       "          observed      mean       std           SEM       MSE credible  \\\n",
       "stat                                                                      \n",
       "accuracy  0.545256  0.546909  0.180168  2.730969e-06  0.032463     True   \n",
       "mean_ub   0.695461  0.726191  0.130836  9.443724e-04  0.018062     True   \n",
       "std_ub    0.266526  0.266555  0.083504  8.510230e-10  0.006973     True   \n",
       "10q_ub    0.462346  0.487077  0.090142  6.116129e-04  0.008737     True   \n",
       "30q_ub    0.554259  0.557252  0.098760  8.955606e-06  0.009762     True   \n",
       "50q_ub    0.636275  0.645456  0.114708  8.428664e-05  0.013242     True   \n",
       "70q_ub    0.742250  0.780246  0.145676  1.443681e-03  0.022665     True   \n",
       "90q_ub    0.986889  1.069870  0.224651  6.885889e-03  0.057354     True   \n",
       "mean_lb  -0.745881 -0.750663  0.139445  2.287082e-05  0.019468     True   \n",
       "std_lb    0.292165  0.269682  0.087551  5.055114e-04  0.008171     True   \n",
       "10q_lb    0.502417  0.503355  0.092037  8.810139e-07  0.008472     True   \n",
       "30q_lb    0.606886  0.580070  0.104133  7.190979e-04  0.011563     True   \n",
       "50q_lb    0.686730  0.672325  0.123067  2.075289e-04  0.015353     True   \n",
       "70q_lb    0.782673  0.809060  0.156075  6.962746e-04  0.025056     True   \n",
       "90q_lb    1.043833  1.097349  0.240158  2.863957e-03  0.060540     True   \n",
       "\n",
       "           quantile  mahalanobis  \n",
       "stat                              \n",
       "accuracy  54.264000     0.009172  \n",
       "mean_ub   50.296001     0.234879  \n",
       "std_ub    55.855999     0.000349  \n",
       "10q_ub    44.048000     0.274353  \n",
       "30q_ub    49.639999     0.030302  \n",
       "50q_ub    53.007999     0.080036  \n",
       "70q_ub    50.127998     0.260825  \n",
       "90q_ub    43.647999     0.369378  \n",
       "mean_lb   47.984001     0.034296  \n",
       "std_lb    66.744003     0.256806  \n",
       "10q_lb    49.543999     0.010198  \n",
       "30q_lb    58.832001     0.257517  \n",
       "50q_lb    55.872002     0.117057  \n",
       "70q_lb    48.000000     0.169066  \n",
       "90q_lb    49.344002     0.222836  "
      ]
     },
     "execution_count": 18,
     "metadata": {},
     "output_type": "execute_result"
    }
   ],
   "source": [
    "fm_data_2_sim = hddm.utils.post_pred_gen(fm_2)\n",
    "hddm.utils.post_pred_stats(fm_data_2, fm_data_2_sim)"
   ]
  }
 ],
 "metadata": {
  "kernelspec": {
   "display_name": "Python 2.7.18 ('bsliang_DDM_27': conda)",
   "language": "python",
   "name": "python3"
  },
  "language_info": {
   "codemirror_mode": {
    "name": "ipython",
    "version": 2
   },
   "file_extension": ".py",
   "mimetype": "text/x-python",
   "name": "python",
   "nbconvert_exporter": "python",
   "pygments_lexer": "ipython2",
   "version": "2.7.18"
  },
  "orig_nbformat": 4,
  "vscode": {
   "interpreter": {
    "hash": "800a09db568ebe80aacfc1bc086e45a31a7cff3ccaf522d8b640d0dfbe2b8801"
   }
  }
 },
 "nbformat": 4,
 "nbformat_minor": 2
}
