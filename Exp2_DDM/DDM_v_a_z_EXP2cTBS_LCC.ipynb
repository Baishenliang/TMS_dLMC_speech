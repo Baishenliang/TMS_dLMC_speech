{
 "cells": [
  {
   "cell_type": "markdown",
   "metadata": {},
   "source": [
    "![这是图片](xingyun.jpg \"Magic Gardens\")<br><br>\n",
    "事情是这样的<br>\n",
    "我本来已经<br>\n",
    "打算完结这个分析了<br> \n",
    "但杜老师，居然<br>\n",
    "竟然，也是不出意料<br>\n",
    "叫我加一个参数<br>"
   ]
  },
  {
   "cell_type": "markdown",
   "metadata": {},
   "source": [
    "# TBS"
   ]
  },
  {
   "cell_type": "markdown",
   "metadata": {},
   "source": [
    "## preparing"
   ]
  },
  {
   "cell_type": "code",
   "execution_count": 21,
   "metadata": {},
   "outputs": [],
   "source": [
    "import pandas as pd\n",
    "import matplotlib.pyplot as plt\n",
    "import hddm\n",
    "import numpy as np\n",
    "import pickle\n",
    "from patsy import dmatrices, dmatrix, demo_data\n",
    "cm = 1/2.54"
   ]
  },
  {
   "cell_type": "markdown",
   "metadata": {},
   "source": [
    "## loading data"
   ]
  },
  {
   "cell_type": "code",
   "execution_count": 2,
   "metadata": {},
   "outputs": [
    {
     "data": {
      "text/html": [
       "<div>\n",
       "<style scoped>\n",
       "    .dataframe tbody tr th:only-of-type {\n",
       "        vertical-align: middle;\n",
       "    }\n",
       "\n",
       "    .dataframe tbody tr th {\n",
       "        vertical-align: top;\n",
       "    }\n",
       "\n",
       "    .dataframe thead th {\n",
       "        text-align: right;\n",
       "    }\n",
       "</style>\n",
       "<table border=\"1\" class=\"dataframe\">\n",
       "  <thead>\n",
       "    <tr style=\"text-align: right;\">\n",
       "      <th></th>\n",
       "      <th>subj_idx</th>\n",
       "      <th>group_idx</th>\n",
       "      <th>turn_type</th>\n",
       "      <th>task_type</th>\n",
       "      <th>snr_type</th>\n",
       "      <th>trial_num</th>\n",
       "      <th>step_att</th>\n",
       "      <th>response</th>\n",
       "      <th>rt</th>\n",
       "      <th>step_unatnd</th>\n",
       "    </tr>\n",
       "  </thead>\n",
       "  <tbody>\n",
       "    <tr>\n",
       "      <th>0</th>\n",
       "      <td>55</td>\n",
       "      <td>Larynx</td>\n",
       "      <td>Left iTBS</td>\n",
       "      <td>Tone</td>\n",
       "      <td>Clear</td>\n",
       "      <td>1</td>\n",
       "      <td>3</td>\n",
       "      <td>1</td>\n",
       "      <td>1.083317</td>\n",
       "      <td>1</td>\n",
       "    </tr>\n",
       "    <tr>\n",
       "      <th>1</th>\n",
       "      <td>55</td>\n",
       "      <td>Larynx</td>\n",
       "      <td>Left iTBS</td>\n",
       "      <td>Tone</td>\n",
       "      <td>Clear</td>\n",
       "      <td>2</td>\n",
       "      <td>4</td>\n",
       "      <td>1</td>\n",
       "      <td>0.744397</td>\n",
       "      <td>1</td>\n",
       "    </tr>\n",
       "    <tr>\n",
       "      <th>2</th>\n",
       "      <td>55</td>\n",
       "      <td>Larynx</td>\n",
       "      <td>Left iTBS</td>\n",
       "      <td>Tone</td>\n",
       "      <td>Clear</td>\n",
       "      <td>3</td>\n",
       "      <td>4</td>\n",
       "      <td>1</td>\n",
       "      <td>0.732525</td>\n",
       "      <td>1</td>\n",
       "    </tr>\n",
       "    <tr>\n",
       "      <th>3</th>\n",
       "      <td>55</td>\n",
       "      <td>Larynx</td>\n",
       "      <td>Left iTBS</td>\n",
       "      <td>Tone</td>\n",
       "      <td>Clear</td>\n",
       "      <td>4</td>\n",
       "      <td>5</td>\n",
       "      <td>1</td>\n",
       "      <td>0.800199</td>\n",
       "      <td>1</td>\n",
       "    </tr>\n",
       "    <tr>\n",
       "      <th>4</th>\n",
       "      <td>55</td>\n",
       "      <td>Larynx</td>\n",
       "      <td>Left iTBS</td>\n",
       "      <td>Tone</td>\n",
       "      <td>Clear</td>\n",
       "      <td>5</td>\n",
       "      <td>4</td>\n",
       "      <td>1</td>\n",
       "      <td>0.753649</td>\n",
       "      <td>1</td>\n",
       "    </tr>\n",
       "    <tr>\n",
       "      <th>5</th>\n",
       "      <td>55</td>\n",
       "      <td>Larynx</td>\n",
       "      <td>Left iTBS</td>\n",
       "      <td>Tone</td>\n",
       "      <td>Clear</td>\n",
       "      <td>6</td>\n",
       "      <td>4</td>\n",
       "      <td>1</td>\n",
       "      <td>0.544652</td>\n",
       "      <td>1</td>\n",
       "    </tr>\n",
       "    <tr>\n",
       "      <th>6</th>\n",
       "      <td>55</td>\n",
       "      <td>Larynx</td>\n",
       "      <td>Left iTBS</td>\n",
       "      <td>Tone</td>\n",
       "      <td>Clear</td>\n",
       "      <td>7</td>\n",
       "      <td>5</td>\n",
       "      <td>1</td>\n",
       "      <td>0.621313</td>\n",
       "      <td>1</td>\n",
       "    </tr>\n",
       "    <tr>\n",
       "      <th>7</th>\n",
       "      <td>55</td>\n",
       "      <td>Larynx</td>\n",
       "      <td>Left iTBS</td>\n",
       "      <td>Tone</td>\n",
       "      <td>Clear</td>\n",
       "      <td>8</td>\n",
       "      <td>5</td>\n",
       "      <td>1</td>\n",
       "      <td>0.580819</td>\n",
       "      <td>1</td>\n",
       "    </tr>\n",
       "    <tr>\n",
       "      <th>8</th>\n",
       "      <td>55</td>\n",
       "      <td>Larynx</td>\n",
       "      <td>Left iTBS</td>\n",
       "      <td>Tone</td>\n",
       "      <td>Clear</td>\n",
       "      <td>9</td>\n",
       "      <td>1</td>\n",
       "      <td>0</td>\n",
       "      <td>-0.496794</td>\n",
       "      <td>1</td>\n",
       "    </tr>\n",
       "    <tr>\n",
       "      <th>9</th>\n",
       "      <td>55</td>\n",
       "      <td>Larynx</td>\n",
       "      <td>Left iTBS</td>\n",
       "      <td>Tone</td>\n",
       "      <td>Clear</td>\n",
       "      <td>10</td>\n",
       "      <td>3</td>\n",
       "      <td>1</td>\n",
       "      <td>0.863869</td>\n",
       "      <td>1</td>\n",
       "    </tr>\n",
       "  </tbody>\n",
       "</table>\n",
       "</div>"
      ],
      "text/plain": [
       "   subj_idx group_idx  turn_type task_type snr_type  trial_num  step_att  \\\n",
       "0        55    Larynx  Left iTBS      Tone    Clear          1         3   \n",
       "1        55    Larynx  Left iTBS      Tone    Clear          2         4   \n",
       "2        55    Larynx  Left iTBS      Tone    Clear          3         4   \n",
       "3        55    Larynx  Left iTBS      Tone    Clear          4         5   \n",
       "4        55    Larynx  Left iTBS      Tone    Clear          5         4   \n",
       "5        55    Larynx  Left iTBS      Tone    Clear          6         4   \n",
       "6        55    Larynx  Left iTBS      Tone    Clear          7         5   \n",
       "7        55    Larynx  Left iTBS      Tone    Clear          8         5   \n",
       "8        55    Larynx  Left iTBS      Tone    Clear          9         1   \n",
       "9        55    Larynx  Left iTBS      Tone    Clear         10         3   \n",
       "\n",
       "   response        rt  step_unatnd  \n",
       "0         1  1.083317            1  \n",
       "1         1  0.744397            1  \n",
       "2         1  0.732525            1  \n",
       "3         1  0.800199            1  \n",
       "4         1  0.753649            1  \n",
       "5         1  0.544652            1  \n",
       "6         1  0.621313            1  \n",
       "7         1  0.580819            1  \n",
       "8         0 -0.496794            1  \n",
       "9         1  0.863869            1  "
      ]
     },
     "execution_count": 2,
     "metadata": {},
     "output_type": "execute_result"
    }
   ],
   "source": [
    "data = hddm.load_csv('exp2_DDM.csv')\n",
    "data = hddm.utils.flip_errors(data)\n",
    "data.head(10)"
   ]
  },
  {
   "cell_type": "markdown",
   "metadata": {},
   "source": [
    "## cTBS, left stim, consonant, clear"
   ]
  },
  {
   "cell_type": "markdown",
   "metadata": {},
   "source": [
    "### RT distribution"
   ]
  },
  {
   "cell_type": "code",
   "execution_count": 116,
   "metadata": {},
   "outputs": [
    {
     "name": "stderr",
     "output_type": "stream",
     "text": [
      "/home/bsliang/miniconda3/envs/bsliang_DDM_27/lib/python2.7/site-packages/ipykernel_launcher.py:12: FutureWarning: The signature of `Series.to_csv` was aligned to that of `DataFrame.to_csv`, and argument 'header' will change its default value from False to True: please pass an explicit value to suppress this warning.\n",
      "  if sys.path[0] == '':\n",
      "/home/bsliang/miniconda3/envs/bsliang_DDM_27/lib/python2.7/site-packages/ipykernel_launcher.py:13: FutureWarning: The signature of `Series.to_csv` was aligned to that of `DataFrame.to_csv`, and argument 'header' will change its default value from False to True: please pass an explicit value to suppress this warning.\n",
      "  del sys.path[0]\n"
     ]
    },
    {
     "data": {
      "image/png": "[encoded data removed]",
      "text/plain": [
       "<Figure size 127.559x70.8661 with 1 Axes>"
      ]
     },
     "metadata": {
      "needs_background": "light"
     },
     "output_type": "display_data"
    },
    {
     "data": {
      "image/png": "[encoded data removed]",
      "text/plain": [
       "<Figure size 34.0157x56.6929 with 1 Axes>"
      ]
     },
     "metadata": {
      "needs_background": "light"
     },
     "output_type": "display_data"
    }
   ],
   "source": [
    "data_unflip = hddm.load_csv('exp2_DDM.csv')\n",
    "\n",
    "D_L=data_unflip.loc[data_unflip['turn_type'].isin(['Left cTBS','Sham'])]\n",
    "D_L_C=D_L.loc[D_L['task_type']=='Cons']\n",
    "D_L_C_Q=D_L_C.loc[D_L_C['snr_type']=='Clear']\n",
    "D=D_L_C_Q\n",
    "D_name='D_L_C_Q_'\n",
    "\n",
    "D_TMS=D.loc[D['turn_type'].isin(['Left cTBS'])]\n",
    "D_Sham=D.loc[D['turn_type'].isin(['Sham'])]\n",
    "\n",
    "D_TMS.rt.to_csv(D_name+'TBS_RT.csv')\n",
    "D_Sham.rt.to_csv(D_name+'Sham_RT.csv')\n",
    "\n",
    "mean_TMS=D_TMS.rt.mean()\n",
    "se_TMS=np.std(D_TMS.rt, ddof=1) / np.sqrt(len(D_TMS.rt))\n",
    "mean_Sham=D_Sham.rt.mean()\n",
    "se_Sham=np.std(D_Sham.rt, ddof=1) / np.sqrt(len(D_Sham.rt))\n",
    "\n",
    "plt.rcParams['savefig.dpi']=300\n",
    "plt.rcParams['font.size']=5\n",
    "plt.rcParams['axes.linewidth']=0.5\n",
    "plt.rcParams['font.family']='Arial'\n",
    "\n",
    "fig, ax = plt.subplots()\n",
    "fig.set_size_inches(4.5*cm,2.5*cm)\n",
    "\n",
    "nbins=50\n",
    "dens_TMS = ax.hist(D_TMS.rt,bins=nbins, histtype='step',density=False,color=[0,0,0],linewidth=1,alpha=0.5)\n",
    "dens_Sham = ax.hist(D_Sham.rt,bins=nbins, histtype='step',density=False,color=[0.5,0.5,0.5],linewidth=1,alpha=0.5)\n",
    "\n",
    "\n",
    "for ibin in range(0,nbins-1):\n",
    "    if dens_TMS[1][ibin] > mean_TMS:\n",
    "        dens_TMS_mean = dens_TMS[0][ibin-1]\n",
    "        break\n",
    "\n",
    "for ibin in range(0,nbins-1):\n",
    "    if dens_Sham[1][ibin] > mean_Sham:\n",
    "        dens_Sham_mean = dens_Sham[0][ibin-1]\n",
    "        break\n",
    "\n",
    "#ax.set_title('RT distributions')\n",
    "#ax.set_ylabel('Number of trials')\n",
    "#ax.set_xlabel('Reaction time (s)')\n",
    "ax.set_xlim([0,2])\n",
    "ax.set_xticks(np.linspace(0,2,5))\n",
    "ax.set_ylim([0,900])\n",
    "ax.set_yticks([200,400,600,800,900])\n",
    "ax.set_yticklabels([200,400,600,800])\n",
    "ax.spines['right'].set_visible(False)\n",
    "ax.spines['top'].set_visible(False)\n",
    "ax.tick_params('both',which='major',direction='in',width=0.5,length=2)\n",
    "\n",
    "ax.axvline(x = mean_TMS, ymin=0,ymax=dens_TMS_mean/900,color =[0,0,0], linestyle =\"--\",linewidth=1,alpha=0.5)\n",
    "ax.axvline(x = mean_Sham, ymin=0,ymax=dens_Sham_mean/900,color =[0.5,0.5,0.5], linestyle =\"--\",linewidth=1,alpha=0.5)\n",
    "#ax.legend('upper right')\n",
    "\n",
    "plt.savefig(D_name+'cTBS_RT_dist.pdf',bbox_inches = 'tight',transparent=True)\n",
    "plt.show()\n",
    "\n",
    "fig, ax = plt.subplots()\n",
    "\n",
    "cat = ['cTBS','Sham']\n",
    "cat_mean = [mean_TMS,mean_Sham]\n",
    "\n",
    "axbar=ax.bar(cat, cat_mean,yerr=[se_TMS,se_Sham],color=[[0,0,0],[0.5,0.5,0.5]],alpha=0.5)\n",
    "axbar.errorbar.lines[2][0].set_linewidth(0.5)\n",
    "\n",
    "ax.set_ylabel('RT (s)',fontsize=5)\n",
    "#ax.set_title('cTBS: Right stimulation tone noise')\n",
    "#ax.set_xticks([])\n",
    "ax.set_ylim([0.6,0.7])\n",
    "ax.set_yticks(np.linspace(0.6,0.7,6))\n",
    "ax.spines['right'].set_visible(False)\n",
    "ax.spines['top'].set_visible(False)\n",
    "ax.tick_params('both',which='major',direction='in',bottom=False,width=0.5,length=1,labelsize=4)\n",
    "#ax.yaxis.tick_right()\n",
    "\n",
    "fig.set_size_inches(1.2*cm,2*cm)\n",
    "\n",
    "plt.savefig(D_name+'cTBS_RT.pdf',bbox_inches = 'tight',transparent=True)\n",
    "plt.show()\n"
   ]
  },
  {
   "cell_type": "markdown",
   "metadata": {},
   "source": [
    "### preparing data"
   ]
  },
  {
   "cell_type": "code",
   "execution_count": 4,
   "metadata": {},
   "outputs": [
    {
     "name": "stdout",
     "output_type": "stream",
     "text": [
      "       subj_idx group_idx  turn_type task_type snr_type  trial_num  step_att  \\\n",
      "780          55    Larynx  Left cTBS      Cons    Clear          1         4   \n",
      "781          55    Larynx  Left cTBS      Cons    Clear          2         2   \n",
      "782          55    Larynx  Left cTBS      Cons    Clear          3         1   \n",
      "783          55    Larynx  Left cTBS      Cons    Clear          4         5   \n",
      "784          55    Larynx  Left cTBS      Cons    Clear          5         1   \n",
      "785          55    Larynx  Left cTBS      Cons    Clear          6         5   \n",
      "786          55    Larynx  Left cTBS      Cons    Clear          7         2   \n",
      "787          55    Larynx  Left cTBS      Cons    Clear          8         3   \n",
      "788          55    Larynx  Left cTBS      Cons    Clear          9         4   \n",
      "789          55    Larynx  Left cTBS      Cons    Clear         10         4   \n",
      "790          55    Larynx  Left cTBS      Cons    Clear         11         3   \n",
      "791          55    Larynx  Left cTBS      Cons    Clear         12         1   \n",
      "792          55    Larynx  Left cTBS      Cons    Clear         13         2   \n",
      "793          55    Larynx  Left cTBS      Cons    Clear         14         1   \n",
      "794          55    Larynx  Left cTBS      Cons    Clear         15         4   \n",
      "795          55    Larynx  Left cTBS      Cons    Clear         16         3   \n",
      "796          55    Larynx  Left cTBS      Cons    Clear         17         3   \n",
      "797          55    Larynx  Left cTBS      Cons    Clear         18         3   \n",
      "798          55    Larynx  Left cTBS      Cons    Clear         19         1   \n",
      "799          55    Larynx  Left cTBS      Cons    Clear         20         1   \n",
      "800          55    Larynx  Left cTBS      Cons    Clear         21         2   \n",
      "801          55    Larynx  Left cTBS      Cons    Clear         22         2   \n",
      "802          55    Larynx  Left cTBS      Cons    Clear         23         3   \n",
      "803          55    Larynx  Left cTBS      Cons    Clear         24         4   \n",
      "804          55    Larynx  Left cTBS      Cons    Clear         25         5   \n",
      "805          55    Larynx  Left cTBS      Cons    Clear         26         5   \n",
      "806          55    Larynx  Left cTBS      Cons    Clear         27         2   \n",
      "807          55    Larynx  Left cTBS      Cons    Clear         28         3   \n",
      "808          55    Larynx  Left cTBS      Cons    Clear         29         2   \n",
      "809          55    Larynx  Left cTBS      Cons    Clear         30         3   \n",
      "...         ...       ...        ...       ...      ...        ...       ...   \n",
      "78282       253    Larynx       Sham      Cons    Clear        127         2   \n",
      "78283       253    Larynx       Sham      Cons    Clear        128         4   \n",
      "78284       253    Larynx       Sham      Cons    Clear        129         5   \n",
      "78285       253    Larynx       Sham      Cons    Clear        130         2   \n",
      "78286       253    Larynx       Sham      Cons    Clear        131         1   \n",
      "78287       253    Larynx       Sham      Cons    Clear        132         2   \n",
      "78288       253    Larynx       Sham      Cons    Clear        133         5   \n",
      "78289       253    Larynx       Sham      Cons    Clear        134         3   \n",
      "78290       253    Larynx       Sham      Cons    Clear        135         3   \n",
      "78291       253    Larynx       Sham      Cons    Clear        136         3   \n",
      "78292       253    Larynx       Sham      Cons    Clear        137         2   \n",
      "78293       253    Larynx       Sham      Cons    Clear        138         3   \n",
      "78294       253    Larynx       Sham      Cons    Clear        139         4   \n",
      "78295       253    Larynx       Sham      Cons    Clear        140         3   \n",
      "78296       253    Larynx       Sham      Cons    Clear        141         4   \n",
      "78297       253    Larynx       Sham      Cons    Clear        142         1   \n",
      "78298       253    Larynx       Sham      Cons    Clear        143         5   \n",
      "78299       253    Larynx       Sham      Cons    Clear        144         2   \n",
      "78300       253    Larynx       Sham      Cons    Clear        145         3   \n",
      "78301       253    Larynx       Sham      Cons    Clear        146         4   \n",
      "78302       253    Larynx       Sham      Cons    Clear        147         1   \n",
      "78303       253    Larynx       Sham      Cons    Clear        148         1   \n",
      "78304       253    Larynx       Sham      Cons    Clear        149         2   \n",
      "78305       253    Larynx       Sham      Cons    Clear        150         5   \n",
      "78306       253    Larynx       Sham      Cons    Clear        151         5   \n",
      "78307       253    Larynx       Sham      Cons    Clear        152         5   \n",
      "78308       253    Larynx       Sham      Cons    Clear        153         4   \n",
      "78309       253    Larynx       Sham      Cons    Clear        154         3   \n",
      "78310       253    Larynx       Sham      Cons    Clear        155         2   \n",
      "78311       253    Larynx       Sham      Cons    Clear        156         4   \n",
      "\n",
      "       response        rt  step_unatnd  \n",
      "780           1  0.681244            1  \n",
      "781           0 -0.438170            1  \n",
      "782           1  0.386653            1  \n",
      "783           1  0.420030            1  \n",
      "784           0 -0.571299            1  \n",
      "785           1  0.373450            1  \n",
      "786           1  0.462528            1  \n",
      "787           1  0.492050            1  \n",
      "788           1  0.504294            1  \n",
      "789           1  0.471557            1  \n",
      "790           1  0.935407            1  \n",
      "791           0 -0.578618            1  \n",
      "792           1  0.562041            1  \n",
      "793           0 -0.553086            1  \n",
      "794           1  0.351943            1  \n",
      "795           1  0.714067            1  \n",
      "796           1  0.539837            1  \n",
      "797           1  0.647431            1  \n",
      "798           0 -0.483036            1  \n",
      "799           0 -0.579703            1  \n",
      "800           1  0.439758            1  \n",
      "801           1  0.729273            1  \n",
      "802           1  0.608183            1  \n",
      "803           1  0.709677            1  \n",
      "804           1  0.548747            1  \n",
      "805           1  0.000471            1  \n",
      "806           1  2.352737            1  \n",
      "807           1  0.754569            1  \n",
      "808           0 -0.728551            1  \n",
      "809           1  0.561141            1  \n",
      "...         ...       ...          ...  \n",
      "78282         0 -0.596020            1  \n",
      "78283         1  0.483886            1  \n",
      "78284         1  0.480658            1  \n",
      "78285         0 -0.554141            1  \n",
      "78286         0 -0.483899            1  \n",
      "78287         0 -0.735664            1  \n",
      "78288         1  0.569922            1  \n",
      "78289         1  0.720954            1  \n",
      "78290         0 -0.799678            1  \n",
      "78291         1  0.687716            1  \n",
      "78292         0 -0.810177            1  \n",
      "78293         1  0.640178            1  \n",
      "78294         1  0.578575            1  \n",
      "78295         1  0.542345            1  \n",
      "78296         1  0.521091            1  \n",
      "78297         0 -0.483623            1  \n",
      "78298         1  0.646792            1  \n",
      "78299         0 -0.656289            1  \n",
      "78300         1  0.553948            1  \n",
      "78301         1  0.770307            1  \n",
      "78302         0 -0.506785            1  \n",
      "78303         0 -0.672766            1  \n",
      "78304         0 -0.721732            1  \n",
      "78305         1  0.609379            1  \n",
      "78306         1  0.689112            1  \n",
      "78307         1  0.545095            1  \n",
      "78308         1  0.401211            1  \n",
      "78309         0 -0.672633            1  \n",
      "78310         0 -0.584967            1  \n",
      "78311         1  0.515722            1  \n",
      "\n",
      "[7800 rows x 10 columns]\n"
     ]
    }
   ],
   "source": [
    "D_L=data.loc[data['turn_type'].isin(['Left cTBS','Sham'])]\n",
    "D_L_C=D_L.loc[D_L['task_type']=='Cons']\n",
    "D_L_C_Q=D_L_C.loc[D_L_C['snr_type']=='Clear']\n",
    "print(D_L_C_Q)\n",
    "D_L_C_Q.to_csv('Exp2_D_L_C_Q_cTBS.csv')"
   ]
  },
  {
   "cell_type": "code",
   "execution_count": 5,
   "metadata": {},
   "outputs": [],
   "source": [
    "def z_link_func_D_L_C_Q(x, data=D_L_C_Q):\n",
    "    stim = (np.asarray(dmatrix('0 + C(s, [[0], [1]])',\n",
    "                              {'s': data.turn_type.loc[x.index]},return_type='dataframe'))\n",
    "    )\n",
    "    # Apply z = (1 - x) to flip them along 0.5\n",
    "    z_flip = np.subtract(stim, x.to_frame())\n",
    "    # The above inverts those values we do not want to flip,\n",
    "    # so invert them back\n",
    "    z_flip[stim == 0] *= -1\n",
    "    return z_flip"
   ]
  },
  {
   "cell_type": "markdown",
   "metadata": {},
   "source": [
    "### baseline model"
   ]
  },
  {
   "cell_type": "code",
   "execution_count": 6,
   "metadata": {},
   "outputs": [
    {
     "name": "stdout",
     "output_type": "stream",
     "text": [
      "Adding these covariates:\n",
      "['a_Intercept']\n",
      "Adding these covariates:\n",
      "['v_Intercept']\n",
      "Adding these covariates:\n",
      "['z_Intercept']\n"
     ]
    },
    {
     "name": "stderr",
     "output_type": "stream",
     "text": [
      "/home/bsliang/miniconda3/envs/bsliang_DDM_27/lib/python2.7/site-packages/scipy/optimize/optimize.py:1934: RuntimeWarning: invalid value encountered in double_scalars\n",
      "  tmp2 = (x - v) * (fx - fw)\n"
     ]
    },
    {
     "name": "stdout",
     "output_type": "stream",
     "text": [
      " [-----------------100%-----------------] 2001 of 2000 complete in 2360.6 secWARNING: Will not save custom link functions.\n",
      "WARNING: Will not save custom link functions.\n",
      "WARNING: Will not save custom link functions.\n"
     ]
    }
   ],
   "source": [
    "a_reg = {'model': \"a ~ 1\",'link_func': lambda x: x}\n",
    "v_reg = {'model': \"v ~ 1\",'link_func': lambda x: x}\n",
    "z_reg = {'model': \"z ~ 1\",'link_func': lambda x: x}\n",
    "reg_descr = [a_reg,v_reg,z_reg]\n",
    "D_L_C_Q_bsl = hddm.HDDMRegressor(D_L_C_Q, reg_descr, include='z')\n",
    "D_L_C_Q_bsl.find_starting_values()\n",
    "D_L_C_Q_bsl.sample(2000, burn=20, dbname='traces.db', db='pickle')\n",
    "D_L_C_Q_bsl.save('D_L_C_Q_bsl')"
   ]
  },
  {
   "cell_type": "markdown",
   "metadata": {},
   "source": [
    "### model 1: a only"
   ]
  },
  {
   "cell_type": "code",
   "execution_count": 7,
   "metadata": {},
   "outputs": [
    {
     "name": "stdout",
     "output_type": "stream",
     "text": [
      "Adding these covariates:\n",
      "['a_Intercept', \"a_C(turn_type, Treatment('Sham'))[T.Left cTBS]\"]\n",
      "Adding these covariates:\n",
      "['v_Intercept']\n",
      "Adding these covariates:\n",
      "['z_Intercept']\n",
      " [-----------------100%-----------------] 2001 of 2000 complete in 2861.2 secWARNING: Will not save custom link functions.\n",
      "WARNING: Will not save custom link functions.\n",
      "WARNING: Will not save custom link functions.\n"
     ]
    }
   ],
   "source": [
    "a_reg = {'model': \"a ~ 1 + C(turn_type, Treatment('Sham'))\",'link_func': lambda x: x}\n",
    "v_reg = {'model': \"v ~ 1\",'link_func': lambda x: x}\n",
    "z_reg = {'model': \"z ~ 1\",'link_func': lambda x: x}\n",
    "reg_descr = [a_reg,v_reg,z_reg]\n",
    "D_L_C_Q_am = hddm.HDDMRegressor(D_L_C_Q, reg_descr, include='z')\n",
    "D_L_C_Q_am.find_starting_values()\n",
    "D_L_C_Q_am.sample(2000, burn=20, dbname='traces.db', db='pickle')\n",
    "D_L_C_Q_am.save('D_L_C_Q_am')"
   ]
  },
  {
   "cell_type": "markdown",
   "metadata": {},
   "source": [
    "### model 2: v only"
   ]
  },
  {
   "cell_type": "code",
   "execution_count": 8,
   "metadata": {},
   "outputs": [
    {
     "name": "stdout",
     "output_type": "stream",
     "text": [
      "Adding these covariates:\n",
      "['a_Intercept']\n",
      "Adding these covariates:\n",
      "['v_Intercept', \"v_C(turn_type, Treatment('Sham'))[T.Left cTBS]\"]\n",
      "Adding these covariates:\n",
      "['z_Intercept']\n",
      " [-----------------100%-----------------] 2001 of 2000 complete in 2917.8 secWARNING: Will not save custom link functions.\n",
      "WARNING: Will not save custom link functions.\n",
      "WARNING: Will not save custom link functions.\n"
     ]
    }
   ],
   "source": [
    "a_reg = {'model': \"a ~ 1\",'link_func': lambda x: x}\n",
    "v_reg = {'model': \"v ~ 1 + C(turn_type, Treatment('Sham'))\",'link_func': lambda x: x}\n",
    "z_reg = {'model': \"z ~ 1\",'link_func': lambda x: x}\n",
    "reg_descr = [a_reg,v_reg,z_reg]\n",
    "D_L_C_Q_vm = hddm.HDDMRegressor(D_L_C_Q, reg_descr, include='z')\n",
    "D_L_C_Q_vm.find_starting_values()\n",
    "D_L_C_Q_vm.sample(2000, burn=20, dbname='traces.db', db='pickle')\n",
    "D_L_C_Q_vm.save('D_L_C_Q_am')"
   ]
  },
  {
   "cell_type": "markdown",
   "metadata": {},
   "source": [
    "### model 3: z only"
   ]
  },
  {
   "cell_type": "code",
   "execution_count": 9,
   "metadata": {},
   "outputs": [
    {
     "name": "stdout",
     "output_type": "stream",
     "text": [
      "Adding these covariates:\n",
      "['a_Intercept']\n",
      "Adding these covariates:\n",
      "['v_Intercept']\n",
      "Adding these covariates:\n",
      "['z_Intercept', \"z_C(turn_type, Treatment('Sham'))[T.Left cTBS]\"]\n",
      " [-----------------100%-----------------] 2001 of 2000 complete in 2875.4 secWARNING: Will not save custom link functions.\n",
      "WARNING: Will not save custom link functions.\n",
      "WARNING: Will not save custom link functions.\n"
     ]
    }
   ],
   "source": [
    "a_reg = {'model': \"a ~ 1\",'link_func': lambda x: x}\n",
    "v_reg = {'model': \"v ~ 1\",'link_func': lambda x: x}\n",
    "z_reg = {'model': \"z ~ 1 + C(turn_type, Treatment('Sham'))\",'link_func': lambda x: x}\n",
    "reg_descr = [a_reg,v_reg,z_reg]\n",
    "D_L_C_Q_zm = hddm.HDDMRegressor(D_L_C_Q, reg_descr, include='z')\n",
    "D_L_C_Q_zm.find_starting_values()\n",
    "D_L_C_Q_zm.sample(2000, burn=20, dbname='traces.db', db='pickle')\n",
    "D_L_C_Q_zm.save('D_L_C_Q_zm')"
   ]
  },
  {
   "cell_type": "markdown",
   "metadata": {},
   "source": [
    "### model 4: a + v"
   ]
  },
  {
   "cell_type": "code",
   "execution_count": 10,
   "metadata": {},
   "outputs": [
    {
     "name": "stdout",
     "output_type": "stream",
     "text": [
      "Adding these covariates:\n",
      "['a_Intercept', \"a_C(turn_type, Treatment('Sham'))[T.Left cTBS]\"]\n",
      "Adding these covariates:\n",
      "['v_Intercept', \"v_C(turn_type, Treatment('Sham'))[T.Left cTBS]\"]\n",
      "Adding these covariates:\n",
      "['z_Intercept']\n",
      " [-----------------100%-----------------] 2001 of 2000 complete in 3405.4 secWARNING: Will not save custom link functions.\n",
      "WARNING: Will not save custom link functions.\n",
      "WARNING: Will not save custom link functions.\n"
     ]
    }
   ],
   "source": [
    "a_reg = {'model': \"a ~ 1 + C(turn_type, Treatment('Sham'))\",'link_func': lambda x: x}\n",
    "v_reg = {'model': \"v ~ 1 + C(turn_type, Treatment('Sham'))\",'link_func': lambda x: x}\n",
    "z_reg = {'model': \"z ~ 1\",'link_func': lambda x: x}\n",
    "reg_descr = [a_reg,v_reg,z_reg]\n",
    "D_L_C_Q_avm = hddm.HDDMRegressor(D_L_C_Q, reg_descr, include='z')\n",
    "D_L_C_Q_avm.find_starting_values()\n",
    "D_L_C_Q_avm.sample(2000, burn=20, dbname='traces.db', db='pickle')\n",
    "D_L_C_Q_avm.save('D_L_C_Q_avm')"
   ]
  },
  {
   "cell_type": "markdown",
   "metadata": {},
   "source": [
    "### model 5: a + z"
   ]
  },
  {
   "cell_type": "code",
   "execution_count": 11,
   "metadata": {},
   "outputs": [
    {
     "name": "stdout",
     "output_type": "stream",
     "text": [
      "Adding these covariates:\n",
      "['a_Intercept', \"a_C(turn_type, Treatment('Sham'))[T.Left cTBS]\"]\n",
      "Adding these covariates:\n",
      "['v_Intercept']\n",
      "Adding these covariates:\n",
      "['z_Intercept', \"z_C(turn_type, Treatment('Sham'))[T.Left cTBS]\"]\n",
      " [-----------------100%-----------------] 2001 of 2000 complete in 3358.1 secWARNING: Will not save custom link functions.\n",
      "WARNING: Will not save custom link functions.\n",
      "WARNING: Will not save custom link functions.\n"
     ]
    }
   ],
   "source": [
    "a_reg = {'model': \"a ~ 1 + C(turn_type, Treatment('Sham'))\",'link_func': lambda x: x}\n",
    "v_reg = {'model': \"v ~ 1\",'link_func': lambda x: x}\n",
    "z_reg = {'model': \"z ~ 1 + C(turn_type, Treatment('Sham'))\",'link_func': lambda x: x}\n",
    "reg_descr = [a_reg,v_reg,z_reg]\n",
    "D_L_C_Q_azm = hddm.HDDMRegressor(D_L_C_Q, reg_descr, include='z')\n",
    "D_L_C_Q_azm.find_starting_values()\n",
    "D_L_C_Q_azm.sample(2000, burn=20, dbname='traces.db', db='pickle')\n",
    "D_L_C_Q_azm.save('D_L_C_Q_azm')"
   ]
  },
  {
   "cell_type": "markdown",
   "metadata": {},
   "source": [
    "### model 6: v + z"
   ]
  },
  {
   "cell_type": "code",
   "execution_count": 12,
   "metadata": {},
   "outputs": [
    {
     "name": "stdout",
     "output_type": "stream",
     "text": [
      "Adding these covariates:\n",
      "['a_Intercept']\n",
      "Adding these covariates:\n",
      "['v_Intercept', \"v_C(turn_type, Treatment('Sham'))[T.Left cTBS]\"]\n",
      "Adding these covariates:\n",
      "['z_Intercept', \"z_C(turn_type, Treatment('Sham'))[T.Left cTBS]\"]\n",
      " [-----------------100%-----------------] 2001 of 2000 complete in 3414.0 secWARNING: Will not save custom link functions.\n",
      "WARNING: Will not save custom link functions.\n",
      "WARNING: Will not save custom link functions.\n"
     ]
    }
   ],
   "source": [
    "a_reg = {'model': \"a ~ 1\",'link_func': lambda x: x}\n",
    "v_reg = {'model': \"v ~ 1 + C(turn_type, Treatment('Sham'))\",'link_func': lambda x: x}\n",
    "z_reg = {'model': \"z ~ 1 + C(turn_type, Treatment('Sham'))\",'link_func': lambda x: x}\n",
    "reg_descr = [a_reg,v_reg,z_reg]\n",
    "D_L_C_Q_vzm = hddm.HDDMRegressor(D_L_C_Q, reg_descr, include='z')\n",
    "D_L_C_Q_vzm.find_starting_values()\n",
    "D_L_C_Q_vzm.sample(2000, burn=20, dbname='traces.db', db='pickle')\n",
    "D_L_C_Q_vzm.save('D_L_C_Q_vzm')"
   ]
  },
  {
   "cell_type": "markdown",
   "metadata": {},
   "source": [
    "### model 7: a + v + z"
   ]
  },
  {
   "cell_type": "code",
   "execution_count": 13,
   "metadata": {},
   "outputs": [
    {
     "name": "stdout",
     "output_type": "stream",
     "text": [
      "Adding these covariates:\n",
      "['a_Intercept', \"a_C(turn_type, Treatment('Sham'))[T.Left cTBS]\"]\n",
      "Adding these covariates:\n",
      "['v_Intercept', \"v_C(turn_type, Treatment('Sham'))[T.Left cTBS]\"]\n",
      "Adding these covariates:\n",
      "['z_Intercept', \"z_C(turn_type, Treatment('Sham'))[T.Left cTBS]\"]\n",
      " [-----------------100%-----------------] 2001 of 2000 complete in 3900.2 secWARNING: Will not save custom link functions.\n",
      "WARNING: Will not save custom link functions.\n",
      "WARNING: Will not save custom link functions.\n"
     ]
    }
   ],
   "source": [
    "a_reg = {'model': \"a ~ 1 + C(turn_type, Treatment('Sham'))\",'link_func': lambda x: x}\n",
    "v_reg = {'model': \"v ~ 1 + C(turn_type, Treatment('Sham'))\",'link_func': lambda x: x}\n",
    "z_reg = {'model': \"z ~ 1 + C(turn_type, Treatment('Sham'))\",'link_func': lambda x: x}\n",
    "reg_descr = [a_reg,v_reg,z_reg]\n",
    "D_L_C_Q_fm = hddm.HDDMRegressor(D_L_C_Q, reg_descr, include='z')\n",
    "D_L_C_Q_fm.find_starting_values()\n",
    "D_L_C_Q_fm.sample(2000, burn=20, dbname='traces.db', db='pickle')\n",
    "D_L_C_Q_fm.save('D_L_C_Q_fm')"
   ]
  },
  {
   "cell_type": "markdown",
   "metadata": {},
   "source": [
    "### Model comparison"
   ]
  },
  {
   "cell_type": "code",
   "execution_count": 114,
   "metadata": {},
   "outputs": [
    {
     "name": "stdout",
     "output_type": "stream",
     "text": [
      "baseline model DIC: 3223.082599\n",
      "a model DIC: 3213.971445\n",
      "v model DIC: 3203.263096\n",
      "z model DIC: 3216.856672\n",
      "av model DIC: 3200.839665\n",
      "az model DIC: 3208.758490\n",
      "vz model DIC: 3207.687788\n",
      "full model DIC: 3196.721711\n"
     ]
    },
    {
     "data": {
      "image/png": "[encoded data removed]",
      "text/plain": [
       "<Figure size 130.394x63.7795 with 1 Axes>"
      ]
     },
     "metadata": {
      "needs_background": "light"
     },
     "output_type": "display_data"
    }
   ],
   "source": [
    "print(\"baseline model DIC: %f\" % D_L_C_Q_bsl.dic)\n",
    "print(\"a model DIC: %f\" % D_L_C_Q_am.dic)\n",
    "print(\"v model DIC: %f\" % D_L_C_Q_vm.dic)\n",
    "print(\"z model DIC: %f\" % D_L_C_Q_zm.dic)\n",
    "print(\"av model DIC: %f\" % D_L_C_Q_avm.dic)\n",
    "print(\"az model DIC: %f\" % D_L_C_Q_azm.dic)\n",
    "print(\"vz model DIC: %f\" % D_L_C_Q_vzm.dic)\n",
    "print(\"full model DIC: %f\" % D_L_C_Q_fm.dic)\n",
    "\n",
    "fig, ax = plt.subplots()\n",
    "\n",
    "fruits = ['baseline', 'a', 'v', 'z', 'av', 'az', 'vz','full']\n",
    "counts = [D_L_C_Q_bsl.dic, D_L_C_Q_am.dic, D_L_C_Q_vm.dic, D_L_C_Q_zm.dic,D_L_C_Q_avm.dic,D_L_C_Q_azm.dic,D_L_C_Q_vzm.dic,D_L_C_Q_fm.dic]\n",
    "\n",
    "ax.bar(fruits, counts,color=[197./255,158./255,226./255],edgecolor='black',linewidth=0.5)\n",
    "\n",
    "#ax.set_ylabel('DIC value')\n",
    "#ax.set_title('TBS: Left cTBS consonant quiet')\n",
    "ax.set_ylim([3190,3230])\n",
    "ytick_plot=range(3190,3230,5)\n",
    "ytick_plot.append(3230)\n",
    "ax.set_yticks(ytick_plot)\n",
    "ax.spines['right'].set_visible(False)\n",
    "ax.spines['top'].set_visible(False)\n",
    "\n",
    "fig.set_size_inches(4.6*cm,2.25*cm)\n",
    "ax.tick_params('both',which='major',direction='in',width=0.5,length=2)\n",
    "plt.rcParams['font.size']=5\n",
    "plt.rcParams['font.family']='Arial'\n",
    "plt.savefig(D_name+'M_compare.pdf',bbox_inches = 'tight',transparent=True)\n",
    "plt.show()"
   ]
  },
  {
   "cell_type": "markdown",
   "metadata": {},
   "source": [
    "### Plotting"
   ]
  },
  {
   "cell_type": "code",
   "execution_count": 104,
   "metadata": {},
   "outputs": [
    {
     "data": {
      "image/png": "[encoded data removed]",
      "text/plain": [
       "<Figure size 127.559x70.8661 with 1 Axes>"
      ]
     },
     "metadata": {
      "needs_background": "light"
     },
     "output_type": "display_data"
    },
    {
     "name": "stdout",
     "output_type": "stream",
     "text": [
      "('P(a > Sham) = ', 0.9984848484848485)\n",
      "('P(v > Sham) = ', 0.998989898989899)\n",
      "('P(z > Sham) = ', 0.7570707070707071)\n"
     ]
    }
   ],
   "source": [
    "a_Intercept,a_cTBS = D_L_C_Q_fm.nodes_db.loc[[\"a_Intercept\",\"a_C(turn_type, Treatment('Sham'))[T.Left cTBS]\"], 'node']\n",
    "# hddm.analyze.plot_posterior_nodes([a_Intercept,a_cTBS])\n",
    "# plt.xlabel('boundary')\n",
    "# plt.ylabel('Posterior probability')\n",
    "# plt.title('Full model')\n",
    "\n",
    "v_Intercept,v_cTBS = D_L_C_Q_fm.nodes_db.loc[[\"v_Intercept\",\"v_C(turn_type, Treatment('Sham'))[T.Left cTBS]\"], 'node']\n",
    "# hddm.analyze.plot_posterior_nodes([v_Intercept,v_cTBS])\n",
    "# plt.xlabel('drift-rate')\n",
    "# plt.ylabel('Posterior probability')\n",
    "# plt.title('Full model')\n",
    "\n",
    "z_Intercept,z_cTBS = D_L_C_Q_fm.nodes_db.loc[[\"z_Intercept\",\"z_C(turn_type, Treatment('Sham'))[T.Left cTBS]\"], 'node']\n",
    "# hddm.analyze.plot_posterior_nodes([z_Intercept,z_cTBS])\n",
    "# plt.xlabel('starting point')\n",
    "# plt.ylabel('Posterior probability')\n",
    "# plt.title('Full model')\n",
    "\n",
    "\n",
    "fig, ax = plt.subplots()\n",
    "fig.set_size_inches(4.5*cm,2.5*cm)\n",
    "\n",
    "para_tag=['boundary(a)','drift rate(v)','starting point(z)']\n",
    "counts = [a_cTBS.trace()/(max(a_cTBS.trace())-min(a_cTBS.trace())),v_cTBS.trace()/(max(v_cTBS.trace())-min(v_cTBS.trace())),z_cTBS.trace()/(max(z_cTBS.trace())-min(z_cTBS.trace()))]\n",
    "\n",
    "ax.axhline(y = 0, color =[0.5,0.5,0.5], linestyle =\"--\", linewidth = 0.5, zorder=0)\n",
    "\n",
    "vioparts=ax.violinplot(counts)\n",
    "for pc in vioparts['bodies']:\n",
    "    pc.set_facecolor([197./255,158./255,226./255])\n",
    "    pc.set_edgecolor('black')\n",
    "    pc.set_linewidth(0.5)\n",
    "    pc.set_alpha(0.8)\n",
    "vioparts['cbars'].set_color('black')\n",
    "vioparts['cbars'].set_linewidth(0.5)\n",
    "vioparts['cmaxes'].set_color('black')\n",
    "vioparts['cmaxes'].set_linewidth(0.5)\n",
    "vioparts['cmins'].set_color('black')\n",
    "vioparts['cmins'].set_linewidth(0.5)\n",
    "\n",
    "ax.set_xticks([1,2,3])\n",
    "ax.set_xticklabels(para_tag)\n",
    "#ax.set_title('Full model: Left cTBS consonant quiet')\n",
    "#ax.set_ylabel('Regression coef (normalized)')\n",
    "ax.set_ylim([-1,1.5])\n",
    "ax.spines['right'].set_visible(False)\n",
    "ax.spines['top'].set_visible(False)\n",
    "\n",
    "ax.tick_params('both',which='major',direction='in',width=0.5,length=2)\n",
    "plt.rcParams['savefig.dpi']=300\n",
    "plt.rcParams['font.size']=5\n",
    "plt.rcParams['font.family']='Arial'\n",
    "plt.savefig(D_name+'cTBS_DDMparas.pdf',bbox_inches = 'tight',transparent=True)\n",
    "plt.show()\n",
    "\n",
    "print(\"P(a > Sham) = \", (a_cTBS.trace() > 0).mean())\n",
    "print(\"P(v > Sham) = \", (v_cTBS.trace() > 0).mean())\n",
    "print(\"P(z > Sham) = \", (z_cTBS.trace() > 0).mean())"
   ]
  },
  {
   "cell_type": "markdown",
   "metadata": {},
   "source": [
    "### check full model simulation prediction accuracy"
   ]
  },
  {
   "cell_type": "markdown",
   "metadata": {},
   "source": [
    "#### fit the full model"
   ]
  },
  {
   "cell_type": "code",
   "execution_count": 16,
   "metadata": {},
   "outputs": [
    {
     "name": "stdout",
     "output_type": "stream",
     "text": [
      "Adding these covariates:\n",
      "['a_Intercept', \"a_C(turn_type, Treatment('Sham'))[T.Left cTBS]\"]\n",
      "Adding these covariates:\n",
      "['v_Intercept', \"v_C(turn_type, Treatment('Sham'))[T.Left cTBS]\"]\n",
      "Adding these covariates:\n",
      "['z_Intercept', \"z_C(turn_type, Treatment('Sham'))[T.Left cTBS]\"]\n",
      " [-----------------100%-----------------] 2001 of 2000 complete in 3921.1 sec"
     ]
    },
    {
     "data": {
      "text/plain": [
       "<pymc.MCMC.MCMC at 0x7f9525b32a90>"
      ]
     },
     "execution_count": 16,
     "metadata": {},
     "output_type": "execute_result"
    }
   ],
   "source": [
    "fm_data_2=D_L_C_Q\n",
    "fm_data_2.reset_index(inplace = True, drop = True)\n",
    "a_reg = {'model': \"a ~ 1 + C(turn_type, Treatment('Sham'))\",'link_func': lambda x: x}\n",
    "v_reg = {'model': \"v ~ 1 + C(turn_type, Treatment('Sham'))\",'link_func': lambda x: x}\n",
    "z_reg = {'model': \"z ~ 1 + C(turn_type, Treatment('Sham'))\",'link_func': lambda x: x}\n",
    "reg_descr = [a_reg,v_reg,z_reg]\n",
    "fm_2 = hddm.HDDMRegressor(fm_data_2, reg_descr, include='z')\n",
    "fm_2.find_starting_values()\n",
    "fm_2.sample(2000, burn=20, dbname='traces.db', db='pickle')"
   ]
  },
  {
   "cell_type": "markdown",
   "metadata": {},
   "source": [
    "#### plot the full model (compared with the original full model)"
   ]
  },
  {
   "cell_type": "code",
   "execution_count": 17,
   "metadata": {},
   "outputs": [
    {
     "data": {
      "image/png": "[encoded data removed]",
      "text/plain": [
       "<Figure size 288x288 with 1 Axes>"
      ]
     },
     "metadata": {
      "needs_background": "light"
     },
     "output_type": "display_data"
    },
    {
     "name": "stdout",
     "output_type": "stream",
     "text": [
      "('P(a > Sham) = ', 1.0)\n",
      "('P(v > Sham) = ', 1.0)\n",
      "('P(z > Sham) = ', 0.7702020202020202)\n"
     ]
    }
   ],
   "source": [
    "a_Intercept,a_cTBS = fm_2.nodes_db.loc[[\"a_Intercept\",\"a_C(turn_type, Treatment('Sham'))[T.Left cTBS]\"], 'node']\n",
    "v_Intercept,v_cTBS = fm_2.nodes_db.loc[[\"v_Intercept\",\"v_C(turn_type, Treatment('Sham'))[T.Left cTBS]\"], 'node']\n",
    "z_Intercept,z_cTBS = fm_2.nodes_db.loc[[\"z_Intercept\",\"z_C(turn_type, Treatment('Sham'))[T.Left cTBS]\"], 'node']\n",
    "\n",
    "fig, ax = plt.subplots()\n",
    "fig.set_size_inches(4,4)\n",
    "\n",
    "para_tag=['boundary(a)','drift rate(v)','starting point(z)']\n",
    "counts = [a_cTBS.trace()/(max(a_cTBS.trace())-min(a_cTBS.trace())),v_cTBS.trace()/(max(v_cTBS.trace())-min(v_cTBS.trace())),z_cTBS.trace()/(max(z_cTBS.trace())-min(z_cTBS.trace()))]\n",
    "\n",
    "ax.axhline(y = 0, color =\"green\", linestyle =\"--\")\n",
    "ax.violinplot(counts)\n",
    "ax.set_xticks([1,2,3])\n",
    "ax.set_xticklabels(para_tag)\n",
    "ax.set_title('Full model: Left cTBS consonant quiet')\n",
    "ax.set_ylabel('Regression coef (normalized)')\n",
    "ax.set_ylim([-1.8,1.8])\n",
    "ax.spines['right'].set_visible(False)\n",
    "ax.spines['top'].set_visible(False)\n",
    "\n",
    "plt.show()\n",
    "\n",
    "print(\"P(a > Sham) = \", (a_cTBS.trace() > 0).mean())\n",
    "print(\"P(v > Sham) = \", (v_cTBS.trace() > 0).mean())\n",
    "print(\"P(z > Sham) = \", (z_cTBS.trace() > 0).mean())"
   ]
  },
  {
   "cell_type": "markdown",
   "metadata": {},
   "source": [
    "#### predict data from simulated data derived from full model"
   ]
  },
  {
   "cell_type": "code",
   "execution_count": 18,
   "metadata": {},
   "outputs": [
    {
     "name": "stdout",
     "output_type": "stream",
     "text": [
      " [-------------------112%-------------------] 28 of 25 complete in 22941.7 sec"
     ]
    },
    {
     "data": {
      "text/html": [
       "<div>\n",
       "<style scoped>\n",
       "    .dataframe tbody tr th:only-of-type {\n",
       "        vertical-align: middle;\n",
       "    }\n",
       "\n",
       "    .dataframe tbody tr th {\n",
       "        vertical-align: top;\n",
       "    }\n",
       "\n",
       "    .dataframe thead th {\n",
       "        text-align: right;\n",
       "    }\n",
       "</style>\n",
       "<table border=\"1\" class=\"dataframe\">\n",
       "  <thead>\n",
       "    <tr style=\"text-align: right;\">\n",
       "      <th></th>\n",
       "      <th>observed</th>\n",
       "      <th>mean</th>\n",
       "      <th>std</th>\n",
       "      <th>SEM</th>\n",
       "      <th>MSE</th>\n",
       "      <th>credible</th>\n",
       "      <th>quantile</th>\n",
       "      <th>mahalanobis</th>\n",
       "    </tr>\n",
       "    <tr>\n",
       "      <th>stat</th>\n",
       "      <th></th>\n",
       "      <th></th>\n",
       "      <th></th>\n",
       "      <th></th>\n",
       "      <th></th>\n",
       "      <th></th>\n",
       "      <th></th>\n",
       "      <th></th>\n",
       "    </tr>\n",
       "  </thead>\n",
       "  <tbody>\n",
       "    <tr>\n",
       "      <th>accuracy</th>\n",
       "      <td>0.657692</td>\n",
       "      <td>0.666982</td>\n",
       "      <td>0.104336</td>\n",
       "      <td>0.000086</td>\n",
       "      <td>0.010972</td>\n",
       "      <td>True</td>\n",
       "      <td>43.344002</td>\n",
       "      <td>0.089037</td>\n",
       "    </tr>\n",
       "    <tr>\n",
       "      <th>mean_ub</th>\n",
       "      <td>0.605000</td>\n",
       "      <td>0.633725</td>\n",
       "      <td>0.102474</td>\n",
       "      <td>0.000825</td>\n",
       "      <td>0.011326</td>\n",
       "      <td>True</td>\n",
       "      <td>40.383999</td>\n",
       "      <td>0.280316</td>\n",
       "    </tr>\n",
       "    <tr>\n",
       "      <th>std_ub</th>\n",
       "      <td>0.238757</td>\n",
       "      <td>0.218060</td>\n",
       "      <td>0.059067</td>\n",
       "      <td>0.000428</td>\n",
       "      <td>0.003917</td>\n",
       "      <td>True</td>\n",
       "      <td>68.776001</td>\n",
       "      <td>0.350411</td>\n",
       "    </tr>\n",
       "    <tr>\n",
       "      <th>10q_ub</th>\n",
       "      <td>0.406351</td>\n",
       "      <td>0.437312</td>\n",
       "      <td>0.083296</td>\n",
       "      <td>0.000959</td>\n",
       "      <td>0.007897</td>\n",
       "      <td>True</td>\n",
       "      <td>25.375999</td>\n",
       "      <td>0.371696</td>\n",
       "    </tr>\n",
       "    <tr>\n",
       "      <th>30q_ub</th>\n",
       "      <td>0.494294</td>\n",
       "      <td>0.495751</td>\n",
       "      <td>0.086158</td>\n",
       "      <td>0.000002</td>\n",
       "      <td>0.007425</td>\n",
       "      <td>True</td>\n",
       "      <td>47.015999</td>\n",
       "      <td>0.016911</td>\n",
       "    </tr>\n",
       "    <tr>\n",
       "      <th>50q_ub</th>\n",
       "      <td>0.561459</td>\n",
       "      <td>0.568312</td>\n",
       "      <td>0.093989</td>\n",
       "      <td>0.000047</td>\n",
       "      <td>0.008881</td>\n",
       "      <td>True</td>\n",
       "      <td>48.007999</td>\n",
       "      <td>0.072916</td>\n",
       "    </tr>\n",
       "    <tr>\n",
       "      <th>70q_ub</th>\n",
       "      <td>0.647337</td>\n",
       "      <td>0.678220</td>\n",
       "      <td>0.111156</td>\n",
       "      <td>0.000954</td>\n",
       "      <td>0.013309</td>\n",
       "      <td>True</td>\n",
       "      <td>43.352001</td>\n",
       "      <td>0.277834</td>\n",
       "    </tr>\n",
       "    <tr>\n",
       "      <th>90q_ub</th>\n",
       "      <td>0.836489</td>\n",
       "      <td>0.915446</td>\n",
       "      <td>0.160551</td>\n",
       "      <td>0.006234</td>\n",
       "      <td>0.032011</td>\n",
       "      <td>True</td>\n",
       "      <td>37.096001</td>\n",
       "      <td>0.491787</td>\n",
       "    </tr>\n",
       "    <tr>\n",
       "      <th>mean_lb</th>\n",
       "      <td>-0.657797</td>\n",
       "      <td>-0.643381</td>\n",
       "      <td>0.110175</td>\n",
       "      <td>0.000208</td>\n",
       "      <td>0.012346</td>\n",
       "      <td>True</td>\n",
       "      <td>41.240002</td>\n",
       "      <td>0.130844</td>\n",
       "    </tr>\n",
       "    <tr>\n",
       "      <th>std_lb</th>\n",
       "      <td>0.232883</td>\n",
       "      <td>0.217499</td>\n",
       "      <td>0.062325</td>\n",
       "      <td>0.000237</td>\n",
       "      <td>0.004121</td>\n",
       "      <td>True</td>\n",
       "      <td>65.232002</td>\n",
       "      <td>0.246820</td>\n",
       "    </tr>\n",
       "    <tr>\n",
       "      <th>10q_lb</th>\n",
       "      <td>0.467287</td>\n",
       "      <td>0.444673</td>\n",
       "      <td>0.090470</td>\n",
       "      <td>0.000511</td>\n",
       "      <td>0.008696</td>\n",
       "      <td>True</td>\n",
       "      <td>62.368000</td>\n",
       "      <td>0.249957</td>\n",
       "    </tr>\n",
       "    <tr>\n",
       "      <th>30q_lb</th>\n",
       "      <td>0.548804</td>\n",
       "      <td>0.505563</td>\n",
       "      <td>0.095627</td>\n",
       "      <td>0.001870</td>\n",
       "      <td>0.011014</td>\n",
       "      <td>True</td>\n",
       "      <td>71.335999</td>\n",
       "      <td>0.452182</td>\n",
       "    </tr>\n",
       "    <tr>\n",
       "      <th>50q_lb</th>\n",
       "      <td>0.616807</td>\n",
       "      <td>0.579555</td>\n",
       "      <td>0.104027</td>\n",
       "      <td>0.001388</td>\n",
       "      <td>0.012209</td>\n",
       "      <td>True</td>\n",
       "      <td>66.680000</td>\n",
       "      <td>0.358101</td>\n",
       "    </tr>\n",
       "    <tr>\n",
       "      <th>70q_lb</th>\n",
       "      <td>0.696041</td>\n",
       "      <td>0.689907</td>\n",
       "      <td>0.120438</td>\n",
       "      <td>0.000038</td>\n",
       "      <td>0.014543</td>\n",
       "      <td>True</td>\n",
       "      <td>56.063999</td>\n",
       "      <td>0.050932</td>\n",
       "    </tr>\n",
       "    <tr>\n",
       "      <th>90q_lb</th>\n",
       "      <td>0.886618</td>\n",
       "      <td>0.922781</td>\n",
       "      <td>0.169953</td>\n",
       "      <td>0.001308</td>\n",
       "      <td>0.030192</td>\n",
       "      <td>True</td>\n",
       "      <td>47.959999</td>\n",
       "      <td>0.212781</td>\n",
       "    </tr>\n",
       "  </tbody>\n",
       "</table>\n",
       "</div>"
      ],
      "text/plain": [
       "          observed      mean       std       SEM       MSE credible  \\\n",
       "stat                                                                  \n",
       "accuracy  0.657692  0.666982  0.104336  0.000086  0.010972     True   \n",
       "mean_ub   0.605000  0.633725  0.102474  0.000825  0.011326     True   \n",
       "std_ub    0.238757  0.218060  0.059067  0.000428  0.003917     True   \n",
       "10q_ub    0.406351  0.437312  0.083296  0.000959  0.007897     True   \n",
       "30q_ub    0.494294  0.495751  0.086158  0.000002  0.007425     True   \n",
       "50q_ub    0.561459  0.568312  0.093989  0.000047  0.008881     True   \n",
       "70q_ub    0.647337  0.678220  0.111156  0.000954  0.013309     True   \n",
       "90q_ub    0.836489  0.915446  0.160551  0.006234  0.032011     True   \n",
       "mean_lb  -0.657797 -0.643381  0.110175  0.000208  0.012346     True   \n",
       "std_lb    0.232883  0.217499  0.062325  0.000237  0.004121     True   \n",
       "10q_lb    0.467287  0.444673  0.090470  0.000511  0.008696     True   \n",
       "30q_lb    0.548804  0.505563  0.095627  0.001870  0.011014     True   \n",
       "50q_lb    0.616807  0.579555  0.104027  0.001388  0.012209     True   \n",
       "70q_lb    0.696041  0.689907  0.120438  0.000038  0.014543     True   \n",
       "90q_lb    0.886618  0.922781  0.169953  0.001308  0.030192     True   \n",
       "\n",
       "           quantile  mahalanobis  \n",
       "stat                              \n",
       "accuracy  43.344002     0.089037  \n",
       "mean_ub   40.383999     0.280316  \n",
       "std_ub    68.776001     0.350411  \n",
       "10q_ub    25.375999     0.371696  \n",
       "30q_ub    47.015999     0.016911  \n",
       "50q_ub    48.007999     0.072916  \n",
       "70q_ub    43.352001     0.277834  \n",
       "90q_ub    37.096001     0.491787  \n",
       "mean_lb   41.240002     0.130844  \n",
       "std_lb    65.232002     0.246820  \n",
       "10q_lb    62.368000     0.249957  \n",
       "30q_lb    71.335999     0.452182  \n",
       "50q_lb    66.680000     0.358101  \n",
       "70q_lb    56.063999     0.050932  \n",
       "90q_lb    47.959999     0.212781  "
      ]
     },
     "execution_count": 18,
     "metadata": {},
     "output_type": "execute_result"
    }
   ],
   "source": [
    "fm_data_2_sim = hddm.utils.post_pred_gen(fm_2)\n",
    "hddm.utils.post_pred_stats(fm_data_2, fm_data_2_sim)"
   ]
  }
 ],
 "metadata": {
  "kernelspec": {
   "display_name": "Python 2.7.18 ('bsliang_DDM_27': conda)",
   "language": "python",
   "name": "python3"
  },
  "language_info": {
   "codemirror_mode": {
    "name": "ipython",
    "version": 2
   },
   "file_extension": ".py",
   "mimetype": "text/x-python",
   "name": "python",
   "nbconvert_exporter": "python",
   "pygments_lexer": "ipython2",
   "version": "2.7.18"
  },
  "orig_nbformat": 4,
  "vscode": {
   "interpreter": {
    "hash": "800a09db568ebe80aacfc1bc086e45a31a7cff3ccaf522d8b640d0dfbe2b8801"
   }
  }
 },
 "nbformat": 4,
 "nbformat_minor": 2
}
