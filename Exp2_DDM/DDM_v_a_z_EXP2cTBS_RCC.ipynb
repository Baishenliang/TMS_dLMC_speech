{
 "cells": [
  {
   "cell_type": "markdown",
   "metadata": {},
   "source": [
    "![这是图片](星云2.jpg \"Magic Gardens\")<br><br>\n",
    "事情是这样的<br>\n",
    "我本来已经<br>\n",
    "打算完结这个分析了<br> \n",
    "但杜老师，居然<br>\n",
    "竟然，也是不出意料<br>\n",
    "叫我加一个参数<br>"
   ]
  },
  {
   "cell_type": "markdown",
   "metadata": {},
   "source": [
    "# TBS"
   ]
  },
  {
   "cell_type": "markdown",
   "metadata": {},
   "source": [
    "## preparing"
   ]
  },
  {
   "cell_type": "code",
   "execution_count": 19,
   "metadata": {},
   "outputs": [],
   "source": [
    "import pandas as pd\n",
    "import matplotlib.pyplot as plt\n",
    "import hddm\n",
    "import numpy as np\n",
    "import pickle\n",
    "from patsy import dmatrices, dmatrix, demo_data\n",
    "cm = 1/2.54"
   ]
  },
  {
   "cell_type": "markdown",
   "metadata": {},
   "source": [
    "## loading data"
   ]
  },
  {
   "cell_type": "code",
   "execution_count": 2,
   "metadata": {},
   "outputs": [
    {
     "data": {
      "text/html": [
       "<div>\n",
       "<style scoped>\n",
       "    .dataframe tbody tr th:only-of-type {\n",
       "        vertical-align: middle;\n",
       "    }\n",
       "\n",
       "    .dataframe tbody tr th {\n",
       "        vertical-align: top;\n",
       "    }\n",
       "\n",
       "    .dataframe thead th {\n",
       "        text-align: right;\n",
       "    }\n",
       "</style>\n",
       "<table border=\"1\" class=\"dataframe\">\n",
       "  <thead>\n",
       "    <tr style=\"text-align: right;\">\n",
       "      <th></th>\n",
       "      <th>subj_idx</th>\n",
       "      <th>group_idx</th>\n",
       "      <th>turn_type</th>\n",
       "      <th>task_type</th>\n",
       "      <th>snr_type</th>\n",
       "      <th>trial_num</th>\n",
       "      <th>step_att</th>\n",
       "      <th>response</th>\n",
       "      <th>rt</th>\n",
       "      <th>step_unatnd</th>\n",
       "    </tr>\n",
       "  </thead>\n",
       "  <tbody>\n",
       "    <tr>\n",
       "      <th>0</th>\n",
       "      <td>55</td>\n",
       "      <td>Larynx</td>\n",
       "      <td>Left iTBS</td>\n",
       "      <td>Tone</td>\n",
       "      <td>Clear</td>\n",
       "      <td>1</td>\n",
       "      <td>3</td>\n",
       "      <td>1</td>\n",
       "      <td>1.083317</td>\n",
       "      <td>1</td>\n",
       "    </tr>\n",
       "    <tr>\n",
       "      <th>1</th>\n",
       "      <td>55</td>\n",
       "      <td>Larynx</td>\n",
       "      <td>Left iTBS</td>\n",
       "      <td>Tone</td>\n",
       "      <td>Clear</td>\n",
       "      <td>2</td>\n",
       "      <td>4</td>\n",
       "      <td>1</td>\n",
       "      <td>0.744397</td>\n",
       "      <td>1</td>\n",
       "    </tr>\n",
       "    <tr>\n",
       "      <th>2</th>\n",
       "      <td>55</td>\n",
       "      <td>Larynx</td>\n",
       "      <td>Left iTBS</td>\n",
       "      <td>Tone</td>\n",
       "      <td>Clear</td>\n",
       "      <td>3</td>\n",
       "      <td>4</td>\n",
       "      <td>1</td>\n",
       "      <td>0.732525</td>\n",
       "      <td>1</td>\n",
       "    </tr>\n",
       "    <tr>\n",
       "      <th>3</th>\n",
       "      <td>55</td>\n",
       "      <td>Larynx</td>\n",
       "      <td>Left iTBS</td>\n",
       "      <td>Tone</td>\n",
       "      <td>Clear</td>\n",
       "      <td>4</td>\n",
       "      <td>5</td>\n",
       "      <td>1</td>\n",
       "      <td>0.800199</td>\n",
       "      <td>1</td>\n",
       "    </tr>\n",
       "    <tr>\n",
       "      <th>4</th>\n",
       "      <td>55</td>\n",
       "      <td>Larynx</td>\n",
       "      <td>Left iTBS</td>\n",
       "      <td>Tone</td>\n",
       "      <td>Clear</td>\n",
       "      <td>5</td>\n",
       "      <td>4</td>\n",
       "      <td>1</td>\n",
       "      <td>0.753649</td>\n",
       "      <td>1</td>\n",
       "    </tr>\n",
       "    <tr>\n",
       "      <th>5</th>\n",
       "      <td>55</td>\n",
       "      <td>Larynx</td>\n",
       "      <td>Left iTBS</td>\n",
       "      <td>Tone</td>\n",
       "      <td>Clear</td>\n",
       "      <td>6</td>\n",
       "      <td>4</td>\n",
       "      <td>1</td>\n",
       "      <td>0.544652</td>\n",
       "      <td>1</td>\n",
       "    </tr>\n",
       "    <tr>\n",
       "      <th>6</th>\n",
       "      <td>55</td>\n",
       "      <td>Larynx</td>\n",
       "      <td>Left iTBS</td>\n",
       "      <td>Tone</td>\n",
       "      <td>Clear</td>\n",
       "      <td>7</td>\n",
       "      <td>5</td>\n",
       "      <td>1</td>\n",
       "      <td>0.621313</td>\n",
       "      <td>1</td>\n",
       "    </tr>\n",
       "    <tr>\n",
       "      <th>7</th>\n",
       "      <td>55</td>\n",
       "      <td>Larynx</td>\n",
       "      <td>Left iTBS</td>\n",
       "      <td>Tone</td>\n",
       "      <td>Clear</td>\n",
       "      <td>8</td>\n",
       "      <td>5</td>\n",
       "      <td>1</td>\n",
       "      <td>0.580819</td>\n",
       "      <td>1</td>\n",
       "    </tr>\n",
       "    <tr>\n",
       "      <th>8</th>\n",
       "      <td>55</td>\n",
       "      <td>Larynx</td>\n",
       "      <td>Left iTBS</td>\n",
       "      <td>Tone</td>\n",
       "      <td>Clear</td>\n",
       "      <td>9</td>\n",
       "      <td>1</td>\n",
       "      <td>0</td>\n",
       "      <td>-0.496794</td>\n",
       "      <td>1</td>\n",
       "    </tr>\n",
       "    <tr>\n",
       "      <th>9</th>\n",
       "      <td>55</td>\n",
       "      <td>Larynx</td>\n",
       "      <td>Left iTBS</td>\n",
       "      <td>Tone</td>\n",
       "      <td>Clear</td>\n",
       "      <td>10</td>\n",
       "      <td>3</td>\n",
       "      <td>1</td>\n",
       "      <td>0.863869</td>\n",
       "      <td>1</td>\n",
       "    </tr>\n",
       "  </tbody>\n",
       "</table>\n",
       "</div>"
      ],
      "text/plain": [
       "   subj_idx group_idx  turn_type task_type snr_type  trial_num  step_att  \\\n",
       "0        55    Larynx  Left iTBS      Tone    Clear          1         3   \n",
       "1        55    Larynx  Left iTBS      Tone    Clear          2         4   \n",
       "2        55    Larynx  Left iTBS      Tone    Clear          3         4   \n",
       "3        55    Larynx  Left iTBS      Tone    Clear          4         5   \n",
       "4        55    Larynx  Left iTBS      Tone    Clear          5         4   \n",
       "5        55    Larynx  Left iTBS      Tone    Clear          6         4   \n",
       "6        55    Larynx  Left iTBS      Tone    Clear          7         5   \n",
       "7        55    Larynx  Left iTBS      Tone    Clear          8         5   \n",
       "8        55    Larynx  Left iTBS      Tone    Clear          9         1   \n",
       "9        55    Larynx  Left iTBS      Tone    Clear         10         3   \n",
       "\n",
       "   response        rt  step_unatnd  \n",
       "0         1  1.083317            1  \n",
       "1         1  0.744397            1  \n",
       "2         1  0.732525            1  \n",
       "3         1  0.800199            1  \n",
       "4         1  0.753649            1  \n",
       "5         1  0.544652            1  \n",
       "6         1  0.621313            1  \n",
       "7         1  0.580819            1  \n",
       "8         0 -0.496794            1  \n",
       "9         1  0.863869            1  "
      ]
     },
     "execution_count": 2,
     "metadata": {},
     "output_type": "execute_result"
    }
   ],
   "source": [
    "data = hddm.load_csv('exp2_DDM.csv')\n",
    "data = hddm.utils.flip_errors(data)\n",
    "data.head(10)"
   ]
  },
  {
   "cell_type": "markdown",
   "metadata": {},
   "source": [
    "## Right stim, consonant, clear"
   ]
  },
  {
   "cell_type": "markdown",
   "metadata": {},
   "source": [
    "### RT distribution"
   ]
  },
  {
   "cell_type": "code",
   "execution_count": 31,
   "metadata": {},
   "outputs": [
    {
     "name": "stderr",
     "output_type": "stream",
     "text": [
      "/home/bsliang/miniconda3/envs/bsliang_DDM_27/lib/python2.7/site-packages/ipykernel_launcher.py:12: FutureWarning: The signature of `Series.to_csv` was aligned to that of `DataFrame.to_csv`, and argument 'header' will change its default value from False to True: please pass an explicit value to suppress this warning.\n",
      "  if sys.path[0] == '':\n",
      "/home/bsliang/miniconda3/envs/bsliang_DDM_27/lib/python2.7/site-packages/ipykernel_launcher.py:13: FutureWarning: The signature of `Series.to_csv` was aligned to that of `DataFrame.to_csv`, and argument 'header' will change its default value from False to True: please pass an explicit value to suppress this warning.\n",
      "  del sys.path[0]\n"
     ]
    },
    {
     "data": {
      "image/png": "[encoded data removed]",
      "text/plain": [
       "<Figure size 127.559x70.8661 with 1 Axes>"
      ]
     },
     "metadata": {
      "needs_background": "light"
     },
     "output_type": "display_data"
    },
    {
     "data": {
      "image/png": "[encoded data removed]",
      "text/plain": [
       "<Figure size 34.0157x56.6929 with 1 Axes>"
      ]
     },
     "metadata": {
      "needs_background": "light"
     },
     "output_type": "display_data"
    }
   ],
   "source": [
    "data_unflip = hddm.load_csv('exp2_DDM.csv')\n",
    "\n",
    "D_R=data_unflip.loc[data_unflip['turn_type'].isin(['Right cTBS','Sham'])]\n",
    "D_R_C=D_R.loc[D_R['task_type']=='Cons']\n",
    "D_R_C_Q=D_R_C.loc[D_R_C['snr_type']=='Clear']\n",
    "D=D_R_C_Q\n",
    "D_name='D_R_C_Q_'\n",
    "\n",
    "D_TMS=D.loc[D['turn_type'].isin(['Right cTBS'])]\n",
    "D_Sham=D.loc[D['turn_type'].isin(['Sham'])]\n",
    "\n",
    "D_TMS.rt.to_csv(D_name+'TBS_RT.csv')\n",
    "D_Sham.rt.to_csv(D_name+'Sham_RT.csv')\n",
    "\n",
    "mean_TMS=D_TMS.rt.mean()\n",
    "se_TMS=np.std(D_TMS.rt, ddof=1) / np.sqrt(len(D_TMS.rt))\n",
    "mean_Sham=D_Sham.rt.mean()\n",
    "se_Sham=np.std(D_Sham.rt, ddof=1) / np.sqrt(len(D_Sham.rt))\n",
    "\n",
    "plt.rcParams['savefig.dpi']=300\n",
    "plt.rcParams['font.size']=5\n",
    "plt.rcParams['axes.linewidth']=0.5\n",
    "plt.rcParams['font.family']='Arial'\n",
    "\n",
    "fig, ax = plt.subplots()\n",
    "fig.set_size_inches(4.5*cm,2.5*cm)\n",
    "\n",
    "nbins=50\n",
    "dens_TMS = ax.hist(D_TMS.rt,bins=nbins, histtype='step',density=False,color=[0,0,0],linewidth=1,alpha=0.5)\n",
    "dens_Sham = ax.hist(D_Sham.rt,bins=nbins, histtype='step',density=False,color=[0.5,0.5,0.5],linewidth=1,alpha=0.5)\n",
    "\n",
    "\n",
    "for ibin in range(0,nbins-1):\n",
    "    if dens_TMS[1][ibin] > mean_TMS:\n",
    "        dens_TMS_mean = dens_TMS[0][ibin-1]\n",
    "        break\n",
    "\n",
    "for ibin in range(0,nbins-1):\n",
    "    if dens_Sham[1][ibin] > mean_Sham:\n",
    "        dens_Sham_mean = dens_Sham[0][ibin-1]\n",
    "        break\n",
    "\n",
    "#ax.set_title('RT distributions')\n",
    "#ax.set_ylabel('Number of trials')\n",
    "#ax.set_xlabel('Reaction time (s)')\n",
    "ax.set_xlim([0,2])\n",
    "ax.set_xticks(np.linspace(0,2,5))\n",
    "ax.set_ylim([0,900])\n",
    "ax.set_yticks([200,400,600,800,900])\n",
    "ax.set_yticklabels([200,400,600,800])\n",
    "ax.spines['right'].set_visible(False)\n",
    "ax.spines['top'].set_visible(False)\n",
    "ax.tick_params('both',which='major',direction='in',width=0.5,length=2)\n",
    "\n",
    "ax.axvline(x = mean_TMS, ymin=0,ymax=dens_TMS_mean/900,color =[0,0,0], linestyle =\"--\",linewidth=1,alpha=0.5)\n",
    "ax.axvline(x = mean_Sham, ymin=0,ymax=dens_Sham_mean/900,color =[0.5,0.5,0.5], linestyle =\"--\",linewidth=1,alpha=0.5)\n",
    "#ax.legend('upper right')\n",
    "\n",
    "plt.savefig(D_name+'cTBS_RT_dist.pdf',bbox_inches = 'tight',transparent=True)\n",
    "plt.show()\n",
    "\n",
    "fig, ax = plt.subplots()\n",
    "\n",
    "cat = ['cTBS','Sham']\n",
    "cat_mean = [mean_TMS,mean_Sham]\n",
    "\n",
    "axbar=ax.bar(cat, cat_mean,yerr=[se_TMS,se_Sham],color=[[0,0,0],[0.5,0.5,0.5]],alpha=0.5)\n",
    "axbar.errorbar.lines[2][0].set_linewidth(0.5)\n",
    "\n",
    "ax.set_ylabel('RT (s)',fontsize=5)\n",
    "#ax.set_title('cTBS: Right stimulation tone noise')\n",
    "#ax.set_xticks([])\n",
    "ax.set_ylim([0.6,0.7])\n",
    "ax.set_yticks(np.linspace(0.6,0.7,6))\n",
    "ax.spines['right'].set_visible(False)\n",
    "ax.spines['top'].set_visible(False)\n",
    "ax.tick_params('both',which='major',direction='in',bottom=False,width=0.5,length=1,labelsize=4)\n",
    "#ax.yaxis.tick_right()\n",
    "\n",
    "fig.set_size_inches(1.2*cm,2*cm)\n",
    "\n",
    "plt.savefig(D_name+'cTBS_RT.pdf',bbox_inches = 'tight',transparent=True)\n",
    "plt.show()"
   ]
  },
  {
   "cell_type": "markdown",
   "metadata": {},
   "source": [
    "### preparing data"
   ]
  },
  {
   "cell_type": "code",
   "execution_count": 4,
   "metadata": {},
   "outputs": [
    {
     "name": "stdout",
     "output_type": "stream",
     "text": [
      "       subj_idx group_idx   turn_type task_type snr_type  trial_num  step_att  \\\n",
      "2028         55    Larynx  Right cTBS      Cons    Clear          1         3   \n",
      "2029         55    Larynx  Right cTBS      Cons    Clear          2         4   \n",
      "2030         55    Larynx  Right cTBS      Cons    Clear          3         4   \n",
      "2031         55    Larynx  Right cTBS      Cons    Clear          4         5   \n",
      "2032         55    Larynx  Right cTBS      Cons    Clear          5         4   \n",
      "2033         55    Larynx  Right cTBS      Cons    Clear          6         4   \n",
      "2034         55    Larynx  Right cTBS      Cons    Clear          7         5   \n",
      "2035         55    Larynx  Right cTBS      Cons    Clear          8         5   \n",
      "2036         55    Larynx  Right cTBS      Cons    Clear          9         1   \n",
      "2037         55    Larynx  Right cTBS      Cons    Clear         10         3   \n",
      "2038         55    Larynx  Right cTBS      Cons    Clear         11         5   \n",
      "2039         55    Larynx  Right cTBS      Cons    Clear         12         2   \n",
      "2040         55    Larynx  Right cTBS      Cons    Clear         13         3   \n",
      "2041         55    Larynx  Right cTBS      Cons    Clear         14         1   \n",
      "2042         55    Larynx  Right cTBS      Cons    Clear         15         1   \n",
      "2043         55    Larynx  Right cTBS      Cons    Clear         16         2   \n",
      "2044         55    Larynx  Right cTBS      Cons    Clear         17         3   \n",
      "2045         55    Larynx  Right cTBS      Cons    Clear         18         1   \n",
      "2046         55    Larynx  Right cTBS      Cons    Clear         19         3   \n",
      "2047         55    Larynx  Right cTBS      Cons    Clear         20         3   \n",
      "2048         55    Larynx  Right cTBS      Cons    Clear         21         3   \n",
      "2049         55    Larynx  Right cTBS      Cons    Clear         22         4   \n",
      "2050         55    Larynx  Right cTBS      Cons    Clear         23         4   \n",
      "2051         55    Larynx  Right cTBS      Cons    Clear         24         5   \n",
      "2052         55    Larynx  Right cTBS      Cons    Clear         25         3   \n",
      "2053         55    Larynx  Right cTBS      Cons    Clear         26         3   \n",
      "2054         55    Larynx  Right cTBS      Cons    Clear         27         3   \n",
      "2055         55    Larynx  Right cTBS      Cons    Clear         28         1   \n",
      "2056         55    Larynx  Right cTBS      Cons    Clear         29         4   \n",
      "2057         55    Larynx  Right cTBS      Cons    Clear         30         2   \n",
      "...         ...       ...         ...       ...      ...        ...       ...   \n",
      "78282       253    Larynx        Sham      Cons    Clear        127         2   \n",
      "78283       253    Larynx        Sham      Cons    Clear        128         4   \n",
      "78284       253    Larynx        Sham      Cons    Clear        129         5   \n",
      "78285       253    Larynx        Sham      Cons    Clear        130         2   \n",
      "78286       253    Larynx        Sham      Cons    Clear        131         1   \n",
      "78287       253    Larynx        Sham      Cons    Clear        132         2   \n",
      "78288       253    Larynx        Sham      Cons    Clear        133         5   \n",
      "78289       253    Larynx        Sham      Cons    Clear        134         3   \n",
      "78290       253    Larynx        Sham      Cons    Clear        135         3   \n",
      "78291       253    Larynx        Sham      Cons    Clear        136         3   \n",
      "78292       253    Larynx        Sham      Cons    Clear        137         2   \n",
      "78293       253    Larynx        Sham      Cons    Clear        138         3   \n",
      "78294       253    Larynx        Sham      Cons    Clear        139         4   \n",
      "78295       253    Larynx        Sham      Cons    Clear        140         3   \n",
      "78296       253    Larynx        Sham      Cons    Clear        141         4   \n",
      "78297       253    Larynx        Sham      Cons    Clear        142         1   \n",
      "78298       253    Larynx        Sham      Cons    Clear        143         5   \n",
      "78299       253    Larynx        Sham      Cons    Clear        144         2   \n",
      "78300       253    Larynx        Sham      Cons    Clear        145         3   \n",
      "78301       253    Larynx        Sham      Cons    Clear        146         4   \n",
      "78302       253    Larynx        Sham      Cons    Clear        147         1   \n",
      "78303       253    Larynx        Sham      Cons    Clear        148         1   \n",
      "78304       253    Larynx        Sham      Cons    Clear        149         2   \n",
      "78305       253    Larynx        Sham      Cons    Clear        150         5   \n",
      "78306       253    Larynx        Sham      Cons    Clear        151         5   \n",
      "78307       253    Larynx        Sham      Cons    Clear        152         5   \n",
      "78308       253    Larynx        Sham      Cons    Clear        153         4   \n",
      "78309       253    Larynx        Sham      Cons    Clear        154         3   \n",
      "78310       253    Larynx        Sham      Cons    Clear        155         2   \n",
      "78311       253    Larynx        Sham      Cons    Clear        156         4   \n",
      "\n",
      "       response        rt  step_unatnd  \n",
      "2028          1  1.436615            1  \n",
      "2029          1  0.890449            1  \n",
      "2030          1  0.552129            1  \n",
      "2031          1  0.504865            1  \n",
      "2032          1  0.487305            1  \n",
      "2033          1  0.497129            1  \n",
      "2034          1  0.517081            1  \n",
      "2035          1  0.529132            1  \n",
      "2036          0 -0.529689            1  \n",
      "2037          1  0.493304            1  \n",
      "2038          1  0.560370            1  \n",
      "2039          0 -0.632405            1  \n",
      "2040          1  0.895717            1  \n",
      "2041          0 -1.368152            1  \n",
      "2042          0 -0.591915            1  \n",
      "2043          0 -1.011090            1  \n",
      "2044          1  0.553800            1  \n",
      "2045          0 -0.609624            1  \n",
      "2046          1  0.556187            1  \n",
      "2047          1  0.607320            1  \n",
      "2048          1  0.609581            1  \n",
      "2049          1  0.540372            1  \n",
      "2050          1  0.523060            1  \n",
      "2051          1  0.489787            1  \n",
      "2052          1  0.529333            1  \n",
      "2053          1  0.827785            1  \n",
      "2054          1  0.645039            1  \n",
      "2055          0 -0.520400            1  \n",
      "2056          1  0.607232            1  \n",
      "2057          0 -0.739962            1  \n",
      "...         ...       ...          ...  \n",
      "78282         0 -0.596020            1  \n",
      "78283         1  0.483886            1  \n",
      "78284         1  0.480658            1  \n",
      "78285         0 -0.554141            1  \n",
      "78286         0 -0.483899            1  \n",
      "78287         0 -0.735664            1  \n",
      "78288         1  0.569922            1  \n",
      "78289         1  0.720954            1  \n",
      "78290         0 -0.799678            1  \n",
      "78291         1  0.687716            1  \n",
      "78292         0 -0.810177            1  \n",
      "78293         1  0.640178            1  \n",
      "78294         1  0.578575            1  \n",
      "78295         1  0.542345            1  \n",
      "78296         1  0.521091            1  \n",
      "78297         0 -0.483623            1  \n",
      "78298         1  0.646792            1  \n",
      "78299         0 -0.656289            1  \n",
      "78300         1  0.553948            1  \n",
      "78301         1  0.770307            1  \n",
      "78302         0 -0.506785            1  \n",
      "78303         0 -0.672766            1  \n",
      "78304         0 -0.721732            1  \n",
      "78305         1  0.609379            1  \n",
      "78306         1  0.689112            1  \n",
      "78307         1  0.545095            1  \n",
      "78308         1  0.401211            1  \n",
      "78309         0 -0.672633            1  \n",
      "78310         0 -0.584967            1  \n",
      "78311         1  0.515722            1  \n",
      "\n",
      "[7800 rows x 10 columns]\n"
     ]
    }
   ],
   "source": [
    "D_R=data.loc[data['turn_type'].isin(['Right cTBS','Sham'])]\n",
    "D_R_C=D_R.loc[D_R['task_type']=='Cons']\n",
    "D_R_C_Q=D_R_C.loc[D_R_C['snr_type']=='Clear']\n",
    "print(D_R_C_Q)\n",
    "D_R_C_Q.to_csv('Exp2_D_R_C_Q_cTBS.csv')"
   ]
  },
  {
   "cell_type": "code",
   "execution_count": 5,
   "metadata": {},
   "outputs": [],
   "source": [
    "def z_link_func_D_R_C_Q(x, data=D_R_C_Q):\n",
    "    stim = (np.asarray(dmatrix('0 + C(s, [[0], [1]])',\n",
    "                              {'s': data.turn_type.loc[x.index]},return_type='dataframe'))\n",
    "    )\n",
    "    # Apply z = (1 - x) to flip them along 0.5\n",
    "    z_flip = np.subtract(stim, x.to_frame())\n",
    "    # The above inverts those values we do not want to flip,\n",
    "    # so invert them back\n",
    "    z_flip[stim == 0] *= -1\n",
    "    return z_flip"
   ]
  },
  {
   "cell_type": "markdown",
   "metadata": {},
   "source": [
    "### baseline model"
   ]
  },
  {
   "cell_type": "code",
   "execution_count": 6,
   "metadata": {},
   "outputs": [
    {
     "name": "stdout",
     "output_type": "stream",
     "text": [
      "Adding these covariates:\n",
      "['a_Intercept']\n",
      "Adding these covariates:\n",
      "['v_Intercept']\n",
      "Adding these covariates:\n",
      "['z_Intercept']\n"
     ]
    },
    {
     "name": "stderr",
     "output_type": "stream",
     "text": [
      "/home/bsliang/miniconda3/envs/bsliang_DDM_27/lib/python2.7/site-packages/scipy/optimize/optimize.py:1934: RuntimeWarning: invalid value encountered in double_scalars\n",
      "  tmp2 = (x - v) * (fx - fw)\n"
     ]
    },
    {
     "name": "stdout",
     "output_type": "stream",
     "text": [
      " [-----------------100%-----------------] 2001 of 2000 complete in 2390.5 secWARNING: Will not save custom link functions.\n",
      "WARNING: Will not save custom link functions.\n",
      "WARNING: Will not save custom link functions.\n"
     ]
    }
   ],
   "source": [
    "a_reg = {'model': \"a ~ 1\",'link_func': lambda x: x}\n",
    "v_reg = {'model': \"v ~ 1\",'link_func': lambda x: x}\n",
    "z_reg = {'model': \"z ~ 1\",'link_func': lambda x: x}\n",
    "reg_descr = [a_reg,v_reg,z_reg]\n",
    "D_R_C_Q_bsl = hddm.HDDMRegressor(D_R_C_Q, reg_descr, include='z')\n",
    "D_R_C_Q_bsl.find_starting_values()\n",
    "D_R_C_Q_bsl.sample(2000, burn=20, dbname='traces.db', db='pickle')\n",
    "D_R_C_Q_bsl.save('D_R_C_Q_bsl')"
   ]
  },
  {
   "cell_type": "markdown",
   "metadata": {},
   "source": [
    "### model 1: a only"
   ]
  },
  {
   "cell_type": "code",
   "execution_count": 7,
   "metadata": {},
   "outputs": [
    {
     "name": "stdout",
     "output_type": "stream",
     "text": [
      "Adding these covariates:\n",
      "['a_Intercept', \"a_C(turn_type, Treatment('Sham'))[T.Right cTBS]\"]\n",
      "Adding these covariates:\n",
      "['v_Intercept']\n",
      "Adding these covariates:\n",
      "['z_Intercept']\n",
      " [-----------------100%-----------------] 2001 of 2000 complete in 2895.1 secWARNING: Will not save custom link functions.\n",
      "WARNING: Will not save custom link functions.\n",
      "WARNING: Will not save custom link functions.\n"
     ]
    }
   ],
   "source": [
    "a_reg = {'model': \"a ~ 1 + C(turn_type, Treatment('Sham'))\",'link_func': lambda x: x}\n",
    "v_reg = {'model': \"v ~ 1\",'link_func': lambda x: x}\n",
    "z_reg = {'model': \"z ~ 1\",'link_func': lambda x: x}\n",
    "reg_descr = [a_reg,v_reg,z_reg]\n",
    "D_R_C_Q_am = hddm.HDDMRegressor(D_R_C_Q, reg_descr, include='z')\n",
    "D_R_C_Q_am.find_starting_values()\n",
    "D_R_C_Q_am.sample(2000, burn=20, dbname='traces.db', db='pickle')\n",
    "D_R_C_Q_am.save('D_R_C_Q_am')"
   ]
  },
  {
   "cell_type": "markdown",
   "metadata": {},
   "source": [
    "### model 2: v only"
   ]
  },
  {
   "cell_type": "code",
   "execution_count": 8,
   "metadata": {},
   "outputs": [
    {
     "name": "stdout",
     "output_type": "stream",
     "text": [
      "Adding these covariates:\n",
      "['a_Intercept']\n",
      "Adding these covariates:\n",
      "['v_Intercept', \"v_C(turn_type, Treatment('Sham'))[T.Right cTBS]\"]\n",
      "Adding these covariates:\n",
      "['z_Intercept']\n",
      " [-----------------100%-----------------] 2001 of 2000 complete in 2958.4 secWARNING: Will not save custom link functions.\n",
      "WARNING: Will not save custom link functions.\n",
      "WARNING: Will not save custom link functions.\n"
     ]
    }
   ],
   "source": [
    "a_reg = {'model': \"a ~ 1\",'link_func': lambda x: x}\n",
    "v_reg = {'model': \"v ~ 1 + C(turn_type, Treatment('Sham'))\",'link_func': lambda x: x}\n",
    "z_reg = {'model': \"z ~ 1\",'link_func': lambda x: x}\n",
    "reg_descr = [a_reg,v_reg,z_reg]\n",
    "D_R_C_Q_vm = hddm.HDDMRegressor(D_R_C_Q, reg_descr, include='z')\n",
    "D_R_C_Q_vm.find_starting_values()\n",
    "D_R_C_Q_vm.sample(2000, burn=20, dbname='traces.db', db='pickle')\n",
    "D_R_C_Q_vm.save('D_R_C_Q_am')"
   ]
  },
  {
   "cell_type": "markdown",
   "metadata": {},
   "source": [
    "### model 3: z only"
   ]
  },
  {
   "cell_type": "code",
   "execution_count": 9,
   "metadata": {},
   "outputs": [
    {
     "name": "stdout",
     "output_type": "stream",
     "text": [
      "Adding these covariates:\n",
      "['a_Intercept']\n",
      "Adding these covariates:\n",
      "['v_Intercept']\n",
      "Adding these covariates:\n",
      "['z_Intercept', \"z_C(turn_type, Treatment('Sham'))[T.Right cTBS]\"]\n",
      " [-----------------100%-----------------] 2001 of 2000 complete in 2935.4 secWARNING: Will not save custom link functions.\n",
      "WARNING: Will not save custom link functions.\n",
      "WARNING: Will not save custom link functions.\n"
     ]
    }
   ],
   "source": [
    "a_reg = {'model': \"a ~ 1\",'link_func': lambda x: x}\n",
    "v_reg = {'model': \"v ~ 1\",'link_func': lambda x: x}\n",
    "z_reg = {'model': \"z ~ 1 + C(turn_type, Treatment('Sham'))\",'link_func': lambda x: x}\n",
    "reg_descr = [a_reg,v_reg,z_reg]\n",
    "D_R_C_Q_zm = hddm.HDDMRegressor(D_R_C_Q, reg_descr, include='z')\n",
    "D_R_C_Q_zm.find_starting_values()\n",
    "D_R_C_Q_zm.sample(2000, burn=20, dbname='traces.db', db='pickle')\n",
    "D_R_C_Q_zm.save('D_R_C_Q_zm')"
   ]
  },
  {
   "cell_type": "markdown",
   "metadata": {},
   "source": [
    "### model 4: a + v"
   ]
  },
  {
   "cell_type": "code",
   "execution_count": 10,
   "metadata": {},
   "outputs": [
    {
     "name": "stdout",
     "output_type": "stream",
     "text": [
      "Adding these covariates:\n",
      "['a_Intercept', \"a_C(turn_type, Treatment('Sham'))[T.Right cTBS]\"]\n",
      "Adding these covariates:\n",
      "['v_Intercept', \"v_C(turn_type, Treatment('Sham'))[T.Right cTBS]\"]\n",
      "Adding these covariates:\n",
      "['z_Intercept']\n",
      " [-----------------100%-----------------] 2001 of 2000 complete in 3437.2 secWARNING: Will not save custom link functions.\n",
      "WARNING: Will not save custom link functions.\n",
      "WARNING: Will not save custom link functions.\n"
     ]
    }
   ],
   "source": [
    "a_reg = {'model': \"a ~ 1 + C(turn_type, Treatment('Sham'))\",'link_func': lambda x: x}\n",
    "v_reg = {'model': \"v ~ 1 + C(turn_type, Treatment('Sham'))\",'link_func': lambda x: x}\n",
    "z_reg = {'model': \"z ~ 1\",'link_func': lambda x: x}\n",
    "reg_descr = [a_reg,v_reg,z_reg]\n",
    "D_R_C_Q_avm = hddm.HDDMRegressor(D_R_C_Q, reg_descr, include='z')\n",
    "D_R_C_Q_avm.find_starting_values()\n",
    "D_R_C_Q_avm.sample(2000, burn=20, dbname='traces.db', db='pickle')\n",
    "D_R_C_Q_avm.save('D_R_C_Q_avm')"
   ]
  },
  {
   "cell_type": "markdown",
   "metadata": {},
   "source": [
    "### model 5: a + z"
   ]
  },
  {
   "cell_type": "code",
   "execution_count": 11,
   "metadata": {},
   "outputs": [
    {
     "name": "stdout",
     "output_type": "stream",
     "text": [
      "Adding these covariates:\n",
      "['a_Intercept', \"a_C(turn_type, Treatment('Sham'))[T.Right cTBS]\"]\n",
      "Adding these covariates:\n",
      "['v_Intercept']\n",
      "Adding these covariates:\n",
      "['z_Intercept', \"z_C(turn_type, Treatment('Sham'))[T.Right cTBS]\"]\n",
      " [-----------------100%-----------------] 2001 of 2000 complete in 3419.1 secWARNING: Will not save custom link functions.\n",
      "WARNING: Will not save custom link functions.\n",
      "WARNING: Will not save custom link functions.\n"
     ]
    }
   ],
   "source": [
    "a_reg = {'model': \"a ~ 1 + C(turn_type, Treatment('Sham'))\",'link_func': lambda x: x}\n",
    "v_reg = {'model': \"v ~ 1\",'link_func': lambda x: x}\n",
    "z_reg = {'model': \"z ~ 1 + C(turn_type, Treatment('Sham'))\",'link_func': lambda x: x}\n",
    "reg_descr = [a_reg,v_reg,z_reg]\n",
    "D_R_C_Q_azm = hddm.HDDMRegressor(D_R_C_Q, reg_descr, include='z')\n",
    "D_R_C_Q_azm.find_starting_values()\n",
    "D_R_C_Q_azm.sample(2000, burn=20, dbname='traces.db', db='pickle')\n",
    "D_R_C_Q_azm.save('D_R_C_Q_azm')"
   ]
  },
  {
   "cell_type": "markdown",
   "metadata": {},
   "source": [
    "### model 6: v + z"
   ]
  },
  {
   "cell_type": "code",
   "execution_count": 12,
   "metadata": {},
   "outputs": [
    {
     "name": "stdout",
     "output_type": "stream",
     "text": [
      "Adding these covariates:\n",
      "['a_Intercept']\n",
      "Adding these covariates:\n",
      "['v_Intercept', \"v_C(turn_type, Treatment('Sham'))[T.Right cTBS]\"]\n",
      "Adding these covariates:\n",
      "['z_Intercept', \"z_C(turn_type, Treatment('Sham'))[T.Right cTBS]\"]\n",
      " [-----------------100%-----------------] 2001 of 2000 complete in 3478.5 secWARNING: Will not save custom link functions.\n",
      "WARNING: Will not save custom link functions.\n",
      "WARNING: Will not save custom link functions.\n"
     ]
    }
   ],
   "source": [
    "a_reg = {'model': \"a ~ 1\",'link_func': lambda x: x}\n",
    "v_reg = {'model': \"v ~ 1 + C(turn_type, Treatment('Sham'))\",'link_func': lambda x: x}\n",
    "z_reg = {'model': \"z ~ 1 + C(turn_type, Treatment('Sham'))\",'link_func': lambda x: x}\n",
    "reg_descr = [a_reg,v_reg,z_reg]\n",
    "D_R_C_Q_vzm = hddm.HDDMRegressor(D_R_C_Q, reg_descr, include='z')\n",
    "D_R_C_Q_vzm.find_starting_values()\n",
    "D_R_C_Q_vzm.sample(2000, burn=20, dbname='traces.db', db='pickle')\n",
    "D_R_C_Q_vzm.save('D_R_C_Q_vzm')"
   ]
  },
  {
   "cell_type": "markdown",
   "metadata": {},
   "source": [
    "### model 7: a + v + z"
   ]
  },
  {
   "cell_type": "code",
   "execution_count": 13,
   "metadata": {},
   "outputs": [
    {
     "name": "stdout",
     "output_type": "stream",
     "text": [
      "Adding these covariates:\n",
      "['a_Intercept', \"a_C(turn_type, Treatment('Sham'))[T.Right cTBS]\"]\n",
      "Adding these covariates:\n",
      "['v_Intercept', \"v_C(turn_type, Treatment('Sham'))[T.Right cTBS]\"]\n",
      "Adding these covariates:\n",
      "['z_Intercept', \"z_C(turn_type, Treatment('Sham'))[T.Right cTBS]\"]\n",
      " [-----------------100%-----------------] 2001 of 2000 complete in 3964.4 secWARNING: Will not save custom link functions.\n",
      "WARNING: Will not save custom link functions.\n",
      "WARNING: Will not save custom link functions.\n"
     ]
    }
   ],
   "source": [
    "a_reg = {'model': \"a ~ 1 + C(turn_type, Treatment('Sham'))\",'link_func': lambda x: x}\n",
    "v_reg = {'model': \"v ~ 1 + C(turn_type, Treatment('Sham'))\",'link_func': lambda x: x}\n",
    "z_reg = {'model': \"z ~ 1 + C(turn_type, Treatment('Sham'))\",'link_func': lambda x: x}\n",
    "reg_descr = [a_reg,v_reg,z_reg]\n",
    "D_R_C_Q_fm = hddm.HDDMRegressor(D_R_C_Q, reg_descr, include='z')\n",
    "D_R_C_Q_fm.find_starting_values()\n",
    "D_R_C_Q_fm.sample(2000, burn=20, dbname='traces.db', db='pickle')\n",
    "D_R_C_Q_fm.save('D_R_C_Q_fm')"
   ]
  },
  {
   "cell_type": "markdown",
   "metadata": {},
   "source": [
    "### Model comparison"
   ]
  },
  {
   "cell_type": "code",
   "execution_count": 30,
   "metadata": {},
   "outputs": [
    {
     "name": "stdout",
     "output_type": "stream",
     "text": [
      "baseline model DIC: 2815.121969\n",
      "a model DIC: 2810.796432\n",
      "v model DIC: 2816.504240\n",
      "z model DIC: 2815.948072\n",
      "av model DIC: 2812.230691\n",
      "az model DIC: 2810.602583\n",
      "vz model DIC: 2820.323790\n",
      "full model DIC: 2812.094856\n"
     ]
    },
    {
     "data": {
      "image/png": "[encoded data removed]",
      "text/plain": [
       "<Figure size 130.394x63.7795 with 1 Axes>"
      ]
     },
     "metadata": {
      "needs_background": "light"
     },
     "output_type": "display_data"
    }
   ],
   "source": [
    "print(\"baseline model DIC: %f\" % D_R_C_Q_bsl.dic)\n",
    "print(\"a model DIC: %f\" % D_R_C_Q_am.dic)\n",
    "print(\"v model DIC: %f\" % D_R_C_Q_vm.dic)\n",
    "print(\"z model DIC: %f\" % D_R_C_Q_zm.dic)\n",
    "print(\"av model DIC: %f\" % D_R_C_Q_avm.dic)\n",
    "print(\"az model DIC: %f\" % D_R_C_Q_azm.dic)\n",
    "print(\"vz model DIC: %f\" % D_R_C_Q_vzm.dic)\n",
    "print(\"full model DIC: %f\" % D_R_C_Q_fm.dic)\n",
    "\n",
    "fig, ax = plt.subplots()\n",
    "\n",
    "fruits = ['baseline', 'a', 'v', 'z', 'av', 'az', 'vz','full']\n",
    "counts = [D_R_C_Q_bsl.dic, D_R_C_Q_am.dic, D_R_C_Q_vm.dic, D_R_C_Q_zm.dic,D_R_C_Q_avm.dic,D_R_C_Q_azm.dic,D_R_C_Q_vzm.dic,D_R_C_Q_fm.dic]\n",
    "\n",
    "ax.bar(fruits, counts, color=[197./255,158./255,226./255],edgecolor='black',linewidth=0.5)\n",
    "\n",
    "ax.set_ylim([2810,2822])\n",
    "ytick_plot=range(2810,2822,2)\n",
    "ytick_plot.append(2822)\n",
    "ax.set_yticks(ytick_plot)\n",
    "#ax.set_yticklabels(range(5020,5032,2))\n",
    "ax.spines['right'].set_visible(False)\n",
    "ax.spines['top'].set_visible(False)\n",
    "\n",
    "fig.set_size_inches(4.6*cm,2.25*cm)\n",
    "ax.tick_params('both',which='major',direction='in',width=0.5,length=2)\n",
    "plt.rcParams['font.size']=5\n",
    "plt.rcParams['font.family']='Arial'\n",
    "plt.savefig(D_name+'M_compare.pdf',bbox_inches = 'tight',transparent=True)\n",
    "plt.show()"
   ]
  },
  {
   "cell_type": "markdown",
   "metadata": {},
   "source": [
    "### Plotting"
   ]
  },
  {
   "cell_type": "code",
   "execution_count": 26,
   "metadata": {},
   "outputs": [
    {
     "data": {
      "image/png": "[encoded data removed]",
      "text/plain": [
       "<Figure size 127.559x70.8661 with 1 Axes>"
      ]
     },
     "metadata": {
      "needs_background": "light"
     },
     "output_type": "display_data"
    },
    {
     "name": "stdout",
     "output_type": "stream",
     "text": [
      "('P(a > Sham) = ', 0.9974747474747475)\n",
      "('P(v > Sham) = ', 0.7853535353535354)\n",
      "('P(z > Sham) = ', 0.6737373737373737)\n"
     ]
    }
   ],
   "source": [
    "a_Intercept,a_cTBS = D_R_C_Q_fm.nodes_db.loc[[\"a_Intercept\",\"a_C(turn_type, Treatment('Sham'))[T.Right cTBS]\"], 'node']\n",
    "# hddm.analyze.plot_posterior_nodes([a_Intercept,a_cTBS])\n",
    "# plt.xlabel('boundary')\n",
    "# plt.ylabel('Posterior probability')\n",
    "# plt.title('Full model')\n",
    "\n",
    "v_Intercept,v_cTBS = D_R_C_Q_fm.nodes_db.loc[[\"v_Intercept\",\"v_C(turn_type, Treatment('Sham'))[T.Right cTBS]\"], 'node']\n",
    "# hddm.analyze.plot_posterior_nodes([v_Intercept,v_cTBS])\n",
    "# plt.xlabel('drift-rate')\n",
    "# plt.ylabel('Posterior probability')\n",
    "# plt.title('Full model')\n",
    "\n",
    "z_Intercept,z_cTBS = D_R_C_Q_fm.nodes_db.loc[[\"z_Intercept\",\"z_C(turn_type, Treatment('Sham'))[T.Right cTBS]\"], 'node']\n",
    "# hddm.analyze.plot_posterior_nodes([z_Intercept,z_cTBS])\n",
    "# plt.xlabel('starting point')\n",
    "# plt.ylabel('Posterior probability')\n",
    "# plt.title('Full model')\n",
    "\n",
    "\n",
    "fig, ax = plt.subplots()\n",
    "fig.set_size_inches(4.5*cm,2.5*cm)\n",
    "\n",
    "para_tag=['boundary(a)','drift rate(v)','starting point(z)']\n",
    "counts = [a_cTBS.trace()/(max(a_cTBS.trace())-min(a_cTBS.trace())),v_cTBS.trace()/(max(v_cTBS.trace())-min(v_cTBS.trace())),z_cTBS.trace()/(max(z_cTBS.trace())-min(z_cTBS.trace()))]\n",
    "\n",
    "ax.axhline(y = 0, color =[0.5,0.5,0.5], linestyle =\"--\", linewidth = 0.5, zorder=0)\n",
    "\n",
    "vioparts=ax.violinplot(counts)\n",
    "for pc in vioparts['bodies']:\n",
    "    pc.set_facecolor('grey')\n",
    "    pc.set_edgecolor('black')\n",
    "    pc.set_linewidth(0.5)\n",
    "    pc.set_alpha(0.8)\n",
    "vioparts['cbars'].set_color('black')\n",
    "vioparts['cbars'].set_linewidth(0.5)\n",
    "vioparts['cmaxes'].set_color('black')\n",
    "vioparts['cmaxes'].set_linewidth(0.5)\n",
    "vioparts['cmins'].set_color('black')\n",
    "vioparts['cmins'].set_linewidth(0.5)\n",
    "\n",
    "ax.set_xticks([1,2,3])\n",
    "ax.set_xticklabels(para_tag)\n",
    "#ax.set_title('Full model: Left cTBS consonant quiet')\n",
    "#ax.set_ylabel('Regression coef (normalized)')\n",
    "ax.set_ylim([-1,1.5])\n",
    "ax.spines['right'].set_visible(False)\n",
    "ax.spines['top'].set_visible(False)\n",
    "\n",
    "ax.tick_params('both',which='major',direction='in',width=0.5,length=2)\n",
    "plt.rcParams['savefig.dpi']=300\n",
    "plt.rcParams['font.size']=5\n",
    "plt.rcParams['font.family']='Arial'\n",
    "plt.savefig(D_name+'cTBS_DDMparas.pdf',bbox_inches = 'tight',transparent=True)\n",
    "plt.show()\n",
    "\n",
    "print(\"P(a > Sham) = \", (a_cTBS.trace() > 0).mean())\n",
    "print(\"P(v > Sham) = \", (v_cTBS.trace() > 0).mean())\n",
    "print(\"P(z > Sham) = \", (z_cTBS.trace() > 0).mean())"
   ]
  },
  {
   "cell_type": "markdown",
   "metadata": {},
   "source": [
    "### check full model simulation prediction accuracy"
   ]
  },
  {
   "cell_type": "markdown",
   "metadata": {},
   "source": [
    "#### fit the full model"
   ]
  },
  {
   "cell_type": "code",
   "execution_count": 16,
   "metadata": {},
   "outputs": [
    {
     "name": "stdout",
     "output_type": "stream",
     "text": [
      "Adding these covariates:\n",
      "['a_Intercept', \"a_C(turn_type, Treatment('Sham'))[T.Right cTBS]\"]\n",
      "Adding these covariates:\n",
      "['v_Intercept', \"v_C(turn_type, Treatment('Sham'))[T.Right cTBS]\"]\n",
      "Adding these covariates:\n",
      "['z_Intercept', \"z_C(turn_type, Treatment('Sham'))[T.Right cTBS]\"]\n",
      " [-----------------100%-----------------] 2001 of 2000 complete in 3976.7 sec"
     ]
    },
    {
     "data": {
      "text/plain": [
       "<pymc.MCMC.MCMC at 0x7fb16cf9af90>"
      ]
     },
     "execution_count": 16,
     "metadata": {},
     "output_type": "execute_result"
    }
   ],
   "source": [
    "fm_data_2=D_R_C_Q\n",
    "fm_data_2.reset_index(inplace = True, drop = True)\n",
    "a_reg = {'model': \"a ~ 1 + C(turn_type, Treatment('Sham'))\",'link_func': lambda x: x}\n",
    "v_reg = {'model': \"v ~ 1 + C(turn_type, Treatment('Sham'))\",'link_func': lambda x: x}\n",
    "z_reg = {'model': \"z ~ 1 + C(turn_type, Treatment('Sham'))\",'link_func': lambda x: x}\n",
    "reg_descr = [a_reg,v_reg,z_reg]\n",
    "fm_2 = hddm.HDDMRegressor(fm_data_2, reg_descr, include='z')\n",
    "fm_2.find_starting_values()\n",
    "fm_2.sample(2000, burn=20, dbname='traces.db', db='pickle')"
   ]
  },
  {
   "cell_type": "markdown",
   "metadata": {},
   "source": [
    "#### plot the full model (compared with the original full model)"
   ]
  },
  {
   "cell_type": "code",
   "execution_count": 17,
   "metadata": {},
   "outputs": [
    {
     "data": {
      "image/png": "[encoded data removed]",
      "text/plain": [
       "<Figure size 288x288 with 1 Axes>"
      ]
     },
     "metadata": {
      "needs_background": "light"
     },
     "output_type": "display_data"
    },
    {
     "name": "stdout",
     "output_type": "stream",
     "text": [
      "('P(a > Sham) = ', 0.9939393939393939)\n",
      "('P(v > Sham) = ', 0.8191919191919191)\n",
      "('P(z > Sham) = ', 0.6348484848484849)\n"
     ]
    }
   ],
   "source": [
    "a_Intercept,a_cTBS = fm_2.nodes_db.loc[[\"a_Intercept\",\"a_C(turn_type, Treatment('Sham'))[T.Right cTBS]\"], 'node']\n",
    "v_Intercept,v_cTBS = fm_2.nodes_db.loc[[\"v_Intercept\",\"v_C(turn_type, Treatment('Sham'))[T.Right cTBS]\"], 'node']\n",
    "z_Intercept,z_cTBS = fm_2.nodes_db.loc[[\"z_Intercept\",\"z_C(turn_type, Treatment('Sham'))[T.Right cTBS]\"], 'node']\n",
    "\n",
    "fig, ax = plt.subplots()\n",
    "fig.set_size_inches(4,4)\n",
    "\n",
    "para_tag=['boundary(a)','drift rate(v)','starting point(z)']\n",
    "counts = [a_cTBS.trace()/(max(a_cTBS.trace())-min(a_cTBS.trace())),v_cTBS.trace()/(max(v_cTBS.trace())-min(v_cTBS.trace())),z_cTBS.trace()/(max(z_cTBS.trace())-min(z_cTBS.trace()))]\n",
    "\n",
    "ax.axhline(y = 0, color =\"green\", linestyle =\"--\")\n",
    "ax.violinplot(counts)\n",
    "ax.set_xticks([1,2,3])\n",
    "ax.set_xticklabels(para_tag)\n",
    "ax.set_title('Full model: Left cTBS consonant quiet')\n",
    "ax.set_ylabel('Regression coef (normalized)')\n",
    "ax.set_ylim([-1.8,1.8])\n",
    "ax.spines['right'].set_visible(False)\n",
    "ax.spines['top'].set_visible(False)\n",
    "\n",
    "plt.show()\n",
    "\n",
    "print(\"P(a > Sham) = \", (a_cTBS.trace() > 0).mean())\n",
    "print(\"P(v > Sham) = \", (v_cTBS.trace() > 0).mean())\n",
    "print(\"P(z > Sham) = \", (z_cTBS.trace() > 0).mean())"
   ]
  },
  {
   "cell_type": "markdown",
   "metadata": {},
   "source": [
    "#### predict data from simulated data derived from full model"
   ]
  },
  {
   "cell_type": "code",
   "execution_count": 18,
   "metadata": {},
   "outputs": [
    {
     "name": "stdout",
     "output_type": "stream",
     "text": [
      " [-------------------112%-------------------] 28 of 25 complete in 23107.5 sec"
     ]
    },
    {
     "data": {
      "text/html": [
       "<div>\n",
       "<style scoped>\n",
       "    .dataframe tbody tr th:only-of-type {\n",
       "        vertical-align: middle;\n",
       "    }\n",
       "\n",
       "    .dataframe tbody tr th {\n",
       "        vertical-align: top;\n",
       "    }\n",
       "\n",
       "    .dataframe thead th {\n",
       "        text-align: right;\n",
       "    }\n",
       "</style>\n",
       "<table border=\"1\" class=\"dataframe\">\n",
       "  <thead>\n",
       "    <tr style=\"text-align: right;\">\n",
       "      <th></th>\n",
       "      <th>observed</th>\n",
       "      <th>mean</th>\n",
       "      <th>std</th>\n",
       "      <th>SEM</th>\n",
       "      <th>MSE</th>\n",
       "      <th>credible</th>\n",
       "      <th>quantile</th>\n",
       "      <th>mahalanobis</th>\n",
       "    </tr>\n",
       "    <tr>\n",
       "      <th>stat</th>\n",
       "      <th></th>\n",
       "      <th></th>\n",
       "      <th></th>\n",
       "      <th></th>\n",
       "      <th></th>\n",
       "      <th></th>\n",
       "      <th></th>\n",
       "      <th></th>\n",
       "    </tr>\n",
       "  </thead>\n",
       "  <tbody>\n",
       "    <tr>\n",
       "      <th>accuracy</th>\n",
       "      <td>0.643718</td>\n",
       "      <td>0.650133</td>\n",
       "      <td>0.085659</td>\n",
       "      <td>0.000041</td>\n",
       "      <td>0.007379</td>\n",
       "      <td>True</td>\n",
       "      <td>47.624001</td>\n",
       "      <td>0.074891</td>\n",
       "    </tr>\n",
       "    <tr>\n",
       "      <th>mean_ub</th>\n",
       "      <td>0.606475</td>\n",
       "      <td>0.632895</td>\n",
       "      <td>0.105669</td>\n",
       "      <td>0.000698</td>\n",
       "      <td>0.011864</td>\n",
       "      <td>True</td>\n",
       "      <td>48.000000</td>\n",
       "      <td>0.250027</td>\n",
       "    </tr>\n",
       "    <tr>\n",
       "      <th>std_ub</th>\n",
       "      <td>0.224327</td>\n",
       "      <td>0.208704</td>\n",
       "      <td>0.065149</td>\n",
       "      <td>0.000244</td>\n",
       "      <td>0.004488</td>\n",
       "      <td>True</td>\n",
       "      <td>63.223999</td>\n",
       "      <td>0.239793</td>\n",
       "    </tr>\n",
       "    <tr>\n",
       "      <th>10q_ub</th>\n",
       "      <td>0.417056</td>\n",
       "      <td>0.447043</td>\n",
       "      <td>0.079414</td>\n",
       "      <td>0.000899</td>\n",
       "      <td>0.007206</td>\n",
       "      <td>True</td>\n",
       "      <td>30.856001</td>\n",
       "      <td>0.377611</td>\n",
       "    </tr>\n",
       "    <tr>\n",
       "      <th>30q_ub</th>\n",
       "      <td>0.493031</td>\n",
       "      <td>0.500836</td>\n",
       "      <td>0.085696</td>\n",
       "      <td>0.000061</td>\n",
       "      <td>0.007405</td>\n",
       "      <td>True</td>\n",
       "      <td>49.976002</td>\n",
       "      <td>0.091075</td>\n",
       "    </tr>\n",
       "    <tr>\n",
       "      <th>50q_ub</th>\n",
       "      <td>0.558337</td>\n",
       "      <td>0.569059</td>\n",
       "      <td>0.096479</td>\n",
       "      <td>0.000115</td>\n",
       "      <td>0.009423</td>\n",
       "      <td>True</td>\n",
       "      <td>52.616001</td>\n",
       "      <td>0.111130</td>\n",
       "    </tr>\n",
       "    <tr>\n",
       "      <th>70q_ub</th>\n",
       "      <td>0.648363</td>\n",
       "      <td>0.674060</td>\n",
       "      <td>0.116582</td>\n",
       "      <td>0.000660</td>\n",
       "      <td>0.014252</td>\n",
       "      <td>True</td>\n",
       "      <td>49.472000</td>\n",
       "      <td>0.220422</td>\n",
       "    </tr>\n",
       "    <tr>\n",
       "      <th>90q_ub</th>\n",
       "      <td>0.848408</td>\n",
       "      <td>0.902161</td>\n",
       "      <td>0.172757</td>\n",
       "      <td>0.002889</td>\n",
       "      <td>0.032734</td>\n",
       "      <td>True</td>\n",
       "      <td>45.520000</td>\n",
       "      <td>0.311148</td>\n",
       "    </tr>\n",
       "    <tr>\n",
       "      <th>mean_lb</th>\n",
       "      <td>-0.659362</td>\n",
       "      <td>-0.655930</td>\n",
       "      <td>0.100758</td>\n",
       "      <td>0.000012</td>\n",
       "      <td>0.010164</td>\n",
       "      <td>True</td>\n",
       "      <td>44.200001</td>\n",
       "      <td>0.034062</td>\n",
       "    </tr>\n",
       "    <tr>\n",
       "      <th>std_lb</th>\n",
       "      <td>0.230511</td>\n",
       "      <td>0.211199</td>\n",
       "      <td>0.067475</td>\n",
       "      <td>0.000373</td>\n",
       "      <td>0.004926</td>\n",
       "      <td>True</td>\n",
       "      <td>65.223999</td>\n",
       "      <td>0.286209</td>\n",
       "    </tr>\n",
       "    <tr>\n",
       "      <th>10q_lb</th>\n",
       "      <td>0.465910</td>\n",
       "      <td>0.462055</td>\n",
       "      <td>0.074045</td>\n",
       "      <td>0.000015</td>\n",
       "      <td>0.005497</td>\n",
       "      <td>True</td>\n",
       "      <td>56.743999</td>\n",
       "      <td>0.052052</td>\n",
       "    </tr>\n",
       "    <tr>\n",
       "      <th>30q_lb</th>\n",
       "      <td>0.549493</td>\n",
       "      <td>0.522367</td>\n",
       "      <td>0.078968</td>\n",
       "      <td>0.000736</td>\n",
       "      <td>0.006972</td>\n",
       "      <td>True</td>\n",
       "      <td>66.487999</td>\n",
       "      <td>0.343505</td>\n",
       "    </tr>\n",
       "    <tr>\n",
       "      <th>50q_lb</th>\n",
       "      <td>0.616194</td>\n",
       "      <td>0.594716</td>\n",
       "      <td>0.089759</td>\n",
       "      <td>0.000461</td>\n",
       "      <td>0.008518</td>\n",
       "      <td>True</td>\n",
       "      <td>62.096001</td>\n",
       "      <td>0.239292</td>\n",
       "    </tr>\n",
       "    <tr>\n",
       "      <th>70q_lb</th>\n",
       "      <td>0.695642</td>\n",
       "      <td>0.701905</td>\n",
       "      <td>0.112583</td>\n",
       "      <td>0.000039</td>\n",
       "      <td>0.012714</td>\n",
       "      <td>True</td>\n",
       "      <td>52.992001</td>\n",
       "      <td>0.055626</td>\n",
       "    </tr>\n",
       "    <tr>\n",
       "      <th>90q_lb</th>\n",
       "      <td>0.901495</td>\n",
       "      <td>0.926471</td>\n",
       "      <td>0.173415</td>\n",
       "      <td>0.000624</td>\n",
       "      <td>0.030696</td>\n",
       "      <td>True</td>\n",
       "      <td>51.416000</td>\n",
       "      <td>0.144020</td>\n",
       "    </tr>\n",
       "  </tbody>\n",
       "</table>\n",
       "</div>"
      ],
      "text/plain": [
       "          observed      mean       std       SEM       MSE credible  \\\n",
       "stat                                                                  \n",
       "accuracy  0.643718  0.650133  0.085659  0.000041  0.007379     True   \n",
       "mean_ub   0.606475  0.632895  0.105669  0.000698  0.011864     True   \n",
       "std_ub    0.224327  0.208704  0.065149  0.000244  0.004488     True   \n",
       "10q_ub    0.417056  0.447043  0.079414  0.000899  0.007206     True   \n",
       "30q_ub    0.493031  0.500836  0.085696  0.000061  0.007405     True   \n",
       "50q_ub    0.558337  0.569059  0.096479  0.000115  0.009423     True   \n",
       "70q_ub    0.648363  0.674060  0.116582  0.000660  0.014252     True   \n",
       "90q_ub    0.848408  0.902161  0.172757  0.002889  0.032734     True   \n",
       "mean_lb  -0.659362 -0.655930  0.100758  0.000012  0.010164     True   \n",
       "std_lb    0.230511  0.211199  0.067475  0.000373  0.004926     True   \n",
       "10q_lb    0.465910  0.462055  0.074045  0.000015  0.005497     True   \n",
       "30q_lb    0.549493  0.522367  0.078968  0.000736  0.006972     True   \n",
       "50q_lb    0.616194  0.594716  0.089759  0.000461  0.008518     True   \n",
       "70q_lb    0.695642  0.701905  0.112583  0.000039  0.012714     True   \n",
       "90q_lb    0.901495  0.926471  0.173415  0.000624  0.030696     True   \n",
       "\n",
       "           quantile  mahalanobis  \n",
       "stat                              \n",
       "accuracy  47.624001     0.074891  \n",
       "mean_ub   48.000000     0.250027  \n",
       "std_ub    63.223999     0.239793  \n",
       "10q_ub    30.856001     0.377611  \n",
       "30q_ub    49.976002     0.091075  \n",
       "50q_ub    52.616001     0.111130  \n",
       "70q_ub    49.472000     0.220422  \n",
       "90q_ub    45.520000     0.311148  \n",
       "mean_lb   44.200001     0.034062  \n",
       "std_lb    65.223999     0.286209  \n",
       "10q_lb    56.743999     0.052052  \n",
       "30q_lb    66.487999     0.343505  \n",
       "50q_lb    62.096001     0.239292  \n",
       "70q_lb    52.992001     0.055626  \n",
       "90q_lb    51.416000     0.144020  "
      ]
     },
     "execution_count": 18,
     "metadata": {},
     "output_type": "execute_result"
    }
   ],
   "source": [
    "fm_data_2_sim = hddm.utils.post_pred_gen(fm_2)\n",
    "hddm.utils.post_pred_stats(fm_data_2, fm_data_2_sim)"
   ]
  }
 ],
 "metadata": {
  "kernelspec": {
   "display_name": "Python 2.7.18 ('bsliang_DDM_27': conda)",
   "language": "python",
   "name": "python3"
  },
  "language_info": {
   "codemirror_mode": {
    "name": "ipython",
    "version": 2
   },
   "file_extension": ".py",
   "mimetype": "text/x-python",
   "name": "python",
   "nbconvert_exporter": "python",
   "pygments_lexer": "ipython2",
   "version": "2.7.18"
  },
  "orig_nbformat": 4,
  "vscode": {
   "interpreter": {
    "hash": "800a09db568ebe80aacfc1bc086e45a31a7cff3ccaf522d8b640d0dfbe2b8801"
   }
  }
 },
 "nbformat": 4,
 "nbformat_minor": 2
}
