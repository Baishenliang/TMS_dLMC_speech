{
 "cells": [
  {
   "cell_type": "markdown",
   "metadata": {},
   "source": [
    "# TBS"
   ]
  },
  {
   "cell_type": "markdown",
   "metadata": {},
   "source": [
    "## preparing"
   ]
  },
  {
   "cell_type": "code",
   "execution_count": 17,
   "metadata": {},
   "outputs": [],
   "source": [
    "import pandas as pd\n",
    "import matplotlib.pyplot as plt\n",
    "import hddm\n",
    "import numpy as np\n",
    "import pickle\n",
    "from patsy import dmatrices, dmatrix, demo_data\n",
    "cm = 1/2.54"
   ]
  },
  {
   "cell_type": "markdown",
   "metadata": {},
   "source": [
    "## loading data"
   ]
  },
  {
   "cell_type": "code",
   "execution_count": 2,
   "metadata": {},
   "outputs": [
    {
     "data": {
      "text/html": [
       "<div>\n",
       "<style scoped>\n",
       "    .dataframe tbody tr th:only-of-type {\n",
       "        vertical-align: middle;\n",
       "    }\n",
       "\n",
       "    .dataframe tbody tr th {\n",
       "        vertical-align: top;\n",
       "    }\n",
       "\n",
       "    .dataframe thead th {\n",
       "        text-align: right;\n",
       "    }\n",
       "</style>\n",
       "<table border=\"1\" class=\"dataframe\">\n",
       "  <thead>\n",
       "    <tr style=\"text-align: right;\">\n",
       "      <th></th>\n",
       "      <th>subj_idx</th>\n",
       "      <th>group_idx</th>\n",
       "      <th>turn_type</th>\n",
       "      <th>task_type</th>\n",
       "      <th>snr_type</th>\n",
       "      <th>trial_num</th>\n",
       "      <th>step_att</th>\n",
       "      <th>response</th>\n",
       "      <th>rt</th>\n",
       "      <th>step_unatnd</th>\n",
       "    </tr>\n",
       "  </thead>\n",
       "  <tbody>\n",
       "    <tr>\n",
       "      <th>0</th>\n",
       "      <td>55</td>\n",
       "      <td>Larynx</td>\n",
       "      <td>Left iTBS</td>\n",
       "      <td>Tone</td>\n",
       "      <td>Clear</td>\n",
       "      <td>1</td>\n",
       "      <td>3</td>\n",
       "      <td>1</td>\n",
       "      <td>1.083317</td>\n",
       "      <td>1</td>\n",
       "    </tr>\n",
       "    <tr>\n",
       "      <th>1</th>\n",
       "      <td>55</td>\n",
       "      <td>Larynx</td>\n",
       "      <td>Left iTBS</td>\n",
       "      <td>Tone</td>\n",
       "      <td>Clear</td>\n",
       "      <td>2</td>\n",
       "      <td>2</td>\n",
       "      <td>1</td>\n",
       "      <td>0.744397</td>\n",
       "      <td>1</td>\n",
       "    </tr>\n",
       "    <tr>\n",
       "      <th>2</th>\n",
       "      <td>55</td>\n",
       "      <td>Larynx</td>\n",
       "      <td>Left iTBS</td>\n",
       "      <td>Tone</td>\n",
       "      <td>Clear</td>\n",
       "      <td>3</td>\n",
       "      <td>2</td>\n",
       "      <td>1</td>\n",
       "      <td>0.732525</td>\n",
       "      <td>1</td>\n",
       "    </tr>\n",
       "    <tr>\n",
       "      <th>3</th>\n",
       "      <td>55</td>\n",
       "      <td>Larynx</td>\n",
       "      <td>Left iTBS</td>\n",
       "      <td>Tone</td>\n",
       "      <td>Clear</td>\n",
       "      <td>4</td>\n",
       "      <td>1</td>\n",
       "      <td>1</td>\n",
       "      <td>0.800199</td>\n",
       "      <td>1</td>\n",
       "    </tr>\n",
       "    <tr>\n",
       "      <th>4</th>\n",
       "      <td>55</td>\n",
       "      <td>Larynx</td>\n",
       "      <td>Left iTBS</td>\n",
       "      <td>Tone</td>\n",
       "      <td>Clear</td>\n",
       "      <td>5</td>\n",
       "      <td>2</td>\n",
       "      <td>1</td>\n",
       "      <td>0.753649</td>\n",
       "      <td>1</td>\n",
       "    </tr>\n",
       "    <tr>\n",
       "      <th>5</th>\n",
       "      <td>55</td>\n",
       "      <td>Larynx</td>\n",
       "      <td>Left iTBS</td>\n",
       "      <td>Tone</td>\n",
       "      <td>Clear</td>\n",
       "      <td>6</td>\n",
       "      <td>2</td>\n",
       "      <td>1</td>\n",
       "      <td>0.544652</td>\n",
       "      <td>1</td>\n",
       "    </tr>\n",
       "    <tr>\n",
       "      <th>6</th>\n",
       "      <td>55</td>\n",
       "      <td>Larynx</td>\n",
       "      <td>Left iTBS</td>\n",
       "      <td>Tone</td>\n",
       "      <td>Clear</td>\n",
       "      <td>7</td>\n",
       "      <td>1</td>\n",
       "      <td>1</td>\n",
       "      <td>0.621313</td>\n",
       "      <td>1</td>\n",
       "    </tr>\n",
       "    <tr>\n",
       "      <th>7</th>\n",
       "      <td>55</td>\n",
       "      <td>Larynx</td>\n",
       "      <td>Left iTBS</td>\n",
       "      <td>Tone</td>\n",
       "      <td>Clear</td>\n",
       "      <td>8</td>\n",
       "      <td>1</td>\n",
       "      <td>1</td>\n",
       "      <td>0.580819</td>\n",
       "      <td>1</td>\n",
       "    </tr>\n",
       "    <tr>\n",
       "      <th>8</th>\n",
       "      <td>55</td>\n",
       "      <td>Larynx</td>\n",
       "      <td>Left iTBS</td>\n",
       "      <td>Tone</td>\n",
       "      <td>Clear</td>\n",
       "      <td>9</td>\n",
       "      <td>1</td>\n",
       "      <td>0</td>\n",
       "      <td>-0.496794</td>\n",
       "      <td>1</td>\n",
       "    </tr>\n",
       "    <tr>\n",
       "      <th>9</th>\n",
       "      <td>55</td>\n",
       "      <td>Larynx</td>\n",
       "      <td>Left iTBS</td>\n",
       "      <td>Tone</td>\n",
       "      <td>Clear</td>\n",
       "      <td>10</td>\n",
       "      <td>3</td>\n",
       "      <td>1</td>\n",
       "      <td>0.863869</td>\n",
       "      <td>1</td>\n",
       "    </tr>\n",
       "  </tbody>\n",
       "</table>\n",
       "</div>"
      ],
      "text/plain": [
       "   subj_idx group_idx  turn_type task_type snr_type  trial_num  step_att  \\\n",
       "0        55    Larynx  Left iTBS      Tone    Clear          1         3   \n",
       "1        55    Larynx  Left iTBS      Tone    Clear          2         2   \n",
       "2        55    Larynx  Left iTBS      Tone    Clear          3         2   \n",
       "3        55    Larynx  Left iTBS      Tone    Clear          4         1   \n",
       "4        55    Larynx  Left iTBS      Tone    Clear          5         2   \n",
       "5        55    Larynx  Left iTBS      Tone    Clear          6         2   \n",
       "6        55    Larynx  Left iTBS      Tone    Clear          7         1   \n",
       "7        55    Larynx  Left iTBS      Tone    Clear          8         1   \n",
       "8        55    Larynx  Left iTBS      Tone    Clear          9         1   \n",
       "9        55    Larynx  Left iTBS      Tone    Clear         10         3   \n",
       "\n",
       "   response        rt  step_unatnd  \n",
       "0         1  1.083317            1  \n",
       "1         1  0.744397            1  \n",
       "2         1  0.732525            1  \n",
       "3         1  0.800199            1  \n",
       "4         1  0.753649            1  \n",
       "5         1  0.544652            1  \n",
       "6         1  0.621313            1  \n",
       "7         1  0.580819            1  \n",
       "8         0 -0.496794            1  \n",
       "9         1  0.863869            1  "
      ]
     },
     "execution_count": 2,
     "metadata": {},
     "output_type": "execute_result"
    }
   ],
   "source": [
    "data = hddm.load_csv('exp2_DDM.csv')\n",
    "data.at[data['step_att'].isin(['4']),'step_att']=2\n",
    "data.at[data['step_att'].isin(['5']),'step_att']=1\n",
    "data = hddm.utils.flip_errors(data)\n",
    "data.head(10)"
   ]
  },
  {
   "cell_type": "markdown",
   "metadata": {},
   "source": [
    "## left stim, consonant, noise"
   ]
  },
  {
   "cell_type": "markdown",
   "metadata": {},
   "source": [
    "### preparing data"
   ]
  },
  {
   "cell_type": "code",
   "execution_count": 3,
   "metadata": {},
   "outputs": [
    {
     "name": "stdout",
     "output_type": "stream",
     "text": [
      "       subj_idx group_idx  turn_type task_type snr_type  trial_num  step_att  \\\n",
      "1092         55    Larynx  Left cTBS      Cons    Noise          1         2   \n",
      "1093         55    Larynx  Left cTBS      Cons    Noise          2         1   \n",
      "1094         55    Larynx  Left cTBS      Cons    Noise          3         3   \n",
      "1095         55    Larynx  Left cTBS      Cons    Noise          4         3   \n",
      "1096         55    Larynx  Left cTBS      Cons    Noise          5         1   \n",
      "1097         55    Larynx  Left cTBS      Cons    Noise          6         1   \n",
      "1098         55    Larynx  Left cTBS      Cons    Noise          7         3   \n",
      "1099         55    Larynx  Left cTBS      Cons    Noise          8         2   \n",
      "1100         55    Larynx  Left cTBS      Cons    Noise          9         1   \n",
      "1101         55    Larynx  Left cTBS      Cons    Noise         10         3   \n",
      "1102         55    Larynx  Left cTBS      Cons    Noise         11         2   \n",
      "1103         55    Larynx  Left cTBS      Cons    Noise         12         2   \n",
      "1104         55    Larynx  Left cTBS      Cons    Noise         13         3   \n",
      "1105         55    Larynx  Left cTBS      Cons    Noise         14         3   \n",
      "1106         55    Larynx  Left cTBS      Cons    Noise         15         2   \n",
      "1107         55    Larynx  Left cTBS      Cons    Noise         16         3   \n",
      "1108         55    Larynx  Left cTBS      Cons    Noise         17         3   \n",
      "1109         55    Larynx  Left cTBS      Cons    Noise         18         2   \n",
      "1110         55    Larynx  Left cTBS      Cons    Noise         19         1   \n",
      "1111         55    Larynx  Left cTBS      Cons    Noise         20         3   \n",
      "1112         55    Larynx  Left cTBS      Cons    Noise         21         3   \n",
      "1113         55    Larynx  Left cTBS      Cons    Noise         22         2   \n",
      "1114         55    Larynx  Left cTBS      Cons    Noise         23         1   \n",
      "1115         55    Larynx  Left cTBS      Cons    Noise         24         1   \n",
      "1116         55    Larynx  Left cTBS      Cons    Noise         25         1   \n",
      "1117         55    Larynx  Left cTBS      Cons    Noise         26         1   \n",
      "1118         55    Larynx  Left cTBS      Cons    Noise         27         1   \n",
      "1119         55    Larynx  Left cTBS      Cons    Noise         28         2   \n",
      "1120         55    Larynx  Left cTBS      Cons    Noise         29         2   \n",
      "1121         55    Larynx  Left cTBS      Cons    Noise         30         2   \n",
      "...         ...       ...        ...       ...      ...        ...       ...   \n",
      "78594       253    Larynx       Sham      Cons    Noise        127         2   \n",
      "78595       253    Larynx       Sham      Cons    Noise        128         1   \n",
      "78596       253    Larynx       Sham      Cons    Noise        129         3   \n",
      "78597       253    Larynx       Sham      Cons    Noise        130         1   \n",
      "78598       253    Larynx       Sham      Cons    Noise        131         2   \n",
      "78599       253    Larynx       Sham      Cons    Noise        132         2   \n",
      "78600       253    Larynx       Sham      Cons    Noise        133         3   \n",
      "78601       253    Larynx       Sham      Cons    Noise        134         2   \n",
      "78602       253    Larynx       Sham      Cons    Noise        135         1   \n",
      "78603       253    Larynx       Sham      Cons    Noise        136         3   \n",
      "78604       253    Larynx       Sham      Cons    Noise        137         3   \n",
      "78605       253    Larynx       Sham      Cons    Noise        138         2   \n",
      "78606       253    Larynx       Sham      Cons    Noise        139         1   \n",
      "78607       253    Larynx       Sham      Cons    Noise        140         2   \n",
      "78608       253    Larynx       Sham      Cons    Noise        141         1   \n",
      "78609       253    Larynx       Sham      Cons    Noise        142         3   \n",
      "78610       253    Larynx       Sham      Cons    Noise        143         2   \n",
      "78611       253    Larynx       Sham      Cons    Noise        144         2   \n",
      "78612       253    Larynx       Sham      Cons    Noise        145         1   \n",
      "78613       253    Larynx       Sham      Cons    Noise        146         2   \n",
      "78614       253    Larynx       Sham      Cons    Noise        147         3   \n",
      "78615       253    Larynx       Sham      Cons    Noise        148         1   \n",
      "78616       253    Larynx       Sham      Cons    Noise        149         2   \n",
      "78617       253    Larynx       Sham      Cons    Noise        150         1   \n",
      "78618       253    Larynx       Sham      Cons    Noise        151         3   \n",
      "78619       253    Larynx       Sham      Cons    Noise        152         2   \n",
      "78620       253    Larynx       Sham      Cons    Noise        153         3   \n",
      "78621       253    Larynx       Sham      Cons    Noise        154         3   \n",
      "78622       253    Larynx       Sham      Cons    Noise        155         1   \n",
      "78623       253    Larynx       Sham      Cons    Noise        156         1   \n",
      "\n",
      "       response        rt  step_unatnd  \n",
      "1092          0 -0.742002            1  \n",
      "1093          1  0.577077            1  \n",
      "1094          1  0.492821            1  \n",
      "1095          0 -0.676759            1  \n",
      "1096          1  0.495745            1  \n",
      "1097          1  0.587692            1  \n",
      "1098          0 -0.661923            1  \n",
      "1099          1  0.550173            1  \n",
      "1100          0 -0.567172            1  \n",
      "1101          1  0.533652            1  \n",
      "1102          1  0.821684            1  \n",
      "1103          1  0.607115            1  \n",
      "1104          1  0.750574            1  \n",
      "1105          1  0.588355            1  \n",
      "1106          1  2.132119            1  \n",
      "1107          1  0.624442            1  \n",
      "1108          1  0.598272            1  \n",
      "1109          1  0.608531            1  \n",
      "1110          1  0.984860            1  \n",
      "1111          0 -0.840148            1  \n",
      "1112          1  0.742640            1  \n",
      "1113          0 -0.712382            1  \n",
      "1114          0 -0.597223            1  \n",
      "1115          0 -0.846945            1  \n",
      "1116          0 -0.806715            1  \n",
      "1117          0 -0.718805            1  \n",
      "1118          1  0.767919            1  \n",
      "1119          1  2.103997            1  \n",
      "1120          0 -0.692346            1  \n",
      "1121          0 -0.956349            1  \n",
      "...         ...       ...          ...  \n",
      "78594         1  0.632713            1  \n",
      "78595         0 -0.542096            1  \n",
      "78596         0 -0.473329            1  \n",
      "78597         1  0.559088            1  \n",
      "78598         1  0.507009            1  \n",
      "78599         0 -0.535296            1  \n",
      "78600         1  0.579970            1  \n",
      "78601         0 -0.588824            1  \n",
      "78602         1  0.643126            1  \n",
      "78603         0 -0.439178            1  \n",
      "78604         1  0.654868            1  \n",
      "78605         0 -0.682654            1  \n",
      "78606         0 -0.954759            1  \n",
      "78607         0 -0.667818            1  \n",
      "78608         0 -0.699520            1  \n",
      "78609         1  0.606647            1  \n",
      "78610         1  0.559231            1  \n",
      "78611         0 -0.560831            1  \n",
      "78612         0 -0.593291            1  \n",
      "78613         0 -0.658336            1  \n",
      "78614         1  0.605256            1  \n",
      "78615         1  0.606217            1  \n",
      "78616         0 -0.585072            1  \n",
      "78617         1  0.742196            1  \n",
      "78618         1  0.571885            1  \n",
      "78619         0 -0.605274            1  \n",
      "78620         1  0.615909            1  \n",
      "78621         1  0.447682            1  \n",
      "78622         1  0.576298            1  \n",
      "78623         1  0.850333            1  \n",
      "\n",
      "[7800 rows x 10 columns]\n"
     ]
    }
   ],
   "source": [
    "D_L=data.loc[data['turn_type'].isin(['Left cTBS','Sham'])]\n",
    "D_L_C=D_L.loc[D_L['task_type']=='Cons']\n",
    "D_L_C_N=D_L_C.loc[D_L_C['snr_type']=='Noise']\n",
    "print(D_L_C_N)\n",
    "D_L_C_N.to_csv('Exp2_D_L_C_N_cTBS.csv')"
   ]
  },
  {
   "cell_type": "markdown",
   "metadata": {},
   "source": [
    "### baseline model"
   ]
  },
  {
   "cell_type": "code",
   "execution_count": 4,
   "metadata": {},
   "outputs": [
    {
     "name": "stdout",
     "output_type": "stream",
     "text": [
      "Adding these covariates:\n",
      "['a_Intercept', \"a_C(turn_type, Treatment('Sham'))[T.Left cTBS]\"]\n",
      "Adding these covariates:\n",
      "['v_Intercept', \"v_C(turn_type, Treatment('Sham'))[T.Left cTBS]\"]\n",
      "Adding these covariates:\n",
      "['z_Intercept', \"z_C(turn_type, Treatment('Sham'))[T.Left cTBS]\"]\n"
     ]
    },
    {
     "name": "stderr",
     "output_type": "stream",
     "text": [
      "/home/bsliang/miniconda3/envs/bsliang_DDM_27/lib/python2.7/site-packages/scipy/optimize/optimize.py:1934: RuntimeWarning: invalid value encountered in double_scalars\n",
      "  tmp2 = (x - v) * (fx - fw)\n"
     ]
    },
    {
     "name": "stdout",
     "output_type": "stream",
     "text": [
      " [-----------------100%-----------------] 2001 of 2000 complete in 3782.5 sec"
     ]
    },
    {
     "data": {
      "text/plain": [
       "<pymc.MCMC.MCMC at 0x7fd0205ea950>"
      ]
     },
     "execution_count": 4,
     "metadata": {},
     "output_type": "execute_result"
    }
   ],
   "source": [
    "a_reg = {'model': \"a ~ 1 + C(turn_type, Treatment('Sham'))\",'link_func': lambda x: x}\n",
    "v_reg = {'model': \"v ~ 1 + C(turn_type, Treatment('Sham'))\",'link_func': lambda x: x}\n",
    "z_reg = {'model': \"z ~ 1 + C(turn_type, Treatment('Sham'))\",'link_func': lambda x: x}\n",
    "reg_descr = [a_reg,v_reg,z_reg]\n",
    "D_L_C_N_bsl = hddm.HDDMRegressor(D_L_C_N, reg_descr, include='z')\n",
    "D_L_C_N_bsl.find_starting_values()\n",
    "D_L_C_N_bsl.sample(2000, burn=20, dbname='traces.db', db='pickle')"
   ]
  },
  {
   "cell_type": "markdown",
   "metadata": {},
   "source": [
    "### model 1: a only"
   ]
  },
  {
   "cell_type": "code",
   "execution_count": 5,
   "metadata": {},
   "outputs": [
    {
     "name": "stdout",
     "output_type": "stream",
     "text": [
      "Adding these covariates:\n",
      "['a_Intercept', \"a_step_att:C(turn_type, Treatment('Sham'))[Left cTBS]\", \"a_step_att:C(turn_type, Treatment('Sham'))[Sham]\"]\n",
      "Adding these covariates:\n",
      "['v_Intercept', \"v_C(turn_type, Treatment('Sham'))[T.Left cTBS]\"]\n",
      "Adding these covariates:\n",
      "['z_Intercept', \"z_C(turn_type, Treatment('Sham'))[T.Left cTBS]\"]\n",
      " [-----------------100%-----------------] 2001 of 2000 complete in 4425.7 sec"
     ]
    },
    {
     "data": {
      "text/plain": [
       "<pymc.MCMC.MCMC at 0x7fd02056ed50>"
      ]
     },
     "execution_count": 5,
     "metadata": {},
     "output_type": "execute_result"
    }
   ],
   "source": [
    "a_reg = {'model': \"a ~ 1 + step_att:C(turn_type, Treatment('Sham'))\",'link_func': lambda x: x}\n",
    "v_reg = {'model': \"v ~ 1 + C(turn_type, Treatment('Sham'))\",'link_func': lambda x: x}\n",
    "z_reg = {'model': \"z ~ 1 + C(turn_type, Treatment('Sham'))\",'link_func': lambda x: x}\n",
    "reg_descr = [a_reg,v_reg,z_reg]\n",
    "D_L_C_N_am = hddm.HDDMRegressor(D_L_C_N, reg_descr, include='z')\n",
    "D_L_C_N_am.find_starting_values()\n",
    "D_L_C_N_am.sample(2000, burn=20, dbname='traces.db', db='pickle')"
   ]
  },
  {
   "cell_type": "markdown",
   "metadata": {},
   "source": [
    "### model 2: v only"
   ]
  },
  {
   "cell_type": "code",
   "execution_count": 6,
   "metadata": {},
   "outputs": [
    {
     "name": "stdout",
     "output_type": "stream",
     "text": [
      "Adding these covariates:\n",
      "['a_Intercept', \"a_C(turn_type, Treatment('Sham'))[T.Left cTBS]\"]\n",
      "Adding these covariates:\n",
      "['v_Intercept', \"v_step_att:C(turn_type, Treatment('Sham'))[Left cTBS]\", \"v_step_att:C(turn_type, Treatment('Sham'))[Sham]\"]\n",
      "Adding these covariates:\n",
      "['z_Intercept', \"z_C(turn_type, Treatment('Sham'))[T.Left cTBS]\"]\n",
      " [-----------------100%-----------------] 2001 of 2000 complete in 4288.4 sec"
     ]
    },
    {
     "data": {
      "text/plain": [
       "<pymc.MCMC.MCMC at 0x7fcfc02ada50>"
      ]
     },
     "execution_count": 6,
     "metadata": {},
     "output_type": "execute_result"
    }
   ],
   "source": [
    "a_reg = {'model': \"a ~ 1 + C(turn_type, Treatment('Sham'))\",'link_func': lambda x: x}\n",
    "v_reg = {'model': \"v ~ 1 + step_att:C(turn_type, Treatment('Sham'))\",'link_func': lambda x: x}\n",
    "z_reg = {'model': \"z ~ 1 + C(turn_type, Treatment('Sham'))\",'link_func': lambda x: x}\n",
    "reg_descr = [a_reg,v_reg,z_reg]\n",
    "D_L_C_N_vm = hddm.HDDMRegressor(D_L_C_N, reg_descr, include='z')\n",
    "D_L_C_N_vm.find_starting_values()\n",
    "D_L_C_N_vm.sample(2000, burn=20, dbname='traces.db', db='pickle')"
   ]
  },
  {
   "cell_type": "markdown",
   "metadata": {},
   "source": [
    "### model 3: z only"
   ]
  },
  {
   "cell_type": "code",
   "execution_count": 7,
   "metadata": {},
   "outputs": [
    {
     "name": "stdout",
     "output_type": "stream",
     "text": [
      "Adding these covariates:\n",
      "['a_Intercept', \"a_C(turn_type, Treatment('Sham'))[T.Left cTBS]\"]\n",
      "Adding these covariates:\n",
      "['v_Intercept', \"v_C(turn_type, Treatment('Sham'))[T.Left cTBS]\"]\n",
      "Adding these covariates:\n",
      "['z_Intercept', \"z_step_att:C(turn_type, Treatment('Sham'))[Left cTBS]\", \"z_step_att:C(turn_type, Treatment('Sham'))[Sham]\"]\n",
      " [-----------------100%-----------------] 2001 of 2000 complete in 4468.7 sec"
     ]
    },
    {
     "data": {
      "text/plain": [
       "<pymc.MCMC.MCMC at 0x7fcfa81e9fd0>"
      ]
     },
     "execution_count": 7,
     "metadata": {},
     "output_type": "execute_result"
    }
   ],
   "source": [
    "a_reg = {'model': \"a ~ 1 + C(turn_type, Treatment('Sham'))\",'link_func': lambda x: x}\n",
    "v_reg = {'model': \"v ~ 1 + C(turn_type, Treatment('Sham'))\",'link_func': lambda x: x}\n",
    "z_reg = {'model': \"z ~ 1 + step_att:C(turn_type, Treatment('Sham'))\",'link_func': lambda x: x}\n",
    "reg_descr = [a_reg,v_reg,z_reg]\n",
    "D_L_C_N_zm = hddm.HDDMRegressor(D_L_C_N, reg_descr, include='z')\n",
    "D_L_C_N_zm.find_starting_values()\n",
    "D_L_C_N_zm.sample(2000, burn=20, dbname='traces.db', db='pickle')"
   ]
  },
  {
   "cell_type": "markdown",
   "metadata": {},
   "source": [
    "### model 4: a + v"
   ]
  },
  {
   "cell_type": "code",
   "execution_count": 8,
   "metadata": {},
   "outputs": [
    {
     "name": "stdout",
     "output_type": "stream",
     "text": [
      "Adding these covariates:\n",
      "['a_Intercept', \"a_step_att:C(turn_type, Treatment('Sham'))[Left cTBS]\", \"a_step_att:C(turn_type, Treatment('Sham'))[Sham]\"]\n",
      "Adding these covariates:\n",
      "['v_Intercept', \"v_step_att:C(turn_type, Treatment('Sham'))[Left cTBS]\", \"v_step_att:C(turn_type, Treatment('Sham'))[Sham]\"]\n",
      "Adding these covariates:\n",
      "['z_Intercept', \"z_C(turn_type, Treatment('Sham'))[T.Left cTBS]\"]\n",
      " [-----------------100%-----------------] 2001 of 2000 complete in 4747.9 sec"
     ]
    },
    {
     "data": {
      "text/plain": [
       "<pymc.MCMC.MCMC at 0x7fcfa06d1850>"
      ]
     },
     "execution_count": 8,
     "metadata": {},
     "output_type": "execute_result"
    }
   ],
   "source": [
    "a_reg = {'model': \"a ~ 1 + step_att:C(turn_type, Treatment('Sham'))\",'link_func': lambda x: x}\n",
    "v_reg = {'model': \"v ~ 1 + step_att:C(turn_type, Treatment('Sham'))\",'link_func': lambda x: x}\n",
    "z_reg = {'model': \"z ~ 1 + C(turn_type, Treatment('Sham'))\",'link_func': lambda x: x}\n",
    "reg_descr = [a_reg,v_reg,z_reg]\n",
    "D_L_C_N_avm = hddm.HDDMRegressor(D_L_C_N, reg_descr, include='z')\n",
    "D_L_C_N_avm.find_starting_values()\n",
    "D_L_C_N_avm.sample(2000, burn=20, dbname='traces.db', db='pickle')"
   ]
  },
  {
   "cell_type": "markdown",
   "metadata": {},
   "source": [
    "### model 5: a + z"
   ]
  },
  {
   "cell_type": "code",
   "execution_count": 9,
   "metadata": {},
   "outputs": [
    {
     "name": "stdout",
     "output_type": "stream",
     "text": [
      "Adding these covariates:\n",
      "['a_Intercept', \"a_step_att:C(turn_type, Treatment('Sham'))[Left cTBS]\", \"a_step_att:C(turn_type, Treatment('Sham'))[Sham]\"]\n",
      "Adding these covariates:\n",
      "['v_Intercept', \"v_C(turn_type, Treatment('Sham'))[T.Left cTBS]\"]\n",
      "Adding these covariates:\n",
      "['z_Intercept', \"z_step_att:C(turn_type, Treatment('Sham'))[Left cTBS]\", \"z_step_att:C(turn_type, Treatment('Sham'))[Sham]\"]\n",
      " [-----------------100%-----------------] 2001 of 2000 complete in 5044.7 sec"
     ]
    },
    {
     "data": {
      "text/plain": [
       "<pymc.MCMC.MCMC at 0x7fcfa0328f90>"
      ]
     },
     "execution_count": 9,
     "metadata": {},
     "output_type": "execute_result"
    }
   ],
   "source": [
    "a_reg = {'model': \"a ~ 1 + step_att:C(turn_type, Treatment('Sham'))\",'link_func': lambda x: x}\n",
    "v_reg = {'model': \"v ~ 1 + C(turn_type, Treatment('Sham'))\",'link_func': lambda x: x}\n",
    "z_reg = {'model': \"z ~ 1 + step_att:C(turn_type, Treatment('Sham'))\",'link_func': lambda x: x}\n",
    "reg_descr = [a_reg,v_reg,z_reg]\n",
    "D_L_C_N_azm = hddm.HDDMRegressor(D_L_C_N, reg_descr, include='z')\n",
    "D_L_C_N_azm.find_starting_values()\n",
    "D_L_C_N_azm.sample(2000, burn=20, dbname='traces.db', db='pickle')"
   ]
  },
  {
   "cell_type": "markdown",
   "metadata": {},
   "source": [
    "### model 6: v + z"
   ]
  },
  {
   "cell_type": "code",
   "execution_count": 10,
   "metadata": {},
   "outputs": [
    {
     "name": "stdout",
     "output_type": "stream",
     "text": [
      "Adding these covariates:\n",
      "['a_Intercept', \"a_C(turn_type, Treatment('Sham'))[T.Left cTBS]\"]\n",
      "Adding these covariates:\n",
      "['v_Intercept', \"v_step_att:C(turn_type, Treatment('Sham'))[Left cTBS]\", \"v_step_att:C(turn_type, Treatment('Sham'))[Sham]\"]\n",
      "Adding these covariates:\n",
      "['z_Intercept', \"z_step_att:C(turn_type, Treatment('Sham'))[Left cTBS]\", \"z_step_att:C(turn_type, Treatment('Sham'))[Sham]\"]\n",
      " [-----------------100%-----------------] 2001 of 2000 complete in 4818.3 sec"
     ]
    },
    {
     "data": {
      "text/plain": [
       "<pymc.MCMC.MCMC at 0x7fcf545bb610>"
      ]
     },
     "execution_count": 10,
     "metadata": {},
     "output_type": "execute_result"
    }
   ],
   "source": [
    "a_reg = {'model': \"a ~ 1 + C(turn_type, Treatment('Sham'))\",'link_func': lambda x: x}\n",
    "v_reg = {'model': \"v ~ 1 + step_att:C(turn_type, Treatment('Sham'))\",'link_func': lambda x: x}\n",
    "z_reg = {'model': \"z ~ 1 + step_att:C(turn_type, Treatment('Sham'))\",'link_func': lambda x: x}\n",
    "reg_descr = [a_reg,v_reg,z_reg]\n",
    "D_L_C_N_vzm = hddm.HDDMRegressor(D_L_C_N, reg_descr, include='z')\n",
    "D_L_C_N_vzm.find_starting_values()\n",
    "D_L_C_N_vzm.sample(2000, burn=20, dbname='traces.db', db='pickle')"
   ]
  },
  {
   "cell_type": "markdown",
   "metadata": {},
   "source": [
    "### model 7: a + v + z"
   ]
  },
  {
   "cell_type": "code",
   "execution_count": 11,
   "metadata": {},
   "outputs": [
    {
     "name": "stdout",
     "output_type": "stream",
     "text": [
      "Adding these covariates:\n",
      "['a_Intercept', \"a_step_att:C(turn_type, Treatment('Sham'))[Left cTBS]\", \"a_step_att:C(turn_type, Treatment('Sham'))[Sham]\"]\n",
      "Adding these covariates:\n",
      "['v_Intercept', \"v_step_att:C(turn_type, Treatment('Sham'))[Left cTBS]\", \"v_step_att:C(turn_type, Treatment('Sham'))[Sham]\"]\n",
      "Adding these covariates:\n",
      "['z_Intercept', \"z_step_att:C(turn_type, Treatment('Sham'))[Left cTBS]\", \"z_step_att:C(turn_type, Treatment('Sham'))[Sham]\"]\n",
      " [-----------------100%-----------------] 2001 of 2000 complete in 5418.4 secWARNING: Will not save custom link functions.\n",
      "WARNING: Will not save custom link functions.\n",
      "WARNING: Will not save custom link functions.\n"
     ]
    }
   ],
   "source": [
    "a_reg = {'model': \"a ~ 1 + step_att:C(turn_type, Treatment('Sham'))\",'link_func': lambda x: x}\n",
    "v_reg = {'model': \"v ~ 1 + step_att:C(turn_type, Treatment('Sham'))\",'link_func': lambda x: x}\n",
    "z_reg = {'model': \"z ~ 1 + step_att:C(turn_type, Treatment('Sham'))\",'link_func': lambda x: x}\n",
    "reg_descr = [a_reg,v_reg,z_reg]\n",
    "D_L_C_N_fm = hddm.HDDMRegressor(D_L_C_N, reg_descr, include='z')\n",
    "D_L_C_N_fm.find_starting_values()\n",
    "D_L_C_N_fm.sample(2000, burn=20, dbname='traces.db', db='pickle')\n",
    "D_L_C_N_fm.save('D_L_C_N_fm')"
   ]
  },
  {
   "cell_type": "markdown",
   "metadata": {},
   "source": [
    "### Model comparison"
   ]
  },
  {
   "cell_type": "code",
   "execution_count": 23,
   "metadata": {},
   "outputs": [
    {
     "name": "stdout",
     "output_type": "stream",
     "text": [
      "baseline model DIC: 6091.544527\n",
      "a model DIC: 6077.999814\n",
      "v model DIC: 6048.535619\n",
      "z model DIC: 6079.182229\n",
      "av model DIC: 6032.209239\n",
      "az model DIC: 6063.366383\n",
      "vz model DIC: 6047.341326\n",
      "full model DIC: 6032.860223\n"
     ]
    },
    {
     "data": {
      "image/png": "[encoded data removed]",
      "text/plain": [
       "<Figure size 130.394x63.7795 with 1 Axes>"
      ]
     },
     "metadata": {
      "needs_background": "light"
     },
     "output_type": "display_data"
    }
   ],
   "source": [
    "print(\"baseline model DIC: %f\" % D_L_C_N_bsl.dic)\n",
    "print(\"a model DIC: %f\" % D_L_C_N_am.dic)\n",
    "print(\"v model DIC: %f\" % D_L_C_N_vm.dic)\n",
    "print(\"z model DIC: %f\" % D_L_C_N_zm.dic)\n",
    "print(\"av model DIC: %f\" % D_L_C_N_avm.dic)\n",
    "print(\"az model DIC: %f\" % D_L_C_N_azm.dic)\n",
    "print(\"vz model DIC: %f\" % D_L_C_N_vzm.dic)\n",
    "print(\"full model DIC: %f\" % D_L_C_N_fm.dic)\n",
    "\n",
    "fig, ax = plt.subplots()\n",
    "\n",
    "fruits = ['baseline', 'a', 'v', 'z', 'av', 'az', 'vz','full']\n",
    "counts = [D_L_C_N_bsl.dic, D_L_C_N_am.dic, D_L_C_N_vm.dic, D_L_C_N_zm.dic,D_L_C_N_avm.dic,D_L_C_N_azm.dic,D_L_C_N_vzm.dic,D_L_C_N_fm.dic]\n",
    "\n",
    "D_name='D_L_C_N'\n",
    "\n",
    "ax.bar(fruits, counts,color=[197./255,158./255,226./255],edgecolor='black',linewidth=0.5)\n",
    "\n",
    "plt.rcParams['savefig.dpi']=300\n",
    "plt.rcParams['axes.linewidth']=0.5\n",
    "\n",
    "#ax.set_ylabel('DIC value')\n",
    "#ax.set_title('TBS: Left cTBS consonant quiet')\n",
    "ax.set_ylim([6000,6100])\n",
    "ytick_plot=range(6000,6100,10)\n",
    "ytick_plot.append(6100)\n",
    "ax.set_yticks(ytick_plot)\n",
    "ax.spines['right'].set_visible(False)\n",
    "ax.spines['top'].set_visible(False)\n",
    "\n",
    "fig.set_size_inches(4.6*cm,2.25*cm)\n",
    "ax.tick_params('both',which='major',direction='in',width=0.5,length=2)\n",
    "plt.rcParams['font.size']=5\n",
    "plt.rcParams['font.family']='Arial'\n",
    "plt.savefig(D_name+'_interact_M_compare.pdf',bbox_inches = 'tight',transparent=True)\n",
    "plt.show()"
   ]
  },
  {
   "cell_type": "markdown",
   "metadata": {},
   "source": [
    "### Plotting"
   ]
  },
  {
   "cell_type": "code",
   "execution_count": 13,
   "metadata": {},
   "outputs": [
    {
     "data": {
      "image/png": "[encoded data removed]",
      "text/plain": [
       "<Figure size 432x288 with 1 Axes>"
      ]
     },
     "metadata": {
      "needs_background": "light"
     },
     "output_type": "display_data"
    },
    {
     "data": {
      "image/png": "[encoded data removed]",
      "text/plain": [
       "<Figure size 432x288 with 1 Axes>"
      ]
     },
     "metadata": {
      "needs_background": "light"
     },
     "output_type": "display_data"
    },
    {
     "data": {
      "image/png": "[encoded data removed]",
      "text/plain": [
       "<Figure size 432x288 with 1 Axes>"
      ]
     },
     "metadata": {
      "needs_background": "light"
     },
     "output_type": "display_data"
    },
    {
     "data": {
      "image/png": "[encoded data removed]",
      "text/plain": [
       "<Figure size 288x288 with 1 Axes>"
      ]
     },
     "metadata": {
      "needs_background": "light"
     },
     "output_type": "display_data"
    },
    {
     "name": "stdout",
     "output_type": "stream",
     "text": [
      "('P(a > Sham) = ', 1.0)\n",
      "('P(v > Sham) = ', 1.0)\n",
      "('P(z > Sham) = ', 0.03585858585858586)\n"
     ]
    }
   ],
   "source": [
    "a_Intercept,a_cTBS = D_L_C_N_fm.nodes_db.loc[[\"a_Intercept\",\"a_step_att:C(turn_type, Treatment('Sham'))[Left cTBS]\"], 'node']\n",
    "hddm.analyze.plot_posterior_nodes([a_Intercept,a_cTBS])\n",
    "plt.xlabel('boundary')\n",
    "plt.ylabel('Posterior probability')\n",
    "plt.title('Full model')\n",
    "\n",
    "v_Intercept,v_cTBS = D_L_C_N_fm.nodes_db.loc[[\"v_Intercept\",\"v_step_att:C(turn_type, Treatment('Sham'))[Left cTBS]\"], 'node']\n",
    "hddm.analyze.plot_posterior_nodes([v_Intercept,v_cTBS])\n",
    "plt.xlabel('drift-rate')\n",
    "plt.ylabel('Posterior probability')\n",
    "plt.title('Full model')\n",
    "\n",
    "z_Intercept,z_cTBS = D_L_C_N_fm.nodes_db.loc[[\"z_Intercept\",\"z_step_att:C(turn_type, Treatment('Sham'))[Left cTBS]\"], 'node']\n",
    "hddm.analyze.plot_posterior_nodes([z_Intercept,z_cTBS])\n",
    "plt.xlabel('starting point')\n",
    "plt.ylabel('Posterior probability')\n",
    "plt.title('Full model')\n",
    "\n",
    "\n",
    "fig, ax = plt.subplots()\n",
    "fig.set_size_inches(4,4)\n",
    "\n",
    "para_tag=['AMBstep:a','AMBstep:v','AMBstep:z']\n",
    "counts = [a_cTBS.trace()/(max(a_cTBS.trace())-min(a_cTBS.trace())),v_cTBS.trace()/(max(v_cTBS.trace())-min(v_cTBS.trace())),z_cTBS.trace()/(max(z_cTBS.trace())-min(z_cTBS.trace()))]\n",
    "\n",
    "ax.axhline(y = 0, color =\"green\", linestyle =\"--\")\n",
    "ax.violinplot(counts)\n",
    "ax.set_xticks([1,2,3])\n",
    "ax.set_xticklabels(para_tag)\n",
    "ax.set_ylim([-4,4])\n",
    "ax.set_title('Full model: Left cTBS consonant noise')\n",
    "ax.set_ylabel('Regression coef (normalized)')\n",
    "ax.spines['right'].set_visible(False)\n",
    "ax.spines['top'].set_visible(False)\n",
    "\n",
    "plt.show()\n",
    "\n",
    "print(\"P(a > Sham) = \", (a_cTBS.trace() > 0).mean())\n",
    "print(\"P(v > Sham) = \", (v_cTBS.trace() > 0).mean())\n",
    "print(\"P(z > Sham) = \", (z_cTBS.trace() > 0).mean())"
   ]
  },
  {
   "cell_type": "markdown",
   "metadata": {},
   "source": [
    "### check full model simulation prediction accuracy"
   ]
  },
  {
   "cell_type": "markdown",
   "metadata": {},
   "source": [
    "#### fit the full model"
   ]
  },
  {
   "cell_type": "code",
   "execution_count": 14,
   "metadata": {},
   "outputs": [
    {
     "name": "stdout",
     "output_type": "stream",
     "text": [
      "Adding these covariates:\n",
      "['a_Intercept', \"a_step_att:C(turn_type, Treatment('Sham'))[Left cTBS]\", \"a_step_att:C(turn_type, Treatment('Sham'))[Sham]\"]\n",
      "Adding these covariates:\n",
      "['v_Intercept', \"v_step_att:C(turn_type, Treatment('Sham'))[Left cTBS]\", \"v_step_att:C(turn_type, Treatment('Sham'))[Sham]\"]\n",
      "Adding these covariates:\n",
      "['z_Intercept', \"z_step_att:C(turn_type, Treatment('Sham'))[Left cTBS]\", \"z_step_att:C(turn_type, Treatment('Sham'))[Sham]\"]\n",
      " [-----------------100%-----------------] 2001 of 2000 complete in 5439.5 sec"
     ]
    },
    {
     "data": {
      "text/plain": [
       "<pymc.MCMC.MCMC at 0x7fcf36e60d90>"
      ]
     },
     "execution_count": 14,
     "metadata": {},
     "output_type": "execute_result"
    }
   ],
   "source": [
    "fm_data_2=D_L_C_N\n",
    "fm_data_2.reset_index(inplace = True, drop = True)\n",
    "a_reg = {'model': \"a ~ 1 + step_att:C(turn_type, Treatment('Sham'))\",'link_func': lambda x: x}\n",
    "v_reg = {'model': \"v ~ 1 + step_att:C(turn_type, Treatment('Sham'))\",'link_func': lambda x: x}\n",
    "z_reg = {'model': \"z ~ 1 + step_att:C(turn_type, Treatment('Sham'))\",'link_func': lambda x: x}\n",
    "reg_descr = [a_reg,v_reg,z_reg]\n",
    "fm_2 = hddm.HDDMRegressor(fm_data_2, reg_descr, include='z')\n",
    "fm_2.find_starting_values()\n",
    "fm_2.sample(2000, burn=20, dbname='traces.db', db='pickle')"
   ]
  },
  {
   "cell_type": "markdown",
   "metadata": {},
   "source": [
    "#### predict data from simulated data derived from full model"
   ]
  },
  {
   "cell_type": "code",
   "execution_count": 15,
   "metadata": {},
   "outputs": [
    {
     "name": "stdout",
     "output_type": "stream",
     "text": [
      " [-------------------112%-------------------] 28 of 25 complete in 23761.3 sec"
     ]
    },
    {
     "data": {
      "text/html": [
       "<div>\n",
       "<style scoped>\n",
       "    .dataframe tbody tr th:only-of-type {\n",
       "        vertical-align: middle;\n",
       "    }\n",
       "\n",
       "    .dataframe tbody tr th {\n",
       "        vertical-align: top;\n",
       "    }\n",
       "\n",
       "    .dataframe thead th {\n",
       "        text-align: right;\n",
       "    }\n",
       "</style>\n",
       "<table border=\"1\" class=\"dataframe\">\n",
       "  <thead>\n",
       "    <tr style=\"text-align: right;\">\n",
       "      <th></th>\n",
       "      <th>observed</th>\n",
       "      <th>mean</th>\n",
       "      <th>std</th>\n",
       "      <th>SEM</th>\n",
       "      <th>MSE</th>\n",
       "      <th>credible</th>\n",
       "      <th>quantile</th>\n",
       "      <th>mahalanobis</th>\n",
       "    </tr>\n",
       "    <tr>\n",
       "      <th>stat</th>\n",
       "      <th></th>\n",
       "      <th></th>\n",
       "      <th></th>\n",
       "      <th></th>\n",
       "      <th></th>\n",
       "      <th></th>\n",
       "      <th></th>\n",
       "      <th></th>\n",
       "    </tr>\n",
       "  </thead>\n",
       "  <tbody>\n",
       "    <tr>\n",
       "      <th>accuracy</th>\n",
       "      <td>0.549487</td>\n",
       "      <td>0.552921</td>\n",
       "      <td>0.173268</td>\n",
       "      <td>0.000012</td>\n",
       "      <td>0.030033</td>\n",
       "      <td>True</td>\n",
       "      <td>50.896000</td>\n",
       "      <td>0.019817</td>\n",
       "    </tr>\n",
       "    <tr>\n",
       "      <th>mean_ub</th>\n",
       "      <td>0.696942</td>\n",
       "      <td>0.722596</td>\n",
       "      <td>0.123601</td>\n",
       "      <td>0.000658</td>\n",
       "      <td>0.015935</td>\n",
       "      <td>True</td>\n",
       "      <td>48.032001</td>\n",
       "      <td>0.207553</td>\n",
       "    </tr>\n",
       "    <tr>\n",
       "      <th>std_ub</th>\n",
       "      <td>0.271496</td>\n",
       "      <td>0.253603</td>\n",
       "      <td>0.069797</td>\n",
       "      <td>0.000320</td>\n",
       "      <td>0.005192</td>\n",
       "      <td>True</td>\n",
       "      <td>62.759998</td>\n",
       "      <td>0.256363</td>\n",
       "    </tr>\n",
       "    <tr>\n",
       "      <th>10q_ub</th>\n",
       "      <td>0.454424</td>\n",
       "      <td>0.495210</td>\n",
       "      <td>0.093105</td>\n",
       "      <td>0.001664</td>\n",
       "      <td>0.010332</td>\n",
       "      <td>True</td>\n",
       "      <td>40.192001</td>\n",
       "      <td>0.438066</td>\n",
       "    </tr>\n",
       "    <tr>\n",
       "      <th>30q_ub</th>\n",
       "      <td>0.559511</td>\n",
       "      <td>0.562151</td>\n",
       "      <td>0.100381</td>\n",
       "      <td>0.000007</td>\n",
       "      <td>0.010083</td>\n",
       "      <td>True</td>\n",
       "      <td>53.551998</td>\n",
       "      <td>0.026303</td>\n",
       "    </tr>\n",
       "    <tr>\n",
       "      <th>50q_ub</th>\n",
       "      <td>0.643323</td>\n",
       "      <td>0.645871</td>\n",
       "      <td>0.112046</td>\n",
       "      <td>0.000006</td>\n",
       "      <td>0.012561</td>\n",
       "      <td>True</td>\n",
       "      <td>51.992001</td>\n",
       "      <td>0.022735</td>\n",
       "    </tr>\n",
       "    <tr>\n",
       "      <th>70q_ub</th>\n",
       "      <td>0.743101</td>\n",
       "      <td>0.773665</td>\n",
       "      <td>0.134823</td>\n",
       "      <td>0.000934</td>\n",
       "      <td>0.019111</td>\n",
       "      <td>True</td>\n",
       "      <td>47.175999</td>\n",
       "      <td>0.226697</td>\n",
       "    </tr>\n",
       "    <tr>\n",
       "      <th>90q_ub</th>\n",
       "      <td>0.983870</td>\n",
       "      <td>1.048815</td>\n",
       "      <td>0.196147</td>\n",
       "      <td>0.004218</td>\n",
       "      <td>0.042692</td>\n",
       "      <td>True</td>\n",
       "      <td>44.408001</td>\n",
       "      <td>0.331107</td>\n",
       "    </tr>\n",
       "    <tr>\n",
       "      <th>mean_lb</th>\n",
       "      <td>-0.730530</td>\n",
       "      <td>-0.742862</td>\n",
       "      <td>0.126428</td>\n",
       "      <td>0.000152</td>\n",
       "      <td>0.016136</td>\n",
       "      <td>True</td>\n",
       "      <td>52.056000</td>\n",
       "      <td>0.097541</td>\n",
       "    </tr>\n",
       "    <tr>\n",
       "      <th>std_lb</th>\n",
       "      <td>0.262669</td>\n",
       "      <td>0.254345</td>\n",
       "      <td>0.072842</td>\n",
       "      <td>0.000069</td>\n",
       "      <td>0.005375</td>\n",
       "      <td>True</td>\n",
       "      <td>58.655998</td>\n",
       "      <td>0.114273</td>\n",
       "    </tr>\n",
       "    <tr>\n",
       "      <th>10q_lb</th>\n",
       "      <td>0.488984</td>\n",
       "      <td>0.509747</td>\n",
       "      <td>0.092036</td>\n",
       "      <td>0.000431</td>\n",
       "      <td>0.008902</td>\n",
       "      <td>True</td>\n",
       "      <td>45.040001</td>\n",
       "      <td>0.225597</td>\n",
       "    </tr>\n",
       "    <tr>\n",
       "      <th>30q_lb</th>\n",
       "      <td>0.606077</td>\n",
       "      <td>0.581985</td>\n",
       "      <td>0.100624</td>\n",
       "      <td>0.000580</td>\n",
       "      <td>0.010706</td>\n",
       "      <td>True</td>\n",
       "      <td>58.992001</td>\n",
       "      <td>0.239418</td>\n",
       "    </tr>\n",
       "    <tr>\n",
       "      <th>50q_lb</th>\n",
       "      <td>0.686651</td>\n",
       "      <td>0.668906</td>\n",
       "      <td>0.114476</td>\n",
       "      <td>0.000315</td>\n",
       "      <td>0.013420</td>\n",
       "      <td>True</td>\n",
       "      <td>57.824001</td>\n",
       "      <td>0.155008</td>\n",
       "    </tr>\n",
       "    <tr>\n",
       "      <th>70q_lb</th>\n",
       "      <td>0.784078</td>\n",
       "      <td>0.797988</td>\n",
       "      <td>0.139735</td>\n",
       "      <td>0.000193</td>\n",
       "      <td>0.019719</td>\n",
       "      <td>True</td>\n",
       "      <td>50.040001</td>\n",
       "      <td>0.099546</td>\n",
       "    </tr>\n",
       "    <tr>\n",
       "      <th>90q_lb</th>\n",
       "      <td>1.006047</td>\n",
       "      <td>1.069931</td>\n",
       "      <td>0.206152</td>\n",
       "      <td>0.004081</td>\n",
       "      <td>0.046580</td>\n",
       "      <td>True</td>\n",
       "      <td>44.568001</td>\n",
       "      <td>0.309888</td>\n",
       "    </tr>\n",
       "  </tbody>\n",
       "</table>\n",
       "</div>"
      ],
      "text/plain": [
       "          observed      mean       std       SEM       MSE credible  \\\n",
       "stat                                                                  \n",
       "accuracy  0.549487  0.552921  0.173268  0.000012  0.030033     True   \n",
       "mean_ub   0.696942  0.722596  0.123601  0.000658  0.015935     True   \n",
       "std_ub    0.271496  0.253603  0.069797  0.000320  0.005192     True   \n",
       "10q_ub    0.454424  0.495210  0.093105  0.001664  0.010332     True   \n",
       "30q_ub    0.559511  0.562151  0.100381  0.000007  0.010083     True   \n",
       "50q_ub    0.643323  0.645871  0.112046  0.000006  0.012561     True   \n",
       "70q_ub    0.743101  0.773665  0.134823  0.000934  0.019111     True   \n",
       "90q_ub    0.983870  1.048815  0.196147  0.004218  0.042692     True   \n",
       "mean_lb  -0.730530 -0.742862  0.126428  0.000152  0.016136     True   \n",
       "std_lb    0.262669  0.254345  0.072842  0.000069  0.005375     True   \n",
       "10q_lb    0.488984  0.509747  0.092036  0.000431  0.008902     True   \n",
       "30q_lb    0.606077  0.581985  0.100624  0.000580  0.010706     True   \n",
       "50q_lb    0.686651  0.668906  0.114476  0.000315  0.013420     True   \n",
       "70q_lb    0.784078  0.797988  0.139735  0.000193  0.019719     True   \n",
       "90q_lb    1.006047  1.069931  0.206152  0.004081  0.046580     True   \n",
       "\n",
       "           quantile  mahalanobis  \n",
       "stat                              \n",
       "accuracy  50.896000     0.019817  \n",
       "mean_ub   48.032001     0.207553  \n",
       "std_ub    62.759998     0.256363  \n",
       "10q_ub    40.192001     0.438066  \n",
       "30q_ub    53.551998     0.026303  \n",
       "50q_ub    51.992001     0.022735  \n",
       "70q_ub    47.175999     0.226697  \n",
       "90q_ub    44.408001     0.331107  \n",
       "mean_lb   52.056000     0.097541  \n",
       "std_lb    58.655998     0.114273  \n",
       "10q_lb    45.040001     0.225597  \n",
       "30q_lb    58.992001     0.239418  \n",
       "50q_lb    57.824001     0.155008  \n",
       "70q_lb    50.040001     0.099546  \n",
       "90q_lb    44.568001     0.309888  "
      ]
     },
     "execution_count": 15,
     "metadata": {},
     "output_type": "execute_result"
    }
   ],
   "source": [
    "fm_data_2_sim = hddm.utils.post_pred_gen(fm_2)\n",
    "hddm.utils.post_pred_stats(fm_data_2, fm_data_2_sim)"
   ]
  }
 ],
 "metadata": {
  "kernelspec": {
   "display_name": "Python 2.7.18 ('bsliang_DDM_27': conda)",
   "language": "python",
   "name": "python3"
  },
  "language_info": {
   "codemirror_mode": {
    "name": "ipython",
    "version": 2
   },
   "file_extension": ".py",
   "mimetype": "text/x-python",
   "name": "python",
   "nbconvert_exporter": "python",
   "pygments_lexer": "ipython2",
   "version": "2.7.18"
  },
  "orig_nbformat": 4,
  "vscode": {
   "interpreter": {
    "hash": "800a09db568ebe80aacfc1bc086e45a31a7cff3ccaf522d8b640d0dfbe2b8801"
   }
  }
 },
 "nbformat": 4,
 "nbformat_minor": 2
}
